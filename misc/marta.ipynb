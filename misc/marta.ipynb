{
 "cells": [
  {
   "cell_type": "code",
   "execution_count": 5,
   "metadata": {
    "ExecuteTime": {
     "end_time": "2018-11-20T23:55:17.378601Z",
     "start_time": "2018-11-20T23:55:17.200660Z"
    },
    "scrolled": false
   },
   "outputs": [
    {
     "name": "stderr",
     "output_type": "stream",
     "text": [
      "  % Total    % Received % Xferd  Average Speed   Time    Time     Time  Current\n",
      "                                 Dload  Upload   Total   Spent    Left  Speed\n",
      "\r",
      "  0     0    0     0    0     0      0      0 --:--:-- --:--:-- --:--:--     0\r",
      "100  1267  100  1267    0     0   1267      0  0:00:01 --:--:--  0:00:01 74529\n",
      "  % Total    % Received % Xferd  Average Speed   Time    Time     Time  Current\n",
      "                                 Dload  Upload   Total   Spent    Left  Speed\n",
      "\r",
      "  0     0    0     0    0     0      0      0 --:--:-- --:--:-- --:--:--     0\r",
      "100  1277  100  1277    0     0   1277      0  0:00:01 --:--:--  0:00:01 58045\n",
      "  % Total    % Received % Xferd  Average Speed   Time    Time     Time  Current\n",
      "                                 Dload  Upload   Total   Spent    Left  Speed\n",
      "\r",
      "  0     0    0     0    0     0      0      0 --:--:-- --:--:-- --:--:--     0\r",
      "100  1247  100  1247    0     0   1247      0  0:00:01 --:--:--  0:00:01 49880\n",
      "  % Total    % Received % Xferd  Average Speed   Time    Time     Time  Current\n",
      "                                 Dload  Upload   Total   Spent    Left  Speed\n",
      "\r",
      "  0     0    0     0    0     0      0      0 --:--:-- --:--:-- --:--:--     0\r",
      "100  1271  100  1271    0     0   1271      0  0:00:01 --:--:--  0:00:01 41000\n"
     ]
    }
   ],
   "source": [
    "%%bash\n",
    "\n",
    "curl -O http://eagle.fish.washington.edu/fish546/marta/VMP100_PTR_F2_G06.ab1.fastq\n",
    "curl -O http://eagle.fish.washington.edu/fish546/marta/VMP114_PTR_F2_E01.ab1.fastq\n",
    "curl -O http://eagle.fish.washington.edu/fish546/marta/VMP113_PTR_F2_D01.ab1.fastq\n",
    "curl -O http://eagle.fish.washington.edu/fish546/marta/VMP111_PTR_F2_B01.ab1.fastq\n",
    "\n",
    "\n",
    "find *ab1* \\\n",
    "| xargs basename -s .fastq | \\\n",
    "xargs -I{} blastn \\\n",
    "-task blastn \\\n",
    "-query {}.fastq \\\n",
    "-db nt \\\n",
    "-out {}_blastn_nt.tab \\\n",
    "-evalue 1e-20 \\\n",
    "-max_target_seqs 1 \\\n",
    "-outfmt 6 \\\n",
    "-num_threads 28\n",
    "\n"
   ]
  },
  {
   "cell_type": "code",
   "execution_count": 7,
   "metadata": {
    "ExecuteTime": {
     "end_time": "2018-11-20T23:58:23.862131Z",
     "start_time": "2018-11-20T23:58:23.833817Z"
    }
   },
   "outputs": [
    {
     "name": "stdout",
     "output_type": "stream",
     "text": [
      "VMP100_PTR_F2_G06.ab1\n",
      "VMP111_PTR_F2_B01.ab1\n",
      "VMP113_PTR_F2_D01.ab1\n",
      "VMP114_PTR_F2_E01.ab1\n"
     ]
    }
   ],
   "source": [
    "%%bash\n",
    "find *ab1* \\\n",
    "| xargs basename -s .fastq "
   ]
  },
  {
   "cell_type": "code",
   "execution_count": null,
   "metadata": {},
   "outputs": [],
   "source": []
  }
 ],
 "metadata": {
  "kernelspec": {
   "display_name": "Python 3",
   "language": "python",
   "name": "python3"
  },
  "language_info": {
   "codemirror_mode": {
    "name": "ipython",
    "version": 3
   },
   "file_extension": ".py",
   "mimetype": "text/x-python",
   "name": "python",
   "nbconvert_exporter": "python",
   "pygments_lexer": "ipython3",
   "version": "3.6.3"
  }
 },
 "nbformat": 4,
 "nbformat_minor": 2
}
