{
 "cells": [
  {
   "cell_type": "markdown",
   "metadata": {},
   "source": [
    "## A notebook to seamlessly take blast output to GO Slim list"
   ]
  },
  {
   "cell_type": "markdown",
   "metadata": {
    "collapsed": true
   },
   "source": [
    "This is a notebook meant to run in a working directory. Please set working directory as variable in next cell"
   ]
  },
  {
   "cell_type": "code",
   "execution_count": 11,
   "metadata": {
    "ExecuteTime": {
     "end_time": "2018-10-01T00:47:34.310375Z",
     "start_time": "2018-10-01T00:47:34.177693Z"
    }
   },
   "outputs": [],
   "source": [
    "!mkdir /Users/sr320/Documents/GitHub/nb-2018/C_virginica/analyses/0930b/"
   ]
  },
  {
   "cell_type": "code",
   "execution_count": 12,
   "metadata": {
    "ExecuteTime": {
     "end_time": "2018-10-01T00:47:36.103814Z",
     "start_time": "2018-10-01T00:47:36.097348Z"
    }
   },
   "outputs": [],
   "source": [
    "wd=\"/Users/sr320/Documents/GitHub/nb-2018/C_virginica/analyses/0930b/\"\n"
   ]
  },
  {
   "cell_type": "code",
   "execution_count": 13,
   "metadata": {
    "ExecuteTime": {
     "end_time": "2018-10-01T00:47:36.639298Z",
     "start_time": "2018-10-01T00:47:36.628827Z"
    }
   },
   "outputs": [
    {
     "name": "stdout",
     "output_type": "stream",
     "text": [
      "/Users/sr320/Documents/GitHub/nb-2018/C_virginica/analyses/0930b\n"
     ]
    }
   ],
   "source": [
    "cd $wd"
   ]
  },
  {
   "cell_type": "markdown",
   "metadata": {},
   "source": [
    "### In this directory you will need three files\n",
    "1) blastout file in format `-6`    \n",
    "2) Uniprot GO annotation file (340M) available here `http://owl.fish.washington.edu/halfshell/bu-alanine-wd/17-07-20/uniprot-SP-GO.sorted`    \n",
    "3) GOslim file available here `http://owl.fish.washington.edu/halfshell/bu-alanine-wd/17-07-20/GO-GOslim.sorted`"
   ]
  },
  {
   "cell_type": "code",
   "execution_count": 35,
   "metadata": {
    "ExecuteTime": {
     "end_time": "2018-10-01T01:05:15.180519Z",
     "start_time": "2018-10-01T01:04:08.326810Z"
    }
   },
   "outputs": [
    {
     "name": "stdout",
     "output_type": "stream",
     "text": [
      "  % Total    % Received % Xferd  Average Speed   Time    Time     Time  Current\n",
      "                                 Dload  Upload   Total   Spent    Left  Speed\n",
      "100  340M  100  340M    0     0  5281k      0  0:01:06  0:01:06 --:--:-- 5540k 0     0  5550k      0  0:01:02  0:00:31  0:00:31 6442k\n"
     ]
    }
   ],
   "source": [
    "!curl -O http://owl.fish.washington.edu/halfshell/bu-alanine-wd/17-07-20/uniprot-SP-GO.sorted"
   ]
  },
  {
   "cell_type": "code",
   "execution_count": 36,
   "metadata": {
    "ExecuteTime": {
     "end_time": "2018-10-01T01:05:16.082221Z",
     "start_time": "2018-10-01T01:05:15.187738Z"
    }
   },
   "outputs": [
    {
     "name": "stdout",
     "output_type": "stream",
     "text": [
      "  % Total    % Received % Xferd  Average Speed   Time    Time     Time  Current\n",
      "                                 Dload  Upload   Total   Spent    Left  Speed\n",
      "100 2314k  100 2314k    0     0  2314k      0  0:00:01 --:--:--  0:00:01 3093k\n"
     ]
    }
   ],
   "source": [
    "!curl -O http://owl.fish.washington.edu/halfshell/bu-alanine-wd/17-07-20/GO-GOslim.sorted"
   ]
  },
  {
   "cell_type": "code",
   "execution_count": 19,
   "metadata": {
    "ExecuteTime": {
     "end_time": "2018-10-01T00:54:24.491760Z",
     "start_time": "2018-10-01T00:54:23.460989Z"
    }
   },
   "outputs": [
    {
     "name": "stdout",
     "output_type": "stream",
     "text": [
      "lcl|NC_035780.1_cds_XP_022327646.1_1\tsp|Q8IV45|UN5CL_HUMAN\t33.403\t479\t270\t8\t451\t1878\t78\t510\t6.28e-77\t258\n",
      "lcl|NC_035780.1_cds_XP_022327646.1_1\tsp|Q6R653|UN5CL_MOUSE\t34.735\t452\t249\t6\t511\t1863\t99\t505\t5.88e-76\t255\n",
      "lcl|NC_035780.1_cds_XP_022327646.1_1\tsp|Q8K1S3|UNC5B_MOUSE\t26.157\t432\t266\t12\t523\t1788\t544\t932\t6.28e-28\t124\n",
      "lcl|NC_035780.1_cds_XP_022327646.1_1\tsp|Q8IZJ1|UNC5B_HUMAN\t25.107\t466\t286\t14\t445\t1788\t512\t932\t1.39e-27\t122\n",
      "lcl|NC_035780.1_cds_XP_022327646.1_1\tsp|O08722|UNC5B_RAT\t25.926\t432\t267\t12\t523\t1788\t544\t932\t1.64e-27\t122\n",
      "lcl|NC_035780.1_cds_XP_022327646.1_1\tsp|Q7T2Z5|UNC5C_CHICK\t26.959\t434\t259\t15\t544\t1812\t538\t924\t5.99e-27\t120\n",
      "lcl|NC_035780.1_cds_XP_022327646.1_1\tsp|Q761X5|UNC5C_RAT\t27.083\t432\t261\t16\t544\t1812\t538\t924\t2.99e-26\t118\n",
      "lcl|NC_035780.1_cds_XP_022327646.1_1\tsp|O08747|UNC5C_MOUSE\t27.083\t432\t261\t16\t544\t1812\t538\t924\t3.54e-26\t118\n",
      "lcl|NC_035780.1_cds_XP_022327646.1_1\tsp|O95185|UNC5C_HUMAN\t26.959\t434\t259\t17\t544\t1812\t538\t924\t3.95e-25\t115\n",
      "lcl|NC_035780.1_cds_XP_022327646.1_1\tsp|C5IAW9|UN5BB_XENLA\t26.267\t434\t262\t14\t523\t1788\t542\t929\t1.51e-24\t113\n",
      " 8804377 Cvcds_from_genomic_sprot.blastout\n"
     ]
    }
   ],
   "source": [
    "!head Cvcds_from_genomic_sprot.blastout\n",
    "!wc -l Cvcds_from_genomic_sprot.blastout"
   ]
  },
  {
   "cell_type": "code",
   "execution_count": 20,
   "metadata": {
    "ExecuteTime": {
     "end_time": "2018-10-01T00:56:41.759604Z",
     "start_time": "2018-10-01T00:55:17.916009Z"
    }
   },
   "outputs": [
    {
     "name": "stdout",
     "output_type": "stream",
     "text": [
      "   42343\r\n"
     ]
    }
   ],
   "source": [
    "!gsort -k1,1 -k11,11n  Cvcds_from_genomic_sprot.blastout | gsort -u -k1,1 --merge | wc -l\n"
   ]
  },
  {
   "cell_type": "code",
   "execution_count": 25,
   "metadata": {
    "ExecuteTime": {
     "end_time": "2018-10-01T01:00:21.023704Z",
     "start_time": "2018-10-01T00:59:00.613305Z"
    }
   },
   "outputs": [],
   "source": [
    "!gsort -k1,1 -k12,12nr -k11,11n Cvcds_from_genomic_sprot.blastout | gsort -u -k1,1 --merge > besthit.tab"
   ]
  },
  {
   "cell_type": "code",
   "execution_count": 21,
   "metadata": {
    "ExecuteTime": {
     "end_time": "2018-10-01T00:56:42.924742Z",
     "start_time": "2018-10-01T00:56:41.763096Z"
    }
   },
   "outputs": [
    {
     "name": "stdout",
     "output_type": "stream",
     "text": [
      "   42343\r\n"
     ]
    }
   ],
   "source": [
    "!gsort -u -k1,1 --merge Cvcds_from_genomic_sprot.blastout | wc -l\n"
   ]
  },
  {
   "cell_type": "code",
   "execution_count": null,
   "metadata": {},
   "outputs": [],
   "source": []
  },
  {
   "cell_type": "code",
   "execution_count": null,
   "metadata": {},
   "outputs": [],
   "source": []
  },
  {
   "cell_type": "code",
   "execution_count": 10,
   "metadata": {
    "ExecuteTime": {
     "end_time": "2018-09-30T22:04:35.086530Z",
     "start_time": "2018-09-30T22:04:34.942139Z"
    }
   },
   "outputs": [
    {
     "name": "stdout",
     "output_type": "stream",
     "text": [
      "Blastquery-GOslim.sorted          _blast-GO-unfolded.tab2\r\n",
      "Blastquery-GOslim.tab             _blast-annot.tab\r\n",
      "Cv_sprot.blastout                 _blast-sep.tab\r\n",
      "Cvcds_from_genomic_sprot.blastout _blast-sort.tab\r\n",
      "GO-GOslim.sorted                  _intermediate.file\r\n",
      "_blast-GO-unfolded.sorted         uniprot-SP-GO.sorted\r\n",
      "_blast-GO-unfolded.tab\r\n"
     ]
    }
   ],
   "source": [
    "#checking if files in directory\n",
    "!ls "
   ]
  },
  {
   "cell_type": "markdown",
   "metadata": {},
   "source": [
    "### Set blastout file as variable"
   ]
  },
  {
   "cell_type": "code",
   "execution_count": 29,
   "metadata": {
    "ExecuteTime": {
     "end_time": "2018-10-01T01:02:39.436832Z",
     "start_time": "2018-10-01T01:02:39.431665Z"
    }
   },
   "outputs": [],
   "source": [
    "blastout=\"besthit.tab\"\n"
   ]
  },
  {
   "cell_type": "markdown",
   "metadata": {},
   "source": [
    "# That should be the last thing you have to Type!"
   ]
  },
  {
   "cell_type": "code",
   "execution_count": 30,
   "metadata": {
    "ExecuteTime": {
     "end_time": "2018-10-01T01:02:41.407480Z",
     "start_time": "2018-10-01T01:02:41.281799Z"
    }
   },
   "outputs": [
    {
     "name": "stdout",
     "output_type": "stream",
     "text": [
      "lcl|NC_007175.2_cds_YP_254649.1_60202\tsp|P12700|COX1_PARLI\t60.000\t455\t179\t2\t91\t1446\t4\t458\t5.19e-171\t496\r\n",
      "lcl|NC_007175.2_cds_YP_254650.2_60203\tsp|Q9MIY4|COX3_DANRE\t47.104\t259\t128\t4\t19\t783\t8\t261\t1.17e-53\t177\r\n"
     ]
    }
   ],
   "source": [
    "!head -2 $blastout"
   ]
  },
  {
   "cell_type": "code",
   "execution_count": 31,
   "metadata": {
    "ExecuteTime": {
     "end_time": "2018-10-01T01:02:50.591323Z",
     "start_time": "2018-10-01T01:02:50.006992Z"
    }
   },
   "outputs": [],
   "source": [
    "#convert pipes to tab\n",
    "!tr '|' '\\t' < $blastout \\\n",
    "> _blast-sep.tab"
   ]
  },
  {
   "cell_type": "code",
   "execution_count": 32,
   "metadata": {
    "ExecuteTime": {
     "end_time": "2018-10-01T01:02:55.168627Z",
     "start_time": "2018-10-01T01:02:55.046030Z"
    },
    "scrolled": true
   },
   "outputs": [
    {
     "name": "stdout",
     "output_type": "stream",
     "text": [
      "lcl\tNC_007175.2_cds_YP_254649.1_60202\tsp\tP12700\tCOX1_PARLI\t60.000\t455\t179\t2\t91\t1446\t4\t458\t5.19e-171\t496\r\n",
      "lcl\tNC_007175.2_cds_YP_254650.2_60203\tsp\tQ9MIY4\tCOX3_DANRE\t47.104\t259\t128\t4\t19\t783\t8\t261\t1.17e-53\t177\r\n"
     ]
    }
   ],
   "source": [
    "!head -2 _blast-sep.tab"
   ]
  },
  {
   "cell_type": "code",
   "execution_count": 33,
   "metadata": {
    "ExecuteTime": {
     "end_time": "2018-10-01T01:03:46.449136Z",
     "start_time": "2018-10-01T01:03:45.620776Z"
    }
   },
   "outputs": [],
   "source": [
    "#reducing number of columns and sorting \n",
    "!awk -v OFS='\\t' '{print $4, $2, $14}' < _blast-sep.tab | sort \\\n",
    "> _blast-sort.tab"
   ]
  },
  {
   "cell_type": "code",
   "execution_count": 34,
   "metadata": {
    "ExecuteTime": {
     "end_time": "2018-10-01T01:03:47.484220Z",
     "start_time": "2018-10-01T01:03:47.357493Z"
    }
   },
   "outputs": [
    {
     "name": "stdout",
     "output_type": "stream",
     "text": [
      "A0A0A7DNP6\tNC_035781.1_cds_XP_022319572.1_8307\t5.70e-11\r\n",
      "A0A0B4J1F4\tNC_035782.1_cds_XP_022322528.1_15135\t1.99e-22\r\n"
     ]
    }
   ],
   "source": [
    "!head -2 _blast-sort.tab"
   ]
  },
  {
   "cell_type": "code",
   "execution_count": 37,
   "metadata": {
    "ExecuteTime": {
     "end_time": "2018-10-01T01:05:21.061323Z",
     "start_time": "2018-10-01T01:05:16.086707Z"
    },
    "scrolled": true
   },
   "outputs": [],
   "source": [
    "#joining blast with uniprot annoation file and reducing to three columns UniprotID, Query, All GO terms\n",
    "!join -t $'\\t' \\\n",
    "_blast-sort.tab \\\n",
    "uniprot-SP-GO.sorted \\\n",
    "| cut -f1,2,14 \\\n",
    "> _blast-annot.tab"
   ]
  },
  {
   "cell_type": "code",
   "execution_count": 38,
   "metadata": {
    "ExecuteTime": {
     "end_time": "2018-10-01T01:05:21.215805Z",
     "start_time": "2018-10-01T01:05:21.073164Z"
    }
   },
   "outputs": [
    {
     "name": "stdout",
     "output_type": "stream",
     "text": [
      "A0A0A7DNP6\tNC_035781.1_cds_XP_022319572.1_8307\tGO:0005576; GO:0007218\r\n",
      "A0A0B4J1F4\tNC_035782.1_cds_XP_022322528.1_15135\tGO:0005768; GO:0005769; GO:0005886; GO:0051443\r\n"
     ]
    }
   ],
   "source": [
    "!head -2 _blast-annot.tab\n",
    "#should look like\n",
    "#A1BHN5\tCHOYP_AAAS.3.3\tGO:0005524; GO:0006298; GO:0030983\n",
    "#A5PLL7\tCHOYP_AAEL_AAEL001208.1.1\tGO:0005737; GO:0005783; GO:0005789; GO:0016021; GO:0031625; GO:0061630\n"
   ]
  },
  {
   "cell_type": "markdown",
   "metadata": {},
   "source": [
    "## The following is a script modidified from Sam"
   ]
  },
  {
   "cell_type": "code",
   "execution_count": 39,
   "metadata": {
    "ExecuteTime": {
     "end_time": "2018-10-01T01:14:34.544251Z",
     "start_time": "2018-10-01T01:05:44.681185Z"
    }
   },
   "outputs": [],
   "source": [
    "%%bash \n",
    "\n",
    "# This script was originally written to address a specific problem that Rhonda was having\n",
    "\n",
    "\n",
    "\n",
    "# input_file is the initial, \"problem\" file\n",
    "# file is an intermediate file that most of the program works upon\n",
    "# output_file is the final file produced by the script\n",
    "input_file=\"_blast-annot.tab\"\n",
    "file=\"_intermediate.file\"\n",
    "output_file=\"_blast-GO-unfolded.tab\"\n",
    "\n",
    "# sed command substitutes the \"; \" sequence to a tab and writes the new format to a new file.\n",
    "# This character sequence is how the GO terms are delimited in their field.\n",
    "sed $'s/; /\\t/g' \"$input_file\" > \"$file\"\n",
    "\n",
    "# Identify first field containing a GO term.\n",
    "# Search file with grep for \"GO:\" and pipe to awk.\n",
    "# Awk sets tab as field delimiter (-F'\\t'), runs a for loop that looks for \"GO:\" (~/GO:/), and then prints the field number).\n",
    "# Awk results are piped to sort, which sorts unique by number (-ug).\n",
    "# Sort results are piped to head to retrieve the lowest value (i.e. the top of the list; \"-n1\").\n",
    "begin_goterms=$(grep \"GO:\" \"$file\" | awk -F'\\t' '{for (i=1;i<=NF;i++) if($i ~/GO:/) print i}' | sort -ug | head -n1)\n",
    "\n",
    "# While loop to process each line of the input file.\n",
    "while read -r line\n",
    "\tdo\n",
    "\t\n",
    "\t# Send contents of the current line to awk.\n",
    "\t# Set the field separator as a tab (-F'\\t') and print the number of fields in that line.\n",
    "\t# Save the results of the echo/awk pipe (i.e. number of fields) to the variable \"max_field\".\n",
    "\tmax_field=$(echo \"$line\" | awk -F'\\t' '{print NF}')\n",
    "\n",
    "\t# Send contents of current line to cut.\n",
    "\t# Cut fields (i.e. retain those fields) 1-12.\n",
    "\t# Save the results of the echo/cut pipe (i.e. fields 1-12) to the variable \"fixed_fields\"\n",
    "\tfixed_fields=$(echo \"$line\" | cut -f1-2)\n",
    "\n",
    "\t# Since not all the lines contain the same number of fields (e.g. may not have GO terms),\n",
    "\t# evaluate the number of fields in each line to determine how to handle current line.\n",
    "\n",
    "\t# If the value in max_field is less than the field number where the GO terms begin,\n",
    "\t# then just print the current line (%s) followed by a newline (\\n).\n",
    "\tif (( \"$max_field\" < \"$begin_goterms\" ))\n",
    "\t\tthen printf \"%s\\n\" \"$line\"\n",
    "\t\t\telse\n",
    "\n",
    "\t\t\t# Send contents of current line (which contains GO terms) to cut.\n",
    "\t\t\t# Cut fields (i.e. retain those fields) 13 to whatever the last field is in the curent line.\n",
    "\t\t\t# Save the results of the echo/cut pipe (i.e. all the GO terms fields) to the variable \"goterms\".\n",
    "\t\t\tgoterms=$(echo \"$line\" | cut -f\"$begin_goterms\"-\"$max_field\")\n",
    "\t\t\t\n",
    "\t\t\t# Assign values in the variable \"goterms\" to a new indexed array (called \"array\"), \n",
    "\t\t\t# with tab delimiter (IFS=$'\\t')\n",
    "\t\t\tIFS=$'\\t' read -r -a array <<<\"$goterms\"\n",
    "\t\t\t\n",
    "\t\t\t# Iterate through each element of the array.\n",
    "\t\t\t# Print the first 12 fields (i.e. the fields stored in \"fixed_fields\") followed by a tab (%s\\t).\n",
    "\t\t\t# Print the current element in the array (i.e. the current GO term) followed by a new line (%s\\n).\n",
    "\t\t\tfor element in \"${!array[@]}\"\t\n",
    "\t\t\t\tdo printf \"%s\\t%s\\n\" \"$fixed_fields\" \"${array[$element]}\"\n",
    "\t\t\tdone\n",
    "\tfi\n",
    "\n",
    "# Send the input file into the while loop and send the output to a file named \"rhonda_fixed.txt\".\n",
    "done < \"$file\" > \"$output_file\""
   ]
  },
  {
   "cell_type": "code",
   "execution_count": 40,
   "metadata": {
    "ExecuteTime": {
     "end_time": "2018-10-01T01:14:34.673655Z",
     "start_time": "2018-10-01T01:14:34.547203Z"
    }
   },
   "outputs": [
    {
     "name": "stdout",
     "output_type": "stream",
     "text": [
      "A0A0A7DNP6\tNC_035781.1_cds_XP_022319572.1_8307\tGO:0005576\r\n",
      "A0A0A7DNP6\tNC_035781.1_cds_XP_022319572.1_8307\tGO:0007218\r\n",
      "A0A0B4J1F4\tNC_035782.1_cds_XP_022322528.1_15135\tGO:0005768\r\n",
      "A0A0B4J1F4\tNC_035782.1_cds_XP_022322528.1_15135\tGO:0005769\r\n",
      "A0A0B4J1F4\tNC_035782.1_cds_XP_022322528.1_15135\tGO:0005886\r\n",
      "A0A0B4J1F4\tNC_035782.1_cds_XP_022322528.1_15135\tGO:0051443\r\n",
      "A0A0B4J1F4\tNC_035782.1_cds_XP_022322529.1_15136\tGO:0005768\r\n",
      "A0A0B4J1F4\tNC_035782.1_cds_XP_022322529.1_15136\tGO:0005769\r\n",
      "A0A0B4J1F4\tNC_035782.1_cds_XP_022322529.1_15136\tGO:0005886\r\n",
      "A0A0B4J1F4\tNC_035782.1_cds_XP_022322529.1_15136\tGO:0051443\r\n"
     ]
    }
   ],
   "source": [
    "!head _blast-GO-unfolded.tab"
   ]
  },
  {
   "cell_type": "code",
   "execution_count": 26,
   "metadata": {},
   "outputs": [],
   "source": [
    "!sort -k3 _blast-GO-unfolded.tab > _blast-GO-unfolded.sorted"
   ]
  },
  {
   "cell_type": "code",
   "execution_count": 29,
   "metadata": {},
   "outputs": [],
   "source": [
    "#joining files to get GOslim for each query (with duplicate GOslim / query removed)\n",
    "!join -1 3 -2 1 -t $'\\t' \\\n",
    "_blast-GO-unfolded.sorted \\\n",
    "GO-GOslim.sorted \\\n",
    "| uniq | awk -F'\\t' -v OFS='\\t' '{print $3, $1, $5, $6}' \\\n",
    "> Blastquery-GOslim.tab"
   ]
  },
  {
   "cell_type": "code",
   "execution_count": 30,
   "metadata": {
    "scrolled": true
   },
   "outputs": [
    {
     "name": "stdout",
     "output_type": "stream",
     "text": [
      "CHOYP_AAAT.1.1\tGO:0000049\tnucleic acid binding activity\tF\r\n",
      "CHOYP_AAEL_AAEL004839.1.1\tGO:0000049\tnucleic acid binding activity\tF\r\n",
      "CHOYP_1433E.2.2\tGO:0000077\tcell cycle and proliferation\tP\r\n",
      "CHOYP_1433E.2.2\tGO:0000077\tsignal transduction\tP\r\n",
      "CHOYP_1433E.2.2\tGO:0000077\tstress response\tP\r\n",
      "CHOYP_AAEL_AAEL001593.1.1\tGO:0000082\tcell cycle and proliferation\tP\r\n",
      "CHOYP_4EBP1.1.1\tGO:0000082\tcell cycle and proliferation\tP\r\n",
      "CHOYP_AAEL_AAEL004557.1.1\tGO:0000105\tother metabolic processes\tP\r\n",
      "CHOYP_AAEL_AAEL003539.1.1\tGO:0000118\tnucleus\tC\r\n",
      "CHOYP_AAEL_AAEL003539.1.1\tGO:0000122\tRNA metabolism\tP\r\n"
     ]
    }
   ],
   "source": [
    "!head Blastquery-GOslim.tab"
   ]
  },
  {
   "cell_type": "code",
   "execution_count": null,
   "metadata": {
    "collapsed": true
   },
   "outputs": [],
   "source": []
  }
 ],
 "metadata": {
  "kernelspec": {
   "display_name": "Python 3",
   "language": "python",
   "name": "python3"
  },
  "language_info": {
   "codemirror_mode": {
    "name": "ipython",
    "version": 3
   },
   "file_extension": ".py",
   "mimetype": "text/x-python",
   "name": "python",
   "nbconvert_exporter": "python",
   "pygments_lexer": "ipython3",
   "version": "3.6.3"
  }
 },
 "nbformat": 4,
 "nbformat_minor": 1
}
