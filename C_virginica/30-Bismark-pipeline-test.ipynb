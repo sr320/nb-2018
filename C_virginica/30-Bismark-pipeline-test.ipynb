{
 "cells": [
  {
   "cell_type": "markdown",
   "metadata": {},
   "source": [
    "# Set Working Directory"
   ]
  },
  {
   "cell_type": "code",
   "execution_count": 1,
   "metadata": {
    "collapsed": true,
    "deletable": true,
    "editable": true
   },
   "outputs": [],
   "source": [
    "wd=\"/Volumes/Serine/wd/18-04-12/tmp/\""
   ]
  },
  {
   "cell_type": "code",
   "execution_count": 2,
   "metadata": {
    "collapsed": false,
    "deletable": true,
    "editable": true
   },
   "outputs": [
    {
     "name": "stdout",
     "output_type": "stream",
     "text": [
      "/Volumes/Serine/wd/18-04-12/tmp\n"
     ]
    }
   ],
   "source": [
    "cd $wd"
   ]
  },
  {
   "cell_type": "code",
   "execution_count": 3,
   "metadata": {
    "collapsed": false,
    "deletable": true,
    "editable": true
   },
   "outputs": [
    {
     "name": "stdout",
     "output_type": "stream",
     "text": [
      "FastQ format assumed (by default)\n",
      "Each Bowtie 2 instance is going to be run with 4 threads. Please monitor performance closely and tune down if needed!\n",
      "chr NC_035780.1 (65668440 bp)\n",
      "chr NC_035781.1 (61752955 bp)\n",
      "chr NC_035782.1 (77061148 bp)\n",
      "chr NC_035783.1 (59691872 bp)\n",
      "chr NC_035784.1 (98698416 bp)\n",
      "chr NC_035785.1 (51258098 bp)\n",
      "chr NC_035786.1 (57830854 bp)\n",
      "chr NC_035787.1 (75944018 bp)\n",
      "chr NC_035788.1 (104168038 bp)\n",
      "chr NC_035789.1 (32650045 bp)\n",
      "chr NC_007175.2 (17244 bp)\n",
      "\n",
      "Number of paired-end alignments with a unique best hit:\t5290\n",
      "Mapping efficiency:\t52.9%\n",
      "\n",
      "Sequence pairs with no alignments under any condition:\t3067\n",
      "Sequence pairs did not map uniquely:\t1643\n",
      "Sequence pairs which were discarded because genomic sequence could not be extracted:\t0\n",
      "\n",
      "Number of sequence pairs with unique best (first) alignment came from the bowtie output:\n",
      "CT/GA/CT:\t1343\t((converted) top strand)\n",
      "GA/CT/CT:\t1308\t(complementary to (converted) top strand)\n",
      "GA/CT/GA:\t1287\t(complementary to (converted) bottom strand)\n",
      "CT/GA/GA:\t1352\t((converted) bottom strand)\n",
      "\n"
     ]
    }
   ],
   "source": [
    "%%bash\n",
    "\n",
    "r1=\"/Volumes/Serine/wd/18-04-10/zr2096_5_s1_R1.fastq\"\n",
    "r2=\"/Volumes/Serine/wd/18-04-10/zr2096_5_s1_R2.fastq\"\n",
    "\n",
    "\n",
    "/Applications/bioinfo/Bismark_v0.19.0/bismark \\\n",
    "--path_to_bowtie /Applications/bioinfo/bowtie2-2.3.4.1-macos-x86_64 \\\n",
    "--genome /Volumes/Serine/wd/18-03-15/genome \\\n",
    "--score_min L,0,-1.2 \\\n",
    "-u 10000 \\\n",
    "-p 4 \\\n",
    "--non_directional \\\n",
    "-1 $r1 \\\n",
    "-2 $r2 \\\n",
    "2> bismark.err"
   ]
  },
  {
   "cell_type": "code",
   "execution_count": 4,
   "metadata": {
    "collapsed": false,
    "deletable": true,
    "editable": true
   },
   "outputs": [
    {
     "name": "stdout",
     "output_type": "stream",
     "text": [
      "CHG_CTOB_zr2096_5_s1_R1_bismark_bt2_pe.deduplicated.deduplicated.txt\r\n",
      "CHG_CTOB_zr2096_5_s1_R1_bismark_bt2_pe.deduplicated.txt\r\n",
      "CHG_CTOT_zr2096_5_s1_R1_bismark_bt2_pe.deduplicated.deduplicated.txt\r\n",
      "CHG_CTOT_zr2096_5_s1_R1_bismark_bt2_pe.deduplicated.txt\r\n",
      "CHG_OB_zr2096_5_s1_R1_bismark_bt2_pe.deduplicated.deduplicated.txt\r\n",
      "CHG_OB_zr2096_5_s1_R1_bismark_bt2_pe.deduplicated.txt\r\n",
      "CHG_OT_zr2096_5_s1_R1_bismark_bt2_pe.deduplicated.deduplicated.txt\r\n",
      "CHG_OT_zr2096_5_s1_R1_bismark_bt2_pe.deduplicated.txt\r\n",
      "CHH_CTOB_zr2096_5_s1_R1_bismark_bt2_pe.deduplicated.deduplicated.txt\r\n",
      "CHH_CTOB_zr2096_5_s1_R1_bismark_bt2_pe.deduplicated.txt\r\n",
      "CHH_CTOT_zr2096_5_s1_R1_bismark_bt2_pe.deduplicated.deduplicated.txt\r\n",
      "CHH_CTOT_zr2096_5_s1_R1_bismark_bt2_pe.deduplicated.txt\r\n",
      "CHH_OB_zr2096_5_s1_R1_bismark_bt2_pe.deduplicated.deduplicated.txt\r\n",
      "CHH_OB_zr2096_5_s1_R1_bismark_bt2_pe.deduplicated.txt\r\n",
      "CHH_OT_zr2096_5_s1_R1_bismark_bt2_pe.deduplicated.deduplicated.txt\r\n",
      "CHH_OT_zr2096_5_s1_R1_bismark_bt2_pe.deduplicated.txt\r\n",
      "CpG_CTOB_zr2096_5_s1_R1_bismark_bt2_pe.deduplicated.deduplicated.txt\r\n",
      "CpG_CTOB_zr2096_5_s1_R1_bismark_bt2_pe.deduplicated.txt\r\n",
      "CpG_CTOT_zr2096_5_s1_R1_bismark_bt2_pe.deduplicated.deduplicated.txt\r\n",
      "CpG_CTOT_zr2096_5_s1_R1_bismark_bt2_pe.deduplicated.txt\r\n",
      "CpG_OB_zr2096_5_s1_R1_bismark_bt2_pe.deduplicated.deduplicated.txt\r\n",
      "CpG_OB_zr2096_5_s1_R1_bismark_bt2_pe.deduplicated.txt\r\n",
      "CpG_OT_zr2096_5_s1_R1_bismark_bt2_pe.deduplicated.deduplicated.txt\r\n",
      "CpG_OT_zr2096_5_s1_R1_bismark_bt2_pe.deduplicated.txt\r\n",
      "bismark.err\r\n",
      "bme.err\r\n",
      "dedup.err\r\n",
      "err-out\r\n",
      "zr2096_5_s1_R1_bismark_bt2_PE_report.txt\r\n",
      "zr2096_5_s1_R1_bismark_bt2_pe.bam\r\n",
      "zr2096_5_s1_R1_bismark_bt2_pe.deduplicated.M-bias.txt\r\n",
      "zr2096_5_s1_R1_bismark_bt2_pe.deduplicated.bam\r\n",
      "zr2096_5_s1_R1_bismark_bt2_pe.deduplicated.bedGraph.gz\r\n",
      "zr2096_5_s1_R1_bismark_bt2_pe.deduplicated.bedGraph.gz.methylation_calls.merged\r\n",
      "zr2096_5_s1_R1_bismark_bt2_pe.deduplicated.bismark.cov.gz\r\n",
      "zr2096_5_s1_R1_bismark_bt2_pe.deduplicated.deduplicated.M-bias.txt\r\n",
      "zr2096_5_s1_R1_bismark_bt2_pe.deduplicated.deduplicated.bam\r\n",
      "zr2096_5_s1_R1_bismark_bt2_pe.deduplicated.deduplicated.bedGraph\r\n",
      "zr2096_5_s1_R1_bismark_bt2_pe.deduplicated.deduplicated.bedGraph.gz\r\n",
      "zr2096_5_s1_R1_bismark_bt2_pe.deduplicated.deduplicated.bedGraph.gz.methylation_calls.merged\r\n",
      "zr2096_5_s1_R1_bismark_bt2_pe.deduplicated.deduplicated.bismark.cov.gz\r\n",
      "zr2096_5_s1_R1_bismark_bt2_pe.deduplicated.deduplicated_splitting_report.txt\r\n",
      "zr2096_5_s1_R1_bismark_bt2_pe.deduplicated.deduplication_report.txt\r\n",
      "zr2096_5_s1_R1_bismark_bt2_pe.deduplicated_splitting_report.txt\r\n",
      "zr2096_5_s1_R1_bismark_bt2_pe.deduplication_report.txt\r\n"
     ]
    }
   ],
   "source": [
    "ls "
   ]
  },
  {
   "cell_type": "code",
   "execution_count": 5,
   "metadata": {
    "collapsed": false,
    "deletable": true,
    "editable": true
   },
   "outputs": [
    {
     "name": "stdout",
     "output_type": "stream",
     "text": [
      "\n",
      "Now testing Bismark result file zr2096_5_s1_R1_bismark_bt2_pe.bam for positional sorting (which would be bad...)\tskipping header line:\t@HD\tVN:1.0\tSO:unsorted\n",
      "skipping header line:\t@SQ\tSN:NC_035780.1\tLN:65668440\n",
      "skipping header line:\t@SQ\tSN:NC_035781.1\tLN:61752955\n",
      "skipping header line:\t@SQ\tSN:NC_035782.1\tLN:77061148\n",
      "skipping header line:\t@SQ\tSN:NC_035783.1\tLN:59691872\n",
      "skipping header line:\t@SQ\tSN:NC_035784.1\tLN:98698416\n",
      "skipping header line:\t@SQ\tSN:NC_035785.1\tLN:51258098\n",
      "skipping header line:\t@SQ\tSN:NC_035786.1\tLN:57830854\n",
      "skipping header line:\t@SQ\tSN:NC_035787.1\tLN:75944018\n",
      "skipping header line:\t@SQ\tSN:NC_035788.1\tLN:104168038\n",
      "skipping header line:\t@SQ\tSN:NC_035789.1\tLN:32650045\n",
      "skipping header line:\t@SQ\tSN:NC_007175.2\tLN:17244\n",
      "skipping header line:\t@PG\tID:Bismark\tVN:v0.19.0\tCL:\"bismark --path_to_bowtie /Applications/bioinfo/bowtie2-2.3.4.1-macos-x86_64 --genome /Volumes/Serine/wd/18-03-15/genome --score_min L,0,-1.2 -u 10000 -p 4 --non_directional -1 /Volumes/Serine/wd/18-04-10/zr2096_5_s1_R1.fastq -2 /Volumes/Serine/wd/18-04-10/zr2096_5_s1_R2.fastq\"\n",
      "\n",
      "Now testing Bismark result file zr2096_5_s1_R1_bismark_bt2_pe.deduplicated.bam for positional sorting (which would be bad...)\tskipping header line:\t@HD\tVN:1.0\tSO:unsorted\n",
      "skipping header line:\t@SQ\tSN:NC_035780.1\tLN:65668440\n",
      "skipping header line:\t@SQ\tSN:NC_035781.1\tLN:61752955\n",
      "skipping header line:\t@SQ\tSN:NC_035782.1\tLN:77061148\n",
      "skipping header line:\t@SQ\tSN:NC_035783.1\tLN:59691872\n",
      "skipping header line:\t@SQ\tSN:NC_035784.1\tLN:98698416\n",
      "skipping header line:\t@SQ\tSN:NC_035785.1\tLN:51258098\n",
      "skipping header line:\t@SQ\tSN:NC_035786.1\tLN:57830854\n",
      "skipping header line:\t@SQ\tSN:NC_035787.1\tLN:75944018\n",
      "skipping header line:\t@SQ\tSN:NC_035788.1\tLN:104168038\n",
      "skipping header line:\t@SQ\tSN:NC_035789.1\tLN:32650045\n",
      "skipping header line:\t@SQ\tSN:NC_007175.2\tLN:17244\n",
      "skipping header line:\t@PG\tID:Bismark\tVN:v0.19.0\tCL:\"bismark --path_to_bowtie /Applications/bioinfo/bowtie2-2.3.4.1-macos-x86_64 --genome /Volumes/Serine/wd/18-03-15/genome --score_min L,0,-1.2 -u 10000 -p 4 --non_directional -1 /Volumes/Serine/wd/18-04-10/zr2096_5_s1_R1.fastq -2 /Volumes/Serine/wd/18-04-10/zr2096_5_s1_R2.fastq\"\n",
      "\n",
      "Now testing Bismark result file zr2096_5_s1_R1_bismark_bt2_pe.deduplicated.deduplicated.bam for positional sorting (which would be bad...)\tskipping header line:\t@HD\tVN:1.0\tSO:unsorted\n",
      "skipping header line:\t@SQ\tSN:NC_035780.1\tLN:65668440\n",
      "skipping header line:\t@SQ\tSN:NC_035781.1\tLN:61752955\n",
      "skipping header line:\t@SQ\tSN:NC_035782.1\tLN:77061148\n",
      "skipping header line:\t@SQ\tSN:NC_035783.1\tLN:59691872\n",
      "skipping header line:\t@SQ\tSN:NC_035784.1\tLN:98698416\n",
      "skipping header line:\t@SQ\tSN:NC_035785.1\tLN:51258098\n",
      "skipping header line:\t@SQ\tSN:NC_035786.1\tLN:57830854\n",
      "skipping header line:\t@SQ\tSN:NC_035787.1\tLN:75944018\n",
      "skipping header line:\t@SQ\tSN:NC_035788.1\tLN:104168038\n",
      "skipping header line:\t@SQ\tSN:NC_035789.1\tLN:32650045\n",
      "skipping header line:\t@SQ\tSN:NC_007175.2\tLN:17244\n",
      "skipping header line:\t@PG\tID:Bismark\tVN:v0.19.0\tCL:\"bismark --path_to_bowtie /Applications/bioinfo/bowtie2-2.3.4.1-macos-x86_64 --genome /Volumes/Serine/wd/18-03-15/genome --score_min L,0,-1.2 -u 10000 -p 4 --non_directional -1 /Volumes/Serine/wd/18-04-10/zr2096_5_s1_R1.fastq -2 /Volumes/Serine/wd/18-04-10/zr2096_5_s1_R2.fastq\"\n"
     ]
    }
   ],
   "source": [
    "%%bash\n",
    "\n",
    "/Applications/bioinfo/Bismark_v0.19.0/deduplicate_bismark \\\n",
    "--bam -p \\\n",
    "*.bam \\\n",
    "2> dedup.err\n",
    "\n",
    "\n"
   ]
  },
  {
   "cell_type": "code",
   "execution_count": 6,
   "metadata": {
    "collapsed": false,
    "deletable": true,
    "editable": true
   },
   "outputs": [
    {
     "name": "stdout",
     "output_type": "stream",
     "text": [
      "\n",
      "Now testing Bismark result file zr2096_5_s1_R1_bismark_bt2_pe.deduplicated.bam for positional sorting (which would be bad...)\tzr2096_5_s1_R1_bismark_bt2_pe.deduplicated_splitting_report.txt.1\n",
      "zr2096_5_s1_R1_bismark_bt2_pe.deduplicated_splitting_report.txt.2\n",
      "\n",
      "zr2096_5_s1_R1_bismark_bt2_pe.deduplicated_splitting_report.txt.1.mbias\n",
      "zr2096_5_s1_R1_bismark_bt2_pe.deduplicated_splitting_report.txt.2.mbias\n",
      "\n",
      "/Volumes/Serine/wd/18-04-12/tmp/CpG_OT_zr2096_5_s1_R1_bismark_bt2_pe.deduplicated.txt\t/Volumes/Serine/wd/18-04-12/tmp/CpG_CTOT_zr2096_5_s1_R1_bismark_bt2_pe.deduplicated.txt\t/Volumes/Serine/wd/18-04-12/tmp/CpG_CTOB_zr2096_5_s1_R1_bismark_bt2_pe.deduplicated.txt\t/Volumes/Serine/wd/18-04-12/tmp/CpG_OB_zr2096_5_s1_R1_bismark_bt2_pe.deduplicated.txt\n",
      "\n",
      "\n",
      "Now testing Bismark result file zr2096_5_s1_R1_bismark_bt2_pe.deduplicated.deduplicated.bam for positional sorting (which would be bad...)\tzr2096_5_s1_R1_bismark_bt2_pe.deduplicated.deduplicated_splitting_report.txt.1\n",
      "zr2096_5_s1_R1_bismark_bt2_pe.deduplicated.deduplicated_splitting_report.txt.2\n",
      "\n",
      "zr2096_5_s1_R1_bismark_bt2_pe.deduplicated.deduplicated_splitting_report.txt.1.mbias\n",
      "zr2096_5_s1_R1_bismark_bt2_pe.deduplicated.deduplicated_splitting_report.txt.2.mbias\n",
      "\n",
      "/Volumes/Serine/wd/18-04-12/tmp/CpG_OT_zr2096_5_s1_R1_bismark_bt2_pe.deduplicated.deduplicated.txt\t/Volumes/Serine/wd/18-04-12/tmp/CpG_CTOT_zr2096_5_s1_R1_bismark_bt2_pe.deduplicated.deduplicated.txt\t/Volumes/Serine/wd/18-04-12/tmp/CpG_CTOB_zr2096_5_s1_R1_bismark_bt2_pe.deduplicated.deduplicated.txt\t/Volumes/Serine/wd/18-04-12/tmp/CpG_OB_zr2096_5_s1_R1_bismark_bt2_pe.deduplicated.deduplicated.txt\n",
      "\n",
      "\n",
      "Now testing Bismark result file zr2096_5_s1_R1_bismark_bt2_pe.deduplicated.deduplicated.deduplicated.bam for positional sorting (which would be bad...)\tzr2096_5_s1_R1_bismark_bt2_pe.deduplicated.deduplicated.deduplicated_splitting_report.txt.1\n",
      "zr2096_5_s1_R1_bismark_bt2_pe.deduplicated.deduplicated.deduplicated_splitting_report.txt.2\n",
      "\n",
      "zr2096_5_s1_R1_bismark_bt2_pe.deduplicated.deduplicated.deduplicated_splitting_report.txt.1.mbias\n",
      "zr2096_5_s1_R1_bismark_bt2_pe.deduplicated.deduplicated.deduplicated_splitting_report.txt.2.mbias\n",
      "\n",
      "/Volumes/Serine/wd/18-04-12/tmp/CpG_OT_zr2096_5_s1_R1_bismark_bt2_pe.deduplicated.deduplicated.deduplicated.txt\t/Volumes/Serine/wd/18-04-12/tmp/CpG_CTOT_zr2096_5_s1_R1_bismark_bt2_pe.deduplicated.deduplicated.deduplicated.txt\t/Volumes/Serine/wd/18-04-12/tmp/CpG_CTOB_zr2096_5_s1_R1_bismark_bt2_pe.deduplicated.deduplicated.deduplicated.txt\t/Volumes/Serine/wd/18-04-12/tmp/CpG_OB_zr2096_5_s1_R1_bismark_bt2_pe.deduplicated.deduplicated.deduplicated.txt\n",
      "\n"
     ]
    }
   ],
   "source": [
    "%%bash\n",
    "/Applications/bioinfo/Bismark_v0.19.0/bismark_methylation_extractor \\\n",
    "-p --bedGraph --counts --scaffolds \\\n",
    "--multicore 2 \\\n",
    "*deduplicated.bam \\\n",
    "2> bme.err"
   ]
  },
  {
   "cell_type": "code",
   "execution_count": null,
   "metadata": {
    "collapsed": true,
    "deletable": true,
    "editable": true
   },
   "outputs": [],
   "source": []
  }
 ],
 "metadata": {
  "kernelspec": {
   "display_name": "Python 2",
   "language": "python",
   "name": "python2"
  },
  "language_info": {
   "codemirror_mode": {
    "name": "ipython",
    "version": 2
   },
   "file_extension": ".py",
   "mimetype": "text/x-python",
   "name": "python",
   "nbconvert_exporter": "python",
   "pygments_lexer": "ipython2",
   "version": "2.7.12"
  }
 },
 "nbformat": 4,
 "nbformat_minor": 0
}
