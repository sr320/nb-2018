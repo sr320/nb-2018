{
 "cells": [
  {
   "cell_type": "code",
   "execution_count": null,
   "metadata": {
    "collapsed": true
   },
   "outputs": [],
   "source": [
    "cat myfile.fq | awk '((NR-2)%4==0){read=$1;total++;count[read]++}END{for(read in count){if(!max||count[read]>max) {max=count[read];maxRead=read};if(count[read]==1){unique++}};print total,unique,unique*100/total,maxRead,count[maxRead],count[maxRead]*100/total}'\n"
   ]
  },
  {
   "cell_type": "code",
   "execution_count": 1,
   "metadata": {
    "collapsed": false
   },
   "outputs": [
    {
     "name": "stdout",
     "output_type": "stream",
     "text": [
      "/Volumes/Serine/wd/18-09-15\n"
     ]
    }
   ],
   "source": [
    "cd /Volumes/Serine/wd/18-09-15"
   ]
  },
  {
   "cell_type": "code",
   "execution_count": 2,
   "metadata": {
    "collapsed": false
   },
   "outputs": [
    {
     "name": "stdout",
     "output_type": "stream",
     "text": [
      "01_25_S25_L001_R1_001.fastq.gz\r\n",
      "01_25_S25_L001_R1_001_bismark_bt2_PE_report.txt\r\n",
      "01_25_S25_L001_R1_001_bismark_bt2_pe.bam\r\n",
      "01_25_S25_L001_R2_001.fastq.gz\r\n",
      "07_29_S29_L001_R1_001.fastq.gz\r\n",
      "07_29_S29_L001_R1_001_bismark_bt2_PE_report.txt\r\n",
      "07_29_S29_L001_R1_001_bismark_bt2_pe.bam\r\n",
      "07_29_S29_L001_R2_001.fastq.gz\r\n",
      "08_30_S30_L001_R1_001.fastq.gz\r\n",
      "08_30_S30_L001_R2_001.fastq.gz\r\n",
      "09_31_S31_L001_R1_001.fastq.gz\r\n",
      "09_31_S31_L001_R2_001.fastq.gz\r\n",
      "10_32_S32_L001_R1_001.fastq.gz\r\n",
      "10_32_S32_L001_R2_001.fastq.gz\r\n",
      "11_37_S37_L001_R1_001.fastq.gz\r\n",
      "11_37_S37_L001_R2_001.fastq.gz\r\n",
      "12_38_S38_L001_R1_001.fastq.gz\r\n",
      "12_38_S38_L001_R2_001.fastq.gz\r\n",
      "13_33_S33_L001_R1_001.fastq.gz\r\n",
      "13_33_S33_L001_R2_001.fastq.gz\r\n",
      "14_34_S34_L001_R1_001.fastq.gz\r\n",
      "14_34_S34_L001_R2_001.fastq.gz\r\n",
      "15_39_S39_L001_R1_001.fastq.gz\r\n",
      "15_39_S39_L001_R2_001.fastq.gz\r\n",
      "16_40_S40_L001_R1_001.fastq.gz\r\n",
      "16_40_S40_L001_R2_001.fastq.gz\r\n",
      "17_9_S9_L001_R1_001.fastq.gz\r\n",
      "17_9_S9_L001_R2_001.fastq.gz\r\n",
      "18_10_S10_L001_R1_001.fastq.gz\r\n",
      "18_10_S10_L001_R2_001.fastq.gz\r\n",
      "19_7_S7_L001_R1_001.fastq.gz\r\n",
      "19_7_S7_L001_R2_001.fastq.gz\r\n",
      "20_8_S8_L001_R1_001.fastq.gz\r\n",
      "20_8_S8_L001_R2_001.fastq.gz\r\n",
      "bismark.err\r\n"
     ]
    }
   ],
   "source": [
    "ls"
   ]
  },
  {
   "cell_type": "code",
   "execution_count": 5,
   "metadata": {
    "collapsed": false
   },
   "outputs": [],
   "source": [
    "!gunzip -k *gz "
   ]
  },
  {
   "cell_type": "code",
   "execution_count": null,
   "metadata": {
    "collapsed": true
   },
   "outputs": [],
   "source": [
    "cat myfile.fq | awk '((NR-2)%4==0){read=$1;total++;count[read]++}END{for(read in count){if(!max||count[read]>max) {max=count[read];maxRead=read};if(count[read]==1){unique++}};print total,unique,unique*100/total,maxRead,count[maxRead],count[maxRead]*100/total}'\n"
   ]
  },
  {
   "cell_type": "code",
   "execution_count": 6,
   "metadata": {
    "collapsed": false
   },
   "outputs": [
    {
     "name": "stdout",
     "output_type": "stream",
     "text": [
      "17786164 16234202 91.2743 GATCGGAAGAGCGTCGTGTAGGGAAAGAGTGTAGGCTATAGTGTAGATCTCGGTGGTCGCCGTATCATTAAAAAA 54936 0.308869\n"
     ]
    },
    {
     "name": "stderr",
     "output_type": "stream",
     "text": [
      "cat: 10_32_S32_L001_R1_001.fastq.gz_C_to_T.fastq: No such file or directory\n",
      "cat: 10_32_S32_L001_R1_001.fastq.gz_G_to_A.fastq: No such file or directory\n",
      "cat: 10_32_S32_L001_R2_001.fastq.gz_C_to_T.fastq: No such file or directory\n",
      "cat: 10_32_S32_L001_R2_001.fastq.gz_G_to_A.fastq: No such file or directory\n"
     ]
    }
   ],
   "source": [
    "%%bash\n",
    "find *fastq \\\n",
    "| xargs basename -s .fastq | xargs -I{} cat {}.fastq \\\n",
    "| awk '((NR-2)%4==0){read=$1;total++;count[read]++}END{for(read in count){if(!max||count[read]>max) {max=count[read];maxRead=read};if(count[read]==1){unique++}};print total,unique,unique*100/total,maxRead,count[maxRead],count[maxRead]*100/total}'\n"
   ]
  },
  {
   "cell_type": "code",
   "execution_count": 8,
   "metadata": {
    "collapsed": false
   },
   "outputs": [
    {
     "name": "stdout",
     "output_type": "stream",
     "text": [
      "17786164\r\n"
     ]
    }
   ],
   "source": [
    "!awk '{s++}END{print s/4}' *.fastq "
   ]
  },
  {
   "cell_type": "code",
   "execution_count": null,
   "metadata": {
    "collapsed": true
   },
   "outputs": [],
   "source": []
  }
 ],
 "metadata": {
  "kernelspec": {
   "display_name": "Python 2",
   "language": "python",
   "name": "python2"
  },
  "language_info": {
   "codemirror_mode": {
    "name": "ipython",
    "version": 2
   },
   "file_extension": ".py",
   "mimetype": "text/x-python",
   "name": "python",
   "nbconvert_exporter": "python",
   "pygments_lexer": "ipython2",
   "version": "2.7.12"
  }
 },
 "nbformat": 4,
 "nbformat_minor": 0
}
