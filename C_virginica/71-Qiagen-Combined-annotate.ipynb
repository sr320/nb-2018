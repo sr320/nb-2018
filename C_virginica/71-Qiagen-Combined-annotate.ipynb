{
 "cells": [
  {
   "cell_type": "markdown",
   "metadata": {},
   "source": [
    "`bedtools annotate [OPTIONS] -i <BED/GFF/VCF> -files FILE1 FILE2 FILE3 ... FILEn`\n"
   ]
  },
  {
   "cell_type": "code",
   "execution_count": 4,
   "metadata": {
    "ExecuteTime": {
     "end_time": "2018-09-28T22:16:52.629129Z",
     "start_time": "2018-09-28T22:15:30.509061Z"
    }
   },
   "outputs": [
    {
     "name": "stdout",
     "output_type": "stream",
     "text": [
      "NC_035780.1\tGnomon\tmRNA\t8381914\t8388705\t.\t+\t.\tID=rna799;Parent=gene488;Dbxref=GeneID:111130942,Genbank:XM_022478242.1;Name=XM_022478242.1;gbkey=mRNA;gene=LOC111130942;model_evidence=Supporting evidence includes similarity to: 4 ESTs%2C and 99%25 coverage of the annotated genomic feature by RNAseq alignments%2C including 23 samples with support for all annotated introns;product=uncharacterized LOC111130942;transcript_id=XM_022478242.1\t49\t213\r\n",
      "NC_035780.1\tGnomon\tmRNA\t16766282\t16785023\t.\t-\t.\tID=rna1759;Parent=gene1015;Dbxref=GeneID:111132096,Genbank:XM_022479809.1;Name=XM_022479809.1;gbkey=mRNA;gene=LOC111132096;model_evidence=Supporting evidence includes similarity to: 100%25 coverage of the annotated genomic feature by RNAseq alignments%2C including 19 samples with support for all annotated introns;product=uncharacterized LOC111132096;transcript_id=XM_022479809.1\t180\t263\r\n",
      "NC_035780.1\tGnomon\tmRNA\t41936146\t42011576\t.\t-\t.\tID=rna4227;Parent=gene2494;Dbxref=GeneID:111135999,Genbank:XM_022486542.1;Name=XM_022486542.1;gbkey=mRNA;gene=LOC111135999;model_evidence=Supporting evidence includes similarity to: 4 Proteins%2C and 100%25 coverage of the annotated genomic feature by RNAseq alignments%2C including 26 samples with support for all annotated introns;product=alanyl-tRNA editing protein Aarsd1-like;transcript_id=XM_022486542.1\t1410\t1377\r\n",
      "NC_035780.1\tGnomon\tmRNA\t1038480\t1053423\t.\t-\t.\tID=rna120;Parent=gene68;Dbxref=GeneID:111102585,Genbank:XM_022435396.1;Name=XM_022435396.1;gbkey=mRNA;gene=LOC111102585;model_evidence=Supporting evidence includes similarity to: 5 Proteins%2C and 98%25 coverage of the annotated genomic feature by RNAseq alignments%2C including 20 samples with support for all annotated introns;product=homeobox protein Hox-A9-like%2C transcript variant X1;transcript_id=XM_022435396.1\t321\t454\r\n",
      "NC_035780.1\tGnomon\tmRNA\t1038480\t1053376\t.\t-\t.\tID=rna121;Parent=gene68;Dbxref=GeneID:111102585,Genbank:XM_022435413.1;Name=XM_022435413.1;gbkey=mRNA;gene=LOC111102585;model_evidence=Supporting evidence includes similarity to: 2 Proteins%2C and 100%25 coverage of the annotated genomic feature by RNAseq alignments%2C including 20 samples with support for all annotated introns;product=homeobox protein Hox-A9-like%2C transcript variant X3;transcript_id=XM_022435413.1\t314\t448\r\n",
      "NC_035780.1\tGnomon\tmRNA\t1038480\t1053260\t.\t-\t.\tID=rna122;Parent=gene68;Dbxref=GeneID:111102585,Genbank:XM_022435405.1;Name=XM_022435405.1;gbkey=mRNA;gene=LOC111102585;model_evidence=Supporting evidence includes similarity to: 2 Proteins%2C and 100%25 coverage of the annotated genomic feature by RNAseq alignments%2C including 23 samples with support for all annotated introns;product=homeobox protein Hox-A9-like%2C transcript variant X2;transcript_id=XM_022435405.1\t307\t441\r\n",
      "NC_035780.1\tGnomon\tmRNA\t2071890\t2139231\t.\t+\t.\tID=rna187;Parent=gene110;Dbxref=GeneID:111109754,Genbank:XM_022445986.1;Name=XM_022445986.1;Note=The sequence of the model RefSeq transcript was modified relative to this genomic sequence to represent the inferred CDS: deleted 4 bases in 2 codons;exception=unclassified transcription discrepancy;gbkey=mRNA;gene=LOC111109754;model_evidence=Supporting evidence includes similarity to: 1 Protein%2C and 99%25 coverage of the annotated genomic feature by RNAseq alignments%2C including 1 sample with support for all annotated introns;product=uncharacterized LOC111109754;transcript_id=XM_022445986.1\t188\t1448\r\n",
      "NC_035780.1\tGnomon\tmRNA\t3141167\t3150711\t.\t+\t.\tID=rna273;Parent=gene168;Dbxref=GeneID:111136481,Genbank:XM_022487363.1;Name=XM_022487363.1;gbkey=mRNA;gene=LOC111136481;model_evidence=Supporting evidence includes similarity to: 100%25 coverage of the annotated genomic feature by RNAseq alignments%2C including 1 sample with support for all annotated introns;product=uncharacterized LOC111136481;transcript_id=XM_022487363.1\t120\t227\r\n",
      "NC_035780.1\tGnomon\tmRNA\t4189520\t4197602\t.\t-\t.\tID=rna417;Parent=gene249;Dbxref=GeneID:111108648,Genbank:XM_022444672.1;Name=XM_022444672.1;gbkey=mRNA;gene=LOC111108648;model_evidence=Supporting evidence includes similarity to: 100%25 coverage of the annotated genomic feature by RNAseq alignments%2C including 5 samples with support for all annotated introns;product=tubulin-specific chaperone cofactor E-like protein%2C transcript variant X2;transcript_id=XM_022444672.1\t132\t122\r\n",
      "NC_035780.1\tGnomon\tmRNA\t4189520\t4197602\t.\t-\t.\tID=rna418;Parent=gene249;Dbxref=GeneID:111108648,Genbank:XM_022444662.1;Name=XM_022444662.1;gbkey=mRNA;gene=LOC111108648;model_evidence=Supporting evidence includes similarity to: 100%25 coverage of the annotated genomic feature by RNAseq alignments%2C including 16 samples with support for all annotated introns;product=tubulin-specific chaperone cofactor E-like protein%2C transcript variant X1;transcript_id=XM_022444662.1\t132\t122\r\n"
     ]
    }
   ],
   "source": [
    "!/Applications/bioinfo/bedtools2/bin/bedtools annotate \\\n",
    "-i /Users/sr320/Documents/GitHub/nb-2018/C_virginica/data/ref_C_virginica-3.0_Gnomon_mRNA.gff3 \\\n",
    "-files /Users/sr320/Desktop/Qiagen/Qiagen-combtab.bed \\\n",
    "/Users/sr320/Documents/GitHub/nb-2018/C_virginica/analyses/Cvirg_v3_CG-motif.bed \\\n",
    "-counts \\\n",
    "| head"
   ]
  },
  {
   "cell_type": "code",
   "execution_count": null,
   "metadata": {},
   "outputs": [],
   "source": []
  }
 ],
 "metadata": {
  "kernelspec": {
   "display_name": "Python 3",
   "language": "python",
   "name": "python3"
  },
  "language_info": {
   "codemirror_mode": {
    "name": "ipython",
    "version": 3
   },
   "file_extension": ".py",
   "mimetype": "text/x-python",
   "name": "python",
   "nbconvert_exporter": "python",
   "pygments_lexer": "ipython3",
   "version": "3.6.3"
  }
 },
 "nbformat": 4,
 "nbformat_minor": 2
}
