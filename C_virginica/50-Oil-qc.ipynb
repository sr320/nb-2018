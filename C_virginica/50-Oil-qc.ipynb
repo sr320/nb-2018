{
 "cells": [
  {
   "cell_type": "code",
   "execution_count": 6,
   "metadata": {},
   "outputs": [
    {
     "name": "stdout",
     "output_type": "stream",
     "text": [
      "[INFO   ]         multiqc : This is MultiQC v1.0.dev0\n",
      "[INFO   ]         multiqc : Template    : default\n",
      "[INFO   ]         multiqc : Searching '/Volumes/Serine/wd/18-04-10/oil/fqc/'\n",
      "[INFO   ]          fastqc : Found 13 reports\n",
      "[WARNING]         multiqc : Deleting    : ../../../../../Volumes/Serine/wd/18-09-06/multiqc_report.html   (-f was specified)\n",
      "[INFO   ]         multiqc : Report      : ../../../../../Volumes/Serine/wd/18-09-06/multiqc_report.html\n",
      "[WARNING]         multiqc : Deleting    : ../../../../../Volumes/Serine/wd/18-09-06/multiqc_data   (-f was specified)\n",
      "[INFO   ]         multiqc : Data        : ../../../../../Volumes/Serine/wd/18-09-06/multiqc_data\n",
      "[INFO   ]         multiqc : MultiQC complete\n"
     ]
    }
   ],
   "source": [
    "!multiqc \\\n",
    "-f \\\n",
    "/Volumes/Serine/wd/18-04-10/oil/fqc/ \\\n",
    "-o /Volumes/Serine/wd/18-09-06"
   ]
  },
  {
   "cell_type": "code",
   "execution_count": null,
   "metadata": {
    "collapsed": true
   },
   "outputs": [],
   "source": []
  }
 ],
 "metadata": {
  "kernelspec": {
   "display_name": "Python 3",
   "language": "python",
   "name": "python3"
  },
  "language_info": {
   "codemirror_mode": {
    "name": "ipython",
    "version": 3
   },
   "file_extension": ".py",
   "mimetype": "text/x-python",
   "name": "python",
   "nbconvert_exporter": "python",
   "pygments_lexer": "ipython3",
   "version": "3.6.3"
  }
 },
 "nbformat": 4,
 "nbformat_minor": 1
}
