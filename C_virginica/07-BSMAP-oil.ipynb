{
 "cells": [
  {
   "cell_type": "code",
   "execution_count": 6,
   "metadata": {
    "ExecuteTime": {
     "end_time": "2018-03-18T21:05:07.808942Z",
     "start_time": "2018-03-18T16:02:40.138131Z"
    }
   },
   "outputs": [],
   "source": [
    "for i in (\"HB16_Oil_25000ppm_TTAGGC\",\"HB2_Oil_25000ppm_ATCACG\",\"HB30_Oil_25000ppm_TGACCA\", \"NB11_NoOil_CAGATC\", \"NB3_NoOil_ACAGTG\", \"NB6_NoOil_GCCAAT\"):\n",
    "    !/Applications/bioinfo/bsmap-2.74/bsmap \\\n",
    "-a /Users/sr320/Dropbox/wd/18-03-18/oil/20150414_trimmed_2112_lane1_{i}.fastq.gz \\\n",
    "-d /Users/sr320/Dropbox/wd/18-03-15/genome/GCF_002022765.2_C_virginica-3.0_genomic.fa \\\n",
    "-o /Users/sr320/Dropbox/wd/18-03-18/bs-out/bsmap_out_{i}.sam \\\n",
    "-p 8 \\\n",
    "2> /Users/sr320/Dropbox/wd/18-03-18/bs-out/stderr_bsmap_{i}.txt"
   ]
  },
  {
   "cell_type": "code",
   "execution_count": null,
   "metadata": {},
   "outputs": [],
   "source": []
  }
 ],
 "metadata": {
  "kernelspec": {
   "display_name": "Python 3",
   "language": "python",
   "name": "python3"
  },
  "language_info": {
   "codemirror_mode": {
    "name": "ipython",
    "version": 3
   },
   "file_extension": ".py",
   "mimetype": "text/x-python",
   "name": "python",
   "nbconvert_exporter": "python",
   "pygments_lexer": "ipython3",
   "version": "3.6.3"
  }
 },
 "nbformat": 4,
 "nbformat_minor": 2
}
