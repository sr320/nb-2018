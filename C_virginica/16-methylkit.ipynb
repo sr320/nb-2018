{
 "cells": [
  {
   "cell_type": "code",
   "execution_count": 2,
   "metadata": {
    "collapsed": false,
    "deletable": true,
    "editable": true
   },
   "outputs": [
    {
     "name": "stderr",
     "output_type": "stream",
     "text": [
      "https:// URLs are not supported\n",
      "Warning message:\n",
      ": unable to access index for repository https://bioconductor.org/packages/3.2/bioc/src/contribWarning message:\n",
      ": package ‘BiocInstaller’ is not available (for R version 3.2.2)'biocLite.R' failed to install 'BiocInstaller', use\n",
      "  'install.packages(\"BiocInstaller\",\n",
      "  repos=\"https://bioconductor.org/packages/3.1/bioc\")' or\n",
      "  'install.packages(\"BiocInstaller\",\n",
      "  repos=\"http://bioconductor.org/packages/3.1/bioc\")'\n"
     ]
    },
    {
     "ename": "ERROR",
     "evalue": "Error in eval(expr, envir, enclos): could not find function \"biocLite\"\n",
     "output_type": "error",
     "traceback": [
      "Error in eval(expr, envir, enclos): could not find function \"biocLite\"\n"
     ]
    }
   ],
   "source": [
    "source(\"https://bioconductor.org/biocLite.R\")\n",
    "biocLite(\"methylKit\")"
   ]
  },
  {
   "cell_type": "code",
   "execution_count": 4,
   "metadata": {
    "collapsed": false,
    "deletable": true,
    "editable": true
   },
   "outputs": [
    {
     "name": "stdout",
     "output_type": "stream",
     "text": [
      "\n",
      "The downloaded source packages are in\n",
      "\t‘/private/var/folders/32/gn3lrlb11ds54r71vtpk47pm0000gn/T/RtmpIF3h5U/downloaded_packages’\n"
     ]
    },
    {
     "name": "stderr",
     "output_type": "stream",
     "text": [
      "Updating HTML index of packages in '.Library'\n",
      "Making 'packages.html' ... done\n"
     ]
    }
   ],
   "source": [
    "install.packages(\"BiocInstaller\",\n",
    "  repos=\"http://bioconductor.org/packages/3.1/bioc\")"
   ]
  },
  {
   "cell_type": "code",
   "execution_count": 8,
   "metadata": {
    "collapsed": false,
    "deletable": true,
    "editable": true
   },
   "outputs": [
    {
     "name": "stderr",
     "output_type": "stream",
     "text": [
      "Bioconductor version 3.1 (BiocInstaller 1.18.5), ?biocLite for help\n",
      "A newer version of Bioconductor is available for this version of R,\n",
      "  ?BiocUpgrade for help\n",
      "BioC_mirror: http://bioconductor.org\n",
      "Using Bioconductor version 3.1 (BiocInstaller 1.18.5), R version 3.2.2.\n",
      "Installing package(s) ‘methylKit’\n",
      "Warning message:\n",
      ": package ‘methylKit’ is not available (for R version 3.2.2)Old packages: 'assertthat', 'BH', 'boot', 'car', 'caret', 'chron', 'cluster',\n",
      "  'codetools', 'colorspace', 'data.table', 'DBI', 'digest', 'dplyr',\n",
      "  'evaluate', 'foreach', 'foreign', 'formatR', 'ggplot2', 'glmnet', 'gtable',\n",
      "  'hexbin', 'highr', 'htmltools', 'htmlwidgets', 'httpuv', 'IRdisplay',\n",
      "  'iterators', 'jsonlite', 'knitr', 'lattice', 'lazyeval', 'lme4', 'maps',\n",
      "  'markdown', 'MASS', 'Matrix', 'mgcv', 'mime', 'munsell', 'nnet', 'plyr',\n",
      "  'proto', 'quantmod', 'quantreg', 'R6', 'randomForest', 'rbokeh', 'Rcpp',\n",
      "  'RcppEigen', 'repr', 'reshape2', 'rmarkdown', 'rpart', 'rzmq', 'scales',\n",
      "  'shiny', 'SparseM', 'stringi', 'stringr', 'survival', 'tidyr', 'TTR',\n",
      "  'xtable', 'xts', 'yaml', 'zoo'\n"
     ]
    }
   ],
   "source": [
    "source(\"http://bioconductor.org/biocLite.R\")\n",
    "biocLite(\"methylKit\")"
   ]
  },
  {
   "cell_type": "code",
   "execution_count": 27,
   "metadata": {
    "collapsed": false
   },
   "outputs": [
    {
     "name": "stderr",
     "output_type": "stream",
     "text": [
      "also installing the dependencies ‘curl’, ‘openssl’, ‘httr’, ‘git2r’\n",
      "\n",
      "Warning message:\n",
      "In install.packages(\"devtools\", repo = \"http://cloud.r-project.org/\"): installation of package ‘curl’ had non-zero exit statusWarning message:\n",
      "In install.packages(\"devtools\", repo = \"http://cloud.r-project.org/\"): installation of package ‘openssl’ had non-zero exit statusWarning message:\n",
      "In install.packages(\"devtools\", repo = \"http://cloud.r-project.org/\"): installation of package ‘git2r’ had non-zero exit statusWarning message:\n",
      "In install.packages(\"devtools\", repo = \"http://cloud.r-project.org/\"): installation of package ‘httr’ had non-zero exit statusWarning message:\n",
      "In install.packages(\"devtools\", repo = \"http://cloud.r-project.org/\"): installation of package ‘devtools’ had non-zero exit status"
     ]
    },
    {
     "name": "stdout",
     "output_type": "stream",
     "text": [
      "\n",
      "The downloaded source packages are in\n",
      "\t‘/private/var/folders/32/gn3lrlb11ds54r71vtpk47pm0000gn/T/RtmpIF3h5U/downloaded_packages’\n"
     ]
    },
    {
     "name": "stderr",
     "output_type": "stream",
     "text": [
      "Updating HTML index of packages in '.Library'\n",
      "Making 'packages.html' ... done\n"
     ]
    }
   ],
   "source": [
    "install.packages(\"devtools\", repo = \"http://cloud.r-project.org/\")\n",
    "\n"
   ]
  },
  {
   "cell_type": "code",
   "execution_count": 23,
   "metadata": {
    "collapsed": false
   },
   "outputs": [
    {
     "ename": "ERROR",
     "evalue": "Error in library(devtools): there is no package called ‘devtools’\n",
     "output_type": "error",
     "traceback": [
      "Error in library(devtools): there is no package called ‘devtools’\n"
     ]
    }
   ],
   "source": [
    "library(devtools)\n"
   ]
  },
  {
   "cell_type": "code",
   "execution_count": 20,
   "metadata": {
    "collapsed": false
   },
   "outputs": [
    {
     "ename": "ERROR",
     "evalue": "Error in eval(expr, envir, enclos): could not find function \"install_github\"\n",
     "output_type": "error",
     "traceback": [
      "Error in eval(expr, envir, enclos): could not find function \"install_github\"\n"
     ]
    }
   ],
   "source": [
    "install_github(\"al2na/methylKit\", build_vignettes=FALSE, \n",
    "  repos=BiocInstaller::biocinstallRepos(),\n",
    "  dependencies=TRUE)"
   ]
  },
  {
   "cell_type": "code",
   "execution_count": null,
   "metadata": {
    "collapsed": true
   },
   "outputs": [],
   "source": []
  }
 ],
 "metadata": {
  "kernelspec": {
   "display_name": "R",
   "language": "R",
   "name": "ir"
  },
  "language_info": {
   "codemirror_mode": "r",
   "file_extension": ".r",
   "mimetype": "text/x-r-source",
   "name": "R",
   "pygments_lexer": "r",
   "version": "3.2.2"
  }
 },
 "nbformat": 4,
 "nbformat_minor": 0
}
