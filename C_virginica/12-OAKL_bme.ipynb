{
 "cells": [
  {
   "cell_type": "code",
   "execution_count": 2,
   "metadata": {
    "collapsed": true
   },
   "outputs": [],
   "source": [
    "mkdir /Volumes/Serine/wd/18-04-12"
   ]
  },
  {
   "cell_type": "code",
   "execution_count": 3,
   "metadata": {
    "collapsed": false
   },
   "outputs": [
    {
     "name": "stdout",
     "output_type": "stream",
     "text": [
      "/Volumes/Serine/wd/18-04-12\n"
     ]
    }
   ],
   "source": [
    "cd /Volumes/Serine/wd/18-04-12"
   ]
  },
  {
   "cell_type": "code",
   "execution_count": 4,
   "metadata": {
    "collapsed": false
   },
   "outputs": [
    {
     "name": "stdout",
     "output_type": "stream",
     "text": [
      "\n",
      "Now testing Bismark result file /Volumes/Serine/wd/18-04-11/zr2096_1_s1_R1_val_1_bismark_bt2_pe.bam for positional sorting (which would be bad...)\tskipping header line:\t@HD\tVN:1.0\tSO:unsorted\n",
      "skipping header line:\t@SQ\tSN:NC_035780.1\tLN:65668440\n",
      "skipping header line:\t@SQ\tSN:NC_035781.1\tLN:61752955\n",
      "skipping header line:\t@SQ\tSN:NC_035782.1\tLN:77061148\n",
      "skipping header line:\t@SQ\tSN:NC_035783.1\tLN:59691872\n",
      "skipping header line:\t@SQ\tSN:NC_035784.1\tLN:98698416\n",
      "skipping header line:\t@SQ\tSN:NC_035785.1\tLN:51258098\n",
      "skipping header line:\t@SQ\tSN:NC_035786.1\tLN:57830854\n",
      "skipping header line:\t@SQ\tSN:NC_035787.1\tLN:75944018\n",
      "skipping header line:\t@SQ\tSN:NC_035788.1\tLN:104168038\n",
      "skipping header line:\t@SQ\tSN:NC_035789.1\tLN:32650045\n",
      "skipping header line:\t@SQ\tSN:NC_007175.2\tLN:17244\n",
      "skipping header line:\t@PG\tID:Bismark\tVN:v0.19.0\tCL:\"bismark --path_to_bowtie /Applications/bioinfo/bowtie2-2.3.4.1-macos-x86_64 --genome /Volumes/Serine/wd/18-03-15/genome --score_min L,0,-1.2 -p 4 --non_directional -1 /Volumes/Serine/wd/18-04-10/trim14/zr2096_1_s1_R1_val_1.fq.gz -2 /Volumes/Serine/wd/18-04-10/trim14/zr2096_1_s1_R2_val_2.fq.gz\"\n"
     ]
    },
    {
     "name": "stderr",
     "output_type": "stream",
     "text": [
      "Processing paired-end Bismark output file(s) (SAM format):\n",
      "/Volumes/Serine/wd/18-04-11/zr2096_1_s1_R1_val_1_bismark_bt2_pe.bam\n",
      "\n",
      "\n",
      "If there are several alignments to a single position in the genome the first alignment will be chosen. Since the input files are not in any way sorted this is a near-enough random selection of reads.\n",
      "\n",
      "Checking file >>/Volumes/Serine/wd/18-04-11/zr2096_1_s1_R1_val_1_bismark_bt2_pe.bam<< for signs of file truncation...\n",
      "\n",
      "samtools view: writing to standard output failed: Broken pipe\n",
      "samtools view: error closing standard output: -1\n",
      "\n",
      "...passed!\n",
      "Output file is: zr2096_1_s1_R1_val_1_bismark_bt2_pe.deduplicated.bam\n",
      "\n",
      "\n",
      "Total number of alignments analysed in /Volumes/Serine/wd/18-04-11/zr2096_1_s1_R1_val_1_bismark_bt2_pe.bam:\t7939368\n",
      "Total number duplicated alignments removed:\t600951 (7.57%)\n",
      "Duplicated alignments were found at:\t253991 different position(s)\n",
      "\n",
      "Total count of deduplicated leftover sequences: 7338417 (92.43% of total)\n",
      "\n",
      "samtools view: writing to standard output failed: Broken pipe\n",
      "samtools view: error closing standard output: -1\n"
     ]
    }
   ],
   "source": [
    "%%bash\n",
    "/Applications/bioinfo/Bismark_v0.19.0/deduplicate_bismark \\\n",
    "--bam -p \\\n",
    "/Volumes/Serine/wd/18-04-11/zr2096_1_s1_R1_val_1_bismark_bt2_pe.bam\n",
    "\n"
   ]
  },
  {
   "cell_type": "code",
   "execution_count": null,
   "metadata": {
    "collapsed": false
   },
   "outputs": [],
   "source": [
    "%%bash\n",
    "/Applications/bioinfo/Bismark_v0.19.0/bismark_methylation_extractor \\\n",
    "-p --bedGraph --counts --scaffolds \\\n",
    "--multicore 2 \\\n",
    "/Volumes/Serine/wd/18-04-12/zr2096_1_s1_R1_val_1_bismark_bt2_pe.deduplicated.bam\n"
   ]
  },
  {
   "cell_type": "code",
   "execution_count": null,
   "metadata": {
    "collapsed": true
   },
   "outputs": [],
   "source": []
  }
 ],
 "metadata": {
  "kernelspec": {
   "display_name": "Python 2",
   "language": "python",
   "name": "python2"
  },
  "language_info": {
   "codemirror_mode": {
    "name": "ipython",
    "version": 2
   },
   "file_extension": ".py",
   "mimetype": "text/x-python",
   "name": "python",
   "nbconvert_exporter": "python",
   "pygments_lexer": "ipython2",
   "version": "2.7.12"
  }
 },
 "nbformat": 4,
 "nbformat_minor": 0
}
