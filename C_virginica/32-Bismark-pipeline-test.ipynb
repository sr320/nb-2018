{
 "cells": [
  {
   "cell_type": "markdown",
   "metadata": {},
   "source": [
    "# SINGLE END BISMARK PIPELINE"
   ]
  },
  {
   "cell_type": "markdown",
   "metadata": {},
   "source": [
    "### Set working directory"
   ]
  },
  {
   "cell_type": "code",
   "execution_count": 72,
   "metadata": {
    "ExecuteTime": {
     "end_time": "2018-04-13T00:02:12.217885Z",
     "start_time": "2018-04-13T00:02:12.211474Z"
    },
    "collapsed": true
   },
   "outputs": [],
   "source": [
    "wd=\"/Users/sr320/Dropbox/wd/18-04-12\""
   ]
  },
  {
   "cell_type": "code",
   "execution_count": 73,
   "metadata": {
    "ExecuteTime": {
     "end_time": "2018-04-13T00:02:12.354391Z",
     "start_time": "2018-04-13T00:02:12.226483Z"
    }
   },
   "outputs": [
    {
     "name": "stdout",
     "output_type": "stream",
     "text": [
      "mkdir: /Users/sr320/Dropbox/wd/18-04-12: File exists\r\n"
     ]
    }
   ],
   "source": [
    "mkdir $wd"
   ]
  },
  {
   "cell_type": "code",
   "execution_count": 108,
   "metadata": {
    "ExecuteTime": {
     "end_time": "2018-04-13T00:17:41.303699Z",
     "start_time": "2018-04-13T00:17:41.291805Z"
    }
   },
   "outputs": [
    {
     "name": "stdout",
     "output_type": "stream",
     "text": [
      "/Users/sr320/Dropbox/wd/18-04-12\n"
     ]
    }
   ],
   "source": [
    "cd $wd"
   ]
  },
  {
   "cell_type": "markdown",
   "metadata": {},
   "source": [
    "## Set sequence data and genome folder location "
   ]
  },
  {
   "cell_type": "code",
   "execution_count": 120,
   "metadata": {
    "ExecuteTime": {
     "end_time": "2018-04-13T00:31:53.143234Z",
     "start_time": "2018-04-13T00:31:25.902689Z"
    }
   },
   "outputs": [
    {
     "name": "stdout",
     "output_type": "stream",
     "text": [
      "FastQ format assumed (by default)\n",
      "Each Bowtie 2 instance is going to be run with 4 threads. Please monitor performance closely and tune down if needed!\n",
      "chr NC_035780.1 (65668440 bp)\n",
      "chr NC_035781.1 (61752955 bp)\n",
      "chr NC_035782.1 (77061148 bp)\n",
      "chr NC_035783.1 (59691872 bp)\n",
      "chr NC_035784.1 (98698416 bp)\n",
      "chr NC_035785.1 (51258098 bp)\n",
      "chr NC_035786.1 (57830854 bp)\n",
      "chr NC_035787.1 (75944018 bp)\n",
      "chr NC_035788.1 (104168038 bp)\n",
      "chr NC_035789.1 (32650045 bp)\n",
      "chr NC_007175.2 (17244 bp)\n",
      "\n",
      "Processed 10000 sequences in total\n",
      "\n",
      "Sequences with no alignments under any condition:\t2031\n",
      "Sequences did not map uniquely:\t2473\n",
      "Sequences which were discarded because genomic sequence could not be extracted:\t0\n",
      "\n",
      "Number of sequences with unique best (first) alignment came from the bowtie output:\n",
      "CT/CT:\t388\t((converted) top strand)\n",
      "CT/GA:\t405\t((converted) bottom strand)\n",
      "GA/CT:\t2281\t(complementary to (converted) top strand)\n",
      "GA/GA:\t2422\t(complementary to (converted) bottom strand)\n",
      "\n"
     ]
    }
   ],
   "source": [
    "%%bash\n",
    "\n",
    "r1=\"/Users/sr320/Dropbox/wd/18-03-18/oil/20150414_trimmed_2112_lane1_HB2_Oil_25000ppm_ATCACG.fastq.gz\"\n",
    "\n",
    "\n",
    "/Applications/bioinfo/Bismark_v0.19.0/bismark \\\n",
    "--path_to_bowtie /Applications/bioinfo/bowtie2-2.3.4.1-macos-x86_64 \\\n",
    "--genome /Users/sr320/Dropbox/wd/18-03-15/genome \\\n",
    "--score_min L,0,-0.9 \\\n",
    "-u 10000 \\\n",
    "-p 4 \\\n",
    "--non_directional \\\n",
    "$r1 \\\n",
    "2> bismark.err"
   ]
  },
  {
   "cell_type": "code",
   "execution_count": 121,
   "metadata": {
    "ExecuteTime": {
     "end_time": "2018-04-13T00:31:53.297063Z",
     "start_time": "2018-04-13T00:31:53.149904Z"
    }
   },
   "outputs": [
    {
     "name": "stdout",
     "output_type": "stream",
     "text": [
      "20150414_trimmed_2112_lane1_HB2_Oil_25000ppm_ATCACG_bismark_bt2.bam\r\n",
      "20150414_trimmed_2112_lane1_HB2_Oil_25000ppm_ATCACG_bismark_bt2_SE_report.txt\r\n",
      "bismark.err\r\n"
     ]
    }
   ],
   "source": [
    "ls "
   ]
  },
  {
   "cell_type": "code",
   "execution_count": 122,
   "metadata": {
    "ExecuteTime": {
     "end_time": "2018-04-13T00:31:53.423026Z",
     "start_time": "2018-04-13T00:31:53.300602Z"
    }
   },
   "outputs": [
    {
     "name": "stdout",
     "output_type": "stream",
     "text": [
      "Sequences analysed in total:\t10000\r\n",
      "Number of alignments with a unique best hit from the different alignments:\t5496\r\n",
      "Mapping efficiency:\t55.0%\r\n",
      "\r\n",
      "Final Cytosine Methylation Report\r\n",
      "=================================\r\n",
      "Total number of C's analysed:\t104088\r\n",
      "\r\n",
      "Total methylated C's in CpG context:\t12163\r\n",
      "Total methylated C's in CHG context:\t5964\r\n",
      "Total methylated C's in CHH context:\t20944\r\n",
      "Total methylated C's in Unknown context:\t241\r\n",
      "\r\n",
      "Total unmethylated C's in CpG context:\t6243\r\n",
      "Total unmethylated C's in CHG context:\t18583\r\n",
      "Total unmethylated C's in CHH context:\t40191\r\n",
      "Total unmethylated C's in Unknown context:\t636\r\n",
      "\r\n",
      "C methylated in CpG context:\t66.1%\r\n",
      "C methylated in CHG context:\t24.3%\r\n",
      "C methylated in CHH context:\t34.3%\r\n",
      "C methylated in Unknown context (CN or CHN):\t27.5%\r\n",
      "\r\n",
      "\r\n",
      "Bismark completed in 0d 0h 0m 26s\r\n",
      "\r\n",
      "====================\r\n",
      "Bismark run complete\r\n",
      "====================\r\n",
      "\r\n"
     ]
    }
   ],
   "source": [
    "!tail -30 bismark.err"
   ]
  },
  {
   "cell_type": "code",
   "execution_count": 123,
   "metadata": {
    "ExecuteTime": {
     "end_time": "2018-04-13T00:31:54.728875Z",
     "start_time": "2018-04-13T00:31:53.426280Z"
    }
   },
   "outputs": [
    {
     "name": "stdout",
     "output_type": "stream",
     "text": [
      "skipping header line:\t@HD\tVN:1.0\tSO:unsorted\n",
      "skipping header line:\t@SQ\tSN:NC_035780.1\tLN:65668440\n",
      "skipping header line:\t@SQ\tSN:NC_035781.1\tLN:61752955\n",
      "skipping header line:\t@SQ\tSN:NC_035782.1\tLN:77061148\n",
      "skipping header line:\t@SQ\tSN:NC_035783.1\tLN:59691872\n",
      "skipping header line:\t@SQ\tSN:NC_035784.1\tLN:98698416\n",
      "skipping header line:\t@SQ\tSN:NC_035785.1\tLN:51258098\n",
      "skipping header line:\t@SQ\tSN:NC_035786.1\tLN:57830854\n",
      "skipping header line:\t@SQ\tSN:NC_035787.1\tLN:75944018\n",
      "skipping header line:\t@SQ\tSN:NC_035788.1\tLN:104168038\n",
      "skipping header line:\t@SQ\tSN:NC_035789.1\tLN:32650045\n",
      "skipping header line:\t@SQ\tSN:NC_007175.2\tLN:17244\n",
      "skipping header line:\t@PG\tID:Bismark\tVN:v0.19.0\tCL:\"bismark --path_to_bowtie /Applications/bioinfo/bowtie2-2.3.4.1-macos-x86_64 --genome /Users/sr320/Dropbox/wd/18-03-15/genome --score_min L,0,-0.9 -u 10000 -p 4 --non_directional /Users/sr320/Dropbox/wd/18-03-18/oil/20150414_trimmed_2112_lane1_HB2_Oil_25000ppm_ATCACG.fastq.gz\"\n"
     ]
    }
   ],
   "source": [
    "%%bash\n",
    "\n",
    "/Applications/bioinfo/Bismark_v0.19.0/deduplicate_bismark \\\n",
    "--bam -s \\\n",
    "*.bam \\\n",
    "2> dedup.err\n",
    "\n",
    "\n"
   ]
  },
  {
   "cell_type": "code",
   "execution_count": 124,
   "metadata": {
    "ExecuteTime": {
     "end_time": "2018-04-13T00:31:54.856838Z",
     "start_time": "2018-04-13T00:31:54.732401Z"
    }
   },
   "outputs": [
    {
     "name": "stdout",
     "output_type": "stream",
     "text": [
      "Duplicated alignments were found at:\t8 different position(s)\r\n",
      "\r\n",
      "Total count of deduplicated leftover sequences: 5488 (99.85% of total)\r\n",
      "\r\n"
     ]
    }
   ],
   "source": [
    "!tail -4 dedup.err"
   ]
  },
  {
   "cell_type": "code",
   "execution_count": 125,
   "metadata": {
    "ExecuteTime": {
     "end_time": "2018-04-13T00:32:15.435033Z",
     "start_time": "2018-04-13T00:31:54.863403Z"
    }
   },
   "outputs": [
    {
     "name": "stdout",
     "output_type": "stream",
     "text": [
      "20150414_trimmed_2112_lane1_HB2_Oil_25000ppm_ATCACG_bismark_bt2.deduplicated_splitting_report.txt.1\n",
      "20150414_trimmed_2112_lane1_HB2_Oil_25000ppm_ATCACG_bismark_bt2.deduplicated_splitting_report.txt.2\n",
      "\n",
      "20150414_trimmed_2112_lane1_HB2_Oil_25000ppm_ATCACG_bismark_bt2.deduplicated_splitting_report.txt.1.mbias\n",
      "20150414_trimmed_2112_lane1_HB2_Oil_25000ppm_ATCACG_bismark_bt2.deduplicated_splitting_report.txt.2.mbias\n",
      "\n",
      "/Users/sr320/Dropbox/wd/18-04-12/CpG_OT_20150414_trimmed_2112_lane1_HB2_Oil_25000ppm_ATCACG_bismark_bt2.deduplicated.txt\t/Users/sr320/Dropbox/wd/18-04-12/CpG_CTOT_20150414_trimmed_2112_lane1_HB2_Oil_25000ppm_ATCACG_bismark_bt2.deduplicated.txt\t/Users/sr320/Dropbox/wd/18-04-12/CpG_CTOB_20150414_trimmed_2112_lane1_HB2_Oil_25000ppm_ATCACG_bismark_bt2.deduplicated.txt\t/Users/sr320/Dropbox/wd/18-04-12/CpG_OB_20150414_trimmed_2112_lane1_HB2_Oil_25000ppm_ATCACG_bismark_bt2.deduplicated.txt\n",
      "\n"
     ]
    }
   ],
   "source": [
    "%%bash\n",
    "/Applications/bioinfo/Bismark_v0.19.0/bismark_methylation_extractor \\\n",
    "--bedGraph --counts --scaffolds \\\n",
    "--multicore 2 \\\n",
    "*deduplicated.bam \\\n",
    "2> bme.err"
   ]
  },
  {
   "cell_type": "code",
   "execution_count": 126,
   "metadata": {
    "ExecuteTime": {
     "end_time": "2018-04-13T00:32:15.593803Z",
     "start_time": "2018-04-13T00:32:15.439182Z"
    },
    "collapsed": true
   },
   "outputs": [],
   "source": [
    "!gunzip *bedGraph.gz"
   ]
  },
  {
   "cell_type": "code",
   "execution_count": 127,
   "metadata": {
    "ExecuteTime": {
     "end_time": "2018-04-13T00:32:15.738197Z",
     "start_time": "2018-04-13T00:32:15.598960Z"
    }
   },
   "outputs": [
    {
     "name": "stdout",
     "output_type": "stream",
     "text": [
      "track type=bedGraph\r\n",
      "NC_007175.2\t3860\t3861\t100\r\n",
      "NC_007175.2\t3887\t3888\t100\r\n",
      "NC_007175.2\t3934\t3935\t100\r\n",
      "NC_007175.2\t3945\t3946\t100\r\n",
      "NC_007175.2\t14168\t14169\t0\r\n",
      "NC_007175.2\t14189\t14190\t0\r\n",
      "NC_007175.2\t14197\t14198\t0\r\n",
      "NC_007175.2\t14221\t14222\t0\r\n",
      "NC_035780.1\t256432\t256433\t100\r\n"
     ]
    }
   ],
   "source": [
    "!head *.deduplicated.bedGraph"
   ]
  },
  {
   "cell_type": "code",
   "execution_count": 128,
   "metadata": {
    "ExecuteTime": {
     "end_time": "2018-04-13T00:32:15.884995Z",
     "start_time": "2018-04-13T00:32:15.745508Z"
    }
   },
   "outputs": [
    {
     "name": "stderr",
     "output_type": "stream",
     "text": [
      "Found 1 alignment reports in current directory. Now trying to figure out whether there are corresponding optional reports\n",
      "\n",
      "Writing Bismark HTML report to >> 20150414_trimmed_2112_lane1_HB2_Oil_25000ppm_ATCACG_bismark_bt2_SE_report.html <<\n",
      "\n",
      "==============================================================================================================\n",
      "Using the following alignment report:\t\t> 20150414_trimmed_2112_lane1_HB2_Oil_25000ppm_ATCACG_bismark_bt2_SE_report.txt <\n",
      "Processing alignment report 20150414_trimmed_2112_lane1_HB2_Oil_25000ppm_ATCACG_bismark_bt2_SE_report.txt ...\n",
      "Complete\n",
      "\n",
      "Using the following deduplication report:\t> 20150414_trimmed_2112_lane1_HB2_Oil_25000ppm_ATCACG_bismark_bt2.deduplication_report.txt <\n",
      "Processing deduplication report 20150414_trimmed_2112_lane1_HB2_Oil_25000ppm_ATCACG_bismark_bt2.deduplication_report.txt ...\n",
      "Complete\n",
      "\n",
      "Using the following splitting report:\t\t> 20150414_trimmed_2112_lane1_HB2_Oil_25000ppm_ATCACG_bismark_bt2.deduplicated_splitting_report.txt <\n",
      "Processing splitting report 20150414_trimmed_2112_lane1_HB2_Oil_25000ppm_ATCACG_bismark_bt2.deduplicated_splitting_report.txt ...\n",
      "Complete\n",
      "\n",
      "Using the following M-bias report:\t\t> 20150414_trimmed_2112_lane1_HB2_Oil_25000ppm_ATCACG_bismark_bt2.deduplicated.M-bias.txt <\n",
      "Processing M-bias report 20150414_trimmed_2112_lane1_HB2_Oil_25000ppm_ATCACG_bismark_bt2.deduplicated.M-bias.txt ...\n",
      "Complete\n",
      "\n",
      "No nucleotide coverage report file specified, skipping this step\n",
      "==============================================================================================================\n",
      "\n",
      "\n"
     ]
    }
   ],
   "source": [
    "%%bash\n",
    "/Applications/bioinfo/Bismark_v0.19.0/bismark2report"
   ]
  },
  {
   "cell_type": "code",
   "execution_count": 129,
   "metadata": {
    "ExecuteTime": {
     "end_time": "2018-04-13T00:32:16.306308Z",
     "start_time": "2018-04-13T00:32:15.889833Z"
    },
    "collapsed": true
   },
   "outputs": [],
   "source": [
    "!open *report.html"
   ]
  },
  {
   "cell_type": "code",
   "execution_count": 130,
   "metadata": {
    "ExecuteTime": {
     "end_time": "2018-04-13T00:32:16.423290Z",
     "start_time": "2018-04-13T00:32:16.310267Z"
    }
   },
   "outputs": [
    {
     "name": "stderr",
     "output_type": "stream",
     "text": [
      "Found Bismark/Bowtie2 single-end files\n",
      "No Bismark/Bowtie2 paired-end BAM files detected\n",
      "No Bismark/Bowtie single-end BAM files detected\n",
      "No Bismark/Bowtie paired-end BAM files detected\n",
      "\n",
      "Generating Bismark summary report from 1 Bismark BAM file(s)...\n",
      ">> Reading from Bismark report: 20150414_trimmed_2112_lane1_HB2_Oil_25000ppm_ATCACG_bismark_bt2_SE_report.txt\n",
      "\n",
      "Wrote Bismark project summary to >> bismark_summary_report.html <<\n",
      "\n"
     ]
    }
   ],
   "source": [
    "%%bash\n",
    "/Applications/bioinfo/Bismark_v0.19.0/bismark2summary"
   ]
  },
  {
   "cell_type": "code",
   "execution_count": null,
   "metadata": {
    "collapsed": true
   },
   "outputs": [],
   "source": []
  }
 ],
 "metadata": {
  "kernelspec": {
   "display_name": "Python 3",
   "language": "python",
   "name": "python3"
  },
  "language_info": {
   "codemirror_mode": {
    "name": "ipython",
    "version": 3
   },
   "file_extension": ".py",
   "mimetype": "text/x-python",
   "name": "python",
   "nbconvert_exporter": "python",
   "pygments_lexer": "ipython3",
   "version": "3.6.3"
  }
 },
 "nbformat": 4,
 "nbformat_minor": 1
}
