{
 "cells": [
  {
   "cell_type": "markdown",
   "metadata": {},
   "source": [
    "![samples](https://sr320.github.io/images/RRBS_QIA.png)"
   ]
  },
  {
   "cell_type": "markdown",
   "metadata": {},
   "source": [
    "multiQC on raw reads\n",
    "http://gannet.fish.washington.edu/seashell/bu-serine-wd/18-03-14/multiqc_report.html"
   ]
  },
  {
   "cell_type": "markdown",
   "metadata": {},
   "source": [
    "# Summary using the following\n",
    "\n",
    "```\n",
    "%%bash\n",
    "find /Volumes/Serine/wd/18-03-14/*_R1_001.fastq.gz \\\n",
    "| xargs basename -s _L001_R1_001.fastq.gz | xargs -I{} /Applications/bioinfo/Bismark_v0.19.0/bismark \\\n",
    "--path_to_bowtie /Applications/bioinfo/bowtie2-2.3.4.1-macos-x86_64 \\\n",
    "--genome /Volumes/Serine/wd/18-03-15/genome \\\n",
    "--score_min L,0,-0.6 \\\n",
    "-p 4 \\\n",
    "--non_directional \\\n",
    "-1 /Volumes/Serine/wd/18-03-14/{}_L001_R1_001.fastq.gz \\\n",
    "-2 /Volumes/Serine/wd/18-03-14/{}_L001_R2_001.fastq.gz \\\n",
    "2> bismark.err\n",
    "```"
   ]
  },
  {
   "cell_type": "markdown",
   "metadata": {},
   "source": [
    "![bismark-report](img/q-report.png)"
   ]
  },
  {
   "cell_type": "markdown",
   "metadata": {},
   "source": [
    "![bismark-report](img/q-report2.png)"
   ]
  },
  {
   "cell_type": "code",
   "execution_count": 3,
   "metadata": {
    "collapsed": false
   },
   "outputs": [
    {
     "name": "stdout",
     "output_type": "stream",
     "text": [
      "/Volumes/Serine/wd/18-07-30b/10_32_S32_L001_R1_001_bismark_bt2_pe.deduplicated.bedGraph\r\n",
      "/Volumes/Serine/wd/18-07-30b/11_37_S37_L001_R1_001_bismark_bt2_pe.deduplicated.bedGraph\r\n",
      "/Volumes/Serine/wd/18-07-30b/12_38_S38_L001_R1_001_bismark_bt2_pe.deduplicated.bedGraph\r\n",
      "/Volumes/Serine/wd/18-07-30b/13_33_S33_L001_R1_001_bismark_bt2_pe.deduplicated.bedGraph\r\n",
      "/Volumes/Serine/wd/18-07-30b/14_34_S34_L001_R1_001_bismark_bt2_pe.deduplicated.bedGraph\r\n",
      "/Volumes/Serine/wd/18-07-30b/15_39_S39_L001_R1_001_bismark_bt2_pe.deduplicated.bedGraph\r\n",
      "/Volumes/Serine/wd/18-07-30b/16_40_S40_L001_R1_001_bismark_bt2_pe.deduplicated.bedGraph\r\n",
      "/Volumes/Serine/wd/18-07-30b/17_9_S9_L001_R1_001_bismark_bt2_pe.deduplicated.bedGraph\r\n",
      "/Volumes/Serine/wd/18-07-30b/18_10_S10_L001_R1_001_bismark_bt2_pe.deduplicated.bedGraph\r\n",
      "/Volumes/Serine/wd/18-07-30b/19_7_S7_L001_R1_001_bismark_bt2_pe.deduplicated.bedGraph\r\n",
      "/Volumes/Serine/wd/18-07-30b/1_25_S25_L001_R1_001_bismark_bt2_pe.deduplicated.bedGraph\r\n",
      "/Volumes/Serine/wd/18-07-30b/20_8_S8_L001_R1_001_bismark_bt2_pe.deduplicated.bedGraph\r\n",
      "/Volumes/Serine/wd/18-07-30b/2_26_S26_L001_R1_001_bismark_bt2_pe.deduplicated.bedGraph\r\n",
      "/Volumes/Serine/wd/18-07-30b/3_27_S27_L001_R1_001_bismark_bt2_pe.deduplicated.bedGraph\r\n",
      "/Volumes/Serine/wd/18-07-30b/4_28_S28_L001_R1_001_bismark_bt2_pe.deduplicated.bedGraph\r\n",
      "/Volumes/Serine/wd/18-07-30b/5_35_S35_L001_R1_001_bismark_bt2_pe.deduplicated.bedGraph\r\n",
      "/Volumes/Serine/wd/18-07-30b/6_36_S36_L001_R1_001_bismark_bt2_pe.deduplicated.bedGraph\r\n",
      "/Volumes/Serine/wd/18-07-30b/7_29_S29_L001_R1_001_bismark_bt2_pe.deduplicated.bedGraph\r\n",
      "/Volumes/Serine/wd/18-07-30b/8_30_S30_L001_R1_001_bismark_bt2_pe.deduplicated.bedGraph\r\n",
      "/Volumes/Serine/wd/18-07-30b/9_31_S31_L001_R1_001_bismark_bt2_pe.deduplicated.bedGraph\r\n"
     ]
    }
   ],
   "source": [
    "ls /Volumes/Serine/wd/18-07-30b/*bedGraph"
   ]
  },
  {
   "cell_type": "code",
   "execution_count": null,
   "metadata": {
    "collapsed": true
   },
   "outputs": [],
   "source": []
  }
 ],
 "metadata": {
  "kernelspec": {
   "display_name": "Python 2",
   "language": "python",
   "name": "python2"
  },
  "language_info": {
   "codemirror_mode": {
    "name": "ipython",
    "version": 2
   },
   "file_extension": ".py",
   "mimetype": "text/x-python",
   "name": "python",
   "nbconvert_exporter": "python",
   "pygments_lexer": "ipython2",
   "version": "2.7.12"
  }
 },
 "nbformat": 4,
 "nbformat_minor": 0
}
