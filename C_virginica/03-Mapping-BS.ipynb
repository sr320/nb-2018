{
 "cells": [
  {
   "cell_type": "code",
   "execution_count": 3,
   "metadata": {
    "collapsed": false,
    "deletable": true,
    "editable": true,
    "scrolled": true
   },
   "outputs": [
    {
     "name": "stdout",
     "output_type": "stream",
     "text": [
      "\n",
      "BSMAP v2.74\n",
      "Start at:  Thu Mar 15 11:16:55 2018\n",
      "\n",
      "Input reference file: /Volumes/Serine/wd/18-03-14/GCA_002022765.4_C_virginica-3.0_genomic.fna \t(format: FASTA)\n",
      "Load in 10 db seqs, total size 684723884 bp. 7 secs passed\n",
      "total_kmers: 43046721\n",
      "Create seed table. 27 secs passed\n",
      "max number of mismatches: read_length * 8% \tmax gap size: 0\n",
      "kmer cut-off ratio: 5e-07\n",
      "max multi-hits: 100\tmax Ns: 5\tseed size: 16\tindex interval: 4\n",
      "quality cutoff: 0\tbase quality char: '!'\n",
      "min fragment size:28\tmax fragemt size:500\n",
      "start from read #1\tend at read #4294967295\n",
      "additional alignment: T in reads => C in reference\n",
      "mapping strand: ++,-+\n",
      "Single-end alignment(4 threads)\n",
      "Input read file: /Volumes/Serine/wd/18-03-14/10_32_S32_L001_R1_001.fastq.gz \t(format: gzipped FASTQ)\n",
      "Output file: /Volumes/Serine/wd/18-03-15/10_32-bsmap_out_Cv3-4.sam\t (format: SAM)\n",
      "Thread #0: \t50000 reads finished. 32 secs passed\n",
      "Thread #3: \t150000 reads finished. 32 secs passed\n",
      "Thread #2: \t100000 reads finished. 32 secs passed\n",
      "Thread #1: \t200000 reads finished. 32 secs passed\n",
      "Thread #0: \t250000 reads finished. 36 secs passed\n",
      "Thread #3: \t300000 reads finished. 37 secs passed\n",
      "Thread #2: \t350000 reads finished. 37 secs passed\n",
      "Thread #1: \t400000 reads finished. 37 secs passed\n",
      "Thread #1: \t574346 reads finished. 39 secs passed\n",
      "Thread #0: \t450000 reads finished. 41 secs passed\n",
      "Thread #3: \t500000 reads finished. 41 secs passed\n",
      "Thread #2: \t550000 reads finished. 41 secs passed\n",
      "Total number of aligned reads: 149539 (26%)\n",
      "Done.\n",
      "Finished at Thu Mar 15 11:17:36 2018\n",
      "Total time consumed:  41 secs\n"
     ]
    }
   ],
   "source": [
    "!/Applications/bioinfo/BSMAP/bsmap-2.74/bsmap \\\n",
    "-a /Volumes/Serine/wd/18-03-14/10_32_S32_L001_R1_001.fastq.gz \\\n",
    "-d /Volumes/Serine/wd/18-03-14/GCA_002022765.4_C_virginica-3.0_genomic.fna \\\n",
    "-o /Volumes/Serine/wd/18-03-15/10_32-bsmap_out_Cv3-4.sam \\\n",
    "-p 4"
   ]
  },
  {
   "cell_type": "code",
   "execution_count": 4,
   "metadata": {
    "collapsed": false
   },
   "outputs": [
    {
     "name": "stdout",
     "output_type": "stream",
     "text": [
      "\n",
      "BSMAP v2.74\n",
      "Start at:  Thu Mar 15 11:18:08 2018\n",
      "\n",
      "Input reference file: /Volumes/Serine/wd/18-03-14/GCF_002022765.2_C_virginica-3.0_genomic.fna \t(format: FASTA)\n",
      "Load in 11 db seqs, total size 684741128 bp. 7 secs passed\n",
      "total_kmers: 43046721\n",
      "Create seed table. 29 secs passed\n",
      "max number of mismatches: read_length * 8% \tmax gap size: 0\n",
      "kmer cut-off ratio: 5e-07\n",
      "max multi-hits: 100\tmax Ns: 5\tseed size: 16\tindex interval: 4\n",
      "quality cutoff: 0\tbase quality char: '!'\n",
      "min fragment size:28\tmax fragemt size:500\n",
      "start from read #1\tend at read #4294967295\n",
      "additional alignment: T in reads => C in reference\n",
      "mapping strand: ++,-+\n",
      "Single-end alignment(4 threads)\n",
      "Input read file: /Volumes/Serine/wd/18-03-14/10_32_S32_L001_R1_001.fastq.gz \t(format: gzipped FASTQ)\n",
      "Output file: /Volumes/Serine/wd/18-03-15/10_32-bsmap_out_Cv3-2.sam\t (format: SAM)\n",
      "Thread #0: \t50000 reads finished. 33 secs passed\n",
      "Thread #1: \t100000 reads finished. 34 secs passed\n",
      "Thread #3: \t150000 reads finished. 34 secs passed\n",
      "Thread #2: \t200000 reads finished. 34 secs passed\n",
      "Thread #0: \t250000 reads finished. 45 secs passed\n",
      "Thread #3: \t350000 reads finished. 45 secs passed\n",
      "Thread #1: \t300000 reads finished. 45 secs passed\n",
      "Thread #2: \t400000 reads finished. 46 secs passed\n",
      "Thread #2: \t574346 reads finished. 49 secs passed\n",
      "Thread #0: \t450000 reads finished. 52 secs passed\n",
      "Thread #1: \t550000 reads finished. 52 secs passed\n",
      "Thread #3: \t500000 reads finished. 52 secs passed\n",
      "Total number of aligned reads: 149545 (26%)\n",
      "Done.\n",
      "Finished at Thu Mar 15 11:19:00 2018\n",
      "Total time consumed:  52 secs\n"
     ]
    }
   ],
   "source": [
    "!/Applications/bioinfo/BSMAP/bsmap-2.74/bsmap \\\n",
    "-a /Volumes/Serine/wd/18-03-14/10_32_S32_L001_R1_001.fastq.gz \\\n",
    "-d /Volumes/Serine/wd/18-03-14/GCF_002022765.2_C_virginica-3.0_genomic.fna \\\n",
    "-o /Volumes/Serine/wd/18-03-15/10_32-bsmap_out_Cv3-2.sam \\\n",
    "-p 4"
   ]
  },
  {
   "cell_type": "code",
   "execution_count": null,
   "metadata": {
    "collapsed": true
   },
   "outputs": [],
   "source": []
  }
 ],
 "metadata": {
  "kernelspec": {
   "display_name": "Python 2",
   "language": "python",
   "name": "python2"
  },
  "language_info": {
   "codemirror_mode": {
    "name": "ipython",
    "version": 2
   },
   "file_extension": ".py",
   "mimetype": "text/x-python",
   "name": "python",
   "nbconvert_exporter": "python",
   "pygments_lexer": "ipython2",
   "version": "2.7.12"
  }
 },
 "nbformat": 4,
 "nbformat_minor": 0
}
