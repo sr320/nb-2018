{
 "cells": [
  {
   "cell_type": "code",
   "execution_count": 1,
   "metadata": {
    "ExecuteTime": {
     "end_time": "2018-09-22T23:16:03.597622Z",
     "start_time": "2018-09-22T23:16:03.425306Z"
    }
   },
   "outputs": [
    {
     "name": "stdout",
     "output_type": "stream",
     "text": [
      "/Users/sr320/Desktop/Qiagen/10_32_S32_L001_R1_001.fastq.gz\r\n",
      "/Users/sr320/Desktop/Qiagen/11_37_S37_L001_R1_001.fastq.gz\r\n",
      "/Users/sr320/Desktop/Qiagen/12_38_S38_L001_R1_001.fastq.gz\r\n",
      "/Users/sr320/Desktop/Qiagen/13_33_S33_L001_R1_001.fastq.gz\r\n",
      "/Users/sr320/Desktop/Qiagen/14_34_S34_L001_R1_001.fastq.gz\r\n",
      "/Users/sr320/Desktop/Qiagen/15_39_S39_L001_R1_001.fastq.gz\r\n",
      "/Users/sr320/Desktop/Qiagen/16_40_S40_L001_R1_001.fastq.gz\r\n",
      "/Users/sr320/Desktop/Qiagen/17_9_S9_L001_R1_001.fastq.gz\r\n",
      "/Users/sr320/Desktop/Qiagen/18_10_S10_L001_R1_001.fastq.gz\r\n",
      "/Users/sr320/Desktop/Qiagen/19_7_S7_L001_R1_001.fastq.gz\r\n",
      "/Users/sr320/Desktop/Qiagen/1_25_S25_L001_R1_001.fastq.gz\r\n",
      "/Users/sr320/Desktop/Qiagen/20_8_S8_L001_R1_001.fastq.gz\r\n",
      "/Users/sr320/Desktop/Qiagen/2_26_S26_L001_R1_001.fastq.gz\r\n",
      "/Users/sr320/Desktop/Qiagen/3_27_S27_L001_R1_001.fastq.gz\r\n",
      "/Users/sr320/Desktop/Qiagen/4_28_S28_L001_R1_001.fastq.gz\r\n",
      "/Users/sr320/Desktop/Qiagen/5_35_S35_L001_R1_001.fastq.gz\r\n",
      "/Users/sr320/Desktop/Qiagen/6_36_S36_L001_R1_001.fastq.gz\r\n",
      "/Users/sr320/Desktop/Qiagen/7_29_S29_L001_R1_001.fastq.gz\r\n",
      "/Users/sr320/Desktop/Qiagen/8_30_S30_L001_R1_001.fastq.gz\r\n",
      "/Users/sr320/Desktop/Qiagen/9_31_S31_L001_R1_001.fastq.gz\r\n"
     ]
    }
   ],
   "source": [
    "!ls /Users/sr320/Desktop/Qiagen/*R1*"
   ]
  },
  {
   "cell_type": "code",
   "execution_count": 2,
   "metadata": {
    "ExecuteTime": {
     "end_time": "2018-09-22T23:16:14.939619Z",
     "start_time": "2018-09-22T23:16:14.809439Z"
    }
   },
   "outputs": [
    {
     "name": "stdout",
     "output_type": "stream",
     "text": [
      "/Users/sr320/Desktop/Qiagen/10_32_S32_L001_R2_001.fastq.gz\r\n",
      "/Users/sr320/Desktop/Qiagen/11_37_S37_L001_R2_001.fastq.gz\r\n",
      "/Users/sr320/Desktop/Qiagen/12_38_S38_L001_R2_001.fastq.gz\r\n",
      "/Users/sr320/Desktop/Qiagen/13_33_S33_L001_R2_001.fastq.gz\r\n",
      "/Users/sr320/Desktop/Qiagen/14_34_S34_L001_R2_001.fastq.gz\r\n",
      "/Users/sr320/Desktop/Qiagen/15_39_S39_L001_R2_001.fastq.gz\r\n",
      "/Users/sr320/Desktop/Qiagen/16_40_S40_L001_R2_001.fastq.gz\r\n",
      "/Users/sr320/Desktop/Qiagen/17_9_S9_L001_R2_001.fastq.gz\r\n",
      "/Users/sr320/Desktop/Qiagen/18_10_S10_L001_R2_001.fastq.gz\r\n",
      "/Users/sr320/Desktop/Qiagen/19_7_S7_L001_R2_001.fastq.gz\r\n",
      "/Users/sr320/Desktop/Qiagen/1_25_S25_L001_R2_001.fastq.gz\r\n",
      "/Users/sr320/Desktop/Qiagen/20_8_S8_L001_R2_001.fastq.gz\r\n",
      "/Users/sr320/Desktop/Qiagen/2_26_S26_L001_R2_001.fastq.gz\r\n",
      "/Users/sr320/Desktop/Qiagen/3_27_S27_L001_R2_001.fastq.gz\r\n",
      "/Users/sr320/Desktop/Qiagen/4_28_S28_L001_R2_001.fastq.gz\r\n",
      "/Users/sr320/Desktop/Qiagen/5_35_S35_L001_R2_001.fastq.gz\r\n",
      "/Users/sr320/Desktop/Qiagen/6_36_S36_L001_R2_001.fastq.gz\r\n",
      "/Users/sr320/Desktop/Qiagen/7_29_S29_L001_R2_001.fastq.gz\r\n",
      "/Users/sr320/Desktop/Qiagen/8_30_S30_L001_R2_001.fastq.gz\r\n",
      "/Users/sr320/Desktop/Qiagen/9_31_S31_L001_R2_001.fastq.gz\r\n"
     ]
    }
   ],
   "source": [
    "!ls /Users/sr320/Desktop/Qiagen/*R2* "
   ]
  },
  {
   "cell_type": "code",
   "execution_count": 3,
   "metadata": {
    "ExecuteTime": {
     "end_time": "2018-09-22T23:17:26.335799Z",
     "start_time": "2018-09-22T23:17:18.253276Z"
    }
   },
   "outputs": [],
   "source": [
    "!gunzip -k /Users/sr320/Desktop/Qiagen/*R1*"
   ]
  },
  {
   "cell_type": "code",
   "execution_count": 8,
   "metadata": {
    "ExecuteTime": {
     "end_time": "2018-09-22T23:20:23.202136Z",
     "start_time": "2018-09-22T23:20:13.195672Z"
    }
   },
   "outputs": [
    {
     "name": "stdout",
     "output_type": "stream",
     "text": [
      "gunzip: /Users/sr320/Desktop/Qiagen/R2_001.fastq: unknown suffix -- ignored\r\n"
     ]
    }
   ],
   "source": [
    "!gunzip -k /Users/sr320/Desktop/Qiagen/*R2*"
   ]
  },
  {
   "cell_type": "code",
   "execution_count": 4,
   "metadata": {
    "ExecuteTime": {
     "end_time": "2018-09-22T23:17:34.556458Z",
     "start_time": "2018-09-22T23:17:34.415533Z"
    }
   },
   "outputs": [
    {
     "name": "stdout",
     "output_type": "stream",
     "text": [
      "/Users/sr320/Desktop/Qiagen/10_32_S32_L001_R1_001.fastq\r\n",
      "/Users/sr320/Desktop/Qiagen/10_32_S32_L001_R1_001.fastq.gz\r\n",
      "/Users/sr320/Desktop/Qiagen/11_37_S37_L001_R1_001.fastq\r\n",
      "/Users/sr320/Desktop/Qiagen/11_37_S37_L001_R1_001.fastq.gz\r\n",
      "/Users/sr320/Desktop/Qiagen/12_38_S38_L001_R1_001.fastq\r\n",
      "/Users/sr320/Desktop/Qiagen/12_38_S38_L001_R1_001.fastq.gz\r\n",
      "/Users/sr320/Desktop/Qiagen/13_33_S33_L001_R1_001.fastq\r\n",
      "/Users/sr320/Desktop/Qiagen/13_33_S33_L001_R1_001.fastq.gz\r\n",
      "/Users/sr320/Desktop/Qiagen/14_34_S34_L001_R1_001.fastq\r\n",
      "/Users/sr320/Desktop/Qiagen/14_34_S34_L001_R1_001.fastq.gz\r\n",
      "/Users/sr320/Desktop/Qiagen/15_39_S39_L001_R1_001.fastq\r\n",
      "/Users/sr320/Desktop/Qiagen/15_39_S39_L001_R1_001.fastq.gz\r\n",
      "/Users/sr320/Desktop/Qiagen/16_40_S40_L001_R1_001.fastq\r\n",
      "/Users/sr320/Desktop/Qiagen/16_40_S40_L001_R1_001.fastq.gz\r\n",
      "/Users/sr320/Desktop/Qiagen/17_9_S9_L001_R1_001.fastq\r\n",
      "/Users/sr320/Desktop/Qiagen/17_9_S9_L001_R1_001.fastq.gz\r\n",
      "/Users/sr320/Desktop/Qiagen/18_10_S10_L001_R1_001.fastq\r\n",
      "/Users/sr320/Desktop/Qiagen/18_10_S10_L001_R1_001.fastq.gz\r\n",
      "/Users/sr320/Desktop/Qiagen/19_7_S7_L001_R1_001.fastq\r\n",
      "/Users/sr320/Desktop/Qiagen/19_7_S7_L001_R1_001.fastq.gz\r\n",
      "/Users/sr320/Desktop/Qiagen/1_25_S25_L001_R1_001.fastq\r\n",
      "/Users/sr320/Desktop/Qiagen/1_25_S25_L001_R1_001.fastq.gz\r\n",
      "/Users/sr320/Desktop/Qiagen/20_8_S8_L001_R1_001.fastq\r\n",
      "/Users/sr320/Desktop/Qiagen/20_8_S8_L001_R1_001.fastq.gz\r\n",
      "/Users/sr320/Desktop/Qiagen/2_26_S26_L001_R1_001.fastq\r\n",
      "/Users/sr320/Desktop/Qiagen/2_26_S26_L001_R1_001.fastq.gz\r\n",
      "/Users/sr320/Desktop/Qiagen/3_27_S27_L001_R1_001.fastq\r\n",
      "/Users/sr320/Desktop/Qiagen/3_27_S27_L001_R1_001.fastq.gz\r\n",
      "/Users/sr320/Desktop/Qiagen/4_28_S28_L001_R1_001.fastq\r\n",
      "/Users/sr320/Desktop/Qiagen/4_28_S28_L001_R1_001.fastq.gz\r\n",
      "/Users/sr320/Desktop/Qiagen/5_35_S35_L001_R1_001.fastq\r\n",
      "/Users/sr320/Desktop/Qiagen/5_35_S35_L001_R1_001.fastq.gz\r\n",
      "/Users/sr320/Desktop/Qiagen/6_36_S36_L001_R1_001.fastq\r\n",
      "/Users/sr320/Desktop/Qiagen/6_36_S36_L001_R1_001.fastq.gz\r\n",
      "/Users/sr320/Desktop/Qiagen/7_29_S29_L001_R1_001.fastq\r\n",
      "/Users/sr320/Desktop/Qiagen/7_29_S29_L001_R1_001.fastq.gz\r\n",
      "/Users/sr320/Desktop/Qiagen/8_30_S30_L001_R1_001.fastq\r\n",
      "/Users/sr320/Desktop/Qiagen/8_30_S30_L001_R1_001.fastq.gz\r\n",
      "/Users/sr320/Desktop/Qiagen/9_31_S31_L001_R1_001.fastq\r\n",
      "/Users/sr320/Desktop/Qiagen/9_31_S31_L001_R1_001.fastq.gz\r\n"
     ]
    }
   ],
   "source": [
    "!ls /Users/sr320/Desktop/Qiagen/*R1*"
   ]
  },
  {
   "cell_type": "code",
   "execution_count": 5,
   "metadata": {
    "ExecuteTime": {
     "end_time": "2018-09-22T23:18:21.869618Z",
     "start_time": "2018-09-22T23:18:21.733527Z"
    }
   },
   "outputs": [
    {
     "name": "stdout",
     "output_type": "stream",
     "text": [
      "@M03631:341:000000000-BLY9V:1:1101:13318:1785 1:N:0:32\r\n",
      "TTTAGTTTTAGTTCGTATATTTTTTTTTAGTTGTATTTTTTTTTATAATTTTATATTAAGATGTGTGTGTAAGAAT\r\n",
      "+\r\n",
      "CCCCCGGGGGGGGGGGFFCFGGGGGGGG8,CE,C,CEEFFEFEG,,,,<CEF,C,CF,,,,<,,,,,,,:,,,,,,\r\n",
      "@M03631:341:000000000-BLY9V:1:1101:14198:1813 1:N:0:32\r\n",
      "AATTAAATTTGGGGTTGTTGTTATTGATATCGATATGAAATATTTTAATCGTGGTATAATTATTTAAGTGTGAATT\r\n",
      "+\r\n",
      "-@CCCEGGG,C9F:FGCGGGGGEFF,,C<EA,,C,+,,,,<,CEE,,,C@,C,,:,C,,<C,,<C,,,<,<,,,<C\r\n",
      "@M03631:341:000000000-BLY9V:1:1101:21347:1823 1:N:0:32\r\n",
      "TCTCGACTTCAAAATCACAAACCCCTTACTACACTAATCATAATCCCCATATAACTAACAATCTTTACCTACTTAC\r\n",
      "cat: stdout: Broken pipe\r\n"
     ]
    }
   ],
   "source": [
    "!cat /Users/sr320/Desktop/Qiagen/*R1_001.fastq | head"
   ]
  },
  {
   "cell_type": "code",
   "execution_count": 10,
   "metadata": {
    "ExecuteTime": {
     "end_time": "2018-09-22T23:23:32.423780Z",
     "start_time": "2018-09-22T23:23:29.695341Z"
    }
   },
   "outputs": [],
   "source": [
    "!cat /Users/sr320/Desktop/Qiagen/*R1_001.fastq \\\n",
    "> /Users/sr320/Desktop/Qiagen/R1_001.fastq"
   ]
  },
  {
   "cell_type": "code",
   "execution_count": 11,
   "metadata": {
    "ExecuteTime": {
     "end_time": "2018-09-22T23:24:15.486746Z",
     "start_time": "2018-09-22T23:24:13.413670Z"
    }
   },
   "outputs": [],
   "source": [
    "!cat /Users/sr320/Desktop/Qiagen/*R2_001.fastq \\\n",
    "> /Users/sr320/Desktop/Qiagen/R2_001.fastq"
   ]
  },
  {
   "cell_type": "code",
   "execution_count": null,
   "metadata": {
    "ExecuteTime": {
     "start_time": "2018-09-22T23:25:16.007Z"
    }
   },
   "outputs": [],
   "source": [
    "%%bash\n",
    "cd /Users/sr320/Desktop/Qiagen/tmp\n",
    "\n",
    "/Applications/bioinfo/Bismark_v0.19.0/bismark \\\n",
    "--path_to_bowtie /Applications/bioinfo/bowtie2-2.3.4.1-macos-x86_64 \\\n",
    "--genome /Users/sr320/Desktop/oakl/genome \\\n",
    "--score_min L,0,-1.2 \\\n",
    "-p 4 \\\n",
    "--non_directional \\\n",
    "-1 /Users/sr320/Desktop/Qiagen/R1_001.fastq \\\n",
    "-2 /Users/sr320/Desktop/Qiagen/R2_001.fastq \\\n",
    "2> bismark.err"
   ]
  },
  {
   "cell_type": "code",
   "execution_count": null,
   "metadata": {},
   "outputs": [],
   "source": [
    "%%bash\n",
    "/Applications/bioinfo/Bismark_v0.19.0/deduplicate_bismark \\\n",
    "--bam -p \\\n",
    "*.bam \\\n",
    "2> dedup.err\n",
    "\n",
    "/Applications/bioinfo/Bismark_v0.19.0/bismark_methylation_extractor \\\n",
    "-p --bedGraph --counts --scaffolds \\\n",
    "--multicore 2 \\\n",
    "*deduplicated.bam \\\n",
    "2> bme.err\n",
    "\n",
    "/Applications/bioinfo/Bismark_v0.19.0/bismark2summary\n",
    "\n"
   ]
  },
  {
   "cell_type": "code",
   "execution_count": null,
   "metadata": {},
   "outputs": [],
   "source": [
    "!python /Users/sr320/Documents/GitHub/nb-2018/scripts/working_with_dna_meth-master/tabulate_tsvs.py \\\n",
    "*.cov \\\n",
    "-k 0 1 -c 4 5 -v \\\n",
    "> compiled_coverage.pre-filt.meth_unmeth.tsv"
   ]
  },
  {
   "cell_type": "code",
   "execution_count": null,
   "metadata": {},
   "outputs": [],
   "source": [
    "!python /Users/sr320/Documents/GitHub/nb-2018/scripts/working_with_dna_meth-master/merge_bismark_cov.py \\\n",
    "*.cov > all.merged.cov"
   ]
  },
  {
   "cell_type": "code",
   "execution_count": null,
   "metadata": {},
   "outputs": [],
   "source": [
    "!python /Users/sr320/Documents/GitHub/nb-2018/scripts/working_with_dna_meth-master/filter_miscalled_Cs.py \\\n",
    "all.merged.cov > all.bona_fide_meth_pos.cov\n",
    "\n",
    "\n"
   ]
  }
 ],
 "metadata": {
  "kernelspec": {
   "display_name": "Python 3",
   "language": "python",
   "name": "python3"
  },
  "language_info": {
   "codemirror_mode": {
    "name": "ipython",
    "version": 3
   },
   "file_extension": ".py",
   "mimetype": "text/x-python",
   "name": "python",
   "nbconvert_exporter": "python",
   "pygments_lexer": "ipython3",
   "version": "3.6.3"
  }
 },
 "nbformat": 4,
 "nbformat_minor": 2
}
