{
 "cells": [
  {
   "cell_type": "code",
   "execution_count": 1,
   "metadata": {
    "ExecuteTime": {
     "end_time": "2018-09-22T23:16:03.597622Z",
     "start_time": "2018-09-22T23:16:03.425306Z"
    }
   },
   "outputs": [
    {
     "name": "stdout",
     "output_type": "stream",
     "text": [
      "/Users/sr320/Desktop/Qiagen/10_32_S32_L001_R1_001.fastq.gz\r\n",
      "/Users/sr320/Desktop/Qiagen/11_37_S37_L001_R1_001.fastq.gz\r\n",
      "/Users/sr320/Desktop/Qiagen/12_38_S38_L001_R1_001.fastq.gz\r\n",
      "/Users/sr320/Desktop/Qiagen/13_33_S33_L001_R1_001.fastq.gz\r\n",
      "/Users/sr320/Desktop/Qiagen/14_34_S34_L001_R1_001.fastq.gz\r\n",
      "/Users/sr320/Desktop/Qiagen/15_39_S39_L001_R1_001.fastq.gz\r\n",
      "/Users/sr320/Desktop/Qiagen/16_40_S40_L001_R1_001.fastq.gz\r\n",
      "/Users/sr320/Desktop/Qiagen/17_9_S9_L001_R1_001.fastq.gz\r\n",
      "/Users/sr320/Desktop/Qiagen/18_10_S10_L001_R1_001.fastq.gz\r\n",
      "/Users/sr320/Desktop/Qiagen/19_7_S7_L001_R1_001.fastq.gz\r\n",
      "/Users/sr320/Desktop/Qiagen/1_25_S25_L001_R1_001.fastq.gz\r\n",
      "/Users/sr320/Desktop/Qiagen/20_8_S8_L001_R1_001.fastq.gz\r\n",
      "/Users/sr320/Desktop/Qiagen/2_26_S26_L001_R1_001.fastq.gz\r\n",
      "/Users/sr320/Desktop/Qiagen/3_27_S27_L001_R1_001.fastq.gz\r\n",
      "/Users/sr320/Desktop/Qiagen/4_28_S28_L001_R1_001.fastq.gz\r\n",
      "/Users/sr320/Desktop/Qiagen/5_35_S35_L001_R1_001.fastq.gz\r\n",
      "/Users/sr320/Desktop/Qiagen/6_36_S36_L001_R1_001.fastq.gz\r\n",
      "/Users/sr320/Desktop/Qiagen/7_29_S29_L001_R1_001.fastq.gz\r\n",
      "/Users/sr320/Desktop/Qiagen/8_30_S30_L001_R1_001.fastq.gz\r\n",
      "/Users/sr320/Desktop/Qiagen/9_31_S31_L001_R1_001.fastq.gz\r\n"
     ]
    }
   ],
   "source": [
    "!ls /Users/sr320/Desktop/Qiagen/*R1*"
   ]
  },
  {
   "cell_type": "code",
   "execution_count": 2,
   "metadata": {
    "ExecuteTime": {
     "end_time": "2018-09-22T23:16:14.939619Z",
     "start_time": "2018-09-22T23:16:14.809439Z"
    }
   },
   "outputs": [
    {
     "name": "stdout",
     "output_type": "stream",
     "text": [
      "/Users/sr320/Desktop/Qiagen/10_32_S32_L001_R2_001.fastq.gz\r\n",
      "/Users/sr320/Desktop/Qiagen/11_37_S37_L001_R2_001.fastq.gz\r\n",
      "/Users/sr320/Desktop/Qiagen/12_38_S38_L001_R2_001.fastq.gz\r\n",
      "/Users/sr320/Desktop/Qiagen/13_33_S33_L001_R2_001.fastq.gz\r\n",
      "/Users/sr320/Desktop/Qiagen/14_34_S34_L001_R2_001.fastq.gz\r\n",
      "/Users/sr320/Desktop/Qiagen/15_39_S39_L001_R2_001.fastq.gz\r\n",
      "/Users/sr320/Desktop/Qiagen/16_40_S40_L001_R2_001.fastq.gz\r\n",
      "/Users/sr320/Desktop/Qiagen/17_9_S9_L001_R2_001.fastq.gz\r\n",
      "/Users/sr320/Desktop/Qiagen/18_10_S10_L001_R2_001.fastq.gz\r\n",
      "/Users/sr320/Desktop/Qiagen/19_7_S7_L001_R2_001.fastq.gz\r\n",
      "/Users/sr320/Desktop/Qiagen/1_25_S25_L001_R2_001.fastq.gz\r\n",
      "/Users/sr320/Desktop/Qiagen/20_8_S8_L001_R2_001.fastq.gz\r\n",
      "/Users/sr320/Desktop/Qiagen/2_26_S26_L001_R2_001.fastq.gz\r\n",
      "/Users/sr320/Desktop/Qiagen/3_27_S27_L001_R2_001.fastq.gz\r\n",
      "/Users/sr320/Desktop/Qiagen/4_28_S28_L001_R2_001.fastq.gz\r\n",
      "/Users/sr320/Desktop/Qiagen/5_35_S35_L001_R2_001.fastq.gz\r\n",
      "/Users/sr320/Desktop/Qiagen/6_36_S36_L001_R2_001.fastq.gz\r\n",
      "/Users/sr320/Desktop/Qiagen/7_29_S29_L001_R2_001.fastq.gz\r\n",
      "/Users/sr320/Desktop/Qiagen/8_30_S30_L001_R2_001.fastq.gz\r\n",
      "/Users/sr320/Desktop/Qiagen/9_31_S31_L001_R2_001.fastq.gz\r\n"
     ]
    }
   ],
   "source": [
    "!ls /Users/sr320/Desktop/Qiagen/*R2* "
   ]
  },
  {
   "cell_type": "code",
   "execution_count": 3,
   "metadata": {
    "ExecuteTime": {
     "end_time": "2018-09-22T23:17:26.335799Z",
     "start_time": "2018-09-22T23:17:18.253276Z"
    }
   },
   "outputs": [],
   "source": [
    "!gunzip -k /Users/sr320/Desktop/Qiagen/*R1*"
   ]
  },
  {
   "cell_type": "code",
   "execution_count": 8,
   "metadata": {
    "ExecuteTime": {
     "end_time": "2018-09-22T23:20:23.202136Z",
     "start_time": "2018-09-22T23:20:13.195672Z"
    }
   },
   "outputs": [
    {
     "name": "stdout",
     "output_type": "stream",
     "text": [
      "gunzip: /Users/sr320/Desktop/Qiagen/R2_001.fastq: unknown suffix -- ignored\r\n"
     ]
    }
   ],
   "source": [
    "!gunzip -k /Users/sr320/Desktop/Qiagen/*R2*"
   ]
  },
  {
   "cell_type": "code",
   "execution_count": 4,
   "metadata": {
    "ExecuteTime": {
     "end_time": "2018-09-22T23:17:34.556458Z",
     "start_time": "2018-09-22T23:17:34.415533Z"
    }
   },
   "outputs": [
    {
     "name": "stdout",
     "output_type": "stream",
     "text": [
      "/Users/sr320/Desktop/Qiagen/10_32_S32_L001_R1_001.fastq\r\n",
      "/Users/sr320/Desktop/Qiagen/10_32_S32_L001_R1_001.fastq.gz\r\n",
      "/Users/sr320/Desktop/Qiagen/11_37_S37_L001_R1_001.fastq\r\n",
      "/Users/sr320/Desktop/Qiagen/11_37_S37_L001_R1_001.fastq.gz\r\n",
      "/Users/sr320/Desktop/Qiagen/12_38_S38_L001_R1_001.fastq\r\n",
      "/Users/sr320/Desktop/Qiagen/12_38_S38_L001_R1_001.fastq.gz\r\n",
      "/Users/sr320/Desktop/Qiagen/13_33_S33_L001_R1_001.fastq\r\n",
      "/Users/sr320/Desktop/Qiagen/13_33_S33_L001_R1_001.fastq.gz\r\n",
      "/Users/sr320/Desktop/Qiagen/14_34_S34_L001_R1_001.fastq\r\n",
      "/Users/sr320/Desktop/Qiagen/14_34_S34_L001_R1_001.fastq.gz\r\n",
      "/Users/sr320/Desktop/Qiagen/15_39_S39_L001_R1_001.fastq\r\n",
      "/Users/sr320/Desktop/Qiagen/15_39_S39_L001_R1_001.fastq.gz\r\n",
      "/Users/sr320/Desktop/Qiagen/16_40_S40_L001_R1_001.fastq\r\n",
      "/Users/sr320/Desktop/Qiagen/16_40_S40_L001_R1_001.fastq.gz\r\n",
      "/Users/sr320/Desktop/Qiagen/17_9_S9_L001_R1_001.fastq\r\n",
      "/Users/sr320/Desktop/Qiagen/17_9_S9_L001_R1_001.fastq.gz\r\n",
      "/Users/sr320/Desktop/Qiagen/18_10_S10_L001_R1_001.fastq\r\n",
      "/Users/sr320/Desktop/Qiagen/18_10_S10_L001_R1_001.fastq.gz\r\n",
      "/Users/sr320/Desktop/Qiagen/19_7_S7_L001_R1_001.fastq\r\n",
      "/Users/sr320/Desktop/Qiagen/19_7_S7_L001_R1_001.fastq.gz\r\n",
      "/Users/sr320/Desktop/Qiagen/1_25_S25_L001_R1_001.fastq\r\n",
      "/Users/sr320/Desktop/Qiagen/1_25_S25_L001_R1_001.fastq.gz\r\n",
      "/Users/sr320/Desktop/Qiagen/20_8_S8_L001_R1_001.fastq\r\n",
      "/Users/sr320/Desktop/Qiagen/20_8_S8_L001_R1_001.fastq.gz\r\n",
      "/Users/sr320/Desktop/Qiagen/2_26_S26_L001_R1_001.fastq\r\n",
      "/Users/sr320/Desktop/Qiagen/2_26_S26_L001_R1_001.fastq.gz\r\n",
      "/Users/sr320/Desktop/Qiagen/3_27_S27_L001_R1_001.fastq\r\n",
      "/Users/sr320/Desktop/Qiagen/3_27_S27_L001_R1_001.fastq.gz\r\n",
      "/Users/sr320/Desktop/Qiagen/4_28_S28_L001_R1_001.fastq\r\n",
      "/Users/sr320/Desktop/Qiagen/4_28_S28_L001_R1_001.fastq.gz\r\n",
      "/Users/sr320/Desktop/Qiagen/5_35_S35_L001_R1_001.fastq\r\n",
      "/Users/sr320/Desktop/Qiagen/5_35_S35_L001_R1_001.fastq.gz\r\n",
      "/Users/sr320/Desktop/Qiagen/6_36_S36_L001_R1_001.fastq\r\n",
      "/Users/sr320/Desktop/Qiagen/6_36_S36_L001_R1_001.fastq.gz\r\n",
      "/Users/sr320/Desktop/Qiagen/7_29_S29_L001_R1_001.fastq\r\n",
      "/Users/sr320/Desktop/Qiagen/7_29_S29_L001_R1_001.fastq.gz\r\n",
      "/Users/sr320/Desktop/Qiagen/8_30_S30_L001_R1_001.fastq\r\n",
      "/Users/sr320/Desktop/Qiagen/8_30_S30_L001_R1_001.fastq.gz\r\n",
      "/Users/sr320/Desktop/Qiagen/9_31_S31_L001_R1_001.fastq\r\n",
      "/Users/sr320/Desktop/Qiagen/9_31_S31_L001_R1_001.fastq.gz\r\n"
     ]
    }
   ],
   "source": [
    "!ls /Users/sr320/Desktop/Qiagen/*R1*"
   ]
  },
  {
   "cell_type": "code",
   "execution_count": 5,
   "metadata": {
    "ExecuteTime": {
     "end_time": "2018-09-22T23:18:21.869618Z",
     "start_time": "2018-09-22T23:18:21.733527Z"
    }
   },
   "outputs": [
    {
     "name": "stdout",
     "output_type": "stream",
     "text": [
      "@M03631:341:000000000-BLY9V:1:1101:13318:1785 1:N:0:32\r\n",
      "TTTAGTTTTAGTTCGTATATTTTTTTTTAGTTGTATTTTTTTTTATAATTTTATATTAAGATGTGTGTGTAAGAAT\r\n",
      "+\r\n",
      "CCCCCGGGGGGGGGGGFFCFGGGGGGGG8,CE,C,CEEFFEFEG,,,,<CEF,C,CF,,,,<,,,,,,,:,,,,,,\r\n",
      "@M03631:341:000000000-BLY9V:1:1101:14198:1813 1:N:0:32\r\n",
      "AATTAAATTTGGGGTTGTTGTTATTGATATCGATATGAAATATTTTAATCGTGGTATAATTATTTAAGTGTGAATT\r\n",
      "+\r\n",
      "-@CCCEGGG,C9F:FGCGGGGGEFF,,C<EA,,C,+,,,,<,CEE,,,C@,C,,:,C,,<C,,<C,,,<,<,,,<C\r\n",
      "@M03631:341:000000000-BLY9V:1:1101:21347:1823 1:N:0:32\r\n",
      "TCTCGACTTCAAAATCACAAACCCCTTACTACACTAATCATAATCCCCATATAACTAACAATCTTTACCTACTTAC\r\n",
      "cat: stdout: Broken pipe\r\n"
     ]
    }
   ],
   "source": [
    "!cat /Users/sr320/Desktop/Qiagen/*R1_001.fastq | head"
   ]
  },
  {
   "cell_type": "code",
   "execution_count": 10,
   "metadata": {
    "ExecuteTime": {
     "end_time": "2018-09-22T23:23:32.423780Z",
     "start_time": "2018-09-22T23:23:29.695341Z"
    }
   },
   "outputs": [],
   "source": [
    "!cat /Users/sr320/Desktop/Qiagen/*R1_001.fastq \\\n",
    "> /Users/sr320/Desktop/Qiagen/R1_001.fastq"
   ]
  },
  {
   "cell_type": "code",
   "execution_count": 11,
   "metadata": {
    "ExecuteTime": {
     "end_time": "2018-09-22T23:24:15.486746Z",
     "start_time": "2018-09-22T23:24:13.413670Z"
    }
   },
   "outputs": [],
   "source": [
    "!cat /Users/sr320/Desktop/Qiagen/*R2_001.fastq \\\n",
    "> /Users/sr320/Desktop/Qiagen/R2_001.fastq"
   ]
  },
  {
   "cell_type": "code",
   "execution_count": 12,
   "metadata": {
    "ExecuteTime": {
     "end_time": "2018-09-23T02:46:58.222064Z",
     "start_time": "2018-09-22T23:25:16.015654Z"
    }
   },
   "outputs": [
    {
     "name": "stdout",
     "output_type": "stream",
     "text": [
      "FastQ format assumed (by default)\n",
      "Each Bowtie 2 instance is going to be run with 4 threads. Please monitor performance closely and tune down if needed!\n",
      "chr NC_035780.1 (65668440 bp)\n",
      "chr NC_035781.1 (61752955 bp)\n",
      "chr NC_035782.1 (77061148 bp)\n",
      "chr NC_035783.1 (59691872 bp)\n",
      "chr NC_035784.1 (98698416 bp)\n",
      "chr NC_035785.1 (51258098 bp)\n",
      "chr NC_035786.1 (57830854 bp)\n",
      "chr NC_035787.1 (75944018 bp)\n",
      "chr NC_035788.1 (104168038 bp)\n",
      "chr NC_035789.1 (32650045 bp)\n",
      "chr NC_007175.2 (17244 bp)\n",
      "\n",
      "Number of paired-end alignments with a unique best hit:\t4404621\n",
      "Mapping efficiency:\t45.8%\n",
      "\n",
      "Sequence pairs with no alignments under any condition:\t3710306\n",
      "Sequence pairs did not map uniquely:\t1511040\n",
      "Sequence pairs which were discarded because genomic sequence could not be extracted:\t2\n",
      "\n",
      "Number of sequence pairs with unique best (first) alignment came from the bowtie output:\n",
      "CT/GA/CT:\t793211\t((converted) top strand)\n",
      "GA/CT/CT:\t1405426\t(complementary to (converted) top strand)\n",
      "GA/CT/GA:\t1413241\t(complementary to (converted) bottom strand)\n",
      "CT/GA/GA:\t792741\t((converted) bottom strand)\n",
      "\n"
     ]
    }
   ],
   "source": [
    "%%bash\n",
    "cd /Users/sr320/Desktop/Qiagen/tmp\n",
    "\n",
    "/Applications/bioinfo/Bismark_v0.19.0/bismark \\\n",
    "--path_to_bowtie /Applications/bioinfo/bowtie2-2.3.4.1-macos-x86_64 \\\n",
    "--genome /Users/sr320/Desktop/oakl/genome \\\n",
    "--score_min L,0,-1.2 \\\n",
    "-p 4 \\\n",
    "--non_directional \\\n",
    "-1 /Users/sr320/Desktop/Qiagen/R1_001.fastq \\\n",
    "-2 /Users/sr320/Desktop/Qiagen/R2_001.fastq \\\n",
    "2> bismark.err"
   ]
  },
  {
   "cell_type": "code",
   "execution_count": 17,
   "metadata": {
    "ExecuteTime": {
     "end_time": "2018-09-23T03:07:34.136443Z",
     "start_time": "2018-09-23T03:07:34.125834Z"
    }
   },
   "outputs": [
    {
     "name": "stdout",
     "output_type": "stream",
     "text": [
      "/Users/sr320/Desktop/Qiagen/tmp\n"
     ]
    }
   ],
   "source": [
    "cd /Users/sr320/Desktop/Qiagen/tmp"
   ]
  },
  {
   "cell_type": "code",
   "execution_count": 18,
   "metadata": {
    "ExecuteTime": {
     "end_time": "2018-09-23T03:31:37.902073Z",
     "start_time": "2018-09-23T03:07:35.931089Z"
    }
   },
   "outputs": [
    {
     "name": "stdout",
     "output_type": "stream",
     "text": [
      "\n",
      "Now testing Bismark result file R1_001_bismark_bt2_pe.bam for positional sorting (which would be bad...)\tskipping header line:\t@HD\tVN:1.0\tSO:unsorted\n",
      "skipping header line:\t@SQ\tSN:NC_035780.1\tLN:65668440\n",
      "skipping header line:\t@SQ\tSN:NC_035781.1\tLN:61752955\n",
      "skipping header line:\t@SQ\tSN:NC_035782.1\tLN:77061148\n",
      "skipping header line:\t@SQ\tSN:NC_035783.1\tLN:59691872\n",
      "skipping header line:\t@SQ\tSN:NC_035784.1\tLN:98698416\n",
      "skipping header line:\t@SQ\tSN:NC_035785.1\tLN:51258098\n",
      "skipping header line:\t@SQ\tSN:NC_035786.1\tLN:57830854\n",
      "skipping header line:\t@SQ\tSN:NC_035787.1\tLN:75944018\n",
      "skipping header line:\t@SQ\tSN:NC_035788.1\tLN:104168038\n",
      "skipping header line:\t@SQ\tSN:NC_035789.1\tLN:32650045\n",
      "skipping header line:\t@SQ\tSN:NC_007175.2\tLN:17244\n",
      "skipping header line:\t@PG\tID:Bismark\tVN:v0.19.0\tCL:\"bismark --path_to_bowtie /Applications/bioinfo/bowtie2-2.3.4.1-macos-x86_64 --genome /Users/sr320/Desktop/oakl/genome --score_min L,0,-1.2 -p 4 --non_directional -1 /Users/sr320/Desktop/Qiagen/R1_001.fastq -2 /Users/sr320/Desktop/Qiagen/R2_001.fastq\"\n",
      "\n",
      "Now testing Bismark result file R1_001_bismark_bt2_pe.deduplicated.bam for positional sorting (which would be bad...)\tR1_001_bismark_bt2_pe.deduplicated_splitting_report.txt.1\n",
      "R1_001_bismark_bt2_pe.deduplicated_splitting_report.txt.2\n",
      "\n",
      "R1_001_bismark_bt2_pe.deduplicated_splitting_report.txt.1.mbias\n",
      "R1_001_bismark_bt2_pe.deduplicated_splitting_report.txt.2.mbias\n",
      "\n",
      "/Users/sr320/Desktop/Qiagen/tmp/CpG_OT_R1_001_bismark_bt2_pe.deduplicated.txt\t/Users/sr320/Desktop/Qiagen/tmp/CpG_CTOT_R1_001_bismark_bt2_pe.deduplicated.txt\t/Users/sr320/Desktop/Qiagen/tmp/CpG_CTOB_R1_001_bismark_bt2_pe.deduplicated.txt\t/Users/sr320/Desktop/Qiagen/tmp/CpG_OB_R1_001_bismark_bt2_pe.deduplicated.txt\n",
      "\n"
     ]
    },
    {
     "name": "stderr",
     "output_type": "stream",
     "text": [
      "No Bismark/Bowtie2 single-end BAM files detected\n",
      "Found Bismark/Bowtie2 paired-end files\n",
      "No Bismark/Bowtie single-end BAM files detected\n",
      "No Bismark/Bowtie paired-end BAM files detected\n",
      "\n",
      "Generating Bismark summary report from 1 Bismark BAM file(s)...\n",
      ">> Reading from Bismark report: R1_001_bismark_bt2_PE_report.txt\n",
      "\n",
      "Wrote Bismark project summary to >> bismark_summary_report.html <<\n",
      "\n"
     ]
    }
   ],
   "source": [
    "%%bash\n",
    "/Applications/bioinfo/Bismark_v0.19.0/deduplicate_bismark \\\n",
    "--bam -p \\\n",
    "*.bam \\\n",
    "2> dedup.err\n",
    "\n",
    "/Applications/bioinfo/Bismark_v0.19.0/bismark_methylation_extractor \\\n",
    "-p --bedGraph --counts --scaffolds \\\n",
    "--multicore 2 \\\n",
    "*deduplicated.bam \\\n",
    "2> bme.err\n",
    "\n",
    "/Applications/bioinfo/Bismark_v0.19.0/bismark2summary\n",
    "\n"
   ]
  },
  {
   "cell_type": "code",
   "execution_count": 19,
   "metadata": {
    "ExecuteTime": {
     "end_time": "2018-09-23T03:31:38.252562Z",
     "start_time": "2018-09-23T03:31:37.909445Z"
    }
   },
   "outputs": [],
   "source": [
    "!open *html"
   ]
  },
  {
   "cell_type": "code",
   "execution_count": null,
   "metadata": {},
   "outputs": [],
   "source": [
    "!python /Users/sr320/Documents/GitHub/nb-2018/scripts/working_with_dna_meth-master/tabulate_tsvs.py \\\n",
    "*.cov \\\n",
    "-k 0 1 -c 4 5 -v \\\n",
    "> compiled_coverage.pre-filt.meth_unmeth.tsv"
   ]
  },
  {
   "cell_type": "code",
   "execution_count": null,
   "metadata": {},
   "outputs": [],
   "source": [
    "!python /Users/sr320/Documents/GitHub/nb-2018/scripts/working_with_dna_meth-master/merge_bismark_cov.py \\\n",
    "*.cov > all.merged.cov"
   ]
  },
  {
   "cell_type": "code",
   "execution_count": null,
   "metadata": {},
   "outputs": [],
   "source": [
    "!python /Users/sr320/Documents/GitHub/nb-2018/scripts/working_with_dna_meth-master/filter_miscalled_Cs.py \\\n",
    "all.merged.cov > all.bona_fide_meth_pos.cov\n",
    "\n",
    "\n"
   ]
  }
 ],
 "metadata": {
  "kernelspec": {
   "display_name": "Python 3",
   "language": "python",
   "name": "python3"
  },
  "language_info": {
   "codemirror_mode": {
    "name": "ipython",
    "version": 3
   },
   "file_extension": ".py",
   "mimetype": "text/x-python",
   "name": "python",
   "nbconvert_exporter": "python",
   "pygments_lexer": "ipython3",
   "version": "3.6.3"
  }
 },
 "nbformat": 4,
 "nbformat_minor": 2
}
