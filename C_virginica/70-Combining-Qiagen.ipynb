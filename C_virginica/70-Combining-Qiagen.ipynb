{
 "cells": [
  {
   "cell_type": "code",
   "execution_count": 1,
   "metadata": {
    "ExecuteTime": {
     "end_time": "2018-09-22T23:16:03.597622Z",
     "start_time": "2018-09-22T23:16:03.425306Z"
    }
   },
   "outputs": [
    {
     "name": "stdout",
     "output_type": "stream",
     "text": [
      "/Users/sr320/Desktop/Qiagen/10_32_S32_L001_R1_001.fastq.gz\r\n",
      "/Users/sr320/Desktop/Qiagen/11_37_S37_L001_R1_001.fastq.gz\r\n",
      "/Users/sr320/Desktop/Qiagen/12_38_S38_L001_R1_001.fastq.gz\r\n",
      "/Users/sr320/Desktop/Qiagen/13_33_S33_L001_R1_001.fastq.gz\r\n",
      "/Users/sr320/Desktop/Qiagen/14_34_S34_L001_R1_001.fastq.gz\r\n",
      "/Users/sr320/Desktop/Qiagen/15_39_S39_L001_R1_001.fastq.gz\r\n",
      "/Users/sr320/Desktop/Qiagen/16_40_S40_L001_R1_001.fastq.gz\r\n",
      "/Users/sr320/Desktop/Qiagen/17_9_S9_L001_R1_001.fastq.gz\r\n",
      "/Users/sr320/Desktop/Qiagen/18_10_S10_L001_R1_001.fastq.gz\r\n",
      "/Users/sr320/Desktop/Qiagen/19_7_S7_L001_R1_001.fastq.gz\r\n",
      "/Users/sr320/Desktop/Qiagen/1_25_S25_L001_R1_001.fastq.gz\r\n",
      "/Users/sr320/Desktop/Qiagen/20_8_S8_L001_R1_001.fastq.gz\r\n",
      "/Users/sr320/Desktop/Qiagen/2_26_S26_L001_R1_001.fastq.gz\r\n",
      "/Users/sr320/Desktop/Qiagen/3_27_S27_L001_R1_001.fastq.gz\r\n",
      "/Users/sr320/Desktop/Qiagen/4_28_S28_L001_R1_001.fastq.gz\r\n",
      "/Users/sr320/Desktop/Qiagen/5_35_S35_L001_R1_001.fastq.gz\r\n",
      "/Users/sr320/Desktop/Qiagen/6_36_S36_L001_R1_001.fastq.gz\r\n",
      "/Users/sr320/Desktop/Qiagen/7_29_S29_L001_R1_001.fastq.gz\r\n",
      "/Users/sr320/Desktop/Qiagen/8_30_S30_L001_R1_001.fastq.gz\r\n",
      "/Users/sr320/Desktop/Qiagen/9_31_S31_L001_R1_001.fastq.gz\r\n"
     ]
    }
   ],
   "source": [
    "!ls /Users/sr320/Desktop/Qiagen/*R1*"
   ]
  },
  {
   "cell_type": "code",
   "execution_count": 2,
   "metadata": {
    "ExecuteTime": {
     "end_time": "2018-09-22T23:16:14.939619Z",
     "start_time": "2018-09-22T23:16:14.809439Z"
    }
   },
   "outputs": [
    {
     "name": "stdout",
     "output_type": "stream",
     "text": [
      "/Users/sr320/Desktop/Qiagen/10_32_S32_L001_R2_001.fastq.gz\r\n",
      "/Users/sr320/Desktop/Qiagen/11_37_S37_L001_R2_001.fastq.gz\r\n",
      "/Users/sr320/Desktop/Qiagen/12_38_S38_L001_R2_001.fastq.gz\r\n",
      "/Users/sr320/Desktop/Qiagen/13_33_S33_L001_R2_001.fastq.gz\r\n",
      "/Users/sr320/Desktop/Qiagen/14_34_S34_L001_R2_001.fastq.gz\r\n",
      "/Users/sr320/Desktop/Qiagen/15_39_S39_L001_R2_001.fastq.gz\r\n",
      "/Users/sr320/Desktop/Qiagen/16_40_S40_L001_R2_001.fastq.gz\r\n",
      "/Users/sr320/Desktop/Qiagen/17_9_S9_L001_R2_001.fastq.gz\r\n",
      "/Users/sr320/Desktop/Qiagen/18_10_S10_L001_R2_001.fastq.gz\r\n",
      "/Users/sr320/Desktop/Qiagen/19_7_S7_L001_R2_001.fastq.gz\r\n",
      "/Users/sr320/Desktop/Qiagen/1_25_S25_L001_R2_001.fastq.gz\r\n",
      "/Users/sr320/Desktop/Qiagen/20_8_S8_L001_R2_001.fastq.gz\r\n",
      "/Users/sr320/Desktop/Qiagen/2_26_S26_L001_R2_001.fastq.gz\r\n",
      "/Users/sr320/Desktop/Qiagen/3_27_S27_L001_R2_001.fastq.gz\r\n",
      "/Users/sr320/Desktop/Qiagen/4_28_S28_L001_R2_001.fastq.gz\r\n",
      "/Users/sr320/Desktop/Qiagen/5_35_S35_L001_R2_001.fastq.gz\r\n",
      "/Users/sr320/Desktop/Qiagen/6_36_S36_L001_R2_001.fastq.gz\r\n",
      "/Users/sr320/Desktop/Qiagen/7_29_S29_L001_R2_001.fastq.gz\r\n",
      "/Users/sr320/Desktop/Qiagen/8_30_S30_L001_R2_001.fastq.gz\r\n",
      "/Users/sr320/Desktop/Qiagen/9_31_S31_L001_R2_001.fastq.gz\r\n"
     ]
    }
   ],
   "source": [
    "!ls /Users/sr320/Desktop/Qiagen/*R2* "
   ]
  },
  {
   "cell_type": "code",
   "execution_count": 3,
   "metadata": {
    "ExecuteTime": {
     "end_time": "2018-09-22T23:17:26.335799Z",
     "start_time": "2018-09-22T23:17:18.253276Z"
    }
   },
   "outputs": [],
   "source": [
    "!gunzip -k /Users/sr320/Desktop/Qiagen/*R1*"
   ]
  },
  {
   "cell_type": "code",
   "execution_count": 8,
   "metadata": {
    "ExecuteTime": {
     "end_time": "2018-09-22T23:20:23.202136Z",
     "start_time": "2018-09-22T23:20:13.195672Z"
    }
   },
   "outputs": [
    {
     "name": "stdout",
     "output_type": "stream",
     "text": [
      "gunzip: /Users/sr320/Desktop/Qiagen/R2_001.fastq: unknown suffix -- ignored\r\n"
     ]
    }
   ],
   "source": [
    "!gunzip -k /Users/sr320/Desktop/Qiagen/*R2*"
   ]
  },
  {
   "cell_type": "code",
   "execution_count": 4,
   "metadata": {
    "ExecuteTime": {
     "end_time": "2018-09-22T23:17:34.556458Z",
     "start_time": "2018-09-22T23:17:34.415533Z"
    }
   },
   "outputs": [
    {
     "name": "stdout",
     "output_type": "stream",
     "text": [
      "/Users/sr320/Desktop/Qiagen/10_32_S32_L001_R1_001.fastq\r\n",
      "/Users/sr320/Desktop/Qiagen/10_32_S32_L001_R1_001.fastq.gz\r\n",
      "/Users/sr320/Desktop/Qiagen/11_37_S37_L001_R1_001.fastq\r\n",
      "/Users/sr320/Desktop/Qiagen/11_37_S37_L001_R1_001.fastq.gz\r\n",
      "/Users/sr320/Desktop/Qiagen/12_38_S38_L001_R1_001.fastq\r\n",
      "/Users/sr320/Desktop/Qiagen/12_38_S38_L001_R1_001.fastq.gz\r\n",
      "/Users/sr320/Desktop/Qiagen/13_33_S33_L001_R1_001.fastq\r\n",
      "/Users/sr320/Desktop/Qiagen/13_33_S33_L001_R1_001.fastq.gz\r\n",
      "/Users/sr320/Desktop/Qiagen/14_34_S34_L001_R1_001.fastq\r\n",
      "/Users/sr320/Desktop/Qiagen/14_34_S34_L001_R1_001.fastq.gz\r\n",
      "/Users/sr320/Desktop/Qiagen/15_39_S39_L001_R1_001.fastq\r\n",
      "/Users/sr320/Desktop/Qiagen/15_39_S39_L001_R1_001.fastq.gz\r\n",
      "/Users/sr320/Desktop/Qiagen/16_40_S40_L001_R1_001.fastq\r\n",
      "/Users/sr320/Desktop/Qiagen/16_40_S40_L001_R1_001.fastq.gz\r\n",
      "/Users/sr320/Desktop/Qiagen/17_9_S9_L001_R1_001.fastq\r\n",
      "/Users/sr320/Desktop/Qiagen/17_9_S9_L001_R1_001.fastq.gz\r\n",
      "/Users/sr320/Desktop/Qiagen/18_10_S10_L001_R1_001.fastq\r\n",
      "/Users/sr320/Desktop/Qiagen/18_10_S10_L001_R1_001.fastq.gz\r\n",
      "/Users/sr320/Desktop/Qiagen/19_7_S7_L001_R1_001.fastq\r\n",
      "/Users/sr320/Desktop/Qiagen/19_7_S7_L001_R1_001.fastq.gz\r\n",
      "/Users/sr320/Desktop/Qiagen/1_25_S25_L001_R1_001.fastq\r\n",
      "/Users/sr320/Desktop/Qiagen/1_25_S25_L001_R1_001.fastq.gz\r\n",
      "/Users/sr320/Desktop/Qiagen/20_8_S8_L001_R1_001.fastq\r\n",
      "/Users/sr320/Desktop/Qiagen/20_8_S8_L001_R1_001.fastq.gz\r\n",
      "/Users/sr320/Desktop/Qiagen/2_26_S26_L001_R1_001.fastq\r\n",
      "/Users/sr320/Desktop/Qiagen/2_26_S26_L001_R1_001.fastq.gz\r\n",
      "/Users/sr320/Desktop/Qiagen/3_27_S27_L001_R1_001.fastq\r\n",
      "/Users/sr320/Desktop/Qiagen/3_27_S27_L001_R1_001.fastq.gz\r\n",
      "/Users/sr320/Desktop/Qiagen/4_28_S28_L001_R1_001.fastq\r\n",
      "/Users/sr320/Desktop/Qiagen/4_28_S28_L001_R1_001.fastq.gz\r\n",
      "/Users/sr320/Desktop/Qiagen/5_35_S35_L001_R1_001.fastq\r\n",
      "/Users/sr320/Desktop/Qiagen/5_35_S35_L001_R1_001.fastq.gz\r\n",
      "/Users/sr320/Desktop/Qiagen/6_36_S36_L001_R1_001.fastq\r\n",
      "/Users/sr320/Desktop/Qiagen/6_36_S36_L001_R1_001.fastq.gz\r\n",
      "/Users/sr320/Desktop/Qiagen/7_29_S29_L001_R1_001.fastq\r\n",
      "/Users/sr320/Desktop/Qiagen/7_29_S29_L001_R1_001.fastq.gz\r\n",
      "/Users/sr320/Desktop/Qiagen/8_30_S30_L001_R1_001.fastq\r\n",
      "/Users/sr320/Desktop/Qiagen/8_30_S30_L001_R1_001.fastq.gz\r\n",
      "/Users/sr320/Desktop/Qiagen/9_31_S31_L001_R1_001.fastq\r\n",
      "/Users/sr320/Desktop/Qiagen/9_31_S31_L001_R1_001.fastq.gz\r\n"
     ]
    }
   ],
   "source": [
    "!ls /Users/sr320/Desktop/Qiagen/*R1*"
   ]
  },
  {
   "cell_type": "code",
   "execution_count": 5,
   "metadata": {
    "ExecuteTime": {
     "end_time": "2018-09-22T23:18:21.869618Z",
     "start_time": "2018-09-22T23:18:21.733527Z"
    }
   },
   "outputs": [
    {
     "name": "stdout",
     "output_type": "stream",
     "text": [
      "@M03631:341:000000000-BLY9V:1:1101:13318:1785 1:N:0:32\r\n",
      "TTTAGTTTTAGTTCGTATATTTTTTTTTAGTTGTATTTTTTTTTATAATTTTATATTAAGATGTGTGTGTAAGAAT\r\n",
      "+\r\n",
      "CCCCCGGGGGGGGGGGFFCFGGGGGGGG8,CE,C,CEEFFEFEG,,,,<CEF,C,CF,,,,<,,,,,,,:,,,,,,\r\n",
      "@M03631:341:000000000-BLY9V:1:1101:14198:1813 1:N:0:32\r\n",
      "AATTAAATTTGGGGTTGTTGTTATTGATATCGATATGAAATATTTTAATCGTGGTATAATTATTTAAGTGTGAATT\r\n",
      "+\r\n",
      "-@CCCEGGG,C9F:FGCGGGGGEFF,,C<EA,,C,+,,,,<,CEE,,,C@,C,,:,C,,<C,,<C,,,<,<,,,<C\r\n",
      "@M03631:341:000000000-BLY9V:1:1101:21347:1823 1:N:0:32\r\n",
      "TCTCGACTTCAAAATCACAAACCCCTTACTACACTAATCATAATCCCCATATAACTAACAATCTTTACCTACTTAC\r\n",
      "cat: stdout: Broken pipe\r\n"
     ]
    }
   ],
   "source": [
    "!cat /Users/sr320/Desktop/Qiagen/*R1_001.fastq | head"
   ]
  },
  {
   "cell_type": "code",
   "execution_count": 10,
   "metadata": {
    "ExecuteTime": {
     "end_time": "2018-09-22T23:23:32.423780Z",
     "start_time": "2018-09-22T23:23:29.695341Z"
    }
   },
   "outputs": [],
   "source": [
    "!cat /Users/sr320/Desktop/Qiagen/*R1_001.fastq \\\n",
    "> /Users/sr320/Desktop/Qiagen/R1_001.fastq"
   ]
  },
  {
   "cell_type": "code",
   "execution_count": 11,
   "metadata": {
    "ExecuteTime": {
     "end_time": "2018-09-22T23:24:15.486746Z",
     "start_time": "2018-09-22T23:24:13.413670Z"
    }
   },
   "outputs": [],
   "source": [
    "!cat /Users/sr320/Desktop/Qiagen/*R2_001.fastq \\\n",
    "> /Users/sr320/Desktop/Qiagen/R2_001.fastq"
   ]
  },
  {
   "cell_type": "code",
   "execution_count": 12,
   "metadata": {
    "ExecuteTime": {
     "end_time": "2018-09-23T02:46:58.222064Z",
     "start_time": "2018-09-22T23:25:16.015654Z"
    }
   },
   "outputs": [
    {
     "name": "stdout",
     "output_type": "stream",
     "text": [
      "FastQ format assumed (by default)\n",
      "Each Bowtie 2 instance is going to be run with 4 threads. Please monitor performance closely and tune down if needed!\n",
      "chr NC_035780.1 (65668440 bp)\n",
      "chr NC_035781.1 (61752955 bp)\n",
      "chr NC_035782.1 (77061148 bp)\n",
      "chr NC_035783.1 (59691872 bp)\n",
      "chr NC_035784.1 (98698416 bp)\n",
      "chr NC_035785.1 (51258098 bp)\n",
      "chr NC_035786.1 (57830854 bp)\n",
      "chr NC_035787.1 (75944018 bp)\n",
      "chr NC_035788.1 (104168038 bp)\n",
      "chr NC_035789.1 (32650045 bp)\n",
      "chr NC_007175.2 (17244 bp)\n",
      "\n",
      "Number of paired-end alignments with a unique best hit:\t4404621\n",
      "Mapping efficiency:\t45.8%\n",
      "\n",
      "Sequence pairs with no alignments under any condition:\t3710306\n",
      "Sequence pairs did not map uniquely:\t1511040\n",
      "Sequence pairs which were discarded because genomic sequence could not be extracted:\t2\n",
      "\n",
      "Number of sequence pairs with unique best (first) alignment came from the bowtie output:\n",
      "CT/GA/CT:\t793211\t((converted) top strand)\n",
      "GA/CT/CT:\t1405426\t(complementary to (converted) top strand)\n",
      "GA/CT/GA:\t1413241\t(complementary to (converted) bottom strand)\n",
      "CT/GA/GA:\t792741\t((converted) bottom strand)\n",
      "\n"
     ]
    }
   ],
   "source": [
    "%%bash\n",
    "cd /Users/sr320/Desktop/Qiagen/tmp\n",
    "\n",
    "/Applications/bioinfo/Bismark_v0.19.0/bismark \\\n",
    "--path_to_bowtie /Applications/bioinfo/bowtie2-2.3.4.1-macos-x86_64 \\\n",
    "--genome /Users/sr320/Desktop/oakl/genome \\\n",
    "--score_min L,0,-1.2 \\\n",
    "-p 4 \\\n",
    "--non_directional \\\n",
    "-1 /Users/sr320/Desktop/Qiagen/R1_001.fastq \\\n",
    "-2 /Users/sr320/Desktop/Qiagen/R2_001.fastq \\\n",
    "2> bismark.err"
   ]
  },
  {
   "cell_type": "code",
   "execution_count": 17,
   "metadata": {
    "ExecuteTime": {
     "end_time": "2018-09-23T03:07:34.136443Z",
     "start_time": "2018-09-23T03:07:34.125834Z"
    }
   },
   "outputs": [
    {
     "name": "stdout",
     "output_type": "stream",
     "text": [
      "/Users/sr320/Desktop/Qiagen/tmp\n"
     ]
    }
   ],
   "source": [
    "cd /Users/sr320/Desktop/Qiagen/tmp"
   ]
  },
  {
   "cell_type": "code",
   "execution_count": 18,
   "metadata": {
    "ExecuteTime": {
     "end_time": "2018-09-23T03:31:37.902073Z",
     "start_time": "2018-09-23T03:07:35.931089Z"
    }
   },
   "outputs": [
    {
     "name": "stdout",
     "output_type": "stream",
     "text": [
      "\n",
      "Now testing Bismark result file R1_001_bismark_bt2_pe.bam for positional sorting (which would be bad...)\tskipping header line:\t@HD\tVN:1.0\tSO:unsorted\n",
      "skipping header line:\t@SQ\tSN:NC_035780.1\tLN:65668440\n",
      "skipping header line:\t@SQ\tSN:NC_035781.1\tLN:61752955\n",
      "skipping header line:\t@SQ\tSN:NC_035782.1\tLN:77061148\n",
      "skipping header line:\t@SQ\tSN:NC_035783.1\tLN:59691872\n",
      "skipping header line:\t@SQ\tSN:NC_035784.1\tLN:98698416\n",
      "skipping header line:\t@SQ\tSN:NC_035785.1\tLN:51258098\n",
      "skipping header line:\t@SQ\tSN:NC_035786.1\tLN:57830854\n",
      "skipping header line:\t@SQ\tSN:NC_035787.1\tLN:75944018\n",
      "skipping header line:\t@SQ\tSN:NC_035788.1\tLN:104168038\n",
      "skipping header line:\t@SQ\tSN:NC_035789.1\tLN:32650045\n",
      "skipping header line:\t@SQ\tSN:NC_007175.2\tLN:17244\n",
      "skipping header line:\t@PG\tID:Bismark\tVN:v0.19.0\tCL:\"bismark --path_to_bowtie /Applications/bioinfo/bowtie2-2.3.4.1-macos-x86_64 --genome /Users/sr320/Desktop/oakl/genome --score_min L,0,-1.2 -p 4 --non_directional -1 /Users/sr320/Desktop/Qiagen/R1_001.fastq -2 /Users/sr320/Desktop/Qiagen/R2_001.fastq\"\n",
      "\n",
      "Now testing Bismark result file R1_001_bismark_bt2_pe.deduplicated.bam for positional sorting (which would be bad...)\tR1_001_bismark_bt2_pe.deduplicated_splitting_report.txt.1\n",
      "R1_001_bismark_bt2_pe.deduplicated_splitting_report.txt.2\n",
      "\n",
      "R1_001_bismark_bt2_pe.deduplicated_splitting_report.txt.1.mbias\n",
      "R1_001_bismark_bt2_pe.deduplicated_splitting_report.txt.2.mbias\n",
      "\n",
      "/Users/sr320/Desktop/Qiagen/tmp/CpG_OT_R1_001_bismark_bt2_pe.deduplicated.txt\t/Users/sr320/Desktop/Qiagen/tmp/CpG_CTOT_R1_001_bismark_bt2_pe.deduplicated.txt\t/Users/sr320/Desktop/Qiagen/tmp/CpG_CTOB_R1_001_bismark_bt2_pe.deduplicated.txt\t/Users/sr320/Desktop/Qiagen/tmp/CpG_OB_R1_001_bismark_bt2_pe.deduplicated.txt\n",
      "\n"
     ]
    },
    {
     "name": "stderr",
     "output_type": "stream",
     "text": [
      "No Bismark/Bowtie2 single-end BAM files detected\n",
      "Found Bismark/Bowtie2 paired-end files\n",
      "No Bismark/Bowtie single-end BAM files detected\n",
      "No Bismark/Bowtie paired-end BAM files detected\n",
      "\n",
      "Generating Bismark summary report from 1 Bismark BAM file(s)...\n",
      ">> Reading from Bismark report: R1_001_bismark_bt2_PE_report.txt\n",
      "\n",
      "Wrote Bismark project summary to >> bismark_summary_report.html <<\n",
      "\n"
     ]
    }
   ],
   "source": [
    "%%bash\n",
    "/Applications/bioinfo/Bismark_v0.19.0/deduplicate_bismark \\\n",
    "--bam -p \\\n",
    "*.bam \\\n",
    "2> dedup.err\n",
    "\n",
    "/Applications/bioinfo/Bismark_v0.19.0/bismark_methylation_extractor \\\n",
    "-p --bedGraph --counts --scaffolds \\\n",
    "--multicore 2 \\\n",
    "*deduplicated.bam \\\n",
    "2> bme.err\n",
    "\n",
    "/Applications/bioinfo/Bismark_v0.19.0/bismark2summary\n",
    "\n"
   ]
  },
  {
   "cell_type": "code",
   "execution_count": 1,
   "metadata": {
    "ExecuteTime": {
     "end_time": "2018-09-28T20:25:37.789621Z",
     "start_time": "2018-09-28T20:25:37.779008Z"
    }
   },
   "outputs": [
    {
     "name": "stdout",
     "output_type": "stream",
     "text": [
      "/Users/sr320/Desktop/Qiagen/tmp\n"
     ]
    }
   ],
   "source": [
    "cd /Users/sr320/Desktop/Qiagen/tmp"
   ]
  },
  {
   "cell_type": "code",
   "execution_count": 10,
   "metadata": {
    "ExecuteTime": {
     "end_time": "2018-09-25T22:11:06.620708Z",
     "start_time": "2018-09-25T22:11:06.488625Z"
    }
   },
   "outputs": [
    {
     "name": "stdout",
     "output_type": "stream",
     "text": [
      "CHG_CTOB_R1_001_bismark_bt2_pe.deduplicated.txt\r\n",
      "CHG_CTOT_R1_001_bismark_bt2_pe.deduplicated.txt\r\n",
      "CHG_OB_R1_001_bismark_bt2_pe.deduplicated.txt\r\n",
      "CHG_OT_R1_001_bismark_bt2_pe.deduplicated.txt\r\n",
      "CHH_CTOB_R1_001_bismark_bt2_pe.deduplicated.txt\r\n",
      "CHH_CTOT_R1_001_bismark_bt2_pe.deduplicated.txt\r\n",
      "CHH_OB_R1_001_bismark_bt2_pe.deduplicated.txt\r\n",
      "CHH_OT_R1_001_bismark_bt2_pe.deduplicated.txt\r\n",
      "CpG_CTOB_R1_001_bismark_bt2_pe.deduplicated.txt\r\n",
      "CpG_CTOT_R1_001_bismark_bt2_pe.deduplicated.txt\r\n",
      "CpG_OB_R1_001_bismark_bt2_pe.deduplicated.txt\r\n",
      "CpG_OT_R1_001_bismark_bt2_pe.deduplicated.txt\r\n",
      "R1_001_bismark_bt2_PE_report.txt\r\n",
      "R1_001_bismark_bt2_pe.bam\r\n",
      "R1_001_bismark_bt2_pe.deduplicated.M-bias.txt\r\n",
      "R1_001_bismark_bt2_pe.deduplicated.bam\r\n",
      "R1_001_bismark_bt2_pe.deduplicated.bedGraph.gz\r\n",
      "R1_001_bismark_bt2_pe.deduplicated.bismark.cov.gz\r\n",
      "R1_001_bismark_bt2_pe.deduplicated_splitting_report.txt\r\n",
      "R1_001_bismark_bt2_pe.deduplication_report.txt\r\n",
      "bismark.err\r\n",
      "bismark_summary_report.html\r\n",
      "bismark_summary_report.txt\r\n",
      "bme.err\r\n",
      "dedup.err\r\n"
     ]
    }
   ],
   "source": [
    "!ls"
   ]
  },
  {
   "cell_type": "code",
   "execution_count": 11,
   "metadata": {
    "ExecuteTime": {
     "end_time": "2018-09-25T22:11:52.739268Z",
     "start_time": "2018-09-25T22:11:51.980754Z"
    }
   },
   "outputs": [],
   "source": [
    "!gunzip -k *cov*"
   ]
  },
  {
   "cell_type": "markdown",
   "metadata": {},
   "source": [
    "looking at coverage files     \n",
    "`<chromosome> <start position> <end position> <methylation percentage> <count methylated> <count unmethylated>\n",
    "`"
   ]
  },
  {
   "cell_type": "code",
   "execution_count": 12,
   "metadata": {
    "ExecuteTime": {
     "end_time": "2018-09-25T22:12:06.169867Z",
     "start_time": "2018-09-25T22:12:06.027820Z"
    }
   },
   "outputs": [
    {
     "name": "stdout",
     "output_type": "stream",
     "text": [
      "NC_007175.2\t49\t49\t0\t0\t9\r\n",
      "NC_007175.2\t50\t50\t0\t0\t4\r\n",
      "NC_007175.2\t51\t51\t0\t0\t10\r\n",
      "NC_007175.2\t52\t52\t0\t0\t4\r\n",
      "NC_007175.2\t88\t88\t0\t0\t13\r\n",
      "NC_007175.2\t89\t89\t0\t0\t7\r\n",
      "NC_007175.2\t147\t147\t0\t0\t16\r\n",
      "NC_007175.2\t148\t148\t0\t0\t5\r\n",
      "NC_007175.2\t193\t193\t0\t0\t15\r\n",
      "NC_007175.2\t194\t194\t0\t0\t5\r\n"
     ]
    }
   ],
   "source": [
    "!head *cov"
   ]
  },
  {
   "cell_type": "code",
   "execution_count": 13,
   "metadata": {
    "ExecuteTime": {
     "end_time": "2018-09-25T22:13:51.474354Z",
     "start_time": "2018-09-25T22:13:51.090050Z"
    }
   },
   "outputs": [
    {
     "name": "stdout",
     "output_type": "stream",
     "text": [
      " 6202070 R1_001_bismark_bt2_pe.deduplicated.bismark.cov\r\n"
     ]
    }
   ],
   "source": [
    "!wc -l *cov"
   ]
  },
  {
   "cell_type": "code",
   "execution_count": 14,
   "metadata": {
    "ExecuteTime": {
     "end_time": "2018-09-25T22:16:11.072323Z",
     "start_time": "2018-09-25T22:15:17.000356Z"
    }
   },
   "outputs": [
    {
     "name": "stdout",
     "output_type": "stream",
     "text": [
      "  % Total    % Received % Xferd  Average Speed   Time    Time     Time  Current\n",
      "                                 Dload  Upload   Total   Spent    Left  Speed\n",
      "100  533M  100  533M    0     0  10.0M      0  0:00:53  0:00:53 --:--:-- 9204k    0     0  6070k      0  0:01:29  0:00:02  0:01:27 4096k\n"
     ]
    }
   ],
   "source": [
    "!curl -O http://eagle.fish.washington.edu/Cvirg_tracks/C_virginica-3.0_CG-motif.bed"
   ]
  },
  {
   "cell_type": "code",
   "execution_count": 15,
   "metadata": {
    "ExecuteTime": {
     "end_time": "2018-09-25T22:16:31.398346Z",
     "start_time": "2018-09-25T22:16:30.652820Z"
    }
   },
   "outputs": [
    {
     "name": "stdout",
     "output_type": "stream",
     "text": [
      " 14458703 C_virginica-3.0_CG-motif.bed\r\n"
     ]
    }
   ],
   "source": [
    "!wc -l *bed"
   ]
  },
  {
   "cell_type": "code",
   "execution_count": 18,
   "metadata": {
    "ExecuteTime": {
     "end_time": "2018-09-25T22:17:11.703493Z",
     "start_time": "2018-09-25T22:17:11.690130Z"
    }
   },
   "outputs": [
    {
     "data": {
      "text/plain": [
       "0.4289506465413945"
      ]
     },
     "execution_count": 18,
     "metadata": {},
     "output_type": "execute_result"
    }
   ],
   "source": [
    "6202070/14458703"
   ]
  },
  {
   "cell_type": "code",
   "execution_count": 19,
   "metadata": {
    "ExecuteTime": {
     "end_time": "2018-09-25T22:31:14.922287Z",
     "start_time": "2018-09-25T22:31:14.790443Z"
    }
   },
   "outputs": [
    {
     "name": "stdout",
     "output_type": "stream",
     "text": [
      "NC_007175.2\t49\t49\t0\t0\t9\r\n",
      "NC_007175.2\t50\t50\t0\t0\t4\r\n",
      "NC_007175.2\t51\t51\t0\t0\t10\r\n",
      "NC_007175.2\t52\t52\t0\t0\t4\r\n",
      "NC_007175.2\t88\t88\t0\t0\t13\r\n",
      "NC_007175.2\t89\t89\t0\t0\t7\r\n",
      "NC_007175.2\t147\t147\t0\t0\t16\r\n",
      "NC_007175.2\t148\t148\t0\t0\t5\r\n",
      "NC_007175.2\t193\t193\t0\t0\t15\r\n",
      "NC_007175.2\t194\t194\t0\t0\t5\r\n"
     ]
    }
   ],
   "source": [
    "!head *cov"
   ]
  },
  {
   "cell_type": "code",
   "execution_count": 21,
   "metadata": {
    "ExecuteTime": {
     "end_time": "2018-09-25T22:33:02.277426Z",
     "start_time": "2018-09-25T22:32:41.805343Z"
    }
   },
   "outputs": [
    {
     "name": "stdout",
     "output_type": "stream",
     "text": [
      " 1598166\r\n"
     ]
    }
   ],
   "source": [
    "!awk '{print $1, $2-1, $2, $4, $5+$6}' *cov | awk '{if ($5 >= 3) { print $1 }}' | wc -l\n",
    "\n"
   ]
  },
  {
   "cell_type": "code",
   "execution_count": 22,
   "metadata": {
    "ExecuteTime": {
     "end_time": "2018-09-25T22:33:14.304248Z",
     "start_time": "2018-09-25T22:33:14.297046Z"
    }
   },
   "outputs": [
    {
     "data": {
      "text/plain": [
       "0.11053315086422344"
      ]
     },
     "execution_count": 22,
     "metadata": {},
     "output_type": "execute_result"
    }
   ],
   "source": [
    "1598166/14458703"
   ]
  },
  {
   "cell_type": "code",
   "execution_count": 2,
   "metadata": {
    "ExecuteTime": {
     "end_time": "2018-09-28T20:25:41.995569Z",
     "start_time": "2018-09-28T20:25:41.860744Z"
    }
   },
   "outputs": [
    {
     "name": "stdout",
     "output_type": "stream",
     "text": [
      "CHG_CTOB_R1_001_bismark_bt2_pe.deduplicated.txt\r\n",
      "CHG_CTOT_R1_001_bismark_bt2_pe.deduplicated.txt\r\n",
      "CHG_OB_R1_001_bismark_bt2_pe.deduplicated.txt\r\n",
      "CHG_OT_R1_001_bismark_bt2_pe.deduplicated.txt\r\n",
      "CHH_CTOB_R1_001_bismark_bt2_pe.deduplicated.txt\r\n",
      "CHH_CTOT_R1_001_bismark_bt2_pe.deduplicated.txt\r\n",
      "CHH_OB_R1_001_bismark_bt2_pe.deduplicated.txt\r\n",
      "CHH_OT_R1_001_bismark_bt2_pe.deduplicated.txt\r\n",
      "C_virginica-3.0_CG-motif.bed\r\n",
      "CpG_CTOB_R1_001_bismark_bt2_pe.deduplicated.txt\r\n",
      "CpG_CTOT_R1_001_bismark_bt2_pe.deduplicated.txt\r\n",
      "CpG_OB_R1_001_bismark_bt2_pe.deduplicated.txt\r\n",
      "CpG_OT_R1_001_bismark_bt2_pe.deduplicated.txt\r\n",
      "R1_001_bismark_bt2_PE_report.txt\r\n",
      "R1_001_bismark_bt2_pe.bam\r\n",
      "R1_001_bismark_bt2_pe.deduplicated.M-bias.txt\r\n",
      "R1_001_bismark_bt2_pe.deduplicated.bam\r\n",
      "R1_001_bismark_bt2_pe.deduplicated.bedGraph.gz\r\n",
      "R1_001_bismark_bt2_pe.deduplicated.bismark.cov\r\n",
      "R1_001_bismark_bt2_pe.deduplicated.bismark.cov.gz\r\n",
      "R1_001_bismark_bt2_pe.deduplicated_splitting_report.txt\r\n",
      "R1_001_bismark_bt2_pe.deduplication_report.txt\r\n",
      "bismark.err\r\n",
      "bismark_summary_report.html\r\n",
      "bismark_summary_report.txt\r\n",
      "bme.err\r\n",
      "dedup.err\r\n"
     ]
    }
   ],
   "source": [
    "ls"
   ]
  },
  {
   "cell_type": "code",
   "execution_count": 3,
   "metadata": {
    "ExecuteTime": {
     "end_time": "2018-09-28T20:26:13.334044Z",
     "start_time": "2018-09-28T20:26:13.210738Z"
    }
   },
   "outputs": [
    {
     "name": "stdout",
     "output_type": "stream",
     "text": [
      "NC_007175.2\t49\t49\t0\t0\t9\r\n",
      "NC_007175.2\t50\t50\t0\t0\t4\r\n",
      "NC_007175.2\t51\t51\t0\t0\t10\r\n",
      "NC_007175.2\t52\t52\t0\t0\t4\r\n",
      "NC_007175.2\t88\t88\t0\t0\t13\r\n",
      "NC_007175.2\t89\t89\t0\t0\t7\r\n",
      "NC_007175.2\t147\t147\t0\t0\t16\r\n",
      "NC_007175.2\t148\t148\t0\t0\t5\r\n",
      "NC_007175.2\t193\t193\t0\t0\t15\r\n",
      "NC_007175.2\t194\t194\t0\t0\t5\r\n"
     ]
    }
   ],
   "source": [
    "!head *cov"
   ]
  },
  {
   "cell_type": "markdown",
   "metadata": {},
   "source": [
    "looking at coverage files     \n",
    "`<chromosome> <start position> <end position> <methylation percentage> <count methylated> <count unmethylated>\n",
    "`"
   ]
  },
  {
   "cell_type": "code",
   "execution_count": 4,
   "metadata": {
    "ExecuteTime": {
     "end_time": "2018-09-28T20:28:16.283894Z",
     "start_time": "2018-09-28T20:28:16.149568Z"
    }
   },
   "outputs": [
    {
     "name": "stdout",
     "output_type": "stream",
     "text": [
      "NC_007175.2 48 49 0\r\n",
      "NC_007175.2 49 50 0\r\n",
      "NC_007175.2 50 51 0\r\n",
      "NC_007175.2 51 52 0\r\n",
      "NC_007175.2 87 88 0\r\n",
      "NC_007175.2 88 89 0\r\n",
      "NC_007175.2 146 147 0\r\n",
      "NC_007175.2 147 148 0\r\n",
      "NC_007175.2 192 193 0\r\n",
      "NC_007175.2 193 194 0\r\n",
      "awk: write error on /dev/stdout\r\n",
      " input record number 1305, file R1_001_bismark_bt2_pe.deduplicated.bismark.cov\r\n",
      " source line number 1\r\n"
     ]
    }
   ],
   "source": [
    "!awk '{print $1, $2-1, $3, $4}' *cov | head"
   ]
  },
  {
   "cell_type": "code",
   "execution_count": 8,
   "metadata": {
    "ExecuteTime": {
     "end_time": "2018-09-28T20:38:46.063362Z",
     "start_time": "2018-09-28T20:38:26.605381Z"
    }
   },
   "outputs": [],
   "source": [
    "!awk -F '\\t' '{print $1, $2-1, $3, $4}' *cov \\\n",
    "> /Users/sr320/Desktop/Qiagen/Qiagen-combined.igv"
   ]
  },
  {
   "cell_type": "code",
   "execution_count": 10,
   "metadata": {
    "ExecuteTime": {
     "end_time": "2018-09-28T20:40:41.778649Z",
     "start_time": "2018-09-28T20:40:22.633697Z"
    }
   },
   "outputs": [],
   "source": [
    "!awk -F '\\t' '{print $1, $2-1, $3, $4}' *cov \\\n",
    "> /Users/sr320/Desktop/Qiagen/Qiagen-combined.bedgraph"
   ]
  },
  {
   "cell_type": "code",
   "execution_count": 12,
   "metadata": {
    "ExecuteTime": {
     "end_time": "2018-09-28T20:52:15.656229Z",
     "start_time": "2018-09-28T20:52:15.526819Z"
    }
   },
   "outputs": [
    {
     "name": "stdout",
     "output_type": "stream",
     "text": [
      "NC_035780.1\tRefSeq\tregion\t1\t65668440\t.\t+\t.\tID=id0;Dbxref=taxon:6565;Name=1;chromosome=1;collection-date=22-Mar-2015;country=USA;gbkey=Src;genome=chromosome;isolate=RU13XGHG1-28;isolation-source=Rutgers Haskin Shellfish Research Laboratory inbred lines (NJ);mol_type=genomic DNA;tissue-type=whole sample\r\n",
      "NC_035780.1\tGnomon\tgene\t13578\t14594\t.\t+\t.\tID=gene0;Dbxref=GeneID:111116054;Name=LOC111116054;gbkey=Gene;gene=LOC111116054;gene_biotype=lncRNA\r\n",
      "NC_035780.1\tGnomon\tlnc_RNA\t13578\t14594\t.\t+\t.\tID=rna0;Parent=gene0;Dbxref=GeneID:111116054,Genbank:XR_002636969.1;Name=XR_002636969.1;gbkey=ncRNA;gene=LOC111116054;model_evidence=Supporting evidence includes similarity to: 100%25 coverage of the annotated genomic feature by RNAseq alignments%2C including 1 sample with support for all annotated introns;product=uncharacterized LOC111116054;transcript_id=XR_002636969.1\r\n",
      "NC_035780.1\tGnomon\texon\t13578\t13603\t.\t+\t.\tID=id1;Parent=rna0;Dbxref=GeneID:111116054,Genbank:XR_002636969.1;gbkey=ncRNA;gene=LOC111116054;product=uncharacterized LOC111116054;transcript_id=XR_002636969.1\r\n",
      "NC_035780.1\tGnomon\texon\t14237\t14290\t.\t+\t.\tID=id2;Parent=rna0;Dbxref=GeneID:111116054,Genbank:XR_002636969.1;gbkey=ncRNA;gene=LOC111116054;product=uncharacterized LOC111116054;transcript_id=XR_002636969.1\r\n",
      "NC_035780.1\tGnomon\texon\t14557\t14594\t.\t+\t.\tID=id3;Parent=rna0;Dbxref=GeneID:111116054,Genbank:XR_002636969.1;gbkey=ncRNA;gene=LOC111116054;product=uncharacterized LOC111116054;transcript_id=XR_002636969.1\r\n",
      "NC_035780.1\tGnomon\tgene\t28961\t33324\t.\t+\t.\tID=gene1;Dbxref=GeneID:111126949;Name=LOC111126949;gbkey=Gene;gene=LOC111126949;gene_biotype=protein_coding\r\n",
      "NC_035780.1\tGnomon\tmRNA\t28961\t33324\t.\t+\t.\tID=rna1;Parent=gene1;Dbxref=GeneID:111126949,Genbank:XM_022471938.1;Name=XM_022471938.1;gbkey=mRNA;gene=LOC111126949;model_evidence=Supporting evidence includes similarity to: 3 Proteins%2C and 100%25 coverage of the annotated genomic feature by RNAseq alignments%2C including 21 samples with support for all annotated introns;product=UNC5C-like protein;transcript_id=XM_022471938.1\r\n",
      "NC_035780.1\tGnomon\texon\t28961\t29073\t.\t+\t.\tID=id4;Parent=rna1;Dbxref=GeneID:111126949,Genbank:XM_022471938.1;gbkey=mRNA;gene=LOC111126949;product=UNC5C-like protein;transcript_id=XM_022471938.1\r\n",
      "NC_035780.1\tGnomon\texon\t30524\t31557\t.\t+\t.\tID=id5;Parent=rna1;Dbxref=GeneID:111126949,Genbank:XM_022471938.1;gbkey=mRNA;gene=LOC111126949;product=UNC5C-like protein;transcript_id=XM_022471938.1\r\n"
     ]
    }
   ],
   "source": [
    "!head /Users/sr320/Documents/GitHub/nb-2018/C_virginica/data/ref-nohead_C_virginica-3.0_top_level.gff3\n",
    "\n",
    "\n"
   ]
  },
  {
   "cell_type": "code",
   "execution_count": 14,
   "metadata": {
    "ExecuteTime": {
     "end_time": "2018-09-28T20:56:51.487204Z",
     "start_time": "2018-09-28T20:56:45.057600Z"
    }
   },
   "outputs": [
    {
     "name": "stdout",
     "output_type": "stream",
     "text": [
      "NC_035780.1\tGnomon\tgene\t13578\t14594\t.\t+\t.\tID=gene0;Dbxref=GeneID:111116054;Name=LOC111116054;gbkey=Gene;gene=LOC111116054;gene_biotype=lncRNA\r\n",
      "NC_035780.1\tGnomon\tgene\t28961\t33324\t.\t+\t.\tID=gene1;Dbxref=GeneID:111126949;Name=LOC111126949;gbkey=Gene;gene=LOC111126949;gene_biotype=protein_coding\r\n",
      "NC_035780.1\tGnomon\tgene\t43111\t66897\t.\t-\t.\tID=gene2;Dbxref=GeneID:111110729;Name=LOC111110729;gbkey=Gene;gene=LOC111110729;gene_biotype=protein_coding\r\n",
      "NC_035780.1\tGnomon\tgene\t85606\t95254\t.\t-\t.\tID=gene3;Dbxref=GeneID:111112434;Name=LOC111112434;gbkey=Gene;gene=LOC111112434;gene_biotype=protein_coding\r\n",
      "NC_035780.1\tGnomon\tgene\t99840\t106460\t.\t+\t.\tID=gene4;Dbxref=GeneID:111120752;Name=LOC111120752;gbkey=Gene;gene=LOC111120752;gene_biotype=protein_coding\r\n",
      "NC_035780.1\tGnomon\tgene\t108305\t110077\t.\t-\t.\tID=gene5;Dbxref=GeneID:111128944;Name=LOC111128944;gbkey=Gene;gene=LOC111128944;gene_biotype=protein_coding;partial=true;start_range=.,108305\r\n",
      "NC_035780.1\tGnomon\tgene\t151859\t157536\t.\t+\t.\tID=gene6;Dbxref=GeneID:111128953;Name=LOC111128953;gbkey=Gene;gene=LOC111128953;gene_biotype=protein_coding\r\n",
      "NC_035780.1\tGnomon\tgene\t163809\t183798\t.\t-\t.\tID=gene7;Dbxref=GeneID:111105691;Name=LOC111105691;gbkey=Gene;gene=LOC111105691;gene_biotype=protein_coding\r\n",
      "NC_035780.1\tGnomon\tgene\t164820\t166793\t.\t+\t.\tID=gene8;Dbxref=GeneID:111105685;Name=LOC111105685;gbkey=Gene;gene=LOC111105685;gene_biotype=protein_coding\r\n",
      "NC_035780.1\tGnomon\tgene\t169468\t170178\t.\t-\t.\tID=gene9;Dbxref=GeneID:111105702;Name=LOC111105702;gbkey=Gene;gene=LOC111105702;gene_biotype=lncRNA\r\n"
     ]
    }
   ],
   "source": [
    "!grep \"Gnomon\tgene\" /Users/sr320/Documents/GitHub/nb-2018/C_virginica/data/ref-nohead_C_virginica-3.0_top_level.gff3 \\\n",
    "| head"
   ]
  },
  {
   "cell_type": "code",
   "execution_count": 37,
   "metadata": {
    "ExecuteTime": {
     "end_time": "2018-09-28T21:20:32.510273Z",
     "start_time": "2018-09-28T21:20:10.098251Z"
    }
   },
   "outputs": [
    {
     "name": "stdout",
     "output_type": "stream",
     "text": [
      "NC_035780.1\tGnomon\tmRNA\t28961\t33324\t.\t+\t.\tID=rna1;Parent=gene1;Dbxref=GeneID:111126949,Genbank:XM_022471938.1;Name=XM_022471938.1;gbkey=mRNA;gene=LOC111126949;model_evidence=Supporting evidence includes similarity to: 3 Proteins%2C and 100%25 coverage of the annotated genomic feature by RNAseq alignments%2C including 21 samples with support for all annotated introns;product=UNC5C-like protein;transcript_id=XM_022471938.1\tNC_035780.1\t28993\t28994\t0\r\n",
      "NC_035780.1\tGnomon\tmRNA\t28961\t33324\t.\t+\t.\tID=rna1;Parent=gene1;Dbxref=GeneID:111126949,Genbank:XM_022471938.1;Name=XM_022471938.1;gbkey=mRNA;gene=LOC111126949;model_evidence=Supporting evidence includes similarity to: 3 Proteins%2C and 100%25 coverage of the annotated genomic feature by RNAseq alignments%2C including 21 samples with support for all annotated introns;product=UNC5C-like protein;transcript_id=XM_022471938.1\tNC_035780.1\t29002\t29003\t0\r\n",
      "NC_035780.1\tGnomon\tmRNA\t28961\t33324\t.\t+\t.\tID=rna1;Parent=gene1;Dbxref=GeneID:111126949,Genbank:XM_022471938.1;Name=XM_022471938.1;gbkey=mRNA;gene=LOC111126949;model_evidence=Supporting evidence includes similarity to: 3 Proteins%2C and 100%25 coverage of the annotated genomic feature by RNAseq alignments%2C including 21 samples with support for all annotated introns;product=UNC5C-like protein;transcript_id=XM_022471938.1\tNC_035780.1\t29180\t29181\t0\r\n"
     ]
    }
   ],
   "source": [
    "!/Applications/bioinfo/bedtools2/bin/bedtools intersect \\\n",
    "-a /Users/sr320/Documents/GitHub/nb-2018/C_virginica/data/ref_C_virginica-3.0_Gnomon_mRNA.gff3 \\\n",
    "-b /Users/sr320/Desktop/Qiagen/tmp/test.bed \\\n",
    "-wa \\\n",
    "-wb \\\n",
    "| head -3"
   ]
  },
  {
   "cell_type": "code",
   "execution_count": 38,
   "metadata": {
    "ExecuteTime": {
     "end_time": "2018-09-28T21:21:12.036440Z",
     "start_time": "2018-09-28T21:21:11.915137Z"
    }
   },
   "outputs": [
    {
     "name": "stdout",
     "output_type": "stream",
     "text": [
      ">XP_022286047.1 purine nucleoside phosphorylase-like isoform X3 [Crassostrea virginica]\r\n",
      "MHTQGSLEEVEALTEQIRSRIRHEPRVGIVCGSGLGGLADVVEDKQMIKYSELEGMPVSTVPGHVGQFVFGLLKGIPVML\r\n",
      "MQGRIHVYEGYPLHRVVLPIRVMWKFGIKTLILTNAAGGINPEYKVGDIMIMKDHLNLPGFCGVNPLIGVNDDRIGPRFP\r\n",
      "PMSDAYSKKYRDIAKQTAQELGYSEFVREGVYSFLTGPTFETVTECRLLRMIGSDATGMSTVPEATVARHCGMEVLAMSL\r\n",
      "ITNSCVMEFDSDQTANHEEVLETGRARSQDMQNLITKIVQKIVS\r\n",
      ">XP_022286048.1 uncharacterized protein LOC111099031 isoform X1 [Crassostrea virginica]\r\n",
      "MSTRVWYGGLLLFVLYGAGGTCDLCTFMNQTTSVSSCSASCGGGQQYYYRYVCCLNLTRSDCESHCNLNLTLTKSIKHFI\r\n",
      "GCGQECYGGGAFNETTESCLCPQGTTGPCCDPIIEPQNTTTETSPEQKNFNTTRETSPEQKYLNTTTETLPEQKYLNTTT\r\n",
      "ETSPEQKNFNTTKETSPEQKNVNTTTETSPEQKYRYTSTETSPQQKSQNTIKGSLYVSVGVPLGLISTLALVLAIIYFIC\r\n",
      "MKRKRNHRVDAAENVPDSDEIGTNRSRDTGQHKGEFT\r\n"
     ]
    }
   ],
   "source": [
    "!head /Users/sr320/Documents/GitHub/nb-2018/C_virginica/data/GCF_002022765.2_C_virginica-3.0_protein.fa"
   ]
  },
  {
   "cell_type": "code",
   "execution_count": 46,
   "metadata": {
    "ExecuteTime": {
     "end_time": "2018-09-28T21:25:35.721919Z",
     "start_time": "2018-09-28T21:25:35.595714Z"
    }
   },
   "outputs": [
    {
     "name": "stdout",
     "output_type": "stream",
     "text": [
      ">ref|XR_002636969.1| PREDICTED: Crassostrea virginica uncharacterized LOC111116054 (LOC111116054), ncRNA\r\n",
      "TGATATTGTTGTGTGCAGAACGTGGGTCATGCTGTCTTGTTGAAGAATACCCTCAATCCAAGGCTAGATT\r\n",
      "AATCATCTAGCCATGATATTGATGATAGCAAGATTTGTGTTGATCCTG\r\n",
      ">ref|XM_022471938.1| PREDICTED: Crassostrea virginica UNC5C-like protein (LOC111126949), mRNA\r\n",
      "AATAGAACCAGGAAGTGAAGAGGCATGTTCAACGTGTTATTCGTTTTCTTGTTTATGCCATGGAAAGACG\r\n",
      "GAATATTGGCAGTGATTCCATTTAGTCAGAAAACTTATGAAAGAAAAATGAGAAATGACCGAAGTGTGCT\r\n",
      "ACATTTGGGCCAGTTCCTCCACAACGGTAGTTATTTGTGGGATTTTCTTCATCGTTTGGAGATGCTTTAT\r\n",
      "TTCCATAAAAAAGAGAGCTAGCCCCTTACATGGCTCTAGTCAACAAGTTTGTCAAACGTGCCAAATTGAA\r\n",
      "GGACACGATTTTGGTGAATTCCAGTTGTCTTGCCGGAGACAAAATACTAATGTTGGTTATGATTTGCAAG\r\n",
      "GCAGACGTTCTGATGTAACTGCAATAATTCAGGGACAGTCTGTGCTTAGGCCGTCTCCAGTGCCAGTGGA\r\n",
      "GGTGTTGCCTGTAGAAGGGAATCGTGTTTCCCGCACCAGTGAATCAGTCCGAACACATTCATCAACACAC\r\n",
      "AGTGCCGGGAGTTCCTCTCATGTAGCTACTTCGCCGGTAATGTCATCTTGCAGCGTAGGAAAAGAGACAT\r\n",
      "CATTAAATCCCTATAGCTACTGCAGGGACATTTACAGTATATCAGAGCGGAGCACGATGAAGACCGTCGG\r\n",
      "AGGTAAACTCGTGGTATCAGTGGCTCACTATGTCACATCGCGAGGAGACTGGTTAATGTTGGATGATATG\r\n",
      "GGTATATCTCTGAGGATACCACCTAACGCTGTTCCAGTTGGGGAGGAGAAACTTATTTGTCTTGTGTTAA\r\n",
      "ATTGGGATTTAGGTGATAATCCACCCATGACTGGAACAGACTCCCTCGTGAGTCCAGTAGTTTTTGTCGG\r\n",
      "ACCTCACGGACTAAAACTTAATAAACCATGCGAACTGCATTATCGCCATTGTGCTTACGATCCAAGACAA\r\n",
      "ATTGTTGTATTGCGCAGTGAAACAGATCTCCATGGTGACAAACACTGGACAGAGATGTGTGGACAAGAAA\r\n",
      "ACCAAGATGGCGTCTGTAGGCTGTCTTCTGACGAATGCATCCTACAAATCGATACATTTACATTGTACAC\r\n",
      "ATGCATTCAAAGACCATTGAGAAATTTGAAAATGGCCAAATGGCTACAAATTGCGGCTTTTTCGAATCCA\r\n",
      "CTTGAAAAACGAATTGATCACCATGAGGTAAGAGTGTATTTTCTCAACAAAACACCATGTGCATTGCAAT\r\n",
      "GGGCCATTCAAAACGAGGCACAATTTCAACACGTACTCATTTGTCCTGAGAAGGCATTTTTGTTCCATGG\r\n",
      "CCAGGTTGACGATATTTTAGATATCCGGGTAACATTGAAGTATTTGTCGGCTGACTGGGAAAGCATTGAT\r\n",
      "AATGACGTCTATGAGCGAGTGCCGTATCTTCATATCTGGCACGGCCAGTGTCCACACATTGTAATGTGCT\r\n",
      "TTAAAAAGAAACCCAAGCATTCTGTGCGAGAACTTAATTTTCATCTGAATATTTATCAGGATACCCTGGA\r\n",
      "AAATGAAGGGGAAAAAATTGTTGTCCATGCAACAGAAAATCCAAGGTGTGTTTATGACAATTCATGTATA\r\n",
      "ATCAACATTCATACTAGTGATAGCCCGGAGAAAAAGACTTTGCCTAACGTTGAAGTCAAGAAAACTGAGG\r\n",
      "ATAATGTTAATGTCTCAATCAAACAAAGCCACTCTCCTTCGGCAGCTCTTCTGGAAGAAATGCGCACAGA\r\n",
      "AAGTACACAGTACATTCCTTATGATATCCGGAAACACCTCAAAGTAAAACTTGACCCACCCAACCCTTTG\r\n",
      "GGAAACGACTGGCGGCGATTAGCAGAAGTTCTAGATCTGTCACAGTTTATCGAGTACCTAAAGAGTCTTC\r\n",
      "ATTCCAGTCCGACAGAGACCCTTCTTTCTGTGATCGAGCATCGCAACATTTCATTGGAGGAGTTAGCAAC\r\n",
      "CATGTTAAATGAAATTCAAAGATACGACGCTGAGAAGATTGTCAGTGACTATCTGCACCAACATCAGAAT\r\n",
      "TCGTCCCCTGTCTGTATTCGAGGCGGCCTGCAGCATGATGAGAGACCATTTGCACACATGAGCGCTACCA\r\n",
      "ACAATCTGAGCAACGTGGAGCCAGACAATGTGAGTCAAGAAGAGAATAGGGCGCAATATTTGCCTCTAGG\r\n",
      "CAATTCAGGGCACGATAATAATGCCTATATGTAAAACATCATTTTTACAGCATTTCCTTGCTAGTCAACT\r\n",
      "CTAATGTAGAATTATGCCAATGTTTGAAATAGTTGATGAAAATAAATGATTCTCTGTATAATCAAATAAA\r\n",
      "ATATAACATTAATA\r\n",
      ">ref|XM_022447324.1| PREDICTED: Crassostrea virginica FMRFamide receptor-like (LOC111110729), transcript variant X1, mRNA\r\n",
      "ATCGTTACACTTTAAAAGTACAAATAAAGATTTAACATGAACTCCGCCTGGTCCTAGCGTTACTCGGGTT\r\n",
      "TTCCCTCTTTTATTTACCCCTGCAAGGACACACCGGGACTACATCCGGGTGAGTGACGAGAATGCAGTAG\r\n",
      "ATCGATGACAGCTCGCGTGGTGACGACAACCAGGAAAGAGTTGTCAAAACAGATTGTCAACCCCGGAACG\r\n",
      "TATTATTACGCTTATAACGCCTTTAAGATAAGCGTGGGGTATCCCCATGTAAGCGAAATGAACGCCTCAA\r\n",
      "ACACAAGCAGTGACAGTGGGGAGATCACCTTGGACACTGATAAAGAGTTCTACGAACTGGCCGTCTTCAT\r\n",
      "CAATGGAGAGATTCTCTATCCTTGTATCTGCATTCCTGGATTGTTAGGAAACATTTTGACACTGGTGGTG\r\n",
      "CTATCGCAGACCAACATGCTGTCCTCCACAAACGCCTTTTTGAGCGCTTTGGCCGTTTCCGACATGGTCA\r\n",
      "GCCTCCTTAACGACCTCGTCTACTTCTCAGTGATGGTTTTGTCCAACTCGCAGCCGGAGATAGCTTATCA\r\n",
      "CATTTACGTGCATGTGTACCCTTTTGCCCATTTCGTTTTCAACATTTCCAACTCTGTATCCTCATGGCTT\r\n",
      "ACAGTTTCAGTCGCCATTGAGCGCTTCCTGTTAGTATGCTTTCCCGCCAAATCCCGAACTATGTGTACGA\r\n",
      "GACCTCGTGCTATTGCTGGTACCATCGTGATTAACGTTGTAATGTTAACCATTTCACTGCCCTATGCCTT\r\n",
      "TCGCTACAAAACAATTCAAGTTGTGGACAACTGGTCAAACAAAACTTCTTTGCAGCTTAATTTGACTGAC\r\n",
      "TTATGGCAGGAGGACAACTTTTCGGTCTATTATTCCTGGAGTTTGAACTTCCTTAGATGCAACATTCCAC\r\n",
      "TTATCCTCCTCATTATTTTAAATGCATGCATTATAAAAGCACTTCTTAAACTACGCGCCAAAAATAGATC\r\n",
      "GCGGTACATACATCGACAAAGGGTGACATTTATGCTGATCATAATAATAATGAAGTTTTTATTTTGCACC\r\n",
      "ACTCCAGATGCTGTCCTGTCTACCTTCTACGGCTATGGGTACACGGAAGATAACTTCAAAGTCCGCGGCA\r\n",
      "TCCGGGAGTTCACTGATATGCTACTGGCCCTCAACGCTGCCACCAATTTTGTTGTCTACTGTGTTTTAAG\r\n",
      "CGTGACATTCCGGATGAATTGTAGGAAATTGTTTTGTCACAGGGAGGTCCCAAACGGTGCTCTCGGGAAG\r\n",
      "AGGAGATCGGTGTATAAACTATTATCGGACAGATCGATATTTTGGAAACAAAACAAGAAAAGTAGTTGTA\r\n",
      "GTCTTTGAATCGATGATGGCATATGATAGGATCATTATTTCTTTGCTGACTATCATCTAAATGATAGTTC\r\n",
      "AAAGCTTTGTCACACCCTTTATAATAGAATTTCCGCCCGGTATGTTGTTCGACACAAGCTCCGTTTTATT\r\n",
      "TCATTTTGTCTGTGTGTAA\r\n",
      ">ref|XM_022447333.1| PREDICTED: Crassostrea virginica FMRFamide receptor-like (LOC111110729), transcript variant X2, mRNA\r\n",
      "CCGATGGGATAATGTTGCCATTGGTTCCCTGGTCTTTTCATGTCCTCCTTGGAATAGGCTGAAGGACGAA\r\n",
      "ATTGTGTTCGACAATGGCGACAGATACAATGAAATACGATGGACTTCAGTCGCGGAAACACTCGTCTTTC\r\n",
      "ATTCGCTAACTTTTGTATAGTTCTTTATAAAGTAATCATCCGTTGCTCGTGAAGGATATATGACACAGAA\r\n",
      "GTTTAATGTATTTGTATAACTCAGACACATGAATCCAACATAGGATATAAGTGTCATTCTCTGATGTCAC\r\n",
      "ACAGTGAACAGAATAGATCTAAAAACAATATCACACATATCCACCTTTGGACCTGAAAATAGTATCGATC\r\n",
      "GTTTGTTGTGCTTGGATGAAAAAATCTGCAGTGTTATGCAGTGAAGTCACCAACAATATAACTGATGCAT\r\n",
      "TGTGGGATATACGTGTATTTGTACATACTTTAAAGAGTTTTTAAAAACCGGTGGGATTTAGTTTCAATTT\r\n",
      "CTTCTTACGTCTGCGCATAATGCAGTATTCTGTGTGTGTGCTAGTTTTCAATGTAACTGTGTGCTATATT\r\n",
      "TGTGTTCAAGGTACAATGGCATGGAAATTTCCAGGCGTGGGGTATCCCCATGTAAGCGAAATGAACGCCT\r\n",
      "CAAACACAAGCAGTGACAGTGGGGAGATCACCTTGGACACTGATAAAGAGTTCTACGAACTGGCCGTCTT\r\n",
      "CATCAATGGAGAGATTCTCTATCCTTGTATCTGCATTCCTGGATTGTTAGGAAACATTTTGACACTGGTG\r\n",
      "GTGCTATCGCAGACCAACATGCTGTCCTCCACAAACGCCTTTTTGAGCGCTTTGGCCGTTTCCGACATGG\r\n",
      "TCAGCCTCCTTAACGACCTCGTCTACTTCTCAGTGATGGTTTTGTCCAACTCGCAGCCGGAGATAGCTTA\r\n",
      "TCACATTTACGTGCATGTGTACCCTTTTGCCCATTTCGTTTTCAACATTTCCAACTCTGTATCCTCATGG\r\n",
      "CTTACAGTTTCAGTCGCCATTGAGCGCTTCCTGTTAGTATGCTTTCCCGCCAAATCCCGAACTATGTGTA\r\n",
      "CGAGACCTCGTGCTATTGCTGGTACCATCGTGATTAACGTTGTAATGTTAACCATTTCACTGCCCTATGC\r\n",
      "CTTTCGCTACAAAACAATTCAAGTTGTGGACAACTGGTCAAACAAAACTTCTTTGCAGCTTAATTTGACT\r\n",
      "GACTTATGGCAGGAGGACAACTTTTCGGTCTATTATTCCTGGAGTTTGAACTTCCTTAGATGCAACATTC\r\n",
      "CACTTATCCTCCTCATTATTTTAAATGCATGCATTATAAAAGCACTTCTTAAACTACGCGCCAAAAATAG\r\n",
      "ATCGCGGTACATACATCGACAAAGGGTGACATTTATGCTGATCATAATAATAATGAAGTTTTTATTTTGC\r\n",
      "ACCACTCCAGATGCTGTCCTGTCTACCTTCTACGGCTATGGGTACACGGAAGATAACTTCAAAGTCCGCG\r\n",
      "GCATCCGGGAGTTCACTGATATGCTACTGGCCCTCAACGCTGCCACCAATTTTGTTGTCTACTGTGTTTT\r\n",
      "AAGCGTGACATTCCGGATGAATTGTAGGAAATTGTTTTGTCACAGGGAGGTCCCAAACGGTGCTCTCGGG\r\n",
      "AAGAGGAGATCGGTGTATAAACTATTATCGGACAGATCGATATTTTGGAAACAAAACAAGAAAAGTAGTT\r\n",
      "GTAGTCTTTGAATCGATGATGGCATATGATAGGATCATTATTTCTTTGCTGACTATCATCTAAATGATAG\r\n",
      "TTCAAAGCTTTGTCACACCCTTTATAATAGAATTTCCGCCCGGTATGTTGTTCGACACAAGCTCCGTTTT\r\n",
      "ATTTCATTTTGTCTGTGTGTAA\r\n",
      ">ref|XM_022449924.1| PREDICTED: Crassostrea virginica homeobox protein Hox-B7-like (LOC111112434), mRNA\r\n",
      "GAATTCTGTTTCTGAGTTTCTGCAACTGTGCGTGAAAAATTGCGTTCCTATTGGCCGAACCCCGCAAACT\r\n",
      "CTCGAGGGAGGACGGACAGATTTTATCTCCGACGCAGAAGAGTTCCCCTGTACGTCTTGGCACATCTGAA\r\n",
      "TATCTCATTGTCGTTTCTAACAGTCATAGATTTATGACGGCCAGATAGGAATTGTCATTTTCTCTCAAAA\r\n",
      "TAATGGAAGAACCAGAGAGGGGGATTAATTCTAATTCCCAGAATTGTTCCTCCGGGCCTTGCTCGTCCTA\r\n",
      "CTCGGCCATGGGACGATTTTTCCAGAGAGCGAGTGCATTTGACTGCATGCACCCGTCCTCGGCGGGAGGC\r\n",
      "ATGGGGCTAGCTCCCACCCCCACAGGCTTTGGATACTCAACATACCCGGGTGATTGGGGCTTTATGCATG\r\n",
      "GAGCCAGTTACACGCCAAGTTTCAATTTCAACAGAAGTTTAAATAGTCCTCCTAACTTTTATTCAGTGCC\r\n",
      "TCGAGACTTCGGGAATTCCCTGGGACATTCAGTGACCGGACCACCCCCTCTGATTGGGTCCAGCGCCGGT\r\n",
      "TCTGTGGGGGTGTCATGTGAGCCCCTGGACACTTACGGCACCGGTCTGTGTGGAGACTCGCCTTGCTCAC\r\n",
      "CCAGCCCCAGTGACAACTGCTTATCGGATGATGTAGACAAAAAGGAAAACAAAGACAGCGACCCTTACAA\r\n",
      "ATTAGACCTGTCGGTCAAGCCCCGCAAGGAGCGCACAGCATTCACCAAGCACCAGATCCGAGAACTGGAG\r\n"
     ]
    }
   ],
   "source": [
    "!head -100 /Users/sr320/Documents/GitHub/nb-2018/C_virginica/data/rna.fa"
   ]
  },
  {
   "cell_type": "code",
   "execution_count": 49,
   "metadata": {
    "ExecuteTime": {
     "end_time": "2018-09-28T21:27:14.862107Z",
     "start_time": "2018-09-28T21:27:14.381704Z"
    }
   },
   "outputs": [
    {
     "name": "stdout",
     "output_type": "stream",
     "text": [
      "NC_035780.1\tGnomon\tmRNA\t28961\t33324\t.\t+\t.\tID=rna1;Parent=gene1;Dbxref=GeneID:111126949,Genbank:XM_022471938.1;Name=XM_022471938.1;gbkey=mRNA;gene=LOC111126949;model_evidence=Supporting evidence includes similarity to: 3 Proteins%2C and 100%25 coverage of the annotated genomic feature by RNAseq alignments%2C including 21 samples with support for all annotated introns;product=UNC5C-like protein;transcript_id=XM_022471938.1\r\n"
     ]
    }
   ],
   "source": [
    "!grep \"XM_022471938.1\" /Users/sr320/Documents/GitHub/nb-2018/C_virginica/data/ref_C_virginica-3.0_Gnomon_mRNA.gff3 | head"
   ]
  },
  {
   "cell_type": "code",
   "execution_count": 35,
   "metadata": {
    "ExecuteTime": {
     "end_time": "2018-09-28T21:19:08.335329Z",
     "start_time": "2018-09-28T21:19:08.210009Z"
    },
    "collapsed": true
   },
   "outputs": [
    {
     "name": "stdout",
     "output_type": "stream",
     "text": [
      "NC_035780.1\tGnomon\tmRNA\t28961\t33324\t.\t+\t.\tID=rna1;Parent=gene1;Dbxref=GeneID:111126949,Genbank:XM_022471938.1;Name=XM_022471938.1;gbkey=mRNA;gene=LOC111126949;model_evidence=Supporting evidence includes similarity to: 3 Proteins%2C and 100%25 coverage of the annotated genomic feature by RNAseq alignments%2C including 21 samples with support for all annotated introns;product=UNC5C-like protein;transcript_id=XM_022471938.1\r\n",
      "NC_035780.1\tGnomon\tmRNA\t43111\t66897\t.\t-\t.\tID=rna2;Parent=gene2;Dbxref=GeneID:111110729,Genbank:XM_022447324.1;Name=XM_022447324.1;gbkey=mRNA;gene=LOC111110729;model_evidence=Supporting evidence includes similarity to: 1 Protein%2C and 100%25 coverage of the annotated genomic feature by RNAseq alignments;product=FMRFamide receptor-like%2C transcript variant X1;transcript_id=XM_022447324.1\r\n",
      "NC_035780.1\tGnomon\tmRNA\t43111\t46506\t.\t-\t.\tID=rna3;Parent=gene2;Dbxref=GeneID:111110729,Genbank:XM_022447333.1;Name=XM_022447333.1;gbkey=mRNA;gene=LOC111110729;model_evidence=Supporting evidence includes similarity to: 1 Protein%2C and 100%25 coverage of the annotated genomic feature by RNAseq alignments%2C including 14 samples with support for all annotated introns;product=FMRFamide receptor-like%2C transcript variant X2;transcript_id=XM_022447333.1\r\n",
      "NC_035780.1\tGnomon\tmRNA\t85606\t95254\t.\t-\t.\tID=rna4;Parent=gene3;Dbxref=GeneID:111112434,Genbank:XM_022449924.1;Name=XM_022449924.1;gbkey=mRNA;gene=LOC111112434;model_evidence=Supporting evidence includes similarity to: 7 Proteins%2C and 100%25 coverage of the annotated genomic feature by RNAseq alignments%2C including 13 samples with support for all annotated introns;product=homeobox protein Hox-B7-like;transcript_id=XM_022449924.1\r\n",
      "NC_035780.1\tGnomon\tmRNA\t99840\t106460\t.\t+\t.\tID=rna5;Parent=gene4;Dbxref=GeneID:111120752,Genbank:XM_022461698.1;Name=XM_022461698.1;gbkey=mRNA;gene=LOC111120752;model_evidence=Supporting evidence includes similarity to: 10 Proteins%2C and 100%25 coverage of the annotated genomic feature by RNAseq alignments%2C including 27 samples with support for all annotated introns;product=ribulose-phosphate 3-epimerase-like;transcript_id=XM_022461698.1\r\n",
      "NC_035780.1\tGnomon\tmRNA\t108305\t110077\t.\t-\t.\tID=rna6;Parent=gene5;Dbxref=GeneID:111128944,Genbank:XM_022474921.1;Name=XM_022474921.1;gbkey=mRNA;gene=LOC111128944;model_evidence=Supporting evidence includes similarity to: 2 Proteins%2C and 93%25 coverage of the annotated genomic feature by RNAseq alignments;partial=true;product=mucin-19-like;start_range=.,108305;transcript_id=XM_022474921.1\r\n",
      "NC_035780.1\tGnomon\tmRNA\t151859\t157536\t.\t+\t.\tID=rna7;Parent=gene6;Dbxref=GeneID:111128953,Genbank:XM_022474931.1;Name=XM_022474931.1;gbkey=mRNA;gene=LOC111128953;model_evidence=Supporting evidence includes similarity to: 1 Protein;product=GATA zinc finger domain-containing protein 14-like;transcript_id=XM_022474931.1\r\n",
      "NC_035780.1\tGnomon\tmRNA\t163809\t183798\t.\t-\t.\tID=rna8;Parent=gene7;Dbxref=GeneID:111105691,Genbank:XM_022440054.1;Name=XM_022440054.1;gbkey=mRNA;gene=LOC111105691;model_evidence=Supporting evidence includes similarity to: 100%25 coverage of the annotated genomic feature by RNAseq alignments%2C including 9 samples with support for all annotated introns;product=uncharacterized LOC111105691;transcript_id=XM_022440054.1\r\n",
      "NC_035780.1\tGnomon\tmRNA\t164820\t166793\t.\t+\t.\tID=rna9;Parent=gene8;Dbxref=GeneID:111105685,Genbank:XM_022440042.1;Name=XM_022440042.1;gbkey=mRNA;gene=LOC111105685;model_evidence=Supporting evidence includes similarity to: 100%25 coverage of the annotated genomic feature by RNAseq alignments%2C including 4 samples with support for all annotated introns;product=protein ANTAGONIST OF LIKE HETEROCHROMATIN PROTEIN 1-like;transcript_id=XM_022440042.1\r\n",
      "NC_035780.1\tGnomon\tmRNA\t190449\t193594\t.\t-\t.\tID=rna11;Parent=gene10;Dbxref=GeneID:111133554,Genbank:XM_022482070.1;Name=XM_022482070.1;gbkey=mRNA;gene=LOC111133554;model_evidence=Supporting evidence includes similarity to: 100%25 coverage of the annotated genomic feature by RNAseq alignments%2C including 3 samples with support for all annotated introns;product=putative uncharacterized protein DDB_G0277407;transcript_id=XM_022482070.1\r\n"
     ]
    }
   ],
   "source": [
    "!head /Users/sr320/Documents/GitHub/nb-2018/C_virginica/data/ref_C_virginica-3.0_Gnomon_mRNA.gff3"
   ]
  },
  {
   "cell_type": "code",
   "execution_count": 26,
   "metadata": {
    "ExecuteTime": {
     "end_time": "2018-09-28T21:11:21.510961Z",
     "start_time": "2018-09-28T21:11:21.380304Z"
    }
   },
   "outputs": [
    {
     "name": "stdout",
     "output_type": "stream",
     "text": [
      "cat: stdout: Broken pipe\r\n"
     ]
    }
   ],
   "source": [
    "!cat -t /Users/sr320/Desktop/Qiagen/Qiagen-combined.bed | head > /Users/sr320/Desktop/Qiagen/tmp/test.bed"
   ]
  },
  {
   "cell_type": "code",
   "execution_count": 53,
   "metadata": {
    "ExecuteTime": {
     "end_time": "2018-09-28T21:38:32.351864Z",
     "start_time": "2018-09-28T21:38:17.356497Z"
    }
   },
   "outputs": [],
   "source": [
    "!awk -v OFS=\"\\t\" '$1=$1' /Users/sr320/Desktop/Qiagen/Qiagen-combined.bed > /Users/sr320/Desktop/Qiagen/Qiagen-combtab.bed"
   ]
  },
  {
   "cell_type": "code",
   "execution_count": 50,
   "metadata": {
    "ExecuteTime": {
     "end_time": "2018-09-28T21:35:33.912472Z",
     "start_time": "2018-09-28T21:35:33.748597Z"
    }
   },
   "outputs": [
    {
     "name": "stdout",
     "output_type": "stream",
     "text": [
      "   60201 /Users/sr320/Documents/GitHub/nb-2018/C_virginica/data/ref_C_virginica-3.0_Gnomon_mRNA.gff3\r\n"
     ]
    }
   ],
   "source": [
    "!wc -l /Users/sr320/Documents/GitHub/nb-2018/C_virginica/data/ref_C_virginica-3.0_Gnomon_mRNA.gff3"
   ]
  },
  {
   "cell_type": "code",
   "execution_count": 51,
   "metadata": {
    "ExecuteTime": {
     "end_time": "2018-09-28T21:36:24.185309Z",
     "start_time": "2018-09-28T21:36:24.053252Z"
    }
   },
   "outputs": [
    {
     "name": "stdout",
     "output_type": "stream",
     "text": [
      "   38929 /Users/sr320/Documents/GitHub/nb-2018/C_virginica/data/ref_C_virginica-3.0_Gnomon_gene.gff3\r\n"
     ]
    }
   ],
   "source": [
    "!wc -l /Users/sr320/Documents/GitHub/nb-2018/C_virginica/data/ref_C_virginica-3.0_Gnomon_gene.gff3"
   ]
  },
  {
   "cell_type": "code",
   "execution_count": 52,
   "metadata": {
    "ExecuteTime": {
     "end_time": "2018-09-28T21:36:34.860475Z",
     "start_time": "2018-09-28T21:36:34.739059Z"
    }
   },
   "outputs": [
    {
     "name": "stdout",
     "output_type": "stream",
     "text": [
      "NC_035780.1\tGnomon\tgene\t13578\t14594\t.\t+\t.\tID=gene0;Dbxref=GeneID:111116054;Name=LOC111116054;gbkey=Gene;gene=LOC111116054;gene_biotype=lncRNA\r\n",
      "NC_035780.1\tGnomon\tgene\t28961\t33324\t.\t+\t.\tID=gene1;Dbxref=GeneID:111126949;Name=LOC111126949;gbkey=Gene;gene=LOC111126949;gene_biotype=protein_coding\r\n",
      "NC_035780.1\tGnomon\tgene\t43111\t66897\t.\t-\t.\tID=gene2;Dbxref=GeneID:111110729;Name=LOC111110729;gbkey=Gene;gene=LOC111110729;gene_biotype=protein_coding\r\n",
      "NC_035780.1\tGnomon\tgene\t85606\t95254\t.\t-\t.\tID=gene3;Dbxref=GeneID:111112434;Name=LOC111112434;gbkey=Gene;gene=LOC111112434;gene_biotype=protein_coding\r\n",
      "NC_035780.1\tGnomon\tgene\t99840\t106460\t.\t+\t.\tID=gene4;Dbxref=GeneID:111120752;Name=LOC111120752;gbkey=Gene;gene=LOC111120752;gene_biotype=protein_coding\r\n",
      "NC_035780.1\tGnomon\tgene\t108305\t110077\t.\t-\t.\tID=gene5;Dbxref=GeneID:111128944;Name=LOC111128944;gbkey=Gene;gene=LOC111128944;gene_biotype=protein_coding;partial=true;start_range=.,108305\r\n",
      "NC_035780.1\tGnomon\tgene\t151859\t157536\t.\t+\t.\tID=gene6;Dbxref=GeneID:111128953;Name=LOC111128953;gbkey=Gene;gene=LOC111128953;gene_biotype=protein_coding\r\n",
      "NC_035780.1\tGnomon\tgene\t163809\t183798\t.\t-\t.\tID=gene7;Dbxref=GeneID:111105691;Name=LOC111105691;gbkey=Gene;gene=LOC111105691;gene_biotype=protein_coding\r\n",
      "NC_035780.1\tGnomon\tgene\t164820\t166793\t.\t+\t.\tID=gene8;Dbxref=GeneID:111105685;Name=LOC111105685;gbkey=Gene;gene=LOC111105685;gene_biotype=protein_coding\r\n",
      "NC_035780.1\tGnomon\tgene\t169468\t170178\t.\t-\t.\tID=gene9;Dbxref=GeneID:111105702;Name=LOC111105702;gbkey=Gene;gene=LOC111105702;gene_biotype=lncRNA\r\n"
     ]
    }
   ],
   "source": [
    "!head /Users/sr320/Documents/GitHub/nb-2018/C_virginica/data/ref_C_virginica-3.0_Gnomon_gene.gff3"
   ]
  },
  {
   "cell_type": "code",
   "execution_count": 55,
   "metadata": {
    "ExecuteTime": {
     "end_time": "2018-09-28T21:40:20.271388Z",
     "start_time": "2018-09-28T21:39:57.390075Z"
    }
   },
   "outputs": [],
   "source": [
    "!/Applications/bioinfo/bedtools2/bin/bedtools intersect \\\n",
    "-a /Users/sr320/Documents/GitHub/nb-2018/C_virginica/data/ref_C_virginica-3.0_Gnomon_mRNA.gff3 \\\n",
    "-b /Users/sr320/Desktop/Qiagen/Qiagen-combtab.bed \\\n",
    "-wa \\\n",
    "-wb \\\n",
    "| head -3 > /Users/sr320/Desktop/Qiagen/mRNA-int-combined.tab"
   ]
  },
  {
   "cell_type": "code",
   "execution_count": 56,
   "metadata": {
    "ExecuteTime": {
     "end_time": "2018-09-28T21:40:20.413145Z",
     "start_time": "2018-09-28T21:40:20.277600Z"
    }
   },
   "outputs": [
    {
     "name": "stdout",
     "output_type": "stream",
     "text": [
      "NC_035780.1\tGnomon\tmRNA\t28961\t33324\t.\t+\t.\tID=rna1;Parent=gene1;Dbxref=GeneID:111126949,Genbank:XM_022471938.1;Name=XM_022471938.1;gbkey=mRNA;gene=LOC111126949;model_evidence=Supporting evidence includes similarity to: 3 Proteins%2C and 100%25 coverage of the annotated genomic feature by RNAseq alignments%2C including 21 samples with support for all annotated introns;product=UNC5C-like protein;transcript_id=XM_022471938.1\tNC_035780.1\t28993\t28994\t0\r\n",
      "NC_035780.1\tGnomon\tmRNA\t28961\t33324\t.\t+\t.\tID=rna1;Parent=gene1;Dbxref=GeneID:111126949,Genbank:XM_022471938.1;Name=XM_022471938.1;gbkey=mRNA;gene=LOC111126949;model_evidence=Supporting evidence includes similarity to: 3 Proteins%2C and 100%25 coverage of the annotated genomic feature by RNAseq alignments%2C including 21 samples with support for all annotated introns;product=UNC5C-like protein;transcript_id=XM_022471938.1\tNC_035780.1\t29002\t29003\t0\r\n",
      "NC_035780.1\tGnomon\tmRNA\t28961\t33324\t.\t+\t.\tID=rna1;Parent=gene1;Dbxref=GeneID:111126949,Genbank:XM_022471938.1;Name=XM_022471938.1;gbkey=mRNA;gene=LOC111126949;model_evidence=Supporting evidence includes similarity to: 3 Proteins%2C and 100%25 coverage of the annotated genomic feature by RNAseq alignments%2C including 21 samples with support for all annotated introns;product=UNC5C-like protein;transcript_id=XM_022471938.1\tNC_035780.1\t29180\t29181\t0\r\n"
     ]
    }
   ],
   "source": [
    "!head /Users/sr320/Desktop/Qiagen/mRNA-int-combined.tab"
   ]
  },
  {
   "cell_type": "code",
   "execution_count": 64,
   "metadata": {
    "ExecuteTime": {
     "end_time": "2018-09-28T21:43:01.481078Z",
     "start_time": "2018-09-28T21:43:01.359693Z"
    }
   },
   "outputs": [
    {
     "name": "stdout",
     "output_type": "stream",
     "text": [
      "ID=rna1;Parent=gene1;Dbxref=GeneID:111126949,Genbank:XM_022471938.1;Name=XM_022471938.1;gbkey=mRNA;gene=LOC111126949;model_evidence=Supporting\r\n",
      "ID=rna1;Parent=gene1;Dbxref=GeneID:111126949,Genbank:XM_022471938.1;Name=XM_022471938.1;gbkey=mRNA;gene=LOC111126949;model_evidence=Supporting\r\n",
      "ID=rna1;Parent=gene1;Dbxref=GeneID:111126949,Genbank:XM_022471938.1;Name=XM_022471938.1;gbkey=mRNA;gene=LOC111126949;model_evidence=Supporting\r\n"
     ]
    }
   ],
   "source": [
    "!awk -v OFS='\\t' '{print $9}' /Users/sr320/Desktop/Qiagen/mRNA-int-combined.tab"
   ]
  },
  {
   "cell_type": "code",
   "execution_count": 70,
   "metadata": {
    "ExecuteTime": {
     "end_time": "2018-09-28T21:44:46.812640Z",
     "start_time": "2018-09-28T21:44:46.687653Z"
    }
   },
   "outputs": [
    {
     "name": "stdout",
     "output_type": "stream",
     "text": [
      "ID=rna1;Parent=gene1;Dbxref=GeneID:111126949,Genbank:XM_022471938.1;Name=XM_022471938.1;gbkey=mRNA;gene=LOC111126949;model_evidence=Supporting evidence includes similarity to: 3 Proteins%2C and 100%25 coverage of the annotated genomic feature by RNAseq alignments%2C including 21 samples with support for all annotated introns;product=UNC5C-like protein;transcript_id=XM_022471938.1\t0\r\n"
     ]
    }
   ],
   "source": [
    "!cut -f9,13 /Users/sr320/Desktop/Qiagen/mRNA-int-combined.tab | uniq "
   ]
  },
  {
   "cell_type": "code",
   "execution_count": 71,
   "metadata": {
    "ExecuteTime": {
     "end_time": "2018-09-28T21:45:46.063942Z",
     "start_time": "2018-09-28T21:45:19.621344Z"
    }
   },
   "outputs": [],
   "source": [
    "!/Applications/bioinfo/bedtools2/bin/bedtools intersect \\\n",
    "-a /Users/sr320/Documents/GitHub/nb-2018/C_virginica/data/ref_C_virginica-3.0_Gnomon_mRNA.gff3 \\\n",
    "-b /Users/sr320/Desktop/Qiagen/Qiagen-combtab.bed \\\n",
    "-wa \\\n",
    "-wb \\\n",
    "> /Users/sr320/Desktop/Qiagen/mRNA-intersect-combined.tab"
   ]
  },
  {
   "cell_type": "code",
   "execution_count": 72,
   "metadata": {
    "ExecuteTime": {
     "end_time": "2018-09-28T21:46:55.342535Z",
     "start_time": "2018-09-28T21:46:55.212861Z"
    }
   },
   "outputs": [
    {
     "name": "stdout",
     "output_type": "stream",
     "text": [
      "NC_035780.1\tGnomon\tmRNA\t28961\t33324\t.\t+\t.\tID=rna1;Parent=gene1;Dbxref=GeneID:111126949,Genbank:XM_022471938.1;Name=XM_022471938.1;gbkey=mRNA;gene=LOC111126949;model_evidence=Supporting evidence includes similarity to: 3 Proteins%2C and 100%25 coverage of the annotated genomic feature by RNAseq alignments%2C including 21 samples with support for all annotated introns;product=UNC5C-like protein;transcript_id=XM_022471938.1\tNC_035780.1\t28993\t28994\t0\r\n",
      "NC_035780.1\tGnomon\tmRNA\t28961\t33324\t.\t+\t.\tID=rna1;Parent=gene1;Dbxref=GeneID:111126949,Genbank:XM_022471938.1;Name=XM_022471938.1;gbkey=mRNA;gene=LOC111126949;model_evidence=Supporting evidence includes similarity to: 3 Proteins%2C and 100%25 coverage of the annotated genomic feature by RNAseq alignments%2C including 21 samples with support for all annotated introns;product=UNC5C-like protein;transcript_id=XM_022471938.1\tNC_035780.1\t29002\t29003\t0\r\n",
      "NC_035780.1\tGnomon\tmRNA\t28961\t33324\t.\t+\t.\tID=rna1;Parent=gene1;Dbxref=GeneID:111126949,Genbank:XM_022471938.1;Name=XM_022471938.1;gbkey=mRNA;gene=LOC111126949;model_evidence=Supporting evidence includes similarity to: 3 Proteins%2C and 100%25 coverage of the annotated genomic feature by RNAseq alignments%2C including 21 samples with support for all annotated introns;product=UNC5C-like protein;transcript_id=XM_022471938.1\tNC_035780.1\t29180\t29181\t0\r\n",
      "NC_035780.1\tGnomon\tmRNA\t28961\t33324\t.\t+\t.\tID=rna1;Parent=gene1;Dbxref=GeneID:111126949,Genbank:XM_022471938.1;Name=XM_022471938.1;gbkey=mRNA;gene=LOC111126949;model_evidence=Supporting evidence includes similarity to: 3 Proteins%2C and 100%25 coverage of the annotated genomic feature by RNAseq alignments%2C including 21 samples with support for all annotated introns;product=UNC5C-like protein;transcript_id=XM_022471938.1\tNC_035780.1\t29412\t29413\t0\r\n",
      "NC_035780.1\tGnomon\tmRNA\t28961\t33324\t.\t+\t.\tID=rna1;Parent=gene1;Dbxref=GeneID:111126949,Genbank:XM_022471938.1;Name=XM_022471938.1;gbkey=mRNA;gene=LOC111126949;model_evidence=Supporting evidence includes similarity to: 3 Proteins%2C and 100%25 coverage of the annotated genomic feature by RNAseq alignments%2C including 21 samples with support for all annotated introns;product=UNC5C-like protein;transcript_id=XM_022471938.1\tNC_035780.1\t30540\t30541\t0\r\n",
      "NC_035780.1\tGnomon\tmRNA\t28961\t33324\t.\t+\t.\tID=rna1;Parent=gene1;Dbxref=GeneID:111126949,Genbank:XM_022471938.1;Name=XM_022471938.1;gbkey=mRNA;gene=LOC111126949;model_evidence=Supporting evidence includes similarity to: 3 Proteins%2C and 100%25 coverage of the annotated genomic feature by RNAseq alignments%2C including 21 samples with support for all annotated introns;product=UNC5C-like protein;transcript_id=XM_022471938.1\tNC_035780.1\t30575\t30576\t0\r\n",
      "NC_035780.1\tGnomon\tmRNA\t28961\t33324\t.\t+\t.\tID=rna1;Parent=gene1;Dbxref=GeneID:111126949,Genbank:XM_022471938.1;Name=XM_022471938.1;gbkey=mRNA;gene=LOC111126949;model_evidence=Supporting evidence includes similarity to: 3 Proteins%2C and 100%25 coverage of the annotated genomic feature by RNAseq alignments%2C including 21 samples with support for all annotated introns;product=UNC5C-like protein;transcript_id=XM_022471938.1\tNC_035780.1\t30603\t30604\t0\r\n",
      "NC_035780.1\tGnomon\tmRNA\t28961\t33324\t.\t+\t.\tID=rna1;Parent=gene1;Dbxref=GeneID:111126949,Genbank:XM_022471938.1;Name=XM_022471938.1;gbkey=mRNA;gene=LOC111126949;model_evidence=Supporting evidence includes similarity to: 3 Proteins%2C and 100%25 coverage of the annotated genomic feature by RNAseq alignments%2C including 21 samples with support for all annotated introns;product=UNC5C-like protein;transcript_id=XM_022471938.1\tNC_035780.1\t30723\t30724\t0\r\n",
      "NC_035780.1\tGnomon\tmRNA\t28961\t33324\t.\t+\t.\tID=rna1;Parent=gene1;Dbxref=GeneID:111126949,Genbank:XM_022471938.1;Name=XM_022471938.1;gbkey=mRNA;gene=LOC111126949;model_evidence=Supporting evidence includes similarity to: 3 Proteins%2C and 100%25 coverage of the annotated genomic feature by RNAseq alignments%2C including 21 samples with support for all annotated introns;product=UNC5C-like protein;transcript_id=XM_022471938.1\tNC_035780.1\t30765\t30766\t0\r\n",
      "NC_035780.1\tGnomon\tmRNA\t28961\t33324\t.\t+\t.\tID=rna1;Parent=gene1;Dbxref=GeneID:111126949,Genbank:XM_022471938.1;Name=XM_022471938.1;gbkey=mRNA;gene=LOC111126949;model_evidence=Supporting evidence includes similarity to: 3 Proteins%2C and 100%25 coverage of the annotated genomic feature by RNAseq alignments%2C including 21 samples with support for all annotated introns;product=UNC5C-like protein;transcript_id=XM_022471938.1\tNC_035780.1\t30766\t30767\t0\r\n"
     ]
    }
   ],
   "source": [
    "!head /Users/sr320/Desktop/Qiagen/mRNA-intersect-combined.tab"
   ]
  },
  {
   "cell_type": "code",
   "execution_count": 74,
   "metadata": {
    "ExecuteTime": {
     "end_time": "2018-09-28T22:11:28.852191Z",
     "start_time": "2018-09-28T21:47:58.664497Z"
    }
   },
   "outputs": [
    {
     "name": "stdout",
     "output_type": "stream",
     "text": [
      "  13 ID=rna10000;Parent=gene5866;Dbxref=GeneID:111121983,Genbank:XM_022463489.1;Name=XM_022463489.1;gbkey=mRNA;gene=LOC111121983;model_evidence=Supporting evidence includes similarity to: 3 Proteins%2C and 100%25 coverage of the annotated genomic feature by RNAseq alignments%2C including 3 samples with support for all annotated introns;product=sodium-coupled neutral amino acid transporter 9-like%2C transcript variant X4;transcript_id=XM_022463489.1\t0\n",
      "  40 ID=rna10000;Parent=gene5866;Dbxref=GeneID:111121983,Genbank:XM_022463489.1;Name=XM_022463489.1;gbkey=mRNA;gene=LOC111121983;model_evidence=Supporting evidence includes similarity to: 3 Proteins%2C and 100%25 coverage of the annotated genomic feature by RNAseq alignments%2C including 3 samples with support for all annotated introns;product=sodium-coupled neutral amino acid transporter 9-like%2C transcript variant X4;transcript_id=XM_022463489.1\t100\n",
      "   1 ID=rna10000;Parent=gene5866;Dbxref=GeneID:111121983,Genbank:XM_022463489.1;Name=XM_022463489.1;gbkey=mRNA;gene=LOC111121983;model_evidence=Supporting evidence includes similarity to: 3 Proteins%2C and 100%25 coverage of the annotated genomic feature by RNAseq alignments%2C including 3 samples with support for all annotated introns;product=sodium-coupled neutral amino acid transporter 9-like%2C transcript variant X4;transcript_id=XM_022463489.1\t20\n",
      "   4 ID=rna10000;Parent=gene5866;Dbxref=GeneID:111121983,Genbank:XM_022463489.1;Name=XM_022463489.1;gbkey=mRNA;gene=LOC111121983;model_evidence=Supporting evidence includes similarity to: 3 Proteins%2C and 100%25 coverage of the annotated genomic feature by RNAseq alignments%2C including 3 samples with support for all annotated introns;product=sodium-coupled neutral amino acid transporter 9-like%2C transcript variant X4;transcript_id=XM_022463489.1\t33.3333333333333\n",
      "   1 ID=rna10000;Parent=gene5866;Dbxref=GeneID:111121983,Genbank:XM_022463489.1;Name=XM_022463489.1;gbkey=mRNA;gene=LOC111121983;model_evidence=Supporting evidence includes similarity to: 3 Proteins%2C and 100%25 coverage of the annotated genomic feature by RNAseq alignments%2C including 3 samples with support for all annotated introns;product=sodium-coupled neutral amino acid transporter 9-like%2C transcript variant X4;transcript_id=XM_022463489.1\t37.5\n",
      "   1 ID=rna10000;Parent=gene5866;Dbxref=GeneID:111121983,Genbank:XM_022463489.1;Name=XM_022463489.1;gbkey=mRNA;gene=LOC111121983;model_evidence=Supporting evidence includes similarity to: 3 Proteins%2C and 100%25 coverage of the annotated genomic feature by RNAseq alignments%2C including 3 samples with support for all annotated introns;product=sodium-coupled neutral amino acid transporter 9-like%2C transcript variant X4;transcript_id=XM_022463489.1\t40\n",
      "   6 ID=rna10000;Parent=gene5866;Dbxref=GeneID:111121983,Genbank:XM_022463489.1;Name=XM_022463489.1;gbkey=mRNA;gene=LOC111121983;model_evidence=Supporting evidence includes similarity to: 3 Proteins%2C and 100%25 coverage of the annotated genomic feature by RNAseq alignments%2C including 3 samples with support for all annotated introns;product=sodium-coupled neutral amino acid transporter 9-like%2C transcript variant X4;transcript_id=XM_022463489.1\t50\n",
      "   1 ID=rna10000;Parent=gene5866;Dbxref=GeneID:111121983,Genbank:XM_022463489.1;Name=XM_022463489.1;gbkey=mRNA;gene=LOC111121983;model_evidence=Supporting evidence includes similarity to: 3 Proteins%2C and 100%25 coverage of the annotated genomic feature by RNAseq alignments%2C including 3 samples with support for all annotated introns;product=sodium-coupled neutral amino acid transporter 9-like%2C transcript variant X4;transcript_id=XM_022463489.1\t57.1428571428571\n",
      "   4 ID=rna10000;Parent=gene5866;Dbxref=GeneID:111121983,Genbank:XM_022463489.1;Name=XM_022463489.1;gbkey=mRNA;gene=LOC111121983;model_evidence=Supporting evidence includes similarity to: 3 Proteins%2C and 100%25 coverage of the annotated genomic feature by RNAseq alignments%2C including 3 samples with support for all annotated introns;product=sodium-coupled neutral amino acid transporter 9-like%2C transcript variant X4;transcript_id=XM_022463489.1\t66.6666666666667\n",
      "   3 ID=rna10000;Parent=gene5866;Dbxref=GeneID:111121983,Genbank:XM_022463489.1;Name=XM_022463489.1;gbkey=mRNA;gene=LOC111121983;model_evidence=Supporting evidence includes similarity to: 3 Proteins%2C and 100%25 coverage of the annotated genomic feature by RNAseq alignments%2C including 3 samples with support for all annotated introns;product=sodium-coupled neutral amino acid transporter 9-like%2C transcript variant X4;transcript_id=XM_022463489.1\t71.4285714285714\n",
      "^C\n"
     ]
    }
   ],
   "source": [
    "!cut -f9,13 /Users/sr320/Desktop/Qiagen/mRNA-intersect-combined.tab | sort | uniq -c | head "
   ]
  },
  {
   "cell_type": "code",
   "execution_count": null,
   "metadata": {},
   "outputs": [],
   "source": []
  }
 ],
 "metadata": {
  "kernelspec": {
   "display_name": "Python 3",
   "language": "python",
   "name": "python3"
  },
  "language_info": {
   "codemirror_mode": {
    "name": "ipython",
    "version": 3
   },
   "file_extension": ".py",
   "mimetype": "text/x-python",
   "name": "python",
   "nbconvert_exporter": "python",
   "pygments_lexer": "ipython3",
   "version": "3.6.3"
  }
 },
 "nbformat": 4,
 "nbformat_minor": 2
}
