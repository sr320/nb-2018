{
 "cells": [
  {
   "cell_type": "markdown",
   "metadata": {},
   "source": [
    "# Obtaining location of all CG in C.virg genome"
   ]
  },
  {
   "cell_type": "markdown",
   "metadata": {},
   "source": [
    "![galaxy](https://d.pr/i/kQZhb8+)"
   ]
  },
  {
   "cell_type": "code",
   "execution_count": 2,
   "metadata": {},
   "outputs": [
    {
     "name": "stdout",
     "output_type": "stream",
     "text": [
      " 14458703 analyses/Cvirg_v3_CG-motif.bed\n",
      "NC_007175.2\t16801\t16803\tmisc_feature\t0\t+\n",
      "NC_007175.2\t16924\t16926\tmisc_feature\t0\t+\n",
      "NC_007175.2\t16943\t16945\tmisc_feature\t0\t+\n",
      "NC_007175.2\t17006\t17008\tmisc_feature\t0\t+\n",
      "NC_007175.2\t17020\t17022\tmisc_feature\t0\t+\n",
      "NC_007175.2\t17045\t17047\tmisc_feature\t0\t+\n",
      "NC_007175.2\t17086\t17088\tmisc_feature\t0\t+\n",
      "NC_007175.2\t17120\t17122\tmisc_feature\t0\t+\n",
      "NC_007175.2\t17130\t17132\tmisc_feature\t0\t+\n",
      "NC_007175.2\t17164\t17166\tmisc_feature\t0\t+\n"
     ]
    }
   ],
   "source": [
    "!wc -l analyses/Cvirg_v3_CG-motif.bed\n",
    "!tail analyses/Cvirg_v3_CG-motif.bed"
   ]
  },
  {
   "cell_type": "code",
   "execution_count": null,
   "metadata": {},
   "outputs": [],
   "source": [
    "!sed 's/misc_feature/CG_motif/g' analyses/Cvirg_v3_CG-motif.bed \\\n",
    "| cut -f $1-4  > analyses/C_virginica-3.0_CG-motif.bed\n",
    "!head analyses/C_virginica-3.0_CG-motif.bed"
   ]
  }
 ],
 "metadata": {
  "kernelspec": {
   "display_name": "Python 3",
   "language": "python",
   "name": "python3"
  },
  "language_info": {
   "codemirror_mode": {
    "name": "ipython",
    "version": 3
   },
   "file_extension": ".py",
   "mimetype": "text/x-python",
   "name": "python",
   "nbconvert_exporter": "python",
   "pygments_lexer": "ipython3",
   "version": "3.6.3"
  }
 },
 "nbformat": 4,
 "nbformat_minor": 2
}
