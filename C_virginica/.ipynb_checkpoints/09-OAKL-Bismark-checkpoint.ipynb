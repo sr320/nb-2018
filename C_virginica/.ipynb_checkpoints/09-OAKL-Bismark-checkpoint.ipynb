{
 "cells": [
  {
   "cell_type": "code",
   "execution_count": null,
   "metadata": {
    "collapsed": true
   },
   "outputs": [],
   "source": [
    "%%bash\n",
    "/Applications/bioinfo/Bismark_v0.19.0/bismark \\\n",
    "--path_to_bowtie /Applications/bioinfo/bowtie2-2.3.4.1-macos-x86_64 \\\n",
    "--genome /Volumes/Serine/wd/18-03-15/genome \\\n",
    "--non_directional \\\n",
    "--score_min L,0,-0.6 \\\n",
    "-1 /Volumes/Serine/wd/18-03-16/10_32_S32_L001_R1_001.fastq.gz \\\n",
    "-2 /Volumes/Serine/wd/18-03-16/10_32_S32_L001_R2_001.fastq.gz \\"
   ]
  },
  {
   "cell_type": "code",
   "execution_count": 1,
   "metadata": {
    "collapsed": false
   },
   "outputs": [
    {
     "name": "stdout",
     "output_type": "stream",
     "text": [
      "zr2096_10\n",
      "zr2096_1\n",
      "zr2096_2\n",
      "zr2096_3\n",
      "zr2096_4\n",
      "zr2096_5\n",
      "zr2096_6\n",
      "zr2096_7\n",
      "zr2096_8\n",
      "zr2096_9\n"
     ]
    }
   ],
   "source": [
    "%%bash\n",
    "find /Volumes/Serine/wd/18-04-07/zr2096_*R1* \\\n",
    "| xargs basename -s _s1_R1.fastq.gz"
   ]
  },
  {
   "cell_type": "code",
   "execution_count": null,
   "metadata": {
    "collapsed": true
   },
   "outputs": [],
   "source": [
    "%%bash\n",
    "find /Volumes/Serine/wd/18-04-07/zr2096_*R1* \\\n",
    "| xargs basename -s _s1_R1.fastq.gz | xargs -I{} /Applications/bioinfo/Bismark_v0.19.0/bismark \\\n",
    "--path_to_bowtie /Applications/bioinfo/bowtie2-2.3.4.1-macos-x86_64 \\\n",
    "--genome /Volumes/Serine/wd/18-03-15/genome \\\n",
    "--non_directional \\\n",
    "--score_min L,0,-0.6 \\\n",
    "-1 /Volumes/Serine/wd/18-04-07/{}_s1_R1.fastq.gz \\\n",
    "-2 /Volumes/Serine/wd/18-04-07/{}_s1_R2.fastq.gz  \\"
   ]
  }
 ],
 "metadata": {
  "kernelspec": {
   "display_name": "Python 2",
   "language": "python",
   "name": "python2"
  },
  "language_info": {
   "codemirror_mode": {
    "name": "ipython",
    "version": 2
   },
   "file_extension": ".py",
   "mimetype": "text/x-python",
   "name": "python",
   "nbconvert_exporter": "python",
   "pygments_lexer": "ipython2",
   "version": "2.7.12"
  }
 },
 "nbformat": 4,
 "nbformat_minor": 0
}
