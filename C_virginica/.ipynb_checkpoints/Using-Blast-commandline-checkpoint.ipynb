{
 "cells": [
  {
   "cell_type": "markdown",
   "metadata": {},
   "source": [
    "# Using Blast at the commandline"
   ]
  },
  {
   "cell_type": "markdown",
   "metadata": {},
   "source": [
    "NCBI offers BLAST as a service online however there might be some instances when you need to blast thousands to 100 of thousands of sequences. In these cases it is often best to do this on your own computer. This tutorial will take you through the process. This is done using the Mac OS. "
   ]
  },
  {
   "cell_type": "markdown",
   "metadata": {
    "ExecuteTime": {
     "end_time": "2018-06-15T00:47:27.549862Z",
     "start_time": "2018-06-15T00:47:27.541108Z"
    }
   },
   "source": [
    "## Step 1: Download Blast "
   ]
  },
  {
   "cell_type": "markdown",
   "metadata": {},
   "source": [
    "The latest version of the Blast executable can be found at ftp://ftp.ncbi.nlm.nih.gov/blast/executables/blast+/LATEST/"
   ]
  },
  {
   "cell_type": "markdown",
   "metadata": {},
   "source": [
    "Once installed you should able to run a type of blast (blastp) and the -h arguement (help) to verify you have the program installed "
   ]
  },
  {
   "cell_type": "code",
   "execution_count": 5,
   "metadata": {
    "ExecuteTime": {
     "end_time": "2018-06-15T00:50:19.970764Z",
     "start_time": "2018-06-15T00:50:19.823722Z"
    }
   },
   "outputs": [
    {
     "name": "stdout",
     "output_type": "stream",
     "text": [
      "USAGE\r\n",
      "  blastp [-h] [-help] [-import_search_strategy filename]\r\n",
      "    [-export_search_strategy filename] [-task task_name] [-db database_name]\r\n",
      "    [-dbsize num_letters] [-gilist filename] [-seqidlist filename]\r\n",
      "    [-negative_gilist filename] [-negative_seqidlist filename]\r\n",
      "    [-entrez_query entrez_query] [-db_soft_mask filtering_algorithm]\r\n",
      "    [-db_hard_mask filtering_algorithm] [-subject subject_input_file]\r\n",
      "    [-subject_loc range] [-query input_file] [-out output_file]\r\n",
      "    [-evalue evalue] [-word_size int_value] [-gapopen open_penalty]\r\n",
      "    [-gapextend extend_penalty] [-qcov_hsp_perc float_value]\r\n",
      "    [-max_hsps int_value] [-xdrop_ungap float_value] [-xdrop_gap float_value]\r\n",
      "    [-xdrop_gap_final float_value] [-searchsp int_value]\r\n",
      "    [-sum_stats bool_value] [-seg SEG_options] [-soft_masking soft_masking]\r\n",
      "    [-matrix matrix_name] [-threshold float_value] [-culling_limit int_value]\r\n",
      "    [-best_hit_overhang float_value] [-best_hit_score_edge float_value]\r\n",
      "    [-window_size int_value] [-lcase_masking] [-query_loc range]\r\n",
      "    [-parse_deflines] [-outfmt format] [-show_gis]\r\n",
      "    [-num_descriptions int_value] [-num_alignments int_value]\r\n",
      "    [-line_length line_length] [-html] [-max_target_seqs num_sequences]\r\n",
      "    [-num_threads int_value] [-ungapped] [-remote] [-comp_based_stats compo]\r\n",
      "    [-use_sw_tback] [-version]\r\n",
      "\r\n",
      "DESCRIPTION\r\n",
      "   Protein-Protein BLAST 2.7.1+\r\n",
      "\r\n",
      "Use '-help' to print detailed descriptions of command line arguments\r\n"
     ]
    }
   ],
   "source": [
    "!/Applications/bioinfo/ncbi-blast-2.7.1+/bin/blastp -h"
   ]
  },
  {
   "cell_type": "markdown",
   "metadata": {},
   "source": [
    "## Step 2: Create a blast database"
   ]
  }
 ],
 "metadata": {
  "kernelspec": {
   "display_name": "Python 3",
   "language": "python",
   "name": "python3"
  },
  "language_info": {
   "codemirror_mode": {
    "name": "ipython",
    "version": 3
   },
   "file_extension": ".py",
   "mimetype": "text/x-python",
   "name": "python",
   "nbconvert_exporter": "python",
   "pygments_lexer": "ipython3",
   "version": "3.6.3"
  }
 },
 "nbformat": 4,
 "nbformat_minor": 2
}
