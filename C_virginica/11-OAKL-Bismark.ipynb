{
 "cells": [
  {
   "cell_type": "code",
   "execution_count": 1,
   "metadata": {
    "collapsed": false
   },
   "outputs": [
    {
     "name": "stdout",
     "output_type": "stream",
     "text": [
      "/Volumes/Serine/wd/18-04-11\n"
     ]
    }
   ],
   "source": [
    "cd /Volumes/Serine/wd/18-04-11"
   ]
  },
  {
   "cell_type": "code",
   "execution_count": null,
   "metadata": {
    "collapsed": false
   },
   "outputs": [],
   "source": [
    "%%bash\n",
    "find /Volumes/Serine/wd/18-04-10/trim14/zr2096_*R1* \\\n",
    "| xargs basename -s _s1_R1_val_1.fq.gz | xargs -I{} /Applications/bioinfo/Bismark_v0.19.0/bismark \\\n",
    "--path_to_bowtie /Applications/bioinfo/bowtie2-2.3.4.1-macos-x86_64 \\\n",
    "--genome /Volumes/Serine/wd/18-03-15/genome \\\n",
    "--score_min L,0,-1.2 \\\n",
    "-p 4 \\\n",
    "--non_directional \\\n",
    "-1 /Volumes/Serine/wd/18-04-10/trim14/{}_s1_R1_val_1.fq.gz \\\n",
    "-2 /Volumes/Serine/wd/18-04-10/trim14/{}_s1_R2_val_2.fq.gz \\"
   ]
  },
  {
   "cell_type": "code",
   "execution_count": null,
   "metadata": {
    "collapsed": true
   },
   "outputs": [],
   "source": []
  }
 ],
 "metadata": {
  "kernelspec": {
   "display_name": "Python 2",
   "language": "python",
   "name": "python2"
  },
  "language_info": {
   "codemirror_mode": {
    "name": "ipython",
    "version": 2
   },
   "file_extension": ".py",
   "mimetype": "text/x-python",
   "name": "python",
   "nbconvert_exporter": "python",
   "pygments_lexer": "ipython2",
   "version": "2.7.12"
  }
 },
 "nbformat": 4,
 "nbformat_minor": 0
}
