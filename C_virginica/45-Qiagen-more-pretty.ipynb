{
 "cells": [
  {
   "cell_type": "code",
   "execution_count": 2,
   "metadata": {
    "collapsed": false
   },
   "outputs": [
    {
     "name": "stdout",
     "output_type": "stream",
     "text": [
      "/Volumes/Serine/wd/18-03-14/10_32_S32_L001_R1_001.fastq.gz\r\n",
      "/Volumes/Serine/wd/18-03-14/10_32_S32_L001_R2_001.fastq.gz\r\n",
      "/Volumes/Serine/wd/18-03-14/11_37_S37_L001_R1_001.fastq.gz\r\n",
      "/Volumes/Serine/wd/18-03-14/11_37_S37_L001_R2_001.fastq.gz\r\n",
      "/Volumes/Serine/wd/18-03-14/12_38_S38_L001_R1_001.fastq.gz\r\n",
      "/Volumes/Serine/wd/18-03-14/12_38_S38_L001_R2_001.fastq.gz\r\n",
      "/Volumes/Serine/wd/18-03-14/13_33_S33_L001_R1_001.fastq.gz\r\n",
      "/Volumes/Serine/wd/18-03-14/13_33_S33_L001_R2_001.fastq.gz\r\n",
      "/Volumes/Serine/wd/18-03-14/14_34_S34_L001_R1_001.fastq.gz\r\n",
      "/Volumes/Serine/wd/18-03-14/14_34_S34_L001_R2_001.fastq.gz\r\n",
      "/Volumes/Serine/wd/18-03-14/15_39_S39_L001_R1_001.fastq.gz\r\n",
      "/Volumes/Serine/wd/18-03-14/15_39_S39_L001_R2_001.fastq.gz\r\n",
      "/Volumes/Serine/wd/18-03-14/16_40_S40_L001_R1_001.fastq.gz\r\n",
      "/Volumes/Serine/wd/18-03-14/16_40_S40_L001_R2_001.fastq.gz\r\n",
      "/Volumes/Serine/wd/18-03-14/17_9_S9_L001_R1_001.fastq.gz\r\n",
      "/Volumes/Serine/wd/18-03-14/17_9_S9_L001_R2_001.fastq.gz\r\n",
      "/Volumes/Serine/wd/18-03-14/18_10_S10_L001_R1_001.fastq.gz\r\n",
      "/Volumes/Serine/wd/18-03-14/18_10_S10_L001_R2_001.fastq.gz\r\n",
      "/Volumes/Serine/wd/18-03-14/19_7_S7_L001_R1_001.fastq.gz\r\n",
      "/Volumes/Serine/wd/18-03-14/19_7_S7_L001_R2_001.fastq.gz\r\n",
      "/Volumes/Serine/wd/18-03-14/1_25_S25_L001_R1_001.fastq.gz\r\n",
      "/Volumes/Serine/wd/18-03-14/1_25_S25_L001_R2_001.fastq.gz\r\n",
      "/Volumes/Serine/wd/18-03-14/20_8_S8_L001_R1_001.fastq.gz\r\n",
      "/Volumes/Serine/wd/18-03-14/20_8_S8_L001_R2_001.fastq.gz\r\n",
      "/Volumes/Serine/wd/18-03-14/2_26_S26_L001_R1_001.fastq.gz\r\n",
      "/Volumes/Serine/wd/18-03-14/2_26_S26_L001_R2_001.fastq.gz\r\n",
      "/Volumes/Serine/wd/18-03-14/3_27_S27_L001_R1_001.fastq.gz\r\n",
      "/Volumes/Serine/wd/18-03-14/3_27_S27_L001_R2_001.fastq.gz\r\n",
      "/Volumes/Serine/wd/18-03-14/4_28_S28_L001_R1_001.fastq.gz\r\n",
      "/Volumes/Serine/wd/18-03-14/4_28_S28_L001_R2_001.fastq.gz\r\n",
      "/Volumes/Serine/wd/18-03-14/5_35_S35_L001_R1_001.fastq.gz\r\n",
      "/Volumes/Serine/wd/18-03-14/5_35_S35_L001_R2_001.fastq.gz\r\n",
      "/Volumes/Serine/wd/18-03-14/6_36_S36_L001_R1_001.fastq.gz\r\n",
      "/Volumes/Serine/wd/18-03-14/6_36_S36_L001_R2_001.fastq.gz\r\n",
      "/Volumes/Serine/wd/18-03-14/7_29_S29_L001_R1_001.fastq.gz\r\n",
      "/Volumes/Serine/wd/18-03-14/7_29_S29_L001_R2_001.fastq.gz\r\n",
      "/Volumes/Serine/wd/18-03-14/8_30_S30_L001_R1_001.fastq.gz\r\n",
      "/Volumes/Serine/wd/18-03-14/8_30_S30_L001_R2_001.fastq.gz\r\n",
      "/Volumes/Serine/wd/18-03-14/9_31_S31_L001_R1_001.fastq.gz\r\n",
      "/Volumes/Serine/wd/18-03-14/9_31_S31_L001_R2_001.fastq.gz\r\n"
     ]
    }
   ],
   "source": [
    "ls /Volumes/Serine/wd/18-03-14/*fastq.gz"
   ]
  },
  {
   "cell_type": "code",
   "execution_count": 3,
   "metadata": {
    "collapsed": true
   },
   "outputs": [],
   "source": [
    "cp /Volumes/Serine/wd/18-03-14/*fastq.gz /Volumes/Serine/wd/18-09-15/"
   ]
  },
  {
   "cell_type": "code",
   "execution_count": 12,
   "metadata": {
    "collapsed": true
   },
   "outputs": [],
   "source": [
    "cp /Volumes/Serine/wd/18-03-14/20_8_S8_L001_R1_001.fastq.gz ."
   ]
  },
  {
   "cell_type": "code",
   "execution_count": 13,
   "metadata": {
    "collapsed": true
   },
   "outputs": [],
   "source": [
    "cp /Volumes/Serine/wd/18-03-14/20_8_S8_L001_R2_001.fastq.gz ."
   ]
  },
  {
   "cell_type": "code",
   "execution_count": 6,
   "metadata": {
    "collapsed": true
   },
   "outputs": [
    {
     "name": "stdout",
     "output_type": "stream",
     "text": [
      "total 1957488\r\n",
      "-rw-r--r--  1 sr320  staff    29M Sep 14 12:55 10_32_S32_L001_R1_001.fastq.gz\r\n",
      "-rw-r--r--  1 sr320  staff    28M Sep 14 12:55 10_32_S32_L001_R2_001.fastq.gz\r\n",
      "-rw-r--r--  1 sr320  staff    35M Sep 14 12:55 11_37_S37_L001_R1_001.fastq.gz\r\n",
      "-rw-r--r--  1 sr320  staff    35M Sep 14 12:55 11_37_S37_L001_R2_001.fastq.gz\r\n",
      "-rw-r--r--  1 sr320  staff    43M Sep 14 12:55 12_38_S38_L001_R1_001.fastq.gz\r\n",
      "-rw-r--r--  1 sr320  staff    43M Sep 14 12:55 12_38_S38_L001_R2_001.fastq.gz\r\n",
      "-rw-r--r--  1 sr320  staff    32M Sep 14 12:55 13_33_S33_L001_R1_001.fastq.gz\r\n",
      "-rw-r--r--  1 sr320  staff    32M Sep 14 12:55 13_33_S33_L001_R2_001.fastq.gz\r\n",
      "-rw-r--r--  1 sr320  staff    34M Sep 14 12:55 14_34_S34_L001_R1_001.fastq.gz\r\n",
      "-rw-r--r--  1 sr320  staff    35M Sep 14 12:55 14_34_S34_L001_R2_001.fastq.gz\r\n",
      "-rw-r--r--  1 sr320  staff    33M Sep 14 12:55 15_39_S39_L001_R1_001.fastq.gz\r\n",
      "-rw-r--r--  1 sr320  staff    34M Sep 14 12:55 15_39_S39_L001_R2_001.fastq.gz\r\n",
      "-rw-r--r--  1 sr320  staff    38M Sep 14 12:55 16_40_S40_L001_R1_001.fastq.gz\r\n",
      "-rw-r--r--  1 sr320  staff    39M Sep 14 12:55 16_40_S40_L001_R2_001.fastq.gz\r\n",
      "-rw-r--r--  1 sr320  staff    20M Sep 14 12:55 17_9_S9_L001_R1_001.fastq.gz\r\n",
      "-rw-r--r--  1 sr320  staff    21M Sep 14 12:55 17_9_S9_L001_R2_001.fastq.gz\r\n",
      "-rw-r--r--  1 sr320  staff    26M Sep 14 12:55 18_10_S10_L001_R1_001.fastq.gz\r\n",
      "-rw-r--r--  1 sr320  staff    27M Sep 14 12:55 18_10_S10_L001_R2_001.fastq.gz\r\n",
      "-rw-r--r--  1 sr320  staff    18M Sep 14 12:55 19_7_S7_L001_R1_001.fastq.gz\r\n",
      "-rw-r--r--  1 sr320  staff    18M Sep 14 12:55 19_7_S7_L001_R2_001.fastq.gz\r\n",
      "-rw-r--r--  1 sr320  staff    25M Sep 14 12:55 1_25_S25_L001_R1_001.fastq.gz\r\n",
      "-rw-r--r--  1 sr320  staff    24M Sep 14 12:55 1_25_S25_L001_R2_001.fastq.gz\r\n",
      "-rw-r--r--  1 sr320  staff    16M Sep 14 12:55 20_8_S8_L001_R1_001.fastq.gz\r\n",
      "-rw-r--r--  1 sr320  staff    15M Sep 14 12:55 20_8_S8_L001_R2_001.fastq.gz\r\n",
      "-rw-r--r--  1 sr320  staff   8.7M Sep 14 12:55 2_26_S26_L001_R1_001.fastq.gz\r\n",
      "-rw-r--r--  1 sr320  staff   8.6M Sep 14 12:55 2_26_S26_L001_R2_001.fastq.gz\r\n",
      "-rw-r--r--  1 sr320  staff    12M Sep 14 12:55 3_27_S27_L001_R1_001.fastq.gz\r\n",
      "-rw-r--r--  1 sr320  staff    12M Sep 14 12:55 3_27_S27_L001_R2_001.fastq.gz\r\n",
      "-rw-r--r--  1 sr320  staff    14M Sep 14 12:55 4_28_S28_L001_R1_001.fastq.gz\r\n",
      "-rw-r--r--  1 sr320  staff    14M Sep 14 12:55 4_28_S28_L001_R2_001.fastq.gz\r\n",
      "-rw-r--r--  1 sr320  staff   1.1M Sep 14 12:55 5_35_S35_L001_R1_001.fastq.gz\r\n",
      "-rw-r--r--  1 sr320  staff   1.2M Sep 14 12:55 5_35_S35_L001_R2_001.fastq.gz\r\n",
      "-rw-r--r--  1 sr320  staff   1.6M Sep 14 12:55 6_36_S36_L001_R1_001.fastq.gz\r\n",
      "-rw-r--r--  1 sr320  staff   1.7M Sep 14 12:55 6_36_S36_L001_R2_001.fastq.gz\r\n",
      "-rw-r--r--  1 sr320  staff    30M Sep 14 12:55 7_29_S29_L001_R1_001.fastq.gz\r\n",
      "-rw-r--r--  1 sr320  staff    29M Sep 14 12:55 7_29_S29_L001_R2_001.fastq.gz\r\n",
      "-rw-r--r--@ 1 sr320  staff    32M Sep 14 12:55 8_30_S30_L001_R1_001.fastq.gz\r\n",
      "-rw-r--r--  1 sr320  staff    31M Sep 14 12:55 8_30_S30_L001_R2_001.fastq.gz\r\n",
      "-rw-r--r--  1 sr320  staff    30M Sep 14 12:55 9_31_S31_L001_R1_001.fastq.gz\r\n",
      "-rw-r--r--  1 sr320  staff    29M Sep 14 12:55 9_31_S31_L001_R2_001.fastq.gz\r\n"
     ]
    }
   ],
   "source": [
    "ls -lh /Volumes/Serine/wd/18-09-15/"
   ]
  },
  {
   "cell_type": "code",
   "execution_count": 7,
   "metadata": {
    "collapsed": false
   },
   "outputs": [
    {
     "name": "stdout",
     "output_type": "stream",
     "text": [
      "/Volumes/Serine/wd/18-09-15\n"
     ]
    }
   ],
   "source": [
    "cd /Volumes/Serine/wd/18-09-15/"
   ]
  },
  {
   "cell_type": "code",
   "execution_count": 11,
   "metadata": {
    "collapsed": false
   },
   "outputs": [
    {
     "name": "stdout",
     "output_type": "stream",
     "text": [
      "10_32_S32_L001_R1_001.fastq.gz  17_9_S9_L001_R1_001.fastq.gz\r\n",
      "10_32_S32_L001_R2_001.fastq.gz  17_9_S9_L001_R2_001.fastq.gz\r\n",
      "11_37_S37_L001_R1_001.fastq.gz  18_10_S10_L001_R1_001.fastq.gz\r\n",
      "11_37_S37_L001_R2_001.fastq.gz  18_10_S10_L001_R2_001.fastq.gz\r\n",
      "12_38_S38_L001_R1_001.fastq.gz  19_7_S7_L001_R1_001.fastq.gz\r\n",
      "12_38_S38_L001_R2_001.fastq.gz  19_7_S7_L001_R2_001.fastq.gz\r\n",
      "13_33_S33_L001_R1_001.fastq.gz  1_25_S25_L001_R1_001.fastq.gz\r\n",
      "13_33_S33_L001_R2_001.fastq.gz  1_25_S25_L001_R2_001.fastq.gz\r\n",
      "14_34_S34_L001_R1_001.fastq.gz  7_29_S29_L001_R1_001.fastq.gz\r\n",
      "14_34_S34_L001_R2_001.fastq.gz  7_29_S29_L001_R2_001.fastq.gz\r\n",
      "15_39_S39_L001_R1_001.fastq.gz  8_30_S30_L001_R1_001.fastq.gz\r\n",
      "15_39_S39_L001_R2_001.fastq.gz  8_30_S30_L001_R2_001.fastq.gz\r\n",
      "16_40_S40_L001_R1_001.fastq.gz  9_31_S31_L001_R1_001.fastq.gz\r\n",
      "16_40_S40_L001_R2_001.fastq.gz  9_31_S31_L001_R2_001.fastq.gz\r\n"
     ]
    }
   ],
   "source": [
    "ls"
   ]
  },
  {
   "cell_type": "code",
   "execution_count": 14,
   "metadata": {
    "collapsed": false
   },
   "outputs": [
    {
     "data": {
      "text/plain": [
       "u'/Volumes/Serine/wd/18-09-15'"
      ]
     },
     "execution_count": 14,
     "metadata": {},
     "output_type": "execute_result"
    }
   ],
   "source": [
    "pwd"
   ]
  },
  {
   "cell_type": "code",
   "execution_count": null,
   "metadata": {
    "collapsed": true
   },
   "outputs": [],
   "source": [
    "%%bash\n",
    "find /Volumes/Serine/wd/18-09-15/*_R1_001.fastq.gz \\\n",
    "| xargs basename -s _L001_R1_001.fastq.gz | xargs -I{} /Applications/bioinfo/Bismark_v0.19.0/bismark \\\n",
    "--path_to_bowtie /Applications/bioinfo/bowtie2-2.3.4.1-macos-x86_64 \\\n",
    "--genome /Volumes/Serine/wd/18-03-15/genome \\\n",
    "-u 100000 \\\n",
    "--score_min L,0,-1.2 \\\n",
    "-p 4 \\\n",
    "--non_directional \\\n",
    "-1 /Volumes/Serine/wd/18-09-15/{}_L001_R1_001.fastq.gz \\\n",
    "-2 /Volumes/Serine/wd/18-09-15/{}_L001_R2_001.fastq.gz \\\n",
    "2> bismark.err"
   ]
  },
  {
   "cell_type": "code",
   "execution_count": null,
   "metadata": {
    "collapsed": true
   },
   "outputs": [],
   "source": []
  }
 ],
 "metadata": {
  "kernelspec": {
   "display_name": "Python 2",
   "language": "python",
   "name": "python2"
  },
  "language_info": {
   "codemirror_mode": {
    "name": "ipython",
    "version": 2
   },
   "file_extension": ".py",
   "mimetype": "text/x-python",
   "name": "python",
   "nbconvert_exporter": "python",
   "pygments_lexer": "ipython2",
   "version": "2.7.12"
  }
 },
 "nbformat": 4,
 "nbformat_minor": 0
}
