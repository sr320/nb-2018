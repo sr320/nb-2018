{
 "cells": [
  {
   "cell_type": "code",
   "execution_count": null,
   "metadata": {
    "collapsed": true
   },
   "outputs": [],
   "source": [
    "!find /Volumes/Serine/wd/18-03-14/*_R1_001.fastq.gz \\\n",
    "| xargs basename -s _R1_001.fastq.gz | xargs -I{} /Applications/bioinfo/BSMAP/bsmap-2.74/bsmap \\\n",
    "-a /Volumes/Serine/wd/18-03-14/{}_R1_001.fastq.gz \\\n",
    "-b /Volumes/Serine/wd/18-03-14/{}_R2_001.fastq.gz \\\n",
    "-d /Volumes/Serine/wd/18-03-14/GCF_002022765.2_C_virginica-3.0_genomic.fna \\\n",
    "-o /Volumes/Serine/wd/18-03-14/{}-bsmap_out_Cv3.sam \\\n",
    "-p 6 \\\n",
    "2> /Volumes/Serine/wd/18-03-14/stderr.out"
   ]
  },
  {
   "cell_type": "code",
   "execution_count": null,
   "metadata": {
    "collapsed": true
   },
   "outputs": [],
   "source": [
    "/Volumes/Serine/wd/18-04-07/zr2096_10_s1_R1.fastq.gz"
   ]
  },
  {
   "cell_type": "code",
   "execution_count": 1,
   "metadata": {
    "collapsed": true
   },
   "outputs": [],
   "source": [
    "!/Applications/bioinfo/BSMAP/bsmap-2.74/bsmap \\\n",
    "-a /Volumes/Serine/wd/18-04-07/zr2096_5_s1_R1.fastq.gz \\\n",
    "-b /Volumes/Serine/wd/18-04-07/zr2096_5_s1_R2.fastq.gz \\\n",
    "-d /Volumes/Serine/wd/18-03-14/GCF_002022765.2_C_virginica-3.0_genomic.fna \\\n",
    "-o /Volumes/Serine/wd/18-04-10/bs01/zr2096_5-bsmap_out_Cv3.sam \\\n",
    "-p 2 \\\n",
    "2> /Volumes/Serine/wd/18-04-10/bs01/err.out"
   ]
  },
  {
   "cell_type": "code",
   "execution_count": 2,
   "metadata": {
    "collapsed": false
   },
   "outputs": [
    {
     "name": "stdout",
     "output_type": "stream",
     "text": [
      "Thread #1: \t31700000 read pairs finished. 8546 secs passed\r\n",
      "Thread #0: \t31750000 read pairs finished. 8569 secs passed\r\n",
      "Thread #1: \t31778715 read pairs finished. 8569 secs passed\r\n",
      "Total number of aligned reads: \r\n",
      "pairs:       4827551 (15%)\r\n",
      "single a:    1152870 (3.6%)\r\n",
      "single b:    2537561 (8%)\r\n",
      "Done.\r\n",
      "Finished at Tue Apr 10 10:39:39 2018\r\n",
      "Total time consumed:  8569 secs\r\n"
     ]
    }
   ],
   "source": [
    "!tail /Volumes/Serine/wd/18-04-10/bs01/err.out"
   ]
  },
  {
   "cell_type": "markdown",
   "metadata": {},
   "source": [
    "# lets get a subset of reads to test setttings...."
   ]
  },
  {
   "cell_type": "code",
   "execution_count": 4,
   "metadata": {
    "collapsed": false
   },
   "outputs": [
    {
     "name": "stdout",
     "output_type": "stream",
     "text": [
      "/bin/sh: seqtk: command not found\r\n"
     ]
    }
   ],
   "source": [
    "!/Applications/bioinfo/seqtk/seqtk \\\n",
    "sample -s100 /Volumes/Serine/wd/18-04-10/zr2096_5_s1_R1.fastq 10000 > \\\n",
    "/Volumes/Serine/wd/18-04-10/sub-zr2096_5_s1_R1.fastq\n"
   ]
  },
  {
   "cell_type": "code",
   "execution_count": 5,
   "metadata": {
    "collapsed": true
   },
   "outputs": [],
   "source": [
    "!head /Volumes/Serine/wd/18-04-10/sub-zr2096_5_s1_R1.fastq"
   ]
  },
  {
   "cell_type": "code",
   "execution_count": null,
   "metadata": {
    "collapsed": true
   },
   "outputs": [],
   "source": [
    "!/Applications/bioinfo/seqtk/seqtk \\\n",
    "sample -s100 /Volumes/Serine/wd/18-04-10/zr2096_5_s1_R2.fastq 10000 > \\\n",
    "/Volumes/Serine/wd/18-04-10/sub-zr2096_5_s1_R2.fastq"
   ]
  },
  {
   "cell_type": "code",
   "execution_count": null,
   "metadata": {
    "collapsed": true
   },
   "outputs": [],
   "source": []
  }
 ],
 "metadata": {
  "kernelspec": {
   "display_name": "Python 2",
   "language": "python",
   "name": "python2"
  },
  "language_info": {
   "codemirror_mode": {
    "name": "ipython",
    "version": 2
   },
   "file_extension": ".py",
   "mimetype": "text/x-python",
   "name": "python",
   "nbconvert_exporter": "python",
   "pygments_lexer": "ipython2",
   "version": "2.7.12"
  }
 },
 "nbformat": 4,
 "nbformat_minor": 0
}
