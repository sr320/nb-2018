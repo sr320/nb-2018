{
 "cells": [
  {
   "cell_type": "code",
   "execution_count": null,
   "metadata": {
    "collapsed": true
   },
   "outputs": [],
   "source": [
    "!find /Volumes/Serine/wd/18-03-14/*_R1_001.fastq.gz \\\n",
    "| xargs basename -s _R1_001.fastq.gz | xargs -I{} /Applications/bioinfo/BSMAP/bsmap-2.74/bsmap \\\n",
    "-a /Volumes/Serine/wd/18-03-14/{}_R1_001.fastq.gz \\\n",
    "-b /Volumes/Serine/wd/18-03-14/{}_R2_001.fastq.gz \\\n",
    "-d /Volumes/Serine/wd/18-03-14/GCF_002022765.2_C_virginica-3.0_genomic.fna \\\n",
    "-o /Volumes/Serine/wd/18-03-14/{}-bsmap_out_Cv3.sam \\\n",
    "-p 6 \\\n",
    "2> /Volumes/Serine/wd/18-03-14/stderr.out"
   ]
  },
  {
   "cell_type": "code",
   "execution_count": null,
   "metadata": {
    "collapsed": true
   },
   "outputs": [],
   "source": [
    "/Volumes/Serine/wd/18-04-07/zr2096_10_s1_R1.fastq.gz"
   ]
  },
  {
   "cell_type": "code",
   "execution_count": 1,
   "metadata": {
    "collapsed": true
   },
   "outputs": [],
   "source": [
    "!/Applications/bioinfo/BSMAP/bsmap-2.74/bsmap \\\n",
    "-a /Volumes/Serine/wd/18-04-07/zr2096_5_s1_R1.fastq.gz \\\n",
    "-b /Volumes/Serine/wd/18-04-07/zr2096_5_s1_R2.fastq.gz \\\n",
    "-d /Volumes/Serine/wd/18-03-14/GCF_002022765.2_C_virginica-3.0_genomic.fna \\\n",
    "-o /Volumes/Serine/wd/18-04-10/bs01/zr2096_5-bsmap_out_Cv3.sam \\\n",
    "-p 2 \\\n",
    "2> /Volumes/Serine/wd/18-04-10/bs01/err.out"
   ]
  },
  {
   "cell_type": "code",
   "execution_count": 2,
   "metadata": {
    "collapsed": false
   },
   "outputs": [
    {
     "name": "stdout",
     "output_type": "stream",
     "text": [
      "Thread #1: \t31700000 read pairs finished. 8546 secs passed\r\n",
      "Thread #0: \t31750000 read pairs finished. 8569 secs passed\r\n",
      "Thread #1: \t31778715 read pairs finished. 8569 secs passed\r\n",
      "Total number of aligned reads: \r\n",
      "pairs:       4827551 (15%)\r\n",
      "single a:    1152870 (3.6%)\r\n",
      "single b:    2537561 (8%)\r\n",
      "Done.\r\n",
      "Finished at Tue Apr 10 10:39:39 2018\r\n",
      "Total time consumed:  8569 secs\r\n"
     ]
    }
   ],
   "source": [
    "!tail /Volumes/Serine/wd/18-04-10/bs01/err.out"
   ]
  },
  {
   "cell_type": "markdown",
   "metadata": {},
   "source": [
    "# lets get a subset of reads to test setttings...."
   ]
  },
  {
   "cell_type": "code",
   "execution_count": 8,
   "metadata": {
    "collapsed": false
   },
   "outputs": [],
   "source": [
    "!/Applications/bioinfo/seqtk/seqtk \\\n",
    "sample -s100 /Volumes/Serine/wd/18-04-10/zr2096_5_s1_R1.fastq 10000 > \\\n",
    "/Volumes/Serine/wd/18-04-10/sub-zr2096_5_s1_R1.fastq\n"
   ]
  },
  {
   "cell_type": "code",
   "execution_count": 9,
   "metadata": {
    "collapsed": false
   },
   "outputs": [
    {
     "name": "stdout",
     "output_type": "stream",
     "text": [
      "@HWI-C00124:321:CC781ANXX:1:2316:14348:89361 1:N:0:CAGATC\r\n",
      "AACCTTAACCTTTCCCCCCTATAAATAAAAAACAAAAACTATAAATCTACCTAAATCCAACACATAACTACATTATTTATAAAATG\r\n",
      "+\r\n",
      "BBBBBFFFFFFFFFFFFFFFFFFFFFFFFFFFFFFFFFFFFFFFFFFFFFFFFFFFFFFFFFFFFFFFFFFFFFFFFFFFFFFFFF\r\n",
      "@HWI-C00124:321:CC781ANXX:1:1303:20584:91043 1:N:0:CAGATC\r\n",
      "ACACCAAAATATACAAAACAAACTCCCAAATCATATACATACCATATAAAAATATAAATCATCAATTTAAAATAAACAAAACTTAATCTATAATCAATTA\r\n",
      "+\r\n",
      "BBBBBFFFFFFFFFFFFFFFFFFFFFFFFFFFFFFFFFFFFFFFFFFFFFFFFFFFFFFFFFFFFFFFFFFFFFFFFFFFFFFFFFFFFFFFFFFFFFFF\r\n",
      "@HWI-C00124:321:CC781ANXX:1:2309:7582:9952 1:N:0:CAGATC\r\n",
      "TCGTAAATTTATTTAATAGGAAAATTCGGAGTGTACGTTTGGAGAAATTAGTCGTATTGTCGGTGGTAAGGT\r\n"
     ]
    }
   ],
   "source": [
    "!head /Volumes/Serine/wd/18-04-10/sub-zr2096_5_s1_R1.fastq"
   ]
  },
  {
   "cell_type": "code",
   "execution_count": 6,
   "metadata": {
    "collapsed": true
   },
   "outputs": [],
   "source": [
    "!/Applications/bioinfo/seqtk/seqtk \\\n",
    "sample -s100 /Volumes/Serine/wd/18-04-10/zr2096_5_s1_R2.fastq 10000 > \\\n",
    "/Volumes/Serine/wd/18-04-10/sub-zr2096_5_s1_R2.fastq"
   ]
  },
  {
   "cell_type": "code",
   "execution_count": 7,
   "metadata": {
    "collapsed": false
   },
   "outputs": [
    {
     "name": "stdout",
     "output_type": "stream",
     "text": [
      "@HWI-C00124:321:CC781ANXX:1:2316:14348:89361 2:N:0:CAGATC\r\n",
      "CATTTTATAAATAATGTAGTTATGTGTTGGATTTAGGTAGATTTATAGTTTTTGTTTTTTATTTATAGGGGGGAAAGGTTAAGGTT\r\n",
      "+\r\n",
      "BBBBBFFFFFFFFFFFFFFFFFFFFFFFFFFFFFFFFFFFFFFFFFFFFFFFFFFFFFFFFFFFFFFFFFFF<BBFFB<<FFFFBF\r\n",
      "@HWI-C00124:321:CC781ANXX:1:1303:20584:91043 2:N:0:CAGATC\r\n",
      "ATATAAAAATAATTTATAGGTATTTGTTAATTATTTTTATATGGTATGGATTGGTTTTAATTGATTATAGATTAAGTTTTGTTTATTTTAAATTGATGAT\r\n",
      "+\r\n",
      "BBBBBFFFFFFFFFFFFFFFFFFFFFFFFFFFFFFFFFFFFFFFFFFFFFFFFFFFFFFFFFFFFFFFFFF<FFFFFFFFFFFFFFFFFFFFFFFFFFFF\r\n",
      "@HWI-C00124:321:CC781ANXX:1:2309:7582:9952 2:N:0:CAGATC\r\n",
      "ACCTTACCACCGACAATACGACTAATTTCTCCAAACGTACACTCCGAATTTTCCTATTAAATAAATTTACGA\r\n"
     ]
    }
   ],
   "source": [
    "!head /Volumes/Serine/wd/18-04-10/sub-zr2096_5_s1_R2.fastq\n"
   ]
  },
  {
   "cell_type": "code",
   "execution_count": 10,
   "metadata": {
    "collapsed": true
   },
   "outputs": [],
   "source": [
    "!/Applications/bioinfo/BSMAP/bsmap-2.74/bsmap \\\n",
    "-a /Volumes/Serine/wd/18-04-10/sub-zr2096_5_s1_R1.fastq \\\n",
    "-b /Volumes/Serine/wd/18-04-10/sub-zr2096_5_s1_R2.fastq \\\n",
    "-d /Volumes/Serine/wd/18-03-14/GCF_002022765.2_C_virginica-3.0_genomic.fna \\\n",
    "-o /Volumes/Serine/wd/18-04-10/bs01/sub-zr2096_5-bsmap_out_Cv3.sam \\\n",
    "-p 2 \\\n",
    "2> /Volumes/Serine/wd/18-04-10/bs01/sub-err.out"
   ]
  },
  {
   "cell_type": "code",
   "execution_count": 11,
   "metadata": {
    "collapsed": false
   },
   "outputs": [
    {
     "name": "stdout",
     "output_type": "stream",
     "text": [
      "Input read file #2: /Volumes/Serine/wd/18-04-10/sub-zr2096_5_s1_R2.fastq \t(format: FASTQ)\r\n",
      "Output file: /Volumes/Serine/wd/18-04-10/bs01/sub-zr2096_5-bsmap_out_Cv3.sam\t (format: SAM)\r\n",
      "Thread #1: \t10000 read pairs finished. 85 secs passed\r\n",
      "Total number of aligned reads: \r\n",
      "pairs:       1487 (15%)\r\n",
      "single a:    368 (3.7%)\r\n",
      "single b:    822 (8.2%)\r\n",
      "Done.\r\n",
      "Finished at Tue Apr 10 11:06:46 2018\r\n",
      "Total time consumed:  85 secs\r\n"
     ]
    }
   ],
   "source": [
    "!tail /Volumes/Serine/wd/18-04-10/bs01/sub-err.out"
   ]
  },
  {
   "cell_type": "code",
   "execution_count": null,
   "metadata": {
    "collapsed": true
   },
   "outputs": [],
   "source": []
  }
 ],
 "metadata": {
  "kernelspec": {
   "display_name": "Python 2",
   "language": "python",
   "name": "python2"
  },
  "language_info": {
   "codemirror_mode": {
    "name": "ipython",
    "version": 2
   },
   "file_extension": ".py",
   "mimetype": "text/x-python",
   "name": "python",
   "nbconvert_exporter": "python",
   "pygments_lexer": "ipython2",
   "version": "2.7.12"
  }
 },
 "nbformat": 4,
 "nbformat_minor": 0
}
