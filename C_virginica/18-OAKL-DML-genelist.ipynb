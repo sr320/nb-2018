{
 "cells": [
  {
   "cell_type": "code",
   "execution_count": null,
   "metadata": {
    "ExecuteTime": {
     "end_time": "2018-05-11T15:35:40.208108Z",
     "start_time": "2018-05-11T15:35:40.165922Z"
    },
    "collapsed": true,
    "deletable": true,
    "editable": true
   },
   "outputs": [],
   "source": [
    "pwd"
   ]
  },
  {
   "cell_type": "code",
   "execution_count": 2,
   "metadata": {
    "collapsed": false,
    "deletable": true,
    "editable": true
   },
   "outputs": [
    {
     "name": "stdout",
     "output_type": "stream",
     "text": [
      "/Users/sr320/Documents/GitHub/nb-2018/C_virginica/data\n"
     ]
    }
   ],
   "source": [
    "cd data/"
   ]
  },
  {
   "cell_type": "code",
   "execution_count": null,
   "metadata": {
    "ExecuteTime": {
     "end_time": "2018-05-09T22:32:26.206046Z",
     "start_time": "2018-05-09T22:28:02.389093Z"
    },
    "collapsed": true,
    "deletable": true,
    "editable": true
   },
   "outputs": [],
   "source": [
    "!curl -O ftp://ftp.ncbi.nlm.nih.gov/genomes/Crassostrea_virginica/GFF/ref_C_virginica-3.0_top_level.gff3.gz\n"
   ]
  },
  {
   "cell_type": "code",
   "execution_count": null,
   "metadata": {
    "ExecuteTime": {
     "end_time": "2018-05-09T22:32:43.933871Z",
     "start_time": "2018-05-09T22:32:43.176376Z"
    },
    "collapsed": true,
    "deletable": true,
    "editable": true
   },
   "outputs": [],
   "source": [
    "!gunzip ref_C_virginica-3.0_top_level.gff3.gz"
   ]
  },
  {
   "cell_type": "code",
   "execution_count": null,
   "metadata": {
    "ExecuteTime": {
     "end_time": "2018-05-09T22:32:58.937495Z",
     "start_time": "2018-05-09T22:32:58.804274Z"
    },
    "collapsed": true,
    "deletable": true,
    "editable": true
   },
   "outputs": [],
   "source": [
    "!head ref_C_virginica-3.0_top_level.gff3"
   ]
  },
  {
   "cell_type": "code",
   "execution_count": null,
   "metadata": {
    "ExecuteTime": {
     "end_time": "2018-05-09T23:15:24.729374Z",
     "start_time": "2018-05-09T23:15:24.467055Z"
    },
    "collapsed": true,
    "deletable": true,
    "editable": true
   },
   "outputs": [],
   "source": [
    "!tail -10 ref_C_virginica-3.0_top_level.gff3"
   ]
  },
  {
   "cell_type": "code",
   "execution_count": null,
   "metadata": {
    "ExecuteTime": {
     "end_time": "2018-05-09T23:14:32.563937Z",
     "start_time": "2018-05-09T23:14:28.401347Z"
    },
    "collapsed": true,
    "deletable": true,
    "editable": true
   },
   "outputs": [],
   "source": [
    "!fgrep \"Gnomon\tCDS\" ref_C_virginica-3.0_top_level.gff3 | wc -l"
   ]
  },
  {
   "cell_type": "code",
   "execution_count": null,
   "metadata": {
    "ExecuteTime": {
     "end_time": "2018-05-09T22:51:31.368985Z",
     "start_time": "2018-05-09T22:51:26.350332Z"
    },
    "collapsed": true,
    "deletable": true,
    "editable": true
   },
   "outputs": [],
   "source": [
    "!fgrep \"mRNA\" ref_C_virginica-3.0_top_level.gff3 | wc -l"
   ]
  },
  {
   "cell_type": "code",
   "execution_count": null,
   "metadata": {
    "ExecuteTime": {
     "end_time": "2018-05-09T23:12:45.473332Z",
     "start_time": "2018-05-09T23:12:39.050685Z"
    },
    "collapsed": true,
    "deletable": true,
    "editable": true
   },
   "outputs": [],
   "source": [
    "!fgrep \"Gnomon\tmRNA\" ref_C_virginica-3.0_top_level.gff3 | head"
   ]
  },
  {
   "cell_type": "code",
   "execution_count": null,
   "metadata": {
    "ExecuteTime": {
     "end_time": "2018-05-09T22:52:15.951465Z",
     "start_time": "2018-05-09T22:51:37.382575Z"
    },
    "collapsed": true,
    "deletable": true,
    "editable": true
   },
   "outputs": [],
   "source": [
    "!fgrep \"CDS\" ref_C_virginica-3.0_top_level.gff3"
   ]
  },
  {
   "cell_type": "code",
   "execution_count": null,
   "metadata": {
    "ExecuteTime": {
     "end_time": "2018-05-09T22:52:31.287229Z",
     "start_time": "2018-05-09T22:52:25.097927Z"
    },
    "collapsed": true,
    "deletable": true,
    "editable": true
   },
   "outputs": [],
   "source": [
    "!fgrep \"Gnomon\tgene\" ref_C_virginica-3.0_top_level.gff3 | wc -l"
   ]
  },
  {
   "cell_type": "code",
   "execution_count": null,
   "metadata": {
    "ExecuteTime": {
     "end_time": "2018-05-09T23:11:56.366304Z",
     "start_time": "2018-05-09T23:11:49.845977Z"
    },
    "collapsed": true,
    "deletable": true,
    "editable": true
   },
   "outputs": [],
   "source": [
    "!fgrep \"Gnomon\tgene\" ref_C_virginica-3.0_top_level.gff3 | tail"
   ]
  },
  {
   "cell_type": "code",
   "execution_count": null,
   "metadata": {
    "ExecuteTime": {
     "end_time": "2018-05-09T22:53:29.796703Z",
     "start_time": "2018-05-09T22:53:23.638895Z"
    },
    "collapsed": true,
    "deletable": true,
    "editable": true
   },
   "outputs": [],
   "source": [
    "!fgrep \"Gnomon\tmRNA\" ref_C_virginica-3.0_top_level.gff3 | head"
   ]
  },
  {
   "cell_type": "code",
   "execution_count": null,
   "metadata": {
    "ExecuteTime": {
     "end_time": "2018-05-09T23:00:25.247643Z",
     "start_time": "2018-05-09T23:00:25.109941Z"
    },
    "collapsed": true,
    "deletable": true,
    "editable": true
   },
   "outputs": [],
   "source": [
    "!/Applications/bioinfo/bedtools2/bin/intersectBed"
   ]
  },
  {
   "cell_type": "code",
   "execution_count": null,
   "metadata": {
    "ExecuteTime": {
     "end_time": "2018-05-09T23:05:32.027568Z",
     "start_time": "2018-05-09T23:05:31.883941Z"
    },
    "collapsed": true,
    "deletable": true,
    "editable": true
   },
   "outputs": [],
   "source": [
    "ls"
   ]
  },
  {
   "cell_type": "code",
   "execution_count": null,
   "metadata": {
    "ExecuteTime": {
     "end_time": "2018-05-09T23:06:29.127793Z",
     "start_time": "2018-05-09T23:06:24.043763Z"
    },
    "collapsed": true,
    "deletable": true,
    "editable": true
   },
   "outputs": [],
   "source": [
    "!/Applications/bioinfo/bedtools2/bin/intersectBed \\\n",
    "-u \\\n",
    "-a meth_diff_50.bed \\\n",
    "-b ref_C_virginica-3.0_top_level.gff3 | head"
   ]
  },
  {
   "cell_type": "code",
   "execution_count": null,
   "metadata": {
    "ExecuteTime": {
     "end_time": "2018-05-09T23:19:15.154028Z",
     "start_time": "2018-05-09T23:19:11.750000Z"
    },
    "collapsed": true,
    "deletable": true,
    "editable": true
   },
   "outputs": [],
   "source": [
    "!/Applications/bioinfo/bedtools2/bin/intersectBed \\\n",
    "-u \\\n",
    "-a ref_C_virginica-3.0_top_level.gff3 \\\n",
    "-b meth_diff_50.bed | fgrep \"Gnomon\tmRNA\" > Gnomon_mRNA-meth50.tab"
   ]
  },
  {
   "cell_type": "code",
   "execution_count": null,
   "metadata": {
    "ExecuteTime": {
     "end_time": "2018-05-09T23:19:15.294649Z",
     "start_time": "2018-05-09T23:19:15.161547Z"
    },
    "collapsed": true,
    "deletable": true,
    "editable": true
   },
   "outputs": [],
   "source": [
    "!head Gnomon_mRNA-meth50.tab"
   ]
  },
  {
   "cell_type": "code",
   "execution_count": null,
   "metadata": {
    "ExecuteTime": {
     "end_time": "2018-05-09T23:10:20.992891Z",
     "start_time": "2018-05-09T23:10:20.623219Z"
    },
    "collapsed": true,
    "deletable": true,
    "editable": true
   },
   "outputs": [],
   "source": [
    "!fgrep \">\" protein.fa | wc -l"
   ]
  },
  {
   "cell_type": "code",
   "execution_count": null,
   "metadata": {
    "ExecuteTime": {
     "end_time": "2018-05-11T15:36:18.370888Z",
     "start_time": "2018-05-11T15:36:18.006906Z"
    },
    "collapsed": true,
    "deletable": true,
    "editable": true
   },
   "outputs": [],
   "source": [
    "!fgrep -c \">\" protein.fa "
   ]
  },
  {
   "cell_type": "code",
   "execution_count": null,
   "metadata": {
    "ExecuteTime": {
     "end_time": "2018-05-11T15:36:53.114361Z",
     "start_time": "2018-05-11T15:36:52.979580Z"
    },
    "collapsed": true,
    "deletable": true,
    "editable": true
   },
   "outputs": [],
   "source": [
    "ls"
   ]
  },
  {
   "cell_type": "code",
   "execution_count": null,
   "metadata": {
    "ExecuteTime": {
     "end_time": "2018-05-11T15:37:31.513215Z",
     "start_time": "2018-05-11T15:37:30.855245Z"
    },
    "collapsed": true,
    "deletable": true,
    "editable": true
   },
   "outputs": [],
   "source": [
    "!gunzip rna.fa.gz"
   ]
  },
  {
   "cell_type": "code",
   "execution_count": null,
   "metadata": {
    "ExecuteTime": {
     "end_time": "2018-05-11T15:37:45.718130Z",
     "start_time": "2018-05-11T15:37:44.646072Z"
    },
    "collapsed": true,
    "deletable": true,
    "editable": true
   },
   "outputs": [],
   "source": [
    "!fgrep -c \">\" rna.fa"
   ]
  },
  {
   "cell_type": "markdown",
   "metadata": {
    "deletable": true,
    "editable": true
   },
   "source": [
    "# There are 60213 proteins"
   ]
  },
  {
   "cell_type": "code",
   "execution_count": null,
   "metadata": {
    "ExecuteTime": {
     "end_time": "2018-05-11T15:38:41.641498Z",
     "start_time": "2018-05-11T15:38:41.061243Z"
    },
    "collapsed": true,
    "deletable": true,
    "editable": true
   },
   "outputs": [],
   "source": [
    "!wc -l ref_C_virginica-3.0_top_level.gff3"
   ]
  },
  {
   "cell_type": "code",
   "execution_count": null,
   "metadata": {
    "ExecuteTime": {
     "end_time": "2018-05-11T15:39:06.422733Z",
     "start_time": "2018-05-11T15:39:06.163868Z"
    },
    "collapsed": true,
    "deletable": true,
    "editable": true
   },
   "outputs": [],
   "source": [
    "!tail -2 ref_C_virginica-3.0_top_level.gff3"
   ]
  },
  {
   "cell_type": "code",
   "execution_count": null,
   "metadata": {
    "ExecuteTime": {
     "end_time": "2018-05-11T15:41:11.508549Z",
     "start_time": "2018-05-11T15:40:41.366013Z"
    },
    "collapsed": true,
    "deletable": true,
    "editable": true
   },
   "outputs": [],
   "source": [
    "!cut -f2 ref_C_virginica-3.0_top_level.gff3 | sort | uniq -c\n",
    "\n"
   ]
  },
  {
   "cell_type": "code",
   "execution_count": null,
   "metadata": {
    "ExecuteTime": {
     "end_time": "2018-05-11T15:43:19.732137Z",
     "start_time": "2018-05-11T15:42:46.778951Z"
    },
    "collapsed": true,
    "deletable": true,
    "editable": true
   },
   "outputs": [],
   "source": [
    "!cut -f2 ref_C_virginica-3.0_top_level.gff3 | sort | tail\n",
    "\n"
   ]
  },
  {
   "cell_type": "code",
   "execution_count": null,
   "metadata": {
    "ExecuteTime": {
     "end_time": "2018-05-11T15:42:46.771713Z",
     "start_time": "2018-05-11T15:42:18.066100Z"
    },
    "collapsed": true,
    "deletable": true,
    "editable": true
   },
   "outputs": [],
   "source": [
    "!cut -f2,3 ref_C_virginica-3.0_top_level.gff3 | sort | uniq -c\n",
    "\n"
   ]
  },
  {
   "cell_type": "markdown",
   "metadata": {
    "deletable": true,
    "editable": true
   },
   "source": [
    "## GFF BREAKDOWN\n",
    "```\n",
    "645355 Gnomon\tCDS\n",
    "731279 Gnomon\texon\n",
    "38929 Gnomon\tgene\n",
    "4750 Gnomon\tlnc_RNA\n",
    "60201 Gnomon\tmRNA\n",
    "1674 Gnomon\ttranscript\n",
    "  13 RefSeq\tCDS\n",
    "29258 RefSeq\tcDNA_match\n",
    "  26 RefSeq\texon\n",
    "  12 RefSeq\tgene\n",
    "   2 RefSeq\trRNA\n",
    "  11 RefSeq\tregion\n",
    "  23 RefSeq\ttRNA\n",
    " 611 tRNAscan-SE\texon\n",
    " 564 tRNAscan-SE\tgene\n",
    " 564 tRNAscan-SE\ttRNA\n",
    "```"
   ]
  },
  {
   "cell_type": "code",
   "execution_count": null,
   "metadata": {
    "ExecuteTime": {
     "end_time": "2018-05-11T15:45:13.932529Z",
     "start_time": "2018-05-11T15:45:13.789095Z"
    },
    "collapsed": true,
    "deletable": true,
    "editable": true
   },
   "outputs": [],
   "source": [
    "ls"
   ]
  },
  {
   "cell_type": "code",
   "execution_count": null,
   "metadata": {
    "ExecuteTime": {
     "end_time": "2018-05-11T15:52:55.103145Z",
     "start_time": "2018-05-11T15:52:48.703402Z"
    },
    "collapsed": true,
    "deletable": true,
    "editable": true
   },
   "outputs": [],
   "source": [
    "!fgrep \"Gnomon\tmRNA\" ref_C_virginica-3.0_top_level.gff3 | head -1"
   ]
  },
  {
   "cell_type": "code",
   "execution_count": null,
   "metadata": {
    "ExecuteTime": {
     "end_time": "2018-05-11T15:53:01.503879Z",
     "start_time": "2018-05-11T15:52:55.109843Z"
    },
    "collapsed": true,
    "deletable": true,
    "editable": true
   },
   "outputs": [],
   "source": [
    "!fgrep \"Gnomon\tgene\" ref_C_virginica-3.0_top_level.gff3 | head -1"
   ]
  },
  {
   "cell_type": "code",
   "execution_count": null,
   "metadata": {
    "ExecuteTime": {
     "end_time": "2018-05-11T15:53:28.180000Z",
     "start_time": "2018-05-11T15:53:28.049341Z"
    },
    "collapsed": true,
    "deletable": true,
    "editable": true
   },
   "outputs": [],
   "source": [
    "!head ref_C_virginica-3.0_top_level.gff3"
   ]
  },
  {
   "cell_type": "code",
   "execution_count": null,
   "metadata": {
    "ExecuteTime": {
     "end_time": "2018-05-11T15:55:33.482514Z",
     "start_time": "2018-05-11T15:55:31.603700Z"
    },
    "collapsed": true,
    "deletable": true,
    "editable": true
   },
   "outputs": [],
   "source": [
    "!fgrep -v '#' ref_C_virginica-3.0_top_level.gff3 > ref-nohead_C_virginica-3.0_top_level.gff3"
   ]
  },
  {
   "cell_type": "code",
   "execution_count": null,
   "metadata": {
    "ExecuteTime": {
     "end_time": "2018-05-11T15:56:37.720164Z",
     "start_time": "2018-05-11T15:56:31.148507Z"
    },
    "collapsed": true,
    "deletable": true,
    "editable": true
   },
   "outputs": [],
   "source": [
    "!fgrep \"Gnomon\tgene\" ref_C_virginica-3.0_top_level.gff3 > ref_C_virginica-3.0_Gnomon_gene.gff3"
   ]
  },
  {
   "cell_type": "code",
   "execution_count": null,
   "metadata": {
    "ExecuteTime": {
     "end_time": "2018-05-11T15:56:42.754219Z",
     "start_time": "2018-05-11T15:56:42.621829Z"
    },
    "collapsed": true,
    "deletable": true,
    "editable": true
   },
   "outputs": [],
   "source": [
    "!head ref_C_virginica-3.0_Gnomon_gene.gff3"
   ]
  },
  {
   "cell_type": "code",
   "execution_count": null,
   "metadata": {
    "ExecuteTime": {
     "end_time": "2018-05-11T15:57:14.809376Z",
     "start_time": "2018-05-11T15:57:08.656862Z"
    },
    "collapsed": true,
    "deletable": true,
    "editable": true
   },
   "outputs": [],
   "source": [
    "!fgrep \"Gnomon\tmRNA\" ref_C_virginica-3.0_top_level.gff3 > ref_C_virginica-3.0_Gnomon_mRNA.gff3"
   ]
  },
  {
   "cell_type": "code",
   "execution_count": null,
   "metadata": {
    "ExecuteTime": {
     "end_time": "2018-05-11T15:57:53.226321Z",
     "start_time": "2018-05-11T15:57:53.101520Z"
    },
    "collapsed": true,
    "deletable": true,
    "editable": true
   },
   "outputs": [],
   "source": [
    "!head -1 ref_C_virginica-3.0_Gnomon_mRNA.gff3 "
   ]
  },
  {
   "cell_type": "code",
   "execution_count": 3,
   "metadata": {
    "ExecuteTime": {
     "end_time": "2018-05-11T16:05:04.103455Z",
     "start_time": "2018-05-11T16:04:59.208860Z"
    },
    "collapsed": true,
    "deletable": true,
    "editable": true
   },
   "outputs": [],
   "source": [
    "!fgrep \"Gnomon\texon\" ref_C_virginica-3.0_top_level.gff3 > ref_C_virginica-3.0_Gnomon_exon.gff3"
   ]
  },
  {
   "cell_type": "code",
   "execution_count": null,
   "metadata": {
    "ExecuteTime": {
     "end_time": "2018-05-11T16:06:54.662756Z",
     "start_time": "2018-05-11T16:06:47.465469Z"
    },
    "collapsed": true,
    "deletable": true,
    "editable": true
   },
   "outputs": [],
   "source": [
    "!fgrep \"Gnomon\tlnc_RNA\" ref_C_virginica-3.0_top_level.gff3 > ref_C_virginica-3.0_Gnomon_lnc_RNA.gff3"
   ]
  },
  {
   "cell_type": "code",
   "execution_count": null,
   "metadata": {
    "ExecuteTime": {
     "end_time": "2018-05-11T16:08:37.414115Z",
     "start_time": "2018-05-11T16:08:33.918584Z"
    },
    "collapsed": true,
    "deletable": true,
    "editable": true
   },
   "outputs": [],
   "source": [
    "!fgrep \"RefSeq\tcDNA_match\" ref_C_virginica-3.0_top_level.gff3 > ref_C_virginica-3.0_RefSeq_cDNA.gff3"
   ]
  },
  {
   "cell_type": "code",
   "execution_count": null,
   "metadata": {
    "ExecuteTime": {
     "end_time": "2018-05-11T20:05:06.002648Z",
     "start_time": "2018-05-11T20:05:04.527021Z"
    },
    "collapsed": true,
    "deletable": true,
    "editable": true
   },
   "outputs": [],
   "source": [
    "!fgrep \"YP_254656.1\" ref_C_virginica-3.0_top_level.gff3 "
   ]
  },
  {
   "cell_type": "code",
   "execution_count": null,
   "metadata": {
    "ExecuteTime": {
     "end_time": "2018-05-11T20:06:09.477294Z",
     "start_time": "2018-05-11T20:06:04.441275Z"
    },
    "collapsed": true,
    "deletable": true,
    "editable": true
   },
   "outputs": [],
   "source": [
    "!fgrep \"XP_022315826\" ref_C_virginica-3.0_top_level.gff3 "
   ]
  },
  {
   "cell_type": "code",
   "execution_count": null,
   "metadata": {
    "ExecuteTime": {
     "end_time": "2018-05-11T20:08:05.864885Z",
     "start_time": "2018-05-11T20:07:58.811759Z"
    },
    "collapsed": true,
    "deletable": true,
    "editable": true
   },
   "outputs": [],
   "source": [
    "!fgrep \"111119692\" ref_C_virginica-3.0_top_level.gff3 "
   ]
  },
  {
   "cell_type": "code",
   "execution_count": 5,
   "metadata": {
    "collapsed": false,
    "deletable": true,
    "editable": true
   },
   "outputs": [
    {
     "name": "stdout",
     "output_type": "stream",
     "text": [
      "meth_diff_50.bed\n",
      "protein.fa\n",
      "protein.fa.gz\n",
      "ref-nohead_C_virginica-3.0_top_level.gff3\n",
      "ref_C_virginica-3.0_Gnomon_exon.gff3\n",
      "ref_C_virginica-3.0_Gnomon_gene.gff3\n",
      "ref_C_virginica-3.0_Gnomon_lnc_RNA.gff3\n",
      "ref_C_virginica-3.0_Gnomon_mRNA.gff3\n",
      "ref_C_virginica-3.0_RefSeq_cDNA.gff3\n",
      "ref_C_virginica-3.0_top_level.gff3\n",
      "ref_C_virginica-3.0_top_level.gff3.zip\n",
      "rna.fa\n",
      "rna.fa.gz\n"
     ]
    }
   ],
   "source": [
    "ls\n"
   ]
  },
  {
   "cell_type": "code",
   "execution_count": 8,
   "metadata": {
    "collapsed": false,
    "deletable": true,
    "editable": true
   },
   "outputs": [
    {
     "name": "stdout",
     "output_type": "stream",
     "text": [
      " 1513272 ref-nohead_C_virginica-3.0_top_level.gff3\n",
      "  731279 ref_C_virginica-3.0_Gnomon_exon.gff3\n",
      "   38929 ref_C_virginica-3.0_Gnomon_gene.gff3\n",
      "    4750 ref_C_virginica-3.0_Gnomon_lnc_RNA.gff3\n",
      "   60201 ref_C_virginica-3.0_Gnomon_mRNA.gff3\n",
      "   29258 ref_C_virginica-3.0_RefSeq_cDNA.gff3\n",
      " 1513302 ref_C_virginica-3.0_top_level.gff3\n",
      " 3890991 total\n"
     ]
    }
   ],
   "source": [
    "!wc -l *gff3"
   ]
  },
  {
   "cell_type": "code",
   "execution_count": null,
   "metadata": {
    "collapsed": true,
    "deletable": true,
    "editable": true
   },
   "outputs": [],
   "source": []
  },
  {
   "cell_type": "markdown",
   "metadata": {
    "deletable": true,
    "editable": true
   },
   "source": [
    "## Gene is way to start"
   ]
  },
  {
   "cell_type": "markdown",
   "metadata": {
    "deletable": true,
    "editable": true
   },
   "source": [
    "## Substract exon from gene?"
   ]
  },
  {
   "cell_type": "code",
   "execution_count": 30,
   "metadata": {
    "collapsed": false,
    "deletable": true,
    "editable": true
   },
   "outputs": [
    {
     "name": "stdout",
     "output_type": "stream",
     "text": [
      "NC_035780.1\tGnomon\texon\t13578\t13603\t.\t+\t.\tID=id1;Parent=rna0;Dbxref=GeneID:111116054,Genbank:XR_002636969.1;gbkey=ncRNA;gene=LOC111116054;product=uncharacterized LOC111116054;transcript_id=XR_002636969.1\n",
      "NC_035780.1\tGnomon\texon\t14237\t14290\t.\t+\t.\tID=id2;Parent=rna0;Dbxref=GeneID:111116054,Genbank:XR_002636969.1;gbkey=ncRNA;gene=LOC111116054;product=uncharacterized LOC111116054;transcript_id=XR_002636969.1\n"
     ]
    }
   ],
   "source": [
    "!head -2 *exon*"
   ]
  },
  {
   "cell_type": "code",
   "execution_count": 31,
   "metadata": {
    "collapsed": false,
    "deletable": true,
    "editable": true
   },
   "outputs": [
    {
     "name": "stdout",
     "output_type": "stream",
     "text": [
      "NC_035780.1\tGnomon\tgene\t13578\t14594\t.\t+\t.\tID=gene0;Dbxref=GeneID:111116054;Name=LOC111116054;gbkey=Gene;gene=LOC111116054;gene_biotype=lncRNA\n",
      "NC_035780.1\tGnomon\tgene\t28961\t33324\t.\t+\t.\tID=gene1;Dbxref=GeneID:111126949;Name=LOC111126949;gbkey=Gene;gene=LOC111126949;gene_biotype=protein_coding\n"
     ]
    }
   ],
   "source": [
    "!head -2 *gene*"
   ]
  },
  {
   "cell_type": "code",
   "execution_count": 29,
   "metadata": {
    "collapsed": false,
    "deletable": true,
    "editable": true
   },
   "outputs": [
    {
     "name": "stdout",
     "output_type": "stream",
     "text": [
      "  316614\n"
     ]
    }
   ],
   "source": [
    "%%bash\n",
    "/Applications/bioinfo/bedtools2/bin/subtractBed \\\n",
    "-a ref_C_virginica-3.0_Gnomon_gene.gff3 \\\n",
    "-b ref_C_virginica-3.0_Gnomon_exon.gff3 | wc -l"
   ]
  },
  {
   "cell_type": "code",
   "execution_count": 32,
   "metadata": {
    "collapsed": true,
    "deletable": true,
    "editable": true
   },
   "outputs": [],
   "source": [
    "%%bash\n",
    "/Applications/bioinfo/bedtools2/bin/subtractBed \\\n",
    "-a ref_C_virginica-3.0_Gnomon_gene.gff3 \\\n",
    "-b ref_C_virginica-3.0_Gnomon_exon.gff3 \\\n",
    "> ref_C_virginica-3.0_Gnomon_intron.gff3"
   ]
  },
  {
   "cell_type": "markdown",
   "metadata": {
    "deletable": true,
    "editable": true
   },
   "source": [
    "## not quite right - need to try to clean up exons"
   ]
  },
  {
   "cell_type": "code",
   "execution_count": 55,
   "metadata": {
    "collapsed": false,
    "deletable": true,
    "editable": true
   },
   "outputs": [
    {
     "name": "stdout",
     "output_type": "stream",
     "text": [
      "NC_035780.1 \t exon \t 13578 \t 13603\n",
      "NC_035780.1 \t exon \t 14237 \t 14290\n",
      "NC_035780.1 \t exon \t 14557 \t 14594\n",
      "NC_035780.1 \t exon \t 28961 \t 29073\n",
      "NC_035780.1 \t exon \t 30524 \t 31557\n",
      "NC_035780.1 \t exon \t 31736 \t 31887\n",
      "NC_035780.1 \t exon \t 31977 \t 32565\n",
      "NC_035780.1 \t exon \t 32959 \t 33324\n",
      "NC_035780.1 \t exon \t 66869 \t 66897\n",
      "NC_035780.1 \t exon \t 64123 \t 64334\n"
     ]
    }
   ],
   "source": [
    "%%bash\n",
    "awk '{ print $1, \"\\t\", \"exon\", \"\\t\", $4, \"\\t\", $5}' ref_C_virginica-3.0_Gnomon_exon.gff3 | head"
   ]
  },
  {
   "cell_type": "code",
   "execution_count": 69,
   "metadata": {
    "collapsed": true,
    "deletable": true,
    "editable": true
   },
   "outputs": [],
   "source": [
    "%%bash\n",
    "awk -v OFS='\\t' '{ print $1, $4, $5}' ref_C_virginica-3.0_Gnomon_exon.gff3 \\\n",
    "> ref_C_virginica-3.0_Gnomon_exon.bed"
   ]
  },
  {
   "cell_type": "code",
   "execution_count": 72,
   "metadata": {
    "collapsed": false,
    "deletable": true,
    "editable": true
   },
   "outputs": [
    {
     "name": "stdout",
     "output_type": "stream",
     "text": [
      "  731279 ref_C_virginica-3.0_Gnomon_exon.bed\n"
     ]
    }
   ],
   "source": [
    "!wc -l ref_C_virginica-3.0_Gnomon_exon.bed"
   ]
  },
  {
   "cell_type": "code",
   "execution_count": 73,
   "metadata": {
    "collapsed": false,
    "deletable": true,
    "editable": true
   },
   "outputs": [
    {
     "name": "stdout",
     "output_type": "stream",
     "text": [
      "  354592\n"
     ]
    }
   ],
   "source": [
    "%%bash\n",
    "/Applications/bioinfo/bedtools2/bin/subtractBed \\\n",
    "-a ref_C_virginica-3.0_Gnomon_gene.gff3 \\\n",
    "-b ref_C_virginica-3.0_Gnomon_exon.bed | wc -l"
   ]
  },
  {
   "cell_type": "code",
   "execution_count": 74,
   "metadata": {
    "collapsed": false,
    "deletable": true,
    "editable": true
   },
   "outputs": [
    {
     "name": "stdout",
     "output_type": "stream",
     "text": [
      "NC_035780.1\tGnomon\tgene\t13578\t13578\t.\t+\t.\tID=gene0;Dbxref=GeneID:111116054;Name=LOC111116054;gbkey=Gene;gene=LOC111116054;gene_biotype=lncRNA\n",
      "NC_035780.1\tGnomon\tgene\t13604\t14237\t.\t+\t.\tID=gene0;Dbxref=GeneID:111116054;Name=LOC111116054;gbkey=Gene;gene=LOC111116054;gene_biotype=lncRNA\n",
      "NC_035780.1\tGnomon\tgene\t14291\t14557\t.\t+\t.\tID=gene0;Dbxref=GeneID:111116054;Name=LOC111116054;gbkey=Gene;gene=LOC111116054;gene_biotype=lncRNA\n",
      "NC_035780.1\tGnomon\tgene\t28961\t28961\t.\t+\t.\tID=gene1;Dbxref=GeneID:111126949;Name=LOC111126949;gbkey=Gene;gene=LOC111126949;gene_biotype=protein_coding\n",
      "NC_035780.1\tGnomon\tgene\t29074\t30524\t.\t+\t.\tID=gene1;Dbxref=GeneID:111126949;Name=LOC111126949;gbkey=Gene;gene=LOC111126949;gene_biotype=protein_coding\n",
      "NC_035780.1\tGnomon\tgene\t31558\t31736\t.\t+\t.\tID=gene1;Dbxref=GeneID:111126949;Name=LOC111126949;gbkey=Gene;gene=LOC111126949;gene_biotype=protein_coding\n",
      "NC_035780.1\tGnomon\tgene\t31888\t31977\t.\t+\t.\tID=gene1;Dbxref=GeneID:111126949;Name=LOC111126949;gbkey=Gene;gene=LOC111126949;gene_biotype=protein_coding\n",
      "NC_035780.1\tGnomon\tgene\t32566\t32959\t.\t+\t.\tID=gene1;Dbxref=GeneID:111126949;Name=LOC111126949;gbkey=Gene;gene=LOC111126949;gene_biotype=protein_coding\n",
      "NC_035780.1\tGnomon\tgene\t43111\t43111\t.\t-\t.\tID=gene2;Dbxref=GeneID:111110729;Name=LOC111110729;gbkey=Gene;gene=LOC111110729;gene_biotype=protein_coding\n",
      "NC_035780.1\tGnomon\tgene\t44359\t45913\t.\t-\t.\tID=gene2;Dbxref=GeneID:111110729;Name=LOC111110729;gbkey=Gene;gene=LOC111110729;gene_biotype=protein_coding\n"
     ]
    }
   ],
   "source": [
    "%%bash\n",
    "/Applications/bioinfo/bedtools2/bin/subtractBed \\\n",
    "-a ref_C_virginica-3.0_Gnomon_gene.gff3 \\\n",
    "-b ref_C_virginica-3.0_Gnomon_exon.bed | head\n"
   ]
  },
  {
   "cell_type": "code",
   "execution_count": 75,
   "metadata": {
    "collapsed": false,
    "deletable": true,
    "editable": true
   },
   "outputs": [
    {
     "name": "stdout",
     "output_type": "stream",
     "text": [
      "NC_035780.1\t13578\t13578\n",
      "NC_035780.1\t13604\t14237\n",
      "NC_035780.1\t14291\t14557\n",
      "NC_035780.1\t28961\t28961\n",
      "NC_035780.1\t29074\t30524\n",
      "NC_035780.1\t31558\t31736\n",
      "NC_035780.1\t31888\t31977\n",
      "NC_035780.1\t32566\t32959\n",
      "NC_035780.1\t43111\t43111\n",
      "NC_035780.1\t44359\t45913\n"
     ]
    }
   ],
   "source": [
    "%%bash\n",
    "/Applications/bioinfo/bedtools2/bin/subtractBed \\\n",
    "-a ref_C_virginica-3.0_Gnomon_gene.gff3 \\\n",
    "-b ref_C_virginica-3.0_Gnomon_exon.bed | awk -v OFS='\\t' '{ print $1, $4, $5}' | head"
   ]
  },
  {
   "cell_type": "code",
   "execution_count": 77,
   "metadata": {
    "collapsed": true,
    "deletable": true,
    "editable": true
   },
   "outputs": [],
   "source": [
    "%%bash\n",
    "/Applications/bioinfo/bedtools2/bin/subtractBed \\\n",
    "-a ref_C_virginica-3.0_Gnomon_gene.gff3 \\\n",
    "-b ref_C_virginica-3.0_Gnomon_exon.bed | awk -v OFS='\\t' '{ print $1, $4, $5}' \\\n",
    "> ref_C_virginica-3.0_intron.bed"
   ]
  },
  {
   "cell_type": "code",
   "execution_count": 78,
   "metadata": {
    "collapsed": false,
    "deletable": true,
    "editable": true
   },
   "outputs": [
    {
     "name": "stdout",
     "output_type": "stream",
     "text": [
      "NC_035780.1\t13578\t13578\n",
      "NC_035780.1\t13604\t14237\n",
      "NC_035780.1\t14291\t14557\n",
      "NC_035780.1\t28961\t28961\n",
      "NC_035780.1\t29074\t30524\n",
      "NC_035780.1\t31558\t31736\n",
      "NC_035780.1\t31888\t31977\n",
      "NC_035780.1\t32566\t32959\n",
      "NC_035780.1\t43111\t43111\n",
      "NC_035780.1\t44359\t45913\n"
     ]
    }
   ],
   "source": [
    "!head ref_C_virginica-3.0_intron.bed"
   ]
  },
  {
   "cell_type": "code",
   "execution_count": null,
   "metadata": {
    "collapsed": true,
    "deletable": true,
    "editable": true
   },
   "outputs": [],
   "source": [
    "ref_C_virginica-3.0_Gnomon_mRNA.gff3"
   ]
  },
  {
   "cell_type": "code",
   "execution_count": 79,
   "metadata": {
    "collapsed": false,
    "deletable": true,
    "editable": true
   },
   "outputs": [
    {
     "name": "stdout",
     "output_type": "stream",
     "text": [
      "NC_035780.1\t28961\t28961\n",
      "NC_035780.1\t29074\t30524\n",
      "NC_035780.1\t31558\t31736\n",
      "NC_035780.1\t31888\t31977\n",
      "NC_035780.1\t32566\t32959\n",
      "NC_035780.1\t43111\t43111\n",
      "NC_035780.1\t44359\t45913\n",
      "NC_035780.1\t46507\t64123\n",
      "NC_035780.1\t64335\t66869\n",
      "NC_035780.1\t43111\t43111\n"
     ]
    }
   ],
   "source": [
    "%%bash\n",
    "/Applications/bioinfo/bedtools2/bin/subtractBed \\\n",
    "-a ref_C_virginica-3.0_Gnomon_mRNA.gff3 \\\n",
    "-b ref_C_virginica-3.0_Gnomon_exon.bed | awk -v OFS='\\t' '{ print $1, $4, $5}' | head"
   ]
  },
  {
   "cell_type": "code",
   "execution_count": 80,
   "metadata": {
    "collapsed": true,
    "deletable": true,
    "editable": true
   },
   "outputs": [],
   "source": [
    "%%bash\n",
    "/Applications/bioinfo/bedtools2/bin/subtractBed \\\n",
    "-a ref_C_virginica-3.0_Gnomon_mRNA.gff3 \\\n",
    "-b ref_C_virginica-3.0_Gnomon_exon.bed | awk -v OFS='\\t' '{ print $1, $4, $5}' \\\n",
    "> ref_C_virginica-3.0_intron-mrna.bed"
   ]
  },
  {
   "cell_type": "markdown",
   "metadata": {
    "deletable": true,
    "editable": true
   },
   "source": [
    "## recap - made exon by \n",
    "```\n",
    "awk -v OFS='\\t' '{ print $1, $4, $5}' ref_C_virginica-3.0_Gnomon_exon.gff3 \\\n",
    "> ref_C_virginica-3.0_Gnomon_exon.bed\n",
    "```\n",
    "\n",
    "Then subtracted from gene and mRNA tracks. "
   ]
  },
  {
   "cell_type": "code",
   "execution_count": 82,
   "metadata": {
    "collapsed": false,
    "deletable": true,
    "editable": true
   },
   "outputs": [
    {
     "name": "stdout",
     "output_type": "stream",
     "text": [
      "NC_035780.1\t28961\t28961\n",
      "NC_035780.1\t29074\t30524\n",
      "NC_035780.1\t31558\t31736\n",
      "NC_035780.1\t31888\t31977\n",
      "NC_035780.1\t32566\t32959\n",
      "NC_035780.1\t43111\t43111\n",
      "NC_035780.1\t44359\t45913\n",
      "NC_035780.1\t46507\t64123\n",
      "NC_035780.1\t64335\t66869\n",
      "NC_035780.1\t43111\t43111\n"
     ]
    }
   ],
   "source": [
    "!head  ref_C_virginica-3.0_intron-mrna.bed"
   ]
  },
  {
   "cell_type": "code",
   "execution_count": 84,
   "metadata": {
    "collapsed": false,
    "deletable": true,
    "editable": true
   },
   "outputs": [
    {
     "name": "stdout",
     "output_type": "stream",
     "text": [
      " 22525825 ref_C_virginica-3.0_intron-mrna.bed\n"
     ]
    }
   ],
   "source": [
    "!wc -c ref_C_virginica-3.0_intron-mrna.bed"
   ]
  },
  {
   "cell_type": "code",
   "execution_count": 89,
   "metadata": {
    "collapsed": true,
    "deletable": true,
    "editable": true
   },
   "outputs": [],
   "source": [
    "!sort -k1,1 -k2,2n ref_C_virginica-3.0_intron-mrna.bed > ref_C_virginica-3.0_intron-mrna.sorted.bed"
   ]
  },
  {
   "cell_type": "code",
   "execution_count": 90,
   "metadata": {
    "collapsed": false,
    "deletable": true,
    "editable": true
   },
   "outputs": [
    {
     "name": "stdout",
     "output_type": "stream",
     "text": [
      "NC_035780.1\t28961\t28961\n",
      "NC_035780.1\t29074\t30524\n",
      "NC_035780.1\t31558\t31736\n",
      "NC_035780.1\t31888\t31977\n",
      "NC_035780.1\t32566\t32959\n",
      "NC_035780.1\t43110\t43112\n",
      "NC_035780.1\t44359\t45913\n",
      "NC_035780.1\t46507\t64123\n",
      "NC_035780.1\t64335\t66869\n",
      "NC_035780.1\t85606\t85606\n"
     ]
    }
   ],
   "source": [
    "!/Applications/bioinfo/bedtools2/bin/mergeBed -i ref_C_virginica-3.0_intron-mrna.sorted.bed | head"
   ]
  },
  {
   "cell_type": "code",
   "execution_count": 91,
   "metadata": {
    "collapsed": false,
    "deletable": true,
    "editable": true
   },
   "outputs": [
    {
     "name": "stdout",
     "output_type": "stream",
     "text": [
      "  319262\n"
     ]
    }
   ],
   "source": [
    "!/Applications/bioinfo/bedtools2/bin/mergeBed -i ref_C_virginica-3.0_intron-mrna.sorted.bed | wc -l"
   ]
  },
  {
   "cell_type": "code",
   "execution_count": 92,
   "metadata": {
    "collapsed": true,
    "deletable": true,
    "editable": true
   },
   "outputs": [],
   "source": [
    "!/Applications/bioinfo/bedtools2/bin/mergeBed -i ref_C_virginica-3.0_intron-mrna.sorted.bed \\\n",
    "> ref_C_virginica-3.0_intron-mrna.merged.bed"
   ]
  },
  {
   "cell_type": "code",
   "execution_count": null,
   "metadata": {
    "collapsed": true,
    "deletable": true,
    "editable": true
   },
   "outputs": [],
   "source": []
  }
 ],
 "metadata": {
  "kernelspec": {
   "display_name": "Python 2",
   "language": "python",
   "name": "python2"
  },
  "language_info": {
   "codemirror_mode": {
    "name": "ipython",
    "version": 2
   },
   "file_extension": ".py",
   "mimetype": "text/x-python",
   "name": "python",
   "nbconvert_exporter": "python",
   "pygments_lexer": "ipython2",
   "version": "2.7.12"
  }
 },
 "nbformat": 4,
 "nbformat_minor": 2
}
