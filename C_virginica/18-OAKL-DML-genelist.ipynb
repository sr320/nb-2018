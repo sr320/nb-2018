{
 "cells": [
  {
   "cell_type": "code",
   "execution_count": 50,
   "metadata": {
    "ExecuteTime": {
     "end_time": "2018-05-11T15:35:40.208108Z",
     "start_time": "2018-05-11T15:35:40.165922Z"
    }
   },
   "outputs": [
    {
     "data": {
      "text/plain": [
       "'/Users/sr320/Documents/GitHub/nb-2018/C_virginica/data'"
      ]
     },
     "execution_count": 50,
     "metadata": {},
     "output_type": "execute_result"
    }
   ],
   "source": [
    "pwd"
   ]
  },
  {
   "cell_type": "code",
   "execution_count": 9,
   "metadata": {
    "ExecuteTime": {
     "end_time": "2018-05-09T22:32:26.206046Z",
     "start_time": "2018-05-09T22:28:02.389093Z"
    }
   },
   "outputs": [
    {
     "name": "stdout",
     "output_type": "stream",
     "text": [
      "  % Total    % Received % Xferd  Average Speed   Time    Time     Time  Current\n",
      "                                 Dload  Upload   Total   Spent    Left  Speed\n",
      "100 16.2M  100 16.2M    0     0  64729      0  0:04:23  0:04:23 --:--:-- 37021 0  38356      0  0:07:23  0:00:06  0:07:17 46202 0     0  67604      0  0:04:11  0:00:19  0:03:52  107k  0  68572      0  0:04:08  0:00:20  0:03:48 87557 0  71258      0  0:03:58  0:00:35  0:03:23 9730922 3695k    0     0  74193      0  0:03:49  0:00:51  0:02:58 74246 4520k    0     0  73483      0  0:03:51  0:01:03  0:02:48 62800  0  78524      0  0:03:36  0:01:17  0:02:19 851091:48  0:01:58 552488371k    0     0  73901      0  0:03:50  0:01:56  0:01:54 641208874k    0     0  75730      0  0:03:44  0:02:00  0:01:44  119k 13.4M    0     0  78859      0  0:03:35  0:02:59  0:00:36 8731615.8M    0     0  66052      0  0:04:17  0:04:11  0:00:06 41708\n"
     ]
    }
   ],
   "source": [
    "!curl -O ftp://ftp.ncbi.nlm.nih.gov/genomes/Crassostrea_virginica/GFF/ref_C_virginica-3.0_top_level.gff3.gz\n"
   ]
  },
  {
   "cell_type": "code",
   "execution_count": 10,
   "metadata": {
    "ExecuteTime": {
     "end_time": "2018-05-09T22:32:43.933871Z",
     "start_time": "2018-05-09T22:32:43.176376Z"
    }
   },
   "outputs": [],
   "source": [
    "!gunzip ref_C_virginica-3.0_top_level.gff3.gz"
   ]
  },
  {
   "cell_type": "code",
   "execution_count": 11,
   "metadata": {
    "ExecuteTime": {
     "end_time": "2018-05-09T22:32:58.937495Z",
     "start_time": "2018-05-09T22:32:58.804274Z"
    }
   },
   "outputs": [
    {
     "name": "stdout",
     "output_type": "stream",
     "text": [
      "##gff-version 3\r\n",
      "#!gff-spec-version 1.21\r\n",
      "#!processor NCBI annotwriter\r\n",
      "#!genome-build C_virginica-3.0\r\n",
      "#!genome-build-accession NCBI_Assembly:GCF_002022765.2\r\n",
      "#!annotation-date 14 September 2017\r\n",
      "#!annotation-source NCBI Crassostrea virginica Annotation Release 100\r\n",
      "##sequence-region NC_035780.1 1 65668440\r\n",
      "##species https://www.ncbi.nlm.nih.gov/Taxonomy/Browser/wwwtax.cgi?id=6565\r\n",
      "NC_035780.1\tRefSeq\tregion\t1\t65668440\t.\t+\t.\tID=id0;Dbxref=taxon:6565;Name=1;chromosome=1;collection-date=22-Mar-2015;country=USA;gbkey=Src;genome=chromosome;isolate=RU13XGHG1-28;isolation-source=Rutgers Haskin Shellfish Research Laboratory inbred lines (NJ);mol_type=genomic DNA;tissue-type=whole sample\r\n"
     ]
    }
   ],
   "source": [
    "!head ref_C_virginica-3.0_top_level.gff3"
   ]
  },
  {
   "cell_type": "code",
   "execution_count": 43,
   "metadata": {
    "ExecuteTime": {
     "end_time": "2018-05-09T23:15:24.729374Z",
     "start_time": "2018-05-09T23:15:24.467055Z"
    }
   },
   "outputs": [
    {
     "name": "stdout",
     "output_type": "stream",
     "text": [
      "NC_035789.1\tRefSeq\tcDNA_match\t26667722\t26667906\t.\t-\t.\tID=0e9e0f6a-8d46-412f-b909-5a982b7dea70;Target=XM_022456416.1 413 597 +;for_remapping=2;gap_count=1;num_ident=3589;num_mismatch=0;pct_coverage=99.9721;pct_coverage_hiqual=99.9721;pct_identity_gap=99.9721;pct_identity_ungap=100;rank=1\r\n",
      "NC_035789.1\tRefSeq\tcDNA_match\t26666928\t26667060\t.\t-\t.\tID=0e9e0f6a-8d46-412f-b909-5a982b7dea70;Target=XM_022456416.1 598 730 +;for_remapping=2;gap_count=1;num_ident=3589;num_mismatch=0;pct_coverage=99.9721;pct_coverage_hiqual=99.9721;pct_identity_gap=99.9721;pct_identity_ungap=100;rank=1\r\n",
      "NC_035789.1\tRefSeq\tcDNA_match\t26666563\t26666710\t.\t-\t.\tID=0e9e0f6a-8d46-412f-b909-5a982b7dea70;Target=XM_022456416.1 731 878 +;for_remapping=2;gap_count=1;num_ident=3589;num_mismatch=0;pct_coverage=99.9721;pct_coverage_hiqual=99.9721;pct_identity_gap=99.9721;pct_identity_ungap=100;rank=1\r\n",
      "NC_035789.1\tRefSeq\tcDNA_match\t26665657\t26665768\t.\t-\t.\tID=0e9e0f6a-8d46-412f-b909-5a982b7dea70;Target=XM_022456416.1 879 990 +;for_remapping=2;gap_count=1;num_ident=3589;num_mismatch=0;pct_coverage=99.9721;pct_coverage_hiqual=99.9721;pct_identity_gap=99.9721;pct_identity_ungap=100;rank=1\r\n",
      "NC_035789.1\tRefSeq\tcDNA_match\t26664947\t26665058\t.\t-\t.\tID=0e9e0f6a-8d46-412f-b909-5a982b7dea70;Target=XM_022456416.1 991 1102 +;for_remapping=2;gap_count=1;num_ident=3589;num_mismatch=0;pct_coverage=99.9721;pct_coverage_hiqual=99.9721;pct_identity_gap=99.9721;pct_identity_ungap=100;rank=1\r\n",
      "NC_035789.1\tRefSeq\tcDNA_match\t26664417\t26664715\t.\t-\t.\tID=0e9e0f6a-8d46-412f-b909-5a982b7dea70;Target=XM_022456416.1 1103 1401 +;for_remapping=2;gap_count=1;num_ident=3589;num_mismatch=0;pct_coverage=99.9721;pct_coverage_hiqual=99.9721;pct_identity_gap=99.9721;pct_identity_ungap=100;rank=1\r\n",
      "NC_035789.1\tRefSeq\tcDNA_match\t26664221\t26664328\t.\t-\t.\tID=0e9e0f6a-8d46-412f-b909-5a982b7dea70;Target=XM_022456416.1 1402 1509 +;for_remapping=2;gap_count=1;num_ident=3589;num_mismatch=0;pct_coverage=99.9721;pct_coverage_hiqual=99.9721;pct_identity_gap=99.9721;pct_identity_ungap=100;rank=1\r\n",
      "NC_035789.1\tRefSeq\tcDNA_match\t26663754\t26663819\t.\t-\t.\tID=0e9e0f6a-8d46-412f-b909-5a982b7dea70;Target=XM_022456416.1 1510 1575 +;for_remapping=2;gap_count=1;num_ident=3589;num_mismatch=0;pct_coverage=99.9721;pct_coverage_hiqual=99.9721;pct_identity_gap=99.9721;pct_identity_ungap=100;rank=1\r\n",
      "NC_035789.1\tRefSeq\tcDNA_match\t26663321\t26663495\t.\t-\t.\tID=0e9e0f6a-8d46-412f-b909-5a982b7dea70;Target=XM_022456416.1 1576 1750 +;for_remapping=2;gap_count=1;num_ident=3589;num_mismatch=0;pct_coverage=99.9721;pct_coverage_hiqual=99.9721;pct_identity_gap=99.9721;pct_identity_ungap=100;rank=1\r\n",
      "NC_035789.1\tRefSeq\tcDNA_match\t26663033\t26663158\t.\t-\t.\tID=0e9e0f6a-8d46-412f-b909-5a982b7dea70;Target=XM_022456416.1 1751 1876 +;for_remapping=2;gap_count=1;num_ident=3589;num_mismatch=0;pct_coverage=99.9721;pct_coverage_hiqual=99.9721;pct_identity_gap=99.9721;pct_identity_ungap=100;rank=1\r\n",
      "NC_035789.1\tRefSeq\tcDNA_match\t26662601\t26662700\t.\t-\t.\tID=0e9e0f6a-8d46-412f-b909-5a982b7dea70;Target=XM_022456416.1 1877 1976 +;for_remapping=2;gap_count=1;num_ident=3589;num_mismatch=0;pct_coverage=99.9721;pct_coverage_hiqual=99.9721;pct_identity_gap=99.9721;pct_identity_ungap=100;rank=1\r\n",
      "NC_035789.1\tRefSeq\tcDNA_match\t26662005\t26662236\t.\t-\t.\tID=0e9e0f6a-8d46-412f-b909-5a982b7dea70;Target=XM_022456416.1 1977 2208 +;for_remapping=2;gap_count=1;num_ident=3589;num_mismatch=0;pct_coverage=99.9721;pct_coverage_hiqual=99.9721;pct_identity_gap=99.9721;pct_identity_ungap=100;rank=1\r\n",
      "NC_035789.1\tRefSeq\tcDNA_match\t26661597\t26661659\t.\t-\t.\tID=0e9e0f6a-8d46-412f-b909-5a982b7dea70;Target=XM_022456416.1 2209 2271 +;for_remapping=2;gap_count=1;num_ident=3589;num_mismatch=0;pct_coverage=99.9721;pct_coverage_hiqual=99.9721;pct_identity_gap=99.9721;pct_identity_ungap=100;rank=1\r\n",
      "NC_035789.1\tRefSeq\tcDNA_match\t26661031\t26661183\t.\t-\t.\tID=0e9e0f6a-8d46-412f-b909-5a982b7dea70;Target=XM_022456416.1 2272 2424 +;for_remapping=2;gap_count=1;num_ident=3589;num_mismatch=0;pct_coverage=99.9721;pct_coverage_hiqual=99.9721;pct_identity_gap=99.9721;pct_identity_ungap=100;rank=1\r\n",
      "NC_035789.1\tRefSeq\tcDNA_match\t26660427\t26660693\t.\t-\t.\tID=0e9e0f6a-8d46-412f-b909-5a982b7dea70;Target=XM_022456416.1 2425 2691 +;for_remapping=2;gap_count=1;num_ident=3589;num_mismatch=0;pct_coverage=99.9721;pct_coverage_hiqual=99.9721;pct_identity_gap=99.9721;pct_identity_ungap=100;rank=1\r\n",
      "NC_035789.1\tRefSeq\tcDNA_match\t26660034\t26660226\t.\t-\t.\tID=0e9e0f6a-8d46-412f-b909-5a982b7dea70;Target=XM_022456416.1 2692 2884 +;for_remapping=2;gap_count=1;num_ident=3589;num_mismatch=0;pct_coverage=99.9721;pct_coverage_hiqual=99.9721;pct_identity_gap=99.9721;pct_identity_ungap=100;rank=1\r\n",
      "NC_035789.1\tRefSeq\tcDNA_match\t26659352\t26659508\t.\t-\t.\tID=0e9e0f6a-8d46-412f-b909-5a982b7dea70;Target=XM_022456416.1 2885 3041 +;for_remapping=2;gap_count=1;num_ident=3589;num_mismatch=0;pct_coverage=99.9721;pct_coverage_hiqual=99.9721;pct_identity_gap=99.9721;pct_identity_ungap=100;rank=1\r\n",
      "NC_035789.1\tRefSeq\tcDNA_match\t26658270\t26658441\t.\t-\t.\tID=0e9e0f6a-8d46-412f-b909-5a982b7dea70;Target=XM_022456416.1 3042 3214 +;for_remapping=2;gap_count=1;num_ident=3589;num_mismatch=0;pct_coverage=99.9721;pct_coverage_hiqual=99.9721;pct_identity_gap=99.9721;pct_identity_ungap=100;rank=1;Gap=M127 I1 M45\r\n",
      "NC_035789.1\tRefSeq\tcDNA_match\t26657952\t26658093\t.\t-\t.\tID=0e9e0f6a-8d46-412f-b909-5a982b7dea70;Target=XM_022456416.1 3215 3356 +;for_remapping=2;gap_count=1;num_ident=3589;num_mismatch=0;pct_coverage=99.9721;pct_coverage_hiqual=99.9721;pct_identity_gap=99.9721;pct_identity_ungap=100;rank=1\r\n",
      "NC_035789.1\tRefSeq\tcDNA_match\t26657568\t26657801\t.\t-\t.\tID=0e9e0f6a-8d46-412f-b909-5a982b7dea70;Target=XM_022456416.1 3357 3590 +;for_remapping=2;gap_count=1;num_ident=3589;num_mismatch=0;pct_coverage=99.9721;pct_coverage_hiqual=99.9721;pct_identity_gap=99.9721;pct_identity_ungap=100;rank=1\r\n",
      "##sequence-region NC_007175.2 1 17244\r\n",
      "##species https://www.ncbi.nlm.nih.gov/Taxonomy/Browser/wwwtax.cgi?id=6565\r\n",
      "NC_007175.2\tRefSeq\tregion\t1\t17244\t.\t+\t.\tID=id731900;Dbxref=taxon:6565;Is_circular=true;Name=MT;gbkey=Src;genome=mitochondrion;mol_type=genomic DNA\r\n",
      "NC_007175.2\tRefSeq\tgene\t1\t1623\t.\t+\t.\tID=gene39493;Dbxref=GeneID:3453225;Name=COX1;gbkey=Gene;gene=COX1;gene_biotype=protein_coding\r\n",
      "NC_007175.2\tRefSeq\tCDS\t1\t1623\t.\t+\t0\tID=cds60201;Parent=gene39493;Dbxref=Genbank:YP_254649.1,GeneID:3453225;Name=YP_254649.1;gbkey=CDS;gene=COX1;product=cytochrome c oxidase subunit I;protein_id=YP_254649.1;transl_table=5\r\n",
      "NC_007175.2\tRefSeq\tgene\t2558\t3429\t.\t+\t.\tID=gene39494;Dbxref=GeneID:3453226;Name=COX3;gbkey=Gene;gene=COX3;gene_biotype=protein_coding\r\n",
      "NC_007175.2\tRefSeq\tCDS\t2645\t3429\t.\t+\t0\tID=cds60202;Parent=gene39494;Dbxref=Genbank:YP_254650.2,GeneID:3453226;Name=YP_254650.2;Note=start codon not determined%3B TAA stop codon is completed by the addition of 3' A residues to the mRNA;gbkey=CDS;gene=COX3;partial=true;product=cytochrome c oxidase subunit III;protein_id=YP_254650.2;start_range=.,2645;transl_except=(pos:3428..3429%2Caa:TERM);transl_table=5\r\n",
      "NC_007175.2\tRefSeq\ttRNA\t3430\t3495\t.\t+\t.\tID=rna67189;anticodon=(pos:3461..3463);gbkey=tRNA;product=tRNA-Ile\r\n",
      "NC_007175.2\tRefSeq\texon\t3430\t3495\t.\t+\t.\tID=id731901;Parent=rna67189;anticodon=(pos:3461..3463);gbkey=tRNA;product=tRNA-Ile\r\n",
      "NC_007175.2\tRefSeq\ttRNA\t3499\t3567\t.\t+\t.\tID=rna67190;anticodon=(pos:3531..3533);gbkey=tRNA;product=tRNA-Thr\r\n",
      "NC_007175.2\tRefSeq\texon\t3499\t3567\t.\t+\t.\tID=id731902;Parent=rna67190;anticodon=(pos:3531..3533);gbkey=tRNA;product=tRNA-Thr\r\n",
      "NC_007175.2\tRefSeq\ttRNA\t3578\t3646\t.\t+\t.\tID=rna67191;anticodon=(pos:3609..3611);gbkey=tRNA;product=tRNA-Glu\r\n",
      "NC_007175.2\tRefSeq\texon\t3578\t3646\t.\t+\t.\tID=id731903;Parent=rna67191;anticodon=(pos:3609..3611);gbkey=tRNA;product=tRNA-Glu\r\n",
      "NC_007175.2\tRefSeq\tgene\t3647\t4859\t.\t+\t.\tID=gene39495;Dbxref=GeneID:3453227;Name=CYTB;gbkey=Gene;gene=CYTB;gene_biotype=protein_coding\r\n",
      "NC_007175.2\tRefSeq\tCDS\t3647\t3994\t.\t+\t0\tID=cds60203;Parent=gene39495;Dbxref=Genbank:YP_254651.1,GeneID:3453227;Name=YP_254651.1;Note=putative frameshift;gbkey=CDS;gene=CYTB;product=cytochrome b;protein_id=YP_254651.1;transl_except=(pos:3647..3649%2Caa:Met);transl_table=5\r\n",
      "NC_007175.2\tRefSeq\tCDS\t3996\t4859\t.\t+\t0\tID=cds60203;Parent=gene39495;Dbxref=Genbank:YP_254651.1,GeneID:3453227;Name=YP_254651.1;Note=putative frameshift;gbkey=CDS;gene=CYTB;product=cytochrome b;protein_id=YP_254651.1;transl_except=(pos:3647..3649%2Caa:Met);transl_table=5\r\n",
      "NC_007175.2\tRefSeq\tgene\t4897\t5589\t.\t+\t.\tID=gene39496;Dbxref=GeneID:3453228;Name=COX2;gbkey=Gene;gene=COX2;gene_biotype=protein_coding\r\n",
      "NC_007175.2\tRefSeq\tCDS\t4897\t5589\t.\t+\t0\tID=cds60204;Parent=gene39496;Dbxref=Genbank:YP_254652.1,GeneID:3453228;Name=YP_254652.1;gbkey=CDS;gene=COX2;product=cytochrome c oxidase subunit II;protein_id=YP_254652.1;transl_table=5\r\n",
      "NC_007175.2\tRefSeq\ttRNA\t5673\t5743\t.\t+\t.\tID=rna67192;anticodon=(pos:5703..5705);codons=44%2C45%2C46%2C47;gbkey=tRNA;product=tRNA-Ser\r\n",
      "NC_007175.2\tRefSeq\texon\t5673\t5743\t.\t+\t.\tID=id731904;Parent=rna67192;anticodon=(pos:5703..5705);codons=44%2C45%2C46%2C47;gbkey=tRNA;product=tRNA-Ser\r\n",
      "NC_007175.2\tRefSeq\ttRNA\t5751\t5817\t.\t+\t.\tID=rna67193;anticodon=(pos:5780..5782);codons=2%2C3;gbkey=tRNA;product=tRNA-Leu\r\n",
      "NC_007175.2\tRefSeq\texon\t5751\t5817\t.\t+\t.\tID=id731905;Parent=rna67193;anticodon=(pos:5780..5782);codons=2%2C3;gbkey=tRNA;product=tRNA-Leu\r\n",
      "NC_007175.2\tRefSeq\ttRNA\t5876\t5944\t.\t+\t.\tID=rna67194;anticodon=(pos:5907..5909);gbkey=tRNA;product=tRNA-Pro\r\n",
      "NC_007175.2\tRefSeq\texon\t5876\t5944\t.\t+\t.\tID=id731906;Parent=rna67194;anticodon=(pos:5907..5909);gbkey=tRNA;product=tRNA-Pro\r\n",
      "NC_007175.2\tRefSeq\ttRNA\t6777\t6841\t.\t+\t.\tID=rna67195;anticodon=(pos:6807..6809);gbkey=tRNA;product=tRNA-Gly\r\n",
      "NC_007175.2\tRefSeq\texon\t6777\t6841\t.\t+\t.\tID=id731907;Parent=rna67195;anticodon=(pos:6807..6809);gbkey=tRNA;product=tRNA-Gly\r\n",
      "NC_007175.2\tRefSeq\trRNA\t6842\t7830\t.\t+\t.\tID=rna67196;gbkey=rRNA;product=s-rRNA\r\n",
      "NC_007175.2\tRefSeq\texon\t6842\t7830\t.\t+\t.\tID=id731908;Parent=rna67196;gbkey=rRNA;product=s-rRNA\r\n",
      "NC_007175.2\tRefSeq\ttRNA\t7831\t7894\t.\t+\t.\tID=rna67197;anticodon=(pos:7863..7865);codons=35;gbkey=tRNA;product=tRNA-Met\r\n",
      "NC_007175.2\tRefSeq\texon\t7831\t7894\t.\t+\t.\tID=id731909;Parent=rna67197;anticodon=(pos:7863..7865);codons=35;gbkey=tRNA;product=tRNA-Met\r\n",
      "NC_007175.2\tRefSeq\ttRNA\t7924\t7991\t.\t+\t.\tID=rna67198;anticodon=(pos:7955..7957);gbkey=tRNA;product=tRNA-Lys\r\n",
      "NC_007175.2\tRefSeq\texon\t7924\t7991\t.\t+\t.\tID=id731910;Parent=rna67198;anticodon=(pos:7955..7957);gbkey=tRNA;product=tRNA-Lys\r\n",
      "NC_007175.2\tRefSeq\ttRNA\t8008\t8074\t.\t+\t.\tID=rna67199;anticodon=(pos:8038..8040);gbkey=tRNA;product=tRNA-Cys\r\n",
      "NC_007175.2\tRefSeq\texon\t8008\t8074\t.\t+\t.\tID=id731911;Parent=rna67199;anticodon=(pos:8038..8040);gbkey=tRNA;product=tRNA-Cys\r\n",
      "NC_007175.2\tRefSeq\ttRNA\t8097\t8161\t.\t+\t.\tID=rna67200;anticodon=(pos:8127..8129);gbkey=tRNA;product=tRNA-Val\r\n",
      "NC_007175.2\tRefSeq\texon\t8097\t8161\t.\t+\t.\tID=id731912;Parent=rna67200;anticodon=(pos:8127..8129);gbkey=tRNA;product=tRNA-Val\r\n",
      "NC_007175.2\tRefSeq\ttRNA\t8179\t8249\t.\t+\t.\tID=rna67201;anticodon=(pos:8209..8211);gbkey=tRNA;product=tRNA-Asp\r\n",
      "NC_007175.2\tRefSeq\texon\t8179\t8249\t.\t+\t.\tID=id731913;Parent=rna67201;anticodon=(pos:8209..8211);gbkey=tRNA;product=tRNA-Asp\r\n",
      "NC_007175.2\tRefSeq\trRNA\t8250\t19674\t.\t+\t.\tID=rna67202;Note=split ribosomal RNA;gbkey=rRNA;product=l-rRNA\r\n",
      "NC_007175.2\tRefSeq\texon\t8250\t8997\t.\t+\t.\tID=id731914;Parent=rna67202;Note=split ribosomal RNA;gbkey=rRNA;product=l-rRNA\r\n",
      "NC_007175.2\tRefSeq\texon\t1710\t2430\t.\t+\t.\tID=id731915;Parent=rna67202;Note=split ribosomal RNA;gbkey=rRNA;product=l-rRNA\r\n",
      "NC_007175.2\tRefSeq\ttRNA\t9032\t9098\t.\t+\t.\tID=rna67203;anticodon=(pos:9066..9068);gbkey=tRNA;product=tRNA-Met\r\n",
      "NC_007175.2\tRefSeq\texon\t9032\t9098\t.\t+\t.\tID=id731916;Parent=rna67203;anticodon=(pos:9066..9068);gbkey=tRNA;product=tRNA-Met\r\n",
      "NC_007175.2\tRefSeq\ttRNA\t9181\t9254\t.\t+\t.\tID=rna67204;anticodon=(pos:9213..9215);codons=4%2C5%2C6%2C7;gbkey=tRNA;product=tRNA-Ser\r\n",
      "NC_007175.2\tRefSeq\texon\t9181\t9254\t.\t+\t.\tID=id731917;Parent=rna67204;anticodon=(pos:9213..9215);codons=4%2C5%2C6%2C7;gbkey=tRNA;product=tRNA-Ser\r\n",
      "NC_007175.2\tRefSeq\ttRNA\t9439\t9513\t.\t+\t.\tID=rna67205;anticodon=(pos:9481..9483);gbkey=tRNA;product=tRNA-Tyr\r\n",
      "NC_007175.2\tRefSeq\texon\t9439\t9513\t.\t+\t.\tID=id731918;Parent=rna67205;anticodon=(pos:9481..9483);gbkey=tRNA;product=tRNA-Tyr\r\n",
      "NC_007175.2\tRefSeq\tgene\t9518\t10192\t.\t+\t.\tID=gene39497;Dbxref=GeneID:3453229;Name=ATP6;gbkey=Gene;gene=ATP6;gene_biotype=protein_coding\r\n",
      "NC_007175.2\tRefSeq\tCDS\t9518\t10192\t.\t+\t0\tID=cds60205;Parent=gene39497;Dbxref=Genbank:YP_254653.1,GeneID:3453229;Name=YP_254653.1;gbkey=CDS;gene=ATP6;product=ATP synthase F0 subunit 6;protein_id=YP_254653.1;transl_table=5\r\n",
      "NC_007175.2\tRefSeq\tgene\t10295\t11290\t.\t+\t.\tID=gene39498;Dbxref=GeneID:3453230;Name=ND2;gbkey=Gene;gene=ND2;gene_biotype=protein_coding\r\n",
      "NC_007175.2\tRefSeq\tCDS\t10295\t11290\t.\t+\t0\tID=cds60206;Parent=gene39498;Dbxref=Genbank:YP_254654.1,GeneID:3453230;Name=YP_254654.1;gbkey=CDS;gene=ND2;product=NADH dehydrogenase subunit 2;protein_id=YP_254654.1;transl_table=5\r\n",
      "NC_007175.2\tRefSeq\ttRNA\t11338\t11403\t.\t+\t.\tID=rna67206;anticodon=(pos:11367..11369);gbkey=tRNA;product=tRNA-Arg\r\n",
      "NC_007175.2\tRefSeq\texon\t11338\t11403\t.\t+\t.\tID=id731919;Parent=rna67206;anticodon=(pos:11367..11369);gbkey=tRNA;product=tRNA-Arg\r\n",
      "NC_007175.2\tRefSeq\ttRNA\t11449\t11513\t.\t+\t.\tID=rna67207;anticodon=(pos:11478..11480);gbkey=tRNA;product=tRNA-His\r\n",
      "NC_007175.2\tRefSeq\texon\t11449\t11513\t.\t+\t.\tID=id731920;Parent=rna67207;anticodon=(pos:11478..11480);gbkey=tRNA;product=tRNA-His\r\n",
      "NC_007175.2\tRefSeq\tgene\t11515\t12864\t.\t+\t.\tID=gene39499;Dbxref=GeneID:3453231;Name=ND4;gbkey=Gene;gene=ND4;gene_biotype=protein_coding\r\n",
      "NC_007175.2\tRefSeq\tCDS\t11515\t12864\t.\t+\t0\tID=cds60207;Parent=gene39499;Dbxref=Genbank:YP_254655.1,GeneID:3453231;Name=YP_254655.1;gbkey=CDS;gene=ND4;product=NADH dehydrogenase subunit 4;protein_id=YP_254655.1;transl_table=5\r\n",
      "NC_007175.2\tRefSeq\ttRNA\t12919\t12988\t.\t+\t.\tID=rna67208;anticodon=(pos:12950..12952);gbkey=tRNA;product=tRNA-Asn\r\n",
      "NC_007175.2\tRefSeq\texon\t12919\t12988\t.\t+\t.\tID=id731921;Parent=rna67208;anticodon=(pos:12950..12952);gbkey=tRNA;product=tRNA-Asn\r\n",
      "NC_007175.2\tRefSeq\tgene\t13126\t14793\t.\t+\t.\tID=gene39500;Dbxref=GeneID:3453232;Name=ND5;gbkey=Gene;gene=ND5;gene_biotype=protein_coding\r\n",
      "NC_007175.2\tRefSeq\tCDS\t13126\t14793\t.\t+\t0\tID=cds60208;Parent=gene39500;Dbxref=Genbank:YP_254656.1,GeneID:3453232;Name=YP_254656.1;gbkey=CDS;gene=ND5;product=NADH dehydrogenase subunit 5;protein_id=YP_254656.1;transl_table=5\r\n",
      "NC_007175.2\tRefSeq\tgene\t14807\t15268\t.\t+\t.\tID=gene39501;Dbxref=GeneID:3453233;Name=ND6;gbkey=Gene;gene=ND6;gene_biotype=protein_coding\r\n",
      "NC_007175.2\tRefSeq\tCDS\t14807\t15268\t.\t+\t0\tID=cds60209;Parent=gene39501;Dbxref=Genbank:YP_254657.1,GeneID:3453233;Name=YP_254657.1;gbkey=CDS;gene=ND6;product=NADH dehydrogenase subunit 6;protein_id=YP_254657.1;transl_table=5\r\n",
      "NC_007175.2\tRefSeq\ttRNA\t15278\t15346\t.\t+\t.\tID=rna67209;anticodon=(pos:15309..15311);gbkey=tRNA;product=tRNA-Gln\r\n",
      "NC_007175.2\tRefSeq\texon\t15278\t15346\t.\t+\t.\tID=id731922;Parent=rna67209;anticodon=(pos:15309..15311);gbkey=tRNA;product=tRNA-Gln\r\n",
      "NC_007175.2\tRefSeq\tgene\t15352\t15705\t.\t+\t.\tID=gene39502;Dbxref=GeneID:3453234;Name=ND3;gbkey=Gene;gene=ND3;gene_biotype=protein_coding\r\n",
      "NC_007175.2\tRefSeq\tCDS\t15352\t15705\t.\t+\t0\tID=cds60210;Parent=gene39502;Dbxref=Genbank:YP_254658.1,GeneID:3453234;Name=YP_254658.1;gbkey=CDS;gene=ND3;product=NADH dehydrogenase subunit 3;protein_id=YP_254658.1;transl_table=5\r\n",
      "NC_007175.2\tRefSeq\ttRNA\t15726\t15796\t.\t+\t.\tID=rna67210;anticodon=(pos:15759..15761);codons=16%2C17%2C18%2C19;gbkey=tRNA;product=tRNA-Leu\r\n",
      "NC_007175.2\tRefSeq\texon\t15726\t15796\t.\t+\t.\tID=id731923;Parent=rna67210;anticodon=(pos:15759..15761);codons=16%2C17%2C18%2C19;gbkey=tRNA;product=tRNA-Leu\r\n",
      "NC_007175.2\tRefSeq\ttRNA\t15804\t15869\t.\t+\t.\tID=rna67211;anticodon=(pos:15836..15838);gbkey=tRNA;product=tRNA-Phe\r\n",
      "NC_007175.2\tRefSeq\texon\t15804\t15869\t.\t+\t.\tID=id731924;Parent=rna67211;anticodon=(pos:15836..15838);gbkey=tRNA;product=tRNA-Phe\r\n",
      "NC_007175.2\tRefSeq\ttRNA\t15892\t15957\t.\t+\t.\tID=rna67212;anticodon=(pos:15923..15925);gbkey=tRNA;product=tRNA-Ala\r\n",
      "NC_007175.2\tRefSeq\texon\t15892\t15957\t.\t+\t.\tID=id731925;Parent=rna67212;anticodon=(pos:15923..15925);gbkey=tRNA;product=tRNA-Ala\r\n",
      "NC_007175.2\tRefSeq\tgene\t15959\t16894\t.\t+\t.\tID=gene39503;Dbxref=GeneID:3453235;Name=ND1;gbkey=Gene;gene=ND1;gene_biotype=protein_coding\r\n",
      "NC_007175.2\tRefSeq\tCDS\t15959\t16894\t.\t+\t0\tID=cds60211;Parent=gene39503;Dbxref=Genbank:YP_254659.1,GeneID:3453235;Name=YP_254659.1;gbkey=CDS;gene=ND1;product=NADH dehydrogenase subunit 1;protein_id=YP_254659.1;transl_table=5\r\n",
      "NC_007175.2\tRefSeq\tgene\t16897\t17176\t.\t+\t.\tID=gene39504;Dbxref=GeneID:3453236;Name=ND4L;gbkey=Gene;gene=ND4L;gene_biotype=protein_coding\r\n",
      "NC_007175.2\tRefSeq\tCDS\t16897\t17176\t.\t+\t0\tID=cds60212;Parent=gene39504;Dbxref=Genbank:YP_254660.1,GeneID:3453236;Name=YP_254660.1;Note=TAA stop codon is completed by the addition of 3' A residues to the mRNA;gbkey=CDS;gene=ND4L;product=NADH dehydrogenase subunit 4L;protein_id=YP_254660.1;transl_except=(pos:17176..17176%2Caa:TERM);transl_table=5\r\n",
      "NC_007175.2\tRefSeq\ttRNA\t17177\t17243\t.\t+\t.\tID=rna67213;anticodon=(pos:17207..17209);gbkey=tRNA;product=tRNA-Trp\r\n",
      "NC_007175.2\tRefSeq\texon\t17177\t17243\t.\t+\t.\tID=id731926;Parent=rna67213;anticodon=(pos:17207..17209);gbkey=tRNA;product=tRNA-Trp\r\n",
      "###\r\n"
     ]
    }
   ],
   "source": [
    "!tail -100 ref_C_virginica-3.0_top_level.gff3"
   ]
  },
  {
   "cell_type": "code",
   "execution_count": 41,
   "metadata": {
    "ExecuteTime": {
     "end_time": "2018-05-09T23:14:32.563937Z",
     "start_time": "2018-05-09T23:14:28.401347Z"
    }
   },
   "outputs": [
    {
     "name": "stdout",
     "output_type": "stream",
     "text": [
      "  645355\r\n"
     ]
    }
   ],
   "source": [
    "!fgrep \"Gnomon\tCDS\" ref_C_virginica-3.0_top_level.gff3 | wc -l"
   ]
  },
  {
   "cell_type": "code",
   "execution_count": 16,
   "metadata": {
    "ExecuteTime": {
     "end_time": "2018-05-09T22:51:31.368985Z",
     "start_time": "2018-05-09T22:51:26.350332Z"
    }
   },
   "outputs": [
    {
     "name": "stdout",
     "output_type": "stream",
     "text": [
      "  747367\r\n"
     ]
    }
   ],
   "source": [
    "!fgrep \"mRNA\" ref_C_virginica-3.0_top_level.gff3 | wc -l"
   ]
  },
  {
   "cell_type": "code",
   "execution_count": 36,
   "metadata": {
    "ExecuteTime": {
     "end_time": "2018-05-09T23:12:45.473332Z",
     "start_time": "2018-05-09T23:12:39.050685Z"
    }
   },
   "outputs": [
    {
     "name": "stdout",
     "output_type": "stream",
     "text": [
      "NC_035780.1\tGnomon\tmRNA\t28961\t33324\t.\t+\t.\tID=rna1;Parent=gene1;Dbxref=GeneID:111126949,Genbank:XM_022471938.1;Name=XM_022471938.1;gbkey=mRNA;gene=LOC111126949;model_evidence=Supporting evidence includes similarity to: 3 Proteins%2C and 100%25 coverage of the annotated genomic feature by RNAseq alignments%2C including 21 samples with support for all annotated introns;product=UNC5C-like protein;transcript_id=XM_022471938.1\r\n",
      "NC_035780.1\tGnomon\tmRNA\t43111\t66897\t.\t-\t.\tID=rna2;Parent=gene2;Dbxref=GeneID:111110729,Genbank:XM_022447324.1;Name=XM_022447324.1;gbkey=mRNA;gene=LOC111110729;model_evidence=Supporting evidence includes similarity to: 1 Protein%2C and 100%25 coverage of the annotated genomic feature by RNAseq alignments;product=FMRFamide receptor-like%2C transcript variant X1;transcript_id=XM_022447324.1\r\n",
      "NC_035780.1\tGnomon\tmRNA\t43111\t46506\t.\t-\t.\tID=rna3;Parent=gene2;Dbxref=GeneID:111110729,Genbank:XM_022447333.1;Name=XM_022447333.1;gbkey=mRNA;gene=LOC111110729;model_evidence=Supporting evidence includes similarity to: 1 Protein%2C and 100%25 coverage of the annotated genomic feature by RNAseq alignments%2C including 14 samples with support for all annotated introns;product=FMRFamide receptor-like%2C transcript variant X2;transcript_id=XM_022447333.1\r\n",
      "NC_035780.1\tGnomon\tmRNA\t85606\t95254\t.\t-\t.\tID=rna4;Parent=gene3;Dbxref=GeneID:111112434,Genbank:XM_022449924.1;Name=XM_022449924.1;gbkey=mRNA;gene=LOC111112434;model_evidence=Supporting evidence includes similarity to: 7 Proteins%2C and 100%25 coverage of the annotated genomic feature by RNAseq alignments%2C including 13 samples with support for all annotated introns;product=homeobox protein Hox-B7-like;transcript_id=XM_022449924.1\r\n",
      "NC_035780.1\tGnomon\tmRNA\t99840\t106460\t.\t+\t.\tID=rna5;Parent=gene4;Dbxref=GeneID:111120752,Genbank:XM_022461698.1;Name=XM_022461698.1;gbkey=mRNA;gene=LOC111120752;model_evidence=Supporting evidence includes similarity to: 10 Proteins%2C and 100%25 coverage of the annotated genomic feature by RNAseq alignments%2C including 27 samples with support for all annotated introns;product=ribulose-phosphate 3-epimerase-like;transcript_id=XM_022461698.1\r\n",
      "NC_035780.1\tGnomon\tmRNA\t108305\t110077\t.\t-\t.\tID=rna6;Parent=gene5;Dbxref=GeneID:111128944,Genbank:XM_022474921.1;Name=XM_022474921.1;gbkey=mRNA;gene=LOC111128944;model_evidence=Supporting evidence includes similarity to: 2 Proteins%2C and 93%25 coverage of the annotated genomic feature by RNAseq alignments;partial=true;product=mucin-19-like;start_range=.,108305;transcript_id=XM_022474921.1\r\n",
      "NC_035780.1\tGnomon\tmRNA\t151859\t157536\t.\t+\t.\tID=rna7;Parent=gene6;Dbxref=GeneID:111128953,Genbank:XM_022474931.1;Name=XM_022474931.1;gbkey=mRNA;gene=LOC111128953;model_evidence=Supporting evidence includes similarity to: 1 Protein;product=GATA zinc finger domain-containing protein 14-like;transcript_id=XM_022474931.1\r\n",
      "NC_035780.1\tGnomon\tmRNA\t163809\t183798\t.\t-\t.\tID=rna8;Parent=gene7;Dbxref=GeneID:111105691,Genbank:XM_022440054.1;Name=XM_022440054.1;gbkey=mRNA;gene=LOC111105691;model_evidence=Supporting evidence includes similarity to: 100%25 coverage of the annotated genomic feature by RNAseq alignments%2C including 9 samples with support for all annotated introns;product=uncharacterized LOC111105691;transcript_id=XM_022440054.1\r\n",
      "NC_035780.1\tGnomon\tmRNA\t164820\t166793\t.\t+\t.\tID=rna9;Parent=gene8;Dbxref=GeneID:111105685,Genbank:XM_022440042.1;Name=XM_022440042.1;gbkey=mRNA;gene=LOC111105685;model_evidence=Supporting evidence includes similarity to: 100%25 coverage of the annotated genomic feature by RNAseq alignments%2C including 4 samples with support for all annotated introns;product=protein ANTAGONIST OF LIKE HETEROCHROMATIN PROTEIN 1-like;transcript_id=XM_022440042.1\r\n",
      "NC_035780.1\tGnomon\tmRNA\t190449\t193594\t.\t-\t.\tID=rna11;Parent=gene10;Dbxref=GeneID:111133554,Genbank:XM_022482070.1;Name=XM_022482070.1;gbkey=mRNA;gene=LOC111133554;model_evidence=Supporting evidence includes similarity to: 100%25 coverage of the annotated genomic feature by RNAseq alignments%2C including 3 samples with support for all annotated introns;product=putative uncharacterized protein DDB_G0277407;transcript_id=XM_022482070.1\r\n"
     ]
    }
   ],
   "source": [
    "!fgrep \"Gnomon\tmRNA\" ref_C_virginica-3.0_top_level.gff3 | head"
   ]
  },
  {
   "cell_type": "code",
   "execution_count": null,
   "metadata": {
    "ExecuteTime": {
     "end_time": "2018-05-09T22:52:15.951465Z",
     "start_time": "2018-05-09T22:51:37.382575Z"
    }
   },
   "outputs": [],
   "source": [
    "!fgrep \"CDS\" ref_C_virginica-3.0_top_level.gff3"
   ]
  },
  {
   "cell_type": "code",
   "execution_count": 19,
   "metadata": {
    "ExecuteTime": {
     "end_time": "2018-05-09T22:52:31.287229Z",
     "start_time": "2018-05-09T22:52:25.097927Z"
    }
   },
   "outputs": [
    {
     "name": "stdout",
     "output_type": "stream",
     "text": [
      "   38929\r\n"
     ]
    }
   ],
   "source": [
    "!fgrep \"Gnomon\tgene\" ref_C_virginica-3.0_top_level.gff3 | wc -l"
   ]
  },
  {
   "cell_type": "code",
   "execution_count": 35,
   "metadata": {
    "ExecuteTime": {
     "end_time": "2018-05-09T23:11:56.366304Z",
     "start_time": "2018-05-09T23:11:49.845977Z"
    }
   },
   "outputs": [
    {
     "name": "stdout",
     "output_type": "stream",
     "text": [
      "NC_035789.1\tGnomon\tgene\t32442380\t32443400\t.\t+\t.\tID=gene39483;Dbxref=GeneID:111116951;Name=LOC111116951;gbkey=Gene;gene=LOC111116951;gene_biotype=protein_coding\r\n",
      "NC_035789.1\tGnomon\tgene\t32447081\t32447884\t.\t-\t.\tID=gene39484;Dbxref=GeneID:111116605;Name=LOC111116605;gbkey=Gene;gene=LOC111116605;gene_biotype=protein_coding\r\n",
      "NC_035789.1\tGnomon\tgene\t32455028\t32455837\t.\t-\t.\tID=gene39485;Dbxref=GeneID:111116846;Name=LOC111116846;gbkey=Gene;gene=LOC111116846;gene_biotype=protein_coding\r\n",
      "NC_035789.1\tGnomon\tgene\t32455885\t32459752\t.\t-\t.\tID=gene39486;Dbxref=GeneID:111116606;Name=LOC111116606;gbkey=Gene;gene=LOC111116606;gene_biotype=protein_coding\r\n",
      "NC_035789.1\tGnomon\tgene\t32474302\t32477024\t.\t-\t.\tID=gene39487;Dbxref=GeneID:111117860;Name=LOC111117860;gbkey=Gene;gene=LOC111117860;gene_biotype=protein_coding\r\n",
      "NC_035789.1\tGnomon\tgene\t32503184\t32507691\t.\t-\t.\tID=gene39488;Dbxref=GeneID:111116849;Name=LOC111116849;gbkey=Gene;gene=LOC111116849;gene_biotype=protein_coding\r\n",
      "NC_035789.1\tGnomon\tgene\t32512761\t32528899\t.\t-\t.\tID=gene39489;Dbxref=GeneID:111117715;Name=LOC111117715;gbkey=Gene;gene=LOC111117715;gene_biotype=protein_coding\r\n",
      "NC_035789.1\tGnomon\tgene\t32621978\t32627095\t.\t-\t.\tID=gene39490;Dbxref=GeneID:111117691;Name=LOC111117691;gbkey=Gene;gene=LOC111117691;gene_biotype=protein_coding\r\n",
      "NC_035789.1\tGnomon\tgene\t32631172\t32632314\t.\t-\t.\tID=gene39491;Dbxref=GeneID:111117482;Name=LOC111117482;gbkey=Gene;gene=LOC111117482;gene_biotype=lncRNA\r\n",
      "NC_035789.1\tGnomon\tgene\t32641298\t32642068\t.\t+\t.\tID=gene39492;Dbxref=GeneID:111116608;Name=LOC111116608;gbkey=Gene;gene=LOC111116608;gene_biotype=protein_coding\r\n"
     ]
    }
   ],
   "source": [
    "!fgrep \"Gnomon\tgene\" ref_C_virginica-3.0_top_level.gff3 | tail"
   ]
  },
  {
   "cell_type": "code",
   "execution_count": 22,
   "metadata": {
    "ExecuteTime": {
     "end_time": "2018-05-09T22:53:29.796703Z",
     "start_time": "2018-05-09T22:53:23.638895Z"
    }
   },
   "outputs": [
    {
     "name": "stdout",
     "output_type": "stream",
     "text": [
      "NC_035780.1\tGnomon\tmRNA\t28961\t33324\t.\t+\t.\tID=rna1;Parent=gene1;Dbxref=GeneID:111126949,Genbank:XM_022471938.1;Name=XM_022471938.1;gbkey=mRNA;gene=LOC111126949;model_evidence=Supporting evidence includes similarity to: 3 Proteins%2C and 100%25 coverage of the annotated genomic feature by RNAseq alignments%2C including 21 samples with support for all annotated introns;product=UNC5C-like protein;transcript_id=XM_022471938.1\r\n",
      "NC_035780.1\tGnomon\tmRNA\t43111\t66897\t.\t-\t.\tID=rna2;Parent=gene2;Dbxref=GeneID:111110729,Genbank:XM_022447324.1;Name=XM_022447324.1;gbkey=mRNA;gene=LOC111110729;model_evidence=Supporting evidence includes similarity to: 1 Protein%2C and 100%25 coverage of the annotated genomic feature by RNAseq alignments;product=FMRFamide receptor-like%2C transcript variant X1;transcript_id=XM_022447324.1\r\n",
      "NC_035780.1\tGnomon\tmRNA\t43111\t46506\t.\t-\t.\tID=rna3;Parent=gene2;Dbxref=GeneID:111110729,Genbank:XM_022447333.1;Name=XM_022447333.1;gbkey=mRNA;gene=LOC111110729;model_evidence=Supporting evidence includes similarity to: 1 Protein%2C and 100%25 coverage of the annotated genomic feature by RNAseq alignments%2C including 14 samples with support for all annotated introns;product=FMRFamide receptor-like%2C transcript variant X2;transcript_id=XM_022447333.1\r\n",
      "NC_035780.1\tGnomon\tmRNA\t85606\t95254\t.\t-\t.\tID=rna4;Parent=gene3;Dbxref=GeneID:111112434,Genbank:XM_022449924.1;Name=XM_022449924.1;gbkey=mRNA;gene=LOC111112434;model_evidence=Supporting evidence includes similarity to: 7 Proteins%2C and 100%25 coverage of the annotated genomic feature by RNAseq alignments%2C including 13 samples with support for all annotated introns;product=homeobox protein Hox-B7-like;transcript_id=XM_022449924.1\r\n",
      "NC_035780.1\tGnomon\tmRNA\t99840\t106460\t.\t+\t.\tID=rna5;Parent=gene4;Dbxref=GeneID:111120752,Genbank:XM_022461698.1;Name=XM_022461698.1;gbkey=mRNA;gene=LOC111120752;model_evidence=Supporting evidence includes similarity to: 10 Proteins%2C and 100%25 coverage of the annotated genomic feature by RNAseq alignments%2C including 27 samples with support for all annotated introns;product=ribulose-phosphate 3-epimerase-like;transcript_id=XM_022461698.1\r\n",
      "NC_035780.1\tGnomon\tmRNA\t108305\t110077\t.\t-\t.\tID=rna6;Parent=gene5;Dbxref=GeneID:111128944,Genbank:XM_022474921.1;Name=XM_022474921.1;gbkey=mRNA;gene=LOC111128944;model_evidence=Supporting evidence includes similarity to: 2 Proteins%2C and 93%25 coverage of the annotated genomic feature by RNAseq alignments;partial=true;product=mucin-19-like;start_range=.,108305;transcript_id=XM_022474921.1\r\n",
      "NC_035780.1\tGnomon\tmRNA\t151859\t157536\t.\t+\t.\tID=rna7;Parent=gene6;Dbxref=GeneID:111128953,Genbank:XM_022474931.1;Name=XM_022474931.1;gbkey=mRNA;gene=LOC111128953;model_evidence=Supporting evidence includes similarity to: 1 Protein;product=GATA zinc finger domain-containing protein 14-like;transcript_id=XM_022474931.1\r\n",
      "NC_035780.1\tGnomon\tmRNA\t163809\t183798\t.\t-\t.\tID=rna8;Parent=gene7;Dbxref=GeneID:111105691,Genbank:XM_022440054.1;Name=XM_022440054.1;gbkey=mRNA;gene=LOC111105691;model_evidence=Supporting evidence includes similarity to: 100%25 coverage of the annotated genomic feature by RNAseq alignments%2C including 9 samples with support for all annotated introns;product=uncharacterized LOC111105691;transcript_id=XM_022440054.1\r\n",
      "NC_035780.1\tGnomon\tmRNA\t164820\t166793\t.\t+\t.\tID=rna9;Parent=gene8;Dbxref=GeneID:111105685,Genbank:XM_022440042.1;Name=XM_022440042.1;gbkey=mRNA;gene=LOC111105685;model_evidence=Supporting evidence includes similarity to: 100%25 coverage of the annotated genomic feature by RNAseq alignments%2C including 4 samples with support for all annotated introns;product=protein ANTAGONIST OF LIKE HETEROCHROMATIN PROTEIN 1-like;transcript_id=XM_022440042.1\r\n",
      "NC_035780.1\tGnomon\tmRNA\t190449\t193594\t.\t-\t.\tID=rna11;Parent=gene10;Dbxref=GeneID:111133554,Genbank:XM_022482070.1;Name=XM_022482070.1;gbkey=mRNA;gene=LOC111133554;model_evidence=Supporting evidence includes similarity to: 100%25 coverage of the annotated genomic feature by RNAseq alignments%2C including 3 samples with support for all annotated introns;product=putative uncharacterized protein DDB_G0277407;transcript_id=XM_022482070.1\r\n"
     ]
    }
   ],
   "source": [
    "!fgrep \"Gnomon\tmRNA\" ref_C_virginica-3.0_top_level.gff3 | head"
   ]
  },
  {
   "cell_type": "code",
   "execution_count": 25,
   "metadata": {
    "ExecuteTime": {
     "end_time": "2018-05-09T23:00:25.247643Z",
     "start_time": "2018-05-09T23:00:25.109941Z"
    }
   },
   "outputs": [
    {
     "name": "stdout",
     "output_type": "stream",
     "text": [
      "\r\n",
      "Tool:    bedtools intersect (aka intersectBed)\r\n",
      "Version: v2.27.1\r\n",
      "Summary: Report overlaps between two feature files.\r\n",
      "\r\n",
      "Usage:   bedtools intersect [OPTIONS] -a <bed/gff/vcf/bam> -b <bed/gff/vcf/bam>\r\n",
      "\r\n",
      "\tNote: -b may be followed with multiple databases and/or \r\n",
      "\twildcard (*) character(s). \r\n",
      "Options: \r\n",
      "\t-wa\tWrite the original entry in A for each overlap.\r\n",
      "\r\n",
      "\t-wb\tWrite the original entry in B for each overlap.\r\n",
      "\t\t- Useful for knowing _what_ A overlaps. Restricted by -f and -r.\r\n",
      "\r\n",
      "\t-loj\tPerform a \"left outer join\". That is, for each feature in A\r\n",
      "\t\treport each overlap with B.  If no overlaps are found, \r\n",
      "\t\treport a NULL feature for B.\r\n",
      "\r\n",
      "\t-wo\tWrite the original A and B entries plus the number of base\r\n",
      "\t\tpairs of overlap between the two features.\r\n",
      "\t\t- Overlaps restricted by -f and -r.\r\n",
      "\t\t  Only A features with overlap are reported.\r\n",
      "\r\n",
      "\t-wao\tWrite the original A and B entries plus the number of base\r\n",
      "\t\tpairs of overlap between the two features.\r\n",
      "\t\t- Overlapping features restricted by -f and -r.\r\n",
      "\t\t  However, A features w/o overlap are also reported\r\n",
      "\t\t  with a NULL B feature and overlap = 0.\r\n",
      "\r\n",
      "\t-u\tWrite the original A entry _once_ if _any_ overlaps found in B.\r\n",
      "\t\t- In other words, just report the fact >=1 hit was found.\r\n",
      "\t\t- Overlaps restricted by -f and -r.\r\n",
      "\r\n",
      "\t-c\tFor each entry in A, report the number of overlaps with B.\r\n",
      "\t\t- Reports 0 for A entries that have no overlap with B.\r\n",
      "\t\t- Overlaps restricted by -f and -r.\r\n",
      "\r\n",
      "\t-v\tOnly report those entries in A that have _no overlaps_ with B.\r\n",
      "\t\t- Similar to \"grep -v\" (an homage).\r\n",
      "\r\n",
      "\t-ubam\tWrite uncompressed BAM output. Default writes compressed BAM.\r\n",
      "\r\n",
      "\t-s\tRequire same strandedness.  That is, only report hits in B\r\n",
      "\t\tthat overlap A on the _same_ strand.\r\n",
      "\t\t- By default, overlaps are reported without respect to strand.\r\n",
      "\r\n",
      "\t-S\tRequire different strandedness.  That is, only report hits in B\r\n",
      "\t\tthat overlap A on the _opposite_ strand.\r\n",
      "\t\t- By default, overlaps are reported without respect to strand.\r\n",
      "\r\n",
      "\t-f\tMinimum overlap required as a fraction of A.\r\n",
      "\t\t- Default is 1E-9 (i.e., 1bp).\r\n",
      "\t\t- FLOAT (e.g. 0.50)\r\n",
      "\r\n",
      "\t-F\tMinimum overlap required as a fraction of B.\r\n",
      "\t\t- Default is 1E-9 (i.e., 1bp).\r\n",
      "\t\t- FLOAT (e.g. 0.50)\r\n",
      "\r\n",
      "\t-r\tRequire that the fraction overlap be reciprocal for A AND B.\r\n",
      "\t\t- In other words, if -f is 0.90 and -r is used, this requires\r\n",
      "\t\t  that B overlap 90% of A and A _also_ overlaps 90% of B.\r\n",
      "\r\n",
      "\t-e\tRequire that the minimum fraction be satisfied for A OR B.\r\n",
      "\t\t- In other words, if -e is used with -f 0.90 and -F 0.10 this requires\r\n",
      "\t\t  that either 90% of A is covered OR 10% of  B is covered.\r\n",
      "\t\t  Without -e, both fractions would have to be satisfied.\r\n",
      "\r\n",
      "\t-split\tTreat \"split\" BAM or BED12 entries as distinct BED intervals.\r\n",
      "\r\n",
      "\t-g\tProvide a genome file to enforce consistent chromosome sort order\r\n",
      "\t\tacross input files. Only applies when used with -sorted option.\r\n",
      "\r\n",
      "\t-nonamecheck\tFor sorted data, don't throw an error if the file has different naming conventions\r\n",
      "\t\t\tfor the same chromosome. ex. \"chr1\" vs \"chr01\".\r\n",
      "\r\n",
      "\t-sorted\tUse the \"chromsweep\" algorithm for sorted (-k1,1 -k2,2n) input.\r\n",
      "\r\n",
      "\t-names\tWhen using multiple databases, provide an alias for each that\r\n",
      "\t\twill appear instead of a fileId when also printing the DB record.\r\n",
      "\r\n",
      "\t-filenames\tWhen using multiple databases, show each complete filename\r\n",
      "\t\t\tinstead of a fileId when also printing the DB record.\r\n",
      "\r\n",
      "\t-sortout\tWhen using multiple databases, sort the output DB hits\r\n",
      "\t\t\tfor each record.\r\n",
      "\r\n",
      "\t-bed\tIf using BAM input, write output as BED.\r\n",
      "\r\n",
      "\t-header\tPrint the header from the A file prior to results.\r\n",
      "\r\n",
      "\t-nobuf\tDisable buffered output. Using this option will cause each line\r\n",
      "\t\tof output to be printed as it is generated, rather than saved\r\n",
      "\t\tin a buffer. This will make printing large output files \r\n",
      "\t\tnoticeably slower, but can be useful in conjunction with\r\n",
      "\t\tother software tools and scripts that need to process one\r\n",
      "\t\tline of bedtools output at a time.\r\n",
      "\r\n",
      "\t-iobuf\tSpecify amount of memory to use for input buffer.\r\n",
      "\t\tTakes an integer argument. Optional suffixes K/M/G supported.\r\n",
      "\t\tNote: currently has no effect with compressed files.\r\n",
      "\r\n",
      "Notes: \r\n",
      "\t(1) When a BAM file is used for the A file, the alignment is retained if overlaps exist,\r\n",
      "\tand excluded if an overlap cannot be found.  If multiple overlaps exist, they are not\r\n",
      "\treported, as we are only testing for one or more overlaps.\r\n",
      "\r\n",
      "\r\n",
      "\r\n",
      "\r\n",
      "***** ERROR: No input file given. Exiting. *****\r\n"
     ]
    }
   ],
   "source": [
    "!/Applications/bioinfo/bedtools2/bin/intersectBed"
   ]
  },
  {
   "cell_type": "code",
   "execution_count": 26,
   "metadata": {
    "ExecuteTime": {
     "end_time": "2018-05-09T23:05:32.027568Z",
     "start_time": "2018-05-09T23:05:31.883941Z"
    }
   },
   "outputs": [
    {
     "name": "stdout",
     "output_type": "stream",
     "text": [
      "meth_diff_50.bed                    ref_C_virginica-3.0_top_level.gff3\r\n",
      "protein.fa.gz                       rna.fa.gz\r\n"
     ]
    }
   ],
   "source": [
    "ls"
   ]
  },
  {
   "cell_type": "code",
   "execution_count": 28,
   "metadata": {
    "ExecuteTime": {
     "end_time": "2018-05-09T23:06:29.127793Z",
     "start_time": "2018-05-09T23:06:24.043763Z"
    }
   },
   "outputs": [
    {
     "name": "stdout",
     "output_type": "stream",
     "text": [
      "NC_035780.1\t346071\t346073\r\n",
      "NC_035780.1\t990995\t990997\r\n",
      "NC_035780.1\t1958998\t1959000\r\n",
      "NC_035780.1\t2541726\t2541728\r\n",
      "NC_035780.1\t2584491\t2584493\r\n",
      "NC_035780.1\t2586508\t2586510\r\n",
      "NC_035780.1\t2588793\t2588795\r\n",
      "NC_035780.1\t2588794\t2588796\r\n",
      "NC_035780.1\t2589720\t2589722\r\n",
      "NC_035780.1\t4286285\t4286287\r\n"
     ]
    }
   ],
   "source": [
    "!/Applications/bioinfo/bedtools2/bin/intersectBed \\\n",
    "-u \\\n",
    "-a meth_diff_50.bed \\\n",
    "-b ref_C_virginica-3.0_top_level.gff3 | head"
   ]
  },
  {
   "cell_type": "code",
   "execution_count": 48,
   "metadata": {
    "ExecuteTime": {
     "end_time": "2018-05-09T23:19:15.154028Z",
     "start_time": "2018-05-09T23:19:11.750000Z"
    }
   },
   "outputs": [],
   "source": [
    "!/Applications/bioinfo/bedtools2/bin/intersectBed \\\n",
    "-u \\\n",
    "-a ref_C_virginica-3.0_top_level.gff3 \\\n",
    "-b meth_diff_50.bed | fgrep \"Gnomon\tmRNA\" > Gnomon_mRNA-meth50.tab"
   ]
  },
  {
   "cell_type": "code",
   "execution_count": 49,
   "metadata": {
    "ExecuteTime": {
     "end_time": "2018-05-09T23:19:15.294649Z",
     "start_time": "2018-05-09T23:19:15.161547Z"
    }
   },
   "outputs": [
    {
     "name": "stdout",
     "output_type": "stream",
     "text": [
      "NC_035780.1\tGnomon\tmRNA\t341638\t349379\t.\t-\t.\tID=rna30;Parent=gene22;Dbxref=GeneID:111113503,Genbank:XM_022451800.1;Name=XM_022451800.1;gbkey=mRNA;gene=LOC111113503;model_evidence=Supporting evidence includes similarity to: 4 Proteins%2C and 100%25 coverage of the annotated genomic feature by RNAseq alignments%2C including 2 samples with support for all annotated introns;product=F-box only protein 47-like;transcript_id=XM_022451800.1\r\n",
      "NC_035780.1\tGnomon\tmRNA\t984471\t995318\t.\t-\t.\tID=rna117;Parent=gene66;Dbxref=GeneID:111137104,Genbank:XM_022488366.1;Name=XM_022488366.1;gbkey=mRNA;gene=LOC111137104;model_evidence=Supporting evidence includes similarity to: 1 EST%2C 3 Proteins%2C and 99%25 coverage of the annotated genomic feature by RNAseq alignments;product=SWI/SNF complex subunit SMARCC2-like;transcript_id=XM_022488366.1\r\n",
      "NC_035780.1\tGnomon\tmRNA\t1955555\t1981097\t.\t-\t.\tID=rna162;Parent=gene100;Dbxref=GeneID:111128971,Genbank:XM_022474964.1;Name=XM_022474964.1;gbkey=mRNA;gene=LOC111128971;model_evidence=Supporting evidence includes similarity to: 26 Proteins%2C and 100%25 coverage of the annotated genomic feature by RNAseq alignments%2C including 13 samples with support for all annotated introns;product=double-stranded RNA-specific editase 1-like%2C transcript variant X2;transcript_id=XM_022474964.1\r\n",
      "NC_035780.1\tGnomon\tmRNA\t1955555\t1981072\t.\t-\t.\tID=rna163;Parent=gene100;Dbxref=GeneID:111128971,Genbank:XM_022474974.1;Name=XM_022474974.1;gbkey=mRNA;gene=LOC111128971;model_evidence=Supporting evidence includes similarity to: 26 Proteins%2C and 100%25 coverage of the annotated genomic feature by RNAseq alignments%2C including 8 samples with support for all annotated introns;product=double-stranded RNA-specific editase 1-like%2C transcript variant X3;transcript_id=XM_022474974.1\r\n",
      "NC_035780.1\tGnomon\tmRNA\t1955555\t1981063\t.\t-\t.\tID=rna164;Parent=gene100;Dbxref=GeneID:111128971,Genbank:XM_022474955.1;Name=XM_022474955.1;gbkey=mRNA;gene=LOC111128971;model_evidence=Supporting evidence includes similarity to: 26 Proteins%2C and 100%25 coverage of the annotated genomic feature by RNAseq alignments%2C including 8 samples with support for all annotated introns;product=double-stranded RNA-specific editase 1-like%2C transcript variant X1;transcript_id=XM_022474955.1\r\n",
      "NC_035780.1\tGnomon\tmRNA\t1955555\t1968539\t.\t-\t.\tID=rna165;Parent=gene100;Dbxref=GeneID:111128971,Genbank:XM_022474984.1;Name=XM_022474984.1;gbkey=mRNA;gene=LOC111128971;model_evidence=Supporting evidence includes similarity to: 24 Proteins%2C and 100%25 coverage of the annotated genomic feature by RNAseq alignments%2C including 15 samples with support for all annotated introns;product=double-stranded RNA-specific editase 1-like%2C transcript variant X4;transcript_id=XM_022474984.1\r\n",
      "NC_035780.1\tGnomon\tmRNA\t1955555\t1965769\t.\t-\t.\tID=rna166;Parent=gene100;Dbxref=GeneID:111128971,Genbank:XM_022474991.1;Name=XM_022474991.1;gbkey=mRNA;gene=LOC111128971;model_evidence=Supporting evidence includes similarity to: 24 Proteins%2C and 100%25 coverage of the annotated genomic feature by RNAseq alignments%2C including 13 samples with support for all annotated introns;product=double-stranded RNA-specific editase 1-like%2C transcript variant X5;transcript_id=XM_022474991.1\r\n",
      "NC_035780.1\tGnomon\tmRNA\t1955555\t1961628\t.\t-\t.\tID=rna167;Parent=gene100;Dbxref=GeneID:111128971,Genbank:XM_022475001.1;Name=XM_022475001.1;gbkey=mRNA;gene=LOC111128971;model_evidence=Supporting evidence includes similarity to: 24 Proteins%2C and 100%25 coverage of the annotated genomic feature by RNAseq alignments%2C including 9 samples with support for all annotated introns;product=double-stranded RNA-specific editase 1-like%2C transcript variant X6;transcript_id=XM_022475001.1\r\n",
      "NC_035780.1\tGnomon\tmRNA\t2524425\t2553408\t.\t-\t.\tID=rna215;Parent=gene130;Dbxref=GeneID:111131682,Genbank:XM_022479322.1;Name=XM_022479322.1;gbkey=mRNA;gene=LOC111131682;model_evidence=Supporting evidence includes similarity to: 14 Proteins%2C and 100%25 coverage of the annotated genomic feature by RNAseq alignments%2C including 13 samples with support for all annotated introns;product=oxysterol-binding protein-related protein 8-like%2C transcript variant X1;transcript_id=XM_022479322.1\r\n",
      "NC_035780.1\tGnomon\tmRNA\t2524425\t2547989\t.\t-\t.\tID=rna216;Parent=gene130;Dbxref=GeneID:111131682,Genbank:XM_022479346.1;Name=XM_022479346.1;gbkey=mRNA;gene=LOC111131682;model_evidence=Supporting evidence includes similarity to: 14 Proteins%2C and 100%25 coverage of the annotated genomic feature by RNAseq alignments%2C including 24 samples with support for all annotated introns;product=oxysterol-binding protein-related protein 8-like%2C transcript variant X4;transcript_id=XM_022479346.1\r\n"
     ]
    }
   ],
   "source": [
    "!head Gnomon_mRNA-meth50.tab"
   ]
  },
  {
   "cell_type": "code",
   "execution_count": 32,
   "metadata": {
    "ExecuteTime": {
     "end_time": "2018-05-09T23:10:20.992891Z",
     "start_time": "2018-05-09T23:10:20.623219Z"
    }
   },
   "outputs": [
    {
     "name": "stdout",
     "output_type": "stream",
     "text": [
      "   60213\r\n"
     ]
    }
   ],
   "source": [
    "!fgrep \">\" protein.fa | wc -l"
   ]
  },
  {
   "cell_type": "code",
   "execution_count": 51,
   "metadata": {
    "ExecuteTime": {
     "end_time": "2018-05-11T15:36:18.370888Z",
     "start_time": "2018-05-11T15:36:18.006906Z"
    }
   },
   "outputs": [
    {
     "name": "stdout",
     "output_type": "stream",
     "text": [
      "60213\r\n"
     ]
    }
   ],
   "source": [
    "!fgrep -c \">\" protein.fa "
   ]
  },
  {
   "cell_type": "code",
   "execution_count": 52,
   "metadata": {
    "ExecuteTime": {
     "end_time": "2018-05-11T15:36:53.114361Z",
     "start_time": "2018-05-11T15:36:52.979580Z"
    }
   },
   "outputs": [
    {
     "name": "stdout",
     "output_type": "stream",
     "text": [
      "meth_diff_50.bed                        ref_C_virginica-3.0_top_level.gff3\r\n",
      "protein.fa                              ref_C_virginica-3.0_top_level.gff3.zip\r\n",
      "protein.fa.gz                           rna.fa.gz\r\n"
     ]
    }
   ],
   "source": [
    "ls"
   ]
  },
  {
   "cell_type": "code",
   "execution_count": 53,
   "metadata": {
    "ExecuteTime": {
     "end_time": "2018-05-11T15:37:31.513215Z",
     "start_time": "2018-05-11T15:37:30.855245Z"
    }
   },
   "outputs": [],
   "source": [
    "!gunzip rna.fa.gz"
   ]
  },
  {
   "cell_type": "code",
   "execution_count": 54,
   "metadata": {
    "ExecuteTime": {
     "end_time": "2018-05-11T15:37:45.718130Z",
     "start_time": "2018-05-11T15:37:44.646072Z"
    }
   },
   "outputs": [
    {
     "name": "stdout",
     "output_type": "stream",
     "text": [
      "66625\r\n"
     ]
    }
   ],
   "source": [
    "!fgrep -c \">\" rna.fa"
   ]
  },
  {
   "cell_type": "markdown",
   "metadata": {},
   "source": [
    "# There are 60213 proteins"
   ]
  },
  {
   "cell_type": "code",
   "execution_count": 55,
   "metadata": {
    "ExecuteTime": {
     "end_time": "2018-05-11T15:38:41.641498Z",
     "start_time": "2018-05-11T15:38:41.061243Z"
    }
   },
   "outputs": [
    {
     "name": "stdout",
     "output_type": "stream",
     "text": [
      " 1513302 ref_C_virginica-3.0_top_level.gff3\r\n"
     ]
    }
   ],
   "source": [
    "!wc -l ref_C_virginica-3.0_top_level.gff3"
   ]
  },
  {
   "cell_type": "code",
   "execution_count": 57,
   "metadata": {
    "ExecuteTime": {
     "end_time": "2018-05-11T15:39:06.422733Z",
     "start_time": "2018-05-11T15:39:06.163868Z"
    }
   },
   "outputs": [
    {
     "name": "stdout",
     "output_type": "stream",
     "text": [
      "NC_007175.2\tRefSeq\texon\t17177\t17243\t.\t+\t.\tID=id731926;Parent=rna67213;anticodon=(pos:17207..17209);gbkey=tRNA;product=tRNA-Trp\r\n",
      "###\r\n"
     ]
    }
   ],
   "source": [
    "!tail -2 ref_C_virginica-3.0_top_level.gff3"
   ]
  },
  {
   "cell_type": "code",
   "execution_count": 58,
   "metadata": {
    "ExecuteTime": {
     "end_time": "2018-05-11T15:41:11.508549Z",
     "start_time": "2018-05-11T15:40:41.366013Z"
    }
   },
   "outputs": [
    {
     "name": "stdout",
     "output_type": "stream",
     "text": [
      "   1 #!annotation-date 14 September 2017\n",
      "   1 #!annotation-source NCBI Crassostrea virginica Annotation Release 100\n",
      "   1 #!genome-build C_virginica-3.0\n",
      "   1 #!genome-build-accession NCBI_Assembly:GCF_002022765.2\n",
      "   1 #!gff-spec-version 1.21\n",
      "   1 #!processor NCBI annotwriter\n",
      "   1 ###\n",
      "   1 ##gff-version 3\n",
      "   1 ##sequence-region NC_007175.2 1 17244\n",
      "   1 ##sequence-region NC_035780.1 1 65668440\n",
      "   1 ##sequence-region NC_035781.1 1 61752955\n",
      "   1 ##sequence-region NC_035782.1 1 77061148\n",
      "   1 ##sequence-region NC_035783.1 1 59691872\n",
      "   1 ##sequence-region NC_035784.1 1 98698416\n",
      "   1 ##sequence-region NC_035785.1 1 51258098\n",
      "   1 ##sequence-region NC_035786.1 1 57830854\n",
      "   1 ##sequence-region NC_035787.1 1 75944018\n",
      "   1 ##sequence-region NC_035788.1 1 104168038\n",
      "   1 ##sequence-region NC_035789.1 1 32650045\n",
      "  11 ##species https://www.ncbi.nlm.nih.gov/Taxonomy/Browser/wwwtax.cgi?id=6565\n",
      "1482188 Gnomon\n",
      "29345 RefSeq\n",
      "1739 tRNAscan-SE\n"
     ]
    }
   ],
   "source": [
    "!cut -f2 ref_C_virginica-3.0_top_level.gff3 | sort | uniq -c\n",
    "\n"
   ]
  },
  {
   "cell_type": "code",
   "execution_count": 61,
   "metadata": {
    "ExecuteTime": {
     "end_time": "2018-05-11T15:43:19.732137Z",
     "start_time": "2018-05-11T15:42:46.778951Z"
    }
   },
   "outputs": [
    {
     "name": "stdout",
     "output_type": "stream",
     "text": [
      "tRNAscan-SE\r\n",
      "tRNAscan-SE\r\n",
      "tRNAscan-SE\r\n",
      "tRNAscan-SE\r\n",
      "tRNAscan-SE\r\n",
      "tRNAscan-SE\r\n",
      "tRNAscan-SE\r\n",
      "tRNAscan-SE\r\n",
      "tRNAscan-SE\r\n",
      "tRNAscan-SE\r\n"
     ]
    }
   ],
   "source": [
    "!cut -f2 ref_C_virginica-3.0_top_level.gff3 | sort | tail\n",
    "\n"
   ]
  },
  {
   "cell_type": "code",
   "execution_count": 60,
   "metadata": {
    "ExecuteTime": {
     "end_time": "2018-05-11T15:42:46.771713Z",
     "start_time": "2018-05-11T15:42:18.066100Z"
    }
   },
   "outputs": [
    {
     "name": "stdout",
     "output_type": "stream",
     "text": [
      "   1 #!annotation-date 14 September 2017\n",
      "   1 #!annotation-source NCBI Crassostrea virginica Annotation Release 100\n",
      "   1 #!genome-build C_virginica-3.0\n",
      "   1 #!genome-build-accession NCBI_Assembly:GCF_002022765.2\n",
      "   1 #!gff-spec-version 1.21\n",
      "   1 #!processor NCBI annotwriter\n",
      "   1 ###\n",
      "   1 ##gff-version 3\n",
      "   1 ##sequence-region NC_007175.2 1 17244\n",
      "   1 ##sequence-region NC_035780.1 1 65668440\n",
      "   1 ##sequence-region NC_035781.1 1 61752955\n",
      "   1 ##sequence-region NC_035782.1 1 77061148\n",
      "   1 ##sequence-region NC_035783.1 1 59691872\n",
      "   1 ##sequence-region NC_035784.1 1 98698416\n",
      "   1 ##sequence-region NC_035785.1 1 51258098\n",
      "   1 ##sequence-region NC_035786.1 1 57830854\n",
      "   1 ##sequence-region NC_035787.1 1 75944018\n",
      "   1 ##sequence-region NC_035788.1 1 104168038\n",
      "   1 ##sequence-region NC_035789.1 1 32650045\n",
      "  11 ##species https://www.ncbi.nlm.nih.gov/Taxonomy/Browser/wwwtax.cgi?id=6565\n",
      "645355 Gnomon\tCDS\n",
      "731279 Gnomon\texon\n",
      "38929 Gnomon\tgene\n",
      "4750 Gnomon\tlnc_RNA\n",
      "60201 Gnomon\tmRNA\n",
      "1674 Gnomon\ttranscript\n",
      "  13 RefSeq\tCDS\n",
      "29258 RefSeq\tcDNA_match\n",
      "  26 RefSeq\texon\n",
      "  12 RefSeq\tgene\n",
      "   2 RefSeq\trRNA\n",
      "  11 RefSeq\tregion\n",
      "  23 RefSeq\ttRNA\n",
      " 611 tRNAscan-SE\texon\n",
      " 564 tRNAscan-SE\tgene\n",
      " 564 tRNAscan-SE\ttRNA\n"
     ]
    }
   ],
   "source": [
    "!cut -f2,3 ref_C_virginica-3.0_top_level.gff3 | sort | uniq -c\n",
    "\n"
   ]
  },
  {
   "cell_type": "markdown",
   "metadata": {},
   "source": [
    "## GFF BREAKDOWN\n",
    "```\n",
    "645355 Gnomon\tCDS\n",
    "731279 Gnomon\texon\n",
    "38929 Gnomon\tgene\n",
    "4750 Gnomon\tlnc_RNA\n",
    "60201 Gnomon\tmRNA\n",
    "1674 Gnomon\ttranscript\n",
    "  13 RefSeq\tCDS\n",
    "29258 RefSeq\tcDNA_match\n",
    "  26 RefSeq\texon\n",
    "  12 RefSeq\tgene\n",
    "   2 RefSeq\trRNA\n",
    "  11 RefSeq\tregion\n",
    "  23 RefSeq\ttRNA\n",
    " 611 tRNAscan-SE\texon\n",
    " 564 tRNAscan-SE\tgene\n",
    " 564 tRNAscan-SE\ttRNA\n",
    "```"
   ]
  },
  {
   "cell_type": "code",
   "execution_count": 62,
   "metadata": {
    "ExecuteTime": {
     "end_time": "2018-05-11T15:45:13.932529Z",
     "start_time": "2018-05-11T15:45:13.789095Z"
    }
   },
   "outputs": [
    {
     "name": "stdout",
     "output_type": "stream",
     "text": [
      "meth_diff_50.bed                        ref_C_virginica-3.0_top_level.gff3.zip\r\n",
      "protein.fa                              rna.fa\r\n",
      "protein.fa.gz                           rna.fa.gz\r\n",
      "ref_C_virginica-3.0_top_level.gff3\r\n"
     ]
    }
   ],
   "source": [
    "ls"
   ]
  },
  {
   "cell_type": "code",
   "execution_count": 67,
   "metadata": {
    "ExecuteTime": {
     "end_time": "2018-05-11T15:52:55.103145Z",
     "start_time": "2018-05-11T15:52:48.703402Z"
    }
   },
   "outputs": [
    {
     "name": "stdout",
     "output_type": "stream",
     "text": [
      "NC_035780.1\tGnomon\tmRNA\t28961\t33324\t.\t+\t.\tID=rna1;Parent=gene1;Dbxref=GeneID:111126949,Genbank:XM_022471938.1;Name=XM_022471938.1;gbkey=mRNA;gene=LOC111126949;model_evidence=Supporting evidence includes similarity to: 3 Proteins%2C and 100%25 coverage of the annotated genomic feature by RNAseq alignments%2C including 21 samples with support for all annotated introns;product=UNC5C-like protein;transcript_id=XM_022471938.1\r\n"
     ]
    }
   ],
   "source": [
    "!fgrep \"Gnomon\tmRNA\" ref_C_virginica-3.0_top_level.gff3 | head -1"
   ]
  },
  {
   "cell_type": "code",
   "execution_count": 68,
   "metadata": {
    "ExecuteTime": {
     "end_time": "2018-05-11T15:53:01.503879Z",
     "start_time": "2018-05-11T15:52:55.109843Z"
    }
   },
   "outputs": [
    {
     "name": "stdout",
     "output_type": "stream",
     "text": [
      "NC_035780.1\tGnomon\tgene\t13578\t14594\t.\t+\t.\tID=gene0;Dbxref=GeneID:111116054;Name=LOC111116054;gbkey=Gene;gene=LOC111116054;gene_biotype=lncRNA\r\n"
     ]
    }
   ],
   "source": [
    "!fgrep \"Gnomon\tgene\" ref_C_virginica-3.0_top_level.gff3 | head -1"
   ]
  },
  {
   "cell_type": "code",
   "execution_count": 69,
   "metadata": {
    "ExecuteTime": {
     "end_time": "2018-05-11T15:53:28.180000Z",
     "start_time": "2018-05-11T15:53:28.049341Z"
    }
   },
   "outputs": [
    {
     "name": "stdout",
     "output_type": "stream",
     "text": [
      "##gff-version 3\r\n",
      "#!gff-spec-version 1.21\r\n",
      "#!processor NCBI annotwriter\r\n",
      "#!genome-build C_virginica-3.0\r\n",
      "#!genome-build-accession NCBI_Assembly:GCF_002022765.2\r\n",
      "#!annotation-date 14 September 2017\r\n",
      "#!annotation-source NCBI Crassostrea virginica Annotation Release 100\r\n",
      "##sequence-region NC_035780.1 1 65668440\r\n",
      "##species https://www.ncbi.nlm.nih.gov/Taxonomy/Browser/wwwtax.cgi?id=6565\r\n",
      "NC_035780.1\tRefSeq\tregion\t1\t65668440\t.\t+\t.\tID=id0;Dbxref=taxon:6565;Name=1;chromosome=1;collection-date=22-Mar-2015;country=USA;gbkey=Src;genome=chromosome;isolate=RU13XGHG1-28;isolation-source=Rutgers Haskin Shellfish Research Laboratory inbred lines (NJ);mol_type=genomic DNA;tissue-type=whole sample\r\n"
     ]
    }
   ],
   "source": [
    "!head ref_C_virginica-3.0_top_level.gff3"
   ]
  },
  {
   "cell_type": "code",
   "execution_count": 71,
   "metadata": {
    "ExecuteTime": {
     "end_time": "2018-05-11T15:55:33.482514Z",
     "start_time": "2018-05-11T15:55:31.603700Z"
    }
   },
   "outputs": [],
   "source": [
    "!fgrep -v '#' ref_C_virginica-3.0_top_level.gff3 > ref-nohead_C_virginica-3.0_top_level.gff3"
   ]
  },
  {
   "cell_type": "code",
   "execution_count": 72,
   "metadata": {
    "ExecuteTime": {
     "end_time": "2018-05-11T15:56:37.720164Z",
     "start_time": "2018-05-11T15:56:31.148507Z"
    }
   },
   "outputs": [],
   "source": [
    "!fgrep \"Gnomon\tgene\" ref_C_virginica-3.0_top_level.gff3 > ref_C_virginica-3.0_Gnomon_gene.gff3"
   ]
  },
  {
   "cell_type": "code",
   "execution_count": 73,
   "metadata": {
    "ExecuteTime": {
     "end_time": "2018-05-11T15:56:42.754219Z",
     "start_time": "2018-05-11T15:56:42.621829Z"
    }
   },
   "outputs": [
    {
     "name": "stdout",
     "output_type": "stream",
     "text": [
      "NC_035780.1\tGnomon\tgene\t13578\t14594\t.\t+\t.\tID=gene0;Dbxref=GeneID:111116054;Name=LOC111116054;gbkey=Gene;gene=LOC111116054;gene_biotype=lncRNA\r\n",
      "NC_035780.1\tGnomon\tgene\t28961\t33324\t.\t+\t.\tID=gene1;Dbxref=GeneID:111126949;Name=LOC111126949;gbkey=Gene;gene=LOC111126949;gene_biotype=protein_coding\r\n",
      "NC_035780.1\tGnomon\tgene\t43111\t66897\t.\t-\t.\tID=gene2;Dbxref=GeneID:111110729;Name=LOC111110729;gbkey=Gene;gene=LOC111110729;gene_biotype=protein_coding\r\n",
      "NC_035780.1\tGnomon\tgene\t85606\t95254\t.\t-\t.\tID=gene3;Dbxref=GeneID:111112434;Name=LOC111112434;gbkey=Gene;gene=LOC111112434;gene_biotype=protein_coding\r\n",
      "NC_035780.1\tGnomon\tgene\t99840\t106460\t.\t+\t.\tID=gene4;Dbxref=GeneID:111120752;Name=LOC111120752;gbkey=Gene;gene=LOC111120752;gene_biotype=protein_coding\r\n",
      "NC_035780.1\tGnomon\tgene\t108305\t110077\t.\t-\t.\tID=gene5;Dbxref=GeneID:111128944;Name=LOC111128944;gbkey=Gene;gene=LOC111128944;gene_biotype=protein_coding;partial=true;start_range=.,108305\r\n",
      "NC_035780.1\tGnomon\tgene\t151859\t157536\t.\t+\t.\tID=gene6;Dbxref=GeneID:111128953;Name=LOC111128953;gbkey=Gene;gene=LOC111128953;gene_biotype=protein_coding\r\n",
      "NC_035780.1\tGnomon\tgene\t163809\t183798\t.\t-\t.\tID=gene7;Dbxref=GeneID:111105691;Name=LOC111105691;gbkey=Gene;gene=LOC111105691;gene_biotype=protein_coding\r\n",
      "NC_035780.1\tGnomon\tgene\t164820\t166793\t.\t+\t.\tID=gene8;Dbxref=GeneID:111105685;Name=LOC111105685;gbkey=Gene;gene=LOC111105685;gene_biotype=protein_coding\r\n",
      "NC_035780.1\tGnomon\tgene\t169468\t170178\t.\t-\t.\tID=gene9;Dbxref=GeneID:111105702;Name=LOC111105702;gbkey=Gene;gene=LOC111105702;gene_biotype=lncRNA\r\n"
     ]
    }
   ],
   "source": [
    "!head ref_C_virginica-3.0_Gnomon_gene.gff3"
   ]
  },
  {
   "cell_type": "code",
   "execution_count": 74,
   "metadata": {
    "ExecuteTime": {
     "end_time": "2018-05-11T15:57:14.809376Z",
     "start_time": "2018-05-11T15:57:08.656862Z"
    }
   },
   "outputs": [],
   "source": [
    "!fgrep \"Gnomon\tmRNA\" ref_C_virginica-3.0_top_level.gff3 > ref_C_virginica-3.0_Gnomon_mRNA.gff3"
   ]
  },
  {
   "cell_type": "code",
   "execution_count": 76,
   "metadata": {
    "ExecuteTime": {
     "end_time": "2018-05-11T15:57:53.226321Z",
     "start_time": "2018-05-11T15:57:53.101520Z"
    }
   },
   "outputs": [
    {
     "name": "stdout",
     "output_type": "stream",
     "text": [
      "NC_035780.1\tGnomon\tmRNA\t28961\t33324\t.\t+\t.\tID=rna1;Parent=gene1;Dbxref=GeneID:111126949,Genbank:XM_022471938.1;Name=XM_022471938.1;gbkey=mRNA;gene=LOC111126949;model_evidence=Supporting evidence includes similarity to: 3 Proteins%2C and 100%25 coverage of the annotated genomic feature by RNAseq alignments%2C including 21 samples with support for all annotated introns;product=UNC5C-like protein;transcript_id=XM_022471938.1\r\n"
     ]
    }
   ],
   "source": [
    "!head -1 ref_C_virginica-3.0_Gnomon_mRNA.gff3 "
   ]
  },
  {
   "cell_type": "code",
   "execution_count": 77,
   "metadata": {
    "ExecuteTime": {
     "end_time": "2018-05-11T16:05:04.103455Z",
     "start_time": "2018-05-11T16:04:59.208860Z"
    }
   },
   "outputs": [],
   "source": [
    "!fgrep \"Gnomon\texon\" ref_C_virginica-3.0_top_level.gff3 > ref_C_virginica-3.0_Gnomon_exon.gff3"
   ]
  },
  {
   "cell_type": "code",
   "execution_count": 79,
   "metadata": {
    "ExecuteTime": {
     "end_time": "2018-05-11T16:06:54.662756Z",
     "start_time": "2018-05-11T16:06:47.465469Z"
    }
   },
   "outputs": [],
   "source": [
    "!fgrep \"Gnomon\tlnc_RNA\" ref_C_virginica-3.0_top_level.gff3 > ref_C_virginica-3.0_Gnomon_lnc_RNA.gff3"
   ]
  },
  {
   "cell_type": "code",
   "execution_count": 80,
   "metadata": {
    "ExecuteTime": {
     "end_time": "2018-05-11T16:08:37.414115Z",
     "start_time": "2018-05-11T16:08:33.918584Z"
    }
   },
   "outputs": [],
   "source": [
    "!fgrep \"RefSeq\tcDNA_match\" ref_C_virginica-3.0_top_level.gff3 > ref_C_virginica-3.0_RefSeq_cDNA.gff3"
   ]
  },
  {
   "cell_type": "code",
   "execution_count": null,
   "metadata": {},
   "outputs": [],
   "source": []
  }
 ],
 "metadata": {
  "kernelspec": {
   "display_name": "Python 3",
   "language": "python",
   "name": "python3"
  },
  "language_info": {
   "codemirror_mode": {
    "name": "ipython",
    "version": 3
   },
   "file_extension": ".py",
   "mimetype": "text/x-python",
   "name": "python",
   "nbconvert_exporter": "python",
   "pygments_lexer": "ipython3",
   "version": "3.6.3"
  }
 },
 "nbformat": 4,
 "nbformat_minor": 2
}
