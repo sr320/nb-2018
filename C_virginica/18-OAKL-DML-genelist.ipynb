{
 "cells": [
  {
   "cell_type": "code",
   "execution_count": null,
   "metadata": {
    "ExecuteTime": {
     "end_time": "2018-05-11T15:35:40.208108Z",
     "start_time": "2018-05-11T15:35:40.165922Z"
    }
   },
   "outputs": [],
   "source": [
    "pwd"
   ]
  },
  {
   "cell_type": "code",
   "execution_count": null,
   "metadata": {},
   "outputs": [],
   "source": [
    "cd data/"
   ]
  },
  {
   "cell_type": "code",
   "execution_count": null,
   "metadata": {
    "ExecuteTime": {
     "end_time": "2018-05-09T22:32:26.206046Z",
     "start_time": "2018-05-09T22:28:02.389093Z"
    }
   },
   "outputs": [],
   "source": [
    "!curl -O ftp://ftp.ncbi.nlm.nih.gov/genomes/Crassostrea_virginica/GFF/ref_C_virginica-3.0_top_level.gff3.gz\n"
   ]
  },
  {
   "cell_type": "code",
   "execution_count": null,
   "metadata": {
    "ExecuteTime": {
     "end_time": "2018-05-09T22:32:43.933871Z",
     "start_time": "2018-05-09T22:32:43.176376Z"
    }
   },
   "outputs": [],
   "source": [
    "!gunzip ref_C_virginica-3.0_top_level.gff3.gz"
   ]
  },
  {
   "cell_type": "code",
   "execution_count": null,
   "metadata": {
    "ExecuteTime": {
     "end_time": "2018-05-09T22:32:58.937495Z",
     "start_time": "2018-05-09T22:32:58.804274Z"
    }
   },
   "outputs": [],
   "source": [
    "!head ref_C_virginica-3.0_top_level.gff3"
   ]
  },
  {
   "cell_type": "code",
   "execution_count": null,
   "metadata": {
    "ExecuteTime": {
     "end_time": "2018-05-09T23:15:24.729374Z",
     "start_time": "2018-05-09T23:15:24.467055Z"
    }
   },
   "outputs": [],
   "source": [
    "!tail -10 ref_C_virginica-3.0_top_level.gff3"
   ]
  },
  {
   "cell_type": "code",
   "execution_count": null,
   "metadata": {
    "ExecuteTime": {
     "end_time": "2018-05-09T23:14:32.563937Z",
     "start_time": "2018-05-09T23:14:28.401347Z"
    }
   },
   "outputs": [],
   "source": [
    "!fgrep \"Gnomon\tCDS\" ref_C_virginica-3.0_top_level.gff3 | wc -l"
   ]
  },
  {
   "cell_type": "code",
   "execution_count": null,
   "metadata": {
    "ExecuteTime": {
     "end_time": "2018-05-09T22:51:31.368985Z",
     "start_time": "2018-05-09T22:51:26.350332Z"
    }
   },
   "outputs": [],
   "source": [
    "!fgrep \"mRNA\" ref_C_virginica-3.0_top_level.gff3 | wc -l"
   ]
  },
  {
   "cell_type": "code",
   "execution_count": null,
   "metadata": {
    "ExecuteTime": {
     "end_time": "2018-05-09T23:12:45.473332Z",
     "start_time": "2018-05-09T23:12:39.050685Z"
    }
   },
   "outputs": [],
   "source": [
    "!fgrep \"Gnomon\tmRNA\" ref_C_virginica-3.0_top_level.gff3 | head"
   ]
  },
  {
   "cell_type": "code",
   "execution_count": null,
   "metadata": {
    "ExecuteTime": {
     "end_time": "2018-05-09T22:52:15.951465Z",
     "start_time": "2018-05-09T22:51:37.382575Z"
    }
   },
   "outputs": [],
   "source": [
    "!fgrep \"CDS\" ref_C_virginica-3.0_top_level.gff3"
   ]
  },
  {
   "cell_type": "code",
   "execution_count": null,
   "metadata": {
    "ExecuteTime": {
     "end_time": "2018-05-09T22:52:31.287229Z",
     "start_time": "2018-05-09T22:52:25.097927Z"
    }
   },
   "outputs": [],
   "source": [
    "!fgrep \"Gnomon\tgene\" ref_C_virginica-3.0_top_level.gff3 | wc -l"
   ]
  },
  {
   "cell_type": "code",
   "execution_count": null,
   "metadata": {
    "ExecuteTime": {
     "end_time": "2018-05-09T23:11:56.366304Z",
     "start_time": "2018-05-09T23:11:49.845977Z"
    }
   },
   "outputs": [],
   "source": [
    "!fgrep \"Gnomon\tgene\" ref_C_virginica-3.0_top_level.gff3 | tail"
   ]
  },
  {
   "cell_type": "code",
   "execution_count": null,
   "metadata": {
    "ExecuteTime": {
     "end_time": "2018-05-09T22:53:29.796703Z",
     "start_time": "2018-05-09T22:53:23.638895Z"
    }
   },
   "outputs": [],
   "source": [
    "!fgrep \"Gnomon\tmRNA\" ref_C_virginica-3.0_top_level.gff3 | head"
   ]
  },
  {
   "cell_type": "code",
   "execution_count": null,
   "metadata": {
    "ExecuteTime": {
     "end_time": "2018-05-09T23:00:25.247643Z",
     "start_time": "2018-05-09T23:00:25.109941Z"
    }
   },
   "outputs": [],
   "source": [
    "!/Applications/bioinfo/bedtools2/bin/intersectBed"
   ]
  },
  {
   "cell_type": "code",
   "execution_count": null,
   "metadata": {
    "ExecuteTime": {
     "end_time": "2018-05-09T23:05:32.027568Z",
     "start_time": "2018-05-09T23:05:31.883941Z"
    }
   },
   "outputs": [],
   "source": [
    "ls"
   ]
  },
  {
   "cell_type": "code",
   "execution_count": null,
   "metadata": {
    "ExecuteTime": {
     "end_time": "2018-05-09T23:06:29.127793Z",
     "start_time": "2018-05-09T23:06:24.043763Z"
    }
   },
   "outputs": [],
   "source": [
    "!/Applications/bioinfo/bedtools2/bin/intersectBed \\\n",
    "-u \\\n",
    "-a meth_diff_50.bed \\\n",
    "-b ref_C_virginica-3.0_top_level.gff3 | head"
   ]
  },
  {
   "cell_type": "code",
   "execution_count": null,
   "metadata": {
    "ExecuteTime": {
     "end_time": "2018-05-09T23:19:15.154028Z",
     "start_time": "2018-05-09T23:19:11.750000Z"
    }
   },
   "outputs": [],
   "source": [
    "!/Applications/bioinfo/bedtools2/bin/intersectBed \\\n",
    "-u \\\n",
    "-a ref_C_virginica-3.0_top_level.gff3 \\\n",
    "-b meth_diff_50.bed | fgrep \"Gnomon\tmRNA\" > Gnomon_mRNA-meth50.tab"
   ]
  },
  {
   "cell_type": "code",
   "execution_count": null,
   "metadata": {
    "ExecuteTime": {
     "end_time": "2018-05-09T23:19:15.294649Z",
     "start_time": "2018-05-09T23:19:15.161547Z"
    }
   },
   "outputs": [],
   "source": [
    "!head Gnomon_mRNA-meth50.tab"
   ]
  },
  {
   "cell_type": "code",
   "execution_count": null,
   "metadata": {
    "ExecuteTime": {
     "end_time": "2018-05-09T23:10:20.992891Z",
     "start_time": "2018-05-09T23:10:20.623219Z"
    }
   },
   "outputs": [],
   "source": [
    "!fgrep \">\" protein.fa | wc -l"
   ]
  },
  {
   "cell_type": "code",
   "execution_count": null,
   "metadata": {
    "ExecuteTime": {
     "end_time": "2018-05-11T15:36:18.370888Z",
     "start_time": "2018-05-11T15:36:18.006906Z"
    }
   },
   "outputs": [],
   "source": [
    "!fgrep -c \">\" protein.fa "
   ]
  },
  {
   "cell_type": "code",
   "execution_count": null,
   "metadata": {
    "ExecuteTime": {
     "end_time": "2018-05-11T15:36:53.114361Z",
     "start_time": "2018-05-11T15:36:52.979580Z"
    }
   },
   "outputs": [],
   "source": [
    "ls"
   ]
  },
  {
   "cell_type": "code",
   "execution_count": null,
   "metadata": {
    "ExecuteTime": {
     "end_time": "2018-05-11T15:37:31.513215Z",
     "start_time": "2018-05-11T15:37:30.855245Z"
    }
   },
   "outputs": [],
   "source": [
    "!gunzip rna.fa.gz"
   ]
  },
  {
   "cell_type": "code",
   "execution_count": null,
   "metadata": {
    "ExecuteTime": {
     "end_time": "2018-05-11T15:37:45.718130Z",
     "start_time": "2018-05-11T15:37:44.646072Z"
    }
   },
   "outputs": [],
   "source": [
    "!fgrep -c \">\" rna.fa"
   ]
  },
  {
   "cell_type": "markdown",
   "metadata": {},
   "source": [
    "# There are 60213 proteins"
   ]
  },
  {
   "cell_type": "code",
   "execution_count": null,
   "metadata": {
    "ExecuteTime": {
     "end_time": "2018-05-11T15:38:41.641498Z",
     "start_time": "2018-05-11T15:38:41.061243Z"
    }
   },
   "outputs": [],
   "source": [
    "!wc -l ref_C_virginica-3.0_top_level.gff3"
   ]
  },
  {
   "cell_type": "code",
   "execution_count": null,
   "metadata": {
    "ExecuteTime": {
     "end_time": "2018-05-11T15:39:06.422733Z",
     "start_time": "2018-05-11T15:39:06.163868Z"
    }
   },
   "outputs": [],
   "source": [
    "!tail -2 ref_C_virginica-3.0_top_level.gff3"
   ]
  },
  {
   "cell_type": "code",
   "execution_count": null,
   "metadata": {
    "ExecuteTime": {
     "end_time": "2018-05-11T15:41:11.508549Z",
     "start_time": "2018-05-11T15:40:41.366013Z"
    }
   },
   "outputs": [],
   "source": [
    "!cut -f2 ref_C_virginica-3.0_top_level.gff3 | sort | uniq -c\n",
    "\n"
   ]
  },
  {
   "cell_type": "code",
   "execution_count": null,
   "metadata": {
    "ExecuteTime": {
     "end_time": "2018-05-11T15:43:19.732137Z",
     "start_time": "2018-05-11T15:42:46.778951Z"
    }
   },
   "outputs": [],
   "source": [
    "!cut -f2 ref_C_virginica-3.0_top_level.gff3 | sort | tail\n",
    "\n"
   ]
  },
  {
   "cell_type": "code",
   "execution_count": null,
   "metadata": {
    "ExecuteTime": {
     "end_time": "2018-05-11T15:42:46.771713Z",
     "start_time": "2018-05-11T15:42:18.066100Z"
    }
   },
   "outputs": [],
   "source": [
    "!cut -f2,3 ref_C_virginica-3.0_top_level.gff3 | sort | uniq -c\n",
    "\n"
   ]
  },
  {
   "cell_type": "markdown",
   "metadata": {},
   "source": [
    "## GFF BREAKDOWN\n",
    "```\n",
    "645355 Gnomon\tCDS\n",
    "731279 Gnomon\texon\n",
    "38929 Gnomon\tgene\n",
    "4750 Gnomon\tlnc_RNA\n",
    "60201 Gnomon\tmRNA\n",
    "1674 Gnomon\ttranscript\n",
    "  13 RefSeq\tCDS\n",
    "29258 RefSeq\tcDNA_match\n",
    "  26 RefSeq\texon\n",
    "  12 RefSeq\tgene\n",
    "   2 RefSeq\trRNA\n",
    "  11 RefSeq\tregion\n",
    "  23 RefSeq\ttRNA\n",
    " 611 tRNAscan-SE\texon\n",
    " 564 tRNAscan-SE\tgene\n",
    " 564 tRNAscan-SE\ttRNA\n",
    "```"
   ]
  },
  {
   "cell_type": "code",
   "execution_count": null,
   "metadata": {
    "ExecuteTime": {
     "end_time": "2018-05-11T15:45:13.932529Z",
     "start_time": "2018-05-11T15:45:13.789095Z"
    }
   },
   "outputs": [],
   "source": [
    "ls"
   ]
  },
  {
   "cell_type": "code",
   "execution_count": null,
   "metadata": {
    "ExecuteTime": {
     "end_time": "2018-05-11T15:52:55.103145Z",
     "start_time": "2018-05-11T15:52:48.703402Z"
    }
   },
   "outputs": [],
   "source": [
    "!fgrep \"Gnomon\tmRNA\" ref_C_virginica-3.0_top_level.gff3 | head -1"
   ]
  },
  {
   "cell_type": "code",
   "execution_count": null,
   "metadata": {
    "ExecuteTime": {
     "end_time": "2018-05-11T15:53:01.503879Z",
     "start_time": "2018-05-11T15:52:55.109843Z"
    }
   },
   "outputs": [],
   "source": [
    "!fgrep \"Gnomon\tgene\" ref_C_virginica-3.0_top_level.gff3 | head -1"
   ]
  },
  {
   "cell_type": "code",
   "execution_count": null,
   "metadata": {
    "ExecuteTime": {
     "end_time": "2018-05-11T15:53:28.180000Z",
     "start_time": "2018-05-11T15:53:28.049341Z"
    }
   },
   "outputs": [],
   "source": [
    "!head ref_C_virginica-3.0_top_level.gff3"
   ]
  },
  {
   "cell_type": "code",
   "execution_count": null,
   "metadata": {
    "ExecuteTime": {
     "end_time": "2018-05-11T15:55:33.482514Z",
     "start_time": "2018-05-11T15:55:31.603700Z"
    }
   },
   "outputs": [],
   "source": [
    "!fgrep -v '#' ref_C_virginica-3.0_top_level.gff3 > ref-nohead_C_virginica-3.0_top_level.gff3"
   ]
  },
  {
   "cell_type": "code",
   "execution_count": null,
   "metadata": {
    "ExecuteTime": {
     "end_time": "2018-05-11T15:56:37.720164Z",
     "start_time": "2018-05-11T15:56:31.148507Z"
    }
   },
   "outputs": [],
   "source": [
    "!fgrep \"Gnomon\tgene\" ref_C_virginica-3.0_top_level.gff3 > ref_C_virginica-3.0_Gnomon_gene.gff3"
   ]
  },
  {
   "cell_type": "code",
   "execution_count": null,
   "metadata": {
    "ExecuteTime": {
     "end_time": "2018-05-11T15:56:42.754219Z",
     "start_time": "2018-05-11T15:56:42.621829Z"
    }
   },
   "outputs": [],
   "source": [
    "!head ref_C_virginica-3.0_Gnomon_gene.gff3"
   ]
  },
  {
   "cell_type": "code",
   "execution_count": null,
   "metadata": {
    "ExecuteTime": {
     "end_time": "2018-05-11T15:57:14.809376Z",
     "start_time": "2018-05-11T15:57:08.656862Z"
    }
   },
   "outputs": [],
   "source": [
    "!fgrep \"Gnomon\tmRNA\" ref_C_virginica-3.0_top_level.gff3 > ref_C_virginica-3.0_Gnomon_mRNA.gff3"
   ]
  },
  {
   "cell_type": "code",
   "execution_count": null,
   "metadata": {
    "ExecuteTime": {
     "end_time": "2018-05-11T15:57:53.226321Z",
     "start_time": "2018-05-11T15:57:53.101520Z"
    }
   },
   "outputs": [],
   "source": [
    "!head -1 ref_C_virginica-3.0_Gnomon_mRNA.gff3 "
   ]
  },
  {
   "cell_type": "code",
   "execution_count": null,
   "metadata": {
    "ExecuteTime": {
     "end_time": "2018-05-11T16:05:04.103455Z",
     "start_time": "2018-05-11T16:04:59.208860Z"
    }
   },
   "outputs": [],
   "source": [
    "!fgrep \"Gnomon\texon\" ref_C_virginica-3.0_top_level.gff3 > ref_C_virginica-3.0_Gnomon_exon.gff3"
   ]
  },
  {
   "cell_type": "code",
   "execution_count": null,
   "metadata": {
    "ExecuteTime": {
     "end_time": "2018-05-11T16:06:54.662756Z",
     "start_time": "2018-05-11T16:06:47.465469Z"
    }
   },
   "outputs": [],
   "source": [
    "!fgrep \"Gnomon\tlnc_RNA\" ref_C_virginica-3.0_top_level.gff3 > ref_C_virginica-3.0_Gnomon_lnc_RNA.gff3"
   ]
  },
  {
   "cell_type": "code",
   "execution_count": null,
   "metadata": {
    "ExecuteTime": {
     "end_time": "2018-05-11T16:08:37.414115Z",
     "start_time": "2018-05-11T16:08:33.918584Z"
    }
   },
   "outputs": [],
   "source": [
    "!fgrep \"RefSeq\tcDNA_match\" ref_C_virginica-3.0_top_level.gff3 > ref_C_virginica-3.0_RefSeq_cDNA.gff3"
   ]
  },
  {
   "cell_type": "code",
   "execution_count": null,
   "metadata": {
    "ExecuteTime": {
     "end_time": "2018-05-11T20:05:06.002648Z",
     "start_time": "2018-05-11T20:05:04.527021Z"
    }
   },
   "outputs": [],
   "source": [
    "!fgrep \"YP_254656.1\" ref_C_virginica-3.0_top_level.gff3 "
   ]
  },
  {
   "cell_type": "code",
   "execution_count": null,
   "metadata": {
    "ExecuteTime": {
     "end_time": "2018-05-11T20:06:09.477294Z",
     "start_time": "2018-05-11T20:06:04.441275Z"
    }
   },
   "outputs": [],
   "source": [
    "!fgrep \"XP_022315826\" ref_C_virginica-3.0_top_level.gff3 "
   ]
  },
  {
   "cell_type": "code",
   "execution_count": null,
   "metadata": {
    "ExecuteTime": {
     "end_time": "2018-05-11T20:08:05.864885Z",
     "start_time": "2018-05-11T20:07:58.811759Z"
    }
   },
   "outputs": [],
   "source": [
    "!fgrep \"111119692\" ref_C_virginica-3.0_top_level.gff3 "
   ]
  },
  {
   "cell_type": "code",
   "execution_count": 5,
   "metadata": {},
   "outputs": [
    {
     "name": "stdout",
     "output_type": "stream",
     "text": [
      "meth_diff_50.bed\n",
      "protein.fa\n",
      "protein.fa.gz\n",
      "ref-nohead_C_virginica-3.0_top_level.gff3\n",
      "ref_C_virginica-3.0_Gnomon_exon.gff3\n",
      "ref_C_virginica-3.0_Gnomon_gene.gff3\n",
      "ref_C_virginica-3.0_Gnomon_lnc_RNA.gff3\n",
      "ref_C_virginica-3.0_Gnomon_mRNA.gff3\n",
      "ref_C_virginica-3.0_RefSeq_cDNA.gff3\n",
      "ref_C_virginica-3.0_top_level.gff3\n",
      "ref_C_virginica-3.0_top_level.gff3.zip\n",
      "rna.fa\n",
      "rna.fa.gz\n"
     ]
    }
   ],
   "source": [
    "ls\n"
   ]
  },
  {
   "cell_type": "code",
   "execution_count": 8,
   "metadata": {},
   "outputs": [
    {
     "name": "stdout",
     "output_type": "stream",
     "text": [
      " 1513272 ref-nohead_C_virginica-3.0_top_level.gff3\n",
      "  731279 ref_C_virginica-3.0_Gnomon_exon.gff3\n",
      "   38929 ref_C_virginica-3.0_Gnomon_gene.gff3\n",
      "    4750 ref_C_virginica-3.0_Gnomon_lnc_RNA.gff3\n",
      "   60201 ref_C_virginica-3.0_Gnomon_mRNA.gff3\n",
      "   29258 ref_C_virginica-3.0_RefSeq_cDNA.gff3\n",
      " 1513302 ref_C_virginica-3.0_top_level.gff3\n",
      " 3890991 total\n"
     ]
    }
   ],
   "source": [
    "!wc -l *gff3"
   ]
  },
  {
   "cell_type": "markdown",
   "metadata": {},
   "source": [
    "## Gene is way to start"
   ]
  },
  {
   "cell_type": "markdown",
   "metadata": {},
   "source": [
    "## Substract exon from gene?"
   ]
  },
  {
   "cell_type": "code",
   "execution_count": 10,
   "metadata": {},
   "outputs": [
    {
     "name": "stdout",
     "output_type": "stream",
     "text": [
      "NC_035780.1\tGnomon\texon\t13578\t13603\t.\t+\t.\tID=id1;Parent=rna0;Dbxref=GeneID:111116054,Genbank:XR_002636969.1;gbkey=ncRNA;gene=LOC111116054;product=uncharacterized LOC111116054;transcript_id=XR_002636969.1\n",
      "NC_035780.1\tGnomon\texon\t14237\t14290\t.\t+\t.\tID=id2;Parent=rna0;Dbxref=GeneID:111116054,Genbank:XR_002636969.1;gbkey=ncRNA;gene=LOC111116054;product=uncharacterized LOC111116054;transcript_id=XR_002636969.1\n",
      "NC_035780.1\tGnomon\texon\t14557\t14594\t.\t+\t.\tID=id3;Parent=rna0;Dbxref=GeneID:111116054,Genbank:XR_002636969.1;gbkey=ncRNA;gene=LOC111116054;product=uncharacterized LOC111116054;transcript_id=XR_002636969.1\n",
      "NC_035780.1\tGnomon\texon\t28961\t29073\t.\t+\t.\tID=id4;Parent=rna1;Dbxref=GeneID:111126949,Genbank:XM_022471938.1;gbkey=mRNA;gene=LOC111126949;product=UNC5C-like protein;transcript_id=XM_022471938.1\n",
      "NC_035780.1\tGnomon\texon\t30524\t31557\t.\t+\t.\tID=id5;Parent=rna1;Dbxref=GeneID:111126949,Genbank:XM_022471938.1;gbkey=mRNA;gene=LOC111126949;product=UNC5C-like protein;transcript_id=XM_022471938.1\n",
      "NC_035780.1\tGnomon\texon\t31736\t31887\t.\t+\t.\tID=id6;Parent=rna1;Dbxref=GeneID:111126949,Genbank:XM_022471938.1;gbkey=mRNA;gene=LOC111126949;product=UNC5C-like protein;transcript_id=XM_022471938.1\n",
      "NC_035780.1\tGnomon\texon\t31977\t32565\t.\t+\t.\tID=id7;Parent=rna1;Dbxref=GeneID:111126949,Genbank:XM_022471938.1;gbkey=mRNA;gene=LOC111126949;product=UNC5C-like protein;transcript_id=XM_022471938.1\n",
      "NC_035780.1\tGnomon\texon\t32959\t33324\t.\t+\t.\tID=id8;Parent=rna1;Dbxref=GeneID:111126949,Genbank:XM_022471938.1;gbkey=mRNA;gene=LOC111126949;product=UNC5C-like protein;transcript_id=XM_022471938.1\n",
      "NC_035780.1\tGnomon\texon\t66869\t66897\t.\t-\t.\tID=id9;Parent=rna2;Dbxref=GeneID:111110729,Genbank:XM_022447324.1;gbkey=mRNA;gene=LOC111110729;product=FMRFamide receptor-like%2C transcript variant X1;transcript_id=XM_022447324.1\n",
      "NC_035780.1\tGnomon\texon\t64123\t64334\t.\t-\t.\tID=id10;Parent=rna2;Dbxref=GeneID:111110729,Genbank:XM_022447324.1;gbkey=mRNA;gene=LOC111110729;product=FMRFamide receptor-like%2C transcript variant X1;transcript_id=XM_022447324.1\n"
     ]
    }
   ],
   "source": [
    "!head *exon*"
   ]
  },
  {
   "cell_type": "code",
   "execution_count": 12,
   "metadata": {},
   "outputs": [
    {
     "name": "stdout",
     "output_type": "stream",
     "text": [
      "/bin/sh: -c: line 0: syntax error near unexpected token `newline'\n",
      "/bin/sh: -c: line 0: `subtractBed [OPTIONS] -a <BED/GFF/VCF> -b <BED/GFF/VCF>'\n"
     ]
    }
   ],
   "source": [
    "!subtractBed [OPTIONS] -a <BED/GFF/VCF> -b <BED/GFF/VCF>\n"
   ]
  },
  {
   "cell_type": "code",
   "execution_count": 13,
   "metadata": {},
   "outputs": [
    {
     "name": "stdout",
     "output_type": "stream",
     "text": [
      "/bin/sh: bedtools: command not found\n"
     ]
    }
   ],
   "source": [
    "!bedtools"
   ]
  },
  {
   "cell_type": "code",
   "execution_count": null,
   "metadata": {},
   "outputs": [],
   "source": []
  }
 ],
 "metadata": {
  "kernelspec": {
   "display_name": "Python 3",
   "language": "python",
   "name": "python3"
  },
  "language_info": {
   "codemirror_mode": {
    "name": "ipython",
    "version": 3
   },
   "file_extension": ".py",
   "mimetype": "text/x-python",
   "name": "python",
   "nbconvert_exporter": "python",
   "pygments_lexer": "ipython3",
   "version": "3.6.3"
  }
 },
 "nbformat": 4,
 "nbformat_minor": 2
}
