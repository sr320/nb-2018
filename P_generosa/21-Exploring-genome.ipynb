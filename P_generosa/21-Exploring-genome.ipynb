{
 "cells": [
  {
   "cell_type": "code",
   "execution_count": 1,
   "metadata": {
    "ExecuteTime": {
     "end_time": "2018-10-10T16:22:26.893859Z",
     "start_time": "2018-10-10T16:22:26.761154Z"
    }
   },
   "outputs": [],
   "source": [
    "!mkdir /Users/sr320/Documents/GitHub/nb-2018/P_generosa/data"
   ]
  },
  {
   "cell_type": "code",
   "execution_count": 16,
   "metadata": {
    "ExecuteTime": {
     "end_time": "2018-10-10T16:26:14.555358Z",
     "start_time": "2018-10-10T16:26:14.544560Z"
    }
   },
   "outputs": [
    {
     "data": {
      "text/plain": [
       "'/Users/sr320/Documents/GitHub/nb-2018/P_generosa/data'"
      ]
     },
     "execution_count": 16,
     "metadata": {},
     "output_type": "execute_result"
    }
   ],
   "source": [
    "pwd"
   ]
  },
  {
   "cell_type": "code",
   "execution_count": 18,
   "metadata": {
    "ExecuteTime": {
     "end_time": "2018-10-10T16:27:42.158865Z",
     "start_time": "2018-10-10T16:26:32.361638Z"
    }
   },
   "outputs": [
    {
     "name": "stdout",
     "output_type": "stream",
     "text": [
      "  % Total    % Received % Xferd  Average Speed   Time    Time     Time  Current\n",
      "                                 Dload  Upload   Total   Spent    Left  Speed\n",
      "100 2143M  100 2143M    0     0  31.0M      0  0:01:09  0:01:09 --:--:-- 8509k43M   96 2057M    0     0  32.6M      0  0:01:05  0:01:03  0:00:02 16.2M  0     0  32.0M      0  0:01:06  0:01:06 --:--:-- 20.5M\n"
     ]
    }
   ],
   "source": [
    "!curl -O http://owl.fish.washington.edu/halfshell/genomic-databank/Pgenerosa_v070.fa \\\n",
    "> Pgenerosa_v070.fa"
   ]
  },
  {
   "cell_type": "code",
   "execution_count": 19,
   "metadata": {
    "ExecuteTime": {
     "end_time": "2018-10-10T16:27:42.312542Z",
     "start_time": "2018-10-10T16:27:42.163386Z"
    }
   },
   "outputs": [
    {
     "name": "stdout",
     "output_type": "stream",
     "text": [
      ">PGA_scaffold1__77_contigs__length_89643857\r\n",
      "ATGCGCAGAAGTTGTTCCGGAAAATGGTACTGTAGTGACATGTGAATATGACCCGTATTTAGAGAAAGTAGCGAGAATGT\r\n",
      "ACTTTGATTCAACTCCGCATGGCAGGAAGATTCACATTCGTATAGGTATTGTTTTTAAATTAATTATAATAATGTGTATT\r\n",
      "GTTGAAACTAAAAAAACAAGCAAGCAGGGTGTCGGATAAAACGTAGGACGCTCGACATTGCGATACCAGAATTTGCTCGA\r\n",
      "TGTTATTGAGCTAATTATCAAAAATAAATACCATCCACTGTGTTGTTCCTGGGTGCCACATGGATGAAGGCAAGAATGTA\r\n",
      "GCCACTGTAGTTCATACAATTCCCAGAAGTAGTGTCTTGTGTGTTTAAACATGAATATCTGAATTAGTTGAAAACGGGTA\r\n",
      "TATATATAAATTTGGTTGAGCTGTAAAACTAATGAATGTGTGTGGTTTATTTAAGAATTAATTATTACTTTTTTATCAGA\r\n",
      "AGTAGTTTTTGAAAAAAATACTGTTTTTGAAAGTTACACTTATTCAAATAAGTAGCAACAGAAATTCAATATTGAATTTT\r\n",
      "ATGTCGGTGTGTGCCTCGTGATCGTTGCACAATGCAGTAATTCACCTGCACATAGATCGTGCAAGCCTGTGCAGAGCAGA\r\n",
      "ATCCCGGCTCAATTTTCGCACAGGTATTAAGCAACGATCACGGGGAACAGTTCCTCTCAATAACTTGGTAGCTAGCTGCG\r\n"
     ]
    }
   ],
   "source": [
    "!head Pgenerosa_v070.fa"
   ]
  },
  {
   "cell_type": "code",
   "execution_count": 20,
   "metadata": {
    "ExecuteTime": {
     "end_time": "2018-10-10T16:27:53.132801Z",
     "start_time": "2018-10-10T16:27:42.317902Z"
    }
   },
   "outputs": [
    {
     "name": "stdout",
     "output_type": "stream",
     "text": [
      "313649\r\n"
     ]
    }
   ],
   "source": [
    "!grep \"^>\" -c Pgenerosa_v070.fa"
   ]
  },
  {
   "cell_type": "code",
   "execution_count": 27,
   "metadata": {
    "ExecuteTime": {
     "end_time": "2018-10-10T16:38:01.010870Z",
     "start_time": "2018-10-10T16:35:34.884117Z"
    }
   },
   "outputs": [
    {
     "name": "stdout",
     "output_type": "stream",
     "text": [
      "       0\r\n"
     ]
    }
   ],
   "source": [
    "!grep -i \"NNNNNNNNNNNNNNNNNNNNNNNNNNNNNNNNNNNNNNNNNNNNNNNNNNNNNNNNNNNNNNNNNNNNNNNNNNNNNNNNNNNNNNNN\" Pgenerosa_v070.fa | wc -l"
   ]
  },
  {
   "cell_type": "code",
   "execution_count": 23,
   "metadata": {
    "ExecuteTime": {
     "end_time": "2018-10-10T16:29:47.091615Z",
     "start_time": "2018-10-10T16:29:17.915027Z"
    }
   },
   "outputs": [
    {
     "name": "stdout",
     "output_type": "stream",
     "text": [
      " 2496883\r\n"
     ]
    }
   ],
   "source": [
    "!grep -i \"^NNNNNNNNNNN\" Pgenerosa_v070.fa | wc -l"
   ]
  },
  {
   "cell_type": "code",
   "execution_count": 26,
   "metadata": {
    "ExecuteTime": {
     "end_time": "2018-10-10T16:32:00.412890Z",
     "start_time": "2018-10-10T16:31:19.379846Z"
    }
   },
   "outputs": [
    {
     "name": "stdout",
     "output_type": "stream",
     "text": [
      "TTCAGTTTTAGAAGTGAAGAACTGTGAATGGCTCTCGGCAAGTCGGAATTCGCCAGTGCCAATAAGCGAAGTAAATGTTG\r\n",
      "TTTTTTCTCCCACCCGGAATGTTTTCTATCCCCTTCCCCCCCNNNNNNNNNNNNNNNNNNNNNNNNNNNNNNNNNNNNNN\r\n",
      "NNNNNNNNNNNNNNNNNNNNNNNNNNNNNNNNNNNNNNNNNNNNNNNNNNNNNNNNNNNNNNCAAACAGCATGGGAACAA\r\n",
      "--\r\n",
      "AAACCTGTGTAAGGACCACATTTTGGAAATGAAAAAATGGTCTTTTATACCTTTTCTGACTGTCTTGTCATATTGACAAA\r\n",
      "TACATTAGGAACTTTGCTATAAAGGACAGTAAGATAATTGACAAAAATGTACAGATGTATACTTAAAAGTNNNNNNNNNN\r\n",
      "NNNNNNNNNNNNNNNNNNNNNNNNNNNNNNNNNNNNNNNNNNNNNNNNNNNNNNNNNNNNNNNNNNNNNNNNNNNNNNNN\r\n",
      "--\r\n",
      "AAACAGAAAATTCTCTTTTTCTTTCATCTGTTCTGAAACCACTAGGCCAGTTAAACTGAAACTTCACATTGGTGTTTCAA\r\n",
      "TTGCATAGGAGACTAGACAGAAGATTTTTTTTTTCGATCTGAAATTCAAGATGGCCGCCATTACTAAAAATNNNNNNNNN\r\n",
      "NNNNNNNNNNNNNNNNNNNNNNNNNNNNNNNNNNNNNNNNNNNNNNNNNNNNNNNNNNNNNNNNNNNNNNNNNNNNNNNN\r\n",
      "NNNNNNNNNNNATGTAAATGATTTTGCCTATATCTTCACAGAAGCATTGTTTGGTGAAGGAGGTTCAGATTTGTAAAAAT\r\n",
      "--\r\n",
      "GAATAAAATTTTCGAAGAATACTTTCTTTTGTGCGATTGTGCCAAAAGTACTATCAAATTTATGTAGAATTTTATCTATG\r\n",
      "GTTGTGACTAGTCTCCTCAAAATATCTGCTGCATTACCTTTGGTTGCTCGGGAGGGGGGGGGGGGGGGGGGNNNNNNNNN\r\n",
      "NNNNNNNNNNNNNNNNNNNNNNNNNNNNNNNNNNNNNNNNNNNNNNNNNNNNNNNNNNNNNNNNNNNNNNNNNNNNNNNN\r\n",
      "NNNNNNNNNNNGGGGGAAGATGTTAACTGGCTGGCATTCAAGTTTGAAATAGAAGCACTAGTTATAGAAAAGCTGTATGT\r\n",
      "--\r\n",
      "TGTAATCGAAATCGATAGTATTTTAGATGTGCTAACGAAACTCATAATCTATATTTAGGAATCAAATGCCACATATTAAC\r\n",
      "ATTTAAAATGAGTCATTATAAAACTAATTAGGGTTTGGGATATGAAAAAAANNNNNNNNNNNNNNNNNNNNNNNNNNNNN\r\n"
     ]
    }
   ],
   "source": [
    "!grep -i \"^NNNNNNNNNNN\" -B 2 Pgenerosa_v070.fa | head -20"
   ]
  },
  {
   "cell_type": "code",
   "execution_count": null,
   "metadata": {},
   "outputs": [],
   "source": []
  }
 ],
 "metadata": {
  "kernelspec": {
   "display_name": "Python 3",
   "language": "python",
   "name": "python3"
  },
  "language_info": {
   "codemirror_mode": {
    "name": "ipython",
    "version": 3
   },
   "file_extension": ".py",
   "mimetype": "text/x-python",
   "name": "python",
   "nbconvert_exporter": "python",
   "pygments_lexer": "ipython3",
   "version": "3.6.3"
  }
 },
 "nbformat": 4,
 "nbformat_minor": 2
}
