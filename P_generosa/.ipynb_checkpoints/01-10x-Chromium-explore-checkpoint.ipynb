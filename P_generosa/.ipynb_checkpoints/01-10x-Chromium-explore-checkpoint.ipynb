{
 "cells": [
  {
   "cell_type": "markdown",
   "metadata": {},
   "source": [
    "# 10x Data"
   ]
  },
  {
   "cell_type": "markdown",
   "metadata": {},
   "source": [
    "![dir](http://eagle.fish.washington.edu/cnidarian/skitch/Geoduck_10x_20169388.png)"
   ]
  },
  {
   "cell_type": "code",
   "execution_count": 1,
   "metadata": {},
   "outputs": [
    {
     "name": "stdout",
     "output_type": "stream",
     "text": [
      "\u001b[31mGeoduck-5_S1_L001_I1_001.fastq.gz\u001b[m\u001b[m* \u001b[31mGeoduck-6_S2_L005_R1_001.fastq.gz\u001b[m\u001b[m*\r\n",
      "\u001b[31mGeoduck-5_S1_L001_R1_001.fastq.gz\u001b[m\u001b[m* \u001b[31mGeoduck-6_S2_L005_R2_001.fastq.gz\u001b[m\u001b[m*\r\n",
      "\u001b[31mGeoduck-5_S1_L001_R2_001.fastq.gz\u001b[m\u001b[m* \u001b[31mGeoduck-6_S2_L006_I1_001.fastq.gz\u001b[m\u001b[m*\r\n",
      "\u001b[31mGeoduck-5_S1_L002_I1_001.fastq.gz\u001b[m\u001b[m* \u001b[31mGeoduck-6_S2_L006_R1_001.fastq.gz\u001b[m\u001b[m*\r\n",
      "\u001b[31mGeoduck-5_S1_L002_R1_001.fastq.gz\u001b[m\u001b[m* \u001b[31mGeoduck-6_S2_L006_R2_001.fastq.gz\u001b[m\u001b[m*\r\n",
      "\u001b[31mGeoduck-5_S1_L002_R2_001.fastq.gz\u001b[m\u001b[m* \u001b[31mGeoduck-6_S2_L007_I1_001.fastq.gz\u001b[m\u001b[m*\r\n",
      "\u001b[31mGeoduck-5_S1_L003_I1_001.fastq.gz\u001b[m\u001b[m* \u001b[31mGeoduck-6_S2_L007_R1_001.fastq.gz\u001b[m\u001b[m*\r\n",
      "\u001b[31mGeoduck-5_S1_L003_R1_001.fastq.gz\u001b[m\u001b[m* \u001b[31mGeoduck-6_S2_L007_R2_001.fastq.gz\u001b[m\u001b[m*\r\n",
      "\u001b[31mGeoduck-5_S1_L003_R2_001.fastq.gz\u001b[m\u001b[m* \u001b[31mGeoduck-6_S2_L008_I1_001.fastq.gz\u001b[m\u001b[m*\r\n",
      "\u001b[31mGeoduck-5_S1_L004_I1_001.fastq.gz\u001b[m\u001b[m* \u001b[31mGeoduck-6_S2_L008_R1_001.fastq.gz\u001b[m\u001b[m*\r\n",
      "\u001b[31mGeoduck-5_S1_L004_R1_001.fastq.gz\u001b[m\u001b[m* \u001b[31mGeoduck-6_S2_L008_R2_001.fastq.gz\u001b[m\u001b[m*\r\n",
      "\u001b[31mGeoduck-5_S1_L004_R2_001.fastq.gz\u001b[m\u001b[m* \u001b[30m\u001b[43mReports\u001b[m\u001b[m/\r\n",
      "\u001b[31mGeoduck-6_S2_L005_I1_001.fastq.gz\u001b[m\u001b[m* \u001b[30m\u001b[43mStats\u001b[m\u001b[m/\r\n"
     ]
    }
   ],
   "source": [
    "ls /Volumes/web/nightingales/Geoduck_10x/geoduck_10x_genomics_20180116/HN3JCBBXX/fastq_path"
   ]
  },
  {
   "cell_type": "code",
   "execution_count": null,
   "metadata": {
    "collapsed": true
   },
   "outputs": [],
   "source": []
  }
 ],
 "metadata": {
  "kernelspec": {
   "display_name": "Python 3",
   "language": "python",
   "name": "python3"
  },
  "language_info": {
   "codemirror_mode": {
    "name": "ipython",
    "version": 3
   },
   "file_extension": ".py",
   "mimetype": "text/x-python",
   "name": "python",
   "nbconvert_exporter": "python",
   "pygments_lexer": "ipython3",
   "version": "3.6.3"
  }
 },
 "nbformat": 4,
 "nbformat_minor": 2
}
