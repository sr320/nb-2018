{
 "cells": [
  {
   "cell_type": "code",
   "execution_count": 2,
   "metadata": {
    "ExecuteTime": {
     "end_time": "2018-12-13T17:18:14.172450Z",
     "start_time": "2018-12-13T17:18:02.954829Z"
    }
   },
   "outputs": [
    {
     "name": "stdout",
     "output_type": "stream",
     "text": [
      "  % Total    % Received % Xferd  Average Speed   Time    Time     Time  Current\n",
      "                                 Dload  Upload   Total   Spent    Left  Speed\n",
      "100 1212M  100 1212M    0     0   110M      0  0:00:11  0:00:11 --:--:--  110M\n"
     ]
    }
   ],
   "source": [
    "!curl -O http://gannet.fish.washington.edu/Atumefaciens/20181127_oly_maker_genome_annotation/snap02/20181127_oly_genome_snap02.all.noseqs.sorted.gff"
   ]
  },
  {
   "cell_type": "code",
   "execution_count": 3,
   "metadata": {
    "ExecuteTime": {
     "end_time": "2018-12-13T17:18:16.466442Z",
     "start_time": "2018-12-13T17:18:16.326339Z"
    }
   },
   "outputs": [
    {
     "name": "stdout",
     "output_type": "stream",
     "text": [
      "01-10x-Chromium-explore.html\r\n",
      "01-10x-Chromium-explore.ipynb\r\n",
      "02-10x-filedump.html\r\n",
      "02-10x-filedump.ipynb\r\n",
      "03-10x-fastqc.html\r\n",
      "03-10x-fastqc.ipynb\r\n",
      "04-Quast Supernova.html\r\n",
      "04-Quast Supernova.ipynb\r\n",
      "05-Bsmap-supernova.html\r\n",
      "05-Bsmap-supernova.ipynb\r\n",
      "06-DNAmapping-Supernova.html\r\n",
      "06-DNAmapping-Supernova.ipynb\r\n",
      "07-EPI-Bismark.html\r\n",
      "07-EPI-Bismark.ipynb\r\n",
      "10-EPI_HIC-fullpipe.html\r\n",
      "10-EPI_HIC-fullpipe.ipynb\r\n",
      "11-EPI_HIC-fullpipe.html\r\n",
      "11-EPI_HIC-fullpipe.ipynb\r\n",
      "12-EPI_HIC-fullpipe.html\r\n",
      "12-EPI_HIC-fullpipe.ipynb\r\n",
      "13-Updated-HIC-assembly.html\r\n",
      "13-Updated-HIC-assembly.ipynb\r\n",
      "20-Exporing-Maker-output.html\r\n",
      "20-Exporing-Maker-output.ipynb\r\n",
      "20181127_oly_genome_snap02.all.noseqs.sorted.gff\r\n",
      "21-Exploring-genome.html\r\n",
      "21-Exploring-genome.ipynb\r\n",
      "22-Exploring-new-Maker.ipynb\r\n",
      "untitled.txt\r\n"
     ]
    }
   ],
   "source": [
    "ls"
   ]
  },
  {
   "cell_type": "code",
   "execution_count": 8,
   "metadata": {
    "ExecuteTime": {
     "end_time": "2018-12-13T17:26:52.892263Z",
     "start_time": "2018-12-13T17:26:52.755907Z"
    }
   },
   "outputs": [
    {
     "name": "stdout",
     "output_type": "stream",
     "text": [
      "##gff-version 3\r\n",
      "Contig0\t.\tcontig\t1\t116746\t.\t.\t.\tID=Contig0;Name=Contig0\r\n",
      "Contig0\trepeatmasker\tmatch\t1\t213\t1074\t+\t.\tID=Contig0:hit:44:1.3.0.0;Name=species:Helitron-N2f_CGi|genus:RC%2FHelitron;Target=species:Helitron-N2f_CGi|genus:RC%2FHelitron 1 209 +\r\n",
      "Contig0\trepeatmasker\tmatch_part\t1\t213\t1074\t+\t.\tID=Contig0:hsp:44:1.3.0.0;Parent=Contig0:hit:44:1.3.0.0;Target=species:Helitron-N2f_CGi|genus:RC%252FHelitron 1 209 +\r\n",
      "Contig0\trepeatmasker\tmatch\t264\t306\t397\t+\t.\tID=Contig0:hit:45:1.3.0.0;Name=species:rnd-1_family-144|genus:Unknown;Target=species:rnd-1_family-144|genus:Unknown 296 338 +\r\n",
      "Contig0\trepeatmasker\tmatch_part\t264\t306\t397\t+\t.\tID=Contig0:hsp:45:1.3.0.0;Parent=Contig0:hit:45:1.3.0.0;Target=species:rnd-1_family-144|genus:Unknown 296 338 +\r\n",
      "Contig0\trepeatmasker\tmatch\t357\t411\t318\t+\t.\tID=Contig0:hit:46:1.3.0.0;Name=species:BivaMD-SINE1_CrVi|genus:SINE%2FtRNA;Target=species:BivaMD-SINE1_CrVi|genus:SINE%2FtRNA 182 236 +\r\n",
      "Contig0\trepeatmasker\tmatch_part\t357\t411\t318\t+\t.\tID=Contig0:hsp:46:1.3.0.0;Parent=Contig0:hit:46:1.3.0.0;Target=species:BivaMD-SINE1_CrVi|genus:SINE%252FtRNA 182 236 +\r\n",
      "Contig0\trepeatmasker\tmatch\t596\t665\t333\t+\t.\tID=Contig0:hit:47:1.3.0.0;Name=species:CR1-2_CGi|genus:LINE%2FCR1-Zenon;Target=species:CR1-2_CGi|genus:LINE%2FCR1-Zenon 5417 5477 +\r\n",
      "Contig0\trepeatmasker\tmatch_part\t596\t665\t333\t+\t.\tID=Contig0:hsp:47:1.3.0.0;Parent=Contig0:hit:47:1.3.0.0;Target=species:CR1-2_CGi|genus:LINE%252FCR1-Zenon 5417 5477 +\r\n"
     ]
    }
   ],
   "source": [
    "!head 20181127_oly_genome_snap02.all.noseqs.sorted.gff "
   ]
  },
  {
   "cell_type": "code",
   "execution_count": 7,
   "metadata": {
    "ExecuteTime": {
     "end_time": "2018-12-13T17:26:49.586066Z",
     "start_time": "2018-12-13T17:26:49.450998Z"
    }
   },
   "outputs": [
    {
     "name": "stdout",
     "output_type": "stream",
     "text": [
      "3\r\n",
      ".\r\n",
      "repeatmasker\r\n",
      "repeatmasker\r\n",
      "repeatmasker\r\n",
      "repeatmasker\r\n",
      "repeatmasker\r\n",
      "repeatmasker\r\n",
      "repeatmasker\r\n",
      "repeatmasker\r\n"
     ]
    }
   ],
   "source": [
    "!head 20181127_oly_genome_snap02.all.noseqs.sorted.gff | awk '{print $2}'"
   ]
  },
  {
   "cell_type": "code",
   "execution_count": 10,
   "metadata": {
    "ExecuteTime": {
     "end_time": "2018-12-13T17:32:54.805064Z",
     "start_time": "2018-12-13T17:29:48.542649Z"
    }
   },
   "outputs": [
    {
     "name": "stdout",
     "output_type": "stream",
     "text": [
      ".\n",
      "3\n",
      "blastn\n",
      "blastx\n",
      "est2genome\n",
      "maker\n",
      "protein2genome\n",
      "repeatmasker\n",
      "repeatrunner\n",
      "snap_masked\n"
     ]
    }
   ],
   "source": [
    "!cat 20181127_oly_genome_snap02.all.noseqs.sorted.gff | awk '{print $2}' | sort | uniq"
   ]
  },
  {
   "cell_type": "code",
   "execution_count": 12,
   "metadata": {
    "ExecuteTime": {
     "end_time": "2018-12-13T17:34:12.955247Z",
     "start_time": "2018-12-13T17:33:54.853713Z"
    }
   },
   "outputs": [
    {
     "name": "stdout",
     "output_type": "stream",
     "text": [
      "Contig696449\tsnap_masked\tmatch_part\t1304\t1621\t-10.696\t+\t.\tID=Contig696449:hsp:70406:4.5.0.0;Parent=Contig696449:hit:42920:4.5.0.0;Target=snap_masked-Contig696449-abinit-gene-0.0-mRNA-1 1 318 +;Gap=M318\r\n",
      "Contig696449\tsnap_masked\tmatch\t3750\t4028\t12.837\t+\t.\tID=Contig696449:hit:42921:4.5.0.0;Name=snap_masked-Contig696449-abinit-gene-0.1-mRNA-1\r\n",
      "Contig696449\tsnap_masked\tmatch_part\t3750\t3755\t9.586\t+\t.\tID=Contig696449:hsp:70407:4.5.0.0;Parent=Contig696449:hit:42921:4.5.0.0;Target=snap_masked-Contig696449-abinit-gene-0.1-mRNA-1 1 6 +;Gap=M6\r\n",
      "Contig696449\tsnap_masked\tmatch_part\t3819\t4028\t3.251\t+\t.\tID=Contig696449:hsp:70408:4.5.0.0;Parent=Contig696449:hit:42921:4.5.0.0;Target=snap_masked-Contig696449-abinit-gene-0.1-mRNA-1 7 216 +;Gap=M210\r\n",
      "Contig696623\tsnap_masked\tmatch\t280\t1204\t50.378\t-\t.\tID=Contig696623:hit:31509:4.5.0.0;Name=snap_masked-Contig696623-abinit-gene-0.0-mRNA-1\r\n",
      "Contig696623\tsnap_masked\tmatch_part\t280\t491\t27.811\t-\t.\tID=Contig696623:hsp:66037:4.5.0.0;Parent=Contig696623:hit:31509:4.5.0.0;Target=snap_masked-Contig696623-abinit-gene-0.0-mRNA-1 1 212 +;Gap=M212\r\n",
      "Contig696623\tsnap_masked\tmatch_part\t818\t1120\t15.441\t-\t.\tID=Contig696623:hsp:66036:4.5.0.0;Parent=Contig696623:hit:31509:4.5.0.0;Target=snap_masked-Contig696623-abinit-gene-0.0-mRNA-1 213 515 +;Gap=M303\r\n",
      "Contig696623\tsnap_masked\tmatch_part\t1201\t1204\t7.126\t-\t.\tID=Contig696623:hsp:66035:4.5.0.0;Parent=Contig696623:hit:31509:4.5.0.0;Target=snap_masked-Contig696623-abinit-gene-0.0-mRNA-1 516 519 +;Gap=M4\r\n",
      "Contig696768\tsnap_masked\tmatch\t326\t625\t15.044\t-\t.\tID=Contig696768:hit:32270:4.5.0.0;Name=snap_masked-Contig696768-abinit-gene-0.0-mRNA-1\r\n",
      "Contig696768\tsnap_masked\tmatch_part\t326\t625\t15.044\t-\t.\tID=Contig696768:hsp:55772:4.5.0.0;Parent=Contig696768:hit:32270:4.5.0.0;Target=snap_masked-Contig696768-abinit-gene-0.0-mRNA-1 1 300 +;Gap=M300\r\n"
     ]
    }
   ],
   "source": [
    "!grep \"snap_masked\" 20181127_oly_genome_snap02.all.noseqs.sorted.gff | tail"
   ]
  },
  {
   "cell_type": "code",
   "execution_count": null,
   "metadata": {
    "ExecuteTime": {
     "start_time": "2018-12-13T17:33:58.098Z"
    }
   },
   "outputs": [
    {
     "name": "stdout",
     "output_type": "stream",
     "text": [
      "  639929\r\n"
     ]
    }
   ],
   "source": [
    "!grep \"snap_masked\" 20181127_oly_genome_snap02.all.noseqs.sorted.gff | wc -l"
   ]
  },
  {
   "cell_type": "code",
   "execution_count": null,
   "metadata": {
    "ExecuteTime": {
     "start_time": "2018-12-13T17:34:08.387Z"
    }
   },
   "outputs": [],
   "source": [
    "!cat 20181127_oly_genome_snap02.all.noseqs.sorted.gff | awk '{print $2}' | sort | uniq -c"
   ]
  },
  {
   "cell_type": "code",
   "execution_count": null,
   "metadata": {
    "ExecuteTime": {
     "start_time": "2018-12-13T17:34:49.697Z"
    }
   },
   "outputs": [],
   "source": [
    "!grep \"maker\" 20181127_oly_genome_snap02.all.noseqs.sorted.gff | head"
   ]
  },
  {
   "cell_type": "code",
   "execution_count": null,
   "metadata": {},
   "outputs": [],
   "source": []
  }
 ],
 "metadata": {
  "kernelspec": {
   "display_name": "Python 3",
   "language": "python",
   "name": "python3"
  },
  "language_info": {
   "codemirror_mode": {
    "name": "ipython",
    "version": 3
   },
   "file_extension": ".py",
   "mimetype": "text/x-python",
   "name": "python",
   "nbconvert_exporter": "python",
   "pygments_lexer": "ipython3",
   "version": "3.6.3"
  }
 },
 "nbformat": 4,
 "nbformat_minor": 2
}
