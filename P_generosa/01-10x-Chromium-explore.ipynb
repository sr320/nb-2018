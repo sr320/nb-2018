{
 "cells": [
  {
   "cell_type": "markdown",
   "metadata": {
    "deletable": true,
    "editable": true
   },
   "source": [
    "# 10x Data"
   ]
  },
  {
   "cell_type": "markdown",
   "metadata": {
    "deletable": true,
    "editable": true
   },
   "source": [
    "![dir](http://eagle.fish.washington.edu/cnidarian/skitch/Geoduck_10x_20169388.png)"
   ]
  },
  {
   "cell_type": "code",
   "execution_count": 6,
   "metadata": {
    "collapsed": false,
    "deletable": true,
    "editable": true
   },
   "outputs": [
    {
     "name": "stdout",
     "output_type": "stream",
     "text": [
      "total 981260832\r\n",
      "drwxrwxrwx  1 sr320  staff   942B Jan 22 13:48 \u001b[30m\u001b[43m.\u001b[m\u001b[m/\r\n",
      "drwxrwxrwx  1 sr320  staff   264B Jan 22 13:48 \u001b[30m\u001b[43m..\u001b[m\u001b[m/\r\n",
      "-rw-rw-rw-@ 1 sr320  staff   6.0K Jan 22 13:48 .DS_Store\r\n",
      "-rwxrwxrwx  1 sr320  staff   1.8G Jan  8 12:14 \u001b[31mGeoduck-5_S1_L001_I1_001.fastq.gz\u001b[m\u001b[m*\r\n",
      "-rwxrwxrwx  1 sr320  staff    27G Jan  8 12:14 \u001b[31mGeoduck-5_S1_L001_R1_001.fastq.gz\u001b[m\u001b[m*\r\n",
      "-rwxrwxrwx  1 sr320  staff    30G Jan  8 12:14 \u001b[31mGeoduck-5_S1_L001_R2_001.fastq.gz\u001b[m\u001b[m*\r\n",
      "-rwxrwxrwx  1 sr320  staff   1.8G Jan  8 12:23 \u001b[31mGeoduck-5_S1_L002_I1_001.fastq.gz\u001b[m\u001b[m*\r\n",
      "-rwxrwxrwx  1 sr320  staff    27G Jan  8 12:23 \u001b[31mGeoduck-5_S1_L002_R1_001.fastq.gz\u001b[m\u001b[m*\r\n",
      "-rwxrwxrwx  1 sr320  staff    31G Jan  8 12:23 \u001b[31mGeoduck-5_S1_L002_R2_001.fastq.gz\u001b[m\u001b[m*\r\n",
      "-rwxrwxrwx  1 sr320  staff   1.8G Jan  8 12:33 \u001b[31mGeoduck-5_S1_L003_I1_001.fastq.gz\u001b[m\u001b[m*\r\n",
      "-rwxrwxrwx  1 sr320  staff    27G Jan  8 12:33 \u001b[31mGeoduck-5_S1_L003_R1_001.fastq.gz\u001b[m\u001b[m*\r\n",
      "-rwxrwxrwx  1 sr320  staff    30G Jan  8 12:33 \u001b[31mGeoduck-5_S1_L003_R2_001.fastq.gz\u001b[m\u001b[m*\r\n",
      "-rwxrwxrwx  1 sr320  staff   1.9G Jan  8 12:42 \u001b[31mGeoduck-5_S1_L004_I1_001.fastq.gz\u001b[m\u001b[m*\r\n",
      "-rwxrwxrwx  1 sr320  staff    28G Jan  8 12:42 \u001b[31mGeoduck-5_S1_L004_R1_001.fastq.gz\u001b[m\u001b[m*\r\n",
      "-rwxrwxrwx  1 sr320  staff    31G Jan  8 12:42 \u001b[31mGeoduck-5_S1_L004_R2_001.fastq.gz\u001b[m\u001b[m*\r\n",
      "-rwxrwxrwx  1 sr320  staff   1.9G Jan  8 12:51 \u001b[31mGeoduck-6_S2_L005_I1_001.fastq.gz\u001b[m\u001b[m*\r\n",
      "-rwxrwxrwx  1 sr320  staff    27G Jan  8 12:51 \u001b[31mGeoduck-6_S2_L005_R1_001.fastq.gz\u001b[m\u001b[m*\r\n",
      "-rwxrwxrwx  1 sr320  staff    29G Jan  8 12:51 \u001b[31mGeoduck-6_S2_L005_R2_001.fastq.gz\u001b[m\u001b[m*\r\n",
      "-rwxrwxrwx  1 sr320  staff   1.9G Jan  8 13:00 \u001b[31mGeoduck-6_S2_L006_I1_001.fastq.gz\u001b[m\u001b[m*\r\n",
      "-rwxrwxrwx  1 sr320  staff    27G Jan  8 13:00 \u001b[31mGeoduck-6_S2_L006_R1_001.fastq.gz\u001b[m\u001b[m*\r\n",
      "-rwxrwxrwx  1 sr320  staff    29G Jan  8 13:00 \u001b[31mGeoduck-6_S2_L006_R2_001.fastq.gz\u001b[m\u001b[m*\r\n",
      "-rwxrwxrwx  1 sr320  staff   1.9G Jan  8 13:09 \u001b[31mGeoduck-6_S2_L007_I1_001.fastq.gz\u001b[m\u001b[m*\r\n",
      "-rwxrwxrwx  1 sr320  staff    27G Jan  8 13:09 \u001b[31mGeoduck-6_S2_L007_R1_001.fastq.gz\u001b[m\u001b[m*\r\n",
      "-rwxrwxrwx  1 sr320  staff    29G Jan  8 13:09 \u001b[31mGeoduck-6_S2_L007_R2_001.fastq.gz\u001b[m\u001b[m*\r\n",
      "-rwxrwxrwx  1 sr320  staff   1.8G Jan  8 13:18 \u001b[31mGeoduck-6_S2_L008_I1_001.fastq.gz\u001b[m\u001b[m*\r\n",
      "-rwxrwxrwx  1 sr320  staff    26G Jan  8 13:18 \u001b[31mGeoduck-6_S2_L008_R1_001.fastq.gz\u001b[m\u001b[m*\r\n",
      "-rwxrwxrwx  1 sr320  staff    28G Jan  8 13:18 \u001b[31mGeoduck-6_S2_L008_R2_001.fastq.gz\u001b[m\u001b[m*\r\n",
      "drwxrwxrwx  1 sr320  staff   264B Jan 22 13:51 \u001b[30m\u001b[43mReports\u001b[m\u001b[m/\r\n",
      "drwxrwxrwx  1 sr320  staff   670B Jan 11 22:52 \u001b[30m\u001b[43mStats\u001b[m\u001b[m/\r\n"
     ]
    }
   ],
   "source": [
    "ls -lah \\\n",
    "/Volumes/web-1/nightingales/Geoduck_10x/geoduck_10x_genomics_20180116/HN3JCBBXX/fastq_path"
   ]
  },
  {
   "cell_type": "code",
   "execution_count": 7,
   "metadata": {
    "collapsed": false
   },
   "outputs": [
    {
     "name": "stdout",
     "output_type": "stream",
     "text": [
      "total 986722904\r\n",
      "drwxrwxrwx  1 sr320  staff   942B Dec 12 17:21 \u001b[30m\u001b[43m.\u001b[m\u001b[m/\r\n",
      "drwxrwxrwx  1 sr320  staff   264B Dec 12 09:33 \u001b[30m\u001b[43m..\u001b[m\u001b[m/\r\n",
      "-rwxrwxrwx  1 sr320  staff   1.9G Dec  6 10:55 \u001b[31mGeoduck-1_S1_L001_I1_001.fastq.gz\u001b[m\u001b[m*\r\n",
      "-rwxrwxrwx  1 sr320  staff    24G Dec  6 10:55 \u001b[31mGeoduck-1_S1_L001_R1_001.fastq.gz\u001b[m\u001b[m*\r\n",
      "-rwxrwxrwx  1 sr320  staff    28G Dec  6 10:55 \u001b[31mGeoduck-1_S1_L001_R2_001.fastq.gz\u001b[m\u001b[m*\r\n",
      "-rwxrwxrwx  1 sr320  staff   2.1G Dec  6 11:04 \u001b[31mGeoduck-1_S1_L002_I1_001.fastq.gz\u001b[m\u001b[m*\r\n",
      "-rwxrwxrwx  1 sr320  staff    26G Dec  6 11:04 \u001b[31mGeoduck-1_S1_L002_R1_001.fastq.gz\u001b[m\u001b[m*\r\n",
      "-rwxrwxrwx  1 sr320  staff    30G Dec  6 11:04 \u001b[31mGeoduck-1_S1_L002_R2_001.fastq.gz\u001b[m\u001b[m*\r\n",
      "-rwxrwxrwx  1 sr320  staff   2.1G Dec  6 11:12 \u001b[31mGeoduck-1_S1_L003_I1_001.fastq.gz\u001b[m\u001b[m*\r\n",
      "-rwxrwxrwx  1 sr320  staff    26G Dec  6 11:12 \u001b[31mGeoduck-1_S1_L003_R1_001.fastq.gz\u001b[m\u001b[m*\r\n",
      "-rwxrwxrwx  1 sr320  staff    30G Dec  6 11:12 \u001b[31mGeoduck-1_S1_L003_R2_001.fastq.gz\u001b[m\u001b[m*\r\n",
      "-rwxrwxrwx  1 sr320  staff   2.0G Dec  6 11:21 \u001b[31mGeoduck-1_S1_L004_I1_001.fastq.gz\u001b[m\u001b[m*\r\n",
      "-rwxrwxrwx  1 sr320  staff    26G Dec  6 11:21 \u001b[31mGeoduck-1_S1_L004_R1_001.fastq.gz\u001b[m\u001b[m*\r\n",
      "-rwxrwxrwx  1 sr320  staff    30G Dec  6 11:21 \u001b[31mGeoduck-1_S1_L004_R2_001.fastq.gz\u001b[m\u001b[m*\r\n",
      "-rwxrwxrwx  1 sr320  staff   2.1G Dec  6 11:30 \u001b[31mGeoduck-2_S2_L005_I1_001.fastq.gz\u001b[m\u001b[m*\r\n",
      "-rwxrwxrwx  1 sr320  staff    27G Dec  6 11:30 \u001b[31mGeoduck-2_S2_L005_R1_001.fastq.gz\u001b[m\u001b[m*\r\n",
      "-rwxrwxrwx  1 sr320  staff    32G Dec  6 11:30 \u001b[31mGeoduck-2_S2_L005_R2_001.fastq.gz\u001b[m\u001b[m*\r\n",
      "-rwxrwxrwx  1 sr320  staff   2.0G Dec  6 11:39 \u001b[31mGeoduck-2_S2_L006_I1_001.fastq.gz\u001b[m\u001b[m*\r\n",
      "-rwxrwxrwx  1 sr320  staff    27G Dec  6 11:39 \u001b[31mGeoduck-2_S2_L006_R1_001.fastq.gz\u001b[m\u001b[m*\r\n",
      "-rwxrwxrwx  1 sr320  staff    31G Dec  6 11:39 \u001b[31mGeoduck-2_S2_L006_R2_001.fastq.gz\u001b[m\u001b[m*\r\n",
      "-rwxrwxrwx  1 sr320  staff   2.0G Dec  6 11:48 \u001b[31mGeoduck-2_S2_L007_I1_001.fastq.gz\u001b[m\u001b[m*\r\n",
      "-rwxrwxrwx  1 sr320  staff    27G Dec  6 11:48 \u001b[31mGeoduck-2_S2_L007_R1_001.fastq.gz\u001b[m\u001b[m*\r\n",
      "-rwxrwxrwx  1 sr320  staff    31G Dec  6 11:48 \u001b[31mGeoduck-2_S2_L007_R2_001.fastq.gz\u001b[m\u001b[m*\r\n",
      "-rwxrwxrwx  1 sr320  staff   2.0G Dec  6 11:56 \u001b[31mGeoduck-2_S2_L008_I1_001.fastq.gz\u001b[m\u001b[m*\r\n",
      "-rwxrwxrwx  1 sr320  staff    26G Dec  6 11:56 \u001b[31mGeoduck-2_S2_L008_R1_001.fastq.gz\u001b[m\u001b[m*\r\n",
      "-rwxrwxrwx  1 sr320  staff    31G Dec  6 11:56 \u001b[31mGeoduck-2_S2_L008_R2_001.fastq.gz\u001b[m\u001b[m*\r\n",
      "drwxrwxrwx  1 sr320  staff   264B Dec 12 09:29 \u001b[30m\u001b[43mReports\u001b[m\u001b[m/\r\n",
      "drwxrwxrwx  1 sr320  staff   670B Dec 12 09:29 \u001b[30m\u001b[43mStats\u001b[m\u001b[m/\r\n",
      "-rwxrwxrwx  1 sr320  staff   1.6K Dec 12 17:21 \u001b[31mmd5sum.txt\u001b[m\u001b[m*\r\n"
     ]
    }
   ],
   "source": [
    "ls -lah \\\n",
    "/Volumes/web-1/nightingales/Geoduck_10x/geoduck_10x_genomics_20171220/HM2JYBBXX/outs/fastq_path"
   ]
  },
  {
   "cell_type": "markdown",
   "metadata": {
    "deletable": true,
    "editable": true
   },
   "source": [
    "![sum](http://eagle.fish.washington.edu/cnidarian/skitch/index_html_2016948B.png)"
   ]
  },
  {
   "cell_type": "code",
   "execution_count": 8,
   "metadata": {},
   "outputs": [
    {
     "name": "stdout",
     "output_type": "stream",
     "text": [
      "/Users/sr320/Desktop\n"
     ]
    }
   ],
   "source": [
    "cd ~/Desktop/"
   ]
  },
  {
   "cell_type": "code",
   "execution_count": 10,
   "metadata": {},
   "outputs": [
    {
     "name": "stdout",
     "output_type": "stream",
     "text": [
      "  % Total    % Received % Xferd  Average Speed   Time    Time     Time  Current\n",
      "                                 Dload  Upload   Total   Spent    Left  Speed\n",
      "100 1815M  100 1815M    0     0  20.6M      0  0:01:28  0:01:28 --:--:-- 19.9M15M    0 10.9M    0     0  10.9M      0  0:02:45 --:--:--  0:02:45 12.2M9M    0     0  21.9M      0  0:01:22  0:00:20  0:01:02 22.2M5M   68 1243M    0     0  20.7M      0  0:01:27  0:01:00  0:00:27 20.9M    0  20.7M      0  0:01:27  0:01:05  0:00:22 20.5M 20.7M      0  0:01:27  0:01:13  0:00:14 20.9M\n"
     ]
    }
   ],
   "source": [
    "!curl -O http://owl.fish.washington.edu/nightingales/Geoduck_10x/geoduck_10x_genomics_20180116/HN3JCBBXX/fastq_path/Geoduck-5_S1_L001_I1_001.fastq.gz"
   ]
  },
  {
   "cell_type": "code",
   "execution_count": null,
   "metadata": {
    "collapsed": true,
    "deletable": true,
    "editable": true
   },
   "outputs": [],
   "source": []
  }
 ],
 "metadata": {
  "kernelspec": {
   "display_name": "Python 2",
   "language": "python",
   "name": "python2"
  },
  "language_info": {
   "codemirror_mode": {
    "name": "ipython",
    "version": 2
   },
   "file_extension": ".py",
   "mimetype": "text/x-python",
   "name": "python",
   "nbconvert_exporter": "python",
   "pygments_lexer": "ipython2",
   "version": "2.7.12"
  }
 },
 "nbformat": 4,
 "nbformat_minor": 2
}
