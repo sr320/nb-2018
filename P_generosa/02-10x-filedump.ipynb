{
 "cells": [
  {
   "cell_type": "code",
   "execution_count": null,
   "metadata": {
    "collapsed": false
   },
   "outputs": [
    {
     "name": "stdout",
     "output_type": "stream",
     "text": [
      "building file list ... done\n",
      "fastq_path/\n",
      "fastq_path/.DS_Store\n",
      "fastq_path/Geoduck-5_S1_L001_I1_001.fastq.gz\n",
      "fastq_path/Geoduck-5_S1_L001_R1_001.fastq.gz\n"
     ]
    }
   ],
   "source": [
    "!rsync -avz /Volumes/web-1/nightingales/Geoduck_10x/geoduck_10x_genomics_20180116/HN3JCBBXX/fastq_path \\\n",
    "/Volumes/Serine/wd/18-01-22/\n",
    "\n"
   ]
  },
  {
   "cell_type": "code",
   "execution_count": null,
   "metadata": {
    "collapsed": true
   },
   "outputs": [],
   "source": []
  }
 ],
 "metadata": {
  "kernelspec": {
   "display_name": "Python 2",
   "language": "python",
   "name": "python2"
  },
  "language_info": {
   "codemirror_mode": {
    "name": "ipython",
    "version": 2
   },
   "file_extension": ".py",
   "mimetype": "text/x-python",
   "name": "python",
   "nbconvert_exporter": "python",
   "pygments_lexer": "ipython2",
   "version": "2.7.12"
  }
 },
 "nbformat": 4,
 "nbformat_minor": 0
}
