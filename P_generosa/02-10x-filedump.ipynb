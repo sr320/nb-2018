{
 "cells": [
  {
   "cell_type": "code",
   "execution_count": 1,
   "metadata": {
    "collapsed": true
   },
   "outputs": [
    {
     "name": "stdout",
     "output_type": "stream",
     "text": [
      "building file list ... done\n",
      "fastq_path/\n",
      "fastq_path/.DS_Store\n",
      "fastq_path/Geoduck-5_S1_L001_I1_001.fastq.gz\n",
      "fastq_path/Geoduck-5_S1_L001_R1_001.fastq.gz\n",
      "fastq_path/Geoduck-5_S1_L001_R2_001.fastq.gz\n",
      "fastq_path/Geoduck-5_S1_L002_I1_001.fastq.gz\n",
      "fastq_path/Geoduck-5_S1_L002_R1_001.fastq.gz\n",
      "fastq_path/Geoduck-5_S1_L002_R2_001.fastq.gz\n",
      "fastq_path/Geoduck-5_S1_L003_I1_001.fastq.gz\n",
      "fastq_path/Geoduck-5_S1_L003_R1_001.fastq.gz\n",
      "fastq_path/Geoduck-5_S1_L003_R2_001.fastq.gz\n",
      "fastq_path/Geoduck-5_S1_L004_I1_001.fastq.gz\n",
      "fastq_path/Geoduck-5_S1_L004_R1_001.fastq.gz\n",
      "fastq_path/Geoduck-5_S1_L004_R2_001.fastq.gz\n",
      "fastq_path/Geoduck-6_S2_L005_I1_001.fastq.gz\n",
      "fastq_path/Geoduck-6_S2_L005_R1_001.fastq.gz\n",
      "fastq_path/Geoduck-6_S2_L005_R2_001.fastq.gz\n",
      "fastq_path/Geoduck-6_S2_L006_I1_001.fastq.gz\n",
      "fastq_path/Geoduck-6_S2_L006_R1_001.fastq.gz\n",
      "fastq_path/Geoduck-6_S2_L006_R2_001.fastq.gz\n",
      "fastq_path/Geoduck-6_S2_L007_I1_001.fastq.gz\n",
      "fastq_path/Geoduck-6_S2_L007_R1_001.fastq.gz\n",
      "fastq_path/Geoduck-6_S2_L007_R2_001.fastq.gz\n",
      "fastq_path/Geoduck-6_S2_L008_I1_001.fastq.gz\n",
      "fastq_path/Geoduck-6_S2_L008_R1_001.fastq.gz\n",
      "fastq_path/Geoduck-6_S2_L008_R2_001.fastq.gz\n",
      "fastq_path/Reports/\n",
      "fastq_path/Reports/.DS_Store\n",
      "fastq_path/Reports/html/\n",
      "fastq_path/Reports/html/.DS_Store\n",
      "fastq_path/Reports/html/Report.css\n",
      "fastq_path/Reports/html/index.html\n",
      "fastq_path/Reports/html/tree.html\n",
      "fastq_path/Reports/html/HN3JCBBXX/\n",
      "fastq_path/Reports/html/HN3JCBBXX/.DS_Store\n",
      "fastq_path/Reports/html/HN3JCBBXX/all/\n",
      "fastq_path/Reports/html/HN3JCBBXX/all/all/\n",
      "fastq_path/Reports/html/HN3JCBBXX/all/all/all/\n",
      "fastq_path/Reports/html/HN3JCBBXX/all/all/all/lane.html\n",
      "fastq_path/Reports/html/HN3JCBBXX/all/all/all/laneBarcode.html\n",
      "fastq_path/Reports/html/HN3JCBBXX/all/all/unknown/\n",
      "fastq_path/Reports/html/HN3JCBBXX/default/\n",
      "fastq_path/Reports/html/HN3JCBBXX/default/.DS_Store\n",
      "fastq_path/Reports/html/HN3JCBBXX/default/Geoduck-5/\n",
      "fastq_path/Reports/html/HN3JCBBXX/default/Geoduck-5/.DS_Store\n",
      "fastq_path/Reports/html/HN3JCBBXX/default/Geoduck-5/all/\n",
      "fastq_path/Reports/html/HN3JCBBXX/default/Geoduck-5/all/lane.html\n",
      "fastq_path/Reports/html/HN3JCBBXX/default/Geoduck-5/all/laneBarcode.html\n",
      "fastq_path/Reports/html/HN3JCBBXX/default/Geoduck-5/unknown/\n",
      "fastq_path/Reports/html/HN3JCBBXX/default/Geoduck-5/unknown/lane.html\n",
      "fastq_path/Reports/html/HN3JCBBXX/default/Geoduck-5/unknown/laneBarcode.html\n",
      "fastq_path/Reports/html/HN3JCBBXX/default/Geoduck-6/\n",
      "fastq_path/Reports/html/HN3JCBBXX/default/Geoduck-6/all/\n",
      "fastq_path/Reports/html/HN3JCBBXX/default/Geoduck-6/all/lane.html\n",
      "fastq_path/Reports/html/HN3JCBBXX/default/Geoduck-6/all/laneBarcode.html\n",
      "fastq_path/Reports/html/HN3JCBBXX/default/Geoduck-6/unknown/\n",
      "fastq_path/Reports/html/HN3JCBBXX/default/Geoduck-6/unknown/lane.html\n",
      "fastq_path/Reports/html/HN3JCBBXX/default/Geoduck-6/unknown/laneBarcode.html\n",
      "fastq_path/Reports/html/HN3JCBBXX/default/all/\n",
      "fastq_path/Reports/html/HN3JCBBXX/default/all/all/\n",
      "fastq_path/Reports/html/HN3JCBBXX/default/all/all/lane.html\n",
      "fastq_path/Reports/html/HN3JCBBXX/default/all/all/laneBarcode.html\n",
      "fastq_path/Reports/html/HN3JCBBXX/default/all/unknown/\n",
      "fastq_path/Stats/\n",
      "fastq_path/Stats/AdapterTrimming.txt\n",
      "fastq_path/Stats/ConversionStats.xml\n",
      "fastq_path/Stats/DemultiplexingStats.xml\n",
      "fastq_path/Stats/DemuxSummaryF1L1.txt\n",
      "fastq_path/Stats/DemuxSummaryF1L2.txt\n",
      "fastq_path/Stats/DemuxSummaryF1L3.txt\n",
      "fastq_path/Stats/DemuxSummaryF1L4.txt\n",
      "fastq_path/Stats/DemuxSummaryF1L5.txt\n",
      "fastq_path/Stats/DemuxSummaryF1L6.txt\n",
      "fastq_path/Stats/DemuxSummaryF1L7.txt\n",
      "fastq_path/Stats/DemuxSummaryF1L8.txt\n",
      "fastq_path/Stats/FastqSummaryF1L1.txt\n",
      "fastq_path/Stats/FastqSummaryF1L2.txt\n",
      "fastq_path/Stats/FastqSummaryF1L3.txt\n",
      "fastq_path/Stats/FastqSummaryF1L4.txt\n",
      "fastq_path/Stats/FastqSummaryF1L5.txt\n",
      "fastq_path/Stats/FastqSummaryF1L6.txt\n",
      "fastq_path/Stats/FastqSummaryF1L7.txt\n",
      "fastq_path/Stats/FastqSummaryF1L8.txt\n",
      "\n",
      "sent 502353675091 bytes  received 1542 bytes  10007743.10 bytes/sec\n",
      "total size is 502408290048  speedup is 1.00\n"
     ]
    }
   ],
   "source": [
    "!rsync -avz /Volumes/web-1/nightingales/Geoduck_10x/geoduck_10x_genomics_20180116/HN3JCBBXX/fastq_path \\\n",
    "/Volumes/Serine/wd/18-01-22/\n",
    "\n"
   ]
  },
  {
   "cell_type": "code",
   "execution_count": 3,
   "metadata": {
    "collapsed": true
   },
   "outputs": [],
   "source": [
    "mkdir /Volumes/Serine/wd/18-01-25/"
   ]
  },
  {
   "cell_type": "code",
   "execution_count": null,
   "metadata": {
    "collapsed": false
   },
   "outputs": [
    {
     "name": "stdout",
     "output_type": "stream",
     "text": [
      "building file list ... done\n",
      "fastq_path/\n",
      "fastq_path/Geoduck-1_S1_L001_I1_001.fastq.gz\n",
      "fastq_path/Geoduck-1_S1_L001_R1_001.fastq.gz\n"
     ]
    }
   ],
   "source": [
    "!rsync -avz \\\n",
    "/Volumes/web-1/nightingales/Geoduck_10x/geoduck_10x_genomics_20171220/HM2JYBBXX/outs/fastq_path \\\n",
    "/Volumes/Serine/wd/18-01-25/"
   ]
  },
  {
   "cell_type": "markdown",
   "metadata": {},
   "source": [
    "```\n",
    "Last login: Mon Jan 22 14:07:29 on ttys000\n",
    "D-172-25-149-231:nb-2018 sr320$ head /Volumes/Serine/wd/18-01-22/fastq_path/Geoduck-5_S1_L001_I1_001.fastq\n",
    "@K00139:373:HN3JCBBXX:1:1101:1061:1861 1:N:0:1\n",
    "TTCGCC\n",
    "+\n",
    "AAFFFK\n",
    "@K00139:373:HN3JCBBXX:1:1101:1101:1861 1:N:0:1\n",
    "AATCAA\n",
    "+\n",
    "AAFFFK\n",
    "@K00139:373:HN3JCBBXX:1:1101:1121:1861 1:N:0:1\n",
    "GGATGG\n",
    "D-172-25-149-231:nb-2018 sr320$ tail /Volumes/Serine/wd/18-01-22/fastq_path/Geoduck-5_S1_L001_I1_001.fastq\n",
    "+\n",
    "AAAFFK\n",
    "@K00139:373:HN3JCBBXX:1:2228:31115:49240 1:N:0:1\n",
    "GGCGCC\n",
    "+\n",
    "<,A<,<\n",
    "@K00139:373:HN3JCBBXX:1:2228:31135:49240 1:N:0:1\n",
    "TTCGCC\n",
    "+\n",
    "AAFFFK\n",
    "D-172-25-149-231:nb-2018 sr320$ \n",
    "\n",
    "\n",
    "```"
   ]
  },
  {
   "cell_type": "code",
   "execution_count": null,
   "metadata": {
    "collapsed": true
   },
   "outputs": [],
   "source": [
    "wget --recursive --no-parent http://owl.fish.washington.edu/nightingales/Geoduck_10x/geoduck_10x_genomics_20171220/HM2JYBBXX/outs/fastq_path/\n"
   ]
  }
 ],
 "metadata": {
  "kernelspec": {
   "display_name": "Python 2",
   "language": "python",
   "name": "python2"
  },
  "language_info": {
   "codemirror_mode": {
    "name": "ipython",
    "version": 2
   },
   "file_extension": ".py",
   "mimetype": "text/x-python",
   "name": "python",
   "nbconvert_exporter": "python",
   "pygments_lexer": "ipython2",
   "version": "2.7.12"
  }
 },
 "nbformat": 4,
 "nbformat_minor": 0
}
