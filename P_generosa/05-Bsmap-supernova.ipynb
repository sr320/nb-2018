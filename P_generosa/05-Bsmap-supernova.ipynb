{
 "cells": [
  {
   "cell_type": "code",
   "execution_count": null,
   "metadata": {
    "collapsed": true
   },
   "outputs": [],
   "source": [
    "!/Applications/bioinfo/BSMAP/bsmap-2.74/bsmap\n",
    "-a /Users/sr320/data-genomic/EPI-136_S36_L005_R1_001.fastq.gz \\\n",
    "-d /Users/sr320/git-repos/student-fish546-2016/data/Panopea_generosa-Scaff-10k.fa \\\n",
    "-o /Volumes/Serine/wd/18-03-05/bsmap/bsmap_out_EPI-136.sam \\\n",
    "-p 8"
   ]
  }
 ],
 "metadata": {
  "kernelspec": {
   "display_name": "Python 2",
   "language": "python",
   "name": "python2"
  },
  "language_info": {
   "codemirror_mode": {
    "name": "ipython",
    "version": 2
   },
   "file_extension": ".py",
   "mimetype": "text/x-python",
   "name": "python",
   "nbconvert_exporter": "python",
   "pygments_lexer": "ipython2",
   "version": "2.7.12"
  }
 },
 "nbformat": 4,
 "nbformat_minor": 0
}
