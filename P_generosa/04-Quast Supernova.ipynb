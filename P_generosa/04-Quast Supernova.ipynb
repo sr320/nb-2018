{
 "cells": [
  {
   "cell_type": "code",
   "execution_count": 1,
   "metadata": {
    "collapsed": false
   },
   "outputs": [
    {
     "name": "stdout",
     "output_type": "stream",
     "text": [
      "QUAST: QUality ASsessment Tool for Genome Assemblies\r\n",
      "Version: 4.5\r\n",
      "\r\n",
      "Usage: python /Applications/bioinfo/quast-4.5/quast.py [options] <files_with_contigs>\r\n",
      "\r\n",
      "Options:\r\n",
      "-o  --output-dir  <dirname>   Directory to store all result files [default: quast_results/results_<datetime>]\r\n",
      "-R                <filename>  Reference genome file\r\n",
      "-G  --genes       <filename>  File with gene coordinates in the reference (GFF, BED, NCBI or TXT)\r\n",
      "-m  --min-contig  <int>       Lower threshold for contig length [default: 500]\r\n",
      "-t  --threads     <int>       Maximum number of threads [default: 25% of CPUs]\r\n",
      "\r\n",
      "These are basic options. To see the full list, use --help\r\n",
      "\r\n"
     ]
    }
   ],
   "source": [
    "!python /Applications/bioinfo/quast-4.5/quast.py"
   ]
  },
  {
   "cell_type": "code",
   "execution_count": 3,
   "metadata": {
    "collapsed": false
   },
   "outputs": [
    {
     "name": "stdout",
     "output_type": "stream",
     "text": [
      "Password: \n",
      "rsync error: received SIGINT, SIGTERM, or SIGHUP (code 20) at /SourceCache/rsync/rsync-45/rsync/rsync.c(244) [receiver=2.6.9]\n",
      "\n"
     ]
    }
   ],
   "source": [
    "!rsync --progress sr320@mox.hyak.uw.edu:/gscratch/srlab/sr320/analyses/0305/* \\\n",
    "/Volumes/Serine/wd/18-03-05/mkfasta\n"
   ]
  },
  {
   "cell_type": "code",
   "execution_count": 5,
   "metadata": {
    "collapsed": true
   },
   "outputs": [],
   "source": [
    "ls /Volumes/Serine/wd/18-03-05/mkfasta/"
   ]
  },
  {
   "cell_type": "code",
   "execution_count": null,
   "metadata": {
    "collapsed": false
   },
   "outputs": [
    {
     "name": "stdout",
     "output_type": "stream",
     "text": [
      "/Applications/bioinfo/quast-4.5/quast.py -t 8 -o /Volumes/Serine/wd/18-03-05/quast/ /Volumes/Serine/wd/18-03-05/mkfasta/duck4-10k.1.fasta.gz /Volumes/Serine/wd/18-03-05/mkfasta/duck4-10k.2.fasta.gz /Volumes/Serine/wd/18-03-05/mkfasta/duck4.1.fasta.gz /Volumes/Serine/wd/18-03-05/mkfasta/duck4.2.fasta.gz\n",
      "\n",
      "Version: 4.5\n",
      "\n",
      "System information:\n",
      "  OS: Darwin-14.5.0-x86_64-i386-64bit (macosx)\n",
      "  Python version: 2.7.12\n",
      "  CPUs number: 8\n",
      "\n",
      "Started: 2018-03-05 09:01:14\n",
      "\n",
      "Logging to /Volumes/Serine/wd/18-03-05/quast/quast.log\n",
      "NOTICE: Output directory already exists. Existing Nucmer alignments can be used\n",
      "\n",
      "CWD: /Users/sr320/git-repos/nb-2018/P_generosa\n",
      "Main parameters: \n",
      "  Threads: 8, minimum contig length: 500, ambiguity: one, threshold for extensive misassembly size: 1000\n",
      "\n",
      "Contigs:\n",
      "  Pre-processing...\n"
     ]
    }
   ],
   "source": [
    "!python /Applications/bioinfo/quast-4.5/quast.py \\\n",
    "-t 8 \\\n",
    "-o /Volumes/Serine/wd/18-03-05/quast/ \\\n",
    "/Volumes/Serine/wd/18-03-05/mkfasta/duck4-10k.1.fasta.gz \\\n",
    "/Volumes/Serine/wd/18-03-05/mkfasta/duck4-10k.2.fasta.gz \\\n",
    "/Volumes/Serine/wd/18-03-05/mkfasta/duck4.1.fasta.gz \\\n",
    "/Volumes/Serine/wd/18-03-05/mkfasta/duck4.2.fasta.gz"
   ]
  },
  {
   "cell_type": "code",
   "execution_count": null,
   "metadata": {
    "collapsed": true
   },
   "outputs": [],
   "source": []
  }
 ],
 "metadata": {
  "kernelspec": {
   "display_name": "Python 2",
   "language": "python",
   "name": "python2"
  },
  "language_info": {
   "codemirror_mode": {
    "name": "ipython",
    "version": 2
   },
   "file_extension": ".py",
   "mimetype": "text/x-python",
   "name": "python",
   "nbconvert_exporter": "python",
   "pygments_lexer": "ipython2",
   "version": "2.7.12"
  }
 },
 "nbformat": 4,
 "nbformat_minor": 0
}
