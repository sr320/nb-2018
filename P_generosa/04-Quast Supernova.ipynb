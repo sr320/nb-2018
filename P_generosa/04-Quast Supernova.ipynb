{
 "cells": [
  {
   "cell_type": "code",
   "execution_count": 1,
   "metadata": {
    "collapsed": false
   },
   "outputs": [
    {
     "name": "stdout",
     "output_type": "stream",
     "text": [
      "QUAST: QUality ASsessment Tool for Genome Assemblies\r\n",
      "Version: 4.5\r\n",
      "\r\n",
      "Usage: python /Applications/bioinfo/quast-4.5/quast.py [options] <files_with_contigs>\r\n",
      "\r\n",
      "Options:\r\n",
      "-o  --output-dir  <dirname>   Directory to store all result files [default: quast_results/results_<datetime>]\r\n",
      "-R                <filename>  Reference genome file\r\n",
      "-G  --genes       <filename>  File with gene coordinates in the reference (GFF, BED, NCBI or TXT)\r\n",
      "-m  --min-contig  <int>       Lower threshold for contig length [default: 500]\r\n",
      "-t  --threads     <int>       Maximum number of threads [default: 25% of CPUs]\r\n",
      "\r\n",
      "These are basic options. To see the full list, use --help\r\n",
      "\r\n"
     ]
    }
   ],
   "source": [
    "!python /Applications/bioinfo/quast-4.5/quast.py"
   ]
  },
  {
   "cell_type": "code",
   "execution_count": 3,
   "metadata": {
    "collapsed": false
   },
   "outputs": [
    {
     "name": "stdout",
     "output_type": "stream",
     "text": [
      "Password: \n",
      "rsync error: received SIGINT, SIGTERM, or SIGHUP (code 20) at /SourceCache/rsync/rsync-45/rsync/rsync.c(244) [receiver=2.6.9]\n",
      "\n"
     ]
    }
   ],
   "source": [
    "!rsync --progress sr320@mox.hyak.uw.edu:/gscratch/srlab/sr320/analyses/0305/* \\\n",
    "/Volumes/Serine/wd/18-03-05/mkfasta\n"
   ]
  },
  {
   "cell_type": "code",
   "execution_count": 5,
   "metadata": {
    "collapsed": true
   },
   "outputs": [],
   "source": [
    "ls /Volumes/Serine/wd/18-03-05/mkfasta/"
   ]
  },
  {
   "cell_type": "code",
   "execution_count": 6,
   "metadata": {
    "collapsed": false
   },
   "outputs": [
    {
     "name": "stdout",
     "output_type": "stream",
     "text": [
      "/Applications/bioinfo/quast-4.5/quast.py -t 8 -o /Volumes/Serine/wd/18-03-05/quast/ /Volumes/Serine/wd/18-03-05/mkfasta/duck4-10k.1.fasta.gz /Volumes/Serine/wd/18-03-05/mkfasta/duck4-10k.2.fasta.gz /Volumes/Serine/wd/18-03-05/mkfasta/duck4.1.fasta.gz /Volumes/Serine/wd/18-03-05/mkfasta/duck4.2.fasta.gz\n",
      "\n",
      "Version: 4.5\n",
      "\n",
      "System information:\n",
      "  OS: Darwin-14.5.0-x86_64-i386-64bit (macosx)\n",
      "  Python version: 2.7.12\n",
      "  CPUs number: 8\n",
      "\n",
      "Started: 2018-03-05 09:01:14\n",
      "\n",
      "Logging to /Volumes/Serine/wd/18-03-05/quast/quast.log\n",
      "NOTICE: Output directory already exists. Existing Nucmer alignments can be used\n",
      "\n",
      "CWD: /Users/sr320/git-repos/nb-2018/P_generosa\n",
      "Main parameters: \n",
      "  Threads: 8, minimum contig length: 500, ambiguity: one, threshold for extensive misassembly size: 1000\n",
      "\n",
      "Contigs:\n",
      "  Pre-processing...\n",
      "  1  /Volumes/Serine/wd/18-03-05/mkfasta/duck4-10k.1.fasta.gz ==> duck4-10k.1\n",
      "  2  /Volumes/Serine/wd/18-03-05/mkfasta/duck4-10k.2.fasta.gz ==> duck4-10k.2\n",
      "  3  /Volumes/Serine/wd/18-03-05/mkfasta/duck4.1.fasta.gz ==> duck4.1\n",
      "  4  /Volumes/Serine/wd/18-03-05/mkfasta/duck4.2.fasta.gz ==> duck4.2\n",
      "\n",
      "2018-03-05 09:08:32\n",
      "Running Basic statistics processor...\n",
      "  Contig files: \n",
      "    1  duck4-10k.1\n",
      "    2  duck4-10k.2\n",
      "    3  duck4.1\n",
      "    4  duck4.2\n",
      "  Calculating N50 and L50...\n",
      "    1  duck4-10k.1, N50 = 1607401, L50 = 216, Total length = 1397407710, GC % = 33.75, # N's per 100 kbp =  14275.16\n",
      "    2  duck4-10k.2, N50 = 1615007, L50 = 216, Total length = 1396117256, GC % = 33.75, # N's per 100 kbp =  14288.10\n",
      "    3  duck4.1, N50 = 177022, L50 = 834, Total length = 2205550088, GC % = 33.92, # N's per 100 kbp =  9137.01\n",
      "    4  duck4.2, N50 = 172688, L50 = 837, Total length = 2204281463, GC % = 33.91, # N's per 100 kbp =  9142.12\n",
      "  Drawing Nx plot...\n",
      "    saved to /Volumes/Serine/wd/18-03-05/quast/basic_stats/Nx_plot.pdf\n",
      "  Drawing cumulative plot...\n",
      "    saved to /Volumes/Serine/wd/18-03-05/quast/basic_stats/cumulative_plot.pdf\n",
      "  Drawing GC content plot...\n",
      "    saved to /Volumes/Serine/wd/18-03-05/quast/basic_stats/GC_content_plot.pdf\n",
      "  Drawing duck4-10k.1 GC content plot...\n",
      "    saved to /Volumes/Serine/wd/18-03-05/quast/basic_stats/duck4-10k.1_GC_content_plot.pdf\n",
      "  Drawing duck4-10k.2 GC content plot...\n",
      "    saved to /Volumes/Serine/wd/18-03-05/quast/basic_stats/duck4-10k.2_GC_content_plot.pdf\n",
      "  Drawing duck4.1 GC content plot...\n",
      "    saved to /Volumes/Serine/wd/18-03-05/quast/basic_stats/duck4.1_GC_content_plot.pdf\n",
      "  Drawing duck4.2 GC content plot...\n",
      "    saved to /Volumes/Serine/wd/18-03-05/quast/basic_stats/duck4.2_GC_content_plot.pdf\n",
      "Done.\n",
      "\n",
      "NOTICE: Genes are not predicted by default. Use --gene-finding option to enable it.\n",
      "\n",
      "2018-03-05 09:16:19\n",
      "Creating large visual summaries...\n",
      "This may take a while: press Ctrl-C to skip this step..\n",
      "  1 of 2: Creating Icarus viewers...\n",
      "  2 of 2: Creating PDF with all tables and plots...\n",
      "Done\n",
      "\n",
      "2018-03-05 09:18:36\n",
      "RESULTS:\n",
      "  Text versions of total report are saved to /Volumes/Serine/wd/18-03-05/quast/report.txt, report.tsv, and report.tex\n",
      "  Text versions of transposed total report are saved to /Volumes/Serine/wd/18-03-05/quast/transposed_report.txt, transposed_report.tsv, and transposed_report.tex\n",
      "  HTML version (interactive tables and plots) saved to /Volumes/Serine/wd/18-03-05/quast/report.html\n",
      "  PDF version (tables and plots) is saved to /Volumes/Serine/wd/18-03-05/quast/report.pdf\n",
      "  Icarus (contig browser) is saved to /Volumes/Serine/wd/18-03-05/quast/icarus.html\n",
      "  Log saved to /Volumes/Serine/wd/18-03-05/quast/quast.log\n",
      "\n",
      "Finished: 2018-03-05 09:18:36\n",
      "Elapsed time: 0:17:22.042675\n",
      "NOTICEs: 2; WARNINGs: 0; non-fatal ERRORs: 0\n",
      "\n",
      "Thank you for using QUAST!\n"
     ]
    }
   ],
   "source": [
    "!python /Applications/bioinfo/quast-4.5/quast.py \\\n",
    "-t 8 \\\n",
    "-o /Volumes/Serine/wd/18-03-05/quast/ \\\n",
    "/Volumes/Serine/wd/18-03-05/mkfasta/duck4-10k.1.fasta.gz \\\n",
    "/Volumes/Serine/wd/18-03-05/mkfasta/duck4-10k.2.fasta.gz \\\n",
    "/Volumes/Serine/wd/18-03-05/mkfasta/duck4.1.fasta.gz \\\n",
    "/Volumes/Serine/wd/18-03-05/mkfasta/duck4.2.fasta.gz"
   ]
  },
  {
   "cell_type": "code",
   "execution_count": 9,
   "metadata": {
    "collapsed": false
   },
   "outputs": [
    {
     "name": "stdout",
     "output_type": "stream",
     "text": [
      "All statistics are based on contigs of size >= 500 bp, unless otherwise noted (e.g., \"# contigs (>= 0 bp)\" and \"Total length (>= 0 bp)\" include all contigs).\r\n",
      "Suggestion: all assemblies contain continuous fragments of N's of length >= 10 bp. You may consider rerunning QUAST using --scaffolds (-s) option!\r\n",
      "\r\n",
      "Assembly                    duck4-10k.1  duck4-10k.2  duck4.1     duck4.2   \r\n",
      "# contigs (>= 0 bp)         15361        15356        315013      315011    \r\n",
      "# contigs (>= 1000 bp)      15361        15356        315013      315011    \r\n",
      "# contigs (>= 5000 bp)      15361        15356        50433       50430     \r\n",
      "# contigs (>= 10000 bp)     15361        15356        15361       15356     \r\n",
      "# contigs (>= 25000 bp)     3350         3347         3350        3347      \r\n",
      "# contigs (>= 50000 bp)     1541         1541         1541        1541      \r\n",
      "Total length (>= 0 bp)      1397407710   1396117256   2205550088  2204281463\r\n",
      "Total length (>= 1000 bp)   1397407710   1396117256   2205550088  2204281463\r\n",
      "Total length (>= 5000 bp)   1397407710   1396117256   1634904607  1633635896\r\n",
      "Total length (>= 10000 bp)  1397407710   1396117256   1397407710  1396117256\r\n",
      "Total length (>= 25000 bp)  1225188922   1223948455   1225188922  1223948455\r\n",
      "Total length (>= 50000 bp)  1164206709   1163079517   1164206709  1163079517\r\n",
      "# contigs                   15361        15356        315013      315011    \r\n",
      "Largest contig              13378076     13404639     13378076    13404639  \r\n",
      "Total length                1397407710   1396117256   2205550088  2204281463\r\n",
      "GC (%)                      33.75        33.75        33.92       33.91     \r\n",
      "N50                         1607401      1615007      177022      172688    \r\n",
      "N75                         373014       372478       4745        4743      \r\n",
      "L50                         216          216          834         837       \r\n",
      "L75                         627          627          54388       54452     \r\n",
      "# N's per 100 kbp           14275.16     14288.10     9137.01     9142.12   \r\n"
     ]
    }
   ],
   "source": [
    "!cat /Volumes/Serine/wd/18-03-05/quast/report.txt"
   ]
  },
  {
   "cell_type": "code",
   "execution_count": null,
   "metadata": {
    "collapsed": true
   },
   "outputs": [],
   "source": []
  }
 ],
 "metadata": {
  "kernelspec": {
   "display_name": "Python 2",
   "language": "python",
   "name": "python2"
  },
  "language_info": {
   "codemirror_mode": {
    "name": "ipython",
    "version": 2
   },
   "file_extension": ".py",
   "mimetype": "text/x-python",
   "name": "python",
   "nbconvert_exporter": "python",
   "pygments_lexer": "ipython2",
   "version": "2.7.12"
  }
 },
 "nbformat": 4,
 "nbformat_minor": 0
}
