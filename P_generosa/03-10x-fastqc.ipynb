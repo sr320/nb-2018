{
 "cells": [
  {
   "cell_type": "code",
   "execution_count": 2,
   "metadata": {
    "collapsed": false
   },
   "outputs": [
    {
     "name": "stdout",
     "output_type": "stream",
     "text": [
      "\u001b[31mGeoduck-5_S1_L001_I1_001.fastq\u001b[m\u001b[m*    \u001b[31mGeoduck-6_S2_L005_I1_001.fastq.gz\u001b[m\u001b[m*\n",
      "\u001b[31mGeoduck-5_S1_L001_I1_001.fastq.gz\u001b[m\u001b[m* \u001b[31mGeoduck-6_S2_L005_R1_001.fastq.gz\u001b[m\u001b[m*\n",
      "\u001b[31mGeoduck-5_S1_L001_R1_001.fastq\u001b[m\u001b[m*    \u001b[31mGeoduck-6_S2_L005_R2_001.fastq.gz\u001b[m\u001b[m*\n",
      "\u001b[31mGeoduck-5_S1_L001_R1_001.fastq.gz\u001b[m\u001b[m* \u001b[31mGeoduck-6_S2_L006_I1_001.fastq.gz\u001b[m\u001b[m*\n",
      "\u001b[31mGeoduck-5_S1_L001_R2_001.fastq.gz\u001b[m\u001b[m* \u001b[31mGeoduck-6_S2_L006_R1_001.fastq.gz\u001b[m\u001b[m*\n",
      "\u001b[31mGeoduck-5_S1_L002_I1_001.fastq.gz\u001b[m\u001b[m* \u001b[31mGeoduck-6_S2_L006_R2_001.fastq.gz\u001b[m\u001b[m*\n",
      "\u001b[31mGeoduck-5_S1_L002_R1_001.fastq.gz\u001b[m\u001b[m* \u001b[31mGeoduck-6_S2_L007_I1_001.fastq.gz\u001b[m\u001b[m*\n",
      "\u001b[31mGeoduck-5_S1_L002_R2_001.fastq.gz\u001b[m\u001b[m* \u001b[31mGeoduck-6_S2_L007_R1_001.fastq.gz\u001b[m\u001b[m*\n",
      "\u001b[31mGeoduck-5_S1_L003_I1_001.fastq.gz\u001b[m\u001b[m* \u001b[31mGeoduck-6_S2_L007_R2_001.fastq.gz\u001b[m\u001b[m*\n",
      "\u001b[31mGeoduck-5_S1_L003_R1_001.fastq.gz\u001b[m\u001b[m* \u001b[31mGeoduck-6_S2_L008_I1_001.fastq.gz\u001b[m\u001b[m*\n",
      "\u001b[31mGeoduck-5_S1_L003_R2_001.fastq.gz\u001b[m\u001b[m* \u001b[31mGeoduck-6_S2_L008_R1_001.fastq.gz\u001b[m\u001b[m*\n",
      "\u001b[31mGeoduck-5_S1_L004_I1_001.fastq.gz\u001b[m\u001b[m* \u001b[31mGeoduck-6_S2_L008_R2_001.fastq.gz\u001b[m\u001b[m*\n",
      "\u001b[31mGeoduck-5_S1_L004_R1_001.fastq.gz\u001b[m\u001b[m* \u001b[30m\u001b[43mReports\u001b[m\u001b[m/\n",
      "\u001b[31mGeoduck-5_S1_L004_R2_001.fastq.gz\u001b[m\u001b[m* \u001b[30m\u001b[43mStats\u001b[m\u001b[m/\n"
     ]
    }
   ],
   "source": [
    "ls /Volumes/Serine/wd/18-01-22/fastq_path"
   ]
  },
  {
   "cell_type": "code",
   "execution_count": 3,
   "metadata": {
    "collapsed": true
   },
   "outputs": [],
   "source": [
    "mkdir /Volumes/Serine/wd/18-01-22/fastq_path/qc"
   ]
  },
  {
   "cell_type": "code",
   "execution_count": 5,
   "metadata": {
    "collapsed": false,
    "scrolled": true
   },
   "outputs": [
    {
     "name": "stdout",
     "output_type": "stream",
     "text": [
      "Started analysis of Geoduck-5_S1_L002_I1_001.fastq.gz\n",
      "Started analysis of Geoduck-5_S1_L002_R1_001.fastq.gz\n",
      "Started analysis of Geoduck-5_S1_L002_R2_001.fastq.gz\n",
      "Approx 5% complete for Geoduck-5_S1_L002_I1_001.fastq.gz\n",
      "Approx 10% complete for Geoduck-5_S1_L002_I1_001.fastq.gz\n",
      "Approx 15% complete for Geoduck-5_S1_L002_I1_001.fastq.gz\n",
      "Approx 20% complete for Geoduck-5_S1_L002_I1_001.fastq.gz\n",
      "Approx 25% complete for Geoduck-5_S1_L002_I1_001.fastq.gz\n",
      "Approx 30% complete for Geoduck-5_S1_L002_I1_001.fastq.gz\n",
      "Approx 35% complete for Geoduck-5_S1_L002_I1_001.fastq.gz\n",
      "Approx 40% complete for Geoduck-5_S1_L002_I1_001.fastq.gz\n",
      "Approx 45% complete for Geoduck-5_S1_L002_I1_001.fastq.gz\n",
      "Approx 50% complete for Geoduck-5_S1_L002_I1_001.fastq.gz\n",
      "Approx 55% complete for Geoduck-5_S1_L002_I1_001.fastq.gz\n",
      "Approx 60% complete for Geoduck-5_S1_L002_I1_001.fastq.gz\n",
      "Approx 5% complete for Geoduck-5_S1_L002_R1_001.fastq.gz\n",
      "Approx 65% complete for Geoduck-5_S1_L002_I1_001.fastq.gz\n",
      "Approx 5% complete for Geoduck-5_S1_L002_R2_001.fastq.gz\n",
      "Approx 70% complete for Geoduck-5_S1_L002_I1_001.fastq.gz\n",
      "Approx 75% complete for Geoduck-5_S1_L002_I1_001.fastq.gz\n",
      "Approx 80% complete for Geoduck-5_S1_L002_I1_001.fastq.gz\n",
      "Approx 85% complete for Geoduck-5_S1_L002_I1_001.fastq.gz\n",
      "Approx 90% complete for Geoduck-5_S1_L002_I1_001.fastq.gz\n",
      "Approx 95% complete for Geoduck-5_S1_L002_I1_001.fastq.gz\n",
      "Analysis complete for Geoduck-5_S1_L002_I1_001.fastq.gz\n",
      "Approx 10% complete for Geoduck-5_S1_L002_R2_001.fastq.gz\n",
      "Approx 10% complete for Geoduck-5_S1_L002_R1_001.fastq.gz\n",
      "Approx 15% complete for Geoduck-5_S1_L002_R2_001.fastq.gz\n",
      "Approx 15% complete for Geoduck-5_S1_L002_R1_001.fastq.gz\n",
      "Approx 20% complete for Geoduck-5_S1_L002_R2_001.fastq.gz\n",
      "Approx 20% complete for Geoduck-5_S1_L002_R1_001.fastq.gz\n",
      "Approx 25% complete for Geoduck-5_S1_L002_R2_001.fastq.gz\n",
      "Approx 25% complete for Geoduck-5_S1_L002_R1_001.fastq.gz\n",
      "Approx 30% complete for Geoduck-5_S1_L002_R2_001.fastq.gz\n",
      "Approx 30% complete for Geoduck-5_S1_L002_R1_001.fastq.gz\n",
      "Approx 35% complete for Geoduck-5_S1_L002_R2_001.fastq.gz\n",
      "Approx 40% complete for Geoduck-5_S1_L002_R2_001.fastq.gz\n",
      "Approx 35% complete for Geoduck-5_S1_L002_R1_001.fastq.gz\n",
      "Approx 45% complete for Geoduck-5_S1_L002_R2_001.fastq.gz\n",
      "Approx 40% complete for Geoduck-5_S1_L002_R1_001.fastq.gz\n",
      "Approx 50% complete for Geoduck-5_S1_L002_R2_001.fastq.gz\n",
      "Approx 45% complete for Geoduck-5_S1_L002_R1_001.fastq.gz\n",
      "Approx 55% complete for Geoduck-5_S1_L002_R2_001.fastq.gz\n",
      "Approx 50% complete for Geoduck-5_S1_L002_R1_001.fastq.gz\n",
      "Approx 60% complete for Geoduck-5_S1_L002_R2_001.fastq.gz\n",
      "Approx 55% complete for Geoduck-5_S1_L002_R1_001.fastq.gz\n",
      "Approx 65% complete for Geoduck-5_S1_L002_R2_001.fastq.gz\n",
      "Approx 70% complete for Geoduck-5_S1_L002_R2_001.fastq.gz\n",
      "Approx 60% complete for Geoduck-5_S1_L002_R1_001.fastq.gz\n",
      "Approx 75% complete for Geoduck-5_S1_L002_R2_001.fastq.gz\n",
      "Approx 65% complete for Geoduck-5_S1_L002_R1_001.fastq.gz\n",
      "Approx 80% complete for Geoduck-5_S1_L002_R2_001.fastq.gz\n",
      "Approx 70% complete for Geoduck-5_S1_L002_R1_001.fastq.gz\n",
      "Approx 85% complete for Geoduck-5_S1_L002_R2_001.fastq.gz\n",
      "Approx 75% complete for Geoduck-5_S1_L002_R1_001.fastq.gz\n",
      "Approx 90% complete for Geoduck-5_S1_L002_R2_001.fastq.gz\n",
      "Approx 95% complete for Geoduck-5_S1_L002_R2_001.fastq.gz\n",
      "Approx 80% complete for Geoduck-5_S1_L002_R1_001.fastq.gz\n",
      "Analysis complete for Geoduck-5_S1_L002_R2_001.fastq.gz\n",
      "Approx 85% complete for Geoduck-5_S1_L002_R1_001.fastq.gz\n",
      "Approx 90% complete for Geoduck-5_S1_L002_R1_001.fastq.gz\n",
      "Approx 95% complete for Geoduck-5_S1_L002_R1_001.fastq.gz\n",
      "Analysis complete for Geoduck-5_S1_L002_R1_001.fastq.gz\n"
     ]
    }
   ],
   "source": [
    "!/Applications/bioinfo/FastQC/fastqc -t 8 \\\n",
    "-o /Volumes/Serine/wd/18-01-22/fastq_path/qc \\\n",
    "/Volumes/Serine/wd/18-01-22/fastq_path/Geoduck-5_S1_L002*.fastq.gz"
   ]
  },
  {
   "cell_type": "markdown",
   "metadata": {},
   "source": [
    "![fastqc](http://eagle.fish.washington.edu/cnidarian/skitch/Geoduck-5_S1_L002_R1_001_fastq_gz_FastQC_Report_and_qc_201A165A.png)"
   ]
  },
  {
   "cell_type": "code",
   "execution_count": null,
   "metadata": {
    "collapsed": true
   },
   "outputs": [],
   "source": []
  }
 ],
 "metadata": {
  "kernelspec": {
   "display_name": "Python 3",
   "language": "python",
   "name": "python3"
  },
  "language_info": {
   "codemirror_mode": {
    "name": "ipython",
    "version": 3
   },
   "file_extension": ".py",
   "mimetype": "text/x-python",
   "name": "python",
   "nbconvert_exporter": "python",
   "pygments_lexer": "ipython3",
   "version": "3.6.3"
  }
 },
 "nbformat": 4,
 "nbformat_minor": 2
}
