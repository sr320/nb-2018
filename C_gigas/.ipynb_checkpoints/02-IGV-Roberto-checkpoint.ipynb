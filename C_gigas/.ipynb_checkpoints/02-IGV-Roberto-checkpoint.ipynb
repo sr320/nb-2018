{
 "cells": [
  {
   "cell_type": "markdown",
   "metadata": {},
   "source": [
    "Visualizing HI-sat data"
   ]
  },
  {
   "cell_type": "code",
   "execution_count": null,
   "metadata": {
    "ExecuteTime": {
     "start_time": "2018-08-24T14:54:53.705Z"
    }
   },
   "outputs": [
    {
     "name": "stdout",
     "output_type": "stream",
     "text": [
      "INFO [2018-08-24 07:55:29,865]  [IgvTools.java:1020] [main]  1000000 reads processed ...\n",
      "1000000 reads processed ...\n",
      "INFO [2018-08-24 07:56:02,993]  [IgvTools.java:1020] [main]  2000000 reads processed ...\n",
      "2000000 reads processed ...\n",
      "INFO [2018-08-24 07:56:36,017]  [IgvTools.java:1020] [main]  3000000 reads processed ...\n",
      "3000000 reads processed ...\n",
      "INFO [2018-08-24 07:57:11,010]  [IgvTools.java:1020] [main]  4000000 reads processed ...\n",
      "4000000 reads processed ...\n",
      "INFO [2018-08-24 07:58:30,050]  [IgvTools.java:1020] [main]  5000000 reads processed ...\n",
      "5000000 reads processed ...\n",
      "INFO [2018-08-24 07:59:04,791]  [IgvTools.java:1020] [main]  6000000 reads processed ...\n",
      "6000000 reads processed ...\n",
      "INFO [2018-08-24 07:59:39,079]  [IgvTools.java:1020] [main]  7000000 reads processed ...\n",
      "7000000 reads processed ...\n",
      "INFO [2018-08-24 08:00:17,836]  [IgvTools.java:1020] [main]  8000000 reads processed ...\n",
      "8000000 reads processed ...\n",
      "INFO [2018-08-24 08:00:50,451]  [IgvTools.java:1020] [main]  9000000 reads processed ...\n",
      "9000000 reads processed ...\n",
      "INFO [2018-08-24 08:01:26,773]  [IgvTools.java:1020] [main]  10000000 reads processed ...\n",
      "10000000 reads processed ...\n",
      "INFO [2018-08-24 08:02:01,961]  [IgvTools.java:1020] [main]  11000000 reads processed ...\n",
      "11000000 reads processed ...\n",
      "INFO [2018-08-24 08:02:36,838]  [IgvTools.java:1020] [main]  12000000 reads processed ...\n",
      "12000000 reads processed ...\n",
      "INFO [2018-08-24 08:03:14,320]  [IgvTools.java:1020] [main]  13000000 reads processed ...\n",
      "13000000 reads processed ...\n",
      "INFO [2018-08-24 08:03:56,937]  [IgvTools.java:1020] [main]  14000000 reads processed ...\n",
      "14000000 reads processed ...\n"
     ]
    }
   ],
   "source": [
    "!/Applications/bioinfo/IGVTools/igvtools \\\n",
    "index \\\n",
    "/Volumes/web-1/roberto/Hisat_results/*.bam"
   ]
  },
  {
   "cell_type": "code",
   "execution_count": null,
   "metadata": {},
   "outputs": [],
   "source": []
  }
 ],
 "metadata": {
  "kernelspec": {
   "display_name": "Python 3",
   "language": "python",
   "name": "python3"
  },
  "language_info": {
   "codemirror_mode": {
    "name": "ipython",
    "version": 3
   },
   "file_extension": ".py",
   "mimetype": "text/x-python",
   "name": "python",
   "nbconvert_exporter": "python",
   "pygments_lexer": "ipython3",
   "version": "3.6.3"
  }
 },
 "nbformat": 4,
 "nbformat_minor": 2
}
