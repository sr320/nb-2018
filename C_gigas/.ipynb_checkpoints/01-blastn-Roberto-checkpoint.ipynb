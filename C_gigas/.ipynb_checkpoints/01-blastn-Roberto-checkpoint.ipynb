{
 "cells": [
  {
   "cell_type": "markdown",
   "metadata": {},
   "source": [
    "Here blast will be used to find complements of biomarkers discovered in denovo transcriptome in genome."
   ]
  },
  {
   "cell_type": "code",
   "execution_count": 13,
   "metadata": {
    "ExecuteTime": {
     "end_time": "2018-08-14T12:45:19.333633Z",
     "start_time": "2018-08-14T12:45:19.200271Z"
    }
   },
   "outputs": [
    {
     "name": "stdout",
     "output_type": "stream",
     "text": [
      ">TRINITY_GG_9456_c0_g1_i2\r\n",
      "CAAAAGCCTTTCGGGGTGGAACTTGTGACAAAACTTAGAAAAGTTTCTACAAAAGTGTAA\r\n",
      "CAAGAAGAATGATCACAAAAGTGCACTCAATGAGGCAGCAAGATGAATGATTTCTTCACT\r\n",
      "GACTCTTCACTAACCTTAAATGGCTTGTTTAAGCCTGACACAGTACGAAAGTTTGGGAGG\r\n",
      "GAACTTTTGCCATCTTTTTCTGAGGTAATGAGACCCATGGAAAAACCCTTCCCTTTCACC\r\n",
      "AGGCCAGAATCCCCGTGTTCTCCCCTGGATCTTCACATGAGTCCAAAACGGAATCCACCA\r\n",
      "GATGATTCAATAACTCCTGAATCAGCTCAGAAAAAGCAAACTCATACTGACGACCAGGGT\r\n",
      "CATCAAACCTGTAGTGACCAAAATTCAATGAAGAATTCAAAAGGAGATCAAGACGGAATG\r\n",
      "GATCGTTTTTCTCTGACACCTCAGCAGTTGGAGGAGAGGGCTCAAGAGTTTCTTAGATTC\r\n",
      "TCTGAGTTTGGATCAAAGAGGAAACTATTTCATATACCTGTTTATTTGCCAGAGCAAATG\r\n"
     ]
    }
   ],
   "source": [
    "## Query\n",
    "!head data/MM_gigas.fasta"
   ]
  },
  {
   "cell_type": "code",
   "execution_count": 14,
   "metadata": {
    "ExecuteTime": {
     "end_time": "2018-08-14T12:45:21.303987Z",
     "start_time": "2018-08-14T12:45:21.173257Z"
    }
   },
   "outputs": [
    {
     "name": "stdout",
     "output_type": "stream",
     "text": [
      "28\r\n"
     ]
    }
   ],
   "source": [
    "!fgrep -c \">\" data/MM_gigas.fasta"
   ]
  },
  {
   "cell_type": "code",
   "execution_count": 5,
   "metadata": {
    "ExecuteTime": {
     "end_time": "2018-08-14T12:34:34.435790Z",
     "start_time": "2018-08-14T12:34:34.303982Z"
    }
   },
   "outputs": [
    {
     "name": "stdout",
     "output_type": "stream",
     "text": [
      "==> blastdb/Crassostrea_gigas.oyster_v9.cdna.all.fa <==\r\n",
      ">CGI_10003702.1 cdna supercontig:oyster_v9:scaffold941:130:1732:-1 gene:CGI_10003702 gene_biotype:nontranslating_CDS transcript_biotype:nontranslating_CDS\r\n",
      "ATGCAGGCACGTAGCATCGTTTTTTAGAATGAAGTTCTGTTGTTAGAGCATGATATTCCT\r\n",
      "CATGCTGGATTCTCGGAGGCAGTTCTTAACTGTCTGCCCACACTGCCATGGGAAATCACA\r\n",
      "AAGGAGGATATGGAGTGTCGGAAGGACTTCCGTGACCTCGACATATGCAGTGTGGACCCC\r\n",
      "CCAGGCTGTACAGACATTGATGACGCCTTACACTGTAGGGACCTCCCAAATGGGAACCTC\r\n",
      "GAGGTTGGGGTACACATAGCAGATGTGTCTCACTTTATCCGGCCAGGGACGGCCATTGAC\r\n",
      "AAGGAGGCAGAGAGGAGAGGGACAACTAGGATTGACATGGTTCCTGAGTTGCTGAGCTCT\r\n",
      "AACCTTTGTTCCTTGAGGTCCAATGTTGAAAGATTTGCCTTTTCTGTTATATGGGAGATC\r\n",
      "ACAAACGATGCAGAGATTGTTAAGGCAAGATATGCTAAGAGTGTCATCAAATCTAAGGTA\r\n",
      "CATTTACTGATATTTAAACATTTATAA\r\n",
      "\r\n",
      "==> blastdb/Crassostrea_gigas.oyster_v9.cds.all.fa <==\r\n",
      ">EKC21897 cds supercontig:oyster_v9:scaffold39040:38002:64552:-1 gene:CGI_10003145 gene_biotype:protein_coding transcript_biotype:protein_coding description:WD repeat-containing protein C10orf79  [Source:UniProtKB/TrEMBL;Acc:K1PDE1]\r\n",
      "ATGGATGCAGTTGGATCTTTAGAACTATCGTGGGCACAAGGATACAATGGTGGTAAAGTT\r\n",
      "GGTTACATCGACAAAGATGTAATCTGTTACCAGGCAGGAAGTAACATCAAGTTCATTGCA\r\n",
      "GAAGATGGTGCAGAAACTGTCTTTAATTTCAAAGGAAATGGAGTGGGCCCATTCGCAGTT\r\n",
      "CACGCAACTAACAAGTGTTTTGCAGTAGCTGAAAGATGTCTCAACCCAAAAATCACTGTC\r\n",
      "TATGTATACCCAACATTCAGAGAGGCAGCAGTTTTAAAAGATGGGGCTAAGCTGGAATAC\r\n",
      "AGGTCACTGGTTTTCTCCCACAGTGAATACATGGTCACCATCACTGGAATACCAGAATTC\r\n",
      "CAGCTCATGTTATGGCGGTATACAGATGGAACGAAACTGACCTCTGTTGACATCACATCG\r\n",
      "GATCCAGTGTCCAGTGTGACCTTTAACCCAGGGAACTGGAGACAGCTTTGTGTAACCACG\r\n",
      "GAGAAATCGATGACCGTTTGGAACACCGAGCAGAGCAATGACAAATATGTCATGTTACCA\r\n",
      "\r\n",
      "==> blastdb/Crassostrea_gigas.oyster_v9.pep.all.fa <==\r\n",
      ">EKC21897 pep supercontig:oyster_v9:scaffold39040:38002:64552:-1 gene:CGI_10003145 transcript:EKC21897 gene_biotype:protein_coding transcript_biotype:protein_coding description:WD repeat-containing protein C10orf79  [Source:UniProtKB/TrEMBL;Acc:K1PDE1]\r\n",
      "MDAVGSLELSWAQGYNGGKVGYIDKDVICYQAGSNIKFIAEDGAETVFNFKGNGVGPFAV\r\n",
      "HATNKCFAVAERCLNPKITVYVYPTFREAAVLKDGAKLEYRSLVFSHSEYMVTITGIPEF\r\n",
      "QLMLWRYTDGTKLTSVDITSDPVSSVTFNPGNWRQLCVTTEKSMTVWNTEQSNDKYVMLP\r\n",
      "QKIKLPAENPSLNSDEEKDRDIPTRASTRMTRYTIDLPKAAIAGLVGERAEALDEVQDTT\r\n",
      "PRVVPLSHTWSPSGDVYVGCQGGQILKVDGEIYKAKLFYHPLPPASAPNSRATSATSRFN\r\n",
      "SQLDLTTADEVRDMILEGGADCVLLHKKGLYVAGQDGILRLIDLKSEEFKLLEQIPIGNP\r\n",
      "VTSMAFSPNYRHLSLATGKGTLHVYDIGSPPESVKTLKNIHWGNVVGVSCLAGNEYCVSV\r\n",
      "REDGELQVWTIDKGLLISSVSVGVQALCLACCPMVHVAAVGTVSGHVYYVDLTFPKKPRV\r\n",
      "VKAMRMYQGPVTHLTYESDGKYLVSGSDDGHVIVVDGRASVNFKPVGYTTIPGDIQSIAT\r\n"
     ]
    }
   ],
   "source": [
    "# Database\n",
    "!head blastdb/*.fa\n"
   ]
  },
  {
   "cell_type": "code",
   "execution_count": 7,
   "metadata": {
    "ExecuteTime": {
     "end_time": "2018-08-14T12:35:25.469230Z",
     "start_time": "2018-08-14T12:35:25.277714Z"
    }
   },
   "outputs": [
    {
     "name": "stdout",
     "output_type": "stream",
     "text": [
      "USAGE\r\n",
      "  makeblastdb [-h] [-help] [-in input_file] [-input_type type]\r\n",
      "    -dbtype molecule_type [-title database_title] [-parse_seqids]\r\n",
      "    [-hash_index] [-mask_data mask_data_files] [-mask_id mask_algo_ids]\r\n",
      "    [-mask_desc mask_algo_descriptions] [-gi_mask]\r\n",
      "    [-gi_mask_name gi_based_mask_names] [-out database_name]\r\n",
      "    [-max_file_sz number_of_bytes] [-logfile File_Name] [-taxid TaxID]\r\n",
      "    [-taxid_map TaxIDMapFile] [-version]\r\n",
      "\r\n",
      "DESCRIPTION\r\n",
      "   Application to create BLAST databases, version 2.7.1+\r\n",
      "\r\n",
      "Use '-help' to print detailed descriptions of command line arguments\r\n",
      "========================================================================\r\n",
      "\r\n",
      "Error: Argument \"dbtype\". Mandatory value is missing:  `String, `nucl', `prot''\r\n",
      "Error:  (CArgException::eNoArg) Argument \"dbtype\". Mandatory value is missing:  `String, `nucl', `prot''\r\n"
     ]
    }
   ],
   "source": [
    "!/Applications/bioinfo/ncbi-blast-2.7.1+/bin/makeblastdb\n"
   ]
  },
  {
   "cell_type": "code",
   "execution_count": 8,
   "metadata": {
    "ExecuteTime": {
     "end_time": "2018-08-14T12:37:19.806880Z",
     "start_time": "2018-08-14T12:37:18.687874Z"
    }
   },
   "outputs": [
    {
     "name": "stdout",
     "output_type": "stream",
     "text": [
      "\n",
      "\n",
      "Building a new DB, current time: 08/14/2018 05:37:18\n",
      "New DB name:   /Users/sr320/Documents/GitHub/nb-2018/C_gigas/blastdb/Crassostrea_gigas.oyster_v9.cdna\n",
      "New DB title:  blastdb/Crassostrea_gigas.oyster_v9.cdna.all.fa\n",
      "Sequence type: Nucleotide\n",
      "Keep MBits: T\n",
      "Maximum file size: 1000000000B\n",
      "Adding sequences from FASTA; added 26101 sequences in 0.971512 seconds.\n"
     ]
    }
   ],
   "source": [
    "!/Applications/bioinfo/ncbi-blast-2.7.1+/bin/makeblastdb \\\n",
    "-in blastdb/Crassostrea_gigas.oyster_v9.cdna.all.fa \\\n",
    "-dbtype nucl \\\n",
    "-out blastdb/Crassostrea_gigas.oyster_v9.cdna\n",
    "\n",
    "\n"
   ]
  },
  {
   "cell_type": "markdown",
   "metadata": {},
   "source": [
    "## Blast"
   ]
  },
  {
   "cell_type": "code",
   "execution_count": 31,
   "metadata": {
    "ExecuteTime": {
     "end_time": "2018-08-14T12:54:05.451135Z",
     "start_time": "2018-08-14T12:54:05.246267Z"
    }
   },
   "outputs": [],
   "source": [
    "!/Applications/bioinfo/ncbi-blast-2.7.1+/bin/blastn \\\n",
    "-query data/MM_gigas.fasta \\\n",
    "-db blastdb/Crassostrea_gigas.oyster_v9.cdna \\\n",
    "-max_target_seqs 1 \\\n",
    "-max_hsps 1 \\\n",
    "-outfmt \"6 std stitle\" \\\n",
    "-num_threads 4 \\\n",
    "-out analyses/MM_Cg9-cDNA-01.blastout"
   ]
  },
  {
   "cell_type": "code",
   "execution_count": 33,
   "metadata": {
    "ExecuteTime": {
     "end_time": "2018-08-14T12:54:47.357904Z",
     "start_time": "2018-08-14T12:54:47.231381Z"
    }
   },
   "outputs": [
    {
     "name": "stdout",
     "output_type": "stream",
     "text": [
      "TRINITY_GG_9456_c0_g1_i2\tEKC23658\t99.435\t1239\t7\t0\t208\t1446\t1\t1239\t0.0\t2250\tEKC23658 cdna supercontig:oyster_v9:scaffold1866:64407:66142:-1 gene:CGI_10017904 gene_biotype:protein_coding transcript_biotype:protein_coding description:Zinc finger protein 26  [Source:UniProtKB/TrEMBL;Acc:K1PPX3]\r\n",
      "TRINITY_GG_49344_c3_g1_i1\tEKC38284\t100.000\t69\t0\t0\t550\t618\t1\t69\t8.69e-29\t128\tEKC38284 cdna supercontig:oyster_v9:scaffold351:540168:560891:-1 gene:CGI_10022610 gene_biotype:protein_coding transcript_biotype:protein_coding\r\n",
      "TRINITY_GG_49344_c4_g3_i5\tEKC38285\t99.176\t971\t8\t0\t92\t1062\t1265\t2235\t0.0\t1749\tEKC38285 cdna supercontig:oyster_v9:scaffold351:562700:573430:-1 gene:CGI_10022611 gene_biotype:protein_coding transcript_biotype:protein_coding description:UPF0712 protein C7orf64-like protein  [Source:UniProtKB/TrEMBL;Acc:K1RAM5]\r\n",
      "TRINITY_GG_71695_c7_g2_i4\tEKC32826\t100.000\t84\t0\t0\t1\t84\t1248\t1165\t5.33e-37\t156\tEKC32826 cdna supercontig:oyster_v9:scaffold787:44284:65089:1 gene:CGI_10011645 gene_biotype:protein_coding transcript_biotype:protein_coding description:Melatonin-related receptor  [Source:UniProtKB/TrEMBL;Acc:K1RFC1]\r\n",
      "TRINITY_GG_73605_c0_g1_i5\tEKC36897\t82.099\t810\t126\t8\t103\t907\t42\t837\t0.0\t675\tEKC36897 cdna supercontig:oyster_v9:scaffold433:703882:722085:-1 gene:CGI_10027089 gene_biotype:protein_coding transcript_biotype:protein_coding\r\n",
      "TRINITY_GG_87062_c3_g1_i4\tEKC40320\t96.949\t295\t9\t0\t1\t295\t1343\t1049\t4.52e-140\t496\tEKC40320 cdna supercontig:oyster_v9:scaffold191:650718:657230:1 gene:CGI_10022427 gene_biotype:protein_coding transcript_biotype:protein_coding description:Receptor-type tyrosine-protein phosphatase mu  [Source:UniProtKB/TrEMBL;Acc:K1RFX0]\r\n",
      "TRINITY_GG_90757_c6_g1_i2\tEKC24511\t93.548\t93\t6\t0\t721\t813\t93\t1\t4.82e-32\t139\tEKC24511 cdna supercontig:oyster_v9:scaffold1792:322843:336201:-1 gene:CGI_10012752 gene_biotype:protein_coding transcript_biotype:protein_coding description:Multiple epidermal growth factor-like domains 10  [Source:UniProtKB/TrEMBL;Acc:K1QSD4]\r\n",
      "TRINITY_GG_92464_c0_g1_i1\tEKC18862\t99.068\t322\t2\t1\t64\t385\t4290\t3970\t3.82e-164\t577\tEKC18862 cdna supercontig:oyster_v9:scaffold43522:83396:104526:1 gene:CGI_10010551 gene_biotype:protein_coding transcript_biotype:protein_coding description:Methionine synthase  [Source:UniProtKB/TrEMBL;Acc:K1P5E0]\r\n",
      "TRINITY_GG_96089_c0_g1_i2\tEKC21292\t90.385\t104\t9\t1\t2354\t2456\t847\t950\t1.08e-30\t135\tEKC21292 cdna supercontig:oyster_v9:scaffold40512:21232:31093:1 gene:CGI_10004192 gene_biotype:protein_coding transcript_biotype:protein_coding\r\n",
      "TRINITY_GG_90531_c1_g1_i2\tEKC31027\t98.639\t147\t2\t0\t261\t407\t373\t519\t8.12e-69\t261\tEKC31027 cdna supercontig:oyster_v9:scaffold1017:787938:793574:-1 gene:CGI_10025028 gene_biotype:protein_coding transcript_biotype:protein_coding description:Survival of motor neuron-related-splicing factor 30  [Source:UniProtKB/TrEMBL;Acc:K1Q3I2]\r\n",
      "TRINITY_GG_69185_c1_g2_i1\tEKC29075\t97.266\t256\t7\t0\t217\t472\t2560\t2815\t1.64e-121\t435\tEKC29075 cdna supercontig:oyster_v9:scaffold1222:304957:327237:1 gene:CGI_10016246 gene_biotype:protein_coding transcript_biotype:protein_coding description:Exocyst complex component 2  [Source:UniProtKB/TrEMBL;Acc:K1QJP7]\r\n",
      "TRINITY_GG_3671_c0_g1_i1\tEKC24440\t99.793\t482\t1\t0\t34\t515\t351\t832\t0.0\t885\tEKC24440 cdna supercontig:oyster_v9:scaffold1800:309587:323793:1 gene:CGI_10016406 gene_biotype:protein_coding transcript_biotype:protein_coding description:Centrin-1  [Source:UniProtKB/TrEMBL;Acc:K1Q6D7]\r\n",
      "TRINITY_GG_4179_c3_g1_i3\tEKC21353\t98.682\t531\t7\t0\t117\t647\t25\t555\t0.0\t942\tEKC21353 cdna supercontig:oyster_v9:scaffold40380:81950:90421:-1 gene:CGI_10004072 gene_biotype:protein_coding transcript_biotype:protein_coding description:Syndecan  [Source:UniProtKB/TrEMBL;Acc:K1PIE7]\r\n",
      "TRINITY_GG_22649_c0_g1_i1\tEKC39122\t97.452\t157\t4\t0\t127\t283\t555\t399\t1.82e-71\t268\tEKC39122 cdna supercontig:oyster_v9:scaffold286:182912:187198:-1 gene:CGI_10015964 gene_biotype:protein_coding transcript_biotype:protein_coding\r\n",
      "TRINITY_GG_56961_c0_g1_i1\tEKC42379\t87.282\t401\t50\t1\t635\t1035\t1\t400\t8.40e-128\t457\tEKC42379 cdna supercontig:oyster_v9:scaffold64:117828:132177:-1 gene:CGI_10005753 gene_biotype:protein_coding transcript_biotype:protein_coding\r\n",
      "TRINITY_GG_45091_c0_g1_i1\tEKC26552\t84.926\t272\t39\t2\t1\t271\t714\t444\t2.10e-73\t274\tEKC26552 cdna supercontig:oyster_v9:scaffold1560:158184:159530:-1 gene:CGI_10009795 gene_biotype:protein_coding transcript_biotype:protein_coding\r\n"
     ]
    }
   ],
   "source": [
    "!cat analyses/MM_Cg9-cDNA-01.blastout"
   ]
  },
  {
   "cell_type": "code",
   "execution_count": null,
   "metadata": {},
   "outputs": [],
   "source": [
    "direct link to blastout: "
   ]
  }
 ],
 "metadata": {
  "kernelspec": {
   "display_name": "Python 3",
   "language": "python",
   "name": "python3"
  },
  "language_info": {
   "codemirror_mode": {
    "name": "ipython",
    "version": 3
   },
   "file_extension": ".py",
   "mimetype": "text/x-python",
   "name": "python",
   "nbconvert_exporter": "python",
   "pygments_lexer": "ipython3",
   "version": "3.6.3"
  }
 },
 "nbformat": 4,
 "nbformat_minor": 2
}
