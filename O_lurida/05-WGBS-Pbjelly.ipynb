{
 "cells": [
  {
   "cell_type": "code",
   "execution_count": 1,
   "metadata": {
    "collapsed": true
   },
   "outputs": [],
   "source": [
    "mkdir /Volumes/Serine/wd/18-03-07/bsmap"
   ]
  },
  {
   "cell_type": "code",
   "execution_count": null,
   "metadata": {
    "collapsed": true
   },
   "outputs": [],
   "source": [
    "%%bash\n",
    "find /Volumes/Serine/wd/18-03-07/WG-BS/*gz \\\n",
    "| xargs basename -s .fastq.gz | xargs -I{} /Applications/bioinfo/BSMAP/bsmap-2.74/bsmap \\\n",
    "-a /Volumes/Serine/wd/18-03-07/WG-BS/{}.fastq.gz \\\n",
    "-d /Volumes/Serine/wd/18-03-07/Ol-pbjelly10k.fa \\\n",
    "-o /Volumes/Serine/wd/18-03-07/bsmap/{}-bsmap_out_jelly10k.sam \\\n",
    "-p 8 \\\n",
    "2> /Volumes/Serine/wd/18-03-07/bsmap/{}-stderr_bsmap_jelly.txt"
   ]
  },
  {
   "cell_type": "code",
   "execution_count": null,
   "metadata": {
    "collapsed": true
   },
   "outputs": [],
   "source": []
  }
 ],
 "metadata": {
  "kernelspec": {
   "display_name": "Python 2",
   "language": "python",
   "name": "python2"
  },
  "language_info": {
   "codemirror_mode": {
    "name": "ipython",
    "version": 2
   },
   "file_extension": ".py",
   "mimetype": "text/x-python",
   "name": "python",
   "nbconvert_exporter": "python",
   "pygments_lexer": "ipython2",
   "version": "2.7.12"
  }
 },
 "nbformat": 4,
 "nbformat_minor": 0
}
