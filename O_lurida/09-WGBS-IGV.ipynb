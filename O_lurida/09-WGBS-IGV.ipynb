{
 "cells": [
  {
   "cell_type": "markdown",
   "metadata": {},
   "source": [
    "# Bismark Bedgraphs\n",
    "not using as 1x"
   ]
  },
  {
   "cell_type": "code",
   "execution_count": 7,
   "metadata": {
    "ExecuteTime": {
     "end_time": "2018-09-18T22:34:59.991112Z",
     "start_time": "2018-09-18T22:34:47.445887Z"
    }
   },
   "outputs": [],
   "source": [
    "!cp /Volumes/web-1/Athaliana/20180913_oly_WGBSseq_bismark/*bedGra* \\\n",
    "data\n"
   ]
  },
  {
   "cell_type": "code",
   "execution_count": 8,
   "metadata": {
    "ExecuteTime": {
     "end_time": "2018-09-18T22:35:05.889158Z",
     "start_time": "2018-09-18T22:35:05.746415Z"
    }
   },
   "outputs": [
    {
     "name": "stdout",
     "output_type": "stream",
     "text": [
      "1_ATCACG_L001_R1_001_trimmed_bismark_bt2.deduplicated.bedGraph.gz\r\n",
      "2_CGATGT_L001_R1_001_trimmed_bismark_bt2.deduplicated.bedGraph.gz\r\n",
      "3_TTAGGC_L001_R1_001_trimmed_bismark_bt2.deduplicated.bedGraph.gz\r\n",
      "4_TGACCA_L001_R1_001_trimmed_bismark_bt2.deduplicated.bedGraph.gz\r\n",
      "5_ACAGTG_L001_R1_001_trimmed_bismark_bt2.deduplicated.bedGraph.gz\r\n",
      "6_GCCAAT_L001_R1_001_trimmed_bismark_bt2.deduplicated.bedGraph.gz\r\n",
      "7_CAGATC_L001_R1_001_trimmed_bismark_bt2.deduplicated.bedGraph.gz\r\n",
      "8_ACTTGA_L001_R1_001_trimmed_bismark_bt2.deduplicated.bedGraph.gz\r\n"
     ]
    }
   ],
   "source": [
    "ls data"
   ]
  },
  {
   "cell_type": "code",
   "execution_count": 9,
   "metadata": {
    "ExecuteTime": {
     "end_time": "2018-09-18T22:35:18.492205Z",
     "start_time": "2018-09-18T22:35:15.409871Z"
    }
   },
   "outputs": [],
   "source": [
    "!gunzip -k data/*"
   ]
  },
  {
   "cell_type": "code",
   "execution_count": 10,
   "metadata": {
    "ExecuteTime": {
     "end_time": "2018-09-18T22:35:20.551223Z",
     "start_time": "2018-09-18T22:35:20.414851Z"
    }
   },
   "outputs": [
    {
     "name": "stdout",
     "output_type": "stream",
     "text": [
      "1_ATCACG_L001_R1_001_trimmed_bismark_bt2.deduplicated.bedGraph\r\n",
      "1_ATCACG_L001_R1_001_trimmed_bismark_bt2.deduplicated.bedGraph.gz\r\n",
      "2_CGATGT_L001_R1_001_trimmed_bismark_bt2.deduplicated.bedGraph\r\n",
      "2_CGATGT_L001_R1_001_trimmed_bismark_bt2.deduplicated.bedGraph.gz\r\n",
      "3_TTAGGC_L001_R1_001_trimmed_bismark_bt2.deduplicated.bedGraph\r\n",
      "3_TTAGGC_L001_R1_001_trimmed_bismark_bt2.deduplicated.bedGraph.gz\r\n",
      "4_TGACCA_L001_R1_001_trimmed_bismark_bt2.deduplicated.bedGraph\r\n",
      "4_TGACCA_L001_R1_001_trimmed_bismark_bt2.deduplicated.bedGraph.gz\r\n",
      "5_ACAGTG_L001_R1_001_trimmed_bismark_bt2.deduplicated.bedGraph\r\n",
      "5_ACAGTG_L001_R1_001_trimmed_bismark_bt2.deduplicated.bedGraph.gz\r\n",
      "6_GCCAAT_L001_R1_001_trimmed_bismark_bt2.deduplicated.bedGraph\r\n",
      "6_GCCAAT_L001_R1_001_trimmed_bismark_bt2.deduplicated.bedGraph.gz\r\n",
      "7_CAGATC_L001_R1_001_trimmed_bismark_bt2.deduplicated.bedGraph\r\n",
      "7_CAGATC_L001_R1_001_trimmed_bismark_bt2.deduplicated.bedGraph.gz\r\n",
      "8_ACTTGA_L001_R1_001_trimmed_bismark_bt2.deduplicated.bedGraph\r\n",
      "8_ACTTGA_L001_R1_001_trimmed_bismark_bt2.deduplicated.bedGraph.gz\r\n"
     ]
    }
   ],
   "source": [
    "ls data"
   ]
  },
  {
   "cell_type": "markdown",
   "metadata": {},
   "source": [
    "# Grabing Bismarck Bams to make bed based on Coverage"
   ]
  },
  {
   "cell_type": "code",
   "execution_count": 14,
   "metadata": {
    "ExecuteTime": {
     "end_time": "2018-09-19T18:26:26.643309Z",
     "start_time": "2018-09-19T18:23:58.434121Z"
    }
   },
   "outputs": [],
   "source": [
    "cp /Volumes/web/Athaliana/20180913_oly_WGBSseq_bismark/*sorted.bam \\\n",
    "data"
   ]
  },
  {
   "cell_type": "code",
   "execution_count": 17,
   "metadata": {
    "ExecuteTime": {
     "end_time": "2018-09-19T18:30:28.470475Z",
     "start_time": "2018-09-19T18:29:52.452036Z"
    }
   },
   "outputs": [
    {
     "name": "stdout",
     "output_type": "stream",
     "text": [
      "INFO [2018-09-19 11:30:00,540]  [IgvTools.java:1020] [main]  1000000 reads processed ...\n",
      "1000000 reads processed ...\n",
      "INFO [2018-09-19 11:30:04,599]  [IgvTools.java:1020] [main]  2000000 reads processed ...\n",
      "2000000 reads processed ...\n",
      "INFO [2018-09-19 11:30:10,171]  [IgvTools.java:1020] [main]  3000000 reads processed ...\n",
      "3000000 reads processed ...\n",
      "INFO [2018-09-19 11:30:26,592]  [IgvTools.java:1020] [main]  4000000 reads processed ...\n",
      "4000000 reads processed ...\n",
      "^C\n"
     ]
    }
   ],
   "source": [
    "!/Applications/bioinfo/IGVTools/igvtools \\\n",
    "index data/*bam*"
   ]
  },
  {
   "cell_type": "code",
   "execution_count": 18,
   "metadata": {
    "ExecuteTime": {
     "end_time": "2018-09-19T18:32:14.047095Z",
     "start_time": "2018-09-19T18:31:37.377942Z"
    }
   },
   "outputs": [
    {
     "name": "stdout",
     "output_type": "stream",
     "text": [
      "INFO [2018-09-19 11:31:45,193]  [IgvTools.java:1020] [main]  1000000 reads processed ...\n",
      "1000000 reads processed ...\n",
      "INFO [2018-09-19 11:31:49,002]  [IgvTools.java:1020] [main]  2000000 reads processed ...\n",
      "2000000 reads processed ...\n",
      "INFO [2018-09-19 11:31:52,834]  [IgvTools.java:1020] [main]  3000000 reads processed ...\n",
      "3000000 reads processed ...\n",
      "INFO [2018-09-19 11:32:02,546]  [IgvTools.java:1020] [main]  4000000 reads processed ...\n",
      "4000000 reads processed ...\n",
      "Done\n"
     ]
    }
   ],
   "source": [
    "!/Applications/bioinfo/IGVTools/igvtools \\\n",
    "index /Volumes/web-1/seashell/wd/091918/*.bam"
   ]
  },
  {
   "cell_type": "code",
   "execution_count": 24,
   "metadata": {
    "ExecuteTime": {
     "end_time": "2018-09-19T18:51:41.634101Z",
     "start_time": "2018-09-19T18:51:41.603769Z"
    }
   },
   "outputs": [
    {
     "name": "stdout",
     "output_type": "stream",
     "text": [
      "/Volumes/web-1/seashell/wd/091918/1_ATCACG_L001_R1_001_trimmed_bismark_bt2.deduplicated.sorted.bam\n",
      "/Volumes/web-1/seashell/wd/091918/2_CGATGT_L001_R1_001_trimmed_bismark_bt2.deduplicated.sorted.bam\n",
      "/Volumes/web-1/seashell/wd/091918/3_TTAGGC_L001_R1_001_trimmed_bismark_bt2.deduplicated.sorted.bam\n",
      "/Volumes/web-1/seashell/wd/091918/4_TGACCA_L001_R1_001_trimmed_bismark_bt2.deduplicated.sorted.bam\n",
      "/Volumes/web-1/seashell/wd/091918/5_ACAGTG_L001_R1_001_trimmed_bismark_bt2.deduplicated.sorted.bam\n",
      "/Volumes/web-1/seashell/wd/091918/6_GCCAAT_L001_R1_001_trimmed_bismark_bt2.deduplicated.sorted.bam\n",
      "/Volumes/web-1/seashell/wd/091918/7_CAGATC_L001_R1_001_trimmed_bismark_bt2.deduplicated.sorted.bam\n",
      "/Volumes/web-1/seashell/wd/091918/8_ACTTGA_L001_R1_001_trimmed_bismark_bt2.deduplicated.sorted.bam\n"
     ]
    }
   ],
   "source": [
    "%%bash\n",
    "for f in /Volumes/web-1/seashell/wd/091918/*.bam\n",
    "do\n",
    "echo $f\n",
    "done"
   ]
  },
  {
   "cell_type": "markdown",
   "metadata": {
    "ExecuteTime": {
     "end_time": "2018-09-19T20:47:25.621119Z",
     "start_time": "2018-09-19T20:47:25.606560Z"
    }
   },
   "source": [
    "## Genome Coverage"
   ]
  },
  {
   "cell_type": "code",
   "execution_count": 26,
   "metadata": {
    "ExecuteTime": {
     "end_time": "2018-09-19T19:00:41.130425Z",
     "start_time": "2018-09-19T18:54:26.608900Z"
    }
   },
   "outputs": [],
   "source": [
    "%%bash\n",
    "for f in /Volumes/web-1/seashell/wd/091918/*.bam\n",
    "do\n",
    "/Applications/bioinfo/bedtools2/bin/genomeCoverageBed \\\n",
    "-ibam $f \\\n",
    "-bg | awk '$4 >= 3' > /Volumes/web-1/seashell/wd/091918/$(basename \"${f}\" _L001_R1_001_trimmed_bismark_bt2.deduplicated.sorted.bam)_3x.bedgraph\n",
    "done"
   ]
  },
  {
   "cell_type": "code",
   "execution_count": 27,
   "metadata": {
    "ExecuteTime": {
     "end_time": "2018-09-19T20:28:29.684874Z",
     "start_time": "2018-09-19T20:23:25.219741Z"
    },
    "scrolled": true
   },
   "outputs": [
    {
     "name": "stdout",
     "output_type": "stream",
     "text": [
      "INFO [2018-09-19 13:23:34,097]  [IgvTools.java:1020] [main]  1000000 reads processed ...\n",
      "1000000 reads processed ...\n",
      "INFO [2018-09-19 13:23:37,307]  [IgvTools.java:1020] [main]  2000000 reads processed ...\n",
      "2000000 reads processed ...\n",
      "INFO [2018-09-19 13:23:41,158]  [IgvTools.java:1020] [main]  3000000 reads processed ...\n",
      "3000000 reads processed ...\n",
      "INFO [2018-09-19 13:23:50,809]  [IgvTools.java:1020] [main]  4000000 reads processed ...\n",
      "4000000 reads processed ...\n",
      "Done\n",
      "INFO [2018-09-19 13:24:09,100]  [IgvTools.java:1020] [main]  1000000 reads processed ...\n",
      "1000000 reads processed ...\n",
      "INFO [2018-09-19 13:24:12,316]  [IgvTools.java:1020] [main]  2000000 reads processed ...\n",
      "2000000 reads processed ...\n",
      "INFO [2018-09-19 13:24:15,349]  [IgvTools.java:1020] [main]  3000000 reads processed ...\n",
      "3000000 reads processed ...\n",
      "INFO [2018-09-19 13:24:19,534]  [IgvTools.java:1020] [main]  4000000 reads processed ...\n",
      "4000000 reads processed ...\n",
      "INFO [2018-09-19 13:24:30,148]  [IgvTools.java:1020] [main]  5000000 reads processed ...\n",
      "5000000 reads processed ...\n",
      "Done\n",
      "INFO [2018-09-19 13:24:47,395]  [IgvTools.java:1020] [main]  1000000 reads processed ...\n",
      "1000000 reads processed ...\n",
      "INFO [2018-09-19 13:24:50,547]  [IgvTools.java:1020] [main]  2000000 reads processed ...\n",
      "2000000 reads processed ...\n",
      "INFO [2018-09-19 13:24:53,566]  [IgvTools.java:1020] [main]  3000000 reads processed ...\n",
      "3000000 reads processed ...\n",
      "INFO [2018-09-19 13:24:57,968]  [IgvTools.java:1020] [main]  4000000 reads processed ...\n",
      "4000000 reads processed ...\n",
      "INFO [2018-09-19 13:25:10,633]  [IgvTools.java:1020] [main]  5000000 reads processed ...\n",
      "5000000 reads processed ...\n",
      "Done\n",
      "INFO [2018-09-19 13:25:25,920]  [IgvTools.java:1020] [main]  1000000 reads processed ...\n",
      "1000000 reads processed ...\n",
      "INFO [2018-09-19 13:25:29,005]  [IgvTools.java:1020] [main]  2000000 reads processed ...\n",
      "2000000 reads processed ...\n",
      "INFO [2018-09-19 13:25:32,080]  [IgvTools.java:1020] [main]  3000000 reads processed ...\n",
      "3000000 reads processed ...\n",
      "INFO [2018-09-19 13:25:36,139]  [IgvTools.java:1020] [main]  4000000 reads processed ...\n",
      "4000000 reads processed ...\n",
      "INFO [2018-09-19 13:25:47,814]  [IgvTools.java:1020] [main]  5000000 reads processed ...\n",
      "5000000 reads processed ...\n",
      "Done\n",
      "INFO [2018-09-19 13:26:03,711]  [IgvTools.java:1020] [main]  1000000 reads processed ...\n",
      "1000000 reads processed ...\n",
      "INFO [2018-09-19 13:26:06,801]  [IgvTools.java:1020] [main]  2000000 reads processed ...\n",
      "2000000 reads processed ...\n",
      "INFO [2018-09-19 13:26:09,710]  [IgvTools.java:1020] [main]  3000000 reads processed ...\n",
      "3000000 reads processed ...\n",
      "INFO [2018-09-19 13:26:13,251]  [IgvTools.java:1020] [main]  4000000 reads processed ...\n",
      "4000000 reads processed ...\n",
      "INFO [2018-09-19 13:26:19,841]  [IgvTools.java:1020] [main]  5000000 reads processed ...\n",
      "5000000 reads processed ...\n",
      "Done\n",
      "INFO [2018-09-19 13:26:41,982]  [IgvTools.java:1020] [main]  1000000 reads processed ...\n",
      "1000000 reads processed ...\n",
      "INFO [2018-09-19 13:26:45,126]  [IgvTools.java:1020] [main]  2000000 reads processed ...\n",
      "2000000 reads processed ...\n",
      "INFO [2018-09-19 13:26:48,121]  [IgvTools.java:1020] [main]  3000000 reads processed ...\n",
      "3000000 reads processed ...\n",
      "INFO [2018-09-19 13:26:51,807]  [IgvTools.java:1020] [main]  4000000 reads processed ...\n",
      "4000000 reads processed ...\n",
      "INFO [2018-09-19 13:26:58,682]  [IgvTools.java:1020] [main]  5000000 reads processed ...\n",
      "5000000 reads processed ...\n",
      "Done\n",
      "INFO [2018-09-19 13:27:20,491]  [IgvTools.java:1020] [main]  1000000 reads processed ...\n",
      "1000000 reads processed ...\n",
      "INFO [2018-09-19 13:27:23,749]  [IgvTools.java:1020] [main]  2000000 reads processed ...\n",
      "2000000 reads processed ...\n",
      "INFO [2018-09-19 13:27:27,105]  [IgvTools.java:1020] [main]  3000000 reads processed ...\n",
      "3000000 reads processed ...\n",
      "INFO [2018-09-19 13:27:32,475]  [IgvTools.java:1020] [main]  4000000 reads processed ...\n",
      "4000000 reads processed ...\n",
      "Done\n",
      "INFO [2018-09-19 13:27:56,196]  [IgvTools.java:1020] [main]  1000000 reads processed ...\n",
      "1000000 reads processed ...\n",
      "INFO [2018-09-19 13:27:59,150]  [IgvTools.java:1020] [main]  2000000 reads processed ...\n",
      "2000000 reads processed ...\n",
      "INFO [2018-09-19 13:28:02,183]  [IgvTools.java:1020] [main]  3000000 reads processed ...\n",
      "3000000 reads processed ...\n",
      "INFO [2018-09-19 13:28:05,324]  [IgvTools.java:1020] [main]  4000000 reads processed ...\n",
      "4000000 reads processed ...\n",
      "INFO [2018-09-19 13:28:09,403]  [IgvTools.java:1020] [main]  5000000 reads processed ...\n",
      "5000000 reads processed ...\n",
      "INFO [2018-09-19 13:28:21,159]  [IgvTools.java:1020] [main]  6000000 reads processed ...\n",
      "6000000 reads processed ...\n",
      "Done\n"
     ]
    }
   ],
   "source": [
    "%%bash\n",
    "for f in /Volumes/web-1/seashell/wd/091918/*.bam\n",
    "do\n",
    "/Applications/bioinfo/IGVTools/igvtools \\\n",
    "index ${f}\n",
    "done"
   ]
  },
  {
   "cell_type": "code",
   "execution_count": 49,
   "metadata": {
    "ExecuteTime": {
     "end_time": "2018-09-19T22:07:05.551814Z",
     "start_time": "2018-09-19T22:07:05.342848Z"
    }
   },
   "outputs": [
    {
     "name": "stdout",
     "output_type": "stream",
     "text": [
      "==> /Volumes/web-1/seashell/wd/091918/1_ATCACG_3x.bedgraph <==\n",
      "Contig0\t818\t822\t3\n",
      "Contig0\t966\t991\t3\n",
      "Contig0\t991\t1002\t4\n",
      "Contig0\t1003\t1007\t3\n",
      "Contig0\t5023\t5047\t3\n",
      "Contig0\t8854\t8894\t3\n",
      "Contig0\t26506\t26513\t3\n",
      "Contig0\t26513\t26532\t4\n",
      "Contig0\t26532\t26535\t5\n",
      "Contig0\t26535\t26537\t4\n",
      "\n",
      "==> /Volumes/web-1/seashell/wd/091918/1_ATCACG_CpG-3x.bedgraph <==\n",
      "Contig0 978 979 100\n",
      "Contig0 8856 8857 0\n",
      "Contig0 8860 8861 0\n",
      "Contig0 38972 38973 100\n",
      "Contig0 39232 39233 25\n",
      "Contig0 39250 39251 60\n",
      "Contig0 43475 43476 33.3333333333333\n",
      "Contig0 50892 50893 66.6666666666667\n",
      "Contig0 62848 62849 100\n",
      "Contig0 64208 64209 66.6666666666667\n",
      "\n",
      "==> /Volumes/web-1/seashell/wd/091918/2_CGATGT_3x.bedgraph <==\n",
      "Contig0\t911\t914\t3\n",
      "Contig0\t936\t955\t3\n",
      "Contig0\t955\t978\t4\n",
      "Contig0\t978\t979\t3\n",
      "Contig0\t4790\t4794\t3\n",
      "Contig0\t8959\t8976\t3\n",
      "Contig0\t16088\t16099\t3\n",
      "Contig0\t18252\t18291\t3\n",
      "Contig0\t18968\t19006\t3\n",
      "Contig0\t26505\t26534\t3\n",
      "\n",
      "==> /Volumes/web-1/seashell/wd/091918/2_CGATGT_CpG-3x.bedgraph <==\n",
      "Contig0 954 955 100\n",
      "Contig0 8974 8975 0\n",
      "Contig0 35519 35520 100\n",
      "Contig0 38964 38965 25\n",
      "Contig0 38972 38973 33.3333333333333\n",
      "Contig0 39224 39225 50\n",
      "Contig0 39232 39233 55.5555555555556\n",
      "Contig0 39250 39251 50\n",
      "Contig0 42974 42975 66.6666666666667\n",
      "Contig0 64177 64178 66.6666666666667\n",
      "\n",
      "==> /Volumes/web-1/seashell/wd/091918/3_TTAGGC_3x.bedgraph <==\n",
      "Contig0\t804\t836\t3\n",
      "Contig0\t836\t839\t4\n",
      "Contig0\t839\t847\t3\n",
      "Contig0\t869\t879\t3\n",
      "Contig0\t5904\t5910\t3\n",
      "Contig0\t5910\t5939\t4\n",
      "Contig0\t5939\t5940\t3\n",
      "Contig0\t6763\t6765\t3\n",
      "Contig0\t6852\t6873\t3\n",
      "Contig0\t8862\t8872\t3\n",
      "\n",
      "==> /Volumes/web-1/seashell/wd/091918/3_TTAGGC_CpG-3x.bedgraph <==\n",
      "Contig0 844 845 66.6666666666667\n",
      "Contig0 12505 12506 0\n",
      "Contig0 12514 12515 0\n",
      "Contig0 12521 12522 0\n",
      "Contig0 12530 12531 0\n",
      "Contig0 14122 14123 100\n",
      "Contig0 18206 18207 100\n",
      "Contig0 35299 35300 100\n",
      "Contig0 35519 35520 100\n",
      "Contig0 38972 38973 50\n",
      "\n",
      "==> /Volumes/web-1/seashell/wd/091918/4_TGACCA_3x.bedgraph <==\n",
      "Contig0\t783\t785\t3\n",
      "Contig0\t815\t824\t3\n",
      "Contig0\t834\t835\t3\n",
      "Contig0\t835\t839\t4\n",
      "Contig0\t839\t856\t3\n",
      "Contig0\t1009\t1029\t3\n",
      "Contig0\t1029\t1037\t4\n",
      "Contig0\t1037\t1038\t3\n",
      "Contig0\t1051\t1052\t3\n",
      "Contig0\t1061\t1068\t3\n",
      "\n",
      "==> /Volumes/web-1/seashell/wd/091918/4_TGACCA_CpG-3x.bedgraph <==\n",
      "Contig0 782 783 0\n",
      "Contig0 844 845 100\n",
      "Contig0 1035 1036 100\n",
      "Contig0 3431 3432 0\n",
      "Contig0 3434 3435 33.3333333333333\n",
      "Contig0 17906 17907 100\n",
      "Contig0 34270 34271 100\n",
      "Contig0 35519 35520 100\n",
      "Contig0 38972 38973 0\n",
      "Contig0 41233 41234 0\n",
      "\n",
      "==> /Volumes/web-1/seashell/wd/091918/5_ACAGTG_3x.bedgraph <==\n",
      "Contig0\t958\t963\t3\n",
      "Contig0\t963\t966\t4\n",
      "Contig0\t966\t997\t5\n",
      "Contig0\t997\t998\t4\n",
      "Contig0\t998\t1000\t3\n",
      "Contig0\t3372\t3387\t3\n",
      "Contig0\t4341\t4350\t3\n",
      "Contig0\t4884\t4908\t3\n",
      "Contig0\t6092\t6131\t3\n",
      "Contig0\t8234\t8241\t3\n",
      "\n",
      "==> /Volumes/web-1/seashell/wd/091918/5_ACAGTG_CpG-3x.bedgraph <==\n",
      "Contig0 978 979 100\n",
      "Contig0 17262 17263 66.6666666666667\n",
      "Contig0 35549 35550 100\n",
      "Contig0 35587 35588 66.6666666666667\n",
      "Contig0 38972 38973 25\n",
      "Contig0 39224 39225 62.5\n",
      "Contig0 39232 39233 40\n",
      "Contig0 39250 39251 50\n",
      "Contig0 41233 41234 66.6666666666667\n",
      "Contig0 41850 41851 33.3333333333333\n",
      "\n",
      "==> /Volumes/web-1/seashell/wd/091918/6_GCCAAT_3x.bedgraph <==\n",
      "Contig0\t2340\t2367\t3\n",
      "Contig0\t4321\t4341\t3\n",
      "Contig0\t6315\t6318\t3\n",
      "Contig0\t6342\t6348\t3\n",
      "Contig0\t6533\t6542\t3\n",
      "Contig0\t12340\t12343\t3\n",
      "Contig0\t18300\t18320\t3\n",
      "Contig0\t18925\t18961\t3\n",
      "Contig0\t26403\t26425\t3\n",
      "Contig0\t26438\t26442\t3\n",
      "\n",
      "==> /Volumes/web-1/seashell/wd/091918/6_GCCAAT_CpG-3x.bedgraph <==\n",
      "Contig0 35299 35300 33.3333333333333\n",
      "Contig0 35587 35588 100\n",
      "Contig0 35593 35594 100\n",
      "Contig0 38964 38965 50\n",
      "Contig0 38972 38973 11.1111111111111\n",
      "Contig0 39224 39225 16.6666666666667\n",
      "Contig0 39232 39233 0\n",
      "Contig0 39250 39251 40\n",
      "Contig0 41167 41168 0\n",
      "Contig0 41233 41234 0\n",
      "\n",
      "==> /Volumes/web-1/seashell/wd/091918/7_CAGATC_3x.bedgraph <==\n",
      "Contig0\t866\t874\t3\n",
      "Contig0\t4476\t4491\t3\n",
      "Contig0\t4837\t4847\t3\n",
      "Contig0\t4866\t4868\t3\n",
      "Contig0\t4908\t4909\t3\n",
      "Contig0\t5762\t5792\t3\n",
      "Contig0\t5896\t5901\t3\n",
      "Contig0\t6195\t6209\t3\n",
      "Contig0\t9040\t9042\t3\n",
      "Contig0\t9042\t9070\t4\n",
      "\n",
      "==> /Volumes/web-1/seashell/wd/091918/7_CAGATC_CpG-3x.bedgraph <==\n",
      "Contig0 5770 5771 0\n",
      "Contig0 6196 6197 0\n",
      "Contig0 6205 6206 0\n",
      "Contig0 9057 9058 0\n",
      "Contig0 9066 9067 0\n",
      "Contig0 35519 35520 33.3333333333333\n",
      "Contig0 38972 38973 60\n",
      "Contig0 39224 39225 25\n",
      "Contig0 39232 39233 0\n",
      "Contig0 39250 39251 0\n",
      "\n",
      "==> /Volumes/web-1/seashell/wd/091918/8_ACTTGA_3x.bedgraph <==\n",
      "Contig0\t835\t876\t3\n",
      "Contig0\t935\t936\t3\n",
      "Contig0\t936\t955\t4\n",
      "Contig0\t955\t963\t3\n",
      "Contig0\t3319\t3328\t3\n",
      "Contig0\t4270\t4271\t3\n",
      "Contig0\t4271\t4279\t4\n",
      "Contig0\t4279\t4294\t3\n",
      "Contig0\t4309\t4312\t3\n",
      "Contig0\t5907\t5935\t3\n",
      "\n",
      "==> /Volumes/web-1/seashell/wd/091918/8_ACTTGA_CpG-3x.bedgraph <==\n",
      "Contig0 844 845 33.3333333333333\n",
      "Contig0 862 863 33.3333333333333\n",
      "Contig0 954 955 66.6666666666667\n",
      "Contig0 5907 5908 0\n",
      "Contig0 5910 5911 0\n",
      "Contig0 5923 5924 0\n",
      "Contig0 5933 5934 0\n",
      "Contig0 17230 17231 100\n",
      "Contig0 17262 17263 75\n",
      "Contig0 34309 34310 66.6666666666667\n"
     ]
    }
   ],
   "source": [
    "!head /Volumes/web-1/seashell/wd/091918/*3x.bedgraph"
   ]
  },
  {
   "cell_type": "markdown",
   "metadata": {
    "ExecuteTime": {
     "end_time": "2018-09-19T22:08:58.078566Z",
     "start_time": "2018-09-19T22:08:58.067248Z"
    }
   },
   "source": [
    "### average coverage per contig?"
   ]
  },
  {
   "cell_type": "code",
   "execution_count": 51,
   "metadata": {
    "ExecuteTime": {
     "end_time": "2018-09-19T22:09:16.674293Z",
     "start_time": "2018-09-19T22:09:16.530619Z"
    }
   },
   "outputs": [
    {
     "name": "stdout",
     "output_type": "stream",
     "text": [
      "Contig0\t818\t822\t3\r\n",
      "Contig0\t966\t991\t3\r\n",
      "Contig0\t991\t1002\t4\r\n",
      "Contig0\t1003\t1007\t3\r\n",
      "Contig0\t5023\t5047\t3\r\n",
      "Contig0\t8854\t8894\t3\r\n",
      "Contig0\t26506\t26513\t3\r\n",
      "Contig0\t26513\t26532\t4\r\n",
      "Contig0\t26532\t26535\t5\r\n",
      "Contig0\t26535\t26537\t4\r\n"
     ]
    }
   ],
   "source": [
    "!head /Volumes/web-1/seashell/wd/091918/1_ATCACG_3x.bedgraph"
   ]
  },
  {
   "cell_type": "code",
   "execution_count": 65,
   "metadata": {
    "ExecuteTime": {
     "end_time": "2018-09-19T22:35:08.101990Z",
     "start_time": "2018-09-19T22:35:04.530832Z"
    }
   },
   "outputs": [
    {
     "name": "stdout",
     "output_type": "stream",
     "text": [
      "id avg Contig135176 = 3.33333\n",
      "id avg Contig135182 = 3.42857\n",
      "id avg Contig135188 = 3.88889\n",
      "id avg Contig135189 = 4.5\n",
      "id avg Contig135199 = 3\n",
      "id avg Contig1352 = 3.81818\n",
      "id avg Contig135201 = 3\n",
      "id avg Contig135207 = 3\n",
      "id avg Contig135211 = 3.33333\n",
      "id avg Contig135212 = 3\n",
      "id avg Contig135213 = 6.41176\n",
      "id avg Contig135214 = 3\n",
      "id avg Contig135215 = 3.14286\n",
      "id avg Contig135218 = 3.64286\n",
      "id avg Contig135219 = 3\n",
      "id avg Contig135225 = 3.25\n",
      "id avg Contig13523 = 4.14286\n",
      "id avg Contig135230 = 3.33333\n",
      "id avg Contig135238 = 3\n",
      "id avg Contig135243 = 3\n",
      "id avg Contig135244 = 3.33333\n",
      "--\n",
      "--\n",
      "id avg Contig352020 = 3.33333\n",
      "id avg Contig35203 = 3.55556\n",
      "id avg Contig35205 = 3.68966\n",
      "id avg Contig35206 = 3\n",
      "id avg Contig352074 = 3.33333\n",
      "id avg Contig35208 = 3\n",
      "id avg Contig352094 = 3.4\n",
      "id avg Contig352096 = 4.28571\n",
      "id avg Contig3521 = 4.33333\n",
      "id avg Contig35211 = 3.70588\n",
      "id avg Contig35213 = 28.9581\n",
      "id avg Contig35214 = 15.2941\n",
      "id avg Contig35215 = 3\n",
      "id avg Contig352153 = 4.77778\n",
      "id avg Contig35217 = 4.28571\n",
      "id avg Contig352170 = 3.625\n",
      "id avg Contig35219 = 8.21605\n",
      "id avg Contig3522 = 3.8\n",
      "id avg Contig35220 = 4.61364\n",
      "id avg Contig352209 = 3.875\n",
      "id avg Contig35221 = 3.2\n"
     ]
    }
   ],
   "source": [
    "%%bash\n",
    "awk '\n",
    "    NR>1{\n",
    "        arr[$1]   += $4\n",
    "        count[$1] += 1\n",
    "    }\n",
    "    END{\n",
    "        for (a in arr) {\n",
    "            print \"id avg \" a \" = \" arr[a] / count[a]\n",
    "        }\n",
    "    }\n",
    "' /Volumes/web-1/seashell/wd/091918/1_ATCACG_3x.bedgraph | sort -k3 | grep -C 10 35213"
   ]
  },
  {
   "cell_type": "code",
   "execution_count": 71,
   "metadata": {
    "ExecuteTime": {
     "end_time": "2018-09-19T22:42:45.369847Z",
     "start_time": "2018-09-19T22:42:41.667617Z"
    }
   },
   "outputs": [
    {
     "name": "stdout",
     "output_type": "stream",
     "text": [
      "id avg Contig187410 = 14.7308\n",
      "id avg Contig56102 = 14.75\n",
      "id avg Contig185963 = 14.7619\n",
      "id avg Contig274502 = 14.7959\n",
      "id avg Contig58133 = 14.8333\n",
      "id avg Contig237394 = 14.966\n",
      "id avg Contig116644 = 14.9756\n",
      "id avg Contig39825 = 15.013\n",
      "id avg Contig88326 = 15.0154\n",
      "id avg Contig241080 = 15.0217\n",
      "id avg Contig69589 = 15.0408\n",
      "id avg Contig54474 = 15.0659\n",
      "id avg Contig195219 = 15.0827\n",
      "id avg Contig177054 = 15.1026\n",
      "id avg Contig36645 = 15.1733\n",
      "id avg Contig34496 = 15.1918\n",
      "id avg Contig89088 = 15.2819\n",
      "id avg Contig35214 = 15.2941\n",
      "id avg Contig7158 = 15.32\n",
      "id avg Contig68037 = 15.326\n",
      "id avg Contig60076 = 15.3387\n",
      "id avg Contig264 = 15.3636\n",
      "id avg Contig117396 = 15.4483\n",
      "id avg Contig58163 = 15.4838\n",
      "id avg Contig25739 = 15.5147\n",
      "id avg Contig88648 = 15.5256\n",
      "id avg Contig38806 = 15.6154\n",
      "id avg Contig139498 = 15.6327\n",
      "id avg Contig206575 = 15.6327\n",
      "id avg Contig106649 = 15.6364\n",
      "id avg Contig46764 = 15.679\n",
      "id avg Contig242668 = 15.8163\n",
      "id avg Contig117132 = 15.8176\n",
      "id avg Contig215308 = 15.8333\n",
      "id avg Contig643484 = 15.8523\n",
      "id avg Contig34098 = 15.8554\n",
      "id avg Contig62702 = 16.0686\n",
      "id avg Contig59435 = 16.1111\n",
      "id avg Contig441708 = 16.2\n",
      "id avg Contig80666 = 16.2\n",
      "id avg Contig30879 = 16.2954\n",
      "id avg Contig151605 = 16.3089\n",
      "id avg Contig23715 = 16.4286\n",
      "id avg Contig1730 = 16.436\n",
      "id avg Contig123544 = 16.4894\n",
      "id avg Contig550808 = 16.4915\n",
      "id avg Contig507 = 16.5432\n",
      "id avg Contig165255 = 16.6579\n",
      "id avg Contig5025 = 16.7145\n",
      "id avg Contig117310 = 16.7541\n",
      "id avg Contig10850 = 16.766\n",
      "id avg Contig182126 = 16.84\n",
      "id avg Contig92956 = 16.9101\n",
      "id avg Contig437651 = 16.9672\n",
      "id avg Contig280538 = 17.0588\n",
      "id avg Contig24949 = 17.2642\n",
      "id avg Contig64757 = 17.2816\n",
      "id avg Contig123466 = 17.45\n",
      "id avg Contig25869 = 17.4767\n",
      "id avg Contig83174 = 17.5056\n",
      "id avg Contig694938 = 17.6122\n",
      "id avg Contig103849 = 17.613\n",
      "id avg Contig82759 = 17.6393\n",
      "id avg Contig109291 = 17.7727\n",
      "id avg Contig216446 = 17.8367\n",
      "id avg Contig127733 = 17.9044\n",
      "id avg Contig184956 = 18.0424\n",
      "id avg Contig162676 = 18.2368\n",
      "id avg Contig453012 = 18.375\n",
      "id avg Contig8281 = 18.449\n",
      "id avg Contig62101 = 18.6214\n",
      "id avg Contig50261 = 18.7315\n",
      "id avg Contig39370 = 18.8678\n",
      "id avg Contig62435 = 19.0417\n",
      "id avg Contig70638 = 19.1164\n",
      "id avg Contig73767 = 19.125\n",
      "id avg Contig18702 = 19.2931\n",
      "id avg Contig138867 = 19.624\n",
      "id avg Contig90991 = 19.7863\n",
      "id avg Contig58 = 19.8933\n",
      "id avg Contig96171 = 19.9618\n",
      "id avg Contig69234 = 20.1561\n",
      "id avg Contig133627 = 20.26\n",
      "id avg Contig171347 = 20.5\n",
      "id avg Contig131629 = 20.5217\n",
      "id avg Contig60012 = 20.6814\n",
      "id avg Contig386821 = 21.2981\n",
      "id avg Contig203446 = 21.2982\n",
      "id avg Contig81563 = 21.4286\n",
      "id avg Contig30784 = 22.4409\n",
      "id avg Contig8835 = 22.55\n",
      "id avg Contig686969 = 22.5859\n",
      "id avg Contig78280 = 22.6136\n",
      "id avg Contig187562 = 23.791\n",
      "id avg Contig60875 = 24.88\n",
      "id avg Contig66596 = 25.8507\n",
      "id avg Contig59207 = 26.6742\n",
      "id avg Contig35213 = 28.9581\n",
      "id avg Contig85089 = 33.448\n",
      "id avg Contig8195 = 35\n"
     ]
    }
   ],
   "source": [
    "%%bash\n",
    "awk '\n",
    "    NR>1{\n",
    "        arr[$1]   += $4\n",
    "        count[$1] += 1\n",
    "    }\n",
    "    END{\n",
    "        for (a in arr) {\n",
    "            print \"id avg \" a \" = \" arr[a] / count[a]\n",
    "        }\n",
    "    }\n",
    "' /Volumes/web-1/seashell/wd/091918/1_ATCACG_3x.bedgraph | sort -n -k5 | tail -100"
   ]
  },
  {
   "cell_type": "code",
   "execution_count": 57,
   "metadata": {
    "ExecuteTime": {
     "end_time": "2018-09-19T22:28:00.322956Z",
     "start_time": "2018-09-19T22:27:57.288576Z"
    }
   },
   "outputs": [
    {
     "name": "stdout",
     "output_type": "stream",
     "text": [
      "Contig0 429\r\n",
      "Contig1 149\r\n",
      "Contig10 125\r\n",
      "Contig100 137\r\n",
      "Contig1000 29\r\n",
      "Contig10000 13\r\n",
      "Contig100001 3\r\n",
      "Contig100003 6\r\n",
      "Contig100004 17\r\n",
      "Contig100009 13\r\n",
      "sort: Broken pipe\r\n"
     ]
    }
   ],
   "source": [
    "!awk '{a[$1] += $4} END{for (i in a) print i, a[i]}' /Volumes/web-1/seashell/wd/091918/1_ATCACG_3x.bedgraph \\\n",
    "| sort -k1 | head\n"
   ]
  },
  {
   "cell_type": "code",
   "execution_count": null,
   "metadata": {},
   "outputs": [],
   "source": [
    "!awk '{a[$1] += $4} END{for (i in a) print i, a[i]}' /Volumes/web-1/seashell/wd/091918/1_ATCACG_3x.bedgraph \\\n",
    "| sort -k1 | head"
   ]
  },
  {
   "cell_type": "code",
   "execution_count": null,
   "metadata": {},
   "outputs": [],
   "source": []
  },
  {
   "cell_type": "markdown",
   "metadata": {},
   "source": [
    "# Making Bedgraphs based on cov file so that we can get 3x coverage"
   ]
  },
  {
   "cell_type": "code",
   "execution_count": null,
   "metadata": {},
   "outputs": [],
   "source": []
  },
  {
   "cell_type": "code",
   "execution_count": 29,
   "metadata": {
    "ExecuteTime": {
     "end_time": "2018-09-19T20:48:52.245314Z",
     "start_time": "2018-09-19T20:48:47.318042Z"
    }
   },
   "outputs": [],
   "source": [
    "cp /Volumes/web/Athaliana/20180913_oly_WGBSseq_bismark/*cov* \\\n",
    "data"
   ]
  },
  {
   "cell_type": "code",
   "execution_count": 30,
   "metadata": {
    "ExecuteTime": {
     "end_time": "2018-09-19T20:49:46.013532Z",
     "start_time": "2018-09-19T20:49:45.873245Z"
    }
   },
   "outputs": [
    {
     "name": "stdout",
     "output_type": "stream",
     "text": [
      "data/1_ATCACG_L001_R1_001_trimmed_bismark_bt2.deduplicated.bismark.cov\r\n",
      "data/2_CGATGT_L001_R1_001_trimmed_bismark_bt2.deduplicated.bismark.cov\r\n",
      "data/3_TTAGGC_L001_R1_001_trimmed_bismark_bt2.deduplicated.bismark.cov\r\n",
      "data/4_TGACCA_L001_R1_001_trimmed_bismark_bt2.deduplicated.bismark.cov\r\n",
      "data/5_ACAGTG_L001_R1_001_trimmed_bismark_bt2.deduplicated.bismark.cov\r\n",
      "data/6_GCCAAT_L001_R1_001_trimmed_bismark_bt2.deduplicated.bismark.cov\r\n",
      "data/7_CAGATC_L001_R1_001_trimmed_bismark_bt2.deduplicated.bismark.cov\r\n",
      "data/8_ACTTGA_L001_R1_001_trimmed_bismark_bt2.deduplicated.bismark.cov\r\n"
     ]
    }
   ],
   "source": [
    "ls data/*cov"
   ]
  },
  {
   "cell_type": "code",
   "execution_count": 31,
   "metadata": {
    "ExecuteTime": {
     "end_time": "2018-09-19T20:59:45.971633Z",
     "start_time": "2018-09-19T20:58:06.665411Z"
    }
   },
   "outputs": [],
   "source": [
    "%%bash\n",
    "for f in data/*cov\n",
    "do\n",
    "    awk '{print $1, $2-1, $2, $4, $5+$6}' ${f} | awk '{if ($5 >= 3) { print $1, $2-1, $2, $4 }}' \\\n",
    "> /Volumes/web-1/seashell/wd/091918/$(basename \"${f}\" _L001_R1_001_trimmed_bismark_bt2.deduplicated.bismark.cov)_CpG-3x.bedgraph\n",
    "done\n"
   ]
  },
  {
   "cell_type": "markdown",
   "metadata": {},
   "source": [
    "# DML"
   ]
  },
  {
   "cell_type": "code",
   "execution_count": 33,
   "metadata": {
    "ExecuteTime": {
     "end_time": "2018-09-19T21:54:33.411540Z",
     "start_time": "2018-09-19T21:54:33.261920Z"
    }
   },
   "outputs": [
    {
     "name": "stdout",
     "output_type": "stream",
     "text": [
      "\"chr\"\t\"start\"\t\"end\"\t\"strand\"\t\"pvalue\"\t\"qvalue\"\t\"meth.diff\"\r\n",
      "\"111\"\t\"Contig100807\"\t3147\t3147\t\"+\"\t6.06032195959891e-06\t0.00714691524131811\t-55.7142857142857\r\n",
      "\"1054\"\t\"Contig106713\"\t3011\t3011\t\"+\"\t1.70233034607448e-07\t0.000361359336995716\t-52.7462121212121\r\n",
      "\"1055\"\t\"Contig106713\"\t3047\t3047\t\"+\"\t2.96094130073837e-06\t0.00392830549820044\t-48.4520123839009\r\n",
      "\"1395\"\t\"Contig110170\"\t681\t681\t\"+\"\t2.71855056893858e-06\t0.00376353776806841\t45.4545454545455\r\n",
      "\"2389\"\t\"Contig120547\"\t1025\t1025\t\"+\"\t4.86055747366011e-07\t0.000814552686941114\t56.7567567567568\r\n",
      "\"12465\"\t\"Contig26036\"\t17364\t17364\t\"+\"\t4.7481276991435e-06\t0.00581481284878569\t-75\r\n",
      "\"14388\"\t\"Contig30748\"\t20276\t20276\t\"+\"\t9.03566607590854e-08\t0.000205503316802146\t-44.9197860962567\r\n",
      "\"16338\"\t\"Contig35213\"\t68\t68\t\"+\"\t3.42727409112973e-07\t0.000606265746309231\t-46.2081128747795\r\n",
      "\"16340\"\t\"Contig35213\"\t307\t307\t\"+\"\t7.15487778481952e-08\t0.000175244971958799\t-40.531561461794\r\n"
     ]
    }
   ],
   "source": [
    "!head /Users/sr320/Documents/GitHub/paper-oly-wgbs/analyses/myDiff25p.tab"
   ]
  },
  {
   "cell_type": "code",
   "execution_count": 34,
   "metadata": {
    "ExecuteTime": {
     "end_time": "2018-09-19T21:54:45.767729Z",
     "start_time": "2018-09-19T21:54:45.627682Z"
    }
   },
   "outputs": [
    {
     "name": "stdout",
     "output_type": "stream",
     "text": [
      "﻿chr,start,end,strand,pvalue,qvalue,meth.diff\r\n",
      "Contig100807,3147,3147,+,6.06E-06,0.007146915,-55.71428571\r\n",
      "Contig106713,3011,3011,+,1.70E-07,0.000361359,-52.74621212\r\n",
      "Contig106713,3047,3047,+,2.96E-06,0.003928305,-48.45201238\r\n",
      "Contig110170,681,681,+,2.72E-06,0.003763538,45.45454545\r\n",
      "Contig120547,1025,1025,+,4.86E-07,0.000814553,56.75675676\r\n",
      "Contig26036,17364,17364,+,4.75E-06,0.005814813,-75\r\n",
      "Contig30748,20276,20276,+,9.04E-08,0.000205503,-44.9197861\r\n",
      "Contig35213,68,68,+,3.43E-07,0.000606266,-46.20811287\r\n",
      "Contig35213,307,307,+,7.15E-08,0.000175245,-40.53156146\r\n"
     ]
    }
   ],
   "source": [
    "!head /Users/sr320/Documents/GitHub/paper-oly-wgbs/analyses/myDiff25p.csv"
   ]
  },
  {
   "cell_type": "code",
   "execution_count": 41,
   "metadata": {
    "ExecuteTime": {
     "end_time": "2018-09-19T21:59:28.944519Z",
     "start_time": "2018-09-19T21:59:28.811352Z"
    }
   },
   "outputs": [
    {
     "name": "stdout",
     "output_type": "stream",
     "text": [
      "Contig100807 3147 3147 -55.71428571\r\n",
      "Contig106713 3011 3011 -52.74621212\r\n",
      "Contig106713 3047 3047 -48.45201238\r\n",
      "Contig110170 681 681 45.45454545\r\n",
      "Contig120547 1025 1025 56.75675676\r\n",
      "Contig26036 17364 17364 -75\r\n",
      "Contig30748 20276 20276 -44.9197861\r\n",
      "Contig35213 68 68 -46.20811287\r\n",
      "Contig35213 307 307 -40.53156146\r\n",
      "Contig35213 1722 1722 -45.88904694\r\n"
     ]
    }
   ],
   "source": [
    "!awk -F',' '{print $1, $2, $3, $7}' /Users/sr320/Documents/GitHub/paper-oly-wgbs/analyses/myDiff25p.csv | tail -n +2 | head"
   ]
  },
  {
   "cell_type": "code",
   "execution_count": 45,
   "metadata": {
    "ExecuteTime": {
     "end_time": "2018-09-19T22:04:28.405231Z",
     "start_time": "2018-09-19T22:04:28.211082Z"
    }
   },
   "outputs": [],
   "source": [
    "!awk -F',' '{print $1, $2-1, $3, $7}' /Users/sr320/Documents/GitHub/paper-oly-wgbs/analyses/myDiff25p.csv \\\n",
    "| tail -n +2 \\\n",
    "> /Volumes/web-1/seashell/wd/091918/DML-25.bed"
   ]
  },
  {
   "cell_type": "code",
   "execution_count": 70,
   "metadata": {
    "ExecuteTime": {
     "end_time": "2018-09-19T22:40:32.728642Z",
     "start_time": "2018-09-19T22:40:32.567320Z"
    }
   },
   "outputs": [
    {
     "name": "stdout",
     "output_type": "stream",
     "text": [
      "Contig100807 3146 3147 -55.71428571\r\n",
      "Contig106713 3010 3011 -52.74621212\r\n",
      "Contig106713 3046 3047 -48.45201238\r\n",
      "Contig110170 680 681 45.45454545\r\n",
      "Contig120547 1024 1025 56.75675676\r\n",
      "Contig26036 17363 17364 -75\r\n",
      "Contig30748 20275 20276 -44.9197861\r\n",
      "Contig35213 67 68 -46.20811287\r\n",
      "Contig35213 306 307 -40.53156146\r\n",
      "Contig35213 1721 1722 -45.88904694\r\n",
      "Contig35213 1850 1851 -67.82104391\r\n",
      "Contig35213 1859 1860 -81.95652174\r\n",
      "Contig35213 1873 1874 -78.11331608\r\n",
      "Contig35213 1988 1989 -78.91690781\r\n",
      "Contig35213 2003 2004 -62.84379865\r\n",
      "Contig35213 2006 2007 -47.77493606\r\n",
      "Contig35213 2168 2169 -42.73809524\r\n",
      "Contig35213 2171 2172 -57.84492173\r\n",
      "Contig35213 2181 2182 -48.46590909\r\n",
      "Contig35213 2386 2387 -61.75213675\r\n",
      "Contig35213 2412 2413 -69.17447307\r\n",
      "Contig35213 2443 2444 -61.41093474\r\n",
      "Contig533973 64 65 56.0483871\r\n",
      "Contig59759 1682 1683 48.47074468\r\n",
      "Contig64 7482 7483 -48.09500247\r\n",
      "Contig68908 3110 3111 -52.22101842\r\n",
      "Contig85299 5889 5890 -39\r\n"
     ]
    }
   ],
   "source": [
    "!cat /Volumes/web-1/seashell/wd/091918/DML-25.bed"
   ]
  },
  {
   "cell_type": "code",
   "execution_count": null,
   "metadata": {},
   "outputs": [],
   "source": []
  }
 ],
 "metadata": {
  "kernelspec": {
   "display_name": "Python 3",
   "language": "python",
   "name": "python3"
  },
  "language_info": {
   "codemirror_mode": {
    "name": "ipython",
    "version": 3
   },
   "file_extension": ".py",
   "mimetype": "text/x-python",
   "name": "python",
   "nbconvert_exporter": "python",
   "pygments_lexer": "ipython3",
   "version": "3.6.3"
  }
 },
 "nbformat": 4,
 "nbformat_minor": 2
}
