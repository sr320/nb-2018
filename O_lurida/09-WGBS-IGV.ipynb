{
 "cells": [
  {
   "cell_type": "code",
   "execution_count": 7,
   "metadata": {
    "ExecuteTime": {
     "end_time": "2018-09-18T22:34:59.991112Z",
     "start_time": "2018-09-18T22:34:47.445887Z"
    }
   },
   "outputs": [],
   "source": [
    "!cp /Volumes/web-1/Athaliana/20180913_oly_WGBSseq_bismark/*bedGra* \\\n",
    "data\n"
   ]
  },
  {
   "cell_type": "code",
   "execution_count": 8,
   "metadata": {
    "ExecuteTime": {
     "end_time": "2018-09-18T22:35:05.889158Z",
     "start_time": "2018-09-18T22:35:05.746415Z"
    }
   },
   "outputs": [
    {
     "name": "stdout",
     "output_type": "stream",
     "text": [
      "1_ATCACG_L001_R1_001_trimmed_bismark_bt2.deduplicated.bedGraph.gz\r\n",
      "2_CGATGT_L001_R1_001_trimmed_bismark_bt2.deduplicated.bedGraph.gz\r\n",
      "3_TTAGGC_L001_R1_001_trimmed_bismark_bt2.deduplicated.bedGraph.gz\r\n",
      "4_TGACCA_L001_R1_001_trimmed_bismark_bt2.deduplicated.bedGraph.gz\r\n",
      "5_ACAGTG_L001_R1_001_trimmed_bismark_bt2.deduplicated.bedGraph.gz\r\n",
      "6_GCCAAT_L001_R1_001_trimmed_bismark_bt2.deduplicated.bedGraph.gz\r\n",
      "7_CAGATC_L001_R1_001_trimmed_bismark_bt2.deduplicated.bedGraph.gz\r\n",
      "8_ACTTGA_L001_R1_001_trimmed_bismark_bt2.deduplicated.bedGraph.gz\r\n"
     ]
    }
   ],
   "source": [
    "ls data"
   ]
  },
  {
   "cell_type": "code",
   "execution_count": 9,
   "metadata": {
    "ExecuteTime": {
     "end_time": "2018-09-18T22:35:18.492205Z",
     "start_time": "2018-09-18T22:35:15.409871Z"
    }
   },
   "outputs": [],
   "source": [
    "!gunzip -k data/*"
   ]
  },
  {
   "cell_type": "code",
   "execution_count": 10,
   "metadata": {
    "ExecuteTime": {
     "end_time": "2018-09-18T22:35:20.551223Z",
     "start_time": "2018-09-18T22:35:20.414851Z"
    }
   },
   "outputs": [
    {
     "name": "stdout",
     "output_type": "stream",
     "text": [
      "1_ATCACG_L001_R1_001_trimmed_bismark_bt2.deduplicated.bedGraph\r\n",
      "1_ATCACG_L001_R1_001_trimmed_bismark_bt2.deduplicated.bedGraph.gz\r\n",
      "2_CGATGT_L001_R1_001_trimmed_bismark_bt2.deduplicated.bedGraph\r\n",
      "2_CGATGT_L001_R1_001_trimmed_bismark_bt2.deduplicated.bedGraph.gz\r\n",
      "3_TTAGGC_L001_R1_001_trimmed_bismark_bt2.deduplicated.bedGraph\r\n",
      "3_TTAGGC_L001_R1_001_trimmed_bismark_bt2.deduplicated.bedGraph.gz\r\n",
      "4_TGACCA_L001_R1_001_trimmed_bismark_bt2.deduplicated.bedGraph\r\n",
      "4_TGACCA_L001_R1_001_trimmed_bismark_bt2.deduplicated.bedGraph.gz\r\n",
      "5_ACAGTG_L001_R1_001_trimmed_bismark_bt2.deduplicated.bedGraph\r\n",
      "5_ACAGTG_L001_R1_001_trimmed_bismark_bt2.deduplicated.bedGraph.gz\r\n",
      "6_GCCAAT_L001_R1_001_trimmed_bismark_bt2.deduplicated.bedGraph\r\n",
      "6_GCCAAT_L001_R1_001_trimmed_bismark_bt2.deduplicated.bedGraph.gz\r\n",
      "7_CAGATC_L001_R1_001_trimmed_bismark_bt2.deduplicated.bedGraph\r\n",
      "7_CAGATC_L001_R1_001_trimmed_bismark_bt2.deduplicated.bedGraph.gz\r\n",
      "8_ACTTGA_L001_R1_001_trimmed_bismark_bt2.deduplicated.bedGraph\r\n",
      "8_ACTTGA_L001_R1_001_trimmed_bismark_bt2.deduplicated.bedGraph.gz\r\n"
     ]
    }
   ],
   "source": [
    "ls data"
   ]
  },
  {
   "cell_type": "code",
   "execution_count": null,
   "metadata": {
    "ExecuteTime": {
     "start_time": "2018-09-19T18:23:58.429Z"
    }
   },
   "outputs": [],
   "source": [
    "cp /Volumes/web/Athaliana/20180913_oly_WGBSseq_bismark/*sorted.bam \\\n",
    "data"
   ]
  },
  {
   "cell_type": "code",
   "execution_count": null,
   "metadata": {},
   "outputs": [],
   "source": []
  }
 ],
 "metadata": {
  "kernelspec": {
   "display_name": "Python 3",
   "language": "python",
   "name": "python3"
  },
  "language_info": {
   "codemirror_mode": {
    "name": "ipython",
    "version": 3
   },
   "file_extension": ".py",
   "mimetype": "text/x-python",
   "name": "python",
   "nbconvert_exporter": "python",
   "pygments_lexer": "ipython3",
   "version": "3.6.3"
  }
 },
 "nbformat": 4,
 "nbformat_minor": 2
}
