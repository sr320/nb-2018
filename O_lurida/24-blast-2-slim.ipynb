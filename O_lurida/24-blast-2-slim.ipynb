{
 "cells": [
  {
   "cell_type": "markdown",
   "metadata": {},
   "source": [
    "## A notebook to seamlessly take blast output to GO Slim list"
   ]
  },
  {
   "cell_type": "markdown",
   "metadata": {
    "collapsed": true
   },
   "source": [
    "This is a notebook meant to run in a working directory. Please set working directory as variable in next cell"
   ]
  },
  {
   "cell_type": "code",
   "execution_count": 10,
   "metadata": {
    "ExecuteTime": {
     "end_time": "2018-10-12T19:38:17.080775Z",
     "start_time": "2018-10-12T19:38:17.074952Z"
    }
   },
   "outputs": [
    {
     "name": "stdout",
     "output_type": "stream",
     "text": [
      "/Users/sr320/Documents/GitHub/nb-2018/O_lurida\n"
     ]
    }
   ],
   "source": [
    "cd /Users/sr320/Documents/GitHub/nb-2018/O_lurida"
   ]
  },
  {
   "cell_type": "code",
   "execution_count": 11,
   "metadata": {
    "ExecuteTime": {
     "end_time": "2018-10-12T19:38:18.272197Z",
     "start_time": "2018-10-12T19:38:18.267772Z"
    }
   },
   "outputs": [],
   "source": [
    "wd=\"analyses/1012\"\n"
   ]
  },
  {
   "cell_type": "code",
   "execution_count": 12,
   "metadata": {
    "ExecuteTime": {
     "end_time": "2018-10-12T19:38:18.990854Z",
     "start_time": "2018-10-12T19:38:18.869229Z"
    }
   },
   "outputs": [],
   "source": [
    "!mkdir $wd"
   ]
  },
  {
   "cell_type": "code",
   "execution_count": 14,
   "metadata": {
    "ExecuteTime": {
     "end_time": "2018-10-12T19:38:30.751200Z",
     "start_time": "2018-10-12T19:38:30.743076Z"
    }
   },
   "outputs": [
    {
     "name": "stdout",
     "output_type": "stream",
     "text": [
      "/Users/sr320/Documents/GitHub/nb-2018/O_lurida/analyses/1012\n"
     ]
    }
   ],
   "source": [
    "cd $wd"
   ]
  },
  {
   "cell_type": "code",
   "execution_count": null,
   "metadata": {
    "ExecuteTime": {
     "start_time": "2018-10-12T19:40:06.086Z"
    }
   },
   "outputs": [],
   "source": [
    "!/Applications/bioinfo/ncbi-blast-2.7.1+/bin/blastx \\\n",
    "-query ../../analyses/dml010.tile.1kslop.fa \\\n",
    "-db /Users/sr320/Documents/GitHub/fun-gen/blastdb/uniprot_sprot_r2018_08 \\\n",
    "-out dml010.tile.1kslop-uniprot_blastx4slim.tab \\\n",
    "-evalue 1E-05 \\\n",
    "-num_threads 4 \\\n",
    "-max_target_seqs 10 \\\n",
    "-outfmt 6"
   ]
  },
  {
   "cell_type": "markdown",
   "metadata": {},
   "source": [
    "### In this directory you will need three files\n",
    "1) blastout file in format `-6`    \n",
    "2) Uniprot GO annotation file (340M) available here `http://owl.fish.washington.edu/halfshell/bu-alanine-wd/17-07-20/uniprot-SP-GO.sorted`    \n",
    "3) GOslim file available here `http://owl.fish.washington.edu/halfshell/bu-alanine-wd/17-07-20/GO-GOslim.sorted`"
   ]
  },
  {
   "cell_type": "code",
   "execution_count": null,
   "metadata": {
    "ExecuteTime": {
     "start_time": "2018-10-12T19:40:21.280Z"
    }
   },
   "outputs": [],
   "source": [
    "!curl -O http://owl.fish.washington.edu/halfshell/bu-alanine-wd/17-07-20/uniprot-SP-GO.sorted"
   ]
  },
  {
   "cell_type": "code",
   "execution_count": null,
   "metadata": {
    "ExecuteTime": {
     "start_time": "2018-10-12T19:40:23.830Z"
    }
   },
   "outputs": [],
   "source": [
    "!curl -O http://owl.fish.washington.edu/halfshell/bu-alanine-wd/17-07-20/GO-GOslim.sorted"
   ]
  },
  {
   "cell_type": "code",
   "execution_count": null,
   "metadata": {
    "ExecuteTime": {
     "start_time": "2018-10-12T19:40:39.693Z"
    }
   },
   "outputs": [],
   "source": [
    "!head dml010.tile.1kslop-uniprot_blastx4slim.tab"
   ]
  },
  {
   "cell_type": "code",
   "execution_count": null,
   "metadata": {
    "ExecuteTime": {
     "start_time": "2018-10-12T19:40:42.203Z"
    }
   },
   "outputs": [],
   "source": [
    "#checking if files in directory\n",
    "!ls "
   ]
  },
  {
   "cell_type": "markdown",
   "metadata": {},
   "source": [
    "### Set blastout file as variable"
   ]
  },
  {
   "cell_type": "code",
   "execution_count": 5,
   "metadata": {
    "ExecuteTime": {
     "end_time": "2018-09-30T15:53:45.785037Z",
     "start_time": "2018-09-30T15:53:45.780996Z"
    }
   },
   "outputs": [],
   "source": [
    "blastout=\"Cv_sprot.blastout\"\n"
   ]
  },
  {
   "cell_type": "markdown",
   "metadata": {},
   "source": [
    "# That should be the last thing you have to Type!"
   ]
  },
  {
   "cell_type": "code",
   "execution_count": 6,
   "metadata": {
    "ExecuteTime": {
     "end_time": "2018-09-30T15:53:48.311676Z",
     "start_time": "2018-09-30T15:53:48.183921Z"
    }
   },
   "outputs": [
    {
     "name": "stdout",
     "output_type": "stream",
     "text": [
      "XM_022430339.1\tsp|P00491|PNPH_HUMAN\t49.291\t282\t143\t0\t116\t961\t1\t282\t9.92e-98\t310\r\n",
      "XM_022430345.1\tsp|Q99L04|DHRS1_MOUSE\t49.552\t335\t139\t4\t213\t1196\t2\t313\t2.78e-106\t324\r\n"
     ]
    }
   ],
   "source": [
    "!head -2 $blastout"
   ]
  },
  {
   "cell_type": "code",
   "execution_count": 7,
   "metadata": {
    "ExecuteTime": {
     "end_time": "2018-09-30T15:53:51.698879Z",
     "start_time": "2018-09-30T15:53:51.166707Z"
    }
   },
   "outputs": [],
   "source": [
    "#convert pipes to tab\n",
    "!tr '|' '\\t' < $blastout \\\n",
    "> _blast-sep.tab"
   ]
  },
  {
   "cell_type": "code",
   "execution_count": 8,
   "metadata": {
    "ExecuteTime": {
     "end_time": "2018-09-30T15:53:52.459421Z",
     "start_time": "2018-09-30T15:53:52.333099Z"
    },
    "scrolled": true
   },
   "outputs": [
    {
     "name": "stdout",
     "output_type": "stream",
     "text": [
      "XM_022430339.1\tsp\tP00491\tPNPH_HUMAN\t49.291\t282\t143\t0\t116\t961\t1\t282\t9.92e-98\t310\r\n",
      "XM_022430345.1\tsp\tQ99L04\tDHRS1_MOUSE\t49.552\t335\t139\t4\t213\t1196\t2\t313\t2.78e-106\t324\r\n"
     ]
    }
   ],
   "source": [
    "!head -2 _blast-sep.tab"
   ]
  },
  {
   "cell_type": "code",
   "execution_count": 15,
   "metadata": {
    "ExecuteTime": {
     "end_time": "2018-09-30T17:17:10.560572Z",
     "start_time": "2018-09-30T17:17:09.771423Z"
    }
   },
   "outputs": [],
   "source": [
    "#reducing number of columns and sorting to get spid evlaue - \n",
    "!awk -v OFS='\\t' '{print $3, $1, $13}' < _blast-sep.tab | sort \\\n",
    "> _blast-sort.tab"
   ]
  },
  {
   "cell_type": "code",
   "execution_count": 16,
   "metadata": {
    "ExecuteTime": {
     "end_time": "2018-09-30T17:17:11.833008Z",
     "start_time": "2018-09-30T17:17:11.702511Z"
    }
   },
   "outputs": [
    {
     "name": "stdout",
     "output_type": "stream",
     "text": [
      "A0A0B4J1F4\tXM_022466820.1\t1.07e-21\r\n",
      "A0A0B4J1F4\tXM_022466821.1\t9.79e-22\r\n"
     ]
    }
   ],
   "source": [
    "!head -2 _blast-sort.tab"
   ]
  },
  {
   "cell_type": "code",
   "execution_count": 17,
   "metadata": {
    "ExecuteTime": {
     "end_time": "2018-09-30T17:17:20.671192Z",
     "start_time": "2018-09-30T17:17:15.656420Z"
    },
    "scrolled": true
   },
   "outputs": [],
   "source": [
    "#joining blast with uniprot annoation file and reducing to three columns UniprotID, Query, All GO terms\n",
    "!join -t $'\\t' \\\n",
    "_blast-sort.tab \\\n",
    "uniprot-SP-GO.sorted \\\n",
    "| cut -f1,2,14 \\\n",
    "> _blast-annot.tab"
   ]
  },
  {
   "cell_type": "code",
   "execution_count": 21,
   "metadata": {
    "ExecuteTime": {
     "end_time": "2018-09-30T17:18:14.765423Z",
     "start_time": "2018-09-30T17:18:14.638597Z"
    }
   },
   "outputs": [
    {
     "name": "stdout",
     "output_type": "stream",
     "text": [
      "A0A0B4J1F4\tXM_022466820.1\tGO:0005768; GO:0005769; GO:0005886; GO:0051443\r\n",
      "A0A0B4J1F4\tXM_022466821.1\tGO:0005768; GO:0005769; GO:0005886; GO:0051443\r\n"
     ]
    }
   ],
   "source": [
    "!head -2 _blast-annot.tab\n",
    "#should look like\n",
    "#A1BHN5\tCHOYP_AAAS.3.3\tGO:0005524; GO:0006298; GO:0030983\n",
    "#A5PLL7\tCHOYP_AAEL_AAEL001208.1.1\tGO:0005737; GO:0005783; GO:0005789; GO:0016021; GO:0031625; GO:0061630\n"
   ]
  },
  {
   "cell_type": "markdown",
   "metadata": {},
   "source": [
    "## The following is a script modidified from Sam"
   ]
  },
  {
   "cell_type": "code",
   "execution_count": 22,
   "metadata": {
    "ExecuteTime": {
     "end_time": "2018-09-30T17:29:44.558555Z",
     "start_time": "2018-09-30T17:18:57.529452Z"
    }
   },
   "outputs": [],
   "source": [
    "%%bash \n",
    "\n",
    "# This script was originally written to address a specific problem that Rhonda was having\n",
    "\n",
    "\n",
    "\n",
    "# input_file is the initial, \"problem\" file\n",
    "# file is an intermediate file that most of the program works upon\n",
    "# output_file is the final file produced by the script\n",
    "input_file=\"_blast-annot.tab\"\n",
    "file=\"_intermediate.file\"\n",
    "output_file=\"_blast-GO-unfolded.tab\"\n",
    "\n",
    "# sed command substitutes the \"; \" sequence to a tab and writes the new format to a new file.\n",
    "# This character sequence is how the GO terms are delimited in their field.\n",
    "sed $'s/; /\\t/g' \"$input_file\" > \"$file\"\n",
    "\n",
    "# Identify first field containing a GO term.\n",
    "# Search file with grep for \"GO:\" and pipe to awk.\n",
    "# Awk sets tab as field delimiter (-F'\\t'), runs a for loop that looks for \"GO:\" (~/GO:/), and then prints the field number).\n",
    "# Awk results are piped to sort, which sorts unique by number (-ug).\n",
    "# Sort results are piped to head to retrieve the lowest value (i.e. the top of the list; \"-n1\").\n",
    "begin_goterms=$(grep \"GO:\" \"$file\" | awk -F'\\t' '{for (i=1;i<=NF;i++) if($i ~/GO:/) print i}' | sort -ug | head -n1)\n",
    "\n",
    "# While loop to process each line of the input file.\n",
    "while read -r line\n",
    "\tdo\n",
    "\t\n",
    "\t# Send contents of the current line to awk.\n",
    "\t# Set the field separator as a tab (-F'\\t') and print the number of fields in that line.\n",
    "\t# Save the results of the echo/awk pipe (i.e. number of fields) to the variable \"max_field\".\n",
    "\tmax_field=$(echo \"$line\" | awk -F'\\t' '{print NF}')\n",
    "\n",
    "\t# Send contents of current line to cut.\n",
    "\t# Cut fields (i.e. retain those fields) 1-12.\n",
    "\t# Save the results of the echo/cut pipe (i.e. fields 1-12) to the variable \"fixed_fields\"\n",
    "\tfixed_fields=$(echo \"$line\" | cut -f1-2)\n",
    "\n",
    "\t# Since not all the lines contain the same number of fields (e.g. may not have GO terms),\n",
    "\t# evaluate the number of fields in each line to determine how to handle current line.\n",
    "\n",
    "\t# If the value in max_field is less than the field number where the GO terms begin,\n",
    "\t# then just print the current line (%s) followed by a newline (\\n).\n",
    "\tif (( \"$max_field\" < \"$begin_goterms\" ))\n",
    "\t\tthen printf \"%s\\n\" \"$line\"\n",
    "\t\t\telse\n",
    "\n",
    "\t\t\t# Send contents of current line (which contains GO terms) to cut.\n",
    "\t\t\t# Cut fields (i.e. retain those fields) 13 to whatever the last field is in the curent line.\n",
    "\t\t\t# Save the results of the echo/cut pipe (i.e. all the GO terms fields) to the variable \"goterms\".\n",
    "\t\t\tgoterms=$(echo \"$line\" | cut -f\"$begin_goterms\"-\"$max_field\")\n",
    "\t\t\t\n",
    "\t\t\t# Assign values in the variable \"goterms\" to a new indexed array (called \"array\"), \n",
    "\t\t\t# with tab delimiter (IFS=$'\\t')\n",
    "\t\t\tIFS=$'\\t' read -r -a array <<<\"$goterms\"\n",
    "\t\t\t\n",
    "\t\t\t# Iterate through each element of the array.\n",
    "\t\t\t# Print the first 12 fields (i.e. the fields stored in \"fixed_fields\") followed by a tab (%s\\t).\n",
    "\t\t\t# Print the current element in the array (i.e. the current GO term) followed by a new line (%s\\n).\n",
    "\t\t\tfor element in \"${!array[@]}\"\t\n",
    "\t\t\t\tdo printf \"%s\\t%s\\n\" \"$fixed_fields\" \"${array[$element]}\"\n",
    "\t\t\tdone\n",
    "\tfi\n",
    "\n",
    "# Send the input file into the while loop and send the output to a file named \"rhonda_fixed.txt\".\n",
    "done < \"$file\" > \"$output_file\""
   ]
  },
  {
   "cell_type": "code",
   "execution_count": 23,
   "metadata": {
    "ExecuteTime": {
     "end_time": "2018-09-30T17:29:44.708450Z",
     "start_time": "2018-09-30T17:29:44.564148Z"
    }
   },
   "outputs": [
    {
     "name": "stdout",
     "output_type": "stream",
     "text": [
      "A0A0B4J1F4\tXM_022466820.1\tGO:0005768\r\n",
      "A0A0B4J1F4\tXM_022466820.1\tGO:0005769\r\n",
      "A0A0B4J1F4\tXM_022466820.1\tGO:0005886\r\n",
      "A0A0B4J1F4\tXM_022466820.1\tGO:0051443\r\n",
      "A0A0B4J1F4\tXM_022466821.1\tGO:0005768\r\n",
      "A0A0B4J1F4\tXM_022466821.1\tGO:0005769\r\n",
      "A0A0B4J1F4\tXM_022466821.1\tGO:0005886\r\n",
      "A0A0B4J1F4\tXM_022466821.1\tGO:0051443\r\n",
      "A0A0B4J1F4\tXM_022466822.1\tGO:0005768\r\n",
      "A0A0B4J1F4\tXM_022466822.1\tGO:0005769\r\n"
     ]
    }
   ],
   "source": [
    "!head _blast-GO-unfolded.tab\n",
    "#should look like\n",
    "#A1BHN5\tCHOYP_AAAS.3.3\tGO:0005524\n",
    "#A1BHN5\tCHOYP_AAAS.3.3\tGO:0006298\n",
    "#A1BHN5\tCHOYP_AAAS.3.3\tGO:0030983\n",
    "#A5PLL7\tCHOYP_AAEL_AAEL001208.1.1\tGO:0005737\n",
    "#A5PLL7\tCHOYP_AAEL_AAEL001208.1.1\tGO:0005783\n"
   ]
  },
  {
   "cell_type": "code",
   "execution_count": 166,
   "metadata": {
    "ExecuteTime": {
     "end_time": "2018-09-30T18:42:33.418852Z",
     "start_time": "2018-09-30T18:42:30.036769Z"
    }
   },
   "outputs": [],
   "source": [
    "!awk '{print $3,\"\\t\" $2}' _blast-GO-unfolded.tab | gsort -V > _blast-GO-unfolded.sorted"
   ]
  },
  {
   "cell_type": "code",
   "execution_count": 277,
   "metadata": {
    "ExecuteTime": {
     "end_time": "2018-09-30T21:23:53.138761Z",
     "start_time": "2018-09-30T21:23:53.009639Z"
    }
   },
   "outputs": [
    {
     "name": "stdout",
     "output_type": "stream",
     "text": [
      "GO:0000002\tXM_022432754.1\r\n",
      "GO:0000002\tXM_022434736.1\r\n",
      "GO:0000002\tXM_022434853.1\r\n",
      "GO:0000002\tXM_022434856.1\r\n",
      "GO:0000002\tXM_022435703.1\r\n",
      "GO:0000002\tXM_022437274.1\r\n",
      "GO:0000002\tXM_022437275.1\r\n",
      "GO:0000002\tXM_022437276.1\r\n",
      "GO:0000002\tXM_022441113.1\r\n",
      "GO:0000002\tXM_022442505.1\r\n"
     ]
    }
   ],
   "source": [
    "!head _blast-GO-unfolded.sorted \n",
    "#extra space was removed tw"
   ]
  },
  {
   "cell_type": "code",
   "execution_count": 204,
   "metadata": {
    "ExecuteTime": {
     "end_time": "2018-09-30T18:54:50.263262Z",
     "start_time": "2018-09-30T18:54:50.141512Z"
    }
   },
   "outputs": [
    {
     "name": "stdout",
     "output_type": "stream",
     "text": [
      "GO:0000001\tmitochondrion inheritance\tcell organization and biogenesis\tP\r\n",
      "GO:0000002\tmitochondrial genome maintenance\tcell organization and biogenesis\tP\r\n",
      "GO:0000003\treproduction\tother biological processes\tP\r\n",
      "GO:0000006\thigh affinity zinc uptake transmembrane transporter activity\ttransporter activity\tF\r\n",
      "GO:0000007\tlow-affinity zinc ion transmembrane transporter activity\ttransporter activity\tF\r\n",
      "GO:0000009\t\"alpha-1,6-mannosyltransferase activity\"\tother molecular function\tF\r\n",
      "GO:0000010\ttrans-hexaprenyltranstransferase activity\tother molecular function\tF\r\n",
      "GO:0000011\tvacuole inheritance\tcell organization and biogenesis\tP\r\n",
      "GO:0000012\tsingle strand break repair\tDNA metabolism\tP\r\n",
      "GO:0000012\tsingle strand break repair\tstress response\tP\r\n"
     ]
    }
   ],
   "source": [
    "!head GO-GOslim.sorted"
   ]
  },
  {
   "cell_type": "code",
   "execution_count": 278,
   "metadata": {
    "ExecuteTime": {
     "end_time": "2018-09-30T21:24:30.249067Z",
     "start_time": "2018-09-30T21:24:30.119760Z"
    }
   },
   "outputs": [
    {
     "name": "stdout",
     "output_type": "stream",
     "text": [
      "GO:0000002\tXM_022432754.1\tmitochondrial genome maintenance\tcell organization and biogenesis\tP\r\n",
      "GO:0000002\tXM_022434736.1\tmitochondrial genome maintenance\tcell organization and biogenesis\tP\r\n",
      "GO:0000002\tXM_022434853.1\tmitochondrial genome maintenance\tcell organization and biogenesis\tP\r\n",
      "GO:0000002\tXM_022434856.1\tmitochondrial genome maintenance\tcell organization and biogenesis\tP\r\n",
      "GO:0000002\tXM_022435703.1\tmitochondrial genome maintenance\tcell organization and biogenesis\tP\r\n",
      "GO:0000002\tXM_022437274.1\tmitochondrial genome maintenance\tcell organization and biogenesis\tP\r\n",
      "GO:0000002\tXM_022437275.1\tmitochondrial genome maintenance\tcell organization and biogenesis\tP\r\n",
      "GO:0000002\tXM_022437276.1\tmitochondrial genome maintenance\tcell organization and biogenesis\tP\r\n",
      "GO:0000002\tXM_022441113.1\tmitochondrial genome maintenance\tcell organization and biogenesis\tP\r\n",
      "GO:0000002\tXM_022442505.1\tmitochondrial genome maintenance\tcell organization and biogenesis\tP\r\n",
      "join: stdout: Broken pipe\r\n"
     ]
    }
   ],
   "source": [
    "!join -1 1 -2 1 -t $'\\t' \\\n",
    "_blast-GO-unfolded.sorted \\\n",
    "GO-GOslim.sorted | head"
   ]
  },
  {
   "cell_type": "code",
   "execution_count": 279,
   "metadata": {
    "ExecuteTime": {
     "end_time": "2018-09-30T21:25:07.881102Z",
     "start_time": "2018-09-30T21:25:05.065035Z"
    }
   },
   "outputs": [
    {
     "name": "stdout",
     "output_type": "stream",
     "text": [
      "  435993 Blastquery-GOslim.tab\r\n"
     ]
    }
   ],
   "source": [
    "#joining files to get GOslim for each query (with duplicate GOslim / query removed)\n",
    "!join -1 1 -2 1 -t $'\\t' \\\n",
    "_blast-GO-unfolded.sorted \\\n",
    "GO-GOslim.sorted \\\n",
    "| uniq | awk -F'\\t' -v OFS='\\t' '{print $2, $4, $5}' \\\n",
    "> Blastquery-GOslim.tab\n",
    "!wc -l Blastquery-GOslim.tab"
   ]
  },
  {
   "cell_type": "code",
   "execution_count": 280,
   "metadata": {
    "ExecuteTime": {
     "end_time": "2018-09-30T21:25:08.154943Z",
     "start_time": "2018-09-30T21:25:07.887408Z"
    },
    "scrolled": true
   },
   "outputs": [
    {
     "name": "stdout",
     "output_type": "stream",
     "text": [
      "XM_022432754.1\tcell organization and biogenesis\tP\n",
      "XM_022434736.1\tcell organization and biogenesis\tP\n",
      "XM_022434853.1\tcell organization and biogenesis\tP\n",
      "XM_022434856.1\tcell organization and biogenesis\tP\n",
      "XM_022435703.1\tcell organization and biogenesis\tP\n",
      "XM_022437274.1\tcell organization and biogenesis\tP\n",
      "XM_022437275.1\tcell organization and biogenesis\tP\n",
      "XM_022437276.1\tcell organization and biogenesis\tP\n",
      "XM_022441113.1\tcell organization and biogenesis\tP\n",
      "XM_022442505.1\tcell organization and biogenesis\tP\n",
      "  435993 Blastquery-GOslim.tab\n"
     ]
    }
   ],
   "source": [
    "!head Blastquery-GOslim.tab\n",
    "!wc -l Blastquery-GOslim.tab"
   ]
  },
  {
   "cell_type": "markdown",
   "metadata": {
    "collapsed": true
   },
   "source": [
    "# Get P - query and slim"
   ]
  },
  {
   "cell_type": "code",
   "execution_count": 284,
   "metadata": {
    "ExecuteTime": {
     "end_time": "2018-09-30T21:46:01.954704Z",
     "start_time": "2018-09-30T21:45:58.248315Z"
    }
   },
   "outputs": [
    {
     "name": "stdout",
     "output_type": "stream",
     "text": [
      "XM_022430339.1\tcell cycle and proliferation\r\n",
      "XM_022430339.1\tdevelopmental processes\r\n",
      "XM_022430339.1\tother biological processes\r\n",
      "XM_022430339.1\tother biological processes\r\n",
      "XM_022430339.1\tother metabolic processes\r\n",
      "XM_022430339.1\tother metabolic processes\r\n",
      "XM_022430339.1\tother metabolic processes\r\n",
      "XM_022430339.1\tother metabolic processes\r\n",
      "XM_022430339.1\tother metabolic processes\r\n",
      "XM_022430339.1\tother metabolic processes\r\n"
     ]
    }
   ],
   "source": [
    "!awk -F\"\\t\" '$3 == \"P\" { print $1\"\\t\"$2 }' Blastquery-GOslim.tab | sort > Blastquery-GOslim.sorted\n",
    "!head Blastquery-GOslim.sorted\n"
   ]
  },
  {
   "cell_type": "code",
   "execution_count": null,
   "metadata": {},
   "outputs": [],
   "source": []
  }
 ],
 "metadata": {
  "kernelspec": {
   "display_name": "Python 3",
   "language": "python",
   "name": "python3"
  },
  "language_info": {
   "codemirror_mode": {
    "name": "ipython",
    "version": 3
   },
   "file_extension": ".py",
   "mimetype": "text/x-python",
   "name": "python",
   "nbconvert_exporter": "python",
   "pygments_lexer": "ipython3",
   "version": "3.6.3"
  }
 },
 "nbformat": 4,
 "nbformat_minor": 1
}
