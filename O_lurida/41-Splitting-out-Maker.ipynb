{
 "cells": [
  {
   "cell_type": "code",
   "execution_count": 1,
   "metadata": {
    "ExecuteTime": {
     "end_time": "2018-12-19T19:44:40.168060Z",
     "start_time": "2018-12-19T19:44:40.038797Z"
    }
   },
   "outputs": [
    {
     "name": "stdout",
     "output_type": "stream",
     "text": [
      "##gff-version 3\r\n",
      "Contig0\t.\tcontig\t1\t116746\t.\t.\t.\tID=Contig0;Name=Contig0\r\n",
      "Contig0\trepeatmasker\tmatch\t1\t213\t1074\t+\t.\tID=Contig0:hit:44:1.3.0.0;Name=species:Helitron-N2f_CGi|genus:RC%2FHelitron;Target=species:Helitron-N2f_CGi|genus:RC%2FHelitron 1 209 +\r\n",
      "Contig0\trepeatmasker\tmatch_part\t1\t213\t1074\t+\t.\tID=Contig0:hsp:44:1.3.0.0;Parent=Contig0:hit:44:1.3.0.0;Target=species:Helitron-N2f_CGi|genus:RC%252FHelitron 1 209 +\r\n",
      "Contig0\trepeatmasker\tmatch\t264\t306\t397\t+\t.\tID=Contig0:hit:45:1.3.0.0;Name=species:rnd-1_family-144|genus:Unknown;Target=species:rnd-1_family-144|genus:Unknown 296 338 +\r\n",
      "Contig0\trepeatmasker\tmatch_part\t264\t306\t397\t+\t.\tID=Contig0:hsp:45:1.3.0.0;Parent=Contig0:hit:45:1.3.0.0;Target=species:rnd-1_family-144|genus:Unknown 296 338 +\r\n",
      "Contig0\trepeatmasker\tmatch\t357\t411\t318\t+\t.\tID=Contig0:hit:46:1.3.0.0;Name=species:BivaMD-SINE1_CrVi|genus:SINE%2FtRNA;Target=species:BivaMD-SINE1_CrVi|genus:SINE%2FtRNA 182 236 +\r\n",
      "Contig0\trepeatmasker\tmatch_part\t357\t411\t318\t+\t.\tID=Contig0:hsp:46:1.3.0.0;Parent=Contig0:hit:46:1.3.0.0;Target=species:BivaMD-SINE1_CrVi|genus:SINE%252FtRNA 182 236 +\r\n",
      "Contig0\trepeatmasker\tmatch\t596\t665\t333\t+\t.\tID=Contig0:hit:47:1.3.0.0;Name=species:CR1-2_CGi|genus:LINE%2FCR1-Zenon;Target=species:CR1-2_CGi|genus:LINE%2FCR1-Zenon 5417 5477 +\r\n",
      "Contig0\trepeatmasker\tmatch_part\t596\t665\t333\t+\t.\tID=Contig0:hsp:47:1.3.0.0;Parent=Contig0:hit:47:1.3.0.0;Target=species:CR1-2_CGi|genus:LINE%252FCR1-Zenon 5417 5477 +\r\n"
     ]
    }
   ],
   "source": [
    "!head /Users/sr320/Desktop/oly/20181127_oly_genome_snap02.all.noseqs.sorted.gff"
   ]
  },
  {
   "cell_type": "code",
   "execution_count": 2,
   "metadata": {
    "ExecuteTime": {
     "end_time": "2018-12-19T19:47:37.389263Z",
     "start_time": "2018-12-19T19:45:07.931317Z"
    }
   },
   "outputs": [
    {
     "name": "stdout",
     "output_type": "stream",
     "text": [
      ".\n",
      "3\n",
      "blastn\n",
      "blastx\n",
      "est2genome\n",
      "maker\n",
      "protein2genome\n",
      "repeatmasker\n",
      "repeatrunner\n",
      "snap_masked\n"
     ]
    }
   ],
   "source": [
    "!cat /Users/sr320/Desktop/oly/20181127_oly_genome_snap02.all.noseqs.sorted.gff | awk '{print $2}' | sort | uniq"
   ]
  },
  {
   "cell_type": "code",
   "execution_count": 3,
   "metadata": {
    "ExecuteTime": {
     "end_time": "2018-12-19T19:49:58.846146Z",
     "start_time": "2018-12-19T19:49:39.984785Z"
    }
   },
   "outputs": [
    {
     "name": "stdout",
     "output_type": "stream",
     "text": [
      "Contig0\tmaker\tgene\t12485\t93036\t.\t+\t.\tID=maker-Contig0-snap-gene-0.6;Name=maker-Contig0-snap-gene-0.6\r\n",
      "Contig0\tmaker\tmRNA\t12485\t93036\t.\t+\t.\tID=maker-Contig0-snap-gene-0.6-mRNA-1;Parent=maker-Contig0-snap-gene-0.6;Name=maker-Contig0-snap-gene-0.6-mRNA-1;_AED=0.17;_eAED=0.17;_QI=337|0.75|0.76|1|0.51|0.64|42|467|1560\r\n",
      "Contig0\tmaker\texon\t12485\t12571\t.\t+\t.\tID=maker-Contig0-snap-gene-0.6-mRNA-1:exon:12;Parent=maker-Contig0-snap-gene-0.6-mRNA-1\r\n",
      "Contig0\tmaker\tfive_prime_UTR\t12485\t12571\t.\t+\t.\tID=maker-Contig0-snap-gene-0.6-mRNA-1:five_prime_utr;Parent=maker-Contig0-snap-gene-0.6-mRNA-1\r\n",
      "Contig0\tmaker\texon\t13175\t13233\t.\t+\t.\tID=maker-Contig0-snap-gene-0.6-mRNA-1:exon:13;Parent=maker-Contig0-snap-gene-0.6-mRNA-1\r\n",
      "Contig0\tmaker\tfive_prime_UTR\t13175\t13233\t.\t+\t.\tID=maker-Contig0-snap-gene-0.6-mRNA-1:five_prime_utr;Parent=maker-Contig0-snap-gene-0.6-mRNA-1\r\n",
      "Contig0\tmaker\texon\t16209\t16373\t.\t+\t.\tID=maker-Contig0-snap-gene-0.6-mRNA-1:exon:14;Parent=maker-Contig0-snap-gene-0.6-mRNA-1\r\n",
      "Contig0\tmaker\tfive_prime_UTR\t16209\t16373\t.\t+\t.\tID=maker-Contig0-snap-gene-0.6-mRNA-1:five_prime_utr;Parent=maker-Contig0-snap-gene-0.6-mRNA-1\r\n",
      "Contig0\tmaker\texon\t18857\t18959\t.\t+\t.\tID=maker-Contig0-snap-gene-0.6-mRNA-1:exon:15;Parent=maker-Contig0-snap-gene-0.6-mRNA-1\r\n",
      "Contig0\tmaker\tfive_prime_UTR\t18857\t18882\t.\t+\t.\tID=maker-Contig0-snap-gene-0.6-mRNA-1:five_prime_utr;Parent=maker-Contig0-snap-gene-0.6-mRNA-1\r\n"
     ]
    }
   ],
   "source": [
    "!fgrep \"maker\" /Users/sr320/Desktop/oly/20181127_oly_genome_snap02.all.noseqs.sorted.gff | head"
   ]
  },
  {
   "cell_type": "code",
   "execution_count": 5,
   "metadata": {
    "ExecuteTime": {
     "end_time": "2018-12-19T19:51:12.629932Z",
     "start_time": "2018-12-19T19:50:51.053761Z"
    }
   },
   "outputs": [
    {
     "name": "stdout",
     "output_type": "stream",
     "text": [
      "139671 CDS\n",
      "142530 exon\n",
      "9468 five_prime_UTR\n",
      "24680 gene\n",
      "24680 mRNA\n",
      "6598 three_prime_UTR\n"
     ]
    }
   ],
   "source": [
    "!fgrep \"maker\" /Users/sr320/Desktop/oly/20181127_oly_genome_snap02.all.noseqs.sorted.gff \\\n",
    "| awk '{print $3}' | sort | uniq -c"
   ]
  },
  {
   "cell_type": "code",
   "execution_count": 7,
   "metadata": {
    "ExecuteTime": {
     "end_time": "2018-12-19T19:52:24.029391Z",
     "start_time": "2018-12-19T19:52:04.873427Z"
    }
   },
   "outputs": [],
   "source": [
    "!fgrep \"maker\" /Users/sr320/Desktop/oly/20181127_oly_genome_snap02.all.noseqs.sorted.gff > \\\n",
    "/Users/sr320/Desktop/oly/20181127_oly_genome_snap02.all.noseqs.sorted.maker.gff"
   ]
  },
  {
   "cell_type": "code",
   "execution_count": 11,
   "metadata": {
    "ExecuteTime": {
     "end_time": "2018-12-19T19:55:56.268729Z",
     "start_time": "2018-12-19T19:55:56.138864Z"
    }
   },
   "outputs": [
    {
     "name": "stdout",
     "output_type": "stream",
     "text": [
      "Contig0\tmaker\tgene\t12485\t93036\t.\t+\t.\tID=maker-Contig0-snap-gene-0.6;Name=maker-Contig0-snap-gene-0.6\r\n",
      "Contig0\tmaker\tmRNA\t12485\t93036\t.\t+\t.\tID=maker-Contig0-snap-gene-0.6-mRNA-1;Parent=maker-Contig0-snap-gene-0.6;Name=maker-Contig0-snap-gene-0.6-mRNA-1;_AED=0.17;_eAED=0.17;_QI=337|0.75|0.76|1|0.51|0.64|42|467|1560\r\n",
      "Contig0\tmaker\texon\t12485\t12571\t.\t+\t.\tID=maker-Contig0-snap-gene-0.6-mRNA-1:exon:12;Parent=maker-Contig0-snap-gene-0.6-mRNA-1\r\n",
      "Contig0\tmaker\tfive_prime_UTR\t12485\t12571\t.\t+\t.\tID=maker-Contig0-snap-gene-0.6-mRNA-1:five_prime_utr;Parent=maker-Contig0-snap-gene-0.6-mRNA-1\r\n",
      "Contig0\tmaker\texon\t13175\t13233\t.\t+\t.\tID=maker-Contig0-snap-gene-0.6-mRNA-1:exon:13;Parent=maker-Contig0-snap-gene-0.6-mRNA-1\r\n",
      "Contig0\tmaker\tfive_prime_UTR\t13175\t13233\t.\t+\t.\tID=maker-Contig0-snap-gene-0.6-mRNA-1:five_prime_utr;Parent=maker-Contig0-snap-gene-0.6-mRNA-1\r\n",
      "Contig0\tmaker\texon\t16209\t16373\t.\t+\t.\tID=maker-Contig0-snap-gene-0.6-mRNA-1:exon:14;Parent=maker-Contig0-snap-gene-0.6-mRNA-1\r\n",
      "Contig0\tmaker\tfive_prime_UTR\t16209\t16373\t.\t+\t.\tID=maker-Contig0-snap-gene-0.6-mRNA-1:five_prime_utr;Parent=maker-Contig0-snap-gene-0.6-mRNA-1\r\n",
      "Contig0\tmaker\texon\t18857\t18959\t.\t+\t.\tID=maker-Contig0-snap-gene-0.6-mRNA-1:exon:15;Parent=maker-Contig0-snap-gene-0.6-mRNA-1\r\n",
      "Contig0\tmaker\tfive_prime_UTR\t18857\t18882\t.\t+\t.\tID=maker-Contig0-snap-gene-0.6-mRNA-1:five_prime_utr;Parent=maker-Contig0-snap-gene-0.6-mRNA-1\r\n"
     ]
    }
   ],
   "source": [
    "!head /Users/sr320/Desktop/oly/20181127_oly_genome_snap02.all.noseqs.sorted.maker.gff"
   ]
  },
  {
   "cell_type": "markdown",
   "metadata": {
    "ExecuteTime": {
     "end_time": "2018-12-19T19:57:42.454882Z",
     "start_time": "2018-12-19T19:57:42.443250Z"
    }
   },
   "source": [
    "## post issue\n",
    "```\n",
    "Issue\n",
    "How do we get Swiss-Prot protein match for maker gff file.\n",
    "Specifically \n",
    "Contig0\tmaker\tgene\t12485\t93036\t.\t+\t.\tID=maker-Contig0-snap-gene-0.6;Name=maker-Contig0-snap-gene-0.6\n",
    "```"
   ]
  },
  {
   "cell_type": "code",
   "execution_count": 13,
   "metadata": {
    "ExecuteTime": {
     "end_time": "2018-12-19T19:59:52.924172Z",
     "start_time": "2018-12-19T19:59:51.936091Z"
    }
   },
   "outputs": [],
   "source": [
    "!fgrep \"maker\tgene\" /Users/sr320/Desktop/oly/20181127_oly_genome_snap02.all.noseqs.sorted.maker.gff \\\n",
    "> /Users/sr320/Desktop/oly/20181127_oly_genome_snap02.all.noseqs.sorted.maker-gene.gff"
   ]
  },
  {
   "cell_type": "code",
   "execution_count": 15,
   "metadata": {
    "ExecuteTime": {
     "end_time": "2018-12-19T20:00:05.130508Z",
     "start_time": "2018-12-19T20:00:04.998413Z"
    }
   },
   "outputs": [
    {
     "name": "stdout",
     "output_type": "stream",
     "text": [
      "   24680 /Users/sr320/Desktop/oly/20181127_oly_genome_snap02.all.noseqs.sorted.maker-gene.gff\r\n"
     ]
    }
   ],
   "source": [
    "!wc -l /Users/sr320/Desktop/oly/20181127_oly_genome_snap02.all.noseqs.sorted.maker-gene.gff"
   ]
  },
  {
   "cell_type": "code",
   "execution_count": null,
   "metadata": {},
   "outputs": [],
   "source": []
  }
 ],
 "metadata": {
  "kernelspec": {
   "display_name": "Python 3",
   "language": "python",
   "name": "python3"
  },
  "language_info": {
   "codemirror_mode": {
    "name": "ipython",
    "version": 3
   },
   "file_extension": ".py",
   "mimetype": "text/x-python",
   "name": "python",
   "nbconvert_exporter": "python",
   "pygments_lexer": "ipython3",
   "version": "3.6.3"
  }
 },
 "nbformat": 4,
 "nbformat_minor": 2
}
