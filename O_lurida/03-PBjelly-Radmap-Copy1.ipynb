{
 "cells": [
  {
   "cell_type": "code",
   "execution_count": 1,
   "metadata": {},
   "outputs": [
    {
     "name": "stdout",
     "output_type": "stream",
     "text": [
      "\u001b[31mHC1-10ca.fastq\u001b[m\u001b[m*      \u001b[31mHC1-15ca.fastq\u001b[m\u001b[m*      \u001b[31mHC1-2ca.fastq\u001b[m\u001b[m*\r\n",
      "\u001b[31mHC1-11ca.fastq\u001b[m\u001b[m*      \u001b[31mHC1-17ca.fastq\u001b[m\u001b[m*      \u001b[31mHC1-3ca.fastq\u001b[m\u001b[m*\r\n",
      "\u001b[31mHC1-12ca.fastq\u001b[m\u001b[m*      \u001b[31mHC1-18ca.fastq\u001b[m\u001b[m*      HC1-4ca.fastq\r\n",
      "\u001b[31mHC1-13ca.fastq\u001b[m\u001b[m*      \u001b[31mHC1-19ca.fastq\u001b[m\u001b[m*      \u001b[31mca_2brad_201512.out\u001b[m\u001b[m*\r\n",
      "\u001b[31mHC1-14ca.fastq\u001b[m\u001b[m*      \u001b[31mHC1-1ca.fastq\u001b[m\u001b[m*\r\n"
     ]
    }
   ],
   "source": [
    "ls /Volumes/web-1/wetgenes/2brad_201512_ca/"
   ]
  },
  {
   "cell_type": "code",
   "execution_count": 2,
   "metadata": {},
   "outputs": [
    {
     "name": "stdout",
     "output_type": "stream",
     "text": [
      "\u001b[34m18-01-22\u001b[m\u001b[m/  \u001b[34m18-01-23\u001b[m\u001b[m/  \u001b[34m18-01-24\u001b[m\u001b[m/  \u001b[34m18-01-25\u001b[m\u001b[m/  \u001b[34m18-01-25b\u001b[m\u001b[m/ \u001b[30m\u001b[43m18-01-30\u001b[m\u001b[m/  \u001b[34m18-03-05\u001b[m\u001b[m/\r\n"
     ]
    }
   ],
   "source": [
    "ls /Volumes/Serine/wd/"
   ]
  },
  {
   "cell_type": "code",
   "execution_count": 3,
   "metadata": {
    "collapsed": true
   },
   "outputs": [],
   "source": [
    "mkdir /Volumes/Serine/wd/18-03-06"
   ]
  },
  {
   "cell_type": "code",
   "execution_count": 15,
   "metadata": {
    "collapsed": true
   },
   "outputs": [],
   "source": [
    "mkdir /Volumes/Serine/wd/18-03-06/bowtie"
   ]
  },
  {
   "cell_type": "code",
   "execution_count": 16,
   "metadata": {},
   "outputs": [
    {
     "name": "stdout",
     "output_type": "stream",
     "text": [
      "HC1-10ca\r\n",
      "HC1-11ca\r\n",
      "HC1-12ca\r\n",
      "HC1-13ca\r\n",
      "HC1-14ca\r\n",
      "HC1-15ca\r\n",
      "HC1-17ca\r\n",
      "HC1-18ca\r\n",
      "HC1-19ca\r\n",
      "HC1-1ca\r\n",
      "HC1-2ca\r\n",
      "HC1-3ca\r\n",
      "HC1-4ca\r\n"
     ]
    }
   ],
   "source": [
    "!find /Volumes/web-1/wetgenes/2brad_201512_ca/*q \\\n",
    "| xargs basename -s .fastq | xargs -I{} echo {}\n",
    "\n"
   ]
  },
  {
   "cell_type": "code",
   "execution_count": 25,
   "metadata": {},
   "outputs": [
    {
     "name": "stdout",
     "output_type": "stream",
     "text": [
      "{}\n"
     ]
    },
    {
     "name": "stderr",
     "output_type": "stream",
     "text": [
      "1219587 reads; of these:\n",
      "  1219587 (100.00%) were unpaired; of these:\n",
      "    1219562 (100.00%) aligned 0 times\n",
      "    25 (0.00%) aligned exactly 1 time\n",
      "    0 (0.00%) aligned >1 times\n",
      "0.00% overall alignment rate\n",
      "2526024 reads; of these:\n",
      "  2526024 (100.00%) were unpaired; of these:\n",
      "    2526000 (100.00%) aligned 0 times\n",
      "    19 (0.00%) aligned exactly 1 time\n",
      "    5 (0.00%) aligned >1 times\n",
      "0.00% overall alignment rate\n",
      "1709933 reads; of these:\n",
      "  1709933 (100.00%) were unpaired; of these:\n",
      "    1709914 (100.00%) aligned 0 times\n",
      "    19 (0.00%) aligned exactly 1 time\n",
      "    0 (0.00%) aligned >1 times\n",
      "0.00% overall alignment rate\n",
      "3812983 reads; of these:\n",
      "  3812983 (100.00%) were unpaired; of these:\n",
      "    3812961 (100.00%) aligned 0 times\n",
      "    22 (0.00%) aligned exactly 1 time\n",
      "    0 (0.00%) aligned >1 times\n",
      "0.00% overall alignment rate\n",
      "2283 reads; of these:\n",
      "  2283 (100.00%) were unpaired; of these:\n",
      "    2283 (100.00%) aligned 0 times\n",
      "    0 (0.00%) aligned exactly 1 time\n",
      "    0 (0.00%) aligned >1 times\n",
      "0.00% overall alignment rate\n",
      "2726748 reads; of these:\n",
      "  2726748 (100.00%) were unpaired; of these:\n",
      "    2726723 (100.00%) aligned 0 times\n",
      "    21 (0.00%) aligned exactly 1 time\n",
      "    4 (0.00%) aligned >1 times\n",
      "0.00% overall alignment rate\n",
      "5272078 reads; of these:\n",
      "  5272078 (100.00%) were unpaired; of these:\n",
      "    5272026 (100.00%) aligned 0 times\n",
      "    50 (0.00%) aligned exactly 1 time\n",
      "    2 (0.00%) aligned >1 times\n",
      "0.00% overall alignment rate\n",
      "Saw ASCII character 18 but expected 33-based Phred qual.\n",
      "libc++abi.dylib: terminating with uncaught exception of type int\n",
      "(ERR): bowtie2-align died with signal 6 (ABRT) \n",
      "1974182 reads; of these:\n",
      "  1974182 (100.00%) were unpaired; of these:\n",
      "    1974158 (100.00%) aligned 0 times\n",
      "    18 (0.00%) aligned exactly 1 time\n",
      "    6 (0.00%) aligned >1 times\n",
      "0.00% overall alignment rate\n",
      "1263491 reads; of these:\n",
      "  1263491 (100.00%) were unpaired; of these:\n",
      "    1263475 (100.00%) aligned 0 times\n",
      "    14 (0.00%) aligned exactly 1 time\n",
      "    2 (0.00%) aligned >1 times\n",
      "0.00% overall alignment rate\n",
      "1006 reads; of these:\n",
      "  1006 (100.00%) were unpaired; of these:\n",
      "    1006 (100.00%) aligned 0 times\n",
      "    0 (0.00%) aligned exactly 1 time\n",
      "    0 (0.00%) aligned >1 times\n",
      "0.00% overall alignment rate\n",
      "1448900 reads; of these:\n",
      "  1448900 (100.00%) were unpaired; of these:\n",
      "    1448891 (100.00%) aligned 0 times\n",
      "    9 (0.00%) aligned exactly 1 time\n",
      "    0 (0.00%) aligned >1 times\n",
      "0.00% overall alignment rate\n",
      "0 reads\n",
      "0.00% overall alignment rate\n"
     ]
    }
   ],
   "source": [
    "%%bash\n",
    "find /Volumes/web-1/wetgenes/2brad_201512_ca/*q \\\n",
    "| xargs basename -s .fastq | xargs -I{} /Applications/bioinfo/bowtie2-2.2.4/bowtie2 \\\n",
    "-x /Volumes/Serine/wd/18-03-05/bowtie/duck4-10k.1.bowtie-index \\\n",
    "-U /Volumes/web-1/wetgenes/2brad_201512_ca/{}.fastq \\\n",
    "-p 6 \\\n",
    "--very-fast \\\n",
    "-S /Volumes/Serine/wd/18-03-06/bowtie/{}-duck4.sam "
   ]
  },
  {
   "cell_type": "code",
   "execution_count": 18,
   "metadata": {},
   "outputs": [
    {
     "name": "stdout",
     "output_type": "stream",
     "text": [
      "head: /Volumes/Serine/wd/18-03-06/bowtie/{}-duck4.sam: No such file or directory\r\n"
     ]
    }
   ],
   "source": []
  },
  {
   "cell_type": "code",
   "execution_count": null,
   "metadata": {
    "collapsed": true
   },
   "outputs": [],
   "source": [
    "!/Applications/bioinfo/bowtie2-2.2.4/bowtie2 \\\n",
    "-x /Volumes/Serine/wd/18-03-05/bowtie/duck4-10k.1.bowtie-index \\\n",
    "-U /Volumes/Serine/wd/18-03-05/160103_I137_FCH3V5YBBXX_L5_WHPANwalDDACDTAAPEI-102_1.fq.gz \\\n",
    "-p 6 \\\n",
    "--very-fast \\\n",
    "-S /Volumes/Serine/wd/18-03-05/bowtie/60103_I137-duck4-10k.1.sam"
   ]
  },
  {
   "cell_type": "code",
   "execution_count": null,
   "metadata": {
    "collapsed": true
   },
   "outputs": [],
   "source": []
  }
 ],
 "metadata": {
  "kernelspec": {
   "display_name": "Python 3",
   "language": "python",
   "name": "python3"
  },
  "language_info": {
   "codemirror_mode": {
    "name": "ipython",
    "version": 3
   },
   "file_extension": ".py",
   "mimetype": "text/x-python",
   "name": "python",
   "nbconvert_exporter": "python",
   "pygments_lexer": "ipython3",
   "version": "3.6.3"
  }
 },
 "nbformat": 4,
 "nbformat_minor": 1
}
