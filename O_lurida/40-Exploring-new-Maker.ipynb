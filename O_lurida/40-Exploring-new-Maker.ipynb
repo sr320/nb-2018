{
 "cells": [
  {
   "cell_type": "code",
   "execution_count": 2,
   "metadata": {
    "ExecuteTime": {
     "end_time": "2018-12-13T17:18:14.172450Z",
     "start_time": "2018-12-13T17:18:02.954829Z"
    }
   },
   "outputs": [
    {
     "name": "stdout",
     "output_type": "stream",
     "text": [
      "  % Total    % Received % Xferd  Average Speed   Time    Time     Time  Current\n",
      "                                 Dload  Upload   Total   Spent    Left  Speed\n",
      "100 1212M  100 1212M    0     0   110M      0  0:00:11  0:00:11 --:--:--  110M\n"
     ]
    }
   ],
   "source": [
    "!curl -O http://gannet.fish.washington.edu/Atumefaciens/20181127_oly_maker_genome_annotation/snap02/20181127_oly_genome_snap02.all.noseqs.sorted.gff"
   ]
  },
  {
   "cell_type": "code",
   "execution_count": 3,
   "metadata": {
    "ExecuteTime": {
     "end_time": "2018-12-13T17:18:16.466442Z",
     "start_time": "2018-12-13T17:18:16.326339Z"
    }
   },
   "outputs": [
    {
     "name": "stdout",
     "output_type": "stream",
     "text": [
      "01-10x-Chromium-explore.html\r\n",
      "01-10x-Chromium-explore.ipynb\r\n",
      "02-10x-filedump.html\r\n",
      "02-10x-filedump.ipynb\r\n",
      "03-10x-fastqc.html\r\n",
      "03-10x-fastqc.ipynb\r\n",
      "04-Quast Supernova.html\r\n",
      "04-Quast Supernova.ipynb\r\n",
      "05-Bsmap-supernova.html\r\n",
      "05-Bsmap-supernova.ipynb\r\n",
      "06-DNAmapping-Supernova.html\r\n",
      "06-DNAmapping-Supernova.ipynb\r\n",
      "07-EPI-Bismark.html\r\n",
      "07-EPI-Bismark.ipynb\r\n",
      "10-EPI_HIC-fullpipe.html\r\n",
      "10-EPI_HIC-fullpipe.ipynb\r\n",
      "11-EPI_HIC-fullpipe.html\r\n",
      "11-EPI_HIC-fullpipe.ipynb\r\n",
      "12-EPI_HIC-fullpipe.html\r\n",
      "12-EPI_HIC-fullpipe.ipynb\r\n",
      "13-Updated-HIC-assembly.html\r\n",
      "13-Updated-HIC-assembly.ipynb\r\n",
      "20-Exporing-Maker-output.html\r\n",
      "20-Exporing-Maker-output.ipynb\r\n",
      "20181127_oly_genome_snap02.all.noseqs.sorted.gff\r\n",
      "21-Exploring-genome.html\r\n",
      "21-Exploring-genome.ipynb\r\n",
      "22-Exploring-new-Maker.ipynb\r\n",
      "untitled.txt\r\n"
     ]
    }
   ],
   "source": [
    "ls"
   ]
  },
  {
   "cell_type": "code",
   "execution_count": 8,
   "metadata": {
    "ExecuteTime": {
     "end_time": "2018-12-13T17:26:52.892263Z",
     "start_time": "2018-12-13T17:26:52.755907Z"
    }
   },
   "outputs": [
    {
     "name": "stdout",
     "output_type": "stream",
     "text": [
      "##gff-version 3\r\n",
      "Contig0\t.\tcontig\t1\t116746\t.\t.\t.\tID=Contig0;Name=Contig0\r\n",
      "Contig0\trepeatmasker\tmatch\t1\t213\t1074\t+\t.\tID=Contig0:hit:44:1.3.0.0;Name=species:Helitron-N2f_CGi|genus:RC%2FHelitron;Target=species:Helitron-N2f_CGi|genus:RC%2FHelitron 1 209 +\r\n",
      "Contig0\trepeatmasker\tmatch_part\t1\t213\t1074\t+\t.\tID=Contig0:hsp:44:1.3.0.0;Parent=Contig0:hit:44:1.3.0.0;Target=species:Helitron-N2f_CGi|genus:RC%252FHelitron 1 209 +\r\n",
      "Contig0\trepeatmasker\tmatch\t264\t306\t397\t+\t.\tID=Contig0:hit:45:1.3.0.0;Name=species:rnd-1_family-144|genus:Unknown;Target=species:rnd-1_family-144|genus:Unknown 296 338 +\r\n",
      "Contig0\trepeatmasker\tmatch_part\t264\t306\t397\t+\t.\tID=Contig0:hsp:45:1.3.0.0;Parent=Contig0:hit:45:1.3.0.0;Target=species:rnd-1_family-144|genus:Unknown 296 338 +\r\n",
      "Contig0\trepeatmasker\tmatch\t357\t411\t318\t+\t.\tID=Contig0:hit:46:1.3.0.0;Name=species:BivaMD-SINE1_CrVi|genus:SINE%2FtRNA;Target=species:BivaMD-SINE1_CrVi|genus:SINE%2FtRNA 182 236 +\r\n",
      "Contig0\trepeatmasker\tmatch_part\t357\t411\t318\t+\t.\tID=Contig0:hsp:46:1.3.0.0;Parent=Contig0:hit:46:1.3.0.0;Target=species:BivaMD-SINE1_CrVi|genus:SINE%252FtRNA 182 236 +\r\n",
      "Contig0\trepeatmasker\tmatch\t596\t665\t333\t+\t.\tID=Contig0:hit:47:1.3.0.0;Name=species:CR1-2_CGi|genus:LINE%2FCR1-Zenon;Target=species:CR1-2_CGi|genus:LINE%2FCR1-Zenon 5417 5477 +\r\n",
      "Contig0\trepeatmasker\tmatch_part\t596\t665\t333\t+\t.\tID=Contig0:hsp:47:1.3.0.0;Parent=Contig0:hit:47:1.3.0.0;Target=species:CR1-2_CGi|genus:LINE%252FCR1-Zenon 5417 5477 +\r\n"
     ]
    }
   ],
   "source": [
    "!head 20181127_oly_genome_snap02.all.noseqs.sorted.gff "
   ]
  },
  {
   "cell_type": "code",
   "execution_count": 7,
   "metadata": {
    "ExecuteTime": {
     "end_time": "2018-12-13T17:26:49.586066Z",
     "start_time": "2018-12-13T17:26:49.450998Z"
    }
   },
   "outputs": [
    {
     "name": "stdout",
     "output_type": "stream",
     "text": [
      "3\r\n",
      ".\r\n",
      "repeatmasker\r\n",
      "repeatmasker\r\n",
      "repeatmasker\r\n",
      "repeatmasker\r\n",
      "repeatmasker\r\n",
      "repeatmasker\r\n",
      "repeatmasker\r\n",
      "repeatmasker\r\n"
     ]
    }
   ],
   "source": [
    "!head 20181127_oly_genome_snap02.all.noseqs.sorted.gff | awk '{print $2}'"
   ]
  },
  {
   "cell_type": "code",
   "execution_count": 10,
   "metadata": {
    "ExecuteTime": {
     "end_time": "2018-12-13T17:32:54.805064Z",
     "start_time": "2018-12-13T17:29:48.542649Z"
    }
   },
   "outputs": [
    {
     "name": "stdout",
     "output_type": "stream",
     "text": [
      ".\n",
      "3\n",
      "blastn\n",
      "blastx\n",
      "est2genome\n",
      "maker\n",
      "protein2genome\n",
      "repeatmasker\n",
      "repeatrunner\n",
      "snap_masked\n"
     ]
    }
   ],
   "source": [
    "!cat 20181127_oly_genome_snap02.all.noseqs.sorted.gff | awk '{print $2}' | sort | uniq"
   ]
  },
  {
   "cell_type": "code",
   "execution_count": 12,
   "metadata": {
    "ExecuteTime": {
     "end_time": "2018-12-13T17:34:12.955247Z",
     "start_time": "2018-12-13T17:33:54.853713Z"
    }
   },
   "outputs": [
    {
     "name": "stdout",
     "output_type": "stream",
     "text": [
      "Contig696449\tsnap_masked\tmatch_part\t1304\t1621\t-10.696\t+\t.\tID=Contig696449:hsp:70406:4.5.0.0;Parent=Contig696449:hit:42920:4.5.0.0;Target=snap_masked-Contig696449-abinit-gene-0.0-mRNA-1 1 318 +;Gap=M318\r\n",
      "Contig696449\tsnap_masked\tmatch\t3750\t4028\t12.837\t+\t.\tID=Contig696449:hit:42921:4.5.0.0;Name=snap_masked-Contig696449-abinit-gene-0.1-mRNA-1\r\n",
      "Contig696449\tsnap_masked\tmatch_part\t3750\t3755\t9.586\t+\t.\tID=Contig696449:hsp:70407:4.5.0.0;Parent=Contig696449:hit:42921:4.5.0.0;Target=snap_masked-Contig696449-abinit-gene-0.1-mRNA-1 1 6 +;Gap=M6\r\n",
      "Contig696449\tsnap_masked\tmatch_part\t3819\t4028\t3.251\t+\t.\tID=Contig696449:hsp:70408:4.5.0.0;Parent=Contig696449:hit:42921:4.5.0.0;Target=snap_masked-Contig696449-abinit-gene-0.1-mRNA-1 7 216 +;Gap=M210\r\n",
      "Contig696623\tsnap_masked\tmatch\t280\t1204\t50.378\t-\t.\tID=Contig696623:hit:31509:4.5.0.0;Name=snap_masked-Contig696623-abinit-gene-0.0-mRNA-1\r\n",
      "Contig696623\tsnap_masked\tmatch_part\t280\t491\t27.811\t-\t.\tID=Contig696623:hsp:66037:4.5.0.0;Parent=Contig696623:hit:31509:4.5.0.0;Target=snap_masked-Contig696623-abinit-gene-0.0-mRNA-1 1 212 +;Gap=M212\r\n",
      "Contig696623\tsnap_masked\tmatch_part\t818\t1120\t15.441\t-\t.\tID=Contig696623:hsp:66036:4.5.0.0;Parent=Contig696623:hit:31509:4.5.0.0;Target=snap_masked-Contig696623-abinit-gene-0.0-mRNA-1 213 515 +;Gap=M303\r\n",
      "Contig696623\tsnap_masked\tmatch_part\t1201\t1204\t7.126\t-\t.\tID=Contig696623:hsp:66035:4.5.0.0;Parent=Contig696623:hit:31509:4.5.0.0;Target=snap_masked-Contig696623-abinit-gene-0.0-mRNA-1 516 519 +;Gap=M4\r\n",
      "Contig696768\tsnap_masked\tmatch\t326\t625\t15.044\t-\t.\tID=Contig696768:hit:32270:4.5.0.0;Name=snap_masked-Contig696768-abinit-gene-0.0-mRNA-1\r\n",
      "Contig696768\tsnap_masked\tmatch_part\t326\t625\t15.044\t-\t.\tID=Contig696768:hsp:55772:4.5.0.0;Parent=Contig696768:hit:32270:4.5.0.0;Target=snap_masked-Contig696768-abinit-gene-0.0-mRNA-1 1 300 +;Gap=M300\r\n"
     ]
    }
   ],
   "source": [
    "!grep \"snap_masked\" 20181127_oly_genome_snap02.all.noseqs.sorted.gff | tail"
   ]
  },
  {
   "cell_type": "code",
   "execution_count": 13,
   "metadata": {
    "ExecuteTime": {
     "end_time": "2018-12-13T17:34:30.357636Z",
     "start_time": "2018-12-13T17:34:12.961948Z"
    }
   },
   "outputs": [
    {
     "name": "stdout",
     "output_type": "stream",
     "text": [
      "  639929\r\n"
     ]
    }
   ],
   "source": [
    "!grep \"snap_masked\" 20181127_oly_genome_snap02.all.noseqs.sorted.gff | wc -l"
   ]
  },
  {
   "cell_type": "code",
   "execution_count": 14,
   "metadata": {
    "ExecuteTime": {
     "end_time": "2018-12-13T17:37:07.965857Z",
     "start_time": "2018-12-13T17:34:30.365991Z"
    }
   },
   "outputs": [
    {
     "name": "stdout",
     "output_type": "stream",
     "text": [
      "159429 .\n",
      "   1 3\n",
      "317640 blastn\n",
      "1239436 blastx\n",
      "294249 est2genome\n",
      "347627 maker\n",
      "490038 protein2genome\n",
      "3967414 repeatmasker\n",
      " 200 repeatrunner\n",
      "566473 snap_masked\n"
     ]
    }
   ],
   "source": [
    "!cat 20181127_oly_genome_snap02.all.noseqs.sorted.gff | awk '{print $2}' | sort | uniq -c"
   ]
  },
  {
   "cell_type": "code",
   "execution_count": 15,
   "metadata": {
    "ExecuteTime": {
     "end_time": "2018-12-13T17:37:28.468084Z",
     "start_time": "2018-12-13T17:37:07.975711Z"
    }
   },
   "outputs": [
    {
     "name": "stdout",
     "output_type": "stream",
     "text": [
      "Contig0\tmaker\tgene\t12485\t93036\t.\t+\t.\tID=maker-Contig0-snap-gene-0.6;Name=maker-Contig0-snap-gene-0.6\r\n",
      "Contig0\tmaker\tmRNA\t12485\t93036\t.\t+\t.\tID=maker-Contig0-snap-gene-0.6-mRNA-1;Parent=maker-Contig0-snap-gene-0.6;Name=maker-Contig0-snap-gene-0.6-mRNA-1;_AED=0.17;_eAED=0.17;_QI=337|0.75|0.76|1|0.51|0.64|42|467|1560\r\n",
      "Contig0\tmaker\texon\t12485\t12571\t.\t+\t.\tID=maker-Contig0-snap-gene-0.6-mRNA-1:exon:12;Parent=maker-Contig0-snap-gene-0.6-mRNA-1\r\n",
      "Contig0\tmaker\tfive_prime_UTR\t12485\t12571\t.\t+\t.\tID=maker-Contig0-snap-gene-0.6-mRNA-1:five_prime_utr;Parent=maker-Contig0-snap-gene-0.6-mRNA-1\r\n",
      "Contig0\tmaker\texon\t13175\t13233\t.\t+\t.\tID=maker-Contig0-snap-gene-0.6-mRNA-1:exon:13;Parent=maker-Contig0-snap-gene-0.6-mRNA-1\r\n",
      "Contig0\tmaker\tfive_prime_UTR\t13175\t13233\t.\t+\t.\tID=maker-Contig0-snap-gene-0.6-mRNA-1:five_prime_utr;Parent=maker-Contig0-snap-gene-0.6-mRNA-1\r\n",
      "Contig0\tmaker\texon\t16209\t16373\t.\t+\t.\tID=maker-Contig0-snap-gene-0.6-mRNA-1:exon:14;Parent=maker-Contig0-snap-gene-0.6-mRNA-1\r\n",
      "Contig0\tmaker\tfive_prime_UTR\t16209\t16373\t.\t+\t.\tID=maker-Contig0-snap-gene-0.6-mRNA-1:five_prime_utr;Parent=maker-Contig0-snap-gene-0.6-mRNA-1\r\n",
      "Contig0\tmaker\texon\t18857\t18959\t.\t+\t.\tID=maker-Contig0-snap-gene-0.6-mRNA-1:exon:15;Parent=maker-Contig0-snap-gene-0.6-mRNA-1\r\n",
      "Contig0\tmaker\tfive_prime_UTR\t18857\t18882\t.\t+\t.\tID=maker-Contig0-snap-gene-0.6-mRNA-1:five_prime_utr;Parent=maker-Contig0-snap-gene-0.6-mRNA-1\r\n"
     ]
    }
   ],
   "source": [
    "!grep \"maker\" 20181127_oly_genome_snap02.all.noseqs.sorted.gff | head"
   ]
  },
  {
   "cell_type": "code",
   "execution_count": 17,
   "metadata": {
    "ExecuteTime": {
     "end_time": "2018-12-13T17:46:58.188061Z",
     "start_time": "2018-12-13T17:46:38.396426Z"
    }
   },
   "outputs": [
    {
     "name": "stdout",
     "output_type": "stream",
     "text": [
      "Contig0\tmaker\tgene\t12485\t93036\t.\t+\t.\tID=maker-Contig0-snap-gene-0.6;Name=maker-Contig0-snap-gene-0.6\r\n",
      "Contig0\tmaker\tgene\t95722\t104319\t.\t+\t.\tID=maker-Contig0-snap-gene-0.7;Name=maker-Contig0-snap-gene-0.7\r\n",
      "Contig1\tmaker\tgene\t7358\t13003\t.\t+\t.\tID=maker-Contig1-snap-gene-0.8;Name=maker-Contig1-snap-gene-0.8\r\n",
      "Contig1\tmaker\tgene\t37655\t62671\t.\t+\t.\tID=maker-Contig1-snap-gene-0.9;Name=maker-Contig1-snap-gene-0.9\r\n",
      "Contig1\tmaker\tgene\t72767\t78117\t.\t+\t.\tID=maker-Contig1-snap-gene-0.10;Name=maker-Contig1-snap-gene-0.10\r\n",
      "Contig1\tmaker\tgene\t83889\t86868\t.\t-\t.\tID=snap_masked-Contig1-processed-gene-0.7;Name=snap_masked-Contig1-processed-gene-0.7\r\n",
      "Contig2\tmaker\tgene\t6702\t26851\t.\t+\t.\tID=snap_masked-Contig2-processed-gene-0.0;Name=snap_masked-Contig2-processed-gene-0.0\r\n",
      "Contig2\tmaker\tgene\t47324\t66414\t.\t-\t.\tID=maker-Contig2-snap-gene-0.7;Name=maker-Contig2-snap-gene-0.7\r\n",
      "Contig3\tmaker\tgene\t4777\t15676\t.\t+\t.\tID=maker-Contig3-snap-gene-0.11;Name=maker-Contig3-snap-gene-0.11\r\n",
      "Contig3\tmaker\tgene\t24285\t27750\t.\t-\t.\tID=maker-Contig3-snap-gene-0.13;Name=maker-Contig3-snap-gene-0.13\r\n"
     ]
    }
   ],
   "source": [
    "!grep \"maker\" 20181127_oly_genome_snap02.all.noseqs.sorted.gff | grep \"\tgene\t\" | head"
   ]
  },
  {
   "cell_type": "code",
   "execution_count": 18,
   "metadata": {
    "ExecuteTime": {
     "end_time": "2018-12-13T17:47:17.647887Z",
     "start_time": "2018-12-13T17:46:58.198857Z"
    }
   },
   "outputs": [
    {
     "name": "stdout",
     "output_type": "stream",
     "text": [
      "   24680\r\n"
     ]
    }
   ],
   "source": [
    "!grep \"maker\" 20181127_oly_genome_snap02.all.noseqs.sorted.gff | grep \"\tgene\t\" | wc -l"
   ]
  },
  {
   "cell_type": "code",
   "execution_count": null,
   "metadata": {},
   "outputs": [],
   "source": []
  }
 ],
 "metadata": {
  "kernelspec": {
   "display_name": "Python 3",
   "language": "python",
   "name": "python3"
  },
  "language_info": {
   "codemirror_mode": {
    "name": "ipython",
    "version": 3
   },
   "file_extension": ".py",
   "mimetype": "text/x-python",
   "name": "python",
   "nbconvert_exporter": "python",
   "pygments_lexer": "ipython3",
   "version": "3.6.3"
  }
 },
 "nbformat": 4,
 "nbformat_minor": 2
}
