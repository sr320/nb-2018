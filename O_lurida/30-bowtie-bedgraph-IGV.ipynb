{
 "cells": [
  {
   "cell_type": "code",
   "execution_count": 3,
   "metadata": {
    "ExecuteTime": {
     "end_time": "2018-11-18T16:19:39.285038Z",
     "start_time": "2018-11-18T16:19:39.034577Z"
    }
   },
   "outputs": [
    {
     "name": "stdout",
     "output_type": "stream",
     "text": [
      "K00242:489:H25FGBBXY:6:2228:7760:49124\t16\tContig43431\t8198\t23\t42M1D8M\t*\t0\t0\tACTTGTCTTGACCTGGCTTTGCGGTCCAAAATTCTTTTGCGGCCCTATCA\t<A-JF-F77FF<FFJFF-JA<JFF7FJJJFJFFJJJJFJFJJJFJJFFAA\tAS:i:-14\tXN:i:0\tXM:i:1\tXO:i:1\tXG:i:1\tNM:i:2\tMD:Z:42^T2T5\tYT:Z:UU\r\n"
     ]
    }
   ],
   "source": [
    "!tail -1 /Users/sr320/Desktop/ls-quant/CP-KS-LibL-L2-G_S34__01_bowtie2.sam"
   ]
  },
  {
   "cell_type": "code",
   "execution_count": 5,
   "metadata": {
    "ExecuteTime": {
     "end_time": "2018-11-18T16:28:19.184427Z",
     "start_time": "2018-11-18T16:27:49.477773Z"
    }
   },
   "outputs": [
    {
     "name": "stderr",
     "output_type": "stream",
     "text": [
      "[bam_sort_core] merging from 0 files and 4 in-memory blocks...\n",
      "Failed to open BAM file /Users/sr320/Desktop/ls-quant/{}bam\n"
     ]
    }
   ],
   "source": [
    "%%bash\n",
    "find /Users/sr320/Desktop/ls-quant/*sam \\\n",
    "| xargs basename -s .sam | xargs -I{} samtools view \\\n",
    "--threads 4 \\\n",
    "-bS /Users/sr320/Desktop/ls-quant/{}.sam \\\n",
    "| samtools sort --threads 4 -o /Users/sr320/Desktop/ls-quant/{}.bam\n",
    "\n",
    "samtools index -@ 4 /Users/sr320/Desktop/ls-quant/*.bam\n",
    "\n",
    "find /Users/sr320/Desktop/ls-quant/*bam \\\n",
    "| xargs basename -s .bam | xargs -I{} /Applications/bioinfo/bedtools2/bin/bedtools genomecov \\\n",
    "-ibam /Users/sr320/Desktop/ls-quant/{}bam \\\n",
    "-bg | awk '$4 > 9' > /Users/sr320/Desktop/ls-quant/{}.bedgraph"
   ]
  },
  {
   "cell_type": "code",
   "execution_count": 6,
   "metadata": {
    "ExecuteTime": {
     "end_time": "2018-11-18T16:30:03.572613Z",
     "start_time": "2018-11-18T16:29:35.526041Z"
    }
   },
   "outputs": [
    {
     "name": "stderr",
     "output_type": "stream",
     "text": [
      "[bam_sort_core] merging from 0 files and 4 in-memory blocks...\n"
     ]
    }
   ],
   "source": [
    "%%bash\n",
    "samtools view \\\n",
    "--threads 4 \\\n",
    "-bS /Users/sr320/Desktop/ls-quant/CP-KS-LibL-L2-G_S34__01_bowtie2.sam \\\n",
    "| samtools sort --threads 4 -o /Users/sr320/Desktop/ls-quant/CP-KS-LibL-L2-G_S34__01_bowtie2.bam\n",
    "\n"
   ]
  },
  {
   "cell_type": "code",
   "execution_count": 7,
   "metadata": {
    "ExecuteTime": {
     "end_time": "2018-11-18T16:30:50.780273Z",
     "start_time": "2018-11-18T16:30:49.305768Z"
    }
   },
   "outputs": [],
   "source": [
    "!samtools index -@ 4 /Users/sr320/Desktop/ls-quant/CP-KS-LibL-L2-G_S34__01_bowtie2.bam\n",
    "\n"
   ]
  },
  {
   "cell_type": "code",
   "execution_count": 8,
   "metadata": {
    "ExecuteTime": {
     "end_time": "2018-11-18T16:31:35.796097Z",
     "start_time": "2018-11-18T16:31:20.504318Z"
    }
   },
   "outputs": [],
   "source": [
    "!/Applications/bioinfo/bedtools2/bin/bedtools genomecov \\\n",
    "-ibam /Users/sr320/Desktop/ls-quant/CP-KS-LibL-L2-G_S34__01_bowtie2.bam \\\n",
    "-bg | awk '$4 > 9' > /Users/sr320/Desktop/ls-quant/CP-KS-LibL-L2-G_S3.bedgraph"
   ]
  },
  {
   "cell_type": "code",
   "execution_count": null,
   "metadata": {},
   "outputs": [],
   "source": []
  }
 ],
 "metadata": {
  "kernelspec": {
   "display_name": "Python 3",
   "language": "python",
   "name": "python3"
  },
  "language_info": {
   "codemirror_mode": {
    "name": "ipython",
    "version": 3
   },
   "file_extension": ".py",
   "mimetype": "text/x-python",
   "name": "python",
   "nbconvert_exporter": "python",
   "pygments_lexer": "ipython3",
   "version": "3.6.3"
  }
 },
 "nbformat": 4,
 "nbformat_minor": 2
}
