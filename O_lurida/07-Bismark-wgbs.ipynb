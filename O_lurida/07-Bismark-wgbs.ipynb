{
 "cells": [
  {
   "cell_type": "markdown",
   "metadata": {},
   "source": [
    "# Running Bismark"
   ]
  },
  {
   "cell_type": "code",
   "execution_count": 1,
   "metadata": {
    "ExecuteTime": {
     "end_time": "2018-06-13T15:52:42.223989Z",
     "start_time": "2018-06-13T15:52:42.216597Z"
    }
   },
   "outputs": [],
   "source": [
    "wd=\"/Volumes/Orange_block/wd/18-06-13\""
   ]
  },
  {
   "cell_type": "code",
   "execution_count": null,
   "metadata": {},
   "outputs": [],
   "source": [
    "mkdir $wd"
   ]
  },
  {
   "cell_type": "code",
   "execution_count": 2,
   "metadata": {
    "ExecuteTime": {
     "end_time": "2018-06-13T15:52:43.617281Z",
     "start_time": "2018-06-13T15:52:43.603691Z"
    }
   },
   "outputs": [
    {
     "name": "stdout",
     "output_type": "stream",
     "text": [
      "/Volumes/Orange_block/wd/18-06-13\n"
     ]
    }
   ],
   "source": [
    "cd $wd"
   ]
  },
  {
   "cell_type": "markdown",
   "metadata": {
    "ExecuteTime": {
     "end_time": "2018-06-11T23:50:57.914482Z",
     "start_time": "2018-06-11T23:50:57.910536Z"
    }
   },
   "source": [
    "## Genome Preparation"
   ]
  },
  {
   "cell_type": "code",
   "execution_count": 3,
   "metadata": {
    "ExecuteTime": {
     "end_time": "2018-06-13T15:52:45.411288Z",
     "start_time": "2018-06-13T15:52:45.263458Z"
    }
   },
   "outputs": [],
   "source": [
    "!mkdir genome"
   ]
  },
  {
   "cell_type": "code",
   "execution_count": 4,
   "metadata": {
    "ExecuteTime": {
     "end_time": "2018-06-13T15:53:19.408985Z",
     "start_time": "2018-06-13T15:53:10.527570Z"
    }
   },
   "outputs": [],
   "source": [
    "!cp /Users/sr320/Desktop/oly/Olurida_v081.fa genome//Olurida_v081.fa"
   ]
  },
  {
   "cell_type": "code",
   "execution_count": null,
   "metadata": {
    "ExecuteTime": {
     "start_time": "2018-06-13T15:53:29.911Z"
    }
   },
   "outputs": [],
   "source": [
    "%%bash\n",
    "/Applications/bioinfo/Bismark_v0.19.0/bismark_genome_preparation \\\n",
    "--path_to_bowtie /Applications/bioinfo/bowtie2-2.3.4.1-macos-x86_64 \\\n",
    "genome"
   ]
  },
  {
   "cell_type": "code",
   "execution_count": null,
   "metadata": {},
   "outputs": [],
   "source": []
  },
  {
   "cell_type": "code",
   "execution_count": null,
   "metadata": {},
   "outputs": [],
   "source": [
    "%%bash\n",
    "find /Volumes/Serine/wd/18-04-27/zr2096_*R1* \\\n",
    "| xargs basename -s _s1_R1_val_1.fq.gz | xargs -I{} /Applications/bioinfo/Bismark_v0.19.0/bismark \\\n",
    "--path_to_bowtie /Applications/bioinfo/bowtie2-2.3.4.1-macos-x86_64 \\\n",
    "--genome /Volumes/Serine/wd/18-03-15/genome \\\n",
    "--score_min L,0,-0.9 \\\n",
    "-p 4 \\\n",
    "--non_directional \\\n",
    "-1 /Volumes/Serine/wd/18-04-27/{}_s1_R1_val_1.fq.gz \\\n",
    "-2 /Volumes/Serine/wd/18-04-27/{}_s1_R2_val_2.fq.gz \\\n",
    "2> bismark.err"
   ]
  }
 ],
 "metadata": {
  "kernelspec": {
   "display_name": "Python 3",
   "language": "python",
   "name": "python3"
  },
  "language_info": {
   "codemirror_mode": {
    "name": "ipython",
    "version": 3
   },
   "file_extension": ".py",
   "mimetype": "text/x-python",
   "name": "python",
   "nbconvert_exporter": "python",
   "pygments_lexer": "ipython3",
   "version": "3.6.3"
  }
 },
 "nbformat": 4,
 "nbformat_minor": 2
}
