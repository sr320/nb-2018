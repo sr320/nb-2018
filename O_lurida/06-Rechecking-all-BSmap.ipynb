{
 "cells": [
  {
   "cell_type": "code",
   "execution_count": 1,
   "metadata": {
    "collapsed": false
   },
   "outputs": [
    {
     "name": "stdout",
     "output_type": "stream",
     "text": [
      "Process is interrupted.\n"
     ]
    }
   ],
   "source": [
    "%%bash\n",
    "find /Volumes/Serine/wd/18-03-13/*.fasta \\\n",
    "| xargs basename -s .fasta | xargs -I{} /Applications/bioinfo/BSMAP/bsmap-2.74/bsmap \\\n",
    "-a /Volumes/Serine/wd/18-03-07/WG-BS/8_ACTTGA_L001_R1_001.fastq.gz \\\n",
    "-d /Volumes/Serine/wd/18-03-13/{}.fasta \\\n",
    "-o /Volumes/Serine/wd/18-03-13/out/8_ACTTGA-bsmap_out_{}.sam \\\n",
    "-p 8 \\\n",
    "2> /Volumes/Serine/wd/18-03-13/sterr.txt"
   ]
  },
  {
   "cell_type": "code",
   "execution_count": null,
   "metadata": {
    "collapsed": true
   },
   "outputs": [],
   "source": []
  }
 ],
 "metadata": {
  "kernelspec": {
   "display_name": "Python 2",
   "language": "python",
   "name": "python2"
  },
  "language_info": {
   "codemirror_mode": {
    "name": "ipython",
    "version": 2
   },
   "file_extension": ".py",
   "mimetype": "text/x-python",
   "name": "python",
   "nbconvert_exporter": "python",
   "pygments_lexer": "ipython2",
   "version": "2.7.12"
  }
 },
 "nbformat": 4,
 "nbformat_minor": 0
}
