{
 "cells": [
  {
   "cell_type": "code",
   "execution_count": 2,
   "metadata": {
    "ExecuteTime": {
     "end_time": "2018-08-24T19:54:10.445392Z",
     "start_time": "2018-08-24T19:53:55.596843Z"
    }
   },
   "outputs": [
    {
     "name": "stdout",
     "output_type": "stream",
     "text": [
      "\n",
      "\n",
      "Building a new DB, current time: 08/24/2018 12:53:55\n",
      "New DB name:   /Users/sr320/Desktop/oly/Olurida_v081\n",
      "New DB title:  /Users/sr320/Desktop/oly/Olurida_v081.fa\n",
      "Sequence type: Nucleotide\n",
      "Keep MBits: T\n",
      "Maximum file size: 1000000000B\n",
      "Adding sequences from FASTA; added 159429 sequences in 14.6247 seconds.\n"
     ]
    }
   ],
   "source": [
    "!/Applications/bioinfo/ncbi-blast-2.7.1+/bin/makeblastdb \\\n",
    "-dbtype nucl \\\n",
    "-in /Users/sr320/Desktop/oly/Olurida_v081.fa \\\n",
    "-out /Users/sr320/Desktop/oly/Olurida_v081"
   ]
  },
  {
   "cell_type": "code",
   "execution_count": null,
   "metadata": {},
   "outputs": [],
   "source": []
  },
  {
   "cell_type": "code",
   "execution_count": null,
   "metadata": {
    "ExecuteTime": {
     "start_time": "2018-08-24T19:56:49.983Z"
    }
   },
   "outputs": [],
   "source": [
    "!/Applications/bioinfo/ncbi-blast-2.7.1+/bin/blastn \\\n",
    "-query /Users/sr320/Desktop/oly/Olurida_transcriptome_v3.fasta \\\n",
    "-db /Users/sr320/Desktop/oly/Olurida_v081 \\\n",
    "-task blastn \\\n",
    "-evalue 1e-20 \\\n",
    "-outfmt 6 \\\n",
    "-out /Users/sr320/Desktop/trans-v3-blastn-Olurida_v081.tab \\\n",
    "-max_target_seqs 1 \\\n",
    "-num_threads 4\n"
   ]
  },
  {
   "cell_type": "code",
   "execution_count": null,
   "metadata": {},
   "outputs": [],
   "source": [
    "!perl ../scripts/2_Blast2Gff.pl \\\n",
    "-i /Users/sr320/data-genomic/wd/2017-01-31/Pg-trans-blastn-Scaff-10k-02.tab \\\n",
    "-s \"something\" \\\n",
    "-o /Users/sr320/data-genomic/wd/2017-01-31/Pg-trans-blastn-Scaff-10k-02.gff \\\n",
    "-p \"gene-blast\" -d \"Pgenerosa-scaff-10k\"\n"
   ]
  }
 ],
 "metadata": {
  "kernelspec": {
   "display_name": "Python 3",
   "language": "python",
   "name": "python3"
  },
  "language_info": {
   "codemirror_mode": {
    "name": "ipython",
    "version": 3
   },
   "file_extension": ".py",
   "mimetype": "text/x-python",
   "name": "python",
   "nbconvert_exporter": "python",
   "pygments_lexer": "ipython3",
   "version": "3.6.3"
  }
 },
 "nbformat": 4,
 "nbformat_minor": 2
}
