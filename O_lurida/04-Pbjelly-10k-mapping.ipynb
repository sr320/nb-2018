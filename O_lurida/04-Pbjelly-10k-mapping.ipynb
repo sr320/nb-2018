{
 "cells": [
  {
   "cell_type": "code",
   "execution_count": 1,
   "metadata": {
    "collapsed": true
   },
   "outputs": [],
   "source": [
    "mkdir /Volumes/Serine/wd/18-03-07"
   ]
  },
  {
   "cell_type": "code",
   "execution_count": null,
   "metadata": {
    "collapsed": true
   },
   "outputs": [],
   "source": [
    "mkdir /Volumes/Serine/wd/18-03-07/bowtie"
   ]
  },
  {
   "cell_type": "code",
   "execution_count": null,
   "metadata": {
    "collapsed": true
   },
   "outputs": [],
   "source": [
    "/Volumes/Serine/wd/18-01-25b/jelly.out.fasta"
   ]
  },
  {
   "cell_type": "code",
   "execution_count": 8,
   "metadata": {
    "collapsed": false,
    "scrolled": false
   },
   "outputs": [],
   "source": [
    "!awk '!/^>/ { next } { getline seq } length(seq) >= 10000 { print $0 \"\\n\" seq }' \\\n",
    "/Volumes/Serine/wd/18-01-25b/jelly.out.fasta \\\n",
    "> /Volumes/Serine/wd/18-03-07/Ol-pbjelly10k.fa\n"
   ]
  },
  {
   "cell_type": "code",
   "execution_count": 15,
   "metadata": {
    "collapsed": true
   },
   "outputs": [],
   "source": [
    "!awk '!/^>/ { next } { getline seq } length(seq) >= 1000 { print $0 \"\\n\" seq }' \\\n",
    "/Volumes/Serine/wd/18-01-25b/jelly.out.fasta \\\n",
    "> /Volumes/Serine/wd/18-03-07/Ol-pbjelly1k.fa\n"
   ]
  },
  {
   "cell_type": "code",
   "execution_count": 9,
   "metadata": {
    "collapsed": false
   },
   "outputs": [
    {
     "name": "stdout",
     "output_type": "stream",
     "text": [
      "696946\r\n"
     ]
    }
   ],
   "source": [
    "!fgrep -c \">\" /Volumes/Serine/wd/18-01-25b/jelly.out.fasta"
   ]
  },
  {
   "cell_type": "code",
   "execution_count": 10,
   "metadata": {
    "collapsed": false
   },
   "outputs": [
    {
     "name": "stdout",
     "output_type": "stream",
     "text": [
      "35320\r\n"
     ]
    }
   ],
   "source": [
    "!fgrep -c \">\" /Volumes/Serine/wd/18-03-07/Ol-pbjelly10k.fa"
   ]
  },
  {
   "cell_type": "code",
   "execution_count": 14,
   "metadata": {
    "collapsed": true
   },
   "outputs": [
    {
     "name": "stdout",
     "output_type": "stream",
     "text": [
      "\r\n",
      "0:999 \t537517\r\n",
      "1000:1999 \t46542\r\n",
      "2000:2999 \t20598\r\n",
      "3000:3999 \t13288\r\n",
      "4000:4999 \t10251\r\n",
      "5000:5999 \t8661\r\n",
      "6000:6999 \t7530\r\n",
      "7000:7999 \t6727\r\n",
      "8000:8999 \t5667\r\n",
      "9000:9999 \t4845\r\n",
      "10000:10999 \t4106\r\n",
      "11000:11999 \t3575\r\n",
      "12000:12999 \t3115\r\n",
      "13000:13999 \t2582\r\n",
      "14000:14999 \t2442\r\n",
      "15000:15999 \t2060\r\n",
      "16000:16999 \t1790\r\n",
      "17000:17999 \t1545\r\n",
      "18000:18999 \t1396\r\n",
      "19000:19999 \t1208\r\n",
      "20000:20999 \t1111\r\n",
      "21000:21999 \t1018\r\n",
      "22000:22999 \t877\r\n",
      "23000:23999 \t770\r\n",
      "24000:24999 \t677\r\n",
      "25000:25999 \t629\r\n",
      "26000:26999 \t530\r\n",
      "27000:27999 \t509\r\n",
      "28000:28999 \t458\r\n",
      "29000:29999 \t401\r\n",
      "30000:30999 \t401\r\n",
      "31000:31999 \t318\r\n",
      "32000:32999 \t314\r\n",
      "33000:33999 \t256\r\n",
      "34000:34999 \t258\r\n",
      "35000:35999 \t250\r\n",
      "36000:36999 \t215\r\n",
      "37000:37999 \t196\r\n",
      "38000:38999 \t196\r\n",
      "39000:39999 \t178\r\n",
      "40000:40999 \t148\r\n",
      "41000:41999 \t149\r\n",
      "42000:42999 \t128\r\n",
      "43000:43999 \t111\r\n",
      "44000:44999 \t113\r\n",
      "45000:45999 \t101\r\n",
      "46000:46999 \t89\r\n",
      "47000:47999 \t69\r\n",
      "48000:48999 \t58\r\n",
      "49000:49999 \t79\r\n",
      "50000:50999 \t60\r\n",
      "51000:51999 \t63\r\n",
      "52000:52999 \t47\r\n",
      "53000:53999 \t57\r\n",
      "54000:54999 \t56\r\n",
      "55000:55999 \t37\r\n",
      "56000:56999 \t35\r\n",
      "57000:57999 \t28\r\n",
      "58000:58999 \t31\r\n",
      "59000:59999 \t35\r\n",
      "60000:60999 \t28\r\n",
      "61000:61999 \t40\r\n",
      "62000:62999 \t33\r\n",
      "63000:63999 \t17\r\n",
      "64000:64999 \t20\r\n",
      "65000:65999 \t23\r\n",
      "66000:66999 \t16\r\n",
      "67000:67999 \t10\r\n",
      "68000:68999 \t16\r\n",
      "69000:69999 \t13\r\n",
      "70000:70999 \t11\r\n",
      "71000:71999 \t11\r\n",
      "72000:72999 \t12\r\n",
      "73000:73999 \t16\r\n",
      "74000:74999 \t20\r\n",
      "75000:75999 \t9\r\n",
      "76000:76999 \t8\r\n",
      "77000:77999 \t8\r\n",
      "78000:78999 \t12\r\n",
      "79000:79999 \t13\r\n",
      "80000:80999 \t7\r\n",
      "81000:81999 \t6\r\n",
      "82000:82999 \t6\r\n",
      "83000:83999 \t7\r\n",
      "84000:84999 \t5\r\n",
      "85000:85999 \t3\r\n",
      "86000:86999 \t4\r\n",
      "87000:87999 \t7\r\n",
      "88000:88999 \t3\r\n",
      "89000:89999 \t6\r\n",
      "90000:90999 \t1\r\n",
      "91000:91999 \t2\r\n",
      "92000:92999 \t5\r\n",
      "93000:93999 \t0\r\n",
      "94000:94999 \t3\r\n",
      "95000:95999 \t5\r\n",
      "96000:96999 \t3\r\n",
      "97000:97999 \t1\r\n",
      "98000:98999 \t1\r\n",
      "99000:99999 \t2\r\n",
      "100000:100999 \t1\r\n",
      "101000:101999 \t2\r\n",
      "102000:102999 \t2\r\n",
      "103000:103999 \t0\r\n",
      "104000:104999 \t0\r\n",
      "105000:105999 \t1\r\n",
      "106000:106999 \t0\r\n",
      "107000:107999 \t3\r\n",
      "108000:108999 \t1\r\n",
      "109000:109999 \t2\r\n",
      "110000:110999 \t1\r\n",
      "111000:111999 \t2\r\n",
      "112000:112999 \t1\r\n",
      "113000:113999 \t0\r\n",
      "114000:114999 \t1\r\n",
      "115000:115999 \t1\r\n",
      "116000:116999 \t2\r\n",
      "117000:117999 \t0\r\n",
      "118000:118999 \t0\r\n",
      "119000:119999 \t0\r\n",
      "120000:120999 \t0\r\n",
      "121000:121999 \t0\r\n",
      "122000:122999 \t2\r\n",
      "123000:123999 \t0\r\n",
      "124000:124999 \t0\r\n",
      "125000:125999 \t1\r\n",
      "126000:126999 \t0\r\n",
      "127000:127999 \t0\r\n",
      "128000:128999 \t1\r\n",
      "129000:129999 \t2\r\n",
      "130000:130999 \t1\r\n",
      "131000:131999 \t0\r\n",
      "132000:132999 \t0\r\n",
      "133000:133999 \t0\r\n",
      "134000:134999 \t0\r\n",
      "135000:135999 \t0\r\n",
      "136000:136999 \t0\r\n",
      "137000:137999 \t0\r\n",
      "138000:138999 \t2\r\n",
      "139000:139999 \t1\r\n",
      "140000:140999 \t0\r\n",
      "141000:141999 \t1\r\n",
      "142000:142999 \t0\r\n",
      "143000:143999 \t0\r\n",
      "144000:144999 \t0\r\n",
      "145000:145999 \t0\r\n",
      "146000:146999 \t0\r\n",
      "147000:147999 \t0\r\n",
      "148000:148999 \t0\r\n",
      "149000:149999 \t0\r\n",
      "150000:150999 \t0\r\n",
      "151000:151999 \t0\r\n",
      "152000:152999 \t0\r\n",
      "153000:153999 \t0\r\n",
      "154000:154999 \t0\r\n",
      "155000:155999 \t0\r\n",
      "156000:156999 \t0\r\n",
      "157000:157999 \t0\r\n",
      "158000:158999 \t0\r\n",
      "159000:159999 \t0\r\n",
      "160000:160999 \t0\r\n",
      "161000:161999 \t0\r\n",
      "162000:162999 \t0\r\n",
      "163000:163999 \t0\r\n",
      "164000:164999 \t0\r\n",
      "165000:165999 \t0\r\n",
      "166000:166999 \t0\r\n",
      "167000:167999 \t0\r\n",
      "168000:168999 \t0\r\n",
      "169000:169999 \t0\r\n",
      "170000:170999 \t0\r\n",
      "171000:171999 \t0\r\n",
      "172000:172999 \t0\r\n",
      "173000:173999 \t0\r\n",
      "174000:174999 \t0\r\n",
      "175000:175999 \t0\r\n",
      "176000:176999 \t0\r\n",
      "177000:177999 \t0\r\n",
      "178000:178999 \t0\r\n",
      "179000:179999 \t0\r\n",
      "180000:180999 \t0\r\n",
      "181000:181999 \t0\r\n",
      "182000:182999 \t0\r\n",
      "183000:183999 \t0\r\n",
      "184000:184999 \t0\r\n",
      "185000:185999 \t0\r\n",
      "186000:186999 \t0\r\n",
      "187000:187999 \t0\r\n",
      "188000:188999 \t0\r\n",
      "189000:189999 \t0\r\n",
      "190000:190999 \t0\r\n",
      "191000:191999 \t0\r\n",
      "192000:192999 \t0\r\n",
      "193000:193999 \t0\r\n",
      "194000:194999 \t1\r\n",
      "\r\n",
      "Total length of sequence:\t1253001795 bp\r\n",
      "Total number of sequences:\t696946\r\n",
      "N25 stats:\t\t\t25% of total sequence length is contained in the 9256 sequences >= 22114 bp\r\n",
      "N50 stats:\t\t\t50% of total sequence length is contained in the 29267 sequences >= 11531 bp\r\n",
      "N75 stats:\t\t\t75% of total sequence length is contained in the 70273 sequences >= 4835 bp\r\n",
      "Total GC count:\t\t\t427979910 bp\r\n",
      "GC %:\t\t\t\t34.16 %\r\n",
      "\r\n"
     ]
    }
   ],
   "source": [
    "!perl ../scripts/count_fasta.pl -i 1000 \\\n",
    "/Volumes/Serine/wd/18-01-25b/jelly.out.fasta"
   ]
  },
  {
   "cell_type": "code",
   "execution_count": 12,
   "metadata": {
    "collapsed": true
   },
   "outputs": [
    {
     "name": "stdout",
     "output_type": "stream",
     "text": [
      "\r\n",
      "10000:19999 \t23819\r\n",
      "20000:29999 \t6980\r\n",
      "30000:39999 \t2582\r\n",
      "40000:49999 \t1045\r\n",
      "50000:59999 \t449\r\n",
      "60000:69999 \t216\r\n",
      "70000:79999 \t120\r\n",
      "80000:89999 \t54\r\n",
      "90000:99999 \t23\r\n",
      "100000:109999 \t12\r\n",
      "110000:119999 \t8\r\n",
      "120000:129999 \t6\r\n",
      "130000:139999 \t4\r\n",
      "140000:149999 \t1\r\n",
      "150000:159999 \t0\r\n",
      "160000:169999 \t0\r\n",
      "170000:179999 \t0\r\n",
      "180000:189999 \t0\r\n",
      "190000:199999 \t1\r\n",
      "\r\n",
      "Total length of sequence:\t691523275 bp\r\n",
      "Total number of sequences:\t35320\r\n",
      "N25 stats:\t\t\t25% of total sequence length is contained in the 3885 sequences >= 31761 bp\r\n",
      "N50 stats:\t\t\t50% of total sequence length is contained in the 10777 sequences >= 20628 bp\r\n",
      "N75 stats:\t\t\t75% of total sequence length is contained in the 20887 sequences >= 14411 bp\r\n",
      "Total GC count:\t\t\t247539412 bp\r\n",
      "GC %:\t\t\t\t35.80 %\r\n",
      "\r\n"
     ]
    }
   ],
   "source": [
    "!perl ../scripts/count_fasta.pl -i 10000 \\\n",
    "/Volumes/Serine/wd/18-03-07/Ol-pbjelly10k.fa"
   ]
  },
  {
   "cell_type": "code",
   "execution_count": null,
   "metadata": {
    "collapsed": false
   },
   "outputs": [],
   "source": [
    "!/Applications/bioinfo/bowtie2-2.3.4.1-macos-x86_64/bowtie2-build \\\n",
    "-q \\\n",
    "--threads 8 \\\n",
    "/Volumes/Serine/wd/18-03-07/Ol-pbjelly10k.fa \\\n",
    "/Volumes/Serine/wd/18-03-07/Ol-pbjelly10k.bowtie-index"
   ]
  },
  {
   "cell_type": "code",
   "execution_count": null,
   "metadata": {
    "collapsed": true
   },
   "outputs": [],
   "source": [
    "%%bash\n",
    "find /Volumes/web-1/wetgenes/2brad_201512_ca/*q \\\n",
    "| xargs basename -s .fastq | xargs -I{} /Applications/bioinfo/bowtie2-2.3.4.1-macos-x86_64/bowtie2 \\\n",
    "-x /Volumes/Serine/wd/18-03-07/Ol-pbjelly10k.bowtie-index \\\n",
    "-U /Volumes/web-1/wetgenes/2brad_201512_ca/{}.fastq \\\n",
    "-p 6 \\\n",
    "--very-fast \\\n",
    "-S /Volumes/Serine/wd/18-03-07/bowtie/{}-PbJelly_Ol.sam"
   ]
  }
 ],
 "metadata": {
  "kernelspec": {
   "display_name": "Python 2",
   "language": "python",
   "name": "python2"
  },
  "language_info": {
   "codemirror_mode": {
    "name": "ipython",
    "version": 2
   },
   "file_extension": ".py",
   "mimetype": "text/x-python",
   "name": "python",
   "nbconvert_exporter": "python",
   "pygments_lexer": "ipython2",
   "version": "2.7.12"
  }
 },
 "nbformat": 4,
 "nbformat_minor": 0
}
