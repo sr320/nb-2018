{
 "cells": [
  {
   "cell_type": "code",
   "execution_count": 1,
   "metadata": {
    "ExecuteTime": {
     "end_time": "2018-11-04T14:21:25.360067Z",
     "start_time": "2018-11-04T14:21:25.346412Z"
    }
   },
   "outputs": [
    {
     "name": "stdout",
     "output_type": "stream",
     "text": [
      "/Users/sr320/Desktop/oly\n"
     ]
    }
   ],
   "source": [
    "cd /Users/sr320/Desktop/oly"
   ]
  },
  {
   "cell_type": "code",
   "execution_count": 2,
   "metadata": {
    "ExecuteTime": {
     "end_time": "2018-11-04T14:23:15.760936Z",
     "start_time": "2018-11-04T14:21:56.264625Z"
    }
   },
   "outputs": [
    {
     "name": "stdout",
     "output_type": "stream",
     "text": [
      "  % Total    % Received % Xferd  Average Speed   Time    Time     Time  Current\n",
      "                                 Dload  Upload   Total   Spent    Left  Speed\n",
      "100  670M  100  670M    0     0  8691k      0  0:01:19  0:01:19 --:--:-- 9209k\n"
     ]
    }
   ],
   "source": [
    "!curl -O http://owl.fish.washington.edu/Athaliana/20180827_trinity_oly_RNAseq/Trinity.fasta"
   ]
  },
  {
   "cell_type": "code",
   "execution_count": 3,
   "metadata": {
    "ExecuteTime": {
     "end_time": "2018-11-04T14:25:30.201640Z",
     "start_time": "2018-11-04T14:23:15.767138Z"
    }
   },
   "outputs": [
    {
     "name": "stdout",
     "output_type": "stream",
     "text": [
      "  % Total    % Received % Xferd  Average Speed   Time    Time     Time  Current\n",
      "                                 Dload  Upload   Total   Spent    Left  Speed\n",
      "100 1090M  100 1090M    0     0  8330k      0  0:02:14  0:02:14 --:--:-- 6809k  7394k      0  0:02:30  0:00:31  0:01:59 9089k  464M    0     0  8063k      0  0:02:18  0:00:59  0:01:19 9119k0  8506k      0  0:02:11  0:01:51  0:00:20 9099k\n"
     ]
    }
   ],
   "source": [
    "!curl -O http://owl.fish.washington.edu/halfshell/genomic-databank/Olurida_v081.fa"
   ]
  },
  {
   "cell_type": "code",
   "execution_count": 4,
   "metadata": {
    "ExecuteTime": {
     "end_time": "2018-11-04T14:25:44.934671Z",
     "start_time": "2018-11-04T14:25:30.206135Z"
    }
   },
   "outputs": [
    {
     "name": "stdout",
     "output_type": "stream",
     "text": [
      "\n",
      "\n",
      "Building a new DB, current time: 11/04/2018 06:25:30\n",
      "New DB name:   /Users/sr320/Desktop/oly/Olurida_v081\n",
      "New DB title:  /Users/sr320/Desktop/oly/Olurida_v081.fa\n",
      "Sequence type: Nucleotide\n",
      "Keep MBits: T\n",
      "Maximum file size: 1000000000B\n",
      "Adding sequences from FASTA; added 159429 sequences in 14.4657 seconds.\n"
     ]
    }
   ],
   "source": [
    "!/Applications/bioinfo/ncbi-blast-2.7.1+/bin/makeblastdb \\\n",
    "-dbtype nucl \\\n",
    "-in /Users/sr320/Desktop/oly/Olurida_v081.fa \\\n",
    "-out /Users/sr320/Desktop/oly/Olurida_v081"
   ]
  },
  {
   "cell_type": "code",
   "execution_count": null,
   "metadata": {},
   "outputs": [],
   "source": []
  },
  {
   "cell_type": "code",
   "execution_count": 5,
   "metadata": {
    "ExecuteTime": {
     "end_time": "2018-11-05T13:52:11.292620Z",
     "start_time": "2018-11-04T14:26:23.706820Z"
    }
   },
   "outputs": [
    {
     "name": "stdout",
     "output_type": "stream",
     "text": [
      "^C\r\n"
     ]
    }
   ],
   "source": [
    "!/Applications/bioinfo/ncbi-blast-2.7.1+/bin/blastn \\\n",
    "-query /Users/sr320/Desktop/oly/Trinity.fasta \\\n",
    "-db /Users/sr320/Desktop/oly/Olurida_v081 \\\n",
    "-task blastn \\\n",
    "-evalue 1e-20 \\\n",
    "-outfmt 6 \\\n",
    "-out /Users/sr320/Documents/GitHub/nb-2018/O_lurida/analyses/trans-KS-blastn-Olurida_v081.tab \\\n",
    "-num_threads 4\n"
   ]
  },
  {
   "cell_type": "code",
   "execution_count": 6,
   "metadata": {
    "ExecuteTime": {
     "end_time": "2018-11-05T13:52:11.491447Z",
     "start_time": "2018-11-05T13:52:11.308322Z"
    }
   },
   "outputs": [
    {
     "name": "stdout",
     "output_type": "stream",
     "text": [
      "Can't open perl script \"../scripts/2_Blast2Gff.pl\": No such file or directory\r\n"
     ]
    }
   ],
   "source": [
    "!perl ../scripts/2_Blast2Gff.pl \\\n",
    "-i /Users/sr320/Documents/GitHub/nb-2018/O_lurida/analyses/trans-KS-blastn-Olurida_v081.tab \\\n",
    "-s \"something\" \\\n",
    "-o /Users/sr320/Documents/GitHub/nb-2018/O_lurida/analyses/trans-KS-blastn-Olurida_v081.gff \\\n",
    "-p \"gene-blast\" -d \"Olurida_v081\"\n"
   ]
  },
  {
   "cell_type": "markdown",
   "metadata": {},
   "source": [
    "**Ran on mox**\n",
    "```\n",
    "#SBATCH --workdir=/gscratch/srlab/sr320/analyses/1105\n",
    "\n",
    "/gscratch/srlab/programs/ncbi-blast-2.6.0+/bin/blastn \\\n",
    "-task blastn \\\n",
    "-query /gscratch/srlab/sr320/data/oly/Trinity.fasta \\\n",
    "-db /gscratch/srlab/sr320/data/oly/Olurida_v081 \\\n",
    "-out /gscratch/srlab/sr320/analyses/1105/ks-trinity-v081.tab \\\n",
    "-evalue 1e-20 \\\n",
    "-outfmt 6 \\\n",
    "-num_threads 28\n",
    "\n",
    "```"
   ]
  },
  {
   "cell_type": "code",
   "execution_count": 1,
   "metadata": {
    "ExecuteTime": {
     "end_time": "2018-11-19T18:34:21.585610Z",
     "start_time": "2018-11-19T18:34:21.440947Z"
    }
   },
   "outputs": [
    {
     "name": "stdout",
     "output_type": "stream",
     "text": [
      "TRINITY_DN88414_c0_g1_i2\tContig99386\t79.821\t223\t24\t11\t6\t225\t4479\t4683\t2.99e-40\t168\r\n",
      "TRINITY_DN88414_c0_g1_i2\tContig99386\t81.765\t170\t17\t10\t29\t196\t3937\t4094\t6.17e-30\t134\r\n",
      "TRINITY_DN88414_c0_g1_i2\tContig99386\t80.124\t161\t16\t7\t7\t164\t4549\t4696\t2.62e-28\t129\r\n",
      "TRINITY_DN88414_c0_g1_i2\tContig99386\t76.444\t225\t24\t16\t7\t227\t3889\t4088\t3.89e-26\t122\r\n",
      "TRINITY_DN88414_c0_g1_i2\tContig99386\t81.529\t157\t14\t11\t7\t160\t3951\t4095\t1.66e-24\t116\r\n",
      "TRINITY_DN88414_c0_g1_i2\tContig99386\t80.000\t130\t12\t5\t1\t127\t4578\t4696\t8.58e-22\t107\r\n",
      "TRINITY_DN88428_c0_g1_i2\tContig28849\t94.851\t874\t26\t4\t1\t872\t10605\t9749\t0.0\t1373\r\n",
      "TRINITY_DN88428_c0_g1_i1\tContig28849\t97.125\t626\t11\t3\t1\t621\t10605\t9982\t0.0\t1041\r\n",
      "TRINITY_DN88485_c0_g1_i3\tContig62396\t97.861\t187\t4\t0\t32\t218\t1175\t989\t1.08e-85\t320\r\n",
      "TRINITY_DN88485_c0_g1_i3\tContig62396\t98.958\t96\t1\t0\t210\t305\t904\t809\t4.31e-40\t168\r\n"
     ]
    }
   ],
   "source": [
    "!head /Users/sr320/Desktop/oly/ks-trinity-v081.tab"
   ]
  },
  {
   "cell_type": "code",
   "execution_count": 2,
   "metadata": {
    "ExecuteTime": {
     "end_time": "2018-11-19T18:35:03.922054Z",
     "start_time": "2018-11-19T18:34:48.863902Z"
    }
   },
   "outputs": [
    {
     "name": "stdout",
     "output_type": "stream",
     "text": [
      " 156104906 /Users/sr320/Desktop/oly/ks-trinity-v081.tab\r\n"
     ]
    }
   ],
   "source": [
    "!wc -l /Users/sr320/Desktop/oly/ks-trinity-v081.tab"
   ]
  },
  {
   "cell_type": "markdown",
   "metadata": {},
   "source": [
    "## Run on Mox w max_target_seqs\n",
    "\n",
    "```\n",
    "#SBATCH --workdir=/gscratch/srlab/sr320/analyses/1119\n",
    "\n",
    "/gscratch/srlab/programs/ncbi-blast-2.6.0+/bin/blastn \\\n",
    "-task blastn \\\n",
    "-query /gscratch/srlab/sr320/data/oly/Trinity.fasta \\\n",
    "-db /gscratch/srlab/sr320/data/oly/Olurida_v081 \\\n",
    "-out /gscratch/srlab/sr320/analyses/1119/ks-trinity-v081.tab \\\n",
    "-evalue 1e-20 \\\n",
    "-max_target_seqs 1 \\\n",
    "-outfmt 6 \\\n",
    "-num_threads 28\n",
    "```"
   ]
  },
  {
   "cell_type": "code",
   "execution_count": 1,
   "metadata": {
    "ExecuteTime": {
     "end_time": "2018-11-20T23:18:39.577001Z",
     "start_time": "2018-11-20T23:18:31.246232Z"
    }
   },
   "outputs": [
    {
     "name": "stdout",
     "output_type": "stream",
     "text": [
      "--2018-11-20 15:18:31--  http://gannet.fish.washington.edu/seashell/bu-mox/analyses/1119/ks-trinity-v081.tab\n",
      "Resolving gannet.fish.washington.edu (gannet.fish.washington.edu)... 128.95.149.52\n",
      "Connecting to gannet.fish.washington.edu (gannet.fish.washington.edu)|128.95.149.52|:80... connected.\n",
      "HTTP request sent, awaiting response... 200 OK\n",
      "Length: 172938284 (165M)\n",
      "Saving to: ‘ks-trinity-v081.tab’\n",
      "\n",
      "ks-trinity-v081.tab 100%[===================>] 164.93M  20.0MB/s    in 8.2s    \n",
      "\n",
      "2018-11-20 15:18:39 (20.2 MB/s) - ‘ks-trinity-v081.tab’ saved [172938284/172938284]\n",
      "\n"
     ]
    }
   ],
   "source": [
    "!wget http://gannet.fish.washington.edu/seashell/bu-mox/analyses/1119/ks-trinity-v081.tab"
   ]
  },
  {
   "cell_type": "code",
   "execution_count": 13,
   "metadata": {
    "ExecuteTime": {
     "end_time": "2018-11-20T23:20:59.677269Z",
     "start_time": "2018-11-20T23:20:59.542922Z"
    }
   },
   "outputs": [
    {
     "name": "stdout",
     "output_type": "stream",
     "text": [
      "TRINITY_DN88414_c0_g1_i2\tContig99386\t79.821\t223\t24\t11\t6\t225\t4479\t4683\t2.99e-40\t168\r\n",
      "TRINITY_DN88414_c0_g1_i2\tContig99386\t81.765\t170\t17\t10\t29\t196\t3937\t4094\t6.17e-30\t134\r\n",
      "TRINITY_DN88414_c0_g1_i2\tContig99386\t80.124\t161\t16\t7\t7\t164\t4549\t4696\t2.62e-28\t129\r\n",
      "TRINITY_DN88414_c0_g1_i2\tContig99386\t76.444\t225\t24\t16\t7\t227\t3889\t4088\t3.89e-26\t122\r\n",
      "TRINITY_DN88414_c0_g1_i2\tContig99386\t81.529\t157\t14\t11\t7\t160\t3951\t4095\t1.66e-24\t116\r\n",
      "TRINITY_DN88414_c0_g1_i2\tContig99386\t80.000\t130\t12\t5\t1\t127\t4578\t4696\t8.58e-22\t107\r\n",
      "TRINITY_DN88428_c0_g1_i2\tContig28849\t94.851\t874\t26\t4\t1\t872\t10605\t9749\t0.0\t1373\r\n",
      "TRINITY_DN88428_c0_g1_i1\tContig28849\t97.125\t626\t11\t3\t1\t621\t10605\t9982\t0.0\t1041\r\n",
      "TRINITY_DN88485_c0_g1_i3\tContig62396\t97.861\t187\t4\t0\t32\t218\t1175\t989\t1.08e-85\t320\r\n",
      "TRINITY_DN88485_c0_g1_i3\tContig62396\t98.958\t96\t1\t0\t210\t305\t904\t809\t4.31e-40\t168\r\n"
     ]
    }
   ],
   "source": [
    "!head data/ks-trinity-v081.tab"
   ]
  },
  {
   "cell_type": "code",
   "execution_count": 14,
   "metadata": {
    "ExecuteTime": {
     "end_time": "2018-11-20T23:21:22.875281Z",
     "start_time": "2018-11-20T23:21:22.697894Z"
    }
   },
   "outputs": [
    {
     "name": "stdout",
     "output_type": "stream",
     "text": [
      "\u0007ERROR: A sequence file name must be specified\r\n",
      "USAGE:\r\n",
      "Blast2Gff.pl -i InFile.Fasta -o OutFile.gff -d BlastDb\r\n",
      " -p blastprogram -m AligFormat -s SeqName -a\r\n",
      "\r\n",
      " -i Full path to the BLAST output file[STRING]\r\n",
      " -o Full path for the GFF formated file [STRING]\r\n",
      "    Default is the intput file path with gff extension.\r\n",
      " -d Blast database that was blasted against [STRING]\r\n",
      "    This is required\r\n",
      " -s  -m Format of the algnment outout from blast [INTEGER]\r\n",
      "    Default value is 8. Valid values are 0,8,9 -p Blast program used [STRING]\r\n",
      "    Default is blastn\r\n",
      " -a Append results to the gff file [BOOLEAN]\r\n",
      "    Default is to overwrite any exiting file.\r\n",
      " -h Print this help statement [BOOLEAN]\r\n",
      "\r\n"
     ]
    }
   ],
   "source": [
    "!perl ../scripts/2_Blast2Gff.pl"
   ]
  },
  {
   "cell_type": "code",
   "execution_count": 15,
   "metadata": {
    "ExecuteTime": {
     "end_time": "2018-11-20T23:22:54.441449Z",
     "start_time": "2018-11-20T23:22:41.458827Z"
    }
   },
   "outputs": [],
   "source": [
    "!perl ../scripts/2_Blast2Gff.pl \\\n",
    "-i data/ks-trinity-v081.tab \\\n",
    "-s \"something\" \\\n",
    "-o analyses/ks-blastn-Olurida_v081-01.gff \\\n",
    "-p \"gene-blast\" -d \"Olurida_v081\"\n",
    "\n"
   ]
  },
  {
   "cell_type": "code",
   "execution_count": 16,
   "metadata": {
    "ExecuteTime": {
     "end_time": "2018-11-20T23:23:32.409853Z",
     "start_time": "2018-11-20T23:23:32.275685Z"
    }
   },
   "outputs": [
    {
     "name": "stdout",
     "output_type": "stream",
     "text": [
      "Contig99386\tblastn:Olurida_v081\tblastn\t4479\t4683\t2.99e-40\t+\t.\tTRINITY_DN88414_c0_g1_i2\t\r\n",
      "Contig99386\tblastn:Olurida_v081\tblastn\t3937\t4094\t6.17e-30\t+\t.\tTRINITY_DN88414_c0_g1_i2\t\r\n",
      "Contig99386\tblastn:Olurida_v081\tblastn\t4549\t4696\t2.62e-28\t+\t.\tTRINITY_DN88414_c0_g1_i2\t\r\n",
      "Contig99386\tblastn:Olurida_v081\tblastn\t3889\t4088\t3.89e-26\t+\t.\tTRINITY_DN88414_c0_g1_i2\t\r\n",
      "Contig99386\tblastn:Olurida_v081\tblastn\t3951\t4095\t1.66e-24\t+\t.\tTRINITY_DN88414_c0_g1_i2\t\r\n",
      "Contig99386\tblastn:Olurida_v081\tblastn\t4578\t4696\t8.58e-22\t+\t.\tTRINITY_DN88414_c0_g1_i2\t\r\n",
      "Contig28849\tblastn:Olurida_v081\tblastn\t10605\t9749\t0.0\t-\t.\tTRINITY_DN88428_c0_g1_i2\t\r\n",
      "Contig28849\tblastn:Olurida_v081\tblastn\t10605\t9982\t0.0\t-\t.\tTRINITY_DN88428_c0_g1_i1\t\r\n",
      "Contig62396\tblastn:Olurida_v081\tblastn\t1175\t989\t1.08e-85\t-\t.\tTRINITY_DN88485_c0_g1_i3\t\r\n",
      "Contig62396\tblastn:Olurida_v081\tblastn\t904\t809\t4.31e-40\t-\t.\tTRINITY_DN88485_c0_g1_i3\t\r\n"
     ]
    }
   ],
   "source": [
    "!head analyses/ks-blastn-Olurida_v081-01.gff "
   ]
  },
  {
   "cell_type": "code",
   "execution_count": 17,
   "metadata": {
    "ExecuteTime": {
     "end_time": "2018-11-20T23:23:59.535469Z",
     "start_time": "2018-11-20T23:23:59.238919Z"
    }
   },
   "outputs": [
    {
     "name": "stdout",
     "output_type": "stream",
     "text": [
      " 2080188 analyses/ks-blastn-Olurida_v081-01.gff\r\n"
     ]
    }
   ],
   "source": [
    "!wc -l analyses/ks-blastn-Olurida_v081-01.gff "
   ]
  },
  {
   "cell_type": "code",
   "execution_count": null,
   "metadata": {},
   "outputs": [],
   "source": []
  }
 ],
 "metadata": {
  "kernelspec": {
   "display_name": "Python 3",
   "language": "python",
   "name": "python3"
  },
  "language_info": {
   "codemirror_mode": {
    "name": "ipython",
    "version": 3
   },
   "file_extension": ".py",
   "mimetype": "text/x-python",
   "name": "python",
   "nbconvert_exporter": "python",
   "pygments_lexer": "ipython3",
   "version": "3.6.3"
  }
 },
 "nbformat": 4,
 "nbformat_minor": 2
}
