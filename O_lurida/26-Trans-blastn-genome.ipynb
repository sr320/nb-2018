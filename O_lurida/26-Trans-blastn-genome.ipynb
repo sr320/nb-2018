{
 "cells": [
  {
   "cell_type": "code",
   "execution_count": 1,
   "metadata": {
    "ExecuteTime": {
     "end_time": "2018-11-04T14:21:25.360067Z",
     "start_time": "2018-11-04T14:21:25.346412Z"
    }
   },
   "outputs": [
    {
     "name": "stdout",
     "output_type": "stream",
     "text": [
      "/Users/sr320/Desktop/oly\n"
     ]
    }
   ],
   "source": [
    "cd /Users/sr320/Desktop/oly"
   ]
  },
  {
   "cell_type": "code",
   "execution_count": 2,
   "metadata": {
    "ExecuteTime": {
     "end_time": "2018-11-04T14:23:15.760936Z",
     "start_time": "2018-11-04T14:21:56.264625Z"
    }
   },
   "outputs": [
    {
     "name": "stdout",
     "output_type": "stream",
     "text": [
      "  % Total    % Received % Xferd  Average Speed   Time    Time     Time  Current\n",
      "                                 Dload  Upload   Total   Spent    Left  Speed\n",
      "100  670M  100  670M    0     0  8691k      0  0:01:19  0:01:19 --:--:-- 9209k\n"
     ]
    }
   ],
   "source": [
    "!curl -O http://owl.fish.washington.edu/Athaliana/20180827_trinity_oly_RNAseq/Trinity.fasta"
   ]
  },
  {
   "cell_type": "code",
   "execution_count": 3,
   "metadata": {
    "ExecuteTime": {
     "end_time": "2018-11-04T14:25:30.201640Z",
     "start_time": "2018-11-04T14:23:15.767138Z"
    }
   },
   "outputs": [
    {
     "name": "stdout",
     "output_type": "stream",
     "text": [
      "  % Total    % Received % Xferd  Average Speed   Time    Time     Time  Current\n",
      "                                 Dload  Upload   Total   Spent    Left  Speed\n",
      "100 1090M  100 1090M    0     0  8330k      0  0:02:14  0:02:14 --:--:-- 6809k  7394k      0  0:02:30  0:00:31  0:01:59 9089k  464M    0     0  8063k      0  0:02:18  0:00:59  0:01:19 9119k0  8506k      0  0:02:11  0:01:51  0:00:20 9099k\n"
     ]
    }
   ],
   "source": [
    "!curl -O http://owl.fish.washington.edu/halfshell/genomic-databank/Olurida_v081.fa"
   ]
  },
  {
   "cell_type": "code",
   "execution_count": 4,
   "metadata": {
    "ExecuteTime": {
     "end_time": "2018-11-04T14:25:44.934671Z",
     "start_time": "2018-11-04T14:25:30.206135Z"
    }
   },
   "outputs": [
    {
     "name": "stdout",
     "output_type": "stream",
     "text": [
      "\n",
      "\n",
      "Building a new DB, current time: 11/04/2018 06:25:30\n",
      "New DB name:   /Users/sr320/Desktop/oly/Olurida_v081\n",
      "New DB title:  /Users/sr320/Desktop/oly/Olurida_v081.fa\n",
      "Sequence type: Nucleotide\n",
      "Keep MBits: T\n",
      "Maximum file size: 1000000000B\n",
      "Adding sequences from FASTA; added 159429 sequences in 14.4657 seconds.\n"
     ]
    }
   ],
   "source": [
    "!/Applications/bioinfo/ncbi-blast-2.7.1+/bin/makeblastdb \\\n",
    "-dbtype nucl \\\n",
    "-in /Users/sr320/Desktop/oly/Olurida_v081.fa \\\n",
    "-out /Users/sr320/Desktop/oly/Olurida_v081"
   ]
  },
  {
   "cell_type": "code",
   "execution_count": null,
   "metadata": {},
   "outputs": [],
   "source": []
  },
  {
   "cell_type": "code",
   "execution_count": 5,
   "metadata": {
    "ExecuteTime": {
     "end_time": "2018-11-05T13:52:11.292620Z",
     "start_time": "2018-11-04T14:26:23.706820Z"
    }
   },
   "outputs": [
    {
     "name": "stdout",
     "output_type": "stream",
     "text": [
      "^C\r\n"
     ]
    }
   ],
   "source": [
    "!/Applications/bioinfo/ncbi-blast-2.7.1+/bin/blastn \\\n",
    "-query /Users/sr320/Desktop/oly/Trinity.fasta \\\n",
    "-db /Users/sr320/Desktop/oly/Olurida_v081 \\\n",
    "-task blastn \\\n",
    "-evalue 1e-20 \\\n",
    "-outfmt 6 \\\n",
    "-out /Users/sr320/Documents/GitHub/nb-2018/O_lurida/analyses/trans-KS-blastn-Olurida_v081.tab \\\n",
    "-num_threads 4\n"
   ]
  },
  {
   "cell_type": "code",
   "execution_count": 6,
   "metadata": {
    "ExecuteTime": {
     "end_time": "2018-11-05T13:52:11.491447Z",
     "start_time": "2018-11-05T13:52:11.308322Z"
    }
   },
   "outputs": [
    {
     "name": "stdout",
     "output_type": "stream",
     "text": [
      "Can't open perl script \"../scripts/2_Blast2Gff.pl\": No such file or directory\r\n"
     ]
    }
   ],
   "source": [
    "!perl ../scripts/2_Blast2Gff.pl \\\n",
    "-i /Users/sr320/Documents/GitHub/nb-2018/O_lurida/analyses/trans-KS-blastn-Olurida_v081.tab \\\n",
    "-s \"something\" \\\n",
    "-o /Users/sr320/Documents/GitHub/nb-2018/O_lurida/analyses/trans-KS-blastn-Olurida_v081.gff \\\n",
    "-p \"gene-blast\" -d \"Olurida_v081\"\n"
   ]
  },
  {
   "cell_type": "code",
   "execution_count": null,
   "metadata": {},
   "outputs": [],
   "source": []
  }
 ],
 "metadata": {
  "kernelspec": {
   "display_name": "Python 3",
   "language": "python",
   "name": "python3"
  },
  "language_info": {
   "codemirror_mode": {
    "name": "ipython",
    "version": 3
   },
   "file_extension": ".py",
   "mimetype": "text/x-python",
   "name": "python",
   "nbconvert_exporter": "python",
   "pygments_lexer": "ipython3",
   "version": "3.6.3"
  }
 },
 "nbformat": 4,
 "nbformat_minor": 2
}
