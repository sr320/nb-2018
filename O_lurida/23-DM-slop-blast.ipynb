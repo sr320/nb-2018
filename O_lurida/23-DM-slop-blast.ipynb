{
 "cells": [
  {
   "cell_type": "code",
   "execution_count": 25,
   "metadata": {
    "ExecuteTime": {
     "end_time": "2018-10-12T19:28:04.265390Z",
     "start_time": "2018-10-12T19:26:17.291060Z"
    }
   },
   "outputs": [],
   "source": [
    "!/Applications/bioinfo/ncbi-blast-2.7.1+/bin/blastx \\\n",
    "-query analyses/dml010.tile.1kslop.fa \\\n",
    "-db /Users/sr320/Documents/GitHub/fun-gen/blastdb/uniprot_sprot_r2018_08 \\\n",
    "-out analyses/dml010.tile.1kslop-uniprot_blastx.tab \\\n",
    "-evalue 1E-05 \\\n",
    "-num_threads 4 \\\n",
    "-max_target_seqs 10 \\\n",
    "-outfmt \"6 qseqid stitle evalue\""
   ]
  },
  {
   "cell_type": "code",
   "execution_count": 23,
   "metadata": {
    "ExecuteTime": {
     "end_time": "2018-10-12T19:25:25.259128Z",
     "start_time": "2018-10-12T19:24:58.576350Z"
    }
   },
   "outputs": [],
   "source": [
    "!/Applications/bioinfo/ncbi-blast-2.7.1+/bin/blastx \\\n",
    "-query analyses/dml010.1kslop.fa \\\n",
    "-db /Users/sr320/Documents/GitHub/fun-gen/blastdb/uniprot_sprot_r2018_08 \\\n",
    "-out analyses/dml010.1kslop-uniprot_blastx.tab \\\n",
    "-evalue 1E-05 \\\n",
    "-num_threads 4 \\\n",
    "-max_target_seqs 10 \\\n",
    "-outfmt \"6 qseqid stitle evalue\""
   ]
  },
  {
   "cell_type": "code",
   "execution_count": 24,
   "metadata": {
    "ExecuteTime": {
     "end_time": "2018-10-12T19:25:25.391596Z",
     "start_time": "2018-10-12T19:25:25.262238Z"
    }
   },
   "outputs": [
    {
     "name": "stdout",
     "output_type": "stream",
     "text": [
      "Contig35213:1221-2223\tsp|P67793|COX1_CHOOC Cytochrome c oxidase subunit 1 OS=Choristoneura occidentalis OX=27541 GN=COI PE=3 SV=2\t1.28e-33\r\n",
      "Contig35213:1221-2223\tsp|P67793|COX1_CHOOC Cytochrome c oxidase subunit 1 OS=Choristoneura occidentalis OX=27541 GN=COI PE=3 SV=2\t1.28e-33\r\n",
      "Contig35213:1221-2223\tsp|P67793|COX1_CHOOC Cytochrome c oxidase subunit 1 OS=Choristoneura occidentalis OX=27541 GN=COI PE=3 SV=2\t1.28e-33\r\n",
      "Contig35213:1221-2223\tsp|P67793|COX1_CHOOC Cytochrome c oxidase subunit 1 OS=Choristoneura occidentalis OX=27541 GN=COI PE=3 SV=2\t1.28e-33\r\n",
      "Contig35213:1221-2223\tsp|P50669|COX1_CHOFU Cytochrome c oxidase subunit 1 OS=Choristoneura fumiferana OX=7141 GN=COI PE=3 SV=2\t1.28e-33\r\n",
      "Contig35213:1221-2223\tsp|P50669|COX1_CHOFU Cytochrome c oxidase subunit 1 OS=Choristoneura fumiferana OX=7141 GN=COI PE=3 SV=2\t1.28e-33\r\n",
      "Contig35213:1221-2223\tsp|P50669|COX1_CHOFU Cytochrome c oxidase subunit 1 OS=Choristoneura fumiferana OX=7141 GN=COI PE=3 SV=2\t1.28e-33\r\n",
      "Contig35213:1221-2223\tsp|P50669|COX1_CHOFU Cytochrome c oxidase subunit 1 OS=Choristoneura fumiferana OX=7141 GN=COI PE=3 SV=2\t1.28e-33\r\n",
      "Contig35213:1221-2223\tsp|P67794|COX1_CHOPI Cytochrome c oxidase subunit 1 OS=Choristoneura pinus OX=27542 GN=COI PE=3 SV=2\t1.39e-33\r\n",
      "Contig35213:1221-2223\tsp|P67794|COX1_CHOPI Cytochrome c oxidase subunit 1 OS=Choristoneura pinus OX=27542 GN=COI PE=3 SV=2\t1.39e-33\r\n"
     ]
    }
   ],
   "source": [
    "!head analyses/dml010.1kslop-uniprot_blastx.tab"
   ]
  },
  {
   "cell_type": "code",
   "execution_count": 30,
   "metadata": {
    "ExecuteTime": {
     "end_time": "2018-10-12T19:31:32.499946Z",
     "start_time": "2018-10-12T19:31:32.370230Z"
    }
   },
   "outputs": [
    {
     "name": "stdout",
     "output_type": "stream",
     "text": [
      "analyses/dml010.tile.1kslop-uniprot_blastx.tab:Contig15444:3226-4225\tsp|P04323|POL3_DROME Retrovirus-related Pol polyprotein from \u001b[01;31m\u001b[Ktran\u001b[m\u001b[Ksposon 17.6 OS=Drosophila melanogaster OX=7227 GN=pol PE=3 SV=1\t9.21e-46\r\n",
      "analyses/dml010.tile.1kslop-uniprot_blastx.tab:Contig15444:3226-4225\tsp|Q99315|YG31B_YEAST \u001b[01;31m\u001b[KTran\u001b[m\u001b[Ksposon Ty3-G Gag-Pol polyprotein OS=Saccharomyces cerevisiae (strain ATCC 204508 / S288c) OX=559292 GN=TY3B-G PE=1 SV=3\t1.37e-43\r\n",
      "analyses/dml010.tile.1kslop-uniprot_blastx.tab:Contig15444:3226-4225\tsp|Q7LHG5|YI31B_YEAST \u001b[01;31m\u001b[KTran\u001b[m\u001b[Ksposon Ty3-I Gag-Pol polyprotein OS=Saccharomyces cerevisiae (strain ATCC 204508 / S288c) OX=559292 GN=TY3B-I PE=3 SV=2\t1.47e-43\r\n",
      "analyses/dml010.tile.1kslop-uniprot_blastx.tab:Contig15444:3226-4225\tsp|P20825|POL2_DROME Retrovirus-related Pol polyprotein from \u001b[01;31m\u001b[Ktran\u001b[m\u001b[Ksposon 297 OS=Drosophila melanogaster OX=7227 GN=pol PE=3 SV=1\t6.77e-43\r\n",
      "analyses/dml010.tile.1kslop-uniprot_blastx.tab:Contig15444:3226-4225\tsp|P10394|POL4_DROME Retrovirus-related Pol polyprotein from \u001b[01;31m\u001b[Ktran\u001b[m\u001b[Ksposon 412 OS=Drosophila melanogaster OX=7227 GN=POL PE=3 SV=1\t2.32e-41\r\n",
      "analyses/dml010.tile.1kslop-uniprot_blastx.tab:Contig15444:3226-4225\tsp|Q8I7P9|POL5_DROME Retrovirus-related Pol polyprotein from \u001b[01;31m\u001b[Ktran\u001b[m\u001b[Ksposon opus OS=Drosophila melanogaster OX=7227 GN=pol PE=3 SV=1\t6.33e-40\r\n",
      "analyses/dml010.tile.1kslop-uniprot_blastx.tab:Contig15444:3226-4225\tsp|P10401|POLY_DROME Retrovirus-related Pol polyprotein from \u001b[01;31m\u001b[Ktran\u001b[m\u001b[Ksposon gypsy OS=Drosophila melanogaster OX=7227 GN=pol PE=3 SV=1\t8.91e-38\r\n",
      "analyses/dml010.tile.1kslop-uniprot_blastx.tab:Contig15444:3226-4225\tsp|P0CT40|TF29_SCHPO \u001b[01;31m\u001b[KTran\u001b[m\u001b[Ksposon Tf2-9 polyprotein OS=Schizosaccharomyces pombe (strain 972 / ATCC 24843) OX=284812 GN=Tf2-9 PE=3 SV=1\t7.74e-36\r\n",
      "analyses/dml010.tile.1kslop-uniprot_blastx.tab:Contig15444:3226-4225\tsp|P0CT37|TF24_SCHPO \u001b[01;31m\u001b[KTran\u001b[m\u001b[Ksposon Tf2-4 polyprotein OS=Schizosaccharomyces pombe (strain 972 / ATCC 24843) OX=284812 GN=Tf2-4 PE=3 SV=1\t7.74e-36\r\n",
      "analyses/dml010.tile.1kslop-uniprot_blastx.tab:Contig237394:6076-7022\tsp|P04323|POL3_DROME Retrovirus-related Pol polyprotein from \u001b[01;31m\u001b[Ktran\u001b[m\u001b[Ksposon 17.6 OS=Drosophila melanogaster OX=7227 GN=pol PE=3 SV=1\t1.34e-07\r\n",
      "analyses/dml010.tile.1kslop-uniprot_blastx.tab:Contig237394:6076-7022\tsp|P20825|POL2_DROME Retrovirus-related Pol polyprotein from \u001b[01;31m\u001b[Ktran\u001b[m\u001b[Ksposon 297 OS=Drosophila melanogaster OX=7227 GN=pol PE=3 SV=1\t2.57e-07\r\n",
      "analyses/dml010.tile.1kslop-uniprot_blastx.tab:Contig237394:6076-7022\tsp|P10394|POL4_DROME Retrovirus-related Pol polyprotein from \u001b[01;31m\u001b[Ktran\u001b[m\u001b[Ksposon 412 OS=Drosophila melanogaster OX=7227 GN=POL PE=3 SV=1\t6.96e-07\r\n",
      "analyses/dml010.tile.1kslop-uniprot_blastx.tab:Contig237394:6076-7022\tsp|P10394|POL4_DROME Retrovirus-related Pol polyprotein from \u001b[01;31m\u001b[Ktran\u001b[m\u001b[Ksposon 412 OS=Drosophila melanogaster OX=7227 GN=POL PE=3 SV=1\t6.96e-07\r\n",
      "analyses/dml010.tile.1kslop-uniprot_blastx.tab:Contig237394:6076-7022\tsp|Q99315|YG31B_YEAST \u001b[01;31m\u001b[KTran\u001b[m\u001b[Ksposon Ty3-G Gag-Pol polyprotein OS=Saccharomyces cerevisiae (strain ATCC 204508 / S288c) OX=559292 GN=TY3B-G PE=1 SV=3\t1.33e-06\r\n",
      "analyses/dml010.tile.1kslop-uniprot_blastx.tab:Contig237394:6076-7022\tsp|Q7LHG5|YI31B_YEAST \u001b[01;31m\u001b[KTran\u001b[m\u001b[Ksposon Ty3-I Gag-Pol polyprotein OS=Saccharomyces cerevisiae (strain ATCC 204508 / S288c) OX=559292 GN=TY3B-I PE=3 SV=2\t1.33e-06\r\n",
      "analyses/dml010.tile.1kslop-uniprot_blastx.tab:Contig4714:526-1525\tsp|Q7LHG5|YI31B_YEAST \u001b[01;31m\u001b[KTran\u001b[m\u001b[Ksposon Ty3-I Gag-Pol polyprotein OS=Saccharomyces cerevisiae (strain ATCC 204508 / S288c) OX=559292 GN=TY3B-I PE=3 SV=2\t5.50e-07\r\n",
      "analyses/dml010.tile.1kslop-uniprot_blastx.tab:Contig4714:526-1525\tsp|P0CT39|TF26_SCHPO \u001b[01;31m\u001b[KTran\u001b[m\u001b[Ksposon Tf2-6 polyprotein OS=Schizosaccharomyces pombe (strain 972 / ATCC 24843) OX=284812 GN=Tf2-6 PE=3 SV=1\t1.11e-06\r\n",
      "analyses/dml010.tile.1kslop-uniprot_blastx.tab:Contig4714:526-1525\tsp|P0CT38|TF25_SCHPO \u001b[01;31m\u001b[KTran\u001b[m\u001b[Ksposon Tf2-5 polyprotein OS=Schizosaccharomyces pombe (strain 972 / ATCC 24843) OX=284812 GN=Tf2-5 PE=3 SV=1\t1.11e-06\r\n",
      "analyses/dml010.tile.1kslop-uniprot_blastx.tab:Contig4714:526-1525\tsp|P0CT36|TF23_SCHPO \u001b[01;31m\u001b[KTran\u001b[m\u001b[Ksposon Tf2-3 polyprotein OS=Schizosaccharomyces pombe (strain 972 / ATCC 24843) OX=284812 GN=Tf2-3 PE=1 SV=1\t1.11e-06\r\n"
     ]
    }
   ],
   "source": [
    "!grep -i \"tran\" --color analyses/*1kslop-uniprot_blastx.tab"
   ]
  },
  {
   "cell_type": "code",
   "execution_count": null,
   "metadata": {},
   "outputs": [],
   "source": []
  }
 ],
 "metadata": {
  "kernelspec": {
   "display_name": "Python 3",
   "language": "python",
   "name": "python3"
  },
  "language_info": {
   "codemirror_mode": {
    "name": "ipython",
    "version": 3
   },
   "file_extension": ".py",
   "mimetype": "text/x-python",
   "name": "python",
   "nbconvert_exporter": "python",
   "pygments_lexer": "ipython3",
   "version": "3.6.3"
  }
 },
 "nbformat": 4,
 "nbformat_minor": 2
}
