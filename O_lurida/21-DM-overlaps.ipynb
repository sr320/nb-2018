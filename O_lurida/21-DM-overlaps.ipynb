{
 "cells": [
  {
   "cell_type": "code",
   "execution_count": 5,
   "metadata": {
    "ExecuteTime": {
     "end_time": "2018-10-10T20:06:06.453165Z",
     "start_time": "2018-10-10T20:05:45.398157Z"
    }
   },
   "outputs": [
    {
     "name": "stdout",
     "output_type": "stream",
     "text": [
      "Contig35213\t1721\t1723\t-45\tContig35213\tprotein2genome\tprotein_match\t866\t2433\t1520\t-\t.\tID=Contig35213:hit:68:3.10.0.0;Name=YP_254649.1\n",
      "Contig35213\t1850\t1852\t-67\tContig35213\tprotein2genome\tprotein_match\t866\t2433\t1520\t-\t.\tID=Contig35213:hit:68:3.10.0.0;Name=YP_254649.1\n",
      "Contig35213\t1859\t1861\t-81\tContig35213\tprotein2genome\tprotein_match\t866\t2433\t1520\t-\t.\tID=Contig35213:hit:68:3.10.0.0;Name=YP_254649.1\n",
      "Contig35213\t1873\t1875\t-78\tContig35213\tprotein2genome\tprotein_match\t866\t2433\t1520\t-\t.\tID=Contig35213:hit:68:3.10.0.0;Name=YP_254649.1\n",
      "Contig35213\t1988\t1990\t-78\tContig35213\tprotein2genome\tprotein_match\t866\t2433\t1520\t-\t.\tID=Contig35213:hit:68:3.10.0.0;Name=YP_254649.1\n",
      "Contig35213\t2003\t2005\t-62\tContig35213\tprotein2genome\tprotein_match\t866\t2433\t1520\t-\t.\tID=Contig35213:hit:68:3.10.0.0;Name=YP_254649.1\n",
      "Contig35213\t2006\t2008\t-47\tContig35213\tprotein2genome\tprotein_match\t866\t2433\t1520\t-\t.\tID=Contig35213:hit:68:3.10.0.0;Name=YP_254649.1\n",
      "Contig35213\t2168\t2170\t-42\tContig35213\tprotein2genome\tprotein_match\t866\t2433\t1520\t-\t.\tID=Contig35213:hit:68:3.10.0.0;Name=YP_254649.1\n",
      "Contig35213\t2171\t2173\t-57\tContig35213\tprotein2genome\tprotein_match\t866\t2433\t1520\t-\t.\tID=Contig35213:hit:68:3.10.0.0;Name=YP_254649.1\n",
      "Contig35213\t2181\t2183\t-48\tContig35213\tprotein2genome\tprotein_match\t866\t2433\t1520\t-\t.\tID=Contig35213:hit:68:3.10.0.0;Name=YP_254649.1\n",
      "Contig35213\t2386\t2388\t-61\tContig35213\tprotein2genome\tprotein_match\t866\t2433\t1520\t-\t.\tID=Contig35213:hit:68:3.10.0.0;Name=YP_254649.1\n",
      "Contig35213\t2412\t2414\t-69\tContig35213\tprotein2genome\tprotein_match\t866\t2433\t1520\t-\t.\tID=Contig35213:hit:68:3.10.0.0;Name=YP_254649.1\n",
      "Contig64\t7482\t7484\t-48\tContig64\tprotein2genome\tprotein_match\t36\t7549\t868\t-\t.\tID=Contig64:hit:1027:3.10.0.0;Name=EKC18166.1\n"
     ]
    }
   ],
   "source": [
    "!/Applications/bioinfo/bedtools2/bin/bedtools intersect \\\n",
    "-wb \\\n",
    "-a /Users/sr320/Documents/GitHub/paper-oly-wgbs/analyses/dml010.bed \\\n",
    "-b /Users/sr320/Desktop/Olurida_v081.all.sorted.gff \\\n",
    "| grep \"protein2genome\tprotein_match\""
   ]
  },
  {
   "cell_type": "code",
   "execution_count": 7,
   "metadata": {
    "ExecuteTime": {
     "end_time": "2018-10-10T20:11:28.025756Z",
     "start_time": "2018-10-10T20:11:07.883637Z"
    }
   },
   "outputs": [
    {
     "name": "stdout",
     "output_type": "stream",
     "text": [
      "Contig100868\t3351\t3400\t-45\tContig100868\t.\tcontig\t1\t3497\t.\t.\t.\tID=Contig100868;Name=Contig100868\r\n",
      "Contig10438\t401\t450\t-26\tContig10438\t.\tcontig\t1\t1877\t.\t.\t.\tID=Contig10438;Name=Contig10438\r\n",
      "Contig110170\t651\t700\t38\tContig110170\t.\tcontig\t1\t9300\t.\t.\t.\tID=Contig110170;Name=Contig110170\r\n",
      "Contig114153\t101\t150\t26\tContig114153\t.\tcontig\t1\t1920\t.\t.\t.\tID=Contig114153;Name=Contig114153\r\n",
      "Contig1167\t401\t450\t40\tContig1167\tblastn\texpressed_sequence_match\t1\t2887\t252\t-\t.\tID=Contig1167:hit:347:3.2.0.0;Name=comp36502_c0_seq9\r\n",
      "Contig1167\t401\t450\t40\tContig1167\tblastn\texpressed_sequence_match\t145\t1986\t43\t+\t.\tID=Contig1167:hit:346:3.2.0.0;Name=comp43111_c1_seq82\r\n",
      "Contig1167\t401\t450\t40\tContig1167\tblastn\texpressed_sequence_match\t145\t537\t43\t+\t.\tID=Contig1167:hit:350:3.2.0.0;Name=comp43111_c1_seq33\r\n",
      "Contig1167\t401\t450\t40\tContig1167\tblastn\texpressed_sequence_match\t145\t537\t49\t+\t.\tID=Contig1167:hit:352:3.2.0.0;Name=comp43111_c1_seq14\r\n",
      "Contig1167\t401\t440\t40\tContig1167\tblastn\texpressed_sequence_match\t145\t440\t49\t+\t.\tID=Contig1167:hit:353:3.2.0.0;Name=comp43111_c1_seq35\r\n",
      "Contig1167\t401\t423\t40\tContig1167\tblastn\texpressed_sequence_match\t145\t423\t49\t+\t.\tID=Contig1167:hit:354:3.2.0.0;Name=comp43111_c1_seq75\r\n"
     ]
    }
   ],
   "source": [
    "!/Applications/bioinfo/bedtools2/bin/bedtools intersect \\\n",
    "-wb \\\n",
    "-a /Users/sr320/Documents/GitHub/paper-oly-wgbs/analyses/dml010.tile.bed \\\n",
    "-b /Users/sr320/Desktop/Olurida_v081.all.sorted.gff \\\n",
    "| head"
   ]
  },
  {
   "cell_type": "code",
   "execution_count": 2,
   "metadata": {
    "ExecuteTime": {
     "end_time": "2018-10-12T16:55:15.838953Z",
     "start_time": "2018-10-12T16:54:59.298250Z"
    }
   },
   "outputs": [],
   "source": [
    "!/Applications/bioinfo/bedtools2/bin/bedtools intersect \\\n",
    "-wb \\\n",
    "-a /Users/sr320/Documents/GitHub/paper-oly-wgbs/analyses/dml010.tile.bed \\\n",
    "-b /Users/sr320/Desktop/oly/Olurida_v081.all.sorted.gff \\\n",
    "> analyses/dml010.tile.intersect.tab"
   ]
  },
  {
   "cell_type": "code",
   "execution_count": 4,
   "metadata": {
    "ExecuteTime": {
     "end_time": "2018-10-12T17:05:15.622448Z",
     "start_time": "2018-10-12T17:04:57.467383Z"
    }
   },
   "outputs": [],
   "source": [
    "!/Applications/bioinfo/bedtools2/bin/bedtools intersect \\\n",
    "-wb \\\n",
    "-a /Users/sr320/Documents/GitHub/paper-oly-wgbs/analyses/dml010.bed \\\n",
    "-b /Users/sr320/Desktop/oly/Olurida_v081.all.sorted.gff \\\n",
    "> analyses/dml010.intersect.tab"
   ]
  },
  {
   "cell_type": "code",
   "execution_count": 3,
   "metadata": {
    "ExecuteTime": {
     "end_time": "2018-10-12T16:55:41.321301Z",
     "start_time": "2018-10-12T16:55:41.192279Z"
    }
   },
   "outputs": [
    {
     "name": "stdout",
     "output_type": "stream",
     "text": [
      "Contig100868\t3351\t3400\t-45\tContig100868\t.\tcontig\t1\t3497\t.\t.\t.\tID=Contig100868;Name=Contig100868\r\n",
      "Contig10438\t401\t450\t-26\tContig10438\t.\tcontig\t1\t1877\t.\t.\t.\tID=Contig10438;Name=Contig10438\r\n",
      "Contig110170\t651\t700\t38\tContig110170\t.\tcontig\t1\t9300\t.\t.\t.\tID=Contig110170;Name=Contig110170\r\n",
      "Contig114153\t101\t150\t26\tContig114153\t.\tcontig\t1\t1920\t.\t.\t.\tID=Contig114153;Name=Contig114153\r\n",
      "Contig1167\t401\t450\t40\tContig1167\tblastn\texpressed_sequence_match\t1\t2887\t252\t-\t.\tID=Contig1167:hit:347:3.2.0.0;Name=comp36502_c0_seq9\r\n",
      "Contig1167\t401\t450\t40\tContig1167\tblastn\texpressed_sequence_match\t145\t1986\t43\t+\t.\tID=Contig1167:hit:346:3.2.0.0;Name=comp43111_c1_seq82\r\n",
      "Contig1167\t401\t450\t40\tContig1167\tblastn\texpressed_sequence_match\t145\t537\t43\t+\t.\tID=Contig1167:hit:350:3.2.0.0;Name=comp43111_c1_seq33\r\n",
      "Contig1167\t401\t450\t40\tContig1167\tblastn\texpressed_sequence_match\t145\t537\t49\t+\t.\tID=Contig1167:hit:352:3.2.0.0;Name=comp43111_c1_seq14\r\n",
      "Contig1167\t401\t440\t40\tContig1167\tblastn\texpressed_sequence_match\t145\t440\t49\t+\t.\tID=Contig1167:hit:353:3.2.0.0;Name=comp43111_c1_seq35\r\n",
      "Contig1167\t401\t423\t40\tContig1167\tblastn\texpressed_sequence_match\t145\t423\t49\t+\t.\tID=Contig1167:hit:354:3.2.0.0;Name=comp43111_c1_seq75\r\n"
     ]
    }
   ],
   "source": [
    "!head analyses/dml010.tile.intersect.tab"
   ]
  },
  {
   "cell_type": "markdown",
   "metadata": {},
   "source": [
    "# Get fasta around DMLs"
   ]
  },
  {
   "cell_type": "code",
   "execution_count": 7,
   "metadata": {
    "ExecuteTime": {
     "end_time": "2018-10-12T17:18:44.232424Z",
     "start_time": "2018-10-12T17:18:44.050137Z"
    }
   },
   "outputs": [
    {
     "name": "stdout",
     "output_type": "stream",
     "text": [
      "Contig100807\t2646\t3648\t-55\n",
      "Contig106713\t2510\t3512\t-52\n",
      "Contig106713\t2546\t3548\t-48\n",
      "Contig110170\t180\t1182\t45\n",
      "Contig120547\t524\t1526\t56\n",
      "Contig26036\t16863\t17816\t-75\n",
      "Contig30748\t19775\t20777\t-44\n",
      "Contig35213\t0\t569\t-46\n",
      "Contig35213\t0\t808\t-40\n",
      "Contig35213\t1221\t2223\t-45\n"
     ]
    }
   ],
   "source": [
    "%%bash\n",
    "/Applications/bioinfo/bedtools2/bin/bedtools slop \\\n",
    "-b 500 \\\n",
    "-i /Users/sr320/Documents/GitHub/paper-oly-wgbs/analyses/dml010.bed \\\n",
    "-g analyses/Olv081.genome \\\n",
    "| head\n"
   ]
  },
  {
   "cell_type": "code",
   "execution_count": 10,
   "metadata": {
    "ExecuteTime": {
     "end_time": "2018-10-12T19:01:36.592685Z",
     "start_time": "2018-10-12T19:01:36.372976Z"
    }
   },
   "outputs": [],
   "source": [
    "%%bash\n",
    "/Applications/bioinfo/bedtools2/bin/bedtools slop \\\n",
    "-b 500 \\\n",
    "-i /Users/sr320/Documents/GitHub/paper-oly-wgbs/analyses/dml010.bed \\\n",
    "-g analyses/Olv081.genome > analyses/dml010.1kslop.bed"
   ]
  },
  {
   "cell_type": "code",
   "execution_count": 8,
   "metadata": {
    "ExecuteTime": {
     "end_time": "2018-10-12T17:19:21.039188Z",
     "start_time": "2018-10-12T17:19:20.860212Z"
    }
   },
   "outputs": [
    {
     "name": "stdout",
     "output_type": "stream",
     "text": [
      "      27\n"
     ]
    }
   ],
   "source": [
    "%%bash\n",
    "/Applications/bioinfo/bedtools2/bin/bedtools slop \\\n",
    "-b 500 \\\n",
    "-i /Users/sr320/Documents/GitHub/paper-oly-wgbs/analyses/dml010.bed \\\n",
    "-g analyses/Olv081.genome \\\n",
    "| wc -l "
   ]
  },
  {
   "cell_type": "code",
   "execution_count": 12,
   "metadata": {
    "ExecuteTime": {
     "end_time": "2018-10-12T19:03:00.193537Z",
     "start_time": "2018-10-12T19:02:59.772316Z"
    }
   },
   "outputs": [
    {
     "name": "stderr",
     "output_type": "stream",
     "text": [
      "WARNING. chromosome (Contig533973) was not found in the FASTA file. Skipping.\n"
     ]
    }
   ],
   "source": [
    "%%bash\n",
    "/Applications/bioinfo/bedtools2/bin/bedtools getfasta \\\n",
    "-fi /Users/sr320/Desktop/oly/Olurida_v081.fa \\\n",
    "-bed analyses/dml010.1kslop.bed > analyses/dml010.1kslop.fa\n"
   ]
  },
  {
   "cell_type": "code",
   "execution_count": 13,
   "metadata": {
    "ExecuteTime": {
     "end_time": "2018-10-12T19:04:22.540405Z",
     "start_time": "2018-10-12T19:04:22.352822Z"
    }
   },
   "outputs": [],
   "source": [
    "%%bash\n",
    "/Applications/bioinfo/bedtools2/bin/bedtools slop \\\n",
    "-b 475 \\\n",
    "-i /Users/sr320/Documents/GitHub/paper-oly-wgbs/analyses/dml010.tile.bed \\\n",
    "-g analyses/Olv081.genome > analyses/dml010.tile.1kslop.bed"
   ]
  },
  {
   "cell_type": "code",
   "execution_count": 14,
   "metadata": {
    "ExecuteTime": {
     "end_time": "2018-10-12T19:04:38.806392Z",
     "start_time": "2018-10-12T19:04:38.333311Z"
    }
   },
   "outputs": [
    {
     "name": "stderr",
     "output_type": "stream",
     "text": [
      "WARNING. chromosome (Contig134513) was not found in the FASTA file. Skipping.\n",
      "WARNING. chromosome (Contig242783) was not found in the FASTA file. Skipping.\n",
      "WARNING. chromosome (Contig313531) was not found in the FASTA file. Skipping.\n",
      "WARNING. chromosome (Contig339666) was not found in the FASTA file. Skipping.\n",
      "WARNING. chromosome (Contig357754) was not found in the FASTA file. Skipping.\n",
      "WARNING. chromosome (Contig461880) was not found in the FASTA file. Skipping.\n",
      "WARNING. chromosome (Contig461880) was not found in the FASTA file. Skipping.\n",
      "WARNING. chromosome (Contig523231) was not found in the FASTA file. Skipping.\n",
      "WARNING. chromosome (Contig533973) was not found in the FASTA file. Skipping.\n",
      "WARNING. chromosome (Contig565153) was not found in the FASTA file. Skipping.\n",
      "WARNING. chromosome (Contig660929) was not found in the FASTA file. Skipping.\n"
     ]
    }
   ],
   "source": [
    "%%bash\n",
    "/Applications/bioinfo/bedtools2/bin/bedtools getfasta \\\n",
    "-fi /Users/sr320/Desktop/oly/Olurida_v081.fa \\\n",
    "-bed analyses/dml010.tile.1kslop.bed > analyses/dml010.tile.1kslop.fa"
   ]
  },
  {
   "cell_type": "markdown",
   "metadata": {},
   "source": [
    "# Get Fasta from JUST tiles"
   ]
  },
  {
   "cell_type": "code",
   "execution_count": 15,
   "metadata": {
    "ExecuteTime": {
     "end_time": "2018-10-12T20:14:11.892470Z",
     "start_time": "2018-10-12T20:14:11.385049Z"
    }
   },
   "outputs": [
    {
     "name": "stderr",
     "output_type": "stream",
     "text": [
      "WARNING. chromosome (Contig134513) was not found in the FASTA file. Skipping.\n",
      "WARNING. chromosome (Contig242783) was not found in the FASTA file. Skipping.\n",
      "WARNING. chromosome (Contig313531) was not found in the FASTA file. Skipping.\n",
      "WARNING. chromosome (Contig339666) was not found in the FASTA file. Skipping.\n",
      "WARNING. chromosome (Contig357754) was not found in the FASTA file. Skipping.\n",
      "WARNING. chromosome (Contig461880) was not found in the FASTA file. Skipping.\n",
      "WARNING. chromosome (Contig461880) was not found in the FASTA file. Skipping.\n",
      "WARNING. chromosome (Contig523231) was not found in the FASTA file. Skipping.\n",
      "WARNING. chromosome (Contig533973) was not found in the FASTA file. Skipping.\n",
      "WARNING. chromosome (Contig565153) was not found in the FASTA file. Skipping.\n",
      "WARNING. chromosome (Contig660929) was not found in the FASTA file. Skipping.\n"
     ]
    }
   ],
   "source": [
    "%%bash\n",
    "/Applications/bioinfo/bedtools2/bin/bedtools getfasta \\\n",
    "-fi /Users/sr320/Desktop/oly/Olurida_v081.fa \\\n",
    "-bed /Users/sr320/Documents/GitHub/paper-oly-wgbs/analyses/dml010.tile.bed  > analyses/dml010.tile.fa"
   ]
  },
  {
   "cell_type": "code",
   "execution_count": null,
   "metadata": {},
   "outputs": [],
   "source": []
  }
 ],
 "metadata": {
  "kernelspec": {
   "display_name": "Python 3",
   "language": "python",
   "name": "python3"
  },
  "language_info": {
   "codemirror_mode": {
    "name": "ipython",
    "version": 3
   },
   "file_extension": ".py",
   "mimetype": "text/x-python",
   "name": "python",
   "nbconvert_exporter": "python",
   "pygments_lexer": "ipython3",
   "version": "3.6.3"
  }
 },
 "nbformat": 4,
 "nbformat_minor": 2
}
