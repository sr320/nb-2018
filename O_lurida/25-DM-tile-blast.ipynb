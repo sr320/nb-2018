{
 "cells": [
  {
   "cell_type": "code",
   "execution_count": 3,
   "metadata": {
    "ExecuteTime": {
     "end_time": "2018-10-12T20:25:26.855819Z",
     "start_time": "2018-10-12T20:25:21.467930Z"
    }
   },
   "outputs": [],
   "source": [
    "!/Applications/bioinfo/ncbi-blast-2.7.1+/bin/blastx \\\n",
    "-query analyses/dml010.tile.fa \\\n",
    "-db /Users/sr320/Documents/GitHub/fun-gen/blastdb/uniprot_sprot_r2018_08 \\\n",
    "-out analyses/dml010.tile-uniprot_blastx.tab \\\n",
    "-num_threads 4 \\\n",
    "-max_target_seqs 10 \\\n",
    "-outfmt \"6 qseqid stitle evalue\""
   ]
  },
  {
   "cell_type": "code",
   "execution_count": 1,
   "metadata": {
    "ExecuteTime": {
     "end_time": "2018-11-04T01:54:09.711991Z",
     "start_time": "2018-11-04T01:54:09.576174Z"
    }
   },
   "outputs": [
    {
     "name": "stdout",
     "output_type": "stream",
     "text": [
      "Contig100807:3101-3150\tsp|Q49V12|MFD_STAS1 Transcription-repair-coupling factor OS=Staphylococcus saprophyticus subsp. saprophyticus (strain ATCC 15305 / DSM 20229) OX=342451 GN=mfd PE=3 SV=1\t3.4\r\n",
      "Contig100807:3151-3200\tsp|Q559R1|Y2456_DICDI Putative uncharacterized protein DDB_G0272456 OS=Dictyostelium discoideum OX=44689 GN=DDB_G0272456 PE=4 SV=1\t8.1\r\n",
      "Contig1167:401-450\tsp|P57996|SECA1_MYCLE Protein translocase subunit SecA 1 OS=Mycobacterium leprae (strain TN) OX=272631 GN=secA1 PE=3 SV=1\t3.0\r\n",
      "Contig120547:1001-1050\tsp|Q6NYH1|IF122_DANRE Intraflagellar transport protein 122 homolog OS=Danio rerio OX=7955 GN=ift122 PE=2 SV=1\t7.1\r\n",
      "Contig121874:4001-4050\tsp|Q8NFJ9|BBS1_HUMAN Bardet-Biedl syndrome 1 protein OS=Homo sapiens OX=9606 GN=BBS1 PE=1 SV=1\t8.4\r\n",
      "Contig121874:4001-4050\tsp|Q3V3N7|BBS1_MOUSE Bardet-Biedl syndrome 1 protein homolog OS=Mus musculus OX=10090 GN=Bbs1 PE=1 SV=1\t9.0\r\n",
      "Contig129876:2251-2300\tsp|P79250|5HT1B_CANLF 5-hydroxytryptamine receptor 1B OS=Canis lupus familiaris OX=9615 GN=HTR1B PE=2 SV=2\t8.3\r\n",
      "Contig129876:2251-2300\tsp|P49144|5HT1B_RABIT 5-hydroxytryptamine receptor 1B OS=Oryctolagus cuniculus OX=9986 GN=HTR1B PE=2 SV=1\t9.3\r\n",
      "Contig146135:7251-7300\tsp|A1JRU2|PLSB_YERE8 Glycerol-3-phosphate acyltransferase OS=Yersinia enterocolitica serotype O:8 / biotype 1B (strain NCTC 13174 / 8081) OX=393305 GN=plsB PE=3 SV=1\t6.3\r\n",
      "Contig146135:7251-7300\tsp|A8GKB6|PLSB_SERP5 Glycerol-3-phosphate acyltransferase OS=Serratia proteamaculans (strain 568) OX=399741 GN=plsB PE=3 SV=1\t6.4\r\n"
     ]
    }
   ],
   "source": [
    "!head analyses/dml010.tile-uniprot_blastx.tab"
   ]
  },
  {
   "cell_type": "code",
   "execution_count": 2,
   "metadata": {
    "ExecuteTime": {
     "end_time": "2018-11-04T01:54:37.474250Z",
     "start_time": "2018-11-04T01:54:37.346931Z"
    }
   },
   "outputs": [
    {
     "name": "stdout",
     "output_type": "stream",
     "text": [
      "Contig100807:3101-3150\tsp|Q49V12|MFD_STAS1 \u001b[01;31m\u001b[KTran\u001b[m\u001b[Kscription-repair-coupling factor OS=Staphylococcus saprophyticus subsp. saprophyticus (strain ATCC 15305 / DSM 20229) OX=342451 GN=mfd PE=3 SV=1\t3.4\r\n",
      "Contig1167:401-450\tsp|P57996|SECA1_MYCLE Protein \u001b[01;31m\u001b[Ktran\u001b[m\u001b[Kslocase subunit SecA 1 OS=Mycobacterium leprae (strain TN) OX=272631 GN=secA1 PE=3 SV=1\t3.0\r\n",
      "Contig120547:1001-1050\tsp|Q6NYH1|IF122_DANRE Intraflagellar \u001b[01;31m\u001b[Ktran\u001b[m\u001b[Ksport protein 122 homolog OS=Danio rerio OX=7955 GN=ift122 PE=2 SV=1\t7.1\r\n",
      "Contig146135:7251-7300\tsp|A1JRU2|PLSB_YERE8 Glycerol-3-phosphate acyl\u001b[01;31m\u001b[Ktran\u001b[m\u001b[Ksferase OS=Yersinia enterocolitica serotype O:8 / biotype 1B (strain NCTC 13174 / 8081) OX=393305 GN=plsB PE=3 SV=1\t6.3\r\n",
      "Contig146135:7251-7300\tsp|A8GKB6|PLSB_SERP5 Glycerol-3-phosphate acyl\u001b[01;31m\u001b[Ktran\u001b[m\u001b[Ksferase OS=Serratia proteamaculans (strain 568) OX=399741 GN=plsB PE=3 SV=1\t6.4\r\n",
      "Contig146135:7251-7300\tsp|Q66FG9|PLSB_YERPS Glycerol-3-phosphate acyl\u001b[01;31m\u001b[Ktran\u001b[m\u001b[Ksferase OS=Yersinia pseudotuberculosis serotype I (strain IP32953) OX=273123 GN=plsB PE=3 SV=1\t7.6\r\n",
      "Contig146135:7251-7300\tsp|B2K1U5|PLSB_YERPB Glycerol-3-phosphate acyl\u001b[01;31m\u001b[Ktran\u001b[m\u001b[Ksferase OS=Yersinia pseudotuberculosis serotype IB (strain PB1/+) OX=502801 GN=plsB PE=3 SV=1\t7.6\r\n",
      "Contig146135:7251-7300\tsp|B1JNE5|PLSB_YERPY Glycerol-3-phosphate acyl\u001b[01;31m\u001b[Ktran\u001b[m\u001b[Ksferase OS=Yersinia pseudotuberculosis serotype O:3 (strain YPIII) OX=502800 GN=plsB PE=3 SV=1\t7.6\r\n",
      "Contig146135:7251-7300\tsp|A4TRU7|PLSB_YERPP Glycerol-3-phosphate acyl\u001b[01;31m\u001b[Ktran\u001b[m\u001b[Ksferase OS=Yersinia pestis (strain Pestoides F) OX=386656 GN=plsB PE=3 SV=1\t7.6\r\n",
      "Contig146135:7251-7300\tsp|Q1CE96|PLSB_YERPN Glycerol-3-phosphate acyl\u001b[01;31m\u001b[Ktran\u001b[m\u001b[Ksferase OS=Yersinia pestis bv. Antiqua (strain Nepal516) OX=377628 GN=plsB PE=3 SV=1\t7.6\r\n",
      "Contig146135:7251-7300\tsp|Q8ZJ18|PLSB_YERPE Glycerol-3-phosphate acyl\u001b[01;31m\u001b[Ktran\u001b[m\u001b[Ksferase OS=Yersinia pestis OX=632 GN=plsB PE=3 SV=1\t7.6\r\n",
      "Contig146135:7251-7300\tsp|Q1C0T9|PLSB_YERPA Glycerol-3-phosphate acyl\u001b[01;31m\u001b[Ktran\u001b[m\u001b[Ksferase OS=Yersinia pestis bv. Antiqua (strain Antiqua) OX=360102 GN=plsB PE=3 SV=1\t7.6\r\n",
      "Contig146135:7251-7300\tsp|A7FN98|PLSB_YERP3 Glycerol-3-phosphate acyl\u001b[01;31m\u001b[Ktran\u001b[m\u001b[Ksferase OS=Yersinia pseudotuberculosis serotype O:1b (strain IP 31758) OX=349747 GN=plsB PE=3 SV=1\t7.6\r\n",
      "Contig15444:3701-3750\tsp|Q7LHG5|YI31B_YEAST \u001b[01;31m\u001b[KTran\u001b[m\u001b[Ksposon Ty3-I Gag-Pol polyprotein OS=Saccharomyces cerevisiae (strain ATCC 204508 / S288c) OX=559292 GN=TY3B-I PE=3 SV=2\t0.016\r\n",
      "Contig15444:3701-3750\tsp|Q99315|YG31B_YEAST \u001b[01;31m\u001b[KTran\u001b[m\u001b[Ksposon Ty3-G Gag-Pol polyprotein OS=Saccharomyces cerevisiae (strain ATCC 204508 / S288c) OX=559292 GN=TY3B-G PE=1 SV=3\t0.016\r\n",
      "Contig15444:3701-3750\tsp|P0CT40|TF29_SCHPO \u001b[01;31m\u001b[KTran\u001b[m\u001b[Ksposon Tf2-9 polyprotein OS=Schizosaccharomyces pombe (strain 972 / ATCC 24843) OX=284812 GN=Tf2-9 PE=3 SV=1\t2.4\r\n",
      "Contig15444:3701-3750\tsp|P0CT43|TF28_SCHPO \u001b[01;31m\u001b[KTran\u001b[m\u001b[Ksposon Tf2-8 polyprotein OS=Schizosaccharomyces pombe (strain 972 / ATCC 24843) OX=284812 GN=Tf2-8 PE=3 SV=1\t2.4\r\n",
      "Contig15444:3701-3750\tsp|P0CT42|TF27_SCHPO \u001b[01;31m\u001b[KTran\u001b[m\u001b[Ksposon Tf2-7 polyprotein OS=Schizosaccharomyces pombe (strain 972 / ATCC 24843) OX=284812 GN=Tf2-7 PE=3 SV=1\t2.4\r\n",
      "Contig15444:3701-3750\tsp|P0CT39|TF26_SCHPO \u001b[01;31m\u001b[KTran\u001b[m\u001b[Ksposon Tf2-6 polyprotein OS=Schizosaccharomyces pombe (strain 972 / ATCC 24843) OX=284812 GN=Tf2-6 PE=3 SV=1\t2.4\r\n",
      "Contig15444:3701-3750\tsp|P0CT38|TF25_SCHPO \u001b[01;31m\u001b[KTran\u001b[m\u001b[Ksposon Tf2-5 polyprotein OS=Schizosaccharomyces pombe (strain 972 / ATCC 24843) OX=284812 GN=Tf2-5 PE=3 SV=1\t2.4\r\n",
      "Contig15444:3701-3750\tsp|P0CT37|TF24_SCHPO \u001b[01;31m\u001b[KTran\u001b[m\u001b[Ksposon Tf2-4 polyprotein OS=Schizosaccharomyces pombe (strain 972 / ATCC 24843) OX=284812 GN=Tf2-4 PE=3 SV=1\t2.4\r\n",
      "Contig15444:3701-3750\tsp|P0CT36|TF23_SCHPO \u001b[01;31m\u001b[KTran\u001b[m\u001b[Ksposon Tf2-3 polyprotein OS=Schizosaccharomyces pombe (strain 972 / ATCC 24843) OX=284812 GN=Tf2-3 PE=1 SV=1\t2.4\r\n",
      "Contig15444:3701-3750\tsp|P0CT35|TF22_SCHPO \u001b[01;31m\u001b[KTran\u001b[m\u001b[Ksposon Tf2-2 polyprotein OS=Schizosaccharomyces pombe (strain 972 / ATCC 24843) OX=284812 GN=Tf2-2 PE=3 SV=1\t2.4\r\n",
      "Contig23612:25351-25400\tsp|Q0I2G8|PLSB_HAES1 Glycerol-3-phosphate acyl\u001b[01;31m\u001b[Ktran\u001b[m\u001b[Ksferase OS=Haemophilus somnus (strain 129Pt) OX=205914 GN=plsB PE=3 SV=1\t4.5\r\n",
      "Contig29308:43001-43050\tsp|Q54U87|DHKA_DICDI Hybrid signal \u001b[01;31m\u001b[Ktran\u001b[m\u001b[Ksduction histidine kinase A OS=Dictyostelium discoideum OX=44689 GN=dhkA PE=1 SV=1\t2.9\r\n",
      "Contig31843:1551-1600\tsp|Q8KBK9|BCHQ_CHLTE Bacteriochlorophyllide d C-8(2)-methyl\u001b[01;31m\u001b[Ktran\u001b[m\u001b[Ksferase OS=Chlorobaculum tepidum (strain ATCC 49652 / DSM 12025 / NBRC 103806 / TLS) OX=194439 GN=bchQ PE=1 SV=1\t7.1\r\n",
      "Contig51879:10301-10350\tsp|Q6BKK7|TRM6_DEBHA tRNA (adenine(58)-N(1))-methyl\u001b[01;31m\u001b[Ktran\u001b[m\u001b[Ksferase non-catalytic subunit TRM6 OS=Debaryomyces hansenii (strain ATCC 36239 / CBS 767 / JCM 1990 / NBRC 0083 / IGC 2968) OX=284592 GN=TRM6 PE=3 SV=2\t8.6\r\n",
      "Contig686969:901-950\tsp|P74635|Y753_SYNY3 Uncharacterized \u001b[01;31m\u001b[Ktran\u001b[m\u001b[Ksporter slr0753 OS=Synechocystis sp. (strain PCC 6803 / Kazusa) OX=1111708 GN=slr0753 PE=3 SV=1\t9.6\r\n",
      "Contig8544:3201-3250\tsp|A1K2P7|TTCA_AZOSB tRNA-cytidine(32) 2-sulfur\u001b[01;31m\u001b[Ktran\u001b[m\u001b[Ksferase OS=Azoarcus sp. (strain BH72) OX=62928 GN=ttcA PE=3 SV=1\t1.4\r\n",
      "Contig8544:3201-3250\tsp|Q5P3T7|TTCA_AROAE tRNA-cytidine(32) 2-sulfur\u001b[01;31m\u001b[Ktran\u001b[m\u001b[Ksferase OS=Aromatoleum aromaticum (strain EbN1) OX=76114 GN=ttcA PE=3 SV=1\t3.9\r\n"
     ]
    }
   ],
   "source": [
    "!grep -i \"tran\" --color analyses/dml010.tile-uniprot_blastx.tab"
   ]
  },
  {
   "cell_type": "code",
   "execution_count": null,
   "metadata": {},
   "outputs": [],
   "source": []
  }
 ],
 "metadata": {
  "kernelspec": {
   "display_name": "Python 3",
   "language": "python",
   "name": "python3"
  },
  "language_info": {
   "codemirror_mode": {
    "name": "ipython",
    "version": 3
   },
   "file_extension": ".py",
   "mimetype": "text/x-python",
   "name": "python",
   "nbconvert_exporter": "python",
   "pygments_lexer": "ipython3",
   "version": "3.6.3"
  }
 },
 "nbformat": 4,
 "nbformat_minor": 2
}
