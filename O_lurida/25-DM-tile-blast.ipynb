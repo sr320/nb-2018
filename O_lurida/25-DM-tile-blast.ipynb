{
 "cells": [
  {
   "cell_type": "code",
   "execution_count": 3,
   "metadata": {
    "ExecuteTime": {
     "end_time": "2018-10-12T20:25:26.855819Z",
     "start_time": "2018-10-12T20:25:21.467930Z"
    }
   },
   "outputs": [],
   "source": [
    "!/Applications/bioinfo/ncbi-blast-2.7.1+/bin/blastx \\\n",
    "-query analyses/dml010.tile.fa \\\n",
    "-db /Users/sr320/Documents/GitHub/fun-gen/blastdb/uniprot_sprot_r2018_08 \\\n",
    "-out analyses/dml010.tile-uniprot_blastx.tab \\\n",
    "-num_threads 4 \\\n",
    "-max_target_seqs 10 \\\n",
    "-outfmt \"6 qseqid stitle evalue\""
   ]
  },
  {
   "cell_type": "code",
   "execution_count": 4,
   "metadata": {
    "ExecuteTime": {
     "end_time": "2018-10-12T20:25:26.984702Z",
     "start_time": "2018-10-12T20:25:26.860196Z"
    }
   },
   "outputs": [
    {
     "name": "stdout",
     "output_type": "stream",
     "text": [
      "Contig100807:3101-3150\tsp|Q49V12|MFD_STAS1 Transcription-repair-coupling factor OS=Staphylococcus saprophyticus subsp. saprophyticus (strain ATCC 15305 / DSM 20229) OX=342451 GN=mfd PE=3 SV=1\t3.4\r\n",
      "Contig100807:3151-3200\tsp|Q559R1|Y2456_DICDI Putative uncharacterized protein DDB_G0272456 OS=Dictyostelium discoideum OX=44689 GN=DDB_G0272456 PE=4 SV=1\t8.1\r\n",
      "Contig1167:401-450\tsp|P57996|SECA1_MYCLE Protein translocase subunit SecA 1 OS=Mycobacterium leprae (strain TN) OX=272631 GN=secA1 PE=3 SV=1\t3.0\r\n",
      "Contig120547:1001-1050\tsp|Q6NYH1|IF122_DANRE Intraflagellar transport protein 122 homolog OS=Danio rerio OX=7955 GN=ift122 PE=2 SV=1\t7.1\r\n",
      "Contig121874:4001-4050\tsp|Q8NFJ9|BBS1_HUMAN Bardet-Biedl syndrome 1 protein OS=Homo sapiens OX=9606 GN=BBS1 PE=1 SV=1\t8.4\r\n",
      "Contig121874:4001-4050\tsp|Q3V3N7|BBS1_MOUSE Bardet-Biedl syndrome 1 protein homolog OS=Mus musculus OX=10090 GN=Bbs1 PE=1 SV=1\t9.0\r\n",
      "Contig129876:2251-2300\tsp|P79250|5HT1B_CANLF 5-hydroxytryptamine receptor 1B OS=Canis lupus familiaris OX=9615 GN=HTR1B PE=2 SV=2\t8.3\r\n",
      "Contig129876:2251-2300\tsp|P49144|5HT1B_RABIT 5-hydroxytryptamine receptor 1B OS=Oryctolagus cuniculus OX=9986 GN=HTR1B PE=2 SV=1\t9.3\r\n",
      "Contig146135:7251-7300\tsp|A1JRU2|PLSB_YERE8 Glycerol-3-phosphate acyltransferase OS=Yersinia enterocolitica serotype O:8 / biotype 1B (strain NCTC 13174 / 8081) OX=393305 GN=plsB PE=3 SV=1\t6.3\r\n",
      "Contig146135:7251-7300\tsp|A8GKB6|PLSB_SERP5 Glycerol-3-phosphate acyltransferase OS=Serratia proteamaculans (strain 568) OX=399741 GN=plsB PE=3 SV=1\t6.4\r\n"
     ]
    }
   ],
   "source": [
    "!head analyses/dml010.tile-uniprot_blastx.tab"
   ]
  },
  {
   "cell_type": "code",
   "execution_count": null,
   "metadata": {},
   "outputs": [],
   "source": []
  }
 ],
 "metadata": {
  "kernelspec": {
   "display_name": "Python 3",
   "language": "python",
   "name": "python3"
  },
  "language_info": {
   "codemirror_mode": {
    "name": "ipython",
    "version": 3
   },
   "file_extension": ".py",
   "mimetype": "text/x-python",
   "name": "python",
   "nbconvert_exporter": "python",
   "pygments_lexer": "ipython3",
   "version": "3.6.3"
  }
 },
 "nbformat": 4,
 "nbformat_minor": 2
}
