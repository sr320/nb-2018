{
 "cells": [
  {
   "cell_type": "code",
   "execution_count": null,
   "metadata": {
    "ExecuteTime": {
     "start_time": "2018-10-12T19:08:24.476Z"
    }
   },
   "outputs": [],
   "source": [
    "!/Applications/bioinfo/ncbi-blast-2.7.1+/bin/blastx \\\n",
    "-query analyses/dml010.tile.1kslop.fa \\\n",
    "-db /Users/sr320/Documents/GitHub/fun-gen/blastdb/uniprot_sprot_r2018_08 \\\n",
    "-out analyses/dml010.tile.1kslop-uniprot_blastx.tab \\\n",
    "-evalue 1E-05 \\\n",
    "-num_threads 4 \\\n",
    "-max_target_seqs 10 \\\n",
    "-outfmt 6"
   ]
  },
  {
   "cell_type": "code",
   "execution_count": null,
   "metadata": {
    "ExecuteTime": {
     "start_time": "2018-10-12T19:08:45.966Z"
    }
   },
   "outputs": [],
   "source": [
    "!/Applications/bioinfo/ncbi-blast-2.7.1+/bin/blastx \\\n",
    "-query analyses/dml010.1kslop.fa \\\n",
    "-db /Users/sr320/Documents/GitHub/fun-gen/blastdb/uniprot_sprot_r2018_08 \\\n",
    "-out analyses/dml010.1kslop-uniprot_blastx.tab \\\n",
    "-evalue 1E-05 \\\n",
    "-num_threads 4 \\\n",
    "-max_target_seqs 10 \\\n",
    "-outfmt 6"
   ]
  },
  {
   "cell_type": "code",
   "execution_count": null,
   "metadata": {},
   "outputs": [],
   "source": []
  }
 ],
 "metadata": {
  "kernelspec": {
   "display_name": "Python 3",
   "language": "python",
   "name": "python3"
  },
  "language_info": {
   "codemirror_mode": {
    "name": "ipython",
    "version": 3
   },
   "file_extension": ".py",
   "mimetype": "text/x-python",
   "name": "python",
   "nbconvert_exporter": "python",
   "pygments_lexer": "ipython3",
   "version": "3.6.3"
  }
 },
 "nbformat": 4,
 "nbformat_minor": 2
}
