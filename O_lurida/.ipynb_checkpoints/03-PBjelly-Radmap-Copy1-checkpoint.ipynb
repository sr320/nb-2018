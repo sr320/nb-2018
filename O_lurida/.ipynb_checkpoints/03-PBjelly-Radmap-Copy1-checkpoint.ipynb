{
 "cells": [
  {
   "cell_type": "code",
   "execution_count": 1,
   "metadata": {
    "collapsed": false
   },
   "outputs": [
    {
     "name": "stdout",
     "output_type": "stream",
     "text": [
      "\u001b[31mHC1-10ca.fastq\u001b[m\u001b[m*      \u001b[31mHC1-15ca.fastq\u001b[m\u001b[m*      \u001b[31mHC1-2ca.fastq\u001b[m\u001b[m*\r\n",
      "\u001b[31mHC1-11ca.fastq\u001b[m\u001b[m*      \u001b[31mHC1-17ca.fastq\u001b[m\u001b[m*      \u001b[31mHC1-3ca.fastq\u001b[m\u001b[m*\r\n",
      "\u001b[31mHC1-12ca.fastq\u001b[m\u001b[m*      \u001b[31mHC1-18ca.fastq\u001b[m\u001b[m*      HC1-4ca.fastq\r\n",
      "\u001b[31mHC1-13ca.fastq\u001b[m\u001b[m*      \u001b[31mHC1-19ca.fastq\u001b[m\u001b[m*      \u001b[31mca_2brad_201512.out\u001b[m\u001b[m*\r\n",
      "\u001b[31mHC1-14ca.fastq\u001b[m\u001b[m*      \u001b[31mHC1-1ca.fastq\u001b[m\u001b[m*\r\n"
     ]
    }
   ],
   "source": [
    "ls /Volumes/web-1/wetgenes/2brad_201512_ca/"
   ]
  },
  {
   "cell_type": "code",
   "execution_count": 2,
   "metadata": {
    "collapsed": false
   },
   "outputs": [
    {
     "name": "stdout",
     "output_type": "stream",
     "text": [
      "\u001b[34m18-01-22\u001b[m\u001b[m/  \u001b[34m18-01-23\u001b[m\u001b[m/  \u001b[34m18-01-24\u001b[m\u001b[m/  \u001b[34m18-01-25\u001b[m\u001b[m/  \u001b[34m18-01-25b\u001b[m\u001b[m/ \u001b[30m\u001b[43m18-01-30\u001b[m\u001b[m/  \u001b[34m18-03-05\u001b[m\u001b[m/\r\n"
     ]
    }
   ],
   "source": [
    "ls /Volumes/Serine/wd/"
   ]
  },
  {
   "cell_type": "code",
   "execution_count": 3,
   "metadata": {
    "collapsed": true
   },
   "outputs": [],
   "source": [
    "mkdir /Volumes/Serine/wd/18-03-06"
   ]
  },
  {
   "cell_type": "code",
   "execution_count": null,
   "metadata": {
    "collapsed": false
   },
   "outputs": [
    {
     "name": "stdout",
     "output_type": "stream",
     "text": [
      "Settings:\n",
      "  Output files: \"/Volumes/Serine/wd/18-03-06/Pg-jelly.bowtie-index.*.bt2\"\n",
      "  Line rate: 6 (line is 64 bytes)\n",
      "  Lines per side: 1 (side is 64 bytes)\n",
      "  Offset rate: 4 (one in 16)\n",
      "  FTable chars: 10\n",
      "  Strings: unpacked\n",
      "  Max bucket size: default\n",
      "  Max bucket size, sqrt multiplier: default\n",
      "  Max bucket size, len divisor: 4\n",
      "  Difference-cover sample period: 1024\n",
      "  Endianness: little\n",
      "  Actual local endianness: little\n",
      "  Sanity checking: disabled\n",
      "  Assertions: disabled\n",
      "  Random seed: 0\n",
      "  Sizeofs: void*:8, int:4, long:8, size_t:8\n",
      "Input files DNA, FASTA:\n",
      "  /Volumes/Serine/wd/18-01-25b/jelly.out.fasta\n",
      "Reading reference sizes\n",
      "  Time reading reference sizes: 00:00:30\n",
      "Calculating joined length\n",
      "Writing header\n",
      "Reserving space for joined string\n",
      "Joining reference sequences\n",
      "  Time to join reference sequences: 00:00:08\n",
      "bmax according to bmaxDivN setting: 293026292\n",
      "Using parameters --bmax 219769719 --dcv 1024\n",
      "  Doing ahead-of-time memory usage test\n",
      "  Passed!  Constructing with these parameters: --bmax 219769719 --dcv 1024\n",
      "Constructing suffix-array element generator\n",
      "Building DifferenceCoverSample\n",
      "  Building sPrime\n",
      "  Building sPrimeOrder\n",
      "  V-Sorting samples\n",
      "  V-Sorting samples time: 00:00:22\n",
      "  Allocating rank array\n",
      "  Ranking v-sort output\n"
     ]
    }
   ],
   "source": [
    "!/Applications/bioinfo/bowtie2-2.2.4/bowtie2-build \\\n",
    "/Volumes/Serine/wd/18-01-25b/jelly.out.fasta \\\n",
    "/Volumes/Serine/wd/18-03-06/Pg-jelly.bowtie-index \\\n",
    "2> /Volumes/Serine/wd/18-03-06/Pg-jelly.bw.stderr"
   ]
  },
  {
   "cell_type": "code",
   "execution_count": null,
   "metadata": {
    "collapsed": true
   },
   "outputs": [],
   "source": []
  }
 ],
 "metadata": {
  "kernelspec": {
   "display_name": "Python 2",
   "language": "python",
   "name": "python2"
  },
  "language_info": {
   "codemirror_mode": {
    "name": "ipython",
    "version": 2
   },
   "file_extension": ".py",
   "mimetype": "text/x-python",
   "name": "python",
   "nbconvert_exporter": "python",
   "pygments_lexer": "ipython2",
   "version": "2.7.12"
  }
 },
 "nbformat": 4,
 "nbformat_minor": 0
}
