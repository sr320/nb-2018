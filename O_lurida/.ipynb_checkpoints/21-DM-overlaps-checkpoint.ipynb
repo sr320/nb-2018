{
 "cells": [
  {
   "cell_type": "code",
   "execution_count": 5,
   "metadata": {
    "ExecuteTime": {
     "end_time": "2018-10-10T20:06:06.453165Z",
     "start_time": "2018-10-10T20:05:45.398157Z"
    }
   },
   "outputs": [
    {
     "name": "stdout",
     "output_type": "stream",
     "text": [
      "Contig35213\t1721\t1723\t-45\tContig35213\tprotein2genome\tprotein_match\t866\t2433\t1520\t-\t.\tID=Contig35213:hit:68:3.10.0.0;Name=YP_254649.1\n",
      "Contig35213\t1850\t1852\t-67\tContig35213\tprotein2genome\tprotein_match\t866\t2433\t1520\t-\t.\tID=Contig35213:hit:68:3.10.0.0;Name=YP_254649.1\n",
      "Contig35213\t1859\t1861\t-81\tContig35213\tprotein2genome\tprotein_match\t866\t2433\t1520\t-\t.\tID=Contig35213:hit:68:3.10.0.0;Name=YP_254649.1\n",
      "Contig35213\t1873\t1875\t-78\tContig35213\tprotein2genome\tprotein_match\t866\t2433\t1520\t-\t.\tID=Contig35213:hit:68:3.10.0.0;Name=YP_254649.1\n",
      "Contig35213\t1988\t1990\t-78\tContig35213\tprotein2genome\tprotein_match\t866\t2433\t1520\t-\t.\tID=Contig35213:hit:68:3.10.0.0;Name=YP_254649.1\n",
      "Contig35213\t2003\t2005\t-62\tContig35213\tprotein2genome\tprotein_match\t866\t2433\t1520\t-\t.\tID=Contig35213:hit:68:3.10.0.0;Name=YP_254649.1\n",
      "Contig35213\t2006\t2008\t-47\tContig35213\tprotein2genome\tprotein_match\t866\t2433\t1520\t-\t.\tID=Contig35213:hit:68:3.10.0.0;Name=YP_254649.1\n",
      "Contig35213\t2168\t2170\t-42\tContig35213\tprotein2genome\tprotein_match\t866\t2433\t1520\t-\t.\tID=Contig35213:hit:68:3.10.0.0;Name=YP_254649.1\n",
      "Contig35213\t2171\t2173\t-57\tContig35213\tprotein2genome\tprotein_match\t866\t2433\t1520\t-\t.\tID=Contig35213:hit:68:3.10.0.0;Name=YP_254649.1\n",
      "Contig35213\t2181\t2183\t-48\tContig35213\tprotein2genome\tprotein_match\t866\t2433\t1520\t-\t.\tID=Contig35213:hit:68:3.10.0.0;Name=YP_254649.1\n",
      "Contig35213\t2386\t2388\t-61\tContig35213\tprotein2genome\tprotein_match\t866\t2433\t1520\t-\t.\tID=Contig35213:hit:68:3.10.0.0;Name=YP_254649.1\n",
      "Contig35213\t2412\t2414\t-69\tContig35213\tprotein2genome\tprotein_match\t866\t2433\t1520\t-\t.\tID=Contig35213:hit:68:3.10.0.0;Name=YP_254649.1\n",
      "Contig64\t7482\t7484\t-48\tContig64\tprotein2genome\tprotein_match\t36\t7549\t868\t-\t.\tID=Contig64:hit:1027:3.10.0.0;Name=EKC18166.1\n"
     ]
    }
   ],
   "source": [
    "!/Applications/bioinfo/bedtools2/bin/bedtools intersect \\\n",
    "-wb \\\n",
    "-a /Users/sr320/Documents/GitHub/paper-oly-wgbs/analyses/dml010.bed \\\n",
    "-b /Users/sr320/Desktop/Olurida_v081.all.sorted.gff \\\n",
    "| grep \"protein2genome\tprotein_match\""
   ]
  },
  {
   "cell_type": "code",
   "execution_count": 6,
   "metadata": {
    "ExecuteTime": {
     "end_time": "2018-10-10T20:06:33.974976Z",
     "start_time": "2018-10-10T20:06:15.041683Z"
    }
   },
   "outputs": [
    {
     "name": "stdout",
     "output_type": "stream",
     "text": [
      "Contig16849\t11551\t11600\t-38\tContig16849\tprotein2genome\tprotein_match\t6627\t12024\t985\t-\t.\tID=Contig16849:hit:69:3.10.0.0;Name=XP_022293961.1\r\n",
      "Contig16849\t11551\t11600\t-38\tContig16849\tprotein2genome\tprotein_match\t8885\t12214\t335\t-\t.\tID=Contig16849:hit:71:3.10.0.0;Name=XP_022294016.1\r\n",
      "Contig16849\t11551\t11600\t-38\tContig16849\tprotein2genome\tprotein_match\t10513\t12027\t535\t-\t.\tID=Contig16849:hit:74:3.10.0.0;Name=XP_022334538.1\r\n",
      "Contig16849\t11551\t11600\t-38\tContig16849\tprotein2genome\tprotein_match\t11409\t11796\t180\t-\t.\tID=Contig16849:hit:75:3.10.0.0;Name=XP_022339380.1\r\n",
      "Contig16849\t11574\t11600\t-38\tContig16849\tprotein2genome\tprotein_match\t11575\t12024\t335\t-\t.\tID=Contig16849:hit:72:3.10.0.0;Name=XP_022294016.1\r\n",
      "Contig1956\t3901\t3950\t54\tContig1956\tprotein2genome\tprotein_match\t3084\t4031\t1277\t-\t.\tID=Contig1956:hit:173:3.10.0.0;Name=EKC20745.1\r\n",
      "Contig23612\t25351\t25400\t-54\tContig23612\tprotein2genome\tprotein_match\t20865\t31623\t6224\t-\t.\tID=Contig23612:hit:144:3.10.0.0;Name=XP_022313988.1\r\n",
      "Contig23612\t25351\t25400\t-54\tContig23612\tprotein2genome\tprotein_match\t20865\t31623\t6050\t-\t.\tID=Contig23612:hit:145:3.10.0.0;Name=XP_022313989.1\r\n",
      "Contig27772\t4601\t4650\t-47\tContig27772\tprotein2genome\tprotein_match\t1783\t4690\t346\t+\t.\tID=Contig27772:hit:194:3.10.0.0;Name=EKC23067.1\r\n",
      "Contig35213\t1201\t1250\t-42\tContig35213\tprotein2genome\tprotein_match\t866\t2433\t1520\t-\t.\tID=Contig35213:hit:68:3.10.0.0;Name=YP_254649.1\r\n",
      "Contig35213\t1701\t1750\t-39\tContig35213\tprotein2genome\tprotein_match\t866\t2433\t1520\t-\t.\tID=Contig35213:hit:68:3.10.0.0;Name=YP_254649.1\r\n",
      "Contig35213\t1751\t1800\t-45\tContig35213\tprotein2genome\tprotein_match\t866\t2433\t1520\t-\t.\tID=Contig35213:hit:68:3.10.0.0;Name=YP_254649.1\r\n",
      "Contig35213\t1951\t2000\t-62\tContig35213\tprotein2genome\tprotein_match\t866\t2433\t1520\t-\t.\tID=Contig35213:hit:68:3.10.0.0;Name=YP_254649.1\r\n",
      "Contig35213\t2001\t2050\t-43\tContig35213\tprotein2genome\tprotein_match\t866\t2433\t1520\t-\t.\tID=Contig35213:hit:68:3.10.0.0;Name=YP_254649.1\r\n",
      "Contig35213\t2351\t2400\t-57\tContig35213\tprotein2genome\tprotein_match\t866\t2433\t1520\t-\t.\tID=Contig35213:hit:68:3.10.0.0;Name=YP_254649.1\r\n",
      "Contig52167\t10551\t10600\t-33\tContig52167\tprotein2genome\tprotein_match\t9862\t11573\t793\t-\t.\tID=Contig52167:hit:88:3.10.0.0;Name=XP_022300679.1\r\n",
      "Contig52167\t10551\t10600\t-33\tContig52167\tprotein2genome\tprotein_match\t10398\t11190\t438\t-\t.\tID=Contig52167:hit:87:3.10.0.0;Name=XP_022294766.1\r\n",
      "Contig64\t7451\t7500\t-48\tContig64\tprotein2genome\tprotein_match\t36\t7549\t868\t-\t.\tID=Contig64:hit:1027:3.10.0.0;Name=EKC18166.1\r\n",
      "Contig64\t7501\t7549\t-30\tContig64\tprotein2genome\tprotein_match\t36\t7549\t868\t-\t.\tID=Contig64:hit:1027:3.10.0.0;Name=EKC18166.1\r\n"
     ]
    }
   ],
   "source": [
    "!/Applications/bioinfo/bedtools2/bin/bedtools intersect \\\n",
    "-wb \\\n",
    "-a /Users/sr320/Documents/GitHub/paper-oly-wgbs/analyses/dml010.tile.bed \\\n",
    "-b /Users/sr320/Desktop/Olurida_v081.all.sorted.gff \\\n",
    "| grep \"protein2genome\tprotein_match\""
   ]
  },
  {
   "cell_type": "code",
   "execution_count": null,
   "metadata": {},
   "outputs": [],
   "source": []
  }
 ],
 "metadata": {
  "kernelspec": {
   "display_name": "Python 3",
   "language": "python",
   "name": "python3"
  },
  "language_info": {
   "codemirror_mode": {
    "name": "ipython",
    "version": 3
   },
   "file_extension": ".py",
   "mimetype": "text/x-python",
   "name": "python",
   "nbconvert_exporter": "python",
   "pygments_lexer": "ipython3",
   "version": "3.6.3"
  }
 },
 "nbformat": 4,
 "nbformat_minor": 2
}
