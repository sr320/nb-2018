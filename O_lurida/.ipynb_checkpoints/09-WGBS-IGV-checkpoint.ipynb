{
 "cells": [
  {
   "cell_type": "code",
   "execution_count": 7,
   "metadata": {
    "ExecuteTime": {
     "end_time": "2018-09-18T22:34:59.991112Z",
     "start_time": "2018-09-18T22:34:47.445887Z"
    }
   },
   "outputs": [],
   "source": [
    "!cp /Volumes/web-1/Athaliana/20180913_oly_WGBSseq_bismark/*bedGra* \\\n",
    "data\n"
   ]
  },
  {
   "cell_type": "code",
   "execution_count": 8,
   "metadata": {
    "ExecuteTime": {
     "end_time": "2018-09-18T22:35:05.889158Z",
     "start_time": "2018-09-18T22:35:05.746415Z"
    }
   },
   "outputs": [
    {
     "name": "stdout",
     "output_type": "stream",
     "text": [
      "1_ATCACG_L001_R1_001_trimmed_bismark_bt2.deduplicated.bedGraph.gz\r\n",
      "2_CGATGT_L001_R1_001_trimmed_bismark_bt2.deduplicated.bedGraph.gz\r\n",
      "3_TTAGGC_L001_R1_001_trimmed_bismark_bt2.deduplicated.bedGraph.gz\r\n",
      "4_TGACCA_L001_R1_001_trimmed_bismark_bt2.deduplicated.bedGraph.gz\r\n",
      "5_ACAGTG_L001_R1_001_trimmed_bismark_bt2.deduplicated.bedGraph.gz\r\n",
      "6_GCCAAT_L001_R1_001_trimmed_bismark_bt2.deduplicated.bedGraph.gz\r\n",
      "7_CAGATC_L001_R1_001_trimmed_bismark_bt2.deduplicated.bedGraph.gz\r\n",
      "8_ACTTGA_L001_R1_001_trimmed_bismark_bt2.deduplicated.bedGraph.gz\r\n"
     ]
    }
   ],
   "source": [
    "ls data"
   ]
  },
  {
   "cell_type": "code",
   "execution_count": 9,
   "metadata": {
    "ExecuteTime": {
     "end_time": "2018-09-18T22:35:18.492205Z",
     "start_time": "2018-09-18T22:35:15.409871Z"
    }
   },
   "outputs": [],
   "source": [
    "!gunzip -k data/*"
   ]
  },
  {
   "cell_type": "code",
   "execution_count": 10,
   "metadata": {
    "ExecuteTime": {
     "end_time": "2018-09-18T22:35:20.551223Z",
     "start_time": "2018-09-18T22:35:20.414851Z"
    }
   },
   "outputs": [
    {
     "name": "stdout",
     "output_type": "stream",
     "text": [
      "1_ATCACG_L001_R1_001_trimmed_bismark_bt2.deduplicated.bedGraph\r\n",
      "1_ATCACG_L001_R1_001_trimmed_bismark_bt2.deduplicated.bedGraph.gz\r\n",
      "2_CGATGT_L001_R1_001_trimmed_bismark_bt2.deduplicated.bedGraph\r\n",
      "2_CGATGT_L001_R1_001_trimmed_bismark_bt2.deduplicated.bedGraph.gz\r\n",
      "3_TTAGGC_L001_R1_001_trimmed_bismark_bt2.deduplicated.bedGraph\r\n",
      "3_TTAGGC_L001_R1_001_trimmed_bismark_bt2.deduplicated.bedGraph.gz\r\n",
      "4_TGACCA_L001_R1_001_trimmed_bismark_bt2.deduplicated.bedGraph\r\n",
      "4_TGACCA_L001_R1_001_trimmed_bismark_bt2.deduplicated.bedGraph.gz\r\n",
      "5_ACAGTG_L001_R1_001_trimmed_bismark_bt2.deduplicated.bedGraph\r\n",
      "5_ACAGTG_L001_R1_001_trimmed_bismark_bt2.deduplicated.bedGraph.gz\r\n",
      "6_GCCAAT_L001_R1_001_trimmed_bismark_bt2.deduplicated.bedGraph\r\n",
      "6_GCCAAT_L001_R1_001_trimmed_bismark_bt2.deduplicated.bedGraph.gz\r\n",
      "7_CAGATC_L001_R1_001_trimmed_bismark_bt2.deduplicated.bedGraph\r\n",
      "7_CAGATC_L001_R1_001_trimmed_bismark_bt2.deduplicated.bedGraph.gz\r\n",
      "8_ACTTGA_L001_R1_001_trimmed_bismark_bt2.deduplicated.bedGraph\r\n",
      "8_ACTTGA_L001_R1_001_trimmed_bismark_bt2.deduplicated.bedGraph.gz\r\n"
     ]
    }
   ],
   "source": [
    "ls data"
   ]
  },
  {
   "cell_type": "code",
   "execution_count": 14,
   "metadata": {
    "ExecuteTime": {
     "end_time": "2018-09-19T18:26:26.643309Z",
     "start_time": "2018-09-19T18:23:58.434121Z"
    }
   },
   "outputs": [],
   "source": [
    "cp /Volumes/web/Athaliana/20180913_oly_WGBSseq_bismark/*sorted.bam \\\n",
    "data"
   ]
  },
  {
   "cell_type": "code",
   "execution_count": 17,
   "metadata": {
    "ExecuteTime": {
     "end_time": "2018-09-19T18:30:28.470475Z",
     "start_time": "2018-09-19T18:29:52.452036Z"
    }
   },
   "outputs": [
    {
     "name": "stdout",
     "output_type": "stream",
     "text": [
      "INFO [2018-09-19 11:30:00,540]  [IgvTools.java:1020] [main]  1000000 reads processed ...\n",
      "1000000 reads processed ...\n",
      "INFO [2018-09-19 11:30:04,599]  [IgvTools.java:1020] [main]  2000000 reads processed ...\n",
      "2000000 reads processed ...\n",
      "INFO [2018-09-19 11:30:10,171]  [IgvTools.java:1020] [main]  3000000 reads processed ...\n",
      "3000000 reads processed ...\n",
      "INFO [2018-09-19 11:30:26,592]  [IgvTools.java:1020] [main]  4000000 reads processed ...\n",
      "4000000 reads processed ...\n",
      "^C\n"
     ]
    }
   ],
   "source": [
    "!/Applications/bioinfo/IGVTools/igvtools \\\n",
    "index data/*bam*"
   ]
  },
  {
   "cell_type": "code",
   "execution_count": 18,
   "metadata": {
    "ExecuteTime": {
     "end_time": "2018-09-19T18:32:14.047095Z",
     "start_time": "2018-09-19T18:31:37.377942Z"
    }
   },
   "outputs": [
    {
     "name": "stdout",
     "output_type": "stream",
     "text": [
      "INFO [2018-09-19 11:31:45,193]  [IgvTools.java:1020] [main]  1000000 reads processed ...\n",
      "1000000 reads processed ...\n",
      "INFO [2018-09-19 11:31:49,002]  [IgvTools.java:1020] [main]  2000000 reads processed ...\n",
      "2000000 reads processed ...\n",
      "INFO [2018-09-19 11:31:52,834]  [IgvTools.java:1020] [main]  3000000 reads processed ...\n",
      "3000000 reads processed ...\n",
      "INFO [2018-09-19 11:32:02,546]  [IgvTools.java:1020] [main]  4000000 reads processed ...\n",
      "4000000 reads processed ...\n",
      "Done\n"
     ]
    }
   ],
   "source": [
    "!/Applications/bioinfo/IGVTools/igvtools \\\n",
    "index /Volumes/web-1/seashell/wd/091918/*.bam"
   ]
  },
  {
   "cell_type": "code",
   "execution_count": 24,
   "metadata": {
    "ExecuteTime": {
     "end_time": "2018-09-19T18:51:41.634101Z",
     "start_time": "2018-09-19T18:51:41.603769Z"
    }
   },
   "outputs": [
    {
     "name": "stdout",
     "output_type": "stream",
     "text": [
      "/Volumes/web-1/seashell/wd/091918/1_ATCACG_L001_R1_001_trimmed_bismark_bt2.deduplicated.sorted.bam\n",
      "/Volumes/web-1/seashell/wd/091918/2_CGATGT_L001_R1_001_trimmed_bismark_bt2.deduplicated.sorted.bam\n",
      "/Volumes/web-1/seashell/wd/091918/3_TTAGGC_L001_R1_001_trimmed_bismark_bt2.deduplicated.sorted.bam\n",
      "/Volumes/web-1/seashell/wd/091918/4_TGACCA_L001_R1_001_trimmed_bismark_bt2.deduplicated.sorted.bam\n",
      "/Volumes/web-1/seashell/wd/091918/5_ACAGTG_L001_R1_001_trimmed_bismark_bt2.deduplicated.sorted.bam\n",
      "/Volumes/web-1/seashell/wd/091918/6_GCCAAT_L001_R1_001_trimmed_bismark_bt2.deduplicated.sorted.bam\n",
      "/Volumes/web-1/seashell/wd/091918/7_CAGATC_L001_R1_001_trimmed_bismark_bt2.deduplicated.sorted.bam\n",
      "/Volumes/web-1/seashell/wd/091918/8_ACTTGA_L001_R1_001_trimmed_bismark_bt2.deduplicated.sorted.bam\n"
     ]
    }
   ],
   "source": [
    "%%bash\n",
    "for f in /Volumes/web-1/seashell/wd/091918/*.bam\n",
    "do\n",
    "echo $f\n",
    "done"
   ]
  },
  {
   "cell_type": "code",
   "execution_count": 26,
   "metadata": {
    "ExecuteTime": {
     "end_time": "2018-09-19T19:00:41.130425Z",
     "start_time": "2018-09-19T18:54:26.608900Z"
    }
   },
   "outputs": [],
   "source": [
    "%%bash\n",
    "for f in /Volumes/web-1/seashell/wd/091918/*.bam\n",
    "do\n",
    "/Applications/bioinfo/bedtools2/bin/genomeCoverageBed \\\n",
    "-ibam $f \\\n",
    "-bg | awk '$4 >= 3' > /Volumes/web-1/seashell/wd/091918/$(basename \"${f}\" _L001_R1_001_trimmed_bismark_bt2.deduplicated.sorted.bam)_3x.bedgraph\n",
    "done"
   ]
  },
  {
   "cell_type": "code",
   "execution_count": 27,
   "metadata": {
    "ExecuteTime": {
     "end_time": "2018-09-19T20:28:29.684874Z",
     "start_time": "2018-09-19T20:23:25.219741Z"
    }
   },
   "outputs": [
    {
     "name": "stdout",
     "output_type": "stream",
     "text": [
      "INFO [2018-09-19 13:23:34,097]  [IgvTools.java:1020] [main]  1000000 reads processed ...\n",
      "1000000 reads processed ...\n",
      "INFO [2018-09-19 13:23:37,307]  [IgvTools.java:1020] [main]  2000000 reads processed ...\n",
      "2000000 reads processed ...\n",
      "INFO [2018-09-19 13:23:41,158]  [IgvTools.java:1020] [main]  3000000 reads processed ...\n",
      "3000000 reads processed ...\n",
      "INFO [2018-09-19 13:23:50,809]  [IgvTools.java:1020] [main]  4000000 reads processed ...\n",
      "4000000 reads processed ...\n",
      "Done\n",
      "INFO [2018-09-19 13:24:09,100]  [IgvTools.java:1020] [main]  1000000 reads processed ...\n",
      "1000000 reads processed ...\n",
      "INFO [2018-09-19 13:24:12,316]  [IgvTools.java:1020] [main]  2000000 reads processed ...\n",
      "2000000 reads processed ...\n",
      "INFO [2018-09-19 13:24:15,349]  [IgvTools.java:1020] [main]  3000000 reads processed ...\n",
      "3000000 reads processed ...\n",
      "INFO [2018-09-19 13:24:19,534]  [IgvTools.java:1020] [main]  4000000 reads processed ...\n",
      "4000000 reads processed ...\n",
      "INFO [2018-09-19 13:24:30,148]  [IgvTools.java:1020] [main]  5000000 reads processed ...\n",
      "5000000 reads processed ...\n",
      "Done\n",
      "INFO [2018-09-19 13:24:47,395]  [IgvTools.java:1020] [main]  1000000 reads processed ...\n",
      "1000000 reads processed ...\n",
      "INFO [2018-09-19 13:24:50,547]  [IgvTools.java:1020] [main]  2000000 reads processed ...\n",
      "2000000 reads processed ...\n",
      "INFO [2018-09-19 13:24:53,566]  [IgvTools.java:1020] [main]  3000000 reads processed ...\n",
      "3000000 reads processed ...\n",
      "INFO [2018-09-19 13:24:57,968]  [IgvTools.java:1020] [main]  4000000 reads processed ...\n",
      "4000000 reads processed ...\n",
      "INFO [2018-09-19 13:25:10,633]  [IgvTools.java:1020] [main]  5000000 reads processed ...\n",
      "5000000 reads processed ...\n",
      "Done\n",
      "INFO [2018-09-19 13:25:25,920]  [IgvTools.java:1020] [main]  1000000 reads processed ...\n",
      "1000000 reads processed ...\n",
      "INFO [2018-09-19 13:25:29,005]  [IgvTools.java:1020] [main]  2000000 reads processed ...\n",
      "2000000 reads processed ...\n",
      "INFO [2018-09-19 13:25:32,080]  [IgvTools.java:1020] [main]  3000000 reads processed ...\n",
      "3000000 reads processed ...\n",
      "INFO [2018-09-19 13:25:36,139]  [IgvTools.java:1020] [main]  4000000 reads processed ...\n",
      "4000000 reads processed ...\n",
      "INFO [2018-09-19 13:25:47,814]  [IgvTools.java:1020] [main]  5000000 reads processed ...\n",
      "5000000 reads processed ...\n",
      "Done\n",
      "INFO [2018-09-19 13:26:03,711]  [IgvTools.java:1020] [main]  1000000 reads processed ...\n",
      "1000000 reads processed ...\n",
      "INFO [2018-09-19 13:26:06,801]  [IgvTools.java:1020] [main]  2000000 reads processed ...\n",
      "2000000 reads processed ...\n",
      "INFO [2018-09-19 13:26:09,710]  [IgvTools.java:1020] [main]  3000000 reads processed ...\n",
      "3000000 reads processed ...\n",
      "INFO [2018-09-19 13:26:13,251]  [IgvTools.java:1020] [main]  4000000 reads processed ...\n",
      "4000000 reads processed ...\n",
      "INFO [2018-09-19 13:26:19,841]  [IgvTools.java:1020] [main]  5000000 reads processed ...\n",
      "5000000 reads processed ...\n",
      "Done\n",
      "INFO [2018-09-19 13:26:41,982]  [IgvTools.java:1020] [main]  1000000 reads processed ...\n",
      "1000000 reads processed ...\n",
      "INFO [2018-09-19 13:26:45,126]  [IgvTools.java:1020] [main]  2000000 reads processed ...\n",
      "2000000 reads processed ...\n",
      "INFO [2018-09-19 13:26:48,121]  [IgvTools.java:1020] [main]  3000000 reads processed ...\n",
      "3000000 reads processed ...\n",
      "INFO [2018-09-19 13:26:51,807]  [IgvTools.java:1020] [main]  4000000 reads processed ...\n",
      "4000000 reads processed ...\n",
      "INFO [2018-09-19 13:26:58,682]  [IgvTools.java:1020] [main]  5000000 reads processed ...\n",
      "5000000 reads processed ...\n",
      "Done\n",
      "INFO [2018-09-19 13:27:20,491]  [IgvTools.java:1020] [main]  1000000 reads processed ...\n",
      "1000000 reads processed ...\n",
      "INFO [2018-09-19 13:27:23,749]  [IgvTools.java:1020] [main]  2000000 reads processed ...\n",
      "2000000 reads processed ...\n",
      "INFO [2018-09-19 13:27:27,105]  [IgvTools.java:1020] [main]  3000000 reads processed ...\n",
      "3000000 reads processed ...\n",
      "INFO [2018-09-19 13:27:32,475]  [IgvTools.java:1020] [main]  4000000 reads processed ...\n",
      "4000000 reads processed ...\n",
      "Done\n",
      "INFO [2018-09-19 13:27:56,196]  [IgvTools.java:1020] [main]  1000000 reads processed ...\n",
      "1000000 reads processed ...\n",
      "INFO [2018-09-19 13:27:59,150]  [IgvTools.java:1020] [main]  2000000 reads processed ...\n",
      "2000000 reads processed ...\n",
      "INFO [2018-09-19 13:28:02,183]  [IgvTools.java:1020] [main]  3000000 reads processed ...\n",
      "3000000 reads processed ...\n",
      "INFO [2018-09-19 13:28:05,324]  [IgvTools.java:1020] [main]  4000000 reads processed ...\n",
      "4000000 reads processed ...\n",
      "INFO [2018-09-19 13:28:09,403]  [IgvTools.java:1020] [main]  5000000 reads processed ...\n",
      "5000000 reads processed ...\n",
      "INFO [2018-09-19 13:28:21,159]  [IgvTools.java:1020] [main]  6000000 reads processed ...\n",
      "6000000 reads processed ...\n",
      "Done\n"
     ]
    }
   ],
   "source": [
    "%%bash\n",
    "for f in /Volumes/web-1/seashell/wd/091918/*.bam\n",
    "do\n",
    "/Applications/bioinfo/IGVTools/igvtools \\\n",
    "index ${f}\n",
    "done"
   ]
  },
  {
   "cell_type": "code",
   "execution_count": null,
   "metadata": {},
   "outputs": [],
   "source": []
  }
 ],
 "metadata": {
  "kernelspec": {
   "display_name": "Python 3",
   "language": "python",
   "name": "python3"
  },
  "language_info": {
   "codemirror_mode": {
    "name": "ipython",
    "version": 3
   },
   "file_extension": ".py",
   "mimetype": "text/x-python",
   "name": "python",
   "nbconvert_exporter": "python",
   "pygments_lexer": "ipython3",
   "version": "3.6.3"
  }
 },
 "nbformat": 4,
 "nbformat_minor": 2
}
