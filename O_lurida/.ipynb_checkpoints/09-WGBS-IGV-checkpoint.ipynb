{
 "cells": [
  {
   "cell_type": "code",
   "execution_count": 7,
   "metadata": {
    "ExecuteTime": {
     "end_time": "2018-09-18T22:34:59.991112Z",
     "start_time": "2018-09-18T22:34:47.445887Z"
    }
   },
   "outputs": [],
   "source": [
    "!cp /Volumes/web-1/Athaliana/20180913_oly_WGBSseq_bismark/*bedGra* \\\n",
    "data\n"
   ]
  },
  {
   "cell_type": "code",
   "execution_count": 8,
   "metadata": {
    "ExecuteTime": {
     "end_time": "2018-09-18T22:35:05.889158Z",
     "start_time": "2018-09-18T22:35:05.746415Z"
    }
   },
   "outputs": [
    {
     "name": "stdout",
     "output_type": "stream",
     "text": [
      "1_ATCACG_L001_R1_001_trimmed_bismark_bt2.deduplicated.bedGraph.gz\r\n",
      "2_CGATGT_L001_R1_001_trimmed_bismark_bt2.deduplicated.bedGraph.gz\r\n",
      "3_TTAGGC_L001_R1_001_trimmed_bismark_bt2.deduplicated.bedGraph.gz\r\n",
      "4_TGACCA_L001_R1_001_trimmed_bismark_bt2.deduplicated.bedGraph.gz\r\n",
      "5_ACAGTG_L001_R1_001_trimmed_bismark_bt2.deduplicated.bedGraph.gz\r\n",
      "6_GCCAAT_L001_R1_001_trimmed_bismark_bt2.deduplicated.bedGraph.gz\r\n",
      "7_CAGATC_L001_R1_001_trimmed_bismark_bt2.deduplicated.bedGraph.gz\r\n",
      "8_ACTTGA_L001_R1_001_trimmed_bismark_bt2.deduplicated.bedGraph.gz\r\n"
     ]
    }
   ],
   "source": [
    "ls data"
   ]
  },
  {
   "cell_type": "code",
   "execution_count": 9,
   "metadata": {
    "ExecuteTime": {
     "end_time": "2018-09-18T22:35:18.492205Z",
     "start_time": "2018-09-18T22:35:15.409871Z"
    }
   },
   "outputs": [],
   "source": [
    "!gunzip -k data/*"
   ]
  },
  {
   "cell_type": "code",
   "execution_count": 10,
   "metadata": {
    "ExecuteTime": {
     "end_time": "2018-09-18T22:35:20.551223Z",
     "start_time": "2018-09-18T22:35:20.414851Z"
    }
   },
   "outputs": [
    {
     "name": "stdout",
     "output_type": "stream",
     "text": [
      "1_ATCACG_L001_R1_001_trimmed_bismark_bt2.deduplicated.bedGraph\r\n",
      "1_ATCACG_L001_R1_001_trimmed_bismark_bt2.deduplicated.bedGraph.gz\r\n",
      "2_CGATGT_L001_R1_001_trimmed_bismark_bt2.deduplicated.bedGraph\r\n",
      "2_CGATGT_L001_R1_001_trimmed_bismark_bt2.deduplicated.bedGraph.gz\r\n",
      "3_TTAGGC_L001_R1_001_trimmed_bismark_bt2.deduplicated.bedGraph\r\n",
      "3_TTAGGC_L001_R1_001_trimmed_bismark_bt2.deduplicated.bedGraph.gz\r\n",
      "4_TGACCA_L001_R1_001_trimmed_bismark_bt2.deduplicated.bedGraph\r\n",
      "4_TGACCA_L001_R1_001_trimmed_bismark_bt2.deduplicated.bedGraph.gz\r\n",
      "5_ACAGTG_L001_R1_001_trimmed_bismark_bt2.deduplicated.bedGraph\r\n",
      "5_ACAGTG_L001_R1_001_trimmed_bismark_bt2.deduplicated.bedGraph.gz\r\n",
      "6_GCCAAT_L001_R1_001_trimmed_bismark_bt2.deduplicated.bedGraph\r\n",
      "6_GCCAAT_L001_R1_001_trimmed_bismark_bt2.deduplicated.bedGraph.gz\r\n",
      "7_CAGATC_L001_R1_001_trimmed_bismark_bt2.deduplicated.bedGraph\r\n",
      "7_CAGATC_L001_R1_001_trimmed_bismark_bt2.deduplicated.bedGraph.gz\r\n",
      "8_ACTTGA_L001_R1_001_trimmed_bismark_bt2.deduplicated.bedGraph\r\n",
      "8_ACTTGA_L001_R1_001_trimmed_bismark_bt2.deduplicated.bedGraph.gz\r\n"
     ]
    }
   ],
   "source": [
    "ls data"
   ]
  },
  {
   "cell_type": "code",
   "execution_count": 11,
   "metadata": {
    "ExecuteTime": {
     "end_time": "2018-09-18T22:35:59.869456Z",
     "start_time": "2018-09-18T22:35:48.114266Z"
    }
   },
   "outputs": [
    {
     "name": "stdout",
     "output_type": "stream",
     "text": [
      "WARN [2018-09-18 15:35:49,825]  [Globals.java:138] [AWT-EventQueue-0]  Development mode is enabled\n",
      "INFO [2018-09-18 15:35:49,866]  [DirectoryManager.java:171] [AWT-EventQueue-0]  IGV Directory: /Users/sr320/igv\n",
      "INFO [2018-09-18 15:35:49,866] [DirectoryManager.java:171]  IGV Directory: /Users/sr320/igv\n",
      "INFO [2018-09-18 15:35:49,869]  [Main.java:154] [AWT-EventQueue-0]  Startup  IGV Version 2.4.9 03/05/2018 01:38 PM\n",
      "INFO [2018-09-18 15:35:49,870]  [Main.java:155] [AWT-EventQueue-0]  Java 9.0.4\n",
      "INFO [2018-09-18 15:35:49,870]  [DirectoryManager.java:76] [AWT-EventQueue-0]  Fetching user directory... \n",
      "INFO [2018-09-18 15:35:50,151]  [Main.java:156] [AWT-EventQueue-0]  Default User Directory: /Users/sr320\n",
      "INFO [2018-09-18 15:35:50,152]  [Main.java:157] [AWT-EventQueue-0]  OS: Mac OS X\n",
      "\n",
      "\n",
      "^C\n",
      "INFO [2018-09-18 15:35:59,233]  [ShutdownThread.java:47] [Thread-1]  Shutting down\n"
     ]
    }
   ],
   "source": []
  },
  {
   "cell_type": "code",
   "execution_count": null,
   "metadata": {},
   "outputs": [],
   "source": []
  }
 ],
 "metadata": {
  "kernelspec": {
   "display_name": "Python 3",
   "language": "python",
   "name": "python3"
  },
  "language_info": {
   "codemirror_mode": {
    "name": "ipython",
    "version": 3
   },
   "file_extension": ".py",
   "mimetype": "text/x-python",
   "name": "python",
   "nbconvert_exporter": "python",
   "pygments_lexer": "ipython3",
   "version": "3.6.3"
  }
 },
 "nbformat": 4,
 "nbformat_minor": 2
}
