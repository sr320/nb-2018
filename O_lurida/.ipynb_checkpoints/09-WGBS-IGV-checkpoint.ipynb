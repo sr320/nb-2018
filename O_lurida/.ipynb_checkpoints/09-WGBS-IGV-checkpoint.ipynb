{
 "cells": [
  {
   "cell_type": "markdown",
   "metadata": {},
   "source": [
    "# Bismark Bedgraphs\n",
    "not using as 1x"
   ]
  },
  {
   "cell_type": "code",
   "execution_count": 7,
   "metadata": {
    "ExecuteTime": {
     "end_time": "2018-09-18T22:34:59.991112Z",
     "start_time": "2018-09-18T22:34:47.445887Z"
    }
   },
   "outputs": [],
   "source": [
    "!cp /Volumes/web-1/Athaliana/20180913_oly_WGBSseq_bismark/*bedGra* \\\n",
    "data\n"
   ]
  },
  {
   "cell_type": "code",
   "execution_count": 8,
   "metadata": {
    "ExecuteTime": {
     "end_time": "2018-09-18T22:35:05.889158Z",
     "start_time": "2018-09-18T22:35:05.746415Z"
    }
   },
   "outputs": [
    {
     "name": "stdout",
     "output_type": "stream",
     "text": [
      "1_ATCACG_L001_R1_001_trimmed_bismark_bt2.deduplicated.bedGraph.gz\r\n",
      "2_CGATGT_L001_R1_001_trimmed_bismark_bt2.deduplicated.bedGraph.gz\r\n",
      "3_TTAGGC_L001_R1_001_trimmed_bismark_bt2.deduplicated.bedGraph.gz\r\n",
      "4_TGACCA_L001_R1_001_trimmed_bismark_bt2.deduplicated.bedGraph.gz\r\n",
      "5_ACAGTG_L001_R1_001_trimmed_bismark_bt2.deduplicated.bedGraph.gz\r\n",
      "6_GCCAAT_L001_R1_001_trimmed_bismark_bt2.deduplicated.bedGraph.gz\r\n",
      "7_CAGATC_L001_R1_001_trimmed_bismark_bt2.deduplicated.bedGraph.gz\r\n",
      "8_ACTTGA_L001_R1_001_trimmed_bismark_bt2.deduplicated.bedGraph.gz\r\n"
     ]
    }
   ],
   "source": [
    "ls data"
   ]
  },
  {
   "cell_type": "code",
   "execution_count": 9,
   "metadata": {
    "ExecuteTime": {
     "end_time": "2018-09-18T22:35:18.492205Z",
     "start_time": "2018-09-18T22:35:15.409871Z"
    }
   },
   "outputs": [],
   "source": [
    "!gunzip -k data/*"
   ]
  },
  {
   "cell_type": "code",
   "execution_count": 10,
   "metadata": {
    "ExecuteTime": {
     "end_time": "2018-09-18T22:35:20.551223Z",
     "start_time": "2018-09-18T22:35:20.414851Z"
    }
   },
   "outputs": [
    {
     "name": "stdout",
     "output_type": "stream",
     "text": [
      "1_ATCACG_L001_R1_001_trimmed_bismark_bt2.deduplicated.bedGraph\r\n",
      "1_ATCACG_L001_R1_001_trimmed_bismark_bt2.deduplicated.bedGraph.gz\r\n",
      "2_CGATGT_L001_R1_001_trimmed_bismark_bt2.deduplicated.bedGraph\r\n",
      "2_CGATGT_L001_R1_001_trimmed_bismark_bt2.deduplicated.bedGraph.gz\r\n",
      "3_TTAGGC_L001_R1_001_trimmed_bismark_bt2.deduplicated.bedGraph\r\n",
      "3_TTAGGC_L001_R1_001_trimmed_bismark_bt2.deduplicated.bedGraph.gz\r\n",
      "4_TGACCA_L001_R1_001_trimmed_bismark_bt2.deduplicated.bedGraph\r\n",
      "4_TGACCA_L001_R1_001_trimmed_bismark_bt2.deduplicated.bedGraph.gz\r\n",
      "5_ACAGTG_L001_R1_001_trimmed_bismark_bt2.deduplicated.bedGraph\r\n",
      "5_ACAGTG_L001_R1_001_trimmed_bismark_bt2.deduplicated.bedGraph.gz\r\n",
      "6_GCCAAT_L001_R1_001_trimmed_bismark_bt2.deduplicated.bedGraph\r\n",
      "6_GCCAAT_L001_R1_001_trimmed_bismark_bt2.deduplicated.bedGraph.gz\r\n",
      "7_CAGATC_L001_R1_001_trimmed_bismark_bt2.deduplicated.bedGraph\r\n",
      "7_CAGATC_L001_R1_001_trimmed_bismark_bt2.deduplicated.bedGraph.gz\r\n",
      "8_ACTTGA_L001_R1_001_trimmed_bismark_bt2.deduplicated.bedGraph\r\n",
      "8_ACTTGA_L001_R1_001_trimmed_bismark_bt2.deduplicated.bedGraph.gz\r\n"
     ]
    }
   ],
   "source": [
    "ls data"
   ]
  },
  {
   "cell_type": "markdown",
   "metadata": {},
   "source": [
    "# Grabing Bismarck Bams to make bed based on Coverage"
   ]
  },
  {
   "cell_type": "code",
   "execution_count": 14,
   "metadata": {
    "ExecuteTime": {
     "end_time": "2018-09-19T18:26:26.643309Z",
     "start_time": "2018-09-19T18:23:58.434121Z"
    }
   },
   "outputs": [],
   "source": [
    "cp /Volumes/web/Athaliana/20180913_oly_WGBSseq_bismark/*sorted.bam \\\n",
    "data"
   ]
  },
  {
   "cell_type": "code",
   "execution_count": 17,
   "metadata": {
    "ExecuteTime": {
     "end_time": "2018-09-19T18:30:28.470475Z",
     "start_time": "2018-09-19T18:29:52.452036Z"
    }
   },
   "outputs": [
    {
     "name": "stdout",
     "output_type": "stream",
     "text": [
      "INFO [2018-09-19 11:30:00,540]  [IgvTools.java:1020] [main]  1000000 reads processed ...\n",
      "1000000 reads processed ...\n",
      "INFO [2018-09-19 11:30:04,599]  [IgvTools.java:1020] [main]  2000000 reads processed ...\n",
      "2000000 reads processed ...\n",
      "INFO [2018-09-19 11:30:10,171]  [IgvTools.java:1020] [main]  3000000 reads processed ...\n",
      "3000000 reads processed ...\n",
      "INFO [2018-09-19 11:30:26,592]  [IgvTools.java:1020] [main]  4000000 reads processed ...\n",
      "4000000 reads processed ...\n",
      "^C\n"
     ]
    }
   ],
   "source": [
    "!/Applications/bioinfo/IGVTools/igvtools \\\n",
    "index data/*bam*"
   ]
  },
  {
   "cell_type": "code",
   "execution_count": 18,
   "metadata": {
    "ExecuteTime": {
     "end_time": "2018-09-19T18:32:14.047095Z",
     "start_time": "2018-09-19T18:31:37.377942Z"
    }
   },
   "outputs": [
    {
     "name": "stdout",
     "output_type": "stream",
     "text": [
      "INFO [2018-09-19 11:31:45,193]  [IgvTools.java:1020] [main]  1000000 reads processed ...\n",
      "1000000 reads processed ...\n",
      "INFO [2018-09-19 11:31:49,002]  [IgvTools.java:1020] [main]  2000000 reads processed ...\n",
      "2000000 reads processed ...\n",
      "INFO [2018-09-19 11:31:52,834]  [IgvTools.java:1020] [main]  3000000 reads processed ...\n",
      "3000000 reads processed ...\n",
      "INFO [2018-09-19 11:32:02,546]  [IgvTools.java:1020] [main]  4000000 reads processed ...\n",
      "4000000 reads processed ...\n",
      "Done\n"
     ]
    }
   ],
   "source": [
    "!/Applications/bioinfo/IGVTools/igvtools \\\n",
    "index /Volumes/web-1/seashell/wd/091918/*.bam"
   ]
  },
  {
   "cell_type": "code",
   "execution_count": 24,
   "metadata": {
    "ExecuteTime": {
     "end_time": "2018-09-19T18:51:41.634101Z",
     "start_time": "2018-09-19T18:51:41.603769Z"
    }
   },
   "outputs": [
    {
     "name": "stdout",
     "output_type": "stream",
     "text": [
      "/Volumes/web-1/seashell/wd/091918/1_ATCACG_L001_R1_001_trimmed_bismark_bt2.deduplicated.sorted.bam\n",
      "/Volumes/web-1/seashell/wd/091918/2_CGATGT_L001_R1_001_trimmed_bismark_bt2.deduplicated.sorted.bam\n",
      "/Volumes/web-1/seashell/wd/091918/3_TTAGGC_L001_R1_001_trimmed_bismark_bt2.deduplicated.sorted.bam\n",
      "/Volumes/web-1/seashell/wd/091918/4_TGACCA_L001_R1_001_trimmed_bismark_bt2.deduplicated.sorted.bam\n",
      "/Volumes/web-1/seashell/wd/091918/5_ACAGTG_L001_R1_001_trimmed_bismark_bt2.deduplicated.sorted.bam\n",
      "/Volumes/web-1/seashell/wd/091918/6_GCCAAT_L001_R1_001_trimmed_bismark_bt2.deduplicated.sorted.bam\n",
      "/Volumes/web-1/seashell/wd/091918/7_CAGATC_L001_R1_001_trimmed_bismark_bt2.deduplicated.sorted.bam\n",
      "/Volumes/web-1/seashell/wd/091918/8_ACTTGA_L001_R1_001_trimmed_bismark_bt2.deduplicated.sorted.bam\n"
     ]
    }
   ],
   "source": [
    "%%bash\n",
    "for f in /Volumes/web-1/seashell/wd/091918/*.bam\n",
    "do\n",
    "echo $f\n",
    "done"
   ]
  },
  {
   "cell_type": "markdown",
   "metadata": {
    "ExecuteTime": {
     "end_time": "2018-09-19T20:47:25.621119Z",
     "start_time": "2018-09-19T20:47:25.606560Z"
    }
   },
   "source": [
    "## Genome Coverage"
   ]
  },
  {
   "cell_type": "code",
   "execution_count": 26,
   "metadata": {
    "ExecuteTime": {
     "end_time": "2018-09-19T19:00:41.130425Z",
     "start_time": "2018-09-19T18:54:26.608900Z"
    }
   },
   "outputs": [],
   "source": [
    "%%bash\n",
    "for f in /Volumes/web-1/seashell/wd/091918/*.bam\n",
    "do\n",
    "/Applications/bioinfo/bedtools2/bin/genomeCoverageBed \\\n",
    "-ibam $f \\\n",
    "-bg | awk '$4 >= 3' > /Volumes/web-1/seashell/wd/091918/$(basename \"${f}\" _L001_R1_001_trimmed_bismark_bt2.deduplicated.sorted.bam)_3x.bedgraph\n",
    "done"
   ]
  },
  {
   "cell_type": "code",
   "execution_count": 27,
   "metadata": {
    "ExecuteTime": {
     "end_time": "2018-09-19T20:28:29.684874Z",
     "start_time": "2018-09-19T20:23:25.219741Z"
    }
   },
   "outputs": [
    {
     "name": "stdout",
     "output_type": "stream",
     "text": [
      "INFO [2018-09-19 13:23:34,097]  [IgvTools.java:1020] [main]  1000000 reads processed ...\n",
      "1000000 reads processed ...\n",
      "INFO [2018-09-19 13:23:37,307]  [IgvTools.java:1020] [main]  2000000 reads processed ...\n",
      "2000000 reads processed ...\n",
      "INFO [2018-09-19 13:23:41,158]  [IgvTools.java:1020] [main]  3000000 reads processed ...\n",
      "3000000 reads processed ...\n",
      "INFO [2018-09-19 13:23:50,809]  [IgvTools.java:1020] [main]  4000000 reads processed ...\n",
      "4000000 reads processed ...\n",
      "Done\n",
      "INFO [2018-09-19 13:24:09,100]  [IgvTools.java:1020] [main]  1000000 reads processed ...\n",
      "1000000 reads processed ...\n",
      "INFO [2018-09-19 13:24:12,316]  [IgvTools.java:1020] [main]  2000000 reads processed ...\n",
      "2000000 reads processed ...\n",
      "INFO [2018-09-19 13:24:15,349]  [IgvTools.java:1020] [main]  3000000 reads processed ...\n",
      "3000000 reads processed ...\n",
      "INFO [2018-09-19 13:24:19,534]  [IgvTools.java:1020] [main]  4000000 reads processed ...\n",
      "4000000 reads processed ...\n",
      "INFO [2018-09-19 13:24:30,148]  [IgvTools.java:1020] [main]  5000000 reads processed ...\n",
      "5000000 reads processed ...\n",
      "Done\n",
      "INFO [2018-09-19 13:24:47,395]  [IgvTools.java:1020] [main]  1000000 reads processed ...\n",
      "1000000 reads processed ...\n",
      "INFO [2018-09-19 13:24:50,547]  [IgvTools.java:1020] [main]  2000000 reads processed ...\n",
      "2000000 reads processed ...\n",
      "INFO [2018-09-19 13:24:53,566]  [IgvTools.java:1020] [main]  3000000 reads processed ...\n",
      "3000000 reads processed ...\n",
      "INFO [2018-09-19 13:24:57,968]  [IgvTools.java:1020] [main]  4000000 reads processed ...\n",
      "4000000 reads processed ...\n",
      "INFO [2018-09-19 13:25:10,633]  [IgvTools.java:1020] [main]  5000000 reads processed ...\n",
      "5000000 reads processed ...\n",
      "Done\n",
      "INFO [2018-09-19 13:25:25,920]  [IgvTools.java:1020] [main]  1000000 reads processed ...\n",
      "1000000 reads processed ...\n",
      "INFO [2018-09-19 13:25:29,005]  [IgvTools.java:1020] [main]  2000000 reads processed ...\n",
      "2000000 reads processed ...\n",
      "INFO [2018-09-19 13:25:32,080]  [IgvTools.java:1020] [main]  3000000 reads processed ...\n",
      "3000000 reads processed ...\n",
      "INFO [2018-09-19 13:25:36,139]  [IgvTools.java:1020] [main]  4000000 reads processed ...\n",
      "4000000 reads processed ...\n",
      "INFO [2018-09-19 13:25:47,814]  [IgvTools.java:1020] [main]  5000000 reads processed ...\n",
      "5000000 reads processed ...\n",
      "Done\n",
      "INFO [2018-09-19 13:26:03,711]  [IgvTools.java:1020] [main]  1000000 reads processed ...\n",
      "1000000 reads processed ...\n",
      "INFO [2018-09-19 13:26:06,801]  [IgvTools.java:1020] [main]  2000000 reads processed ...\n",
      "2000000 reads processed ...\n",
      "INFO [2018-09-19 13:26:09,710]  [IgvTools.java:1020] [main]  3000000 reads processed ...\n",
      "3000000 reads processed ...\n",
      "INFO [2018-09-19 13:26:13,251]  [IgvTools.java:1020] [main]  4000000 reads processed ...\n",
      "4000000 reads processed ...\n",
      "INFO [2018-09-19 13:26:19,841]  [IgvTools.java:1020] [main]  5000000 reads processed ...\n",
      "5000000 reads processed ...\n",
      "Done\n",
      "INFO [2018-09-19 13:26:41,982]  [IgvTools.java:1020] [main]  1000000 reads processed ...\n",
      "1000000 reads processed ...\n",
      "INFO [2018-09-19 13:26:45,126]  [IgvTools.java:1020] [main]  2000000 reads processed ...\n",
      "2000000 reads processed ...\n",
      "INFO [2018-09-19 13:26:48,121]  [IgvTools.java:1020] [main]  3000000 reads processed ...\n",
      "3000000 reads processed ...\n",
      "INFO [2018-09-19 13:26:51,807]  [IgvTools.java:1020] [main]  4000000 reads processed ...\n",
      "4000000 reads processed ...\n",
      "INFO [2018-09-19 13:26:58,682]  [IgvTools.java:1020] [main]  5000000 reads processed ...\n",
      "5000000 reads processed ...\n",
      "Done\n",
      "INFO [2018-09-19 13:27:20,491]  [IgvTools.java:1020] [main]  1000000 reads processed ...\n",
      "1000000 reads processed ...\n",
      "INFO [2018-09-19 13:27:23,749]  [IgvTools.java:1020] [main]  2000000 reads processed ...\n",
      "2000000 reads processed ...\n",
      "INFO [2018-09-19 13:27:27,105]  [IgvTools.java:1020] [main]  3000000 reads processed ...\n",
      "3000000 reads processed ...\n",
      "INFO [2018-09-19 13:27:32,475]  [IgvTools.java:1020] [main]  4000000 reads processed ...\n",
      "4000000 reads processed ...\n",
      "Done\n",
      "INFO [2018-09-19 13:27:56,196]  [IgvTools.java:1020] [main]  1000000 reads processed ...\n",
      "1000000 reads processed ...\n",
      "INFO [2018-09-19 13:27:59,150]  [IgvTools.java:1020] [main]  2000000 reads processed ...\n",
      "2000000 reads processed ...\n",
      "INFO [2018-09-19 13:28:02,183]  [IgvTools.java:1020] [main]  3000000 reads processed ...\n",
      "3000000 reads processed ...\n",
      "INFO [2018-09-19 13:28:05,324]  [IgvTools.java:1020] [main]  4000000 reads processed ...\n",
      "4000000 reads processed ...\n",
      "INFO [2018-09-19 13:28:09,403]  [IgvTools.java:1020] [main]  5000000 reads processed ...\n",
      "5000000 reads processed ...\n",
      "INFO [2018-09-19 13:28:21,159]  [IgvTools.java:1020] [main]  6000000 reads processed ...\n",
      "6000000 reads processed ...\n",
      "Done\n"
     ]
    }
   ],
   "source": [
    "%%bash\n",
    "for f in /Volumes/web-1/seashell/wd/091918/*.bam\n",
    "do\n",
    "/Applications/bioinfo/IGVTools/igvtools \\\n",
    "index ${f}\n",
    "done"
   ]
  },
  {
   "cell_type": "markdown",
   "metadata": {},
   "source": [
    "# Making Bedgraphs based on cov file so that we can get 3x coverage"
   ]
  },
  {
   "cell_type": "code",
   "execution_count": 29,
   "metadata": {
    "ExecuteTime": {
     "end_time": "2018-09-19T20:48:52.245314Z",
     "start_time": "2018-09-19T20:48:47.318042Z"
    }
   },
   "outputs": [],
   "source": [
    "cp /Volumes/web/Athaliana/20180913_oly_WGBSseq_bismark/*cov* \\\n",
    "data"
   ]
  },
  {
   "cell_type": "code",
   "execution_count": 30,
   "metadata": {
    "ExecuteTime": {
     "end_time": "2018-09-19T20:49:46.013532Z",
     "start_time": "2018-09-19T20:49:45.873245Z"
    }
   },
   "outputs": [
    {
     "name": "stdout",
     "output_type": "stream",
     "text": [
      "data/1_ATCACG_L001_R1_001_trimmed_bismark_bt2.deduplicated.bismark.cov\r\n",
      "data/2_CGATGT_L001_R1_001_trimmed_bismark_bt2.deduplicated.bismark.cov\r\n",
      "data/3_TTAGGC_L001_R1_001_trimmed_bismark_bt2.deduplicated.bismark.cov\r\n",
      "data/4_TGACCA_L001_R1_001_trimmed_bismark_bt2.deduplicated.bismark.cov\r\n",
      "data/5_ACAGTG_L001_R1_001_trimmed_bismark_bt2.deduplicated.bismark.cov\r\n",
      "data/6_GCCAAT_L001_R1_001_trimmed_bismark_bt2.deduplicated.bismark.cov\r\n",
      "data/7_CAGATC_L001_R1_001_trimmed_bismark_bt2.deduplicated.bismark.cov\r\n",
      "data/8_ACTTGA_L001_R1_001_trimmed_bismark_bt2.deduplicated.bismark.cov\r\n"
     ]
    }
   ],
   "source": [
    "ls data/*cov"
   ]
  },
  {
   "cell_type": "code",
   "execution_count": 31,
   "metadata": {
    "ExecuteTime": {
     "end_time": "2018-09-19T20:59:45.971633Z",
     "start_time": "2018-09-19T20:58:06.665411Z"
    }
   },
   "outputs": [],
   "source": [
    "%%bash\n",
    "for f in data/*cov\n",
    "do\n",
    "    awk '{print $1, $2-1, $2, $4, $5+$6}' ${f} | awk '{if ($5 >= 3) { print $1, $2-1, $2, $4 }}' \\\n",
    "> /Volumes/web-1/seashell/wd/091918/$(basename \"${f}\" _L001_R1_001_trimmed_bismark_bt2.deduplicated.bismark.cov)_CpG-3x.bedgraph\n",
    "done\n"
   ]
  },
  {
   "cell_type": "markdown",
   "metadata": {},
   "source": [
    "# DML"
   ]
  },
  {
   "cell_type": "code",
   "execution_count": 33,
   "metadata": {
    "ExecuteTime": {
     "end_time": "2018-09-19T21:54:33.411540Z",
     "start_time": "2018-09-19T21:54:33.261920Z"
    }
   },
   "outputs": [
    {
     "name": "stdout",
     "output_type": "stream",
     "text": [
      "\"chr\"\t\"start\"\t\"end\"\t\"strand\"\t\"pvalue\"\t\"qvalue\"\t\"meth.diff\"\r\n",
      "\"111\"\t\"Contig100807\"\t3147\t3147\t\"+\"\t6.06032195959891e-06\t0.00714691524131811\t-55.7142857142857\r\n",
      "\"1054\"\t\"Contig106713\"\t3011\t3011\t\"+\"\t1.70233034607448e-07\t0.000361359336995716\t-52.7462121212121\r\n",
      "\"1055\"\t\"Contig106713\"\t3047\t3047\t\"+\"\t2.96094130073837e-06\t0.00392830549820044\t-48.4520123839009\r\n",
      "\"1395\"\t\"Contig110170\"\t681\t681\t\"+\"\t2.71855056893858e-06\t0.00376353776806841\t45.4545454545455\r\n",
      "\"2389\"\t\"Contig120547\"\t1025\t1025\t\"+\"\t4.86055747366011e-07\t0.000814552686941114\t56.7567567567568\r\n",
      "\"12465\"\t\"Contig26036\"\t17364\t17364\t\"+\"\t4.7481276991435e-06\t0.00581481284878569\t-75\r\n",
      "\"14388\"\t\"Contig30748\"\t20276\t20276\t\"+\"\t9.03566607590854e-08\t0.000205503316802146\t-44.9197860962567\r\n",
      "\"16338\"\t\"Contig35213\"\t68\t68\t\"+\"\t3.42727409112973e-07\t0.000606265746309231\t-46.2081128747795\r\n",
      "\"16340\"\t\"Contig35213\"\t307\t307\t\"+\"\t7.15487778481952e-08\t0.000175244971958799\t-40.531561461794\r\n"
     ]
    }
   ],
   "source": [
    "!head /Users/sr320/Documents/GitHub/paper-oly-wgbs/analyses/myDiff25p.tab"
   ]
  },
  {
   "cell_type": "code",
   "execution_count": 34,
   "metadata": {
    "ExecuteTime": {
     "end_time": "2018-09-19T21:54:45.767729Z",
     "start_time": "2018-09-19T21:54:45.627682Z"
    }
   },
   "outputs": [
    {
     "name": "stdout",
     "output_type": "stream",
     "text": [
      "﻿chr,start,end,strand,pvalue,qvalue,meth.diff\r\n",
      "Contig100807,3147,3147,+,6.06E-06,0.007146915,-55.71428571\r\n",
      "Contig106713,3011,3011,+,1.70E-07,0.000361359,-52.74621212\r\n",
      "Contig106713,3047,3047,+,2.96E-06,0.003928305,-48.45201238\r\n",
      "Contig110170,681,681,+,2.72E-06,0.003763538,45.45454545\r\n",
      "Contig120547,1025,1025,+,4.86E-07,0.000814553,56.75675676\r\n",
      "Contig26036,17364,17364,+,4.75E-06,0.005814813,-75\r\n",
      "Contig30748,20276,20276,+,9.04E-08,0.000205503,-44.9197861\r\n",
      "Contig35213,68,68,+,3.43E-07,0.000606266,-46.20811287\r\n",
      "Contig35213,307,307,+,7.15E-08,0.000175245,-40.53156146\r\n"
     ]
    }
   ],
   "source": [
    "!head /Users/sr320/Documents/GitHub/paper-oly-wgbs/analyses/myDiff25p.csv"
   ]
  },
  {
   "cell_type": "code",
   "execution_count": 41,
   "metadata": {
    "ExecuteTime": {
     "end_time": "2018-09-19T21:59:28.944519Z",
     "start_time": "2018-09-19T21:59:28.811352Z"
    }
   },
   "outputs": [
    {
     "name": "stdout",
     "output_type": "stream",
     "text": [
      "Contig100807 3147 3147 -55.71428571\r\n",
      "Contig106713 3011 3011 -52.74621212\r\n",
      "Contig106713 3047 3047 -48.45201238\r\n",
      "Contig110170 681 681 45.45454545\r\n",
      "Contig120547 1025 1025 56.75675676\r\n",
      "Contig26036 17364 17364 -75\r\n",
      "Contig30748 20276 20276 -44.9197861\r\n",
      "Contig35213 68 68 -46.20811287\r\n",
      "Contig35213 307 307 -40.53156146\r\n",
      "Contig35213 1722 1722 -45.88904694\r\n"
     ]
    }
   ],
   "source": [
    "!awk -F',' '{print $1, $2, $3, $7}' /Users/sr320/Documents/GitHub/paper-oly-wgbs/analyses/myDiff25p.csv | tail -n +2 | head"
   ]
  },
  {
   "cell_type": "code",
   "execution_count": null,
   "metadata": {},
   "outputs": [],
   "source": [
    "!awk -F',' '{print $1, $2, $3, $7}' /Users/sr320/Documents/GitHub/paper-oly-wgbs/analyses/myDiff25p.csv | tail -n +2 | head"
   ]
  }
 ],
 "metadata": {
  "kernelspec": {
   "display_name": "Python 3",
   "language": "python",
   "name": "python3"
  },
  "language_info": {
   "codemirror_mode": {
    "name": "ipython",
    "version": 3
   },
   "file_extension": ".py",
   "mimetype": "text/x-python",
   "name": "python",
   "nbconvert_exporter": "python",
   "pygments_lexer": "ipython3",
   "version": "3.6.3"
  }
 },
 "nbformat": 4,
 "nbformat_minor": 2
}
