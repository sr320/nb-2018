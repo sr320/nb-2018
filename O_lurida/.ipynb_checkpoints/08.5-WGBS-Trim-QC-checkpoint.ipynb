{
 "cells": [
  {
   "cell_type": "markdown",
   "metadata": {
    "deletable": true,
    "editable": true
   },
   "source": [
    "# Checking QC "
   ]
  },
  {
   "cell_type": "code",
   "execution_count": 1,
   "metadata": {
    "ExecuteTime": {
     "end_time": "2018-06-21T15:59:35.338574Z",
     "start_time": "2018-06-21T15:59:35.201638Z"
    },
    "collapsed": false,
    "deletable": true,
    "editable": true
   },
   "outputs": [
    {
     "name": "stdout",
     "output_type": "stream",
     "text": [
      "Thu Jun 21 08:59:35 PDT 2018\r\n"
     ]
    }
   ],
   "source": [
    "!date"
   ]
  },
  {
   "cell_type": "code",
   "execution_count": 4,
   "metadata": {
    "ExecuteTime": {
     "end_time": "2018-06-21T16:00:08.890215Z",
     "start_time": "2018-06-21T16:00:08.755259Z"
    },
    "collapsed": false,
    "deletable": true,
    "editable": true
   },
   "outputs": [
    {
     "name": "stdout",
     "output_type": "stream",
     "text": [
      "total 10331016\r\n",
      "-rw-r--r--@ 1 sr320  staff   503M Jan  8  2016 1_ATCACG_L001_R1_001.fastq.gz\r\n",
      "-rw-r--r--@ 1 sr320  staff   638M Jan  8  2016 2_CGATGT_L001_R1_001.fastq.gz\r\n",
      "-rw-r--r--@ 1 sr320  staff   633M Jan  8  2016 3_TTAGGC_L001_R1_001.fastq.gz\r\n",
      "-rw-r--r--@ 1 sr320  staff   619M Jan  8  2016 4_TGACCA_L001_R1_001.fastq.gz\r\n",
      "-rw-r--r--@ 1 sr320  staff   671M Jan  8  2016 5_ACAGTG_L001_R1_001.fastq.gz\r\n",
      "-rw-r--r--@ 1 sr320  staff   667M Jan  8  2016 6_GCCAAT_L001_R1_001.fastq.gz\r\n",
      "-rw-r--r--@ 1 sr320  staff   549M Jan  8  2016 7_CAGATC_L001_R1_001.fastq.gz\r\n",
      "-rw-r--r--@ 1 sr320  staff   764M Jan  8  2016 8_ACTTGA_L001_R1_001.fastq.gz\r\n"
     ]
    }
   ],
   "source": [
    "!ls -lh /Volumes/Orange_block/wd/18-06-13/data/"
   ]
  },
  {
   "cell_type": "code",
   "execution_count": 8,
   "metadata": {
    "ExecuteTime": {
     "end_time": "2018-06-21T16:47:17.179094Z",
     "start_time": "2018-06-21T16:47:16.933523Z"
    },
    "collapsed": false,
    "deletable": true,
    "editable": true
   },
   "outputs": [
    {
     "name": "stdout",
     "output_type": "stream",
     "text": [
      "This is the source distribution of FastQC.  You need to get the compiled version if you want to run the program\r\n"
     ]
    }
   ],
   "source": [
    "!/Applications/bioinfo/FastQC-0.11.7/fastqc\n"
   ]
  },
  {
   "cell_type": "code",
   "execution_count": 10,
   "metadata": {
    "ExecuteTime": {
     "end_time": "2018-06-21T16:51:41.320676Z",
     "start_time": "2018-06-21T16:51:41.120838Z"
    },
    "collapsed": false,
    "deletable": true,
    "editable": true
   },
   "outputs": [
    {
     "name": "stdout",
     "output_type": "stream",
     "text": [
      "\r\n",
      "            FastQC - A high throughput sequence QC analysis tool\r\n",
      "\r\n",
      "SYNOPSIS\r\n",
      "\r\n",
      "\tfastqc seqfile1 seqfile2 .. seqfileN\r\n",
      "\r\n",
      "    fastqc [-o output dir] [--(no)extract] [-f fastq|bam|sam] \r\n",
      "           [-c contaminant file] seqfile1 .. seqfileN\r\n",
      "\r\n",
      "DESCRIPTION\r\n",
      "\r\n",
      "    FastQC reads a set of sequence files and produces from each one a quality\r\n",
      "    control report consisting of a number of different modules, each one of \r\n",
      "    which will help to identify a different potential type of problem in your\r\n",
      "    data.\r\n",
      "    \r\n",
      "    If no files to process are specified on the command line then the program\r\n",
      "    will start as an interactive graphical application.  If files are provided\r\n",
      "    on the command line then the program will run with no user interaction\r\n",
      "    required.  In this mode it is suitable for inclusion into a standardised\r\n",
      "    analysis pipeline.\r\n",
      "    \r\n",
      "    The options for the program as as follows:\r\n",
      "    \r\n",
      "    -h --help       Print this help file and exit\r\n",
      "    \r\n",
      "    -v --version    Print the version of the program and exit\r\n",
      "    \r\n",
      "    -o --outdir     Create all output files in the specified output directory.\r\n",
      "                    Please note that this directory must exist as the program\r\n",
      "                    will not create it.  If this option is not set then the \r\n",
      "                    output file for each sequence file is created in the same\r\n",
      "                    directory as the sequence file which was processed.\r\n",
      "                    \r\n",
      "    --casava        Files come from raw casava output. Files in the same sample\r\n",
      "                    group (differing only by the group number) will be analysed\r\n",
      "                    as a set rather than individually. Sequences with the filter\r\n",
      "                    flag set in the header will be excluded from the analysis.\r\n",
      "                    Files must have the same names given to them by casava\r\n",
      "                    (including being gzipped and ending with .gz) otherwise they\r\n",
      "                    won't be grouped together correctly.\r\n",
      "                    \r\n",
      "    --nano          Files come from naopore sequences and are in fast5 format. In\r\n",
      "                    this mode you can pass in directories to process and the program\r\n",
      "                    will take in all fast5 files within those directories and produce\r\n",
      "                    a single output file from the sequences found in all files.                    \r\n",
      "                    \r\n",
      "    --nofilter      If running with --casava then don't remove read flagged by\r\n",
      "                    casava as poor quality when performing the QC analysis.\r\n",
      "                   \r\n",
      "    --extract       If set then the zipped output file will be uncompressed in\r\n",
      "                    the same directory after it has been created.  By default\r\n",
      "                    this option will be set if fastqc is run in non-interactive\r\n",
      "                    mode.\r\n",
      "                    \r\n",
      "    -j --java       Provides the full path to the java binary you want to use to\r\n",
      "                    launch fastqc. If not supplied then java is assumed to be in\r\n",
      "                    your path.\r\n",
      "                   \r\n",
      "    --noextract     Do not uncompress the output file after creating it.  You\r\n",
      "                    should set this option if you do not wish to uncompress\r\n",
      "                    the output when running in non-interactive mode.\r\n",
      "                    \r\n",
      "    --nogroup       Disable grouping of bases for reads >50bp. All reports will\r\n",
      "                    show data for every base in the read.  WARNING: Using this\r\n",
      "                    option will cause fastqc to crash and burn if you use it on\r\n",
      "                    really long reads, and your plots may end up a ridiculous size.\r\n",
      "                    You have been warned!\r\n",
      "                    \r\n",
      "    --min_length    Sets an artificial lower limit on the length of the sequence\r\n",
      "                    to be shown in the report.  As long as you set this to a value\r\n",
      "                    greater or equal to your longest read length then this will be\r\n",
      "                    the sequence length used to create your read groups.  This can\r\n",
      "                    be useful for making directly comaparable statistics from \r\n",
      "                    datasets with somewhat variable read lengths.\r\n",
      "                    \r\n",
      "    -f --format     Bypasses the normal sequence file format detection and\r\n",
      "                    forces the program to use the specified format.  Valid\r\n",
      "                    formats are bam,sam,bam_mapped,sam_mapped and fastq\r\n",
      "                    \r\n",
      "    -t --threads    Specifies the number of files which can be processed\r\n",
      "                    simultaneously.  Each thread will be allocated 250MB of\r\n",
      "                    memory so you shouldn't run more threads than your\r\n",
      "                    available memory will cope with, and not more than\r\n",
      "                    6 threads on a 32 bit machine\r\n",
      "                  \r\n",
      "    -c              Specifies a non-default file which contains the list of\r\n",
      "    --contaminants  contaminants to screen overrepresented sequences against.\r\n",
      "                    The file must contain sets of named contaminants in the\r\n",
      "                    form name[tab]sequence.  Lines prefixed with a hash will\r\n",
      "                    be ignored.\r\n",
      "\r\n",
      "    -a              Specifies a non-default file which contains the list of\r\n",
      "    --adapters      adapter sequences which will be explicity searched against\r\n",
      "                    the library. The file must contain sets of named adapters\r\n",
      "                    in the form name[tab]sequence.  Lines prefixed with a hash\r\n",
      "                    will be ignored.\r\n",
      "                    \r\n",
      "    -l              Specifies a non-default file which contains a set of criteria\r\n",
      "    --limits        which will be used to determine the warn/error limits for the\r\n",
      "                    various modules.  This file can also be used to selectively \r\n",
      "                    remove some modules from the output all together.  The format\r\n",
      "                    needs to mirror the default limits.txt file found in the\r\n",
      "                    Configuration folder.\r\n",
      "                    \r\n",
      "   -k --kmers       Specifies the length of Kmer to look for in the Kmer content\r\n",
      "                    module. Specified Kmer length must be between 2 and 10. Default\r\n",
      "                    length is 7 if not specified.\r\n",
      "                    \r\n",
      "   -q --quiet       Supress all progress messages on stdout and only report errors.\r\n",
      "   \r\n",
      "   -d --dir         Selects a directory to be used for temporary files written when\r\n",
      "                    generating report images. Defaults to system temp directory if\r\n",
      "                    not specified.\r\n",
      "                    \r\n",
      "BUGS\r\n",
      "\r\n",
      "    Any bugs in fastqc should be reported either to simon.andrews@babraham.ac.uk\r\n",
      "    or in www.bioinformatics.babraham.ac.uk/bugzilla/\r\n",
      "                   \r\n",
      "    "
     ]
    }
   ],
   "source": [
    "!/Applications/bioinfo/FastQC/fastqc -help"
   ]
  },
  {
   "cell_type": "code",
   "execution_count": 11,
   "metadata": {
    "ExecuteTime": {
     "end_time": "2018-06-21T16:59:33.990285Z",
     "start_time": "2018-06-21T16:53:25.533299Z"
    },
    "collapsed": false,
    "deletable": true,
    "editable": true
   },
   "outputs": [
    {
     "name": "stdout",
     "output_type": "stream",
     "text": [
      "Started analysis of 1_ATCACG_L001_R1_001.fastq.gz\n",
      "Approx 5% complete for 1_ATCACG_L001_R1_001.fastq.gz\n",
      "Approx 10% complete for 1_ATCACG_L001_R1_001.fastq.gz\n",
      "Approx 15% complete for 1_ATCACG_L001_R1_001.fastq.gz\n",
      "Approx 20% complete for 1_ATCACG_L001_R1_001.fastq.gz\n",
      "Approx 25% complete for 1_ATCACG_L001_R1_001.fastq.gz\n",
      "Approx 30% complete for 1_ATCACG_L001_R1_001.fastq.gz\n",
      "Approx 35% complete for 1_ATCACG_L001_R1_001.fastq.gz\n",
      "Approx 40% complete for 1_ATCACG_L001_R1_001.fastq.gz\n",
      "Approx 45% complete for 1_ATCACG_L001_R1_001.fastq.gz\n",
      "Approx 50% complete for 1_ATCACG_L001_R1_001.fastq.gz\n",
      "Approx 55% complete for 1_ATCACG_L001_R1_001.fastq.gz\n",
      "Approx 60% complete for 1_ATCACG_L001_R1_001.fastq.gz\n",
      "Approx 65% complete for 1_ATCACG_L001_R1_001.fastq.gz\n",
      "Approx 70% complete for 1_ATCACG_L001_R1_001.fastq.gz\n",
      "Approx 75% complete for 1_ATCACG_L001_R1_001.fastq.gz\n",
      "Approx 80% complete for 1_ATCACG_L001_R1_001.fastq.gz\n",
      "Approx 85% complete for 1_ATCACG_L001_R1_001.fastq.gz\n",
      "Approx 90% complete for 1_ATCACG_L001_R1_001.fastq.gz\n",
      "Approx 95% complete for 1_ATCACG_L001_R1_001.fastq.gz\n",
      "Analysis complete for 1_ATCACG_L001_R1_001.fastq.gz\n",
      "Started analysis of 2_CGATGT_L001_R1_001.fastq.gz\n",
      "Approx 5% complete for 2_CGATGT_L001_R1_001.fastq.gz\n",
      "Approx 10% complete for 2_CGATGT_L001_R1_001.fastq.gz\n",
      "Approx 15% complete for 2_CGATGT_L001_R1_001.fastq.gz\n",
      "Approx 20% complete for 2_CGATGT_L001_R1_001.fastq.gz\n",
      "Approx 25% complete for 2_CGATGT_L001_R1_001.fastq.gz\n",
      "Approx 30% complete for 2_CGATGT_L001_R1_001.fastq.gz\n",
      "Approx 35% complete for 2_CGATGT_L001_R1_001.fastq.gz\n",
      "Approx 40% complete for 2_CGATGT_L001_R1_001.fastq.gz\n",
      "Approx 45% complete for 2_CGATGT_L001_R1_001.fastq.gz\n",
      "Approx 50% complete for 2_CGATGT_L001_R1_001.fastq.gz\n",
      "Approx 55% complete for 2_CGATGT_L001_R1_001.fastq.gz\n",
      "Approx 60% complete for 2_CGATGT_L001_R1_001.fastq.gz\n",
      "Approx 65% complete for 2_CGATGT_L001_R1_001.fastq.gz\n",
      "Approx 70% complete for 2_CGATGT_L001_R1_001.fastq.gz\n",
      "Approx 75% complete for 2_CGATGT_L001_R1_001.fastq.gz\n",
      "Approx 80% complete for 2_CGATGT_L001_R1_001.fastq.gz\n",
      "Approx 85% complete for 2_CGATGT_L001_R1_001.fastq.gz\n",
      "Approx 90% complete for 2_CGATGT_L001_R1_001.fastq.gz\n",
      "Approx 95% complete for 2_CGATGT_L001_R1_001.fastq.gz\n",
      "Analysis complete for 2_CGATGT_L001_R1_001.fastq.gz\n",
      "Started analysis of 3_TTAGGC_L001_R1_001.fastq.gz\n",
      "Approx 5% complete for 3_TTAGGC_L001_R1_001.fastq.gz\n",
      "Approx 10% complete for 3_TTAGGC_L001_R1_001.fastq.gz\n",
      "Approx 15% complete for 3_TTAGGC_L001_R1_001.fastq.gz\n",
      "Approx 20% complete for 3_TTAGGC_L001_R1_001.fastq.gz\n",
      "Approx 25% complete for 3_TTAGGC_L001_R1_001.fastq.gz\n",
      "Approx 30% complete for 3_TTAGGC_L001_R1_001.fastq.gz\n",
      "Approx 35% complete for 3_TTAGGC_L001_R1_001.fastq.gz\n",
      "Approx 40% complete for 3_TTAGGC_L001_R1_001.fastq.gz\n",
      "Approx 45% complete for 3_TTAGGC_L001_R1_001.fastq.gz\n",
      "Approx 50% complete for 3_TTAGGC_L001_R1_001.fastq.gz\n",
      "Approx 55% complete for 3_TTAGGC_L001_R1_001.fastq.gz\n",
      "Approx 60% complete for 3_TTAGGC_L001_R1_001.fastq.gz\n",
      "Approx 65% complete for 3_TTAGGC_L001_R1_001.fastq.gz\n",
      "Approx 70% complete for 3_TTAGGC_L001_R1_001.fastq.gz\n",
      "Approx 75% complete for 3_TTAGGC_L001_R1_001.fastq.gz\n",
      "Approx 80% complete for 3_TTAGGC_L001_R1_001.fastq.gz\n",
      "Approx 85% complete for 3_TTAGGC_L001_R1_001.fastq.gz\n",
      "Approx 90% complete for 3_TTAGGC_L001_R1_001.fastq.gz\n",
      "Approx 95% complete for 3_TTAGGC_L001_R1_001.fastq.gz\n",
      "Analysis complete for 3_TTAGGC_L001_R1_001.fastq.gz\n",
      "Started analysis of 4_TGACCA_L001_R1_001.fastq.gz\n",
      "Approx 5% complete for 4_TGACCA_L001_R1_001.fastq.gz\n",
      "Approx 10% complete for 4_TGACCA_L001_R1_001.fastq.gz\n",
      "Approx 15% complete for 4_TGACCA_L001_R1_001.fastq.gz\n",
      "Approx 20% complete for 4_TGACCA_L001_R1_001.fastq.gz\n",
      "Approx 25% complete for 4_TGACCA_L001_R1_001.fastq.gz\n",
      "Approx 30% complete for 4_TGACCA_L001_R1_001.fastq.gz\n",
      "Approx 35% complete for 4_TGACCA_L001_R1_001.fastq.gz\n",
      "Approx 40% complete for 4_TGACCA_L001_R1_001.fastq.gz\n",
      "Approx 45% complete for 4_TGACCA_L001_R1_001.fastq.gz\n",
      "Approx 50% complete for 4_TGACCA_L001_R1_001.fastq.gz\n",
      "Approx 55% complete for 4_TGACCA_L001_R1_001.fastq.gz\n",
      "Approx 60% complete for 4_TGACCA_L001_R1_001.fastq.gz\n",
      "Approx 65% complete for 4_TGACCA_L001_R1_001.fastq.gz\n",
      "Approx 70% complete for 4_TGACCA_L001_R1_001.fastq.gz\n",
      "Approx 75% complete for 4_TGACCA_L001_R1_001.fastq.gz\n",
      "Approx 80% complete for 4_TGACCA_L001_R1_001.fastq.gz\n",
      "Approx 85% complete for 4_TGACCA_L001_R1_001.fastq.gz\n",
      "Approx 90% complete for 4_TGACCA_L001_R1_001.fastq.gz\n",
      "Approx 95% complete for 4_TGACCA_L001_R1_001.fastq.gz\n",
      "Analysis complete for 4_TGACCA_L001_R1_001.fastq.gz\n",
      "Started analysis of 5_ACAGTG_L001_R1_001.fastq.gz\n",
      "Approx 5% complete for 5_ACAGTG_L001_R1_001.fastq.gz\n",
      "Approx 10% complete for 5_ACAGTG_L001_R1_001.fastq.gz\n",
      "Approx 15% complete for 5_ACAGTG_L001_R1_001.fastq.gz\n",
      "Approx 20% complete for 5_ACAGTG_L001_R1_001.fastq.gz\n",
      "Approx 25% complete for 5_ACAGTG_L001_R1_001.fastq.gz\n",
      "Approx 30% complete for 5_ACAGTG_L001_R1_001.fastq.gz\n",
      "Approx 35% complete for 5_ACAGTG_L001_R1_001.fastq.gz\n",
      "Approx 40% complete for 5_ACAGTG_L001_R1_001.fastq.gz\n",
      "Approx 45% complete for 5_ACAGTG_L001_R1_001.fastq.gz\n",
      "Approx 50% complete for 5_ACAGTG_L001_R1_001.fastq.gz\n",
      "Approx 55% complete for 5_ACAGTG_L001_R1_001.fastq.gz\n",
      "Approx 60% complete for 5_ACAGTG_L001_R1_001.fastq.gz\n",
      "Approx 65% complete for 5_ACAGTG_L001_R1_001.fastq.gz\n",
      "Approx 70% complete for 5_ACAGTG_L001_R1_001.fastq.gz\n",
      "Approx 75% complete for 5_ACAGTG_L001_R1_001.fastq.gz\n",
      "Approx 80% complete for 5_ACAGTG_L001_R1_001.fastq.gz\n",
      "Approx 85% complete for 5_ACAGTG_L001_R1_001.fastq.gz\n",
      "Approx 90% complete for 5_ACAGTG_L001_R1_001.fastq.gz\n",
      "Approx 95% complete for 5_ACAGTG_L001_R1_001.fastq.gz\n",
      "Analysis complete for 5_ACAGTG_L001_R1_001.fastq.gz\n",
      "Started analysis of 6_GCCAAT_L001_R1_001.fastq.gz\n",
      "Approx 5% complete for 6_GCCAAT_L001_R1_001.fastq.gz\n",
      "Approx 10% complete for 6_GCCAAT_L001_R1_001.fastq.gz\n",
      "Approx 15% complete for 6_GCCAAT_L001_R1_001.fastq.gz\n",
      "Approx 20% complete for 6_GCCAAT_L001_R1_001.fastq.gz\n",
      "Approx 25% complete for 6_GCCAAT_L001_R1_001.fastq.gz\n",
      "Approx 30% complete for 6_GCCAAT_L001_R1_001.fastq.gz\n",
      "Approx 35% complete for 6_GCCAAT_L001_R1_001.fastq.gz\n",
      "Approx 40% complete for 6_GCCAAT_L001_R1_001.fastq.gz\n",
      "Approx 45% complete for 6_GCCAAT_L001_R1_001.fastq.gz\n",
      "Approx 50% complete for 6_GCCAAT_L001_R1_001.fastq.gz\n",
      "Approx 55% complete for 6_GCCAAT_L001_R1_001.fastq.gz\n",
      "Approx 60% complete for 6_GCCAAT_L001_R1_001.fastq.gz\n",
      "Approx 65% complete for 6_GCCAAT_L001_R1_001.fastq.gz\n",
      "Approx 70% complete for 6_GCCAAT_L001_R1_001.fastq.gz\n",
      "Approx 75% complete for 6_GCCAAT_L001_R1_001.fastq.gz\n",
      "Approx 80% complete for 6_GCCAAT_L001_R1_001.fastq.gz\n",
      "Approx 85% complete for 6_GCCAAT_L001_R1_001.fastq.gz\n",
      "Approx 90% complete for 6_GCCAAT_L001_R1_001.fastq.gz\n",
      "Approx 95% complete for 6_GCCAAT_L001_R1_001.fastq.gz\n",
      "Analysis complete for 6_GCCAAT_L001_R1_001.fastq.gz\n",
      "Started analysis of 7_CAGATC_L001_R1_001.fastq.gz\n",
      "Approx 5% complete for 7_CAGATC_L001_R1_001.fastq.gz\n",
      "Approx 10% complete for 7_CAGATC_L001_R1_001.fastq.gz\n",
      "Approx 15% complete for 7_CAGATC_L001_R1_001.fastq.gz\n",
      "Approx 20% complete for 7_CAGATC_L001_R1_001.fastq.gz\n",
      "Approx 25% complete for 7_CAGATC_L001_R1_001.fastq.gz\n",
      "Approx 30% complete for 7_CAGATC_L001_R1_001.fastq.gz\n",
      "Approx 35% complete for 7_CAGATC_L001_R1_001.fastq.gz\n",
      "Approx 40% complete for 7_CAGATC_L001_R1_001.fastq.gz\n",
      "Approx 45% complete for 7_CAGATC_L001_R1_001.fastq.gz\n",
      "Approx 50% complete for 7_CAGATC_L001_R1_001.fastq.gz\n",
      "Approx 55% complete for 7_CAGATC_L001_R1_001.fastq.gz\n",
      "Approx 60% complete for 7_CAGATC_L001_R1_001.fastq.gz\n",
      "Approx 65% complete for 7_CAGATC_L001_R1_001.fastq.gz\n",
      "Approx 70% complete for 7_CAGATC_L001_R1_001.fastq.gz\n",
      "Approx 75% complete for 7_CAGATC_L001_R1_001.fastq.gz\n",
      "Approx 80% complete for 7_CAGATC_L001_R1_001.fastq.gz\n",
      "Approx 85% complete for 7_CAGATC_L001_R1_001.fastq.gz\n",
      "Approx 90% complete for 7_CAGATC_L001_R1_001.fastq.gz\n",
      "Approx 95% complete for 7_CAGATC_L001_R1_001.fastq.gz\n",
      "Analysis complete for 7_CAGATC_L001_R1_001.fastq.gz\n",
      "Started analysis of 8_ACTTGA_L001_R1_001.fastq.gz\n",
      "Approx 5% complete for 8_ACTTGA_L001_R1_001.fastq.gz\n",
      "Approx 10% complete for 8_ACTTGA_L001_R1_001.fastq.gz\n",
      "Approx 15% complete for 8_ACTTGA_L001_R1_001.fastq.gz\n",
      "Approx 20% complete for 8_ACTTGA_L001_R1_001.fastq.gz\n",
      "Approx 25% complete for 8_ACTTGA_L001_R1_001.fastq.gz\n",
      "Approx 30% complete for 8_ACTTGA_L001_R1_001.fastq.gz\n",
      "Approx 35% complete for 8_ACTTGA_L001_R1_001.fastq.gz\n",
      "Approx 40% complete for 8_ACTTGA_L001_R1_001.fastq.gz\n",
      "Approx 45% complete for 8_ACTTGA_L001_R1_001.fastq.gz\n",
      "Approx 50% complete for 8_ACTTGA_L001_R1_001.fastq.gz\n",
      "Approx 55% complete for 8_ACTTGA_L001_R1_001.fastq.gz\n",
      "Approx 60% complete for 8_ACTTGA_L001_R1_001.fastq.gz\n",
      "Approx 65% complete for 8_ACTTGA_L001_R1_001.fastq.gz\n",
      "Approx 70% complete for 8_ACTTGA_L001_R1_001.fastq.gz\n",
      "Approx 75% complete for 8_ACTTGA_L001_R1_001.fastq.gz\n",
      "Approx 80% complete for 8_ACTTGA_L001_R1_001.fastq.gz\n",
      "Approx 85% complete for 8_ACTTGA_L001_R1_001.fastq.gz\n",
      "Approx 90% complete for 8_ACTTGA_L001_R1_001.fastq.gz\n",
      "Approx 95% complete for 8_ACTTGA_L001_R1_001.fastq.gz\n",
      "Analysis complete for 8_ACTTGA_L001_R1_001.fastq.gz\n"
     ]
    }
   ],
   "source": [
    "!/Applications/bioinfo/FastQC/fastqc \\\n",
    "/Volumes/Orange_block/wd/18-06-13/data/* \\\n",
    "-o /Volumes/Orange_block/wd/18-06-21/"
   ]
  },
  {
   "cell_type": "code",
   "execution_count": 12,
   "metadata": {
    "ExecuteTime": {
     "end_time": "2018-06-21T18:58:47.751998Z",
     "start_time": "2018-06-21T18:58:45.544408Z"
    },
    "collapsed": false,
    "deletable": true,
    "editable": true
   },
   "outputs": [
    {
     "name": "stdout",
     "output_type": "stream",
     "text": [
      "Usage: multiQC [OPTIONS] <analysis directory>\r\n",
      "\r\n",
      "  MultiQC aggregates results from bioinformatics analyses across many\r\n",
      "  samples into a single report.\r\n",
      "\r\n",
      "  It searches a given directory for analysis logs and compiles a HTML\r\n",
      "  report. It's a general use tool, perfect for summarising the output from\r\n",
      "  numerous bioinformatics tools.\r\n",
      "\r\n",
      "  To run, supply with one or more directory to scan for analysis results. To\r\n",
      "  run here, use 'multiqc .'\r\n",
      "\r\n",
      "  See http://multiqc.info for more details.\r\n",
      "\r\n",
      "  Author: Phil Ewels (http://phil.ewels.co.uk)\r\n",
      "\r\n",
      "Options:\r\n",
      "  -f, --force                     Overwrite any existing reports\r\n",
      "  -d, --dirs                      Prepend directory to sample names\r\n",
      "  -dd, --dirs-depth INTEGER       Prepend [INT] directories to sample names.\r\n",
      "                                  Negative number to take from start of path.\r\n",
      "  -s, --fullnames                 Do not clean the sample names (leave as full\r\n",
      "                                  file name)\r\n",
      "  -i, --title TEXT                Report title. Printed as page header, used\r\n",
      "                                  for filename if not otherwise specified.\r\n",
      "  -b, --comment TEXT              Custom comment, will be printed at the top\r\n",
      "                                  of the report.\r\n",
      "  -n, --filename TEXT             Report filename. Use 'stdout' to print to\r\n",
      "                                  standard out.\r\n",
      "  -o, --outdir TEXT               Create report in the specified output\r\n",
      "                                  directory.\r\n",
      "  -t, --template [default|default_dev|geo|sections|simple]\r\n",
      "                                  Report template to use.\r\n",
      "  --tag TEXT                      Use only modules which tagged with this\r\n",
      "                                  keyword, eg. RNA\r\n",
      "  --view_tags                     View the available tags and which modules\r\n",
      "                                  they load\r\n",
      "  -x, --ignore TEXT               Ignore analysis files (glob expression)\r\n",
      "  --ignore-samples TEXT           Ignore sample names (glob expression)\r\n",
      "  --sample-names PATH             File containing alternative sample names\r\n",
      "  -l, --file-list                 Supply a file containing a list of file\r\n",
      "                                  paths to be searched, one per row\r\n",
      "  -e, --exclude [module name]     Do not use this module. Can specify multiple\r\n",
      "                                  times.\r\n",
      "  -m, --module [module name]      Use only this module. Can specify multiple\r\n",
      "                                  times.\r\n",
      "  --data-dir                      Force the parsed data directory to be\r\n",
      "                                  created.\r\n",
      "  --no-data-dir                   Prevent the parsed data directory from being\r\n",
      "                                  created.\r\n",
      "  -k, --data-format [tsv|json|yaml]\r\n",
      "                                  Output parsed data in a different format.\r\n",
      "                                  Default: tsv\r\n",
      "  -z, --zip-data-dir              Compress the data directory.\r\n",
      "  -p, --export                    Export plots as static images in addition to\r\n",
      "                                  the report\r\n",
      "  -fp, --flat                     Use only flat plots (static images)\r\n",
      "  -ip, --interactive              Use only interactive plots (HighCharts\r\n",
      "                                  Javascript)\r\n",
      "  --lint                          Use strict linting (validation) to help code\r\n",
      "                                  development\r\n",
      "  --pdf                           Creates PDF report with 'simple' template.\r\n",
      "                                  Requires Pandoc to be installed.\r\n",
      "  -c, --config PATH               Specific config file to load, after those in\r\n",
      "                                  MultiQC dir / home dir / working dir.\r\n",
      "  --cl_config TEXT                Specify MultiQC config YAML on the command\r\n",
      "                                  line\r\n",
      "  -v, --verbose                   Increase output verbosity.\r\n",
      "  -q, --quiet                     Only show log warnings\r\n",
      "  --version                       Show the version and exit.\r\n",
      "  -h, --help                      Show this message and exit.\r\n"
     ]
    }
   ],
   "source": [
    "!multiQC -h"
   ]
  },
  {
   "cell_type": "code",
   "execution_count": 14,
   "metadata": {
    "ExecuteTime": {
     "end_time": "2018-06-21T18:59:21.384475Z",
     "start_time": "2018-06-21T18:59:16.022539Z"
    },
    "collapsed": false,
    "deletable": true,
    "editable": true
   },
   "outputs": [
    {
     "name": "stdout",
     "output_type": "stream",
     "text": [
      "1_ATCACG_L001_R1_001_fastqc.html 5_ACAGTG_L001_R1_001_fastqc.html\r\n",
      "1_ATCACG_L001_R1_001_fastqc.zip  5_ACAGTG_L001_R1_001_fastqc.zip\r\n",
      "2_CGATGT_L001_R1_001_fastqc.html 6_GCCAAT_L001_R1_001_fastqc.html\r\n",
      "2_CGATGT_L001_R1_001_fastqc.zip  6_GCCAAT_L001_R1_001_fastqc.zip\r\n",
      "3_TTAGGC_L001_R1_001_fastqc.html 7_CAGATC_L001_R1_001_fastqc.html\r\n",
      "3_TTAGGC_L001_R1_001_fastqc.zip  7_CAGATC_L001_R1_001_fastqc.zip\r\n",
      "4_TGACCA_L001_R1_001_fastqc.html 8_ACTTGA_L001_R1_001_fastqc.html\r\n",
      "4_TGACCA_L001_R1_001_fastqc.zip  8_ACTTGA_L001_R1_001_fastqc.zip\r\n"
     ]
    }
   ],
   "source": [
    "!ls /Volumes/Orange_block/wd/18-06-21/"
   ]
  },
  {
   "cell_type": "code",
   "execution_count": 15,
   "metadata": {
    "ExecuteTime": {
     "end_time": "2018-06-21T18:59:32.753869Z",
     "start_time": "2018-06-21T18:59:32.714123Z"
    },
    "collapsed": false,
    "deletable": true,
    "editable": true
   },
   "outputs": [
    {
     "name": "stdout",
     "output_type": "stream",
     "text": [
      "/Volumes/Orange_block/wd/18-06-21\n"
     ]
    }
   ],
   "source": [
    "cd /Volumes/Orange_block/wd/18-06-21/"
   ]
  },
  {
   "cell_type": "code",
   "execution_count": 17,
   "metadata": {
    "ExecuteTime": {
     "end_time": "2018-06-21T19:00:34.581200Z",
     "start_time": "2018-06-21T19:00:29.395889Z"
    },
    "collapsed": false,
    "deletable": true,
    "editable": true
   },
   "outputs": [
    {
     "name": "stdout",
     "output_type": "stream",
     "text": [
      "[INFO   ]         multiQC : This is MultiQC v1.5\n",
      "[INFO   ]         multiQC : Template    : default\n",
      "[INFO   ]         multiQC : Searching '/Volumes/Orange_block/wd/18-06-21/'\n",
      "\u001b[?25lSearching 16 files..  [####################################]  100%\u001b[?25h\n",
      "[INFO   ]          fastqc : Found 8 reports\n",
      "[INFO   ]         multiQC : Compressing plot data\n",
      "[INFO   ]         multiQC : Report      : multiqc_report.html\n",
      "[INFO   ]         multiQC : Data        : multiqc_data\n",
      "[INFO   ]         multiQC : MultiQC complete\n"
     ]
    }
   ],
   "source": [
    "!multiQC \\\n",
    "-o /Volumes/Orange_block/wd/18-06-21/ \\\n",
    "/Volumes/Orange_block/wd/18-06-21/\n"
   ]
  },
  {
   "cell_type": "code",
   "execution_count": 20,
   "metadata": {
    "ExecuteTime": {
     "end_time": "2018-06-21T19:00:57.362037Z",
     "start_time": "2018-06-21T19:00:57.097029Z"
    },
    "collapsed": true,
    "deletable": true,
    "editable": true
   },
   "outputs": [],
   "source": [
    "!open multiqc_report.html"
   ]
  },
  {
   "cell_type": "code",
   "execution_count": 21,
   "metadata": {
    "ExecuteTime": {
     "end_time": "2018-06-21T19:05:43.840197Z",
     "start_time": "2018-06-21T19:05:37.332406Z"
    },
    "collapsed": false,
    "deletable": true,
    "editable": true
   },
   "outputs": [
    {
     "name": "stdout",
     "output_type": "stream",
     "text": [
      "[INFO   ]         multiQC : This is MultiQC v1.5\n",
      "[INFO   ]         multiQC : Template    : default\n",
      "[INFO   ]         multiQC : Searching '/Volumes/Orange_block/wd/18-06-13'\n",
      "\u001b[?25lSearching 198 files..  [####################################]  100%             \u001b[?25h\n",
      "[INFO   ]         bismark : Found 8 bismark alignment reports\n",
      "[INFO   ]         bismark : Found 8 bismark dedup reports\n",
      "[INFO   ]         bismark : Found 8 bismark methextract reports\n",
      "[INFO   ]         multiQC : Compressing plot data\n",
      "[WARNING]         multiQC : Previous MultiQC output found! Adjusting filenames..\n",
      "[WARNING]         multiQC : Use -f or --force to overwrite existing reports instead\n",
      "[INFO   ]         multiQC : Report      : multiqc_report_1.html\n",
      "[INFO   ]         multiQC : Data        : multiqc_data_1\n",
      "[INFO   ]         multiQC : MultiQC complete\n"
     ]
    }
   ],
   "source": [
    "!multiQC \\\n",
    "-o /Volumes/Orange_block/wd/18-06-21/ \\\n",
    "/Volumes/Orange_block/wd/18-06-13"
   ]
  },
  {
   "cell_type": "code",
   "execution_count": 22,
   "metadata": {
    "ExecuteTime": {
     "end_time": "2018-06-21T19:05:48.487502Z",
     "start_time": "2018-06-21T19:05:48.345440Z"
    },
    "collapsed": false,
    "deletable": true,
    "editable": true
   },
   "outputs": [
    {
     "name": "stdout",
     "output_type": "stream",
     "text": [
      "1_ATCACG_L001_R1_001_fastqc.html  6_GCCAAT_L001_R1_001_fastqc.html\r\n",
      "1_ATCACG_L001_R1_001_fastqc.zip   6_GCCAAT_L001_R1_001_fastqc.zip\r\n",
      "2_CGATGT_L001_R1_001_fastqc.html  7_CAGATC_L001_R1_001_fastqc.html\r\n",
      "2_CGATGT_L001_R1_001_fastqc.zip   7_CAGATC_L001_R1_001_fastqc.zip\r\n",
      "3_TTAGGC_L001_R1_001_fastqc.html  8_ACTTGA_L001_R1_001_fastqc.html\r\n",
      "3_TTAGGC_L001_R1_001_fastqc.zip   8_ACTTGA_L001_R1_001_fastqc.zip\r\n",
      "4_TGACCA_L001_R1_001_fastqc.html  \u001b[34mmultiqc_data\u001b[m\u001b[m/\r\n",
      "4_TGACCA_L001_R1_001_fastqc.zip   \u001b[34mmultiqc_data_1\u001b[m\u001b[m/\r\n",
      "5_ACAGTG_L001_R1_001_fastqc.html  multiqc_report.html\r\n",
      "5_ACAGTG_L001_R1_001_fastqc.zip   multiqc_report_1.html\r\n"
     ]
    }
   ],
   "source": [
    "ls"
   ]
  },
  {
   "cell_type": "code",
   "execution_count": 24,
   "metadata": {
    "ExecuteTime": {
     "end_time": "2018-06-21T19:05:58.934370Z",
     "start_time": "2018-06-21T19:05:58.678640Z"
    },
    "collapsed": true,
    "deletable": true,
    "editable": true
   },
   "outputs": [],
   "source": [
    "!open multiqc_report_1.html\n"
   ]
  },
  {
   "cell_type": "code",
   "execution_count": null,
   "metadata": {
    "collapsed": true,
    "deletable": true,
    "editable": true
   },
   "outputs": [],
   "source": []
  }
 ],
 "metadata": {
  "kernelspec": {
   "display_name": "Python 2",
   "language": "python",
   "name": "python2"
  },
  "language_info": {
   "codemirror_mode": {
    "name": "ipython",
    "version": 2
   },
   "file_extension": ".py",
   "mimetype": "text/x-python",
   "name": "python",
   "nbconvert_exporter": "python",
   "pygments_lexer": "ipython2",
   "version": "2.7.12"
  }
 },
 "nbformat": 4,
 "nbformat_minor": 2
}
