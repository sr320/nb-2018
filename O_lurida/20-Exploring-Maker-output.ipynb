{
 "cells": [
  {
   "cell_type": "code",
   "execution_count": 1,
   "metadata": {
    "ExecuteTime": {
     "end_time": "2018-10-10T18:52:05.520696Z",
     "start_time": "2018-10-10T18:52:05.505383Z"
    }
   },
   "outputs": [
    {
     "name": "stdout",
     "output_type": "stream",
     "text": [
      "/Users/sr320/Desktop\n"
     ]
    }
   ],
   "source": [
    "cd /Users/sr320/Desktop/"
   ]
  },
  {
   "cell_type": "code",
   "execution_count": 2,
   "metadata": {
    "ExecuteTime": {
     "end_time": "2018-10-10T18:53:08.072203Z",
     "start_time": "2018-10-10T18:52:10.770881Z"
    }
   },
   "outputs": [
    {
     "name": "stdout",
     "output_type": "stream",
     "text": [
      "  % Total    % Received % Xferd  Average Speed   Time    Time     Time  Current\n",
      "                                 Dload  Upload   Total   Spent    Left  Speed\n",
      "100 1035M  100 1035M    0     0  18.1M      0  0:00:57  0:00:57 --:--:-- 3175k  0     0  5125k      0  0:03:26  0:00:04  0:03:22 4886k\n"
     ]
    }
   ],
   "source": [
    "!curl -O http://owl.fish.washington.edu/Athaliana/20180807_wqmaker_run_oly_02/Olurida_v081.all.gff"
   ]
  },
  {
   "cell_type": "code",
   "execution_count": 5,
   "metadata": {
    "ExecuteTime": {
     "end_time": "2018-08-24T15:28:57.909915Z",
     "start_time": "2018-08-24T15:28:57.773582Z"
    }
   },
   "outputs": [
    {
     "name": "stdout",
     "output_type": "stream",
     "text": [
      "##gff-version 3\r\n",
      "Contig56127\t.\tcontig\t1\t12532\t.\t.\t.\tID=Contig56127;Name=Contig56127\r\n",
      "###\r\n",
      "Contig56127\trepeatmasker\tmatch\t11017\t11050\t14\t+\t.\tID=Contig56127:hit:92:1.3.0.0;Name=species:%28TTTG%29n|genus:Simple_repeat;Target=species:%28TTTG%29n|genus:Simple_repeat 1 35 +\r\n",
      "Contig56127\trepeatmasker\tmatch_part\t11017\t11050\t14\t+\t.\tID=Contig56127:hsp:189:1.3.0.0;Parent=Contig56127:hit:92:1.3.0.0;Target=species:%2528TTTG%2529n|genus:Simple_repeat 1 35 +\r\n",
      "Contig56127\trepeatmasker\tmatch\t5198\t5224\t12\t+\t.\tID=Contig56127:hit:93:1.3.0.0;Name=species:%28ACAA%29n|genus:Simple_repeat;Target=species:%28ACAA%29n|genus:Simple_repeat 1 28 +\r\n",
      "Contig56127\trepeatmasker\tmatch_part\t5198\t5224\t12\t+\t.\tID=Contig56127:hsp:190:1.3.0.0;Parent=Contig56127:hit:93:1.3.0.0;Target=species:%2528ACAA%2529n|genus:Simple_repeat 1 28 +\r\n",
      "Contig56127\trepeatmasker\tmatch\t11011\t11016\t15\t+\t.\tID=Contig56127:hit:94:1.3.0.0;Name=species:%28TGAGTTTG%29n|genus:Simple_repeat;Target=species:%28TGAGTTTG%29n|genus:Simple_repeat 1 40 +\r\n",
      "Contig56127\trepeatmasker\tmatch_part\t11011\t11016\t15\t+\t.\tID=Contig56127:hsp:191:1.3.0.0;Parent=Contig56127:hit:94:1.3.0.0;Target=species:%2528TGAGTTTG%2529n|genus:Simple_repeat 1 40 +\r\n",
      "###\r\n"
     ]
    }
   ],
   "source": [
    "!head Olurida_v081.all.gff"
   ]
  },
  {
   "cell_type": "code",
   "execution_count": 6,
   "metadata": {
    "ExecuteTime": {
     "end_time": "2018-08-24T15:29:20.226203Z",
     "start_time": "2018-08-24T15:29:18.952930Z"
    }
   },
   "outputs": [
    {
     "name": "stdout",
     "output_type": "stream",
     "text": [
      " 7128365 Olurida_v081.all.gff\r\n"
     ]
    }
   ],
   "source": [
    "!wc -l Olurida_v081.all.gff"
   ]
  },
  {
   "cell_type": "code",
   "execution_count": 7,
   "metadata": {
    "ExecuteTime": {
     "end_time": "2018-08-24T15:32:44.842413Z",
     "start_time": "2018-08-24T15:31:11.318966Z"
    }
   },
   "outputs": [
    {
     "name": "stdout",
     "output_type": "stream",
     "text": [
      "238668 ###\r\n",
      "   1 ##gff-version 3\r\n",
      "150262 .\r\n",
      "893927 blastn\r\n",
      "3171884 blastx\r\n",
      "834689 est2genome\r\n",
      "1233044 protein2genome\r\n",
      "599982 repeatmasker\r\n",
      "5908 repeatrunner\r\n"
     ]
    }
   ],
   "source": [
    "!cut -f2 Olurida_v081.all.gff | sort | uniq -c | head\n",
    "\n"
   ]
  },
  {
   "cell_type": "code",
   "execution_count": 8,
   "metadata": {
    "ExecuteTime": {
     "end_time": "2018-08-24T15:33:43.748618Z",
     "start_time": "2018-08-24T15:33:33.956376Z"
    }
   },
   "outputs": [
    {
     "name": "stdout",
     "output_type": "stream",
     "text": [
      "Contig81695\tblastn\texpressed_sequence_match\t2936\t4689\t200\t-\t.\tID=Contig81695:hit:14:3.2.0.0;Name=comp40226_c1_seq2\r\n",
      "Contig81695\tblastn\tmatch_part\t4150\t4689\t200\t-\t.\tID=Contig81695:hsp:14:3.2.0.0;Parent=Contig81695:hit:14:3.2.0.0;Target=comp40226_c1_seq2 280 820 +;Gap=M51 I1 M489\r\n",
      "Contig81695\tblastn\tmatch_part\t3861\t3904\t34\t-\t.\tID=Contig81695:hsp:15:3.2.0.0;Parent=Contig81695:hit:14:3.2.0.0;Target=comp40226_c1_seq2 994 1038 +;Gap=M15 I1 M29\r\n",
      "Contig81695\tblastn\tmatch_part\t2936\t3803\t463\t-\t.\tID=Contig81695:hsp:16:3.2.0.0;Parent=Contig81695:hit:14:3.2.0.0;Target=comp40226_c1_seq2 1073 1934 +;Gap=M683 D1 M6 D2 M1 D3 M172\r\n",
      "Contig81695\tblastn\texpressed_sequence_match\t22443\t22705\t46\t+\t.\tID=Contig81695:hit:15:3.2.0.0;Name=comp41760_c0_seq22\r\n",
      "Contig81695\tblastn\tmatch_part\t22443\t22514\t46\t+\t.\tID=Contig81695:hsp:17:3.2.0.0;Parent=Contig81695:hit:15:3.2.0.0;Target=comp41760_c0_seq22 21 93 +;Gap=M35 D1 M4 I2 M32\r\n",
      "Contig81695\tblastn\tmatch_part\t22636\t22705\t38\t+\t.\tID=Contig81695:hsp:18:3.2.0.0;Parent=Contig81695:hit:15:3.2.0.0;Target=comp41760_c0_seq22 77 145 +;Gap=M31 I1 M8 D1 M4 D1 M25\r\n",
      "Contig81695\tblastn\texpressed_sequence_match\t22443\t22705\t46\t+\t.\tID=Contig81695:hit:16:3.2.0.0;Name=comp41760_c0_seq28\r\n",
      "Contig81695\tblastn\tmatch_part\t22443\t22514\t46\t+\t.\tID=Contig81695:hsp:19:3.2.0.0;Parent=Contig81695:hit:16:3.2.0.0;Target=comp41760_c0_seq28 25 97 +;Gap=M35 D1 M4 I2 M32\r\n",
      "Contig81695\tblastn\tmatch_part\t22636\t22705\t38\t+\t.\tID=Contig81695:hsp:20:3.2.0.0;Parent=Contig81695:hit:16:3.2.0.0;Target=comp41760_c0_seq28 81 149 +;Gap=M31 I1 M8 D1 M4 D1 M25\r\n"
     ]
    }
   ],
   "source": [
    "!grep \"blastn\" Olurida_v081.all.gff | head"
   ]
  },
  {
   "cell_type": "code",
   "execution_count": 14,
   "metadata": {
    "ExecuteTime": {
     "end_time": "2018-08-24T16:08:58.971256Z",
     "start_time": "2018-08-24T16:08:48.531143Z"
    }
   },
   "outputs": [
    {
     "name": "stdout",
     "output_type": "stream",
     "text": [
      "  893927\r\n"
     ]
    }
   ],
   "source": [
    "!grep \"blastn\" Olurida_v081.all.gff | wc -l "
   ]
  },
  {
   "cell_type": "code",
   "execution_count": 37,
   "metadata": {
    "ExecuteTime": {
     "end_time": "2018-08-24T16:50:23.220458Z",
     "start_time": "2018-08-24T16:50:13.476003Z"
    }
   },
   "outputs": [],
   "source": [
    "!grep \"blastn\" Olurida_v081.all.gff \\\n",
    "> Olurida_v081.blastn.gff"
   ]
  },
  {
   "cell_type": "code",
   "execution_count": 9,
   "metadata": {
    "ExecuteTime": {
     "end_time": "2018-08-24T15:34:33.367585Z",
     "start_time": "2018-08-24T15:34:27.137666Z"
    }
   },
   "outputs": [
    {
     "name": "stdout",
     "output_type": "stream",
     "text": [
      "Contig81695\tblastx\tprotein_match\t2932\t4642\t691\t+\t.\tID=Contig81695:hit:20:3.10.0.0;Name=XP_022311421.1\r\n",
      "Contig81695\tblastx\tmatch_part\t2932\t4020\t691\t+\t.\tID=Contig81695:hsp:28:3.10.0.0;Parent=Contig81695:hit:20:3.10.0.0;Target=XP_022311421.1 1 358;Gap=M90 I1 M190 I2 M19 D8 M56\r\n",
      "Contig81695\tblastx\tmatch_part\t4136\t4642\t537\t+\t.\tID=Contig81695:hsp:29:3.10.0.0;Parent=Contig81695:hit:20:3.10.0.0;Target=XP_022311421.1 374 544;Gap=M37 I2 M132\r\n",
      "Contig81695\tblastx\tprotein_match\t2992\t4642\t653\t+\t.\tID=Contig81695:hit:21:3.10.0.0;Name=XP_022312181.1\r\n",
      "Contig81695\tblastx\tmatch_part\t2992\t4020\t653\t+\t.\tID=Contig81695:hsp:30:3.10.0.0;Parent=Contig81695:hit:21:3.10.0.0;Target=XP_022312181.1 12 349;Gap=M71 I1 M189 I2 M30 D2 M8 D6 M37\r\n",
      "Contig81695\tblastx\tmatch_part\t4027\t4149\t137\t+\t.\tID=Contig81695:hsp:31:3.10.0.0;Parent=Contig81695:hit:21:3.10.0.0;Target=XP_022312181.1 425 469;Gap=M22 I4 M19\r\n",
      "Contig81695\tblastx\tmatch_part\t4136\t4642\t567\t+\t.\tID=Contig81695:hsp:32:3.10.0.0;Parent=Contig81695:hit:21:3.10.0.0;Target=XP_022312181.1 365 535;Gap=M37 I2 M132\r\n",
      "Contig81695\tblastx\tprotein_match\t2923\t4642\t745\t+\t.\tID=Contig81695:hit:22:3.10.0.0;Name=EKC21909.1\r\n",
      "Contig81695\tblastx\tmatch_part\t2923\t4020\t745\t+\t.\tID=Contig81695:hsp:33:3.10.0.0;Parent=Contig81695:hit:22:3.10.0.0;Target=EKC21909.1 102 461;Gap=M7 I1 M270 I1 M19 D13 M15 I3 M2 I2 M40\r\n",
      "Contig81695\tblastx\tmatch_part\t4136\t4642\t447\t+\t.\tID=Contig81695:hsp:34:3.10.0.0;Parent=Contig81695:hit:22:3.10.0.0;Target=EKC21909.1 477 643;Gap=M28 D1 M3 D1 M136\r\n"
     ]
    }
   ],
   "source": [
    "!grep \"blastx\" Olurida_v081.all.gff | head"
   ]
  },
  {
   "cell_type": "code",
   "execution_count": 16,
   "metadata": {
    "ExecuteTime": {
     "end_time": "2018-08-24T16:12:20.420928Z",
     "start_time": "2018-08-24T16:12:13.496253Z"
    }
   },
   "outputs": [],
   "source": [
    "!grep \"blastx\" Olurida_v081.all.gff \\\n",
    "> Olurida_v081.blastx.gff"
   ]
  },
  {
   "cell_type": "code",
   "execution_count": 10,
   "metadata": {
    "ExecuteTime": {
     "end_time": "2018-08-24T15:35:01.874086Z",
     "start_time": "2018-08-24T15:34:48.913547Z"
    }
   },
   "outputs": [
    {
     "name": "stdout",
     "output_type": "stream",
     "text": [
      "Contig81695\test2genome\texpressed_sequence_match\t2928\t5072\t6634\t-\t.\tID=Contig81695:hit:17:3.2.0.0;Name=comp40226_c1_seq2\r\n",
      "Contig81695\test2genome\tmatch_part\t4986\t5072\t6634\t-\t.\tID=Contig81695:hsp:21:3.2.0.0;Parent=Contig81695:hit:17:3.2.0.0;Target=comp40226_c1_seq2 124 212 +;Gap=M46 I2 M41\r\n",
      "Contig81695\test2genome\tmatch_part\t4905\t4959\t6634\t-\t.\tID=Contig81695:hsp:22:3.2.0.0;Parent=Contig81695:hit:17:3.2.0.0;Target=comp40226_c1_seq2 213 260 +;Gap=M6 D2 M5 D4 M5 D3 M4 I1 M14 I1 M12\r\n",
      "Contig81695\test2genome\tmatch_part\t4096\t4708\t6634\t-\t.\tID=Contig81695:hsp:23:3.2.0.0;Parent=Contig81695:hit:17:3.2.0.0;Target=comp40226_c1_seq2 261 870 +;Gap=M70 I1 M488 D3 M9 I1 M9 D3 M11 I1 M7 D1 M8 I1 M4\r\n",
      "Contig81695\test2genome\tmatch_part\t3841\t4028\t6634\t-\t.\tID=Contig81695:hsp:24:3.2.0.0;Parent=Contig81695:hit:17:3.2.0.0;Target=comp40226_c1_seq2 871 1060 +;Gap=M7 I1 M38 D1 M8 I1 M35 I1 M9 D1 M8 D1 M11 D1 M19 I1 M33 I1 M5 I1 M11\r\n",
      "Contig81695\test2genome\tmatch_part\t2928\t3815\t6634\t-\t.\tID=Contig81695:hsp:25:3.2.0.0;Parent=Contig81695:hit:17:3.2.0.0;Target=comp40226_c1_seq2 1061 1942 +;Gap=M693 D1 M4 D3 M4 D2 M181\r\n",
      "Contig81695\test2genome\texpressed_sequence_match\t22439\t22614\t594\t+\t.\tID=Contig81695:hit:18:3.2.0.0;Name=comp41760_c0_seq22\r\n",
      "Contig81695\test2genome\tmatch_part\t22439\t22614\t594\t+\t.\tID=Contig81695:hsp:26:3.2.0.0;Parent=Contig81695:hit:18:3.2.0.0;Target=comp41760_c0_seq22 17 196 +;Gap=M39 D1 M4 I2 M31 I1 M14 I1 M7 I2 M15 D1 M4 I1 M4 I1 M15 I1 M13 D1 M13 D2 M12\r\n",
      "Contig81695\test2genome\texpressed_sequence_match\t22427\t22614\t602\t+\t.\tID=Contig81695:hit:19:3.2.0.0;Name=comp41760_c0_seq28\r\n",
      "Contig81695\test2genome\tmatch_part\t22427\t22614\t602\t+\t.\tID=Contig81695:hsp:27:3.2.0.0;Parent=Contig81695:hit:19:3.2.0.0;Target=comp41760_c0_seq28 12 200 +;Gap=M4 D1 M6 D2 M38 D1 M4 I2 M31 I1 M14 I1 M7 I2 M15 D1 M4 I1 M4 I1 M15 I1 M13 D1 M13 D2 M12\r\n"
     ]
    }
   ],
   "source": [
    "!grep \"est2genome\" Olurida_v081.all.gff | head"
   ]
  },
  {
   "cell_type": "code",
   "execution_count": 17,
   "metadata": {
    "ExecuteTime": {
     "end_time": "2018-08-24T16:12:41.024519Z",
     "start_time": "2018-08-24T16:12:27.980320Z"
    }
   },
   "outputs": [],
   "source": [
    "!grep \"est2genome\" Olurida_v081.all.gff \\\n",
    "> Olurida_v081.est2genome.gff"
   ]
  },
  {
   "cell_type": "code",
   "execution_count": 11,
   "metadata": {
    "ExecuteTime": {
     "end_time": "2018-08-24T15:35:22.816612Z",
     "start_time": "2018-08-24T15:35:08.238994Z"
    }
   },
   "outputs": [
    {
     "name": "stdout",
     "output_type": "stream",
     "text": [
      "Contig81695\tprotein2genome\tprotein_match\t2932\t3816\t655\t+\t.\tID=Contig81695:hit:362:3.10.0.0;Name=XP_022311421.1\r\n",
      "Contig81695\tprotein2genome\tmatch_part\t2932\t3816\t655\t+\t.\tID=Contig81695:hsp:626:3.10.0.0;Parent=Contig81695:hit:362:3.10.0.0;Target=XP_022311421.1 1 298;Gap=M90 I1 M190 I2 M15\r\n",
      "Contig81695\tprotein2genome\tprotein_match\t2992\t3816\t601\t+\t.\tID=Contig81695:hit:363:3.10.0.0;Name=XP_022312181.1\r\n",
      "Contig81695\tprotein2genome\tmatch_part\t2992\t3816\t601\t+\t.\tID=Contig81695:hsp:627:3.10.0.0;Parent=Contig81695:hit:363:3.10.0.0;Target=XP_022312181.1 12 289;Gap=M71 I1 M189 I2 M15\r\n",
      "Contig81695\tprotein2genome\tprotein_match\t2932\t3768\t632\t+\t.\tID=Contig81695:hit:364:3.10.0.0;Name=XP_022303201.1\r\n",
      "Contig81695\tprotein2genome\tmatch_part\t2932\t3768\t632\t+\t.\tID=Contig81695:hsp:628:3.10.0.0;Parent=Contig81695:hit:364:3.10.0.0;Target=XP_022303201.1 1 279;Gap=M279\r\n",
      "Contig81695\tprotein2genome\tprotein_match\t2932\t3768\t627\t+\t.\tID=Contig81695:hit:365:3.10.0.0;Name=XP_022304731.1\r\n",
      "Contig81695\tprotein2genome\tmatch_part\t2932\t3768\t627\t+\t.\tID=Contig81695:hsp:629:3.10.0.0;Parent=Contig81695:hit:365:3.10.0.0;Target=XP_022304731.1 1 279;Gap=M279\r\n",
      "Contig81695\tprotein2genome\tprotein_match\t2965\t3813\t697\t+\t.\tID=Contig81695:hit:366:3.10.0.0;Name=XP_022297561.1\r\n",
      "Contig81695\tprotein2genome\tmatch_part\t2965\t3813\t697\t+\t.\tID=Contig81695:hsp:630:3.10.0.0;Parent=Contig81695:hit:366:3.10.0.0;Target=XP_022297561.1 14 296;Gap=M283\r\n"
     ]
    }
   ],
   "source": [
    "!grep \"protein2genome\" Olurida_v081.all.gff | head"
   ]
  },
  {
   "cell_type": "code",
   "execution_count": 18,
   "metadata": {
    "ExecuteTime": {
     "end_time": "2018-08-24T16:13:00.883304Z",
     "start_time": "2018-08-24T16:12:46.026843Z"
    }
   },
   "outputs": [],
   "source": [
    "!grep \"protein2genome\" Olurida_v081.all.gff \\\n",
    "> Olurida_v081.protein2genome.gff"
   ]
  },
  {
   "cell_type": "code",
   "execution_count": 12,
   "metadata": {
    "ExecuteTime": {
     "end_time": "2018-08-24T15:35:54.508612Z",
     "start_time": "2018-08-24T15:35:39.543816Z"
    },
    "scrolled": true
   },
   "outputs": [
    {
     "name": "stdout",
     "output_type": "stream",
     "text": [
      "Contig56127\trepeatmasker\tmatch\t11017\t11050\t14\t+\t.\tID=Contig56127:hit:92:1.3.0.0;Name=species:%28TTTG%29n|genus:Simple_repeat;Target=species:%28TTTG%29n|genus:Simple_repeat 1 35 +\r\n",
      "Contig56127\trepeatmasker\tmatch_part\t11017\t11050\t14\t+\t.\tID=Contig56127:hsp:189:1.3.0.0;Parent=Contig56127:hit:92:1.3.0.0;Target=species:%2528TTTG%2529n|genus:Simple_repeat 1 35 +\r\n",
      "Contig56127\trepeatmasker\tmatch\t5198\t5224\t12\t+\t.\tID=Contig56127:hit:93:1.3.0.0;Name=species:%28ACAA%29n|genus:Simple_repeat;Target=species:%28ACAA%29n|genus:Simple_repeat 1 28 +\r\n",
      "Contig56127\trepeatmasker\tmatch_part\t5198\t5224\t12\t+\t.\tID=Contig56127:hsp:190:1.3.0.0;Parent=Contig56127:hit:93:1.3.0.0;Target=species:%2528ACAA%2529n|genus:Simple_repeat 1 28 +\r\n",
      "Contig56127\trepeatmasker\tmatch\t11011\t11016\t15\t+\t.\tID=Contig56127:hit:94:1.3.0.0;Name=species:%28TGAGTTTG%29n|genus:Simple_repeat;Target=species:%28TGAGTTTG%29n|genus:Simple_repeat 1 40 +\r\n",
      "Contig56127\trepeatmasker\tmatch_part\t11011\t11016\t15\t+\t.\tID=Contig56127:hsp:191:1.3.0.0;Parent=Contig56127:hit:94:1.3.0.0;Target=species:%2528TGAGTTTG%2529n|genus:Simple_repeat 1 40 +\r\n",
      "Contig81695\trepeatmasker\tmatch\t10339\t10384\t13\t+\t.\tID=Contig81695:hit:10:1.3.0.0;Name=species:%28TTTAATG%29n|genus:Simple_repeat;Target=species:%28TTTAATG%29n|genus:Simple_repeat 1 45 +\r\n",
      "Contig81695\trepeatmasker\tmatch_part\t10339\t10384\t13\t+\t.\tID=Contig81695:hsp:10:1.3.0.0;Parent=Contig81695:hit:10:1.3.0.0;Target=species:%2528TTTAATG%2529n|genus:Simple_repeat 1 45 +\r\n",
      "Contig81695\trepeatmasker\tmatch\t20970\t21006\t13\t+\t.\tID=Contig81695:hit:11:1.3.0.0;Name=species:%28TTTTC%29n|genus:Simple_repeat;Target=species:%28TTTTC%29n|genus:Simple_repeat 1 35 +\r\n",
      "Contig81695\trepeatmasker\tmatch_part\t20970\t21006\t13\t+\t.\tID=Contig81695:hsp:11:1.3.0.0;Parent=Contig81695:hit:11:1.3.0.0;Target=species:%2528TTTTC%2529n|genus:Simple_repeat 1 35 +\r\n"
     ]
    }
   ],
   "source": [
    "!grep \"repeatmasker\" Olurida_v081.all.gff | head"
   ]
  },
  {
   "cell_type": "code",
   "execution_count": 23,
   "metadata": {
    "ExecuteTime": {
     "end_time": "2018-08-24T16:27:32.948837Z",
     "start_time": "2018-08-24T16:27:17.926238Z"
    }
   },
   "outputs": [],
   "source": [
    "!grep \"repeatmasker\" Olurida_v081.all.gff \\\n",
    "> Olurida_v081.repeatmasker.gff"
   ]
  },
  {
   "cell_type": "code",
   "execution_count": 13,
   "metadata": {
    "ExecuteTime": {
     "end_time": "2018-08-24T15:36:10.217870Z",
     "start_time": "2018-08-24T15:35:54.516690Z"
    },
    "collapsed": true
   },
   "outputs": [
    {
     "name": "stdout",
     "output_type": "stream",
     "text": [
      "Contig189177\trepeatrunner\tprotein_match\t5121\t5402\t170\t-\t.\tID=Contig189177:hit:13:1.3.0.0;Name=gi|464864|sp|P35072|TC1A_CAEBR;Target=gi|464864|sp|P35072|TC1A_CAEBR 182 273 +\r\n",
      "Contig189177\trepeatrunner\tmatch_part\t5121\t5402\t170\t-\t.\tID=Contig189177:hsp:13:1.3.0.0;Parent=Contig189177:hit:13:1.3.0.0;Target=gi|464864|sp|P35072|TC1A_CAEBR 182 273 +\r\n",
      "Contig96870\trepeatrunner\tprotein_match\t24\t164\t119\t-\t.\tID=Contig96870:hit:1:1.3.0.0;Name=gi|20136450|gb|AAM11674.1|AF492764_2;Target=gi|20136450|gb|AAM11674.1|AF492764_2 512 558 +\r\n",
      "Contig96870\trepeatrunner\tmatch_part\t24\t164\t119\t-\t.\tID=Contig96870:hsp:1:1.3.0.0;Parent=Contig96870:hit:1:1.3.0.0;Target=gi|20136450|gb|AAM11674.1|AF492764_2 512 558 +\r\n",
      "Contig96870\trepeatrunner\tprotein_match\t652\t1243\t147\t-\t.\tID=Contig96870:hit:2:1.3.0.0;Name=gi|13559337|dbj|BAB40830.1|;Target=gi|13559337|dbj|BAB40830.1| 34 135 +\r\n",
      "Contig96870\trepeatrunner\tmatch_part\t652\t1243\t147\t-\t.\tID=Contig96870:hsp:2:1.3.0.0;Parent=Contig96870:hit:2:1.3.0.0;Target=gi|13559337|dbj|BAB40830.1| 34 135 +\r\n",
      "Contig107847\trepeatrunner\tprotein_match\t840\t1463\t274\t-\t.\tID=Contig107847:hit:31:1.3.0.0;Name=gi|3004480|emb|CAA12932.1|;Target=gi|3004480|emb|CAA12932.1| 61 194 +\r\n",
      "Contig107847\trepeatrunner\tmatch_part\t840\t1463\t274\t-\t.\tID=Contig107847:hsp:52:1.3.0.0;Parent=Contig107847:hit:31:1.3.0.0;Target=gi|3004480|emb|CAA12932.1| 61 194 +\r\n",
      "Contig138053\trepeatrunner\tprotein_match\t5709\t6037\t76\t+\t.\tID=Contig138053:hit:2471:1.3.0.0;Name=gi|4512247|dbj|BAA75238.1|;Target=gi|4512247|dbj|BAA75238.1| 122 188 +\r\n",
      "Contig138053\trepeatrunner\tmatch_part\t5709\t6037\t76\t+\t.\tID=Contig138053:hsp:5399:1.3.0.0;Parent=Contig138053:hit:2471:1.3.0.0;Target=gi|4512247|dbj|BAA75238.1| 122 188 +\r\n"
     ]
    }
   ],
   "source": [
    "!grep \"repeatrunner\" Olurida_v081.all.gff | head"
   ]
  },
  {
   "cell_type": "code",
   "execution_count": 22,
   "metadata": {
    "ExecuteTime": {
     "end_time": "2018-08-24T16:27:17.915513Z",
     "start_time": "2018-08-24T16:26:58.858808Z"
    }
   },
   "outputs": [],
   "source": [
    "!grep \"repeatrunner\" Olurida_v081.all.gff \\\n",
    "> Olurida_v081.repeatrunner.gff"
   ]
  },
  {
   "cell_type": "markdown",
   "metadata": {},
   "source": [
    "# Indexing Genome and Tracks"
   ]
  },
  {
   "cell_type": "code",
   "execution_count": 21,
   "metadata": {
    "ExecuteTime": {
     "end_time": "2018-08-24T16:25:52.984284Z",
     "start_time": "2018-08-24T16:20:27.445020Z"
    }
   },
   "outputs": [
    {
     "name": "stdout",
     "output_type": "stream",
     "text": [
      "INFO [2018-08-24 09:20:28,029]  [FastaUtils.java:66] [main]  Creating index file at /Volumes/web/halfshell/genomic-databank/Olurida_v081.fa.fai\n",
      "Creating index file at /Volumes/web/halfshell/genomic-databank/Olurida_v081.fa.fai\n",
      "Done\n"
     ]
    }
   ],
   "source": [
    "!/Applications/bioinfo/IGVTools/igvtools \\\n",
    "index \\\n",
    "/Volumes/web/halfshell/genomic-databank/Olurida_v081.fa"
   ]
  },
  {
   "cell_type": "code",
   "execution_count": 32,
   "metadata": {
    "ExecuteTime": {
     "end_time": "2018-08-24T16:40:44.835030Z",
     "start_time": "2018-08-24T16:40:44.286356Z"
    }
   },
   "outputs": [
    {
     "name": "stdout",
     "output_type": "stream",
     "text": [
      "Command \"sort\"\r\n",
      "---------------------------------------------------------------------------\r\n",
      "\r\n",
      "Sorts the input file by start position. This command supports the following\r\n",
      "file formats:  .bed, .gff, .cn, .igv, .sam, and .bam files\r\n",
      "\r\n",
      "\r\n",
      "Usage:\r\n",
      "\r\n",
      "  igvtools  sort [options] [inputFile]  [outputFile]\r\n",
      "\r\n",
      "The special string \"stdout\" can be used as [outputFile], in which case the output will\r\n",
      "be written to the standard output stream instead of a file.\r\n",
      "\r\n",
      "Options:\r\n",
      "\r\n",
      "  -t, --tmpDir tmpdir  Specify a temporary working directory.  For large input files\r\n",
      "             this directory will be used to store intermediate results of\r\n",
      "             the sort. The default is the users temp directory.\r\n",
      "\r\n",
      "  -m, --maxRecords number  The maximum number of records to keep in memory during the\r\n",
      "             sort.  The default value is 500000.  Increase this number\r\n",
      "             if you receive \"too many open files\" errors.   Decrease it\r\n",
      "             if you experience \"out of memory\" errors.\r\n",
      "\r\n",
      "\r\n",
      "---------------------------------------------------------------------------\r\n",
      "See http://www.broadinstitute.org/software/igv/igvtools_commandline, or igvtools_readme.txt, for more help\r\n",
      "\r\n",
      "Done\r\n"
     ]
    }
   ],
   "source": [
    "!/Applications/bioinfo/IGVTools/igvtools \\\n",
    "help sort\n"
   ]
  },
  {
   "cell_type": "code",
   "execution_count": 3,
   "metadata": {
    "ExecuteTime": {
     "end_time": "2018-10-10T18:58:49.826895Z",
     "start_time": "2018-10-10T18:53:08.079399Z"
    }
   },
   "outputs": [
    {
     "name": "stdout",
     "output_type": "stream",
     "text": [
      "Sorting /Users/sr320/Desktop/Olurida_v081.all.gff  -> /Users/sr320/Desktop/Olurida_v081.all.sorted.gff\n",
      "Snappy is disabled via system property.\n",
      "Done\n"
     ]
    }
   ],
   "source": [
    "!/Applications/bioinfo/IGVTools/igvtools \\\n",
    "sort \\\n",
    "/Users/sr320/Desktop/Olurida_v081.all.gff \\\n",
    "/Users/sr320/Desktop/Olurida_v081.all.sorted.gff\n"
   ]
  },
  {
   "cell_type": "code",
   "execution_count": 4,
   "metadata": {
    "ExecuteTime": {
     "end_time": "2018-10-10T18:59:20.905395Z",
     "start_time": "2018-10-10T18:58:49.835380Z"
    }
   },
   "outputs": [
    {
     "name": "stdout",
     "output_type": "stream",
     "text": [
      "Done\r\n"
     ]
    }
   ],
   "source": [
    "!/Applications/bioinfo/IGVTools/igvtools \\\n",
    "index \\\n",
    "/Users/sr320/Desktop/Olurida_v081.all.sorted.gff"
   ]
  },
  {
   "cell_type": "code",
   "execution_count": 5,
   "metadata": {
    "ExecuteTime": {
     "end_time": "2018-10-10T18:59:21.044167Z",
     "start_time": "2018-10-10T18:59:20.909709Z"
    }
   },
   "outputs": [
    {
     "name": "stdout",
     "output_type": "stream",
     "text": [
      "/Users/sr320/Desktop/Olurida_v081.all.gff\r\n",
      "/Users/sr320/Desktop/Olurida_v081.all.sorted.gff\r\n",
      "/Users/sr320/Desktop/Olurida_v081.all.sorted.gff.idx\r\n"
     ]
    }
   ],
   "source": [
    "!ls /Users/sr320/Desktop/O*"
   ]
  },
  {
   "cell_type": "code",
   "execution_count": null,
   "metadata": {},
   "outputs": [],
   "source": [
    "!cp /Users/sr320/Desktop/O* /Volumes/web/halfshell/genomic-databank/"
   ]
  },
  {
   "cell_type": "code",
   "execution_count": 36,
   "metadata": {
    "ExecuteTime": {
     "end_time": "2018-08-24T16:50:13.469357Z",
     "start_time": "2018-08-24T16:48:43.551882Z"
    }
   },
   "outputs": [
    {
     "name": "stdout",
     "output_type": "stream",
     "text": [
      "238668 ###\n",
      "   1 ##gff-version 3\n",
      "150262 .\n",
      "893927 blastn\n",
      "3171884 blastx\n",
      "834689 est2genome\n",
      "1233044 protein2genome\n",
      "599982 repeatmasker\n",
      "5908 repeatrunner\n"
     ]
    }
   ],
   "source": [
    "!cut -f2 Olurida_v081.all.gff | sort | uniq -c\n",
    "\n"
   ]
  },
  {
   "cell_type": "code",
   "execution_count": 38,
   "metadata": {
    "ExecuteTime": {
     "end_time": "2018-08-24T16:52:00.618156Z",
     "start_time": "2018-08-24T16:51:24.179725Z"
    }
   },
   "outputs": [
    {
     "name": "stdout",
     "output_type": "stream",
     "text": [
      "Sorting /Users/sr320/Desktop/Olurida_v081.blastn.gff  -> /Users/sr320/Desktop/Olurida_v081.blastn.sorted.gff\n",
      "Snappy is disabled via system property.\n",
      "Done\n"
     ]
    }
   ],
   "source": [
    "!/Applications/bioinfo/IGVTools/igvtools \\\n",
    "sort \\\n",
    "/Users/sr320/Desktop/Olurida_v081.blastn.gff \\\n",
    "/Users/sr320/Desktop/Olurida_v081.blastn.sorted.gff"
   ]
  },
  {
   "cell_type": "code",
   "execution_count": 39,
   "metadata": {
    "ExecuteTime": {
     "end_time": "2018-08-24T16:53:56.510531Z",
     "start_time": "2018-08-24T16:52:00.624539Z"
    }
   },
   "outputs": [
    {
     "name": "stdout",
     "output_type": "stream",
     "text": [
      "Sorting /Users/sr320/Desktop/Olurida_v081.blastx.gff  -> /Users/sr320/Desktop/Olurida_v081.blastx.sorted.gff\n",
      "Snappy is disabled via system property.\n",
      "Done\n"
     ]
    }
   ],
   "source": [
    "!/Applications/bioinfo/IGVTools/igvtools \\\n",
    "sort \\\n",
    "/Users/sr320/Desktop/Olurida_v081.blastx.gff \\\n",
    "/Users/sr320/Desktop/Olurida_v081.blastx.sorted.gff"
   ]
  },
  {
   "cell_type": "code",
   "execution_count": 40,
   "metadata": {
    "ExecuteTime": {
     "end_time": "2018-08-24T16:54:26.562393Z",
     "start_time": "2018-08-24T16:53:56.515320Z"
    }
   },
   "outputs": [
    {
     "name": "stdout",
     "output_type": "stream",
     "text": [
      "Sorting /Users/sr320/Desktop/Olurida_v081.est2genome.gff  -> /Users/sr320/Desktop/Olurida_v081.est2genome.sorted.gff\n",
      "Snappy is disabled via system property.\n",
      "Done\n"
     ]
    }
   ],
   "source": [
    "!/Applications/bioinfo/IGVTools/igvtools \\\n",
    "sort \\\n",
    "/Users/sr320/Desktop/Olurida_v081.est2genome.gff \\\n",
    "/Users/sr320/Desktop/Olurida_v081.est2genome.sorted.gff"
   ]
  },
  {
   "cell_type": "code",
   "execution_count": 41,
   "metadata": {
    "ExecuteTime": {
     "end_time": "2018-08-24T16:55:08.632287Z",
     "start_time": "2018-08-24T16:54:26.571257Z"
    }
   },
   "outputs": [
    {
     "name": "stdout",
     "output_type": "stream",
     "text": [
      "Sorting /Users/sr320/Desktop/Olurida_v081.protein2genome.gff  -> /Users/sr320/Desktop/Olurida_v081.protein2genome.sorted.gff\n",
      "Snappy is disabled via system property.\n",
      "Done\n"
     ]
    }
   ],
   "source": [
    "!/Applications/bioinfo/IGVTools/igvtools \\\n",
    "sort \\\n",
    "/Users/sr320/Desktop/Olurida_v081.protein2genome.gff \\\n",
    "/Users/sr320/Desktop/Olurida_v081.protein2genome.sorted.gff"
   ]
  },
  {
   "cell_type": "code",
   "execution_count": 42,
   "metadata": {
    "ExecuteTime": {
     "end_time": "2018-08-24T16:55:41.372180Z",
     "start_time": "2018-08-24T16:55:08.636868Z"
    }
   },
   "outputs": [
    {
     "name": "stdout",
     "output_type": "stream",
     "text": [
      "Sorting /Users/sr320/Desktop/Olurida_v081.repeatmasker.gff  -> /Users/sr320/Desktop/Olurida_v081.repeatmasker.sorted.gff\n",
      "Snappy is disabled via system property.\n",
      "Done\n"
     ]
    }
   ],
   "source": [
    "!/Applications/bioinfo/IGVTools/igvtools \\\n",
    "sort \\\n",
    "/Users/sr320/Desktop/Olurida_v081.repeatmasker.gff \\\n",
    "/Users/sr320/Desktop/Olurida_v081.repeatmasker.sorted.gff"
   ]
  },
  {
   "cell_type": "code",
   "execution_count": 43,
   "metadata": {
    "ExecuteTime": {
     "end_time": "2018-08-24T16:55:42.747718Z",
     "start_time": "2018-08-24T16:55:41.375681Z"
    }
   },
   "outputs": [
    {
     "name": "stdout",
     "output_type": "stream",
     "text": [
      "Sorting /Users/sr320/Desktop/Olurida_v081.repeatrunner.gff  -> /Users/sr320/Desktop/Olurida_v081.repeatrunner.sorted.gff\n",
      "Done\n"
     ]
    }
   ],
   "source": [
    "!/Applications/bioinfo/IGVTools/igvtools \\\n",
    "sort \\\n",
    "/Users/sr320/Desktop/Olurida_v081.repeatrunner.gff \\\n",
    "/Users/sr320/Desktop/Olurida_v081.repeatrunner.sorted.gff"
   ]
  },
  {
   "cell_type": "code",
   "execution_count": 45,
   "metadata": {
    "ExecuteTime": {
     "end_time": "2018-08-24T17:02:30.024636Z",
     "start_time": "2018-08-24T17:02:21.728526Z"
    }
   },
   "outputs": [
    {
     "name": "stdout",
     "output_type": "stream",
     "text": [
      "Done\r\n"
     ]
    }
   ],
   "source": [
    "!/Applications/bioinfo/IGVTools/igvtools \\\n",
    "index \\\n",
    "/Users/sr320/Desktop/Olurida_v081.blastn.sorted.gff"
   ]
  },
  {
   "cell_type": "code",
   "execution_count": 46,
   "metadata": {
    "ExecuteTime": {
     "end_time": "2018-08-24T17:02:55.599734Z",
     "start_time": "2018-08-24T17:02:36.597956Z"
    }
   },
   "outputs": [
    {
     "name": "stdout",
     "output_type": "stream",
     "text": [
      "Done\r\n"
     ]
    }
   ],
   "source": [
    "!/Applications/bioinfo/IGVTools/igvtools \\\n",
    "index \\\n",
    "/Users/sr320/Desktop/Olurida_v081.blastx.sorted.gff"
   ]
  },
  {
   "cell_type": "code",
   "execution_count": 47,
   "metadata": {
    "ExecuteTime": {
     "end_time": "2018-08-24T17:03:03.914492Z",
     "start_time": "2018-08-24T17:02:55.603029Z"
    }
   },
   "outputs": [
    {
     "name": "stdout",
     "output_type": "stream",
     "text": [
      "Done\r\n"
     ]
    }
   ],
   "source": [
    "!/Applications/bioinfo/IGVTools/igvtools \\\n",
    "index \\\n",
    "/Users/sr320/Desktop/Olurida_v081.est2genome.sorted.gff"
   ]
  },
  {
   "cell_type": "code",
   "execution_count": 48,
   "metadata": {
    "ExecuteTime": {
     "end_time": "2018-08-24T17:03:12.540483Z",
     "start_time": "2018-08-24T17:03:03.918202Z"
    }
   },
   "outputs": [
    {
     "name": "stdout",
     "output_type": "stream",
     "text": [
      "Done\r\n"
     ]
    }
   ],
   "source": [
    "!/Applications/bioinfo/IGVTools/igvtools \\\n",
    "index \\\n",
    "/Users/sr320/Desktop/Olurida_v081.protein2genome.sorted.gff"
   ]
  },
  {
   "cell_type": "code",
   "execution_count": 49,
   "metadata": {
    "ExecuteTime": {
     "end_time": "2018-08-24T17:03:24.037492Z",
     "start_time": "2018-08-24T17:03:18.208867Z"
    }
   },
   "outputs": [
    {
     "name": "stdout",
     "output_type": "stream",
     "text": [
      "Done\r\n"
     ]
    }
   ],
   "source": [
    "!/Applications/bioinfo/IGVTools/igvtools \\\n",
    "index \\\n",
    "/Users/sr320/Desktop/Olurida_v081.repeatmasker.sorted.gff"
   ]
  },
  {
   "cell_type": "code",
   "execution_count": 50,
   "metadata": {
    "ExecuteTime": {
     "end_time": "2018-08-24T17:03:31.449039Z",
     "start_time": "2018-08-24T17:03:30.591946Z"
    }
   },
   "outputs": [
    {
     "name": "stdout",
     "output_type": "stream",
     "text": [
      "Done\r\n"
     ]
    }
   ],
   "source": [
    "!/Applications/bioinfo/IGVTools/igvtools \\\n",
    "index \\\n",
    "/Users/sr320/Desktop/Olurida_v081.repeatrunner.sorted.gff"
   ]
  },
  {
   "cell_type": "code",
   "execution_count": null,
   "metadata": {},
   "outputs": [],
   "source": []
  },
  {
   "cell_type": "code",
   "execution_count": 44,
   "metadata": {
    "ExecuteTime": {
     "end_time": "2018-08-24T16:56:15.875142Z",
     "start_time": "2018-08-24T16:55:42.751615Z"
    }
   },
   "outputs": [
    {
     "name": "stdout",
     "output_type": "stream",
     "text": [
      "Done\r\n"
     ]
    }
   ],
   "source": [
    "!/Applications/bioinfo/IGVTools/igvtools \\\n",
    "index \\\n",
    "/Users/sr320/Desktop/*sorted.gff"
   ]
  },
  {
   "cell_type": "code",
   "execution_count": null,
   "metadata": {},
   "outputs": [],
   "source": []
  }
 ],
 "metadata": {
  "kernelspec": {
   "display_name": "Python 3",
   "language": "python",
   "name": "python3"
  },
  "language_info": {
   "codemirror_mode": {
    "name": "ipython",
    "version": 3
   },
   "file_extension": ".py",
   "mimetype": "text/x-python",
   "name": "python",
   "nbconvert_exporter": "python",
   "pygments_lexer": "ipython3",
   "version": "3.6.3"
  }
 },
 "nbformat": 4,
 "nbformat_minor": 2
}
