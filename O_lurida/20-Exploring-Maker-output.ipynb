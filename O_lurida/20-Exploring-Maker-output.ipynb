{
 "cells": [
  {
   "cell_type": "code",
   "execution_count": 2,
   "metadata": {
    "ExecuteTime": {
     "end_time": "2018-08-24T15:11:19.862891Z",
     "start_time": "2018-08-24T15:11:19.854935Z"
    }
   },
   "outputs": [
    {
     "name": "stdout",
     "output_type": "stream",
     "text": [
      "/Users/sr320/Desktop\n"
     ]
    }
   ],
   "source": [
    "cd /Users/sr320/Desktop/"
   ]
  },
  {
   "cell_type": "code",
   "execution_count": 3,
   "metadata": {
    "ExecuteTime": {
     "end_time": "2018-08-24T15:19:47.532110Z",
     "start_time": "2018-08-24T15:11:28.003541Z"
    }
   },
   "outputs": [
    {
     "name": "stdout",
     "output_type": "stream",
     "text": [
      "  % Total    % Received % Xferd  Average Speed   Time    Time     Time  Current\n",
      "                                 Dload  Upload   Total   Spent    Left  Speed\n",
      "100 1035M  100 1035M    0     0  2124k      0  0:08:19  0:08:19 --:--:-- 2313k 67.8M    0     0  2169k      0  0:08:08  0:00:32  0:07:36 2417k:23  0:06:19 1151k  0  1894k      0  0:09:19  0:02:48  0:06:31 1234k 34  362M    0     0  1951k      0  0:09:03  0:03:10  0:05:53 2375k38 1035M   38  394M    0     0  1962k      0  0:09:00  0:03:26  0:05:34 1956k  537M    0     0  2010k      0  0:08:47  0:04:34  0:04:13 2154k4  560M    0     0  2019k      0  0:08:44  0:04:44  0:04:00 2288k4  663M    0     0  2039k      0  0:08:39  0:05:33  0:03:06 2425k055k      0  0:08:35  0:05:51  0:02:44 2346k   85  886M    0     0  2092k      0  0:08:26  0:07:14  0:01:12 2430k87  910M    0     0  2099k      0  0:08:24  0:07:24  0:01:00 2433k 959M    0     0  2108k      0  0:08:22  0:07:46  0:00:36 2303k 1015M    0     0  2122k      0  0:08:19  0:08:10  0:00:09 2426k\n"
     ]
    }
   ],
   "source": [
    "!curl -O http://owl.fish.washington.edu/Athaliana/20180807_wqmaker_run_oly_02/Olurida_v081.all.gff"
   ]
  },
  {
   "cell_type": "code",
   "execution_count": 5,
   "metadata": {
    "ExecuteTime": {
     "end_time": "2018-08-24T15:28:57.909915Z",
     "start_time": "2018-08-24T15:28:57.773582Z"
    }
   },
   "outputs": [
    {
     "name": "stdout",
     "output_type": "stream",
     "text": [
      "##gff-version 3\r\n",
      "Contig56127\t.\tcontig\t1\t12532\t.\t.\t.\tID=Contig56127;Name=Contig56127\r\n",
      "###\r\n",
      "Contig56127\trepeatmasker\tmatch\t11017\t11050\t14\t+\t.\tID=Contig56127:hit:92:1.3.0.0;Name=species:%28TTTG%29n|genus:Simple_repeat;Target=species:%28TTTG%29n|genus:Simple_repeat 1 35 +\r\n",
      "Contig56127\trepeatmasker\tmatch_part\t11017\t11050\t14\t+\t.\tID=Contig56127:hsp:189:1.3.0.0;Parent=Contig56127:hit:92:1.3.0.0;Target=species:%2528TTTG%2529n|genus:Simple_repeat 1 35 +\r\n",
      "Contig56127\trepeatmasker\tmatch\t5198\t5224\t12\t+\t.\tID=Contig56127:hit:93:1.3.0.0;Name=species:%28ACAA%29n|genus:Simple_repeat;Target=species:%28ACAA%29n|genus:Simple_repeat 1 28 +\r\n",
      "Contig56127\trepeatmasker\tmatch_part\t5198\t5224\t12\t+\t.\tID=Contig56127:hsp:190:1.3.0.0;Parent=Contig56127:hit:93:1.3.0.0;Target=species:%2528ACAA%2529n|genus:Simple_repeat 1 28 +\r\n",
      "Contig56127\trepeatmasker\tmatch\t11011\t11016\t15\t+\t.\tID=Contig56127:hit:94:1.3.0.0;Name=species:%28TGAGTTTG%29n|genus:Simple_repeat;Target=species:%28TGAGTTTG%29n|genus:Simple_repeat 1 40 +\r\n",
      "Contig56127\trepeatmasker\tmatch_part\t11011\t11016\t15\t+\t.\tID=Contig56127:hsp:191:1.3.0.0;Parent=Contig56127:hit:94:1.3.0.0;Target=species:%2528TGAGTTTG%2529n|genus:Simple_repeat 1 40 +\r\n",
      "###\r\n"
     ]
    }
   ],
   "source": [
    "!head Olurida_v081.all.gff"
   ]
  },
  {
   "cell_type": "code",
   "execution_count": 6,
   "metadata": {
    "ExecuteTime": {
     "end_time": "2018-08-24T15:29:20.226203Z",
     "start_time": "2018-08-24T15:29:18.952930Z"
    }
   },
   "outputs": [
    {
     "name": "stdout",
     "output_type": "stream",
     "text": [
      " 7128365 Olurida_v081.all.gff\r\n"
     ]
    }
   ],
   "source": [
    "!wc -l Olurida_v081.all.gff"
   ]
  },
  {
   "cell_type": "code",
   "execution_count": null,
   "metadata": {},
   "outputs": [],
   "source": []
  }
 ],
 "metadata": {
  "kernelspec": {
   "display_name": "Python 3",
   "language": "python",
   "name": "python3"
  },
  "language_info": {
   "codemirror_mode": {
    "name": "ipython",
    "version": 3
   },
   "file_extension": ".py",
   "mimetype": "text/x-python",
   "name": "python",
   "nbconvert_exporter": "python",
   "pygments_lexer": "ipython3",
   "version": "3.6.3"
  }
 },
 "nbformat": 4,
 "nbformat_minor": 2
}
