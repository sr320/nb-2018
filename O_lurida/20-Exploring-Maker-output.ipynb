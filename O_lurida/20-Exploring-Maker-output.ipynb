{
 "cells": [
  {
   "cell_type": "code",
   "execution_count": 2,
   "metadata": {
    "ExecuteTime": {
     "end_time": "2018-08-24T15:11:19.862891Z",
     "start_time": "2018-08-24T15:11:19.854935Z"
    }
   },
   "outputs": [
    {
     "name": "stdout",
     "output_type": "stream",
     "text": [
      "/Users/sr320/Desktop\n"
     ]
    }
   ],
   "source": [
    "cd /Users/sr320/Desktop/"
   ]
  },
  {
   "cell_type": "code",
   "execution_count": null,
   "metadata": {
    "ExecuteTime": {
     "start_time": "2018-08-24T15:11:27.999Z"
    }
   },
   "outputs": [
    {
     "name": "stdout",
     "output_type": "stream",
     "text": [
      "  % Total    % Received % Xferd  Average Speed   Time    Time     Time  Current\n",
      "                                 Dload  Upload   Total   Spent    Left  Speed\n",
      " 79 1035M   79  826M    0     0  2074k      0  0:08:31  0:06:48  0:01:43 2277k 67.8M    0     0  2169k      0  0:08:08  0:00:32  0:07:36 2417k:23  0:06:19 1151k  0  1894k      0  0:09:19  0:02:48  0:06:31 1234k 34  362M    0     0  1951k      0  0:09:03  0:03:10  0:05:53 2375k38 1035M   38  394M    0     0  1962k      0  0:09:00  0:03:26  0:05:34 1956k  537M    0     0  2010k      0  0:08:47  0:04:34  0:04:13 2154k4  560M    0     0  2019k      0  0:08:44  0:04:44  0:04:00 2288k4  663M    0     0  2039k      0  0:08:39  0:05:33  0:03:06 2425k055k      0  0:08:35  0:05:51  0:02:44 2346k"
     ]
    }
   ],
   "source": [
    "!curl -O http://owl.fish.washington.edu/Athaliana/20180807_wqmaker_run_oly_02/Olurida_v081.all.gff"
   ]
  },
  {
   "cell_type": "code",
   "execution_count": null,
   "metadata": {},
   "outputs": [],
   "source": []
  }
 ],
 "metadata": {
  "kernelspec": {
   "display_name": "Python 3",
   "language": "python",
   "name": "python3"
  },
  "language_info": {
   "codemirror_mode": {
    "name": "ipython",
    "version": 3
   },
   "file_extension": ".py",
   "mimetype": "text/x-python",
   "name": "python",
   "nbconvert_exporter": "python",
   "pygments_lexer": "ipython3",
   "version": "3.6.3"
  }
 },
 "nbformat": 4,
 "nbformat_minor": 2
}
