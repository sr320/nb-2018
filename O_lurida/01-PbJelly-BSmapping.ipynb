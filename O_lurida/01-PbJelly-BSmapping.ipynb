{
 "cells": [
  {
   "cell_type": "code",
   "execution_count": 1,
   "metadata": {
    "collapsed": true
   },
   "outputs": [],
   "source": [
    "mkdir /Volumes/Serine/wd/18-01-25b"
   ]
  },
  {
   "cell_type": "code",
   "execution_count": 2,
   "metadata": {},
   "outputs": [
    {
     "name": "stdout",
     "output_type": "stream",
     "text": [
      "/Volumes/Serine/wd/18-01-25b\n"
     ]
    }
   ],
   "source": [
    "cd /Volumes/Serine/wd/18-01-25b"
   ]
  },
  {
   "cell_type": "code",
   "execution_count": 3,
   "metadata": {},
   "outputs": [
    {
     "name": "stdout",
     "output_type": "stream",
     "text": [
      "  % Total    % Received % Xferd  Average Speed   Time    Time     Time  Current\n",
      "                                 Dload  Upload   Total   Spent    Left  Speed\n",
      "100 1204M  100 1204M    0     0  33.0M      0  0:00:36  0:00:36 --:--:-- 47.0M0:39  0:00:26  0:00:13 47.9M0:00:30  0:00:09 31.7M\n"
     ]
    }
   ],
   "source": [
    "!curl -O http://owl.fish.washington.edu/Athaliana/20171130_oly_pbjelly/jelly.out.fasta"
   ]
  },
  {
   "cell_type": "code",
   "execution_count": 5,
   "metadata": {},
   "outputs": [],
   "source": [
    "cp /Volumes/web-1/halfshell/bu-alanine-wd/17-11-03/zr_1-sub001.fastq ."
   ]
  },
  {
   "cell_type": "code",
   "execution_count": 6,
   "metadata": {},
   "outputs": [
    {
     "name": "stdout",
     "output_type": "stream",
     "text": [
      "jelly.out.fasta    zr_1-sub001.fastq\r\n"
     ]
    }
   ],
   "source": [
    "ls"
   ]
  },
  {
   "cell_type": "code",
   "execution_count": 7,
   "metadata": {
    "collapsed": true
   },
   "outputs": [],
   "source": [
    "!/Applications/bioinfo/BSMAP/bsmap-2.74/bsmap \\\n",
    "-a zr_1-sub001.fastq \\\n",
    "-d jelly.out.fasta \\\n",
    "-o bsmap_out_jelly.sam \\\n",
    "-p 5 \\\n",
    "2> stderr_bsmap_jelly.txt"
   ]
  },
  {
   "cell_type": "code",
   "execution_count": 8,
   "metadata": {},
   "outputs": [
    {
     "name": "stdout",
     "output_type": "stream",
     "text": [
      "Thread #2: \t500000 reads finished. 3649 secs passed\r\n",
      "Thread #2: \t725000 reads finished. 4537 secs passed\r\n",
      "Thread #4: \t550000 reads finished. 5180 secs passed\r\n",
      "Thread #0: \t650000 reads finished. 5196 secs passed\r\n",
      "Thread #3: \t600000 reads finished. 5196 secs passed\r\n",
      "Thread #1: \t700000 reads finished. 5198 secs passed\r\n",
      "Total number of aligned reads: 46486 (6.4%)\r\n",
      "Done.\r\n",
      "Finished at Thu Jan 25 07:37:54 2018\r\n",
      "Total time consumed:  5198 secs\r\n"
     ]
    }
   ],
   "source": [
    "!tail stderr_bsmap_jelly.txt"
   ]
  },
  {
   "cell_type": "code",
   "execution_count": null,
   "metadata": {
    "collapsed": true
   },
   "outputs": [],
   "source": [
    "/Volumes/Serine/wd/18-01-25b/jelly-10k.fasta"
   ]
  },
  {
   "cell_type": "code",
   "execution_count": 9,
   "metadata": {
    "collapsed": true
   },
   "outputs": [],
   "source": [
    "!/Applications/bioinfo/BSMAP/bsmap-2.74/bsmap \\\n",
    "-a zr_1-sub001.fastq \\\n",
    "-d jelly-10k.fasta \\\n",
    "-o bsmap_out_jelly-10k.sam \\\n",
    "-p 8 \\\n",
    "2> stderr_bsmap_jelly-10k.txt"
   ]
  },
  {
   "cell_type": "code",
   "execution_count": 10,
   "metadata": {},
   "outputs": [
    {
     "name": "stdout",
     "output_type": "stream",
     "text": [
      "Thread #2: \t500000 reads finished. 300 secs passed\r\n",
      "Thread #4: \t450000 reads finished. 300 secs passed\r\n",
      "Thread #5: \t550000 reads finished. 301 secs passed\r\n",
      "Thread #0: \t650000 reads finished. 301 secs passed\r\n",
      "Thread #3: \t600000 reads finished. 301 secs passed\r\n",
      "Thread #1: \t700000 reads finished. 301 secs passed\r\n",
      "Total number of aligned reads: 34616 (4.8%)\r\n",
      "Done.\r\n",
      "Finished at Thu Jan 25 07:47:06 2018\r\n",
      "Total time consumed:  301 secs\r\n"
     ]
    }
   ],
   "source": [
    "!tail stderr_bsmap_jelly-10k.txt"
   ]
  },
  {
   "cell_type": "code",
   "execution_count": 11,
   "metadata": {},
   "outputs": [
    {
     "name": "stdout",
     "output_type": "stream",
     "text": [
      "Thread #3: \t500000 reads finished. 536 secs passed\r\n",
      "Thread #1: \t550000 reads finished. 537 secs passed\r\n",
      "Thread #4: \t450000 reads finished. 539 secs passed\r\n",
      "Thread #6: \t600000 reads finished. 540 secs passed\r\n",
      "Thread #7: \t650000 reads finished. 540 secs passed\r\n",
      "Thread #2: \t700000 reads finished. 540 secs passed\r\n",
      "Total number of aligned reads: 33848 (4.7%)\r\n",
      "Done.\r\n",
      "Finished at Thu Jan 25 07:56:07 2018\r\n",
      "Total time consumed:  540 secs\r\n"
     ]
    }
   ],
   "source": [
    "!/Applications/bioinfo/BSMAP/bsmap-2.74/bsmap \\\n",
    "-a zr_1-sub001.fastq \\\n",
    "-d jelly-5k.fasta \\\n",
    "-o bsmap_out_jelly-5k.sam \\\n",
    "-p 8 \\\n",
    "2> stderr_bsmap_jelly-5k.txt\n",
    "!tail stderr_bsmap_jelly-5k.txt"
   ]
  },
  {
   "cell_type": "code",
   "execution_count": null,
   "metadata": {
    "collapsed": true
   },
   "outputs": [],
   "source": []
  }
 ],
 "metadata": {
  "kernelspec": {
   "display_name": "Python 3",
   "language": "python",
   "name": "python3"
  },
  "language_info": {
   "codemirror_mode": {
    "name": "ipython",
    "version": 3
   },
   "file_extension": ".py",
   "mimetype": "text/x-python",
   "name": "python",
   "nbconvert_exporter": "python",
   "pygments_lexer": "ipython3",
   "version": "3.6.3"
  }
 },
 "nbformat": 4,
 "nbformat_minor": 1
}
